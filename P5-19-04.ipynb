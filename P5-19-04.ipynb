{
 "cells": [
  {
   "cell_type": "code",
   "execution_count": 1,
   "metadata": {},
   "outputs": [],
   "source": [
    "# tables\n",
    "import pandas as pd\n",
    "import numpy as np\n",
    "# graphics\n",
    "import seaborn as sns\n",
    "import matplotlib.pyplot as plt\n",
    "\n",
    "#Preprocecing\n",
    "from nltk.corpus import stopwords\n",
    "import nltk\n",
    "import collections\n",
    "import re\n",
    "from bs4 import BeautifulSoup\n",
    "\n",
    "#LDA\n",
    "from sklearn.feature_extraction.text import TfidfVectorizer\n",
    "from sklearn.decomposition import LatentDirichletAllocation as LDA\n",
    "\n",
    "#gensim\n",
    "import gensim.corpora as corpora\n",
    "from gensim.models import CoherenceModel\n",
    "import gensim\n",
    "\n",
    "#essai\n",
    "from sklearn.decomposition import PCA\n",
    "from sklearn.manifold import TSNE\n",
    "import matplotlib.cm as cm\n",
    "from sklearn.cluster import MiniBatchKMeans\n",
    "\n",
    "#Supervisée\n",
    "from sklearn.datasets import make_multilabel_classification\n",
    "from sklearn.multioutput import MultiOutputClassifier\n",
    "from sklearn.neighbors import KNeighborsClassifier\n",
    "\n",
    "from sklearn.model_selection import train_test_split\n",
    "\n",
    "from sklearn.multiclass import OneVsRestClassifier\n",
    "from sklearn.preprocessing import MultiLabelBinarizer\n",
    "\n",
    "#models\n",
    "from sklearn.svm import LinearSVC\n",
    "from sklearn.ensemble import RandomForestClassifier, GradientBoostingClassifier\n",
    "from sklearn.linear_model import Perceptron, LogisticRegression, SGDClassifier\n",
    "\n",
    "#metrics\n",
    "from sklearn.metrics import hamming_loss,accuracy_score, classification_report,jaccard_score,f1_score\n",
    "\n",
    "#GridSearchCV\n",
    "from time import time\n",
    "from sklearn.pipeline import Pipeline\n",
    "from sklearn.model_selection import GridSearchCV\n",
    "\n",
    "import pyLDAvis\n",
    "import pyLDAvis.gensim_models\n",
    "import pyLDAvis.sklearn\n",
    "pyLDAvis.enable_notebook()\n",
    "\n",
    "#On ignore les DeprecationWarning car un souci lié à pyLDAvis en affiche beaucoup \n",
    "#mais mon mentor et moi meme n'avons pas réussi à résoudre le problème.\n",
    "import warnings\n",
    "warnings.filterwarnings(\"ignore\", category=DeprecationWarning)"
   ]
  },
  {
   "cell_type": "markdown",
   "metadata": {},
   "source": [
    "# Score > 80"
   ]
  },
  {
   "cell_type": "code",
   "execution_count": 2,
   "metadata": {},
   "outputs": [],
   "source": [
    "df=pd.read_csv(\"QueryResults_1.csv\", sep=',',encoding = 'UTF-8')\n",
    "df=df.append(pd.read_csv(\"QueryResults_2.csv\", sep=',',encoding = 'UTF-8'),ignore_index = True)"
   ]
  },
  {
   "cell_type": "code",
   "execution_count": 3,
   "metadata": {},
   "outputs": [
    {
     "data": {
      "text/html": [
       "<div>\n",
       "<style scoped>\n",
       "    .dataframe tbody tr th:only-of-type {\n",
       "        vertical-align: middle;\n",
       "    }\n",
       "\n",
       "    .dataframe tbody tr th {\n",
       "        vertical-align: top;\n",
       "    }\n",
       "\n",
       "    .dataframe thead th {\n",
       "        text-align: right;\n",
       "    }\n",
       "</style>\n",
       "<table border=\"1\" class=\"dataframe\">\n",
       "  <thead>\n",
       "    <tr style=\"text-align: right;\">\n",
       "      <th></th>\n",
       "      <th>Id</th>\n",
       "      <th>Body</th>\n",
       "      <th>Title</th>\n",
       "      <th>Tags</th>\n",
       "    </tr>\n",
       "  </thead>\n",
       "  <tbody>\n",
       "    <tr>\n",
       "      <th>0</th>\n",
       "      <td>4</td>\n",
       "      <td>&lt;p&gt;I want to use a &lt;code&gt;Track-Bar&lt;/code&gt; to c...</td>\n",
       "      <td>How to convert a Decimal to a Double in C#?</td>\n",
       "      <td>&lt;c#&gt;&lt;floating-point&gt;&lt;type-conversion&gt;&lt;double&gt;&lt;...</td>\n",
       "    </tr>\n",
       "    <tr>\n",
       "      <th>1</th>\n",
       "      <td>6</td>\n",
       "      <td>&lt;p&gt;I have an absolutely positioned &lt;code&gt;div&lt;/...</td>\n",
       "      <td>Why did the width collapse in the percentage w...</td>\n",
       "      <td>&lt;html&gt;&lt;css&gt;&lt;internet-explorer-7&gt;</td>\n",
       "    </tr>\n",
       "    <tr>\n",
       "      <th>2</th>\n",
       "      <td>9</td>\n",
       "      <td>&lt;p&gt;Given a &lt;code&gt;DateTime&lt;/code&gt; representing ...</td>\n",
       "      <td>How do I calculate someone's age based on a Da...</td>\n",
       "      <td>&lt;c#&gt;&lt;.net&gt;&lt;datetime&gt;</td>\n",
       "    </tr>\n",
       "    <tr>\n",
       "      <th>3</th>\n",
       "      <td>11</td>\n",
       "      <td>&lt;p&gt;Given a specific &lt;code&gt;DateTime&lt;/code&gt; valu...</td>\n",
       "      <td>Calculate relative time in C#</td>\n",
       "      <td>&lt;c#&gt;&lt;datetime&gt;&lt;time&gt;&lt;datediff&gt;&lt;relative-time-s...</td>\n",
       "    </tr>\n",
       "    <tr>\n",
       "      <th>4</th>\n",
       "      <td>13</td>\n",
       "      <td>&lt;p&gt;Is there a standard way for a web server to...</td>\n",
       "      <td>Determine a user's timezone</td>\n",
       "      <td>&lt;html&gt;&lt;browser&gt;&lt;timezone&gt;&lt;user-agent&gt;&lt;timezone...</td>\n",
       "    </tr>\n",
       "    <tr>\n",
       "      <th>...</th>\n",
       "      <td>...</td>\n",
       "      <td>...</td>\n",
       "      <td>...</td>\n",
       "      <td>...</td>\n",
       "    </tr>\n",
       "    <tr>\n",
       "      <th>58898</th>\n",
       "      <td>60573595</td>\n",
       "      <td>&lt;p&gt;Every time I try &lt;code&gt;npm install&lt;/code&gt;. ...</td>\n",
       "      <td>`npm install` fails on node-gyp rebuild with `...</td>\n",
       "      <td>&lt;node.js&gt;&lt;npm&gt;&lt;terminal&gt;&lt;macos-catalina&gt;&lt;node-...</td>\n",
       "    </tr>\n",
       "    <tr>\n",
       "      <th>58899</th>\n",
       "      <td>60625906</td>\n",
       "      <td>&lt;p&gt;I am reading a book (&lt;a href=\"https://smile...</td>\n",
       "      <td>Why cast free's return value to void?</td>\n",
       "      <td>&lt;c&gt;&lt;casting&gt;&lt;free&gt;&lt;void&gt;&lt;legacy-code&gt;</td>\n",
       "    </tr>\n",
       "    <tr>\n",
       "      <th>58900</th>\n",
       "      <td>62950667</td>\n",
       "      <td>&lt;p&gt;We're currently migrating from Java 8 to Ja...</td>\n",
       "      <td>Is there any need to switch to modules when mi...</td>\n",
       "      <td>&lt;java&gt;&lt;java-11&gt;&lt;java-platform-module-system&gt;</td>\n",
       "    </tr>\n",
       "    <tr>\n",
       "      <th>58901</th>\n",
       "      <td>62969917</td>\n",
       "      <td>&lt;p&gt;All of a sudden, I am getting this build er...</td>\n",
       "      <td>How to fix \"unexpected element &lt;queries&gt; found...</td>\n",
       "      <td>&lt;android&gt;&lt;android-gradle-plugin&gt;&lt;android-manif...</td>\n",
       "    </tr>\n",
       "    <tr>\n",
       "      <th>58902</th>\n",
       "      <td>66930450</td>\n",
       "      <td>&lt;p&gt;I have a fairly complex maths library I'm w...</td>\n",
       "      <td>How can I make my class immune to the \"auto va...</td>\n",
       "      <td>&lt;c++&gt;&lt;copy-assignment&gt;</td>\n",
       "    </tr>\n",
       "  </tbody>\n",
       "</table>\n",
       "<p>58903 rows × 4 columns</p>\n",
       "</div>"
      ],
      "text/plain": [
       "             Id                                               Body  \\\n",
       "0             4  <p>I want to use a <code>Track-Bar</code> to c...   \n",
       "1             6  <p>I have an absolutely positioned <code>div</...   \n",
       "2             9  <p>Given a <code>DateTime</code> representing ...   \n",
       "3            11  <p>Given a specific <code>DateTime</code> valu...   \n",
       "4            13  <p>Is there a standard way for a web server to...   \n",
       "...         ...                                                ...   \n",
       "58898  60573595  <p>Every time I try <code>npm install</code>. ...   \n",
       "58899  60625906  <p>I am reading a book (<a href=\"https://smile...   \n",
       "58900  62950667  <p>We're currently migrating from Java 8 to Ja...   \n",
       "58901  62969917  <p>All of a sudden, I am getting this build er...   \n",
       "58902  66930450  <p>I have a fairly complex maths library I'm w...   \n",
       "\n",
       "                                                   Title  \\\n",
       "0            How to convert a Decimal to a Double in C#?   \n",
       "1      Why did the width collapse in the percentage w...   \n",
       "2      How do I calculate someone's age based on a Da...   \n",
       "3                          Calculate relative time in C#   \n",
       "4                            Determine a user's timezone   \n",
       "...                                                  ...   \n",
       "58898  `npm install` fails on node-gyp rebuild with `...   \n",
       "58899              Why cast free's return value to void?   \n",
       "58900  Is there any need to switch to modules when mi...   \n",
       "58901  How to fix \"unexpected element <queries> found...   \n",
       "58902  How can I make my class immune to the \"auto va...   \n",
       "\n",
       "                                                    Tags  \n",
       "0      <c#><floating-point><type-conversion><double><...  \n",
       "1                       <html><css><internet-explorer-7>  \n",
       "2                                   <c#><.net><datetime>  \n",
       "3      <c#><datetime><time><datediff><relative-time-s...  \n",
       "4      <html><browser><timezone><user-agent><timezone...  \n",
       "...                                                  ...  \n",
       "58898  <node.js><npm><terminal><macos-catalina><node-...  \n",
       "58899              <c><casting><free><void><legacy-code>  \n",
       "58900       <java><java-11><java-platform-module-system>  \n",
       "58901  <android><android-gradle-plugin><android-manif...  \n",
       "58902                             <c++><copy-assignment>  \n",
       "\n",
       "[58903 rows x 4 columns]"
      ]
     },
     "execution_count": 3,
     "metadata": {},
     "output_type": "execute_result"
    }
   ],
   "source": [
    "df"
   ]
  },
  {
   "cell_type": "raw",
   "metadata": {},
   "source": [
    "Pour récuperer les données en SQL, j'ai fait le choix de conserver uniquement les questions n'ayant pas de valeurs manquantes dans Titre, Body et Tags et celles dont le nombre de vues est supérieur à 50000."
   ]
  },
  {
   "cell_type": "code",
   "execution_count": 4,
   "metadata": {},
   "outputs": [
    {
     "name": "stdout",
     "output_type": "stream",
     "text": [
      "Body\n",
      "(58903,)\n",
      "(58903,)\n",
      "Title\n",
      "(58903,)\n",
      "(58898,)\n",
      "Tags\n",
      "(58903,)\n",
      "(41457,)\n"
     ]
    }
   ],
   "source": [
    "print(\"Body\")\n",
    "print(df.Body.shape)\n",
    "print(df.Body.drop_duplicates().shape)\n",
    "print(\"Title\")\n",
    "print(df.Title.shape)\n",
    "print(df.Title.drop_duplicates().shape)\n",
    "print(\"Tags\")\n",
    "print(df.Tags.shape)\n",
    "print(df.Tags.drop_duplicates().shape)"
   ]
  },
  {
   "cell_type": "code",
   "execution_count": 5,
   "metadata": {},
   "outputs": [
    {
     "data": {
      "text/plain": [
       "(58903, 4)"
      ]
     },
     "execution_count": 5,
     "metadata": {},
     "output_type": "execute_result"
    }
   ],
   "source": [
    "df.shape"
   ]
  },
  {
   "cell_type": "code",
   "execution_count": 6,
   "metadata": {},
   "outputs": [],
   "source": [
    "df=df.drop(['Id'],axis=1).drop_duplicates()"
   ]
  },
  {
   "cell_type": "code",
   "execution_count": 7,
   "metadata": {},
   "outputs": [
    {
     "data": {
      "text/plain": [
       "(58903, 3)"
      ]
     },
     "execution_count": 7,
     "metadata": {},
     "output_type": "execute_result"
    }
   ],
   "source": [
    "df.shape"
   ]
  },
  {
   "cell_type": "markdown",
   "metadata": {},
   "source": [
    "# Prétraitement"
   ]
  },
  {
   "cell_type": "markdown",
   "metadata": {},
   "source": [
    "### Fonctions"
   ]
  },
  {
   "cell_type": "code",
   "execution_count": 8,
   "metadata": {},
   "outputs": [],
   "source": [
    "#fontion de 'tokenization' pour df.Title et df.Body\n",
    "def token(text):\n",
    "    text=re.sub('[^a-zA-Z0-9#+]', ' ',BeautifulSoup(text, \"lxml\").get_text() ).lower().split()\n",
    "    return text"
   ]
  },
  {
   "cell_type": "code",
   "execution_count": 9,
   "metadata": {},
   "outputs": [],
   "source": [
    "stop = stopwords.words('english')"
   ]
  },
  {
   "cell_type": "code",
   "execution_count": 10,
   "metadata": {},
   "outputs": [],
   "source": [
    "#fontion pour le 'stemming' et le suppression des stopwords pour df.Title et df.Body\n",
    "sno = nltk.stem.SnowballStemmer('english')\n",
    "def stemmer(s):\n",
    "    s = [sno.stem(word) for word in s if word not in (stop)]\n",
    "    return s"
   ]
  },
  {
   "cell_type": "markdown",
   "metadata": {},
   "source": [
    "## Body"
   ]
  },
  {
   "cell_type": "code",
   "execution_count": 11,
   "metadata": {},
   "outputs": [
    {
     "data": {
      "text/plain": [
       "'<p>I want to use a <code>Track-Bar</code> to change a <code>Form</code>\\'s opacity.</p>\\n<p>This is my code:</p>\\n<pre class=\"lang-cs prettyprint-override\"><code>decimal trans = trackBar1.Value / 5000;\\nthis.Opacity = trans;\\n</code></pre>\\n<p>When I build the application, it gives the following error:</p>\\n<blockquote>\\n<pre class=\"lang-none prettyprint-override\"><code>Cannot implicitly convert type decimal to double\\n</code></pre>\\n</blockquote>\\n<p>I have tried using <code>trans</code> and <code>double</code>, but then the <code>Control</code> doesn\\'t work. This code worked fine in a past VB.NET project.</p>\\n'"
      ]
     },
     "execution_count": 11,
     "metadata": {},
     "output_type": "execute_result"
    }
   ],
   "source": [
    "df.Body.iloc[0]"
   ]
  },
  {
   "cell_type": "code",
   "execution_count": 12,
   "metadata": {},
   "outputs": [],
   "source": [
    "df.Body=df.Body.map(token)"
   ]
  },
  {
   "cell_type": "code",
   "execution_count": 13,
   "metadata": {},
   "outputs": [
    {
     "data": {
      "text/plain": [
       "0        [i, want, to, use, a, track, bar, to, change, ...\n",
       "1        [i, have, an, absolutely, positioned, div, con...\n",
       "2        [given, a, datetime, representing, a, person, ...\n",
       "3        [given, a, specific, datetime, value, how, do,...\n",
       "4        [is, there, a, standard, way, for, a, web, ser...\n",
       "                               ...                        \n",
       "58898    [every, time, i, try, npm, install, i, get, th...\n",
       "58899    [i, am, reading, a, book, programming, with, p...\n",
       "58900    [we, re, currently, migrating, from, java, 8, ...\n",
       "58901    [all, of, a, sudden, i, am, getting, this, bui...\n",
       "58902    [i, have, a, fairly, complex, maths, library, ...\n",
       "Name: Body, Length: 58903, dtype: object"
      ]
     },
     "execution_count": 13,
     "metadata": {},
     "output_type": "execute_result"
    }
   ],
   "source": [
    "df.Body"
   ]
  },
  {
   "cell_type": "code",
   "execution_count": 14,
   "metadata": {},
   "outputs": [],
   "source": [
    "df.Body=df.Body.apply(stemmer)"
   ]
  },
  {
   "cell_type": "code",
   "execution_count": 15,
   "metadata": {},
   "outputs": [
    {
     "data": {
      "text/plain": [
       "0        [want, use, track, bar, chang, form, opac, cod...\n",
       "1        [absolut, posit, div, contain, sever, children...\n",
       "2        [given, datetim, repres, person, birthday, cal...\n",
       "3        [given, specif, datetim, valu, display, relat,...\n",
       "4        [standard, way, web, server, abl, determin, us...\n",
       "                               ...                        \n",
       "58898    [everi, time, tri, npm, instal, get, follow, e...\n",
       "58899    [read, book, program, posix, thread, butenhof,...\n",
       "58900    [current, migrat, java, 8, java, 11, howev, up...\n",
       "58901    [sudden, get, build, error, android, project, ...\n",
       "58902    [fair, complex, math, librari, work, discov, n...\n",
       "Name: Body, Length: 58903, dtype: object"
      ]
     },
     "execution_count": 15,
     "metadata": {},
     "output_type": "execute_result"
    }
   ],
   "source": [
    "df.Body"
   ]
  },
  {
   "cell_type": "markdown",
   "metadata": {},
   "source": [
    "## Title"
   ]
  },
  {
   "cell_type": "code",
   "execution_count": 16,
   "metadata": {},
   "outputs": [],
   "source": [
    "df=df.drop_duplicates(subset=['Title'])"
   ]
  },
  {
   "cell_type": "code",
   "execution_count": 17,
   "metadata": {},
   "outputs": [
    {
     "data": {
      "text/html": [
       "<div>\n",
       "<style scoped>\n",
       "    .dataframe tbody tr th:only-of-type {\n",
       "        vertical-align: middle;\n",
       "    }\n",
       "\n",
       "    .dataframe tbody tr th {\n",
       "        vertical-align: top;\n",
       "    }\n",
       "\n",
       "    .dataframe thead th {\n",
       "        text-align: right;\n",
       "    }\n",
       "</style>\n",
       "<table border=\"1\" class=\"dataframe\">\n",
       "  <thead>\n",
       "    <tr style=\"text-align: right;\">\n",
       "      <th></th>\n",
       "      <th>Body</th>\n",
       "      <th>Title</th>\n",
       "      <th>Tags</th>\n",
       "    </tr>\n",
       "  </thead>\n",
       "  <tbody>\n",
       "    <tr>\n",
       "      <th>0</th>\n",
       "      <td>[want, use, track, bar, chang, form, opac, cod...</td>\n",
       "      <td>How to convert a Decimal to a Double in C#?</td>\n",
       "      <td>&lt;c#&gt;&lt;floating-point&gt;&lt;type-conversion&gt;&lt;double&gt;&lt;...</td>\n",
       "    </tr>\n",
       "    <tr>\n",
       "      <th>1</th>\n",
       "      <td>[absolut, posit, div, contain, sever, children...</td>\n",
       "      <td>Why did the width collapse in the percentage w...</td>\n",
       "      <td>&lt;html&gt;&lt;css&gt;&lt;internet-explorer-7&gt;</td>\n",
       "    </tr>\n",
       "    <tr>\n",
       "      <th>2</th>\n",
       "      <td>[given, datetim, repres, person, birthday, cal...</td>\n",
       "      <td>How do I calculate someone's age based on a Da...</td>\n",
       "      <td>&lt;c#&gt;&lt;.net&gt;&lt;datetime&gt;</td>\n",
       "    </tr>\n",
       "    <tr>\n",
       "      <th>3</th>\n",
       "      <td>[given, specif, datetim, valu, display, relat,...</td>\n",
       "      <td>Calculate relative time in C#</td>\n",
       "      <td>&lt;c#&gt;&lt;datetime&gt;&lt;time&gt;&lt;datediff&gt;&lt;relative-time-s...</td>\n",
       "    </tr>\n",
       "    <tr>\n",
       "      <th>4</th>\n",
       "      <td>[standard, way, web, server, abl, determin, us...</td>\n",
       "      <td>Determine a user's timezone</td>\n",
       "      <td>&lt;html&gt;&lt;browser&gt;&lt;timezone&gt;&lt;user-agent&gt;&lt;timezone...</td>\n",
       "    </tr>\n",
       "    <tr>\n",
       "      <th>...</th>\n",
       "      <td>...</td>\n",
       "      <td>...</td>\n",
       "      <td>...</td>\n",
       "    </tr>\n",
       "    <tr>\n",
       "      <th>58898</th>\n",
       "      <td>[everi, time, tri, npm, instal, get, follow, e...</td>\n",
       "      <td>`npm install` fails on node-gyp rebuild with `...</td>\n",
       "      <td>&lt;node.js&gt;&lt;npm&gt;&lt;terminal&gt;&lt;macos-catalina&gt;&lt;node-...</td>\n",
       "    </tr>\n",
       "    <tr>\n",
       "      <th>58899</th>\n",
       "      <td>[read, book, program, posix, thread, butenhof,...</td>\n",
       "      <td>Why cast free's return value to void?</td>\n",
       "      <td>&lt;c&gt;&lt;casting&gt;&lt;free&gt;&lt;void&gt;&lt;legacy-code&gt;</td>\n",
       "    </tr>\n",
       "    <tr>\n",
       "      <th>58900</th>\n",
       "      <td>[current, migrat, java, 8, java, 11, howev, up...</td>\n",
       "      <td>Is there any need to switch to modules when mi...</td>\n",
       "      <td>&lt;java&gt;&lt;java-11&gt;&lt;java-platform-module-system&gt;</td>\n",
       "    </tr>\n",
       "    <tr>\n",
       "      <th>58901</th>\n",
       "      <td>[sudden, get, build, error, android, project, ...</td>\n",
       "      <td>How to fix \"unexpected element &lt;queries&gt; found...</td>\n",
       "      <td>&lt;android&gt;&lt;android-gradle-plugin&gt;&lt;android-manif...</td>\n",
       "    </tr>\n",
       "    <tr>\n",
       "      <th>58902</th>\n",
       "      <td>[fair, complex, math, librari, work, discov, n...</td>\n",
       "      <td>How can I make my class immune to the \"auto va...</td>\n",
       "      <td>&lt;c++&gt;&lt;copy-assignment&gt;</td>\n",
       "    </tr>\n",
       "  </tbody>\n",
       "</table>\n",
       "<p>58898 rows × 3 columns</p>\n",
       "</div>"
      ],
      "text/plain": [
       "                                                    Body  \\\n",
       "0      [want, use, track, bar, chang, form, opac, cod...   \n",
       "1      [absolut, posit, div, contain, sever, children...   \n",
       "2      [given, datetim, repres, person, birthday, cal...   \n",
       "3      [given, specif, datetim, valu, display, relat,...   \n",
       "4      [standard, way, web, server, abl, determin, us...   \n",
       "...                                                  ...   \n",
       "58898  [everi, time, tri, npm, instal, get, follow, e...   \n",
       "58899  [read, book, program, posix, thread, butenhof,...   \n",
       "58900  [current, migrat, java, 8, java, 11, howev, up...   \n",
       "58901  [sudden, get, build, error, android, project, ...   \n",
       "58902  [fair, complex, math, librari, work, discov, n...   \n",
       "\n",
       "                                                   Title  \\\n",
       "0            How to convert a Decimal to a Double in C#?   \n",
       "1      Why did the width collapse in the percentage w...   \n",
       "2      How do I calculate someone's age based on a Da...   \n",
       "3                          Calculate relative time in C#   \n",
       "4                            Determine a user's timezone   \n",
       "...                                                  ...   \n",
       "58898  `npm install` fails on node-gyp rebuild with `...   \n",
       "58899              Why cast free's return value to void?   \n",
       "58900  Is there any need to switch to modules when mi...   \n",
       "58901  How to fix \"unexpected element <queries> found...   \n",
       "58902  How can I make my class immune to the \"auto va...   \n",
       "\n",
       "                                                    Tags  \n",
       "0      <c#><floating-point><type-conversion><double><...  \n",
       "1                       <html><css><internet-explorer-7>  \n",
       "2                                   <c#><.net><datetime>  \n",
       "3      <c#><datetime><time><datediff><relative-time-s...  \n",
       "4      <html><browser><timezone><user-agent><timezone...  \n",
       "...                                                  ...  \n",
       "58898  <node.js><npm><terminal><macos-catalina><node-...  \n",
       "58899              <c><casting><free><void><legacy-code>  \n",
       "58900       <java><java-11><java-platform-module-system>  \n",
       "58901  <android><android-gradle-plugin><android-manif...  \n",
       "58902                             <c++><copy-assignment>  \n",
       "\n",
       "[58898 rows x 3 columns]"
      ]
     },
     "execution_count": 17,
     "metadata": {},
     "output_type": "execute_result"
    }
   ],
   "source": [
    "df"
   ]
  },
  {
   "cell_type": "code",
   "execution_count": 18,
   "metadata": {},
   "outputs": [
    {
     "data": {
      "text/plain": [
       "'How to convert a Decimal to a Double in C#?'"
      ]
     },
     "execution_count": 18,
     "metadata": {},
     "output_type": "execute_result"
    }
   ],
   "source": [
    "df.Title.iloc[0]"
   ]
  },
  {
   "cell_type": "code",
   "execution_count": 19,
   "metadata": {},
   "outputs": [
    {
     "data": {
      "text/plain": [
       "0              How to convert a Decimal to a Double in C#?\n",
       "1        Why did the width collapse in the percentage w...\n",
       "2        How do I calculate someone's age based on a Da...\n",
       "3                            Calculate relative time in C#\n",
       "4                              Determine a user's timezone\n",
       "                               ...                        \n",
       "58898    `npm install` fails on node-gyp rebuild with `...\n",
       "58899                Why cast free's return value to void?\n",
       "58900    Is there any need to switch to modules when mi...\n",
       "58901    How to fix \"unexpected element <queries> found...\n",
       "58902    How can I make my class immune to the \"auto va...\n",
       "Name: Title, Length: 58898, dtype: object"
      ]
     },
     "execution_count": 19,
     "metadata": {},
     "output_type": "execute_result"
    }
   ],
   "source": [
    "df.Title"
   ]
  },
  {
   "cell_type": "code",
   "execution_count": 20,
   "metadata": {},
   "outputs": [],
   "source": [
    "df.Title=df.Title.map(token)"
   ]
  },
  {
   "cell_type": "code",
   "execution_count": 21,
   "metadata": {},
   "outputs": [
    {
     "data": {
      "text/plain": [
       "0        [how, to, convert, a, decimal, to, a, double, ...\n",
       "1        [why, did, the, width, collapse, in, the, perc...\n",
       "2        [how, do, i, calculate, someone, s, age, based...\n",
       "3                      [calculate, relative, time, in, c#]\n",
       "4                        [determine, a, user, s, timezone]\n",
       "                               ...                        \n",
       "58898    [npm, install, fails, on, node, gyp, rebuild, ...\n",
       "58899        [why, cast, free, s, return, value, to, void]\n",
       "58900    [is, there, any, need, to, switch, to, modules...\n",
       "58901    [how, to, fix, unexpected, element, found, in,...\n",
       "58902    [how, can, i, make, my, class, immune, to, the...\n",
       "Name: Title, Length: 58898, dtype: object"
      ]
     },
     "execution_count": 21,
     "metadata": {},
     "output_type": "execute_result"
    }
   ],
   "source": [
    "df.Title"
   ]
  },
  {
   "cell_type": "code",
   "execution_count": 22,
   "metadata": {},
   "outputs": [],
   "source": [
    "df.Title=df.Title.apply(stemmer)"
   ]
  },
  {
   "cell_type": "code",
   "execution_count": 23,
   "metadata": {},
   "outputs": [
    {
     "data": {
      "text/plain": [
       "0                              [convert, decim, doubl, c#]\n",
       "1        [width, collaps, percentag, width, child, elem...\n",
       "2        [calcul, someon, age, base, datetim, type, bir...\n",
       "3                                [calcul, relat, time, c#]\n",
       "4                                [determin, user, timezon]\n",
       "                               ...                        \n",
       "58898    [npm, instal, fail, node, gyp, rebuild, gyp, x...\n",
       "58899                     [cast, free, return, valu, void]\n",
       "58900    [need, switch, modul, migrat, java, 9+, java, 11]\n",
       "58901               [fix, unexpect, element, found, error]\n",
       "58902    [make, class, immun, auto, valu, copi, proxi, ...\n",
       "Name: Title, Length: 58898, dtype: object"
      ]
     },
     "execution_count": 23,
     "metadata": {},
     "output_type": "execute_result"
    }
   ],
   "source": [
    "df.Title"
   ]
  },
  {
   "cell_type": "markdown",
   "metadata": {},
   "source": [
    "## Tags"
   ]
  },
  {
   "cell_type": "code",
   "execution_count": 24,
   "metadata": {},
   "outputs": [
    {
     "data": {
      "text/plain": [
       "'<c#><floating-point><type-conversion><double><decimal>'"
      ]
     },
     "execution_count": 24,
     "metadata": {},
     "output_type": "execute_result"
    }
   ],
   "source": [
    "df.Tags.iloc[0]"
   ]
  },
  {
   "cell_type": "code",
   "execution_count": 25,
   "metadata": {},
   "outputs": [],
   "source": [
    "df.Tags=df[\"Tags\"].map(lambda field:field[1:-1].split('><'))"
   ]
  },
  {
   "cell_type": "code",
   "execution_count": 26,
   "metadata": {},
   "outputs": [
    {
     "data": {
      "text/plain": [
       "0        [c#, floating-point, type-conversion, double, ...\n",
       "1                         [html, css, internet-explorer-7]\n",
       "2                                     [c#, .net, datetime]\n",
       "3        [c#, datetime, time, datediff, relative-time-s...\n",
       "4        [html, browser, timezone, user-agent, timezone...\n",
       "                               ...                        \n",
       "58898    [node.js, npm, terminal, macos-catalina, node-...\n",
       "58899                [c, casting, free, void, legacy-code]\n",
       "58900         [java, java-11, java-platform-module-system]\n",
       "58901    [android, android-gradle-plugin, android-manif...\n",
       "58902                               [c++, copy-assignment]\n",
       "Name: Tags, Length: 58898, dtype: object"
      ]
     },
     "execution_count": 26,
     "metadata": {},
     "output_type": "execute_result"
    }
   ],
   "source": [
    "df.Tags"
   ]
  },
  {
   "cell_type": "code",
   "execution_count": 27,
   "metadata": {},
   "outputs": [
    {
     "data": {
      "text/html": [
       "<div>\n",
       "<style scoped>\n",
       "    .dataframe tbody tr th:only-of-type {\n",
       "        vertical-align: middle;\n",
       "    }\n",
       "\n",
       "    .dataframe tbody tr th {\n",
       "        vertical-align: top;\n",
       "    }\n",
       "\n",
       "    .dataframe thead th {\n",
       "        text-align: right;\n",
       "    }\n",
       "</style>\n",
       "<table border=\"1\" class=\"dataframe\">\n",
       "  <thead>\n",
       "    <tr style=\"text-align: right;\">\n",
       "      <th></th>\n",
       "      <th>Body</th>\n",
       "      <th>Title</th>\n",
       "      <th>Tags</th>\n",
       "    </tr>\n",
       "  </thead>\n",
       "  <tbody>\n",
       "    <tr>\n",
       "      <th>0</th>\n",
       "      <td>[want, use, track, bar, chang, form, opac, cod...</td>\n",
       "      <td>[convert, decim, doubl, c#]</td>\n",
       "      <td>[c#, floating-point, type-conversion, double, ...</td>\n",
       "    </tr>\n",
       "    <tr>\n",
       "      <th>1</th>\n",
       "      <td>[absolut, posit, div, contain, sever, children...</td>\n",
       "      <td>[width, collaps, percentag, width, child, elem...</td>\n",
       "      <td>[html, css, internet-explorer-7]</td>\n",
       "    </tr>\n",
       "    <tr>\n",
       "      <th>2</th>\n",
       "      <td>[given, datetim, repres, person, birthday, cal...</td>\n",
       "      <td>[calcul, someon, age, base, datetim, type, bir...</td>\n",
       "      <td>[c#, .net, datetime]</td>\n",
       "    </tr>\n",
       "    <tr>\n",
       "      <th>3</th>\n",
       "      <td>[given, specif, datetim, valu, display, relat,...</td>\n",
       "      <td>[calcul, relat, time, c#]</td>\n",
       "      <td>[c#, datetime, time, datediff, relative-time-s...</td>\n",
       "    </tr>\n",
       "    <tr>\n",
       "      <th>4</th>\n",
       "      <td>[standard, way, web, server, abl, determin, us...</td>\n",
       "      <td>[determin, user, timezon]</td>\n",
       "      <td>[html, browser, timezone, user-agent, timezone...</td>\n",
       "    </tr>\n",
       "    <tr>\n",
       "      <th>...</th>\n",
       "      <td>...</td>\n",
       "      <td>...</td>\n",
       "      <td>...</td>\n",
       "    </tr>\n",
       "    <tr>\n",
       "      <th>58898</th>\n",
       "      <td>[everi, time, tri, npm, instal, get, follow, e...</td>\n",
       "      <td>[npm, instal, fail, node, gyp, rebuild, gyp, x...</td>\n",
       "      <td>[node.js, npm, terminal, macos-catalina, node-...</td>\n",
       "    </tr>\n",
       "    <tr>\n",
       "      <th>58899</th>\n",
       "      <td>[read, book, program, posix, thread, butenhof,...</td>\n",
       "      <td>[cast, free, return, valu, void]</td>\n",
       "      <td>[c, casting, free, void, legacy-code]</td>\n",
       "    </tr>\n",
       "    <tr>\n",
       "      <th>58900</th>\n",
       "      <td>[current, migrat, java, 8, java, 11, howev, up...</td>\n",
       "      <td>[need, switch, modul, migrat, java, 9+, java, 11]</td>\n",
       "      <td>[java, java-11, java-platform-module-system]</td>\n",
       "    </tr>\n",
       "    <tr>\n",
       "      <th>58901</th>\n",
       "      <td>[sudden, get, build, error, android, project, ...</td>\n",
       "      <td>[fix, unexpect, element, found, error]</td>\n",
       "      <td>[android, android-gradle-plugin, android-manif...</td>\n",
       "    </tr>\n",
       "    <tr>\n",
       "      <th>58902</th>\n",
       "      <td>[fair, complex, math, librari, work, discov, n...</td>\n",
       "      <td>[make, class, immun, auto, valu, copi, proxi, ...</td>\n",
       "      <td>[c++, copy-assignment]</td>\n",
       "    </tr>\n",
       "  </tbody>\n",
       "</table>\n",
       "<p>58898 rows × 3 columns</p>\n",
       "</div>"
      ],
      "text/plain": [
       "                                                    Body  \\\n",
       "0      [want, use, track, bar, chang, form, opac, cod...   \n",
       "1      [absolut, posit, div, contain, sever, children...   \n",
       "2      [given, datetim, repres, person, birthday, cal...   \n",
       "3      [given, specif, datetim, valu, display, relat,...   \n",
       "4      [standard, way, web, server, abl, determin, us...   \n",
       "...                                                  ...   \n",
       "58898  [everi, time, tri, npm, instal, get, follow, e...   \n",
       "58899  [read, book, program, posix, thread, butenhof,...   \n",
       "58900  [current, migrat, java, 8, java, 11, howev, up...   \n",
       "58901  [sudden, get, build, error, android, project, ...   \n",
       "58902  [fair, complex, math, librari, work, discov, n...   \n",
       "\n",
       "                                                   Title  \\\n",
       "0                            [convert, decim, doubl, c#]   \n",
       "1      [width, collaps, percentag, width, child, elem...   \n",
       "2      [calcul, someon, age, base, datetim, type, bir...   \n",
       "3                              [calcul, relat, time, c#]   \n",
       "4                              [determin, user, timezon]   \n",
       "...                                                  ...   \n",
       "58898  [npm, instal, fail, node, gyp, rebuild, gyp, x...   \n",
       "58899                   [cast, free, return, valu, void]   \n",
       "58900  [need, switch, modul, migrat, java, 9+, java, 11]   \n",
       "58901             [fix, unexpect, element, found, error]   \n",
       "58902  [make, class, immun, auto, valu, copi, proxi, ...   \n",
       "\n",
       "                                                    Tags  \n",
       "0      [c#, floating-point, type-conversion, double, ...  \n",
       "1                       [html, css, internet-explorer-7]  \n",
       "2                                   [c#, .net, datetime]  \n",
       "3      [c#, datetime, time, datediff, relative-time-s...  \n",
       "4      [html, browser, timezone, user-agent, timezone...  \n",
       "...                                                  ...  \n",
       "58898  [node.js, npm, terminal, macos-catalina, node-...  \n",
       "58899              [c, casting, free, void, legacy-code]  \n",
       "58900       [java, java-11, java-platform-module-system]  \n",
       "58901  [android, android-gradle-plugin, android-manif...  \n",
       "58902                             [c++, copy-assignment]  \n",
       "\n",
       "[58898 rows x 3 columns]"
      ]
     },
     "execution_count": 27,
     "metadata": {},
     "output_type": "execute_result"
    }
   ],
   "source": [
    "df"
   ]
  },
  {
   "cell_type": "markdown",
   "metadata": {},
   "source": [
    "# Analyse et gestion des tags"
   ]
  },
  {
   "cell_type": "code",
   "execution_count": 28,
   "metadata": {},
   "outputs": [
    {
     "name": "stderr",
     "output_type": "stream",
     "text": [
      "C:\\Users\\thiba\\anaconda3\\lib\\site-packages\\seaborn\\_decorators.py:36: FutureWarning: Pass the following variable as a keyword arg: x. From version 0.12, the only valid positional argument will be `data`, and passing other arguments without an explicit keyword will result in an error or misinterpretation.\n",
      "  warnings.warn(\n"
     ]
    },
    {
     "data": {
      "image/png": "[encoded data removed]",
      "text/plain": [
       "<Figure size 432x288 with 1 Axes>"
      ]
     },
     "metadata": {
      "needs_background": "light"
     },
     "output_type": "display_data"
    }
   ],
   "source": [
    "sns.countplot(df.Tags.map(lambda field:len(field)))\n",
    "plt.title(\"nbr de tags par post\")\n",
    "plt.show()"
   ]
  },
  {
   "cell_type": "code",
   "execution_count": 29,
   "metadata": {},
   "outputs": [],
   "source": [
    "all_tags=[]\n",
    "for i in df.Tags:\n",
    "    for j in i:\n",
    "        all_tags.append(j)"
   ]
  },
  {
   "cell_type": "code",
   "execution_count": 30,
   "metadata": {},
   "outputs": [
    {
     "name": "stderr",
     "output_type": "stream",
     "text": [
      "C:\\Users\\thiba\\anaconda3\\lib\\site-packages\\seaborn\\_decorators.py:36: FutureWarning: Pass the following variables as keyword args: x, y. From version 0.12, the only valid positional argument will be `data`, and passing other arguments without an explicit keyword will result in an error or misinterpretation.\n",
      "  warnings.warn(\n"
     ]
    },
    {
     "data": {
      "image/png": "[encoded data removed]",
      "text/plain": [
       "<Figure size 720x720 with 1 Axes>"
      ]
     },
     "metadata": {
      "needs_background": "light"
     },
     "output_type": "display_data"
    }
   ],
   "source": [
    "#Affichage des 20 Tags les plus présent\n",
    "counter=collections.Counter(all_tags)\n",
    "common = counter.most_common(70)\n",
    "labels = [item[0] for item in common]\n",
    "number = [item[1] for item in common]\n",
    "\n",
    "plt.figure(figsize=(10,10))\n",
    "sns.barplot(number, labels)\n",
    "plt.title(\"Les 50 Tags les plus présent\")\n",
    "plt.show()"
   ]
  },
  {
   "cell_type": "code",
   "execution_count": 31,
   "metadata": {},
   "outputs": [],
   "source": [
    "liste=[]\n",
    "for i in range(0,len(labels)):\n",
    "    if number[i]>500:\n",
    "        liste.append(labels[i])    "
   ]
  },
  {
   "cell_type": "code",
   "execution_count": 32,
   "metadata": {},
   "outputs": [
    {
     "data": {
      "text/plain": [
       "47"
      ]
     },
     "execution_count": 32,
     "metadata": {},
     "output_type": "execute_result"
    }
   ],
   "source": [
    "len(liste)"
   ]
  },
  {
   "cell_type": "code",
   "execution_count": 33,
   "metadata": {},
   "outputs": [],
   "source": [
    "def tags_to_keep(list):\n",
    "    list = [x for x in list if x in labels[:50]]\n",
    "    return list"
   ]
  },
  {
   "cell_type": "code",
   "execution_count": 34,
   "metadata": {},
   "outputs": [],
   "source": [
    "df.Tags=df.Tags.apply(tags_to_keep)"
   ]
  },
  {
   "cell_type": "code",
   "execution_count": 35,
   "metadata": {},
   "outputs": [],
   "source": [
    "df=df.reset_index()\n",
    "df=df.drop(['index'],axis=1)"
   ]
  },
  {
   "cell_type": "code",
   "execution_count": 36,
   "metadata": {},
   "outputs": [],
   "source": [
    "index_to_drop=[]\n",
    "for i in range(0,len(df)-1):\n",
    "    if len(df.Tags[i])==0:\n",
    "        index_to_drop.append(i)"
   ]
  },
  {
   "cell_type": "code",
   "execution_count": 37,
   "metadata": {},
   "outputs": [],
   "source": [
    "df.Tags=df.Tags.drop(index=index_to_drop,axis=0)"
   ]
  },
  {
   "cell_type": "code",
   "execution_count": 38,
   "metadata": {},
   "outputs": [],
   "source": [
    "df=df.dropna()"
   ]
  },
  {
   "cell_type": "code",
   "execution_count": 39,
   "metadata": {},
   "outputs": [
    {
     "name": "stderr",
     "output_type": "stream",
     "text": [
      "C:\\Users\\thiba\\anaconda3\\lib\\site-packages\\seaborn\\_decorators.py:36: FutureWarning: Pass the following variable as a keyword arg: x. From version 0.12, the only valid positional argument will be `data`, and passing other arguments without an explicit keyword will result in an error or misinterpretation.\n",
      "  warnings.warn(\n"
     ]
    },
    {
     "data": {
      "image/png": "[encoded data removed]",
      "text/plain": [
       "<Figure size 432x288 with 1 Axes>"
      ]
     },
     "metadata": {
      "needs_background": "light"
     },
     "output_type": "display_data"
    }
   ],
   "source": [
    "sns.countplot(df.Tags.map(lambda field:len(field)))\n",
    "plt.title(\"nbr de tags par post\")\n",
    "plt.show()"
   ]
  },
  {
   "cell_type": "code",
   "execution_count": 40,
   "metadata": {},
   "outputs": [
    {
     "data": {
      "text/html": [
       "<div>\n",
       "<style scoped>\n",
       "    .dataframe tbody tr th:only-of-type {\n",
       "        vertical-align: middle;\n",
       "    }\n",
       "\n",
       "    .dataframe tbody tr th {\n",
       "        vertical-align: top;\n",
       "    }\n",
       "\n",
       "    .dataframe thead th {\n",
       "        text-align: right;\n",
       "    }\n",
       "</style>\n",
       "<table border=\"1\" class=\"dataframe\">\n",
       "  <thead>\n",
       "    <tr style=\"text-align: right;\">\n",
       "      <th></th>\n",
       "      <th>Body</th>\n",
       "      <th>Title</th>\n",
       "      <th>Tags</th>\n",
       "    </tr>\n",
       "  </thead>\n",
       "  <tbody>\n",
       "    <tr>\n",
       "      <th>0</th>\n",
       "      <td>[want, use, track, bar, chang, form, opac, cod...</td>\n",
       "      <td>[convert, decim, doubl, c#]</td>\n",
       "      <td>[c#]</td>\n",
       "    </tr>\n",
       "    <tr>\n",
       "      <th>1</th>\n",
       "      <td>[absolut, posit, div, contain, sever, children...</td>\n",
       "      <td>[width, collaps, percentag, width, child, elem...</td>\n",
       "      <td>[html, css]</td>\n",
       "    </tr>\n",
       "    <tr>\n",
       "      <th>2</th>\n",
       "      <td>[given, datetim, repres, person, birthday, cal...</td>\n",
       "      <td>[calcul, someon, age, base, datetim, type, bir...</td>\n",
       "      <td>[c#, .net]</td>\n",
       "    </tr>\n",
       "    <tr>\n",
       "      <th>3</th>\n",
       "      <td>[given, specif, datetim, valu, display, relat,...</td>\n",
       "      <td>[calcul, relat, time, c#]</td>\n",
       "      <td>[c#]</td>\n",
       "    </tr>\n",
       "    <tr>\n",
       "      <th>4</th>\n",
       "      <td>[standard, way, web, server, abl, determin, us...</td>\n",
       "      <td>[determin, user, timezon]</td>\n",
       "      <td>[html]</td>\n",
       "    </tr>\n",
       "    <tr>\n",
       "      <th>...</th>\n",
       "      <td>...</td>\n",
       "      <td>...</td>\n",
       "      <td>...</td>\n",
       "    </tr>\n",
       "    <tr>\n",
       "      <th>58893</th>\n",
       "      <td>[everi, time, tri, npm, instal, get, follow, e...</td>\n",
       "      <td>[npm, instal, fail, node, gyp, rebuild, gyp, x...</td>\n",
       "      <td>[node.js]</td>\n",
       "    </tr>\n",
       "    <tr>\n",
       "      <th>58894</th>\n",
       "      <td>[read, book, program, posix, thread, butenhof,...</td>\n",
       "      <td>[cast, free, return, valu, void]</td>\n",
       "      <td>[c]</td>\n",
       "    </tr>\n",
       "    <tr>\n",
       "      <th>58895</th>\n",
       "      <td>[current, migrat, java, 8, java, 11, howev, up...</td>\n",
       "      <td>[need, switch, modul, migrat, java, 9+, java, 11]</td>\n",
       "      <td>[java]</td>\n",
       "    </tr>\n",
       "    <tr>\n",
       "      <th>58896</th>\n",
       "      <td>[sudden, get, build, error, android, project, ...</td>\n",
       "      <td>[fix, unexpect, element, found, error]</td>\n",
       "      <td>[android]</td>\n",
       "    </tr>\n",
       "    <tr>\n",
       "      <th>58897</th>\n",
       "      <td>[fair, complex, math, librari, work, discov, n...</td>\n",
       "      <td>[make, class, immun, auto, valu, copi, proxi, ...</td>\n",
       "      <td>[c++]</td>\n",
       "    </tr>\n",
       "  </tbody>\n",
       "</table>\n",
       "<p>49766 rows × 3 columns</p>\n",
       "</div>"
      ],
      "text/plain": [
       "                                                    Body  \\\n",
       "0      [want, use, track, bar, chang, form, opac, cod...   \n",
       "1      [absolut, posit, div, contain, sever, children...   \n",
       "2      [given, datetim, repres, person, birthday, cal...   \n",
       "3      [given, specif, datetim, valu, display, relat,...   \n",
       "4      [standard, way, web, server, abl, determin, us...   \n",
       "...                                                  ...   \n",
       "58893  [everi, time, tri, npm, instal, get, follow, e...   \n",
       "58894  [read, book, program, posix, thread, butenhof,...   \n",
       "58895  [current, migrat, java, 8, java, 11, howev, up...   \n",
       "58896  [sudden, get, build, error, android, project, ...   \n",
       "58897  [fair, complex, math, librari, work, discov, n...   \n",
       "\n",
       "                                                   Title         Tags  \n",
       "0                            [convert, decim, doubl, c#]         [c#]  \n",
       "1      [width, collaps, percentag, width, child, elem...  [html, css]  \n",
       "2      [calcul, someon, age, base, datetim, type, bir...   [c#, .net]  \n",
       "3                              [calcul, relat, time, c#]         [c#]  \n",
       "4                              [determin, user, timezon]       [html]  \n",
       "...                                                  ...          ...  \n",
       "58893  [npm, instal, fail, node, gyp, rebuild, gyp, x...    [node.js]  \n",
       "58894                   [cast, free, return, valu, void]          [c]  \n",
       "58895  [need, switch, modul, migrat, java, 9+, java, 11]       [java]  \n",
       "58896             [fix, unexpect, element, found, error]    [android]  \n",
       "58897  [make, class, immun, auto, valu, copi, proxi, ...        [c++]  \n",
       "\n",
       "[49766 rows x 3 columns]"
      ]
     },
     "execution_count": 40,
     "metadata": {},
     "output_type": "execute_result"
    }
   ],
   "source": [
    "df"
   ]
  },
  {
   "cell_type": "markdown",
   "metadata": {},
   "source": [
    "# Mettre en œuvre une approche non supervisée."
   ]
  },
  {
   "cell_type": "code",
   "execution_count": 41,
   "metadata": {},
   "outputs": [],
   "source": [
    "df[\"Document\"] = (df.Title + df.Body)"
   ]
  },
  {
   "cell_type": "code",
   "execution_count": 42,
   "metadata": {},
   "outputs": [],
   "source": [
    "df=df.drop([\"Title\", \"Body\"], axis=1)"
   ]
  },
  {
   "cell_type": "code",
   "execution_count": 43,
   "metadata": {},
   "outputs": [
    {
     "data": {
      "text/html": [
       "<div>\n",
       "<style scoped>\n",
       "    .dataframe tbody tr th:only-of-type {\n",
       "        vertical-align: middle;\n",
       "    }\n",
       "\n",
       "    .dataframe tbody tr th {\n",
       "        vertical-align: top;\n",
       "    }\n",
       "\n",
       "    .dataframe thead th {\n",
       "        text-align: right;\n",
       "    }\n",
       "</style>\n",
       "<table border=\"1\" class=\"dataframe\">\n",
       "  <thead>\n",
       "    <tr style=\"text-align: right;\">\n",
       "      <th></th>\n",
       "      <th>Tags</th>\n",
       "      <th>Document</th>\n",
       "    </tr>\n",
       "  </thead>\n",
       "  <tbody>\n",
       "    <tr>\n",
       "      <th>0</th>\n",
       "      <td>[c#]</td>\n",
       "      <td>[convert, decim, doubl, c#, want, use, track, ...</td>\n",
       "    </tr>\n",
       "    <tr>\n",
       "      <th>1</th>\n",
       "      <td>[html, css]</td>\n",
       "      <td>[width, collaps, percentag, width, child, elem...</td>\n",
       "    </tr>\n",
       "    <tr>\n",
       "      <th>2</th>\n",
       "      <td>[c#, .net]</td>\n",
       "      <td>[calcul, someon, age, base, datetim, type, bir...</td>\n",
       "    </tr>\n",
       "    <tr>\n",
       "      <th>3</th>\n",
       "      <td>[c#]</td>\n",
       "      <td>[calcul, relat, time, c#, given, specif, datet...</td>\n",
       "    </tr>\n",
       "    <tr>\n",
       "      <th>4</th>\n",
       "      <td>[html]</td>\n",
       "      <td>[determin, user, timezon, standard, way, web, ...</td>\n",
       "    </tr>\n",
       "    <tr>\n",
       "      <th>...</th>\n",
       "      <td>...</td>\n",
       "      <td>...</td>\n",
       "    </tr>\n",
       "    <tr>\n",
       "      <th>58893</th>\n",
       "      <td>[node.js]</td>\n",
       "      <td>[npm, instal, fail, node, gyp, rebuild, gyp, x...</td>\n",
       "    </tr>\n",
       "    <tr>\n",
       "      <th>58894</th>\n",
       "      <td>[c]</td>\n",
       "      <td>[cast, free, return, valu, void, read, book, p...</td>\n",
       "    </tr>\n",
       "    <tr>\n",
       "      <th>58895</th>\n",
       "      <td>[java]</td>\n",
       "      <td>[need, switch, modul, migrat, java, 9+, java, ...</td>\n",
       "    </tr>\n",
       "    <tr>\n",
       "      <th>58896</th>\n",
       "      <td>[android]</td>\n",
       "      <td>[fix, unexpect, element, found, error, sudden,...</td>\n",
       "    </tr>\n",
       "    <tr>\n",
       "      <th>58897</th>\n",
       "      <td>[c++]</td>\n",
       "      <td>[make, class, immun, auto, valu, copi, proxi, ...</td>\n",
       "    </tr>\n",
       "  </tbody>\n",
       "</table>\n",
       "<p>49766 rows × 2 columns</p>\n",
       "</div>"
      ],
      "text/plain": [
       "              Tags                                           Document\n",
       "0             [c#]  [convert, decim, doubl, c#, want, use, track, ...\n",
       "1      [html, css]  [width, collaps, percentag, width, child, elem...\n",
       "2       [c#, .net]  [calcul, someon, age, base, datetim, type, bir...\n",
       "3             [c#]  [calcul, relat, time, c#, given, specif, datet...\n",
       "4           [html]  [determin, user, timezon, standard, way, web, ...\n",
       "...            ...                                                ...\n",
       "58893    [node.js]  [npm, instal, fail, node, gyp, rebuild, gyp, x...\n",
       "58894          [c]  [cast, free, return, valu, void, read, book, p...\n",
       "58895       [java]  [need, switch, modul, migrat, java, 9+, java, ...\n",
       "58896    [android]  [fix, unexpect, element, found, error, sudden,...\n",
       "58897        [c++]  [make, class, immun, auto, valu, copi, proxi, ...\n",
       "\n",
       "[49766 rows x 2 columns]"
      ]
     },
     "execution_count": 43,
     "metadata": {},
     "output_type": "execute_result"
    }
   ],
   "source": [
    "df"
   ]
  },
  {
   "cell_type": "markdown",
   "metadata": {},
   "source": [
    "# LDA"
   ]
  },
  {
   "cell_type": "code",
   "execution_count": 44,
   "metadata": {},
   "outputs": [],
   "source": [
    "tfidf_vectorizer = TfidfVectorizer(\n",
    "    min_df=3,\n",
    "    max_df=0.85,\n",
    "    max_features=5000,\n",
    "    ngram_range=(1, 2),\n",
    "    preprocessor=' '.join\n",
    ")\n",
    "tfidf = tfidf_vectorizer.fit_transform(df.Document)"
   ]
  },
  {
   "cell_type": "raw",
   "metadata": {},
   "source": [
    "#######################################\n",
    "tfidf_vectorizer = TfidfVectorizer(\n",
    "    max_df=.8,\n",
    "    min_df=5,\n",
    "\n",
    "    ngram_range=(1, 1),\n",
    "    preprocessor=' '.join\n",
    ")\n",
    "tfidf = tfidf_vectorizer.fit_transform(df.Document)"
   ]
  },
  {
   "cell_type": "code",
   "execution_count": 45,
   "metadata": {},
   "outputs": [],
   "source": [
    "from sklearn.decomposition import LatentDirichletAllocation"
   ]
  },
  {
   "cell_type": "code",
   "execution_count": 46,
   "metadata": {},
   "outputs": [],
   "source": [
    "lda =  LatentDirichletAllocation(n_components = 4)"
   ]
  },
  {
   "cell_type": "code",
   "execution_count": 47,
   "metadata": {},
   "outputs": [
    {
     "data": {
      "text/plain": [
       "LatentDirichletAllocation(n_components=4)"
      ]
     },
     "execution_count": 47,
     "metadata": {},
     "output_type": "execute_result"
    }
   ],
   "source": [
    "lda.fit(tfidf)"
   ]
  },
  {
   "cell_type": "code",
   "execution_count": null,
   "metadata": {},
   "outputs": [],
   "source": []
  },
  {
   "cell_type": "code",
   "execution_count": 48,
   "metadata": {},
   "outputs": [
    {
     "data": {
      "text/plain": [
       "3182.7945959990334"
      ]
     },
     "execution_count": 48,
     "metadata": {},
     "output_type": "execute_result"
    }
   ],
   "source": [
    "lda.perplexity(tfidf)"
   ]
  },
  {
   "cell_type": "code",
   "execution_count": 49,
   "metadata": {},
   "outputs": [
    {
     "data": {
      "text/plain": [
       "-1854681.7097815194"
      ]
     },
     "execution_count": 49,
     "metadata": {},
     "output_type": "execute_result"
    }
   ],
   "source": [
    "lda.score(tfidf)"
   ]
  },
  {
   "cell_type": "code",
   "execution_count": 50,
   "metadata": {},
   "outputs": [
    {
     "data": {
      "text/html": [
       "\n",
       "<link rel=\"stylesheet\" type=\"text/css\" href=\"https://cdn.jsdelivr.net/gh/bmabey/pyLDAvis@3.3.1/pyLDAvis/js/ldavis.v1.0.0.css\">\n",
       "\n",
       "\n",
       "<div id=\"ldavis_el6801622263029200644267066171\"></div>\n",
       "<script type=\"text/javascript\">\n",
       "\n",
       "var ldavis_el6801622263029200644267066171_data = {\"mdsDat\": {\"x\": [0.11209157025311303, 0.03823088991346844, -0.19385792238739413, 0.04353546222081272], \"y\": [0.11767725936362654, -0.14420783316990773, 0.03720598953837784, -0.010675415732096698], \"topics\": [1, 2, 3, 4], \"cluster\": [1, 1, 1, 1], \"Freq\": [33.013243216167226, 27.154578703986576, 20.450577500375168, 19.381600579471037]}, \"tinfo\": {\"Term\": [\"file\", \"div\", \"string\", \"git\", \"android\", \"instal\", \"json\", \"array\", \"int\", \"css\", \"branch\", \"imag\", \"button\", \"jqueri\", \"color\", \"text\", \"width\", \"html\", \"project\", \"element\", \"height\", \"click\", \"request\", \"layout\", \"url\", \"run\", \"column\", \"valu\", \"studio\", \"style\", \"std\", \"enum\", \"integ\", \"datafram\", \"vector\", \"df\", \"panda\", \"decim\", \"int\", \"arraylist\", \"data frame\", \"struct\", \"tupl\", \"charact string\", \"sum\", \"varchar\", \"nan\", \"hashmap\", \"lambda\", \"unsign\", \"primari key\", \"digit\", \"cout\", \"ptr\", \"int int\", \"list list\", \"creat tabl\", \"int main\", \"column name\", \"list string\", \"printf\", \"char\", \"column\", \"datetim\", \"linq\", \"array\", \"claus\", \"dictionari\", \"cast\", \"iter\", \"tabl\", \"numpi\", \"string\", \"random\", \"sql\", \"keyword\", \"list\", \"void\", \"doubl\", \"convert\", \"number\", \"static\", \"null\", \"row\", \"valu\", \"oper\", \"public\", \"date\", \"object\", \"return\", \"class\", \"method\", \"queri\", \"charact\", \"function\", \"java\", \"use\", \"differ\", \"type\", \"key\", \"like\", \"python\", \"way\", \"would\", \"exampl\", \"name\", \"one\", \"code\", \"get\", \"want\", \"instal\", \"studio\", \"docker\", \"visual studio\", \"xcode\", \"npm\", \"jar\", \"gradl\", \"maven\", \"pip\", \"android studio\", \"gem\", \"eclips\", \"sdk\", \"usr\", \"dll\", \"intellij\", \"certif\", \"restart\", \"ip\", \"environ variabl\", \"sudo\", \"usr local\", \"port\", \"mac os\", \"ssl\", \"upgrad\", \"uninstal\", \"x86\", \"adb\", \"mac\", \"packag\", \"ii\", \"visual\", \"ubuntu\", \"kill\", \"deploy\", \"project\", \"build\", \"exe\", \"connect\", \"environ\", \"assembl\", \"run\", \"lib\", \"version\", \"app\", \"applic\", \"debug\", \"configur\", \"modul\", \"develop\", \"servic\", \"server\", \"node\", \"window\", \"error\", \"command\", \"android\", \"librari\", \"file\", \"java\", \"use\", \"web\", \"start\", \"get\", \"tri\", \"python\", \"code\", \"time\", \"test\", \"work\", \"set\", \"div\", \"css\", \"branch\", \"width\", \"height\", \"react\", \"scroll\", \"li\", \"font\", \"android layout\", \"border\", \"div class\", \"div div\", \"span\", \"img\", \"color\", \"margin\", \"edittext\", \"center\", \"canva\", \"vertic\", \"div id\", \"textview\", \"ifram\", \"onclick\", \"modal\", \"resiz\", \"ul\", \"background color\", \"hover\", \"layout\", \"drawabl\", \"button\", \"master\", \"style\", \"click\", \"imag\", \"href\", \"bootstrap\", \"jqueri\", \"bottom\", \"background\", \"git\", \"event\", \"compon\", \"parent\", \"html\", \"text\", \"tag\", \"element\", \"android\", \"page\", \"commit\", \"view\", \"chang\", \"use\", \"javascript\", \"want\", \"display\", \"id\", \"work\", \"like\", \"text file\", \"sed\", \"stash\", \"option valu\", \"radio\", \"option option\", \"json object\", \"javascript object\", \"decod\", \"csv file\", \"json string\", \"mockito\", \"uitextfield\", \"git diff\", \"deseri\", \"inputstream\", \"line file\", \"list file\", \"myfil\", \"model model\", \"radio button\", \"read file\", \"post request\", \"option select\", \"file txt\", \"applic json\", \"json data\", \"line number\", \"stringifi\", \"email address\", \"mock\", \"content type\", \"json\", \"stdout\", \"csv\", \"filenam\", \"consol log\", \"email\", \"encod\", \"gitignor\", \"req\", \"txt\", \"promis\", \"request\", \"base64\", \"respons\", \"url\", \"model\", \"serial\", \"file\", \"form\", \"redirect\", \"echo\", \"post\", \"ajax\", \"diff\", \"log\", \"bash\", \"directori\", \"line\", \"send\", \"catch\", \"consol\", \"path\", \"http\", \"input\", \"user\", \"name\", \"data\", \"get\", \"var\", \"function\", \"object\", \"script\", \"php\", \"use\", \"string\", \"valu\", \"error\", \"git\", \"return\", \"like\", \"want\", \"type\"], \"Freq\": [1119.0, 488.0, 1005.0, 626.0, 661.0, 370.0, 328.0, 567.0, 432.0, 272.0, 272.0, 405.0, 317.0, 356.0, 235.0, 503.0, 216.0, 387.0, 395.0, 413.0, 190.0, 250.0, 284.0, 189.0, 306.0, 497.0, 331.0, 733.0, 211.0, 212.0, 162.18889179335247, 125.52619215450976, 177.46611278317462, 99.507696926027, 98.17467168381363, 87.96965709318084, 95.72271198525834, 75.1903405962455, 428.30805700714126, 70.08895625041959, 57.13906367868866, 74.02799070788828, 56.24254029695043, 52.84086767206583, 54.797248931929495, 49.84244934451534, 46.34044491092511, 45.86560654165045, 66.08049699445816, 46.43662640213405, 44.69622179404731, 47.56710504962754, 40.34785283868767, 38.701784961781726, 38.064837543856086, 39.28716182822452, 38.113366798956285, 37.13828069798352, 37.037489491324955, 39.5636533252339, 56.47484733737146, 123.23592574329854, 313.7994861922402, 147.50111422095978, 67.2303687160021, 521.9134707206886, 42.77611000968488, 131.0580564213313, 68.60798676933882, 139.0425675420409, 368.5689482851889, 88.4134642462448, 784.566187967397, 116.51365148599024, 245.42126853787087, 82.16435103019313, 473.0685894878818, 182.57462085230634, 122.7124196445668, 260.6182056594163, 305.31863085952205, 190.24236515205442, 231.675704545708, 191.55048980059712, 488.9258164874008, 168.44289004217939, 277.6871817504502, 252.14081261540505, 391.3504897257694, 365.1671986729434, 432.70166345476724, 348.07649319932773, 195.61440742041083, 184.27228540913748, 383.218547775735, 316.3919896031707, 497.90832188902345, 312.4334363816922, 290.24547709675, 224.97951428681563, 339.6748064116013, 286.9673756692155, 321.3273056150118, 271.83957154721026, 246.5864842728765, 271.1511916152204, 254.5184986516451, 259.75074847104685, 263.873727253272, 250.08783220491554, 370.1043944971189, 211.11610238044625, 157.237120500273, 156.41224099835742, 165.0025257435524, 109.45611478381811, 80.80159119745305, 74.46444495129029, 73.52460458050099, 70.93984127628369, 70.99342290650424, 64.41185359114372, 172.06493207111092, 72.7933986926431, 84.28785345439707, 52.05059250116293, 48.815292451002605, 50.12301822231999, 46.441569918377795, 53.65230161612638, 41.551908546405855, 41.43694119976043, 39.72102561365816, 80.4465037321136, 36.69695541347099, 37.02633759925784, 49.248993078621, 35.22118298712929, 34.838608944423726, 34.08699453606532, 94.04191620375708, 210.93975024800704, 39.73864271332082, 169.3116902331398, 53.89232105233867, 42.87349679351907, 54.46370199919352, 347.40398515280975, 219.27454819416624, 62.172153827001154, 182.1412792995911, 101.75635541170963, 69.80664569199274, 390.59635207322094, 103.0838033699507, 272.32386788774056, 333.9990024010112, 286.5031152644375, 130.88069018229473, 117.0751026002897, 184.61352475919242, 155.55619159484078, 140.1830398516069, 231.11880700299176, 166.11525231260484, 218.72872423747876, 325.63204847122046, 227.52354178991376, 318.3971136648905, 169.46883808843248, 405.47708627186387, 266.994405719109, 395.8026999731621, 147.5395343142564, 158.71406832072938, 235.7840572403982, 203.09763770738778, 195.11842667056152, 187.22305729809386, 173.09779699474896, 172.39014659088525, 173.53035306005353, 171.05413055469327, 488.11370625680746, 271.353040907081, 271.48827734355143, 215.86264630188435, 189.54646730063592, 158.35431971192864, 121.66111145535842, 117.75265312622986, 118.34946396928693, 90.62163189120855, 88.45173394803813, 84.69055163653331, 83.25747465012985, 99.86492989142043, 72.42981113195644, 232.70761544208088, 67.99094666711511, 63.10665991183544, 85.30794110821122, 57.05565805724634, 56.561667863605926, 55.94525563672691, 72.67323933298887, 55.5322257849512, 59.16019895689587, 51.095887295973625, 56.15928096601295, 49.902089889164735, 49.31751653695757, 47.69899459944613, 185.5081031753148, 51.01584189693505, 294.05691354900546, 123.03048592678658, 188.91124243741314, 217.71117432450336, 332.82945805192827, 96.34208070470895, 85.78188879602841, 280.32909940724, 70.71522824813472, 148.66713073683619, 419.11010997693404, 188.4704270075667, 146.61941133299712, 124.8637091745154, 259.0238254236338, 303.2113987878338, 161.18170093977434, 250.61465258258028, 340.37393166736894, 220.03396622036098, 192.48122076124795, 217.85622404974373, 229.60969854683466, 242.2608900824797, 171.19110001692826, 179.10351651711136, 139.08857728444306, 164.6892533843629, 165.21665024093738, 166.73539684889974, 55.57369981284794, 41.88500771235199, 38.37632542050354, 36.05346774987223, 36.89178129156736, 37.0346164332199, 35.52774084108005, 35.67186486167189, 45.74013558666034, 34.706016859502974, 25.44203551469065, 25.360603376934684, 26.289093092086507, 31.235912538205646, 23.90102314030634, 23.836712379833706, 22.974251407034306, 22.98525171253792, 22.516817967834992, 21.24154251307312, 21.00683020290395, 24.495216058005024, 20.595520375946464, 22.635905693508814, 19.76821747481207, 19.308694431828577, 18.88433204009076, 21.36888249395179, 17.952281575083916, 19.512326286468493, 59.30878772024549, 31.07006489994214, 302.0546878338025, 39.47358405830611, 86.41765192447335, 87.07357543459416, 96.82606449881888, 111.16860716978, 104.09321819401262, 43.21291090814167, 35.11188511206094, 101.54983117846407, 56.649269438426835, 217.48443974477863, 39.14385865704547, 130.72584296004854, 224.3862020906261, 174.50588756003586, 69.2349148041356, 668.0073601730685, 196.45409296844272, 67.83512726568648, 100.00261039622133, 149.61658947858766, 79.32983756076707, 61.11445499101935, 180.10009125962608, 127.87396942805367, 167.19478391061912, 245.45585189011175, 94.39582621489086, 79.56332950093785, 134.79908201846195, 157.4239742111553, 160.66068830099732, 168.81129214258686, 221.04384063128362, 257.52611051922514, 223.29398305736646, 260.1087641605464, 171.74578009256714, 240.74701531004652, 198.98530967143935, 157.30786176194766, 146.19577596906845, 244.44964218938276, 210.5300201580008, 185.02193197379765, 176.82396086851665, 171.8819672448516, 166.34731756280885, 164.93601338789875, 161.3170857922147, 149.9850303768974], \"Total\": [1119.0, 488.0, 1005.0, 626.0, 661.0, 370.0, 328.0, 567.0, 432.0, 272.0, 272.0, 405.0, 317.0, 356.0, 235.0, 503.0, 216.0, 387.0, 395.0, 413.0, 190.0, 250.0, 284.0, 189.0, 306.0, 497.0, 331.0, 733.0, 211.0, 212.0, 162.95256509085905, 126.29581042693532, 178.7006275081263, 100.26795671635529, 98.98142669804835, 88.74466224489058, 96.58376709664947, 75.95412238741693, 432.78700699551223, 70.85438103379788, 57.89987472531035, 75.03536651466352, 57.008920057758075, 53.603328019166035, 55.61398195667934, 50.60131850063725, 47.10674752945751, 46.637292019532666, 67.20037119800753, 47.22737152734877, 45.4945823109784, 48.43582690526371, 41.109357077219656, 39.46433628721393, 38.82607613206646, 40.08453529442755, 38.89253254946832, 37.90426962430652, 37.80394670945398, 40.39658831610473, 57.81815256469963, 127.27245264717479, 331.37523714765035, 154.26925283116216, 69.2670102279881, 567.1973881500952, 43.73288388558069, 139.1292811337556, 71.48897117443728, 150.99639260753762, 433.6658709378023, 93.86332715538184, 1005.7651262936251, 126.95594525296777, 288.9888898943851, 87.53199488465788, 620.4835368167121, 213.4326100272738, 138.35921256580485, 326.3474873846297, 394.1438237301465, 229.7053437031875, 291.58723752998105, 237.98995125289534, 733.6076641492537, 209.4438152287838, 394.88484914418837, 349.6516449314486, 635.6644775474687, 580.593753413623, 744.9152355073334, 556.4676777274727, 262.49900692804033, 245.10778054091838, 791.5396724394965, 622.3902724653964, 1380.4215541340482, 620.3846155211688, 555.89896342817, 355.63027891328545, 817.3080494010264, 586.7939939602716, 748.9857198913818, 609.9202361469149, 486.1326485958168, 686.4609224339993, 573.6372619599246, 695.2752079538886, 867.6871638054558, 722.8686968494413, 370.8754995074281, 211.88807116601052, 157.990041047717, 157.17330733081906, 165.96097029837145, 110.24727266514425, 81.55848654718108, 75.21614976381301, 74.27673299376367, 71.69165245996737, 71.78360147794538, 65.1805336494236, 174.1207540073845, 73.67330643850408, 85.34376073718981, 52.82091669812547, 49.591787025042386, 50.92486554870424, 47.232055395966604, 54.573280356122204, 42.31712601974874, 42.213195039200215, 40.47489120381878, 82.03909675403231, 37.464094741390234, 37.80057559334932, 50.28802346502605, 35.98070754094317, 35.60691525755601, 34.840338991715996, 96.30099483306293, 218.3134548989407, 40.61738920310303, 176.25450636233364, 55.37103670928983, 43.863148091370725, 56.14962256682912, 395.7417657823433, 247.46775455789756, 64.95148424595827, 206.64015933200875, 111.0326072285058, 73.69344375128594, 497.8492116910101, 113.46824853742969, 344.5664475305105, 442.63027063116914, 377.61911518751623, 154.76838397038298, 137.01389577387525, 248.227983413271, 202.31527483711542, 177.35876812107577, 370.0078274728403, 232.8381418423385, 350.9868132054264, 640.3667002391486, 392.54555130246257, 661.0791601778956, 254.31758273707544, 1119.5385726427282, 622.3902724653964, 1380.4215541340482, 223.59430245004572, 275.4267848163073, 867.6871638054558, 620.1526254293144, 586.7939939602716, 695.2752079538886, 417.1193177243839, 469.5909010768715, 625.0318693752, 567.8139844488003, 488.87621750961335, 272.0993485382357, 272.3885051775471, 216.69852042415098, 190.29274087784108, 159.11348347548838, 122.40903735943303, 118.49762361300073, 119.09852968607346, 91.35539204734948, 89.18961948599308, 85.42866774085535, 83.9929138875122, 100.84342909456176, 73.17479706766264, 235.22617204819468, 68.73678521392377, 63.852361561969666, 86.36303038936161, 57.79430292977941, 57.30453570557912, 56.6839147371917, 73.64958994910037, 56.280988407793565, 60.01333716683768, 51.83809673015209, 56.98892571616475, 50.64393202533233, 50.05137571360047, 48.44660622609804, 189.5343555763272, 51.82352909075854, 317.11631007725225, 130.3205512971873, 212.48447881667408, 250.32738023267854, 405.70973655996727, 103.61043800409263, 91.53445224905751, 356.7378426135722, 73.80479835252368, 175.4470640752556, 626.4068556798353, 239.15305203901843, 179.6505804035069, 148.2847715050874, 387.7274044284184, 503.50978967515357, 211.62861531818288, 413.2994072408521, 661.0791601778956, 350.5377162776082, 288.8815129740318, 361.7493608087419, 481.11605509603135, 1380.4215541340482, 493.7371943158644, 722.8686968494413, 229.26593402334993, 527.8204689007264, 625.0318693752, 817.3080494010264, 56.40986254092461, 42.638228998765726, 39.128733487160964, 36.80089145628846, 37.658308104967794, 37.805464697563124, 36.26850210744104, 36.44990887661195, 46.9677713934445, 35.66700375057481, 26.17832161927278, 26.119980947708093, 27.087470516344148, 32.187338915978835, 24.645434217406322, 24.581365384527583, 23.723457142481674, 23.745208614348424, 23.267932528394823, 21.988466222970747, 21.756872087447945, 25.375498938739078, 21.335748205388235, 23.4633500308544, 20.505495774349118, 20.04240384770112, 19.631753221370545, 22.244845963530572, 18.698536663303628, 20.326775576327215, 62.142309313519036, 32.42796515176559, 328.53913155879854, 41.35785549930627, 93.3272925302235, 94.39934693722738, 106.65423750903861, 123.20492809195159, 117.55515781253175, 46.773407346038425, 37.49685677582677, 117.97492291833878, 63.513533755515105, 284.538504986411, 42.6448760315245, 164.308436277545, 306.6092363628859, 233.60695693573177, 81.90971909810915, 1119.5385726427282, 273.49019109480366, 81.01982907694878, 130.15775779618744, 219.79992726662954, 99.68049034576296, 72.09849605632299, 297.58134523805273, 194.77172694905323, 290.55194705276557, 493.94000549423197, 134.6546277829059, 107.79312292183066, 228.73301042523494, 288.1069002866824, 304.98569799768325, 329.80228123334103, 513.5952625474383, 686.4609224339993, 567.5820133688551, 867.6871638054558, 425.8179605303727, 791.5396724394965, 635.6644775474687, 390.5242619139024, 344.8926482767632, 1380.4215541340482, 1005.7651262936251, 733.6076641492537, 640.3667002391486, 626.4068556798353, 580.593753413623, 817.3080494010264, 722.8686968494413, 555.89896342817], \"Category\": [\"Default\", \"Default\", \"Default\", \"Default\", \"Default\", \"Default\", \"Default\", \"Default\", \"Default\", \"Default\", \"Default\", \"Default\", \"Default\", \"Default\", \"Default\", \"Default\", \"Default\", \"Default\", \"Default\", \"Default\", \"Default\", \"Default\", \"Default\", \"Default\", \"Default\", \"Default\", \"Default\", \"Default\", \"Default\", \"Default\", \"Topic1\", \"Topic1\", \"Topic1\", \"Topic1\", \"Topic1\", \"Topic1\", \"Topic1\", \"Topic1\", \"Topic1\", \"Topic1\", \"Topic1\", \"Topic1\", \"Topic1\", \"Topic1\", \"Topic1\", \"Topic1\", \"Topic1\", \"Topic1\", \"Topic1\", \"Topic1\", \"Topic1\", \"Topic1\", \"Topic1\", \"Topic1\", \"Topic1\", \"Topic1\", \"Topic1\", \"Topic1\", \"Topic1\", \"Topic1\", \"Topic1\", \"Topic1\", \"Topic1\", \"Topic1\", \"Topic1\", \"Topic1\", \"Topic1\", \"Topic1\", \"Topic1\", \"Topic1\", \"Topic1\", \"Topic1\", \"Topic1\", \"Topic1\", \"Topic1\", \"Topic1\", \"Topic1\", \"Topic1\", \"Topic1\", \"Topic1\", \"Topic1\", \"Topic1\", \"Topic1\", \"Topic1\", \"Topic1\", \"Topic1\", \"Topic1\", \"Topic1\", \"Topic1\", \"Topic1\", \"Topic1\", \"Topic1\", \"Topic1\", \"Topic1\", \"Topic1\", \"Topic1\", \"Topic1\", \"Topic1\", \"Topic1\", \"Topic1\", \"Topic1\", \"Topic1\", \"Topic1\", \"Topic1\", \"Topic1\", \"Topic1\", \"Topic1\", \"Topic1\", \"Topic1\", \"Topic1\", \"Topic2\", \"Topic2\", \"Topic2\", \"Topic2\", \"Topic2\", \"Topic2\", \"Topic2\", \"Topic2\", \"Topic2\", \"Topic2\", \"Topic2\", \"Topic2\", \"Topic2\", \"Topic2\", \"Topic2\", \"Topic2\", \"Topic2\", \"Topic2\", \"Topic2\", \"Topic2\", \"Topic2\", \"Topic2\", \"Topic2\", \"Topic2\", \"Topic2\", \"Topic2\", \"Topic2\", \"Topic2\", \"Topic2\", \"Topic2\", \"Topic2\", \"Topic2\", \"Topic2\", \"Topic2\", \"Topic2\", \"Topic2\", \"Topic2\", \"Topic2\", \"Topic2\", \"Topic2\", \"Topic2\", \"Topic2\", \"Topic2\", \"Topic2\", \"Topic2\", \"Topic2\", \"Topic2\", \"Topic2\", \"Topic2\", \"Topic2\", \"Topic2\", \"Topic2\", \"Topic2\", \"Topic2\", \"Topic2\", \"Topic2\", \"Topic2\", \"Topic2\", \"Topic2\", \"Topic2\", \"Topic2\", \"Topic2\", \"Topic2\", \"Topic2\", \"Topic2\", \"Topic2\", \"Topic2\", \"Topic2\", \"Topic2\", \"Topic2\", \"Topic2\", \"Topic2\", \"Topic2\", \"Topic3\", \"Topic3\", \"Topic3\", \"Topic3\", \"Topic3\", \"Topic3\", \"Topic3\", \"Topic3\", \"Topic3\", \"Topic3\", \"Topic3\", \"Topic3\", \"Topic3\", \"Topic3\", \"Topic3\", \"Topic3\", \"Topic3\", \"Topic3\", \"Topic3\", \"Topic3\", \"Topic3\", \"Topic3\", \"Topic3\", \"Topic3\", \"Topic3\", \"Topic3\", \"Topic3\", \"Topic3\", \"Topic3\", \"Topic3\", \"Topic3\", \"Topic3\", \"Topic3\", \"Topic3\", \"Topic3\", \"Topic3\", \"Topic3\", \"Topic3\", \"Topic3\", \"Topic3\", \"Topic3\", \"Topic3\", \"Topic3\", \"Topic3\", \"Topic3\", \"Topic3\", \"Topic3\", \"Topic3\", \"Topic3\", \"Topic3\", \"Topic3\", \"Topic3\", \"Topic3\", \"Topic3\", \"Topic3\", \"Topic3\", \"Topic3\", \"Topic3\", \"Topic3\", \"Topic3\", \"Topic3\", \"Topic3\", \"Topic4\", \"Topic4\", \"Topic4\", \"Topic4\", \"Topic4\", \"Topic4\", \"Topic4\", \"Topic4\", \"Topic4\", \"Topic4\", \"Topic4\", \"Topic4\", \"Topic4\", \"Topic4\", \"Topic4\", \"Topic4\", \"Topic4\", \"Topic4\", \"Topic4\", \"Topic4\", \"Topic4\", \"Topic4\", \"Topic4\", \"Topic4\", \"Topic4\", \"Topic4\", \"Topic4\", \"Topic4\", \"Topic4\", \"Topic4\", \"Topic4\", \"Topic4\", \"Topic4\", \"Topic4\", \"Topic4\", \"Topic4\", \"Topic4\", \"Topic4\", \"Topic4\", \"Topic4\", \"Topic4\", \"Topic4\", \"Topic4\", \"Topic4\", \"Topic4\", \"Topic4\", \"Topic4\", \"Topic4\", \"Topic4\", \"Topic4\", \"Topic4\", \"Topic4\", \"Topic4\", \"Topic4\", \"Topic4\", \"Topic4\", \"Topic4\", \"Topic4\", \"Topic4\", \"Topic4\", \"Topic4\", \"Topic4\", \"Topic4\", \"Topic4\", \"Topic4\", \"Topic4\", \"Topic4\", \"Topic4\", \"Topic4\", \"Topic4\", \"Topic4\", \"Topic4\", \"Topic4\", \"Topic4\", \"Topic4\", \"Topic4\", \"Topic4\", \"Topic4\", \"Topic4\", \"Topic4\", \"Topic4\", \"Topic4\", \"Topic4\", \"Topic4\"], \"logprob\": [30.0, 29.0, 28.0, 27.0, 26.0, 25.0, 24.0, 23.0, 22.0, 21.0, 20.0, 19.0, 18.0, 17.0, 16.0, 15.0, 14.0, 13.0, 12.0, 11.0, 10.0, 9.0, 8.0, 7.0, 6.0, 5.0, 4.0, 3.0, 2.0, 1.0, -6.1486, -6.4049, -6.0586, -6.6371, -6.6506, -6.7604, -6.6759, -6.9173, -5.1775, -6.9876, -7.1919, -6.9329, -7.2077, -7.2701, -7.2337, -7.3285, -7.4013, -7.4116, -7.0465, -7.3993, -7.4375, -7.3752, -7.5398, -7.5815, -7.5981, -7.5665, -7.5968, -7.6227, -7.6254, -7.5595, -7.2036, -6.4233, -5.4886, -6.2435, -7.0292, -4.9799, -7.4814, -6.3617, -7.009, -6.3026, -5.3277, -6.7553, -4.5722, -6.4794, -5.7344, -6.8286, -5.0781, -6.0302, -6.4275, -5.6743, -5.516, -5.9891, -5.792, -5.9822, -5.0452, -6.1108, -5.6109, -5.7074, -5.2678, -5.337, -5.1673, -5.3849, -5.9612, -6.021, -5.2888, -5.4804, -5.0269, -5.493, -5.5666, -5.8214, -5.4094, -5.578, -5.4649, -5.6322, -5.7297, -5.6347, -5.698, -5.6776, -5.6619, -5.7156, -5.1282, -5.6896, -5.9842, -5.9895, -5.936, -6.3465, -6.65, -6.7317, -6.7444, -6.7802, -6.7794, -6.8767, -5.8941, -6.7544, -6.6078, -7.0898, -7.154, -7.1275, -7.2038, -7.0595, -7.3151, -7.3178, -7.3601, -6.6544, -7.4393, -7.4304, -7.1451, -7.4804, -7.4913, -7.5131, -6.4983, -5.6904, -7.3597, -5.9103, -7.055, -7.2837, -7.0445, -5.1915, -5.6517, -6.9121, -5.8372, -6.4194, -6.7963, -5.0743, -6.4065, -5.435, -5.2309, -5.3843, -6.1677, -6.2792, -5.8237, -5.995, -6.0991, -5.5991, -5.9293, -5.6542, -5.2562, -5.6147, -5.2787, -5.9093, -5.0369, -5.4548, -5.0611, -6.0479, -5.9749, -5.5791, -5.7283, -5.7684, -5.8097, -5.8881, -5.8922, -5.8856, -5.9, -4.5679, -5.155, -5.1545, -5.3838, -5.5138, -5.6936, -5.9572, -5.9899, -5.9848, -6.2518, -6.276, -6.3195, -6.3365, -6.1546, -6.4758, -5.3087, -6.5391, -6.6136, -6.3122, -6.7144, -6.7231, -6.7341, -6.4725, -6.7415, -6.6782, -6.8248, -6.7303, -6.8484, -6.8602, -6.8936, -5.5354, -6.8263, -5.0747, -5.946, -5.5172, -5.3753, -4.9508, -6.1906, -6.3067, -5.1225, -6.4998, -5.7568, -4.7203, -5.5195, -5.7706, -5.9312, -5.2015, -5.044, -5.6759, -5.2346, -4.9284, -5.3647, -5.4985, -5.3746, -5.3221, -5.2685, -5.6157, -5.5705, -5.8234, -5.6544, -5.6512, -5.6421, -6.6871, -6.9699, -7.0573, -7.1198, -7.0968, -7.0929, -7.1345, -7.1304, -6.8818, -7.1579, -7.4684, -7.4716, -7.4356, -7.2632, -7.5309, -7.5336, -7.5704, -7.5699, -7.5905, -7.6488, -7.6599, -7.5063, -7.6797, -7.5852, -7.7207, -7.7442, -7.7664, -7.6428, -7.8171, -7.7337, -6.622, -7.2685, -4.9942, -7.0291, -6.2456, -6.238, -6.1319, -5.9937, -6.0595, -6.9386, -7.1462, -6.0842, -6.6679, -5.3227, -7.0375, -5.8317, -5.2914, -5.5428, -6.4673, -4.2005, -5.4244, -6.4877, -6.0996, -5.6967, -6.3312, -6.592, -5.5113, -5.8537, -5.5856, -5.2017, -6.1573, -6.3282, -5.801, -5.6458, -5.6255, -5.576, -5.3064, -5.1537, -5.2963, -5.1437, -5.5588, -5.221, -5.4115, -5.6466, -5.7198, -5.2058, -5.3552, -5.4843, -5.5296, -5.558, -5.5907, -5.5992, -5.6214, -5.6942], \"loglift\": [30.0, 29.0, 28.0, 27.0, 26.0, 25.0, 24.0, 23.0, 22.0, 21.0, 20.0, 19.0, 18.0, 17.0, 16.0, 15.0, 14.0, 13.0, 12.0, 11.0, 10.0, 9.0, 8.0, 7.0, 6.0, 5.0, 4.0, 3.0, 2.0, 1.0, 1.1036, 1.1021, 1.1013, 1.1007, 1.1001, 1.0995, 1.0993, 1.0982, 1.0979, 1.0974, 1.095, 1.0947, 1.0947, 1.0939, 1.0935, 1.0932, 1.0919, 1.0916, 1.0915, 1.0914, 1.0906, 1.0902, 1.0896, 1.0887, 1.0885, 1.0882, 1.088, 1.0878, 1.0878, 1.0874, 1.0848, 1.076, 1.0538, 1.0634, 1.0784, 1.0251, 1.0861, 1.0485, 1.0671, 1.0258, 0.9456, 1.0484, 0.8599, 1.0224, 0.9448, 1.045, 0.837, 0.9521, 0.9883, 0.8834, 0.8529, 0.9198, 0.8783, 0.8912, 0.7025, 0.8904, 0.7562, 0.7813, 0.6232, 0.6446, 0.565, 0.6391, 0.8142, 0.823, 0.3829, 0.4317, 0.0885, 0.4223, 0.4584, 0.6504, 0.2302, 0.393, 0.262, 0.3001, 0.4295, 0.1794, 0.2956, 0.1237, -0.0821, 0.0468, 1.3015, 1.3, 1.2988, 1.2988, 1.2978, 1.2964, 1.2943, 1.2936, 1.2934, 1.2931, 1.2926, 1.2918, 1.2917, 1.2916, 1.2912, 1.2889, 1.2878, 1.2878, 1.2867, 1.2866, 1.2854, 1.2851, 1.2848, 1.284, 1.2829, 1.2829, 1.2827, 1.2823, 1.2818, 1.2818, 1.2799, 1.2693, 1.2818, 1.2634, 1.2766, 1.2808, 1.2731, 1.1734, 1.1827, 1.2599, 1.1774, 1.2164, 1.2494, 1.061, 1.2076, 1.0683, 1.022, 1.0275, 1.136, 1.1464, 1.0075, 1.0408, 1.0684, 0.833, 0.966, 0.8307, 0.6274, 0.7582, 0.5731, 0.8977, 0.288, 0.4573, 0.0544, 0.8879, 0.7524, 0.0007, 0.1873, 0.2026, -0.0084, 0.4241, 0.3015, 0.0222, 0.1038, 1.5856, 1.5844, 1.5838, 1.5833, 1.5832, 1.5824, 1.581, 1.5809, 1.5808, 1.5791, 1.5789, 1.5785, 1.5784, 1.5774, 1.5769, 1.5764, 1.5762, 1.5754, 1.5749, 1.5743, 1.5741, 1.574, 1.5738, 1.5738, 1.5728, 1.5727, 1.5725, 1.5724, 1.5724, 1.5716, 1.5657, 1.5715, 1.5117, 1.5296, 1.4696, 1.4476, 1.3892, 1.5144, 1.5223, 1.3461, 1.5444, 1.4215, 1.1853, 1.349, 1.384, 1.4152, 1.1838, 1.08, 1.3149, 1.0869, 0.9233, 1.1215, 1.1811, 1.08, 0.8474, -0.153, 0.5279, 0.1919, 1.0874, 0.4225, 0.2566, -0.0024, 1.6259, 1.623, 1.6214, 1.6203, 1.6203, 1.6202, 1.6202, 1.6193, 1.6144, 1.6135, 1.6123, 1.6113, 1.6109, 1.6108, 1.6102, 1.6101, 1.6088, 1.6083, 1.608, 1.6063, 1.6058, 1.6055, 1.6055, 1.6049, 1.6042, 1.6036, 1.602, 1.6007, 1.6001, 1.6, 1.5942, 1.5981, 1.5568, 1.5942, 1.5639, 1.5601, 1.5442, 1.538, 1.5192, 1.5617, 1.5751, 1.4909, 1.5265, 1.3721, 1.5552, 1.4122, 1.3286, 1.3492, 1.4727, 1.1245, 1.31, 1.4632, 1.3773, 1.2562, 1.4125, 1.4756, 1.1387, 1.2201, 1.0882, 0.9415, 1.2856, 1.3372, 1.1121, 1.0365, 0.9999, 0.9711, 0.7978, 0.6604, 0.7079, 0.4361, 0.7328, 0.4506, 0.4794, 0.7316, 0.7826, -0.0903, 0.077, 0.2633, 0.354, 0.3477, 0.3909, 0.0404, 0.141, 0.3308]}, \"token.table\": {\"Topic\": [2, 2, 3, 4, 1, 2, 3, 3, 2, 2, 3, 4, 1, 2, 3, 4, 4, 1, 4, 1, 1, 2, 1, 2, 3, 3, 3, 4, 1, 2, 4, 2, 3, 3, 2, 3, 3, 1, 2, 3, 4, 2, 3, 4, 3, 1, 4, 1, 2, 3, 4, 2, 3, 2, 1, 2, 3, 4, 1, 4, 1, 2, 3, 4, 1, 1, 2, 3, 4, 1, 2, 3, 4, 1, 2, 3, 4, 1, 3, 1, 3, 4, 1, 1, 2, 3, 4, 2, 3, 4, 1, 2, 3, 4, 2, 3, 4, 1, 2, 3, 4, 1, 2, 3, 4, 2, 3, 4, 3, 4, 1, 2, 3, 4, 1, 1, 3, 1, 4, 4, 1, 2, 3, 4, 1, 1, 1, 2, 3, 4, 1, 2, 4, 1, 2, 3, 4, 1, 2, 4, 2, 3, 4, 1, 2, 3, 4, 1, 1, 4, 1, 2, 3, 4, 1, 2, 3, 4, 1, 2, 3, 4, 1, 2, 3, 4, 3, 3, 3, 3, 2, 2, 1, 2, 3, 4, 3, 1, 2, 4, 1, 2, 3, 3, 1, 3, 4, 1, 2, 3, 4, 4, 1, 2, 3, 4, 1, 1, 2, 4, 2, 1, 2, 3, 4, 1, 2, 3, 4, 1, 2, 3, 4, 2, 4, 1, 2, 3, 4, 4, 2, 3, 4, 3, 1, 2, 3, 4, 1, 2, 3, 4, 2, 1, 2, 3, 4, 2, 3, 4, 4, 2, 3, 4, 2, 1, 3, 3, 3, 4, 1, 2, 3, 4, 1, 2, 3, 4, 1, 2, 3, 4, 3, 2, 2, 3, 4, 3, 1, 2, 3, 4, 4, 2, 1, 4, 1, 1, 1, 4, 2, 2, 1, 4, 2, 1, 2, 3, 4, 1, 2, 3, 4, 4, 1, 3, 4, 2, 4, 4, 4, 4, 1, 2, 3, 4, 1, 2, 4, 2, 1, 4, 1, 2, 3, 3, 2, 3, 4, 1, 2, 3, 4, 1, 2, 3, 4, 1, 2, 3, 4, 4, 4, 1, 4, 1, 2, 3, 4, 4, 1, 1, 1, 2, 3, 4, 2, 3, 4, 2, 3, 2, 3, 4, 2, 1, 2, 3, 4, 2, 4, 4, 3, 1, 2, 3, 4, 4, 1, 2, 3, 4, 4, 1, 2, 3, 4, 1, 1, 2, 3, 4, 2, 1, 2, 3, 4, 1, 2, 3, 4, 1, 2, 1, 2, 3, 4, 3, 1, 2, 3, 4, 1, 2, 3, 4, 4, 4, 4, 1, 2, 4, 1, 2, 3, 4, 1, 1, 2, 3, 4, 2, 3, 4, 1, 2, 3, 4, 2, 2, 4, 1, 2, 3, 4, 4, 1, 1, 4, 1, 2, 3, 4, 1, 2, 4, 1, 1, 2, 3, 4, 1, 2, 4, 1, 2, 3, 4, 4, 4, 1, 2, 3, 4, 3, 4, 2, 3, 4, 2, 4, 2, 3, 4, 3, 1, 2, 3, 4, 2, 1, 2, 3, 4, 1, 3, 4, 1, 2, 3, 4, 1, 2, 3, 4, 3, 2, 4, 1, 2, 3, 4, 1, 2, 4, 1, 2, 3, 4, 2, 3, 4, 1, 2, 3, 4, 3, 1, 2, 4, 2, 1, 2, 3, 4, 4, 1, 2, 3, 4, 1, 2, 4, 1, 2, 3, 4, 4, 1, 2, 1, 2, 3, 4, 2, 1, 1, 2, 3, 4, 1, 2, 3, 4, 1, 2, 3, 4, 1, 2, 3, 4, 4, 3, 1, 2, 3, 4, 1, 2, 3, 4, 1, 2, 4, 1, 2, 3, 4, 2, 4, 4, 3, 2, 1, 2, 2, 3, 4, 1, 2, 3, 4, 1, 2, 3, 4, 2, 4, 2, 1, 2, 3, 4, 1, 2, 3, 4, 1, 1, 1, 2, 3, 4, 3, 1, 2, 3, 4, 1, 2, 3, 2, 1, 2, 3, 4, 1, 2, 3, 4, 1, 2, 3, 4, 1, 2, 3, 4, 3, 2, 3, 4, 1, 2, 3, 4, 1, 2, 3, 4, 2, 2], \"Freq\": [0.9758802865863101, 0.010032053379064324, 0.19060901420222215, 0.7925322169460816, 0.0030253562969097415, 0.4810316512086489, 0.514310570474656, 0.9961097857566493, 0.9890838372300652, 0.7545801138357129, 0.16040475473753177, 0.08585043211304517, 0.04237073642856983, 0.7600250846874713, 0.06885244669642597, 0.1297603803124951, 0.9479900786541289, 0.9203145340681033, 0.07933745983345718, 0.9879417331528119, 0.04070918452562682, 0.9498809722646258, 0.028498624507363193, 0.12539394783239804, 0.8492590103194232, 0.9789940696212516, 0.07034842820934223, 0.9145295667214489, 0.020536861600278806, 0.3183213548043215, 0.6571795712089218, 0.054624241224445445, 0.9395369490604616, 0.986661906476909, 0.027098509102987233, 0.9619970731560468, 0.9949024824794203, 0.05253209664921625, 0.88496378201372, 0.02424558306886904, 0.04040930511478173, 0.01892050269674981, 0.9271046321407407, 0.05360809097412446, 0.9862563801358674, 0.9651838439755407, 0.02797634330363886, 0.20409465282821376, 0.0556621780440583, 0.009277029674009717, 0.7421623739207773, 0.011579028613187504, 0.9842174321209378, 0.9818386256156199, 0.141338039501565, 0.2182425609950636, 0.47805513360823454, 0.16420154589152405, 0.966430656765774, 0.03142863924441541, 0.7506901641144883, 0.004079837848448306, 0.008159675696896612, 0.23663059521000174, 0.988744579087509, 0.5812741898144964, 0.10068259638819223, 0.2040500620134029, 0.11410694257328452, 0.9832418120996056, 0.09587445040047986, 0.8708595911376921, 0.031958150133493284, 0.3739526406603059, 0.2689582453979893, 0.14958105626412238, 0.2085505111374783, 0.008502455243756748, 0.9905360358976613, 0.9475662777423876, 0.04526590498769367, 0.006035453998359156, 0.9787337889445037, 0.020379800442155243, 0.5808243126014244, 0.03566465077377167, 0.36428893290352493, 0.0276930147507194, 0.6646323540172655, 0.30462316225791336, 0.005566361086916251, 0.1391590271729063, 0.8182550797766889, 0.044530888695330006, 0.8539279854730519, 0.036492648951839825, 0.10217941706515152, 0.014517991128626164, 0.8807581284699872, 0.0048393303762087215, 0.09678660752417442, 0.11804155399259865, 0.2360831079851973, 0.056834822292732685, 0.5902077699629933, 0.018752185067475696, 0.07500874026990278, 0.9094809757725713, 0.030837580937314948, 0.9559650090567634, 0.7997610218839778, 0.04289905864511758, 0.009192655423953769, 0.15014670525791154, 0.9730144873067257, 0.9770513131709001, 0.9959597531411171, 0.06428987531227197, 0.9214882128092315, 0.9812991370051919, 0.40875150116716247, 0.11275903480473448, 0.08456927610355086, 0.3928947618977467, 0.9844580885609935, 0.9973275937285399, 0.7207173300998089, 0.20591923717137398, 0.025739904646421747, 0.04575983048252755, 0.9593616179756607, 0.0324108654721507, 0.00648217309443014, 0.04522887569427322, 0.8464261022785416, 0.012922535912649491, 0.09691901934487118, 0.9874381750795531, 0.0212911954374649, 0.9793949901233854, 0.9617161706782508, 0.017809558716263905, 0.9738112052840006, 0.05931336627776243, 0.7710737616109116, 0.13839785464811233, 0.03459946366202808, 0.9916089348243201, 0.9415703073608186, 0.0575004767853935, 0.0277398296690906, 0.0138699148345453, 0.0970894038418171, 0.8460648049072633, 0.502913825059793, 0.24178549281720815, 0.16280223183025347, 0.0918784872705391, 0.9910019724425032, 0.409565315968745, 0.013766901377100672, 0.5747681324939531, 0.13085241000935013, 0.13085241000935013, 0.6062828330433223, 0.13085241000935013, 0.9982076904577668, 0.9949821558477806, 0.9881785993418211, 0.9879345888447791, 0.9844584920247208, 0.9937335224350123, 0.8889903152744536, 0.04336538123290017, 0.04336538123290017, 0.021682690616450086, 0.9841089731786445, 0.1382937160625185, 0.09219581070834566, 0.7682984225695473, 0.0057431407628615585, 0.987820211212188, 0.0057431407628615585, 0.9866510565761544, 0.3605134616444528, 0.6073079118977024, 0.031454194640120045, 0.0081165584484873, 0.0649324675878984, 0.0324662337939492, 0.9009379877820903, 0.9839238852664964, 0.025519935116621404, 0.03402658015549521, 0.05954651527211661, 0.8846910840428753, 0.9976577969931437, 0.036025453241568715, 0.9186490576600023, 0.045031816551960896, 0.9925059650884434, 0.18583102456070683, 0.5090833109814321, 0.029670499719776717, 0.27640412896844624, 0.020907113488078076, 0.10035414474277476, 0.7861074671517356, 0.08780987664992791, 0.5080917743612858, 0.13576541339208448, 0.14810772370045577, 0.20776222352425047, 0.9545586327976495, 0.030792213961214503, 0.0017864502830651893, 0.36175618232070084, 0.039301906227434166, 0.5966743945437732, 0.9753482783390462, 0.06355976174273549, 0.01059329362378925, 0.9216165452696647, 0.9907762951484873, 0.06215945051611396, 0.03290794439088386, 0.1864783515483419, 0.7166619000681375, 0.48386709262418637, 0.04421761943040868, 0.16802695383555297, 0.3044698937922426, 0.9818882481727881, 0.30425712285769324, 0.27198742800915005, 0.12446882298723816, 0.2996471664507585, 0.05587422883808436, 0.6688943395187813, 0.27458192457572883, 0.9631116160587789, 0.02137966970423627, 0.06413900911270881, 0.9193257972821597, 0.9838312680503875, 0.9863351410012023, 0.998461628770017, 0.9907814755069994, 0.9265475742531654, 0.06756076062262664, 0.002579131597556753, 0.03610784236579454, 0.667995083767199, 0.2940210021214698, 0.0032788422754420317, 0.27542275113713066, 0.1967305365265219, 0.5278936063461671, 0.4016517215437384, 0.03220792106718657, 0.3126062927109285, 0.25387420135311767, 0.9950074009760167, 0.9847998796767601, 0.1207760021129229, 0.8207838510939455, 0.05915559287163571, 0.9839453320714189, 0.12431690844185449, 0.009096359154282035, 0.3547580070169994, 0.512428232357888, 0.9763493453096175, 0.9976393708708424, 0.9889391157356028, 0.009242421642388811, 0.9787236771169826, 0.9761433307310939, 0.9904833713689731, 0.0055959512506721645, 0.9880668340355723, 0.9894952190452687, 0.9205517933218573, 0.07284942249309663, 0.9931523184057861, 0.5077200174550751, 0.42899128057121855, 0.0016067089159970732, 0.06105493880788878, 0.3544395723366248, 0.058735700558640684, 0.34633809639750196, 0.2410189091889049, 0.9876567900859518, 0.0028031789189329887, 0.7848900973012369, 0.21023841891997416, 0.07913821369356967, 0.9192207898253093, 0.9678198266733081, 0.9925968239149874, 0.9549886491422244, 0.632679536420639, 0.134971634436403, 0.03374290860910075, 0.1996455426038461, 0.9368003106527223, 0.011424394032350273, 0.04569757612940109, 0.9803217933748687, 0.9821374320318766, 0.014880870182301161, 0.0052760883216092765, 0.01582826496482783, 0.9813524278193255, 0.9958005604008912, 0.907742926568779, 0.05287822873216188, 0.035252152488107924, 0.18874039098438775, 0.6645234599241986, 0.08257392105566964, 0.06291346366146258, 0.4159998182437734, 0.17863521606938507, 0.204329322490324, 0.20188226473594886, 0.1579139149135205, 0.2247236481461638, 0.12147224224116962, 0.4960116558181093, 0.9695045651172747, 0.94403890386243, 0.9672714294939774, 0.028873774014745595, 0.7623087027041009, 0.0660774985430616, 0.0660774985430616, 0.10636865619126988, 0.9686164637905889, 0.9729437977399149, 0.9901826284684881, 0.030243831288551952, 0.3158800156804315, 0.05040638548091992, 0.6048766257710391, 0.9761062194938724, 0.010384108718019919, 0.010384108718019919, 0.9876122793145325, 0.9892810638200386, 0.046040320887819154, 0.9438265782002926, 0.007673386814636525, 0.9962742977159899, 0.6253732497477261, 0.11321412279915732, 0.06649083402490191, 0.19408135336998397, 0.032184191770370865, 0.9494336572259404, 0.9571216782297705, 0.9838324170249754, 0.11985944411622619, 0.12414013854894855, 0.01284208329816709, 0.7491215257264137, 0.9550461495155073, 0.044314101290047814, 0.7452826126053496, 0.024171327976389715, 0.1893420691483861, 0.9884849017819759, 0.39477848067317434, 0.14567471611556249, 0.08449133534702624, 0.3758407675781512, 0.9765055414032688, 0.030063802883034105, 0.7129416112262373, 0.05153794779948704, 0.20185696221465757, 0.9886865893822824, 0.7956452482806136, 0.0240065376636392, 0.01714752690259943, 0.16461625826495452, 0.7738292005022525, 0.06342862299198791, 0.05328004331326985, 0.1065600866265397, 0.9375333547928079, 0.05326894061322772, 0.6151043731569881, 0.050341022867068076, 0.020451040539746404, 0.3130582359545796, 0.9831148005647379, 0.44453179197033194, 0.23708362238417705, 0.1708396690709511, 0.14643400206081522, 0.8021244256675086, 0.1432365045834837, 0.00477455015278279, 0.047745501527827895, 0.9786944902276246, 0.9802521792393204, 0.9782371724000287, 0.027483418293102708, 0.9665002099741119, 0.004580569715517118, 0.019969320489485798, 0.10840488265720861, 0.6276072153838393, 0.2424846059437561, 0.9939558466790253, 0.07418158917028515, 0.04046268500197372, 0.8429726042077859, 0.04046268500197372, 0.40957019732114514, 0.04512214038283802, 0.5449366184696592, 0.2986436519149762, 0.26964912260284263, 0.005798905862426723, 0.42332012795715074, 0.9903523989720617, 0.9751448171090196, 0.012189310213862744, 0.10919020901625079, 0.1592357214820324, 0.05004551246578161, 0.6824388063515674, 0.9842635841894946, 0.989128764660423, 0.9685539491656174, 0.017295606235100312, 0.017688302335644748, 0.8768344157812469, 0.06822630900891546, 0.035376604671289495, 0.04723402749952484, 0.0629787033326998, 0.897446522490972, 0.9882340277096116, 0.7040027000339306, 0.05064767626143386, 0.015194302878430158, 0.23297931080259576, 0.48909839390658644, 0.33231423976231483, 0.1772342612065679, 0.7466694914153716, 0.04571445865808398, 0.02285722932904199, 0.18285783463233593, 0.9825189144681475, 0.9652122747973224, 0.9215795271885069, 0.03938374047814132, 0.023630244286884792, 0.015753496191256527, 0.9930019540068714, 0.9457942110986753, 0.08639860241314176, 0.07405594492555008, 0.8393007091562342, 0.053337804071336106, 0.9334115712483818, 0.1897809929189687, 0.045688016813825796, 0.7626384345077075, 0.9826470546033781, 0.024344459058957366, 0.10346395100056881, 0.07911949194161144, 0.7972810341808537, 0.9739148469056077, 0.6286667706188168, 0.031002744852434802, 0.05339361613474883, 0.28591420252800986, 0.8067567516578672, 0.13445945860964453, 0.05882601314171948, 0.08838017409036007, 0.7853783652120634, 0.030129604803531843, 0.0964147353713019, 0.015363962204537243, 0.36873509290889384, 0.21253481049609854, 0.4020236776853912, 0.9966584382308966, 0.9908609173247016, 0.9850315312396253, 0.02227921943267102, 0.2599242267144952, 0.014852812955114014, 0.6980822088903587, 0.09766850732838951, 0.048834253664194756, 0.8423908757073596, 0.19729312349576827, 0.6243111168153763, 0.02162116421871433, 0.1567534405856789, 0.7893604668274848, 0.011276578097535498, 0.19170182765810345, 0.2747378618218349, 0.3011549639200882, 0.2536041801432322, 0.17083059356870503, 0.9916362513439436, 0.8477834566219433, 0.14533430684947599, 0.0034603406392732378, 0.9788210739973447, 0.23236665251233302, 0.5772859023353274, 0.1125525973106613, 0.07987603680111448, 0.9711533344790899, 0.8271466259204986, 0.10448167906364193, 0.026120419765910483, 0.043534032943184135, 0.9941543412321989, 0.02417920339261241, 0.9429889323118841, 0.7805003170997057, 0.007954143358977893, 0.00298280375961671, 0.2097905310930419, 0.9626421748459855, 0.9862016198126894, 0.9958087722394021, 0.08941829589535663, 0.009412452199511223, 0.8894767328538107, 0.009412452199511223, 0.9712602886828724, 0.9889599353422022, 0.8508854967121061, 0.006917768265952082, 0.1176020605211854, 0.027671073063808328, 0.051977848002556455, 0.04725258909323314, 0.7607666844010536, 0.13703250837037612, 0.2747071966347211, 0.3662762621796281, 0.07453296032724992, 0.28322524924354964, 0.0993029351668777, 0.011916352220025324, 0.6017757871112789, 0.28599245328060774, 0.9927342042248861, 0.9911799923183644, 0.43392859622866403, 0.41474943175446893, 0.09589582237097548, 0.055140097863310894, 0.2467134600842532, 0.32733877383727716, 0.18705072790701552, 0.24026343498401131, 0.9823024176438372, 0.1356220424155315, 0.8645905203990133, 0.5216775332905835, 0.08094996206233192, 0.12772105125390149, 0.26983320687443973, 0.975239099883788, 0.01805998333118126, 0.959853375172555, 0.9872851099908626, 0.9727435170687735, 0.9740114368499628, 0.9743870731781329, 0.08479848914018959, 0.18264289968656217, 0.7305715987462487, 0.3607593626081855, 0.2868688907486776, 0.1753087665686363, 0.17675759935019528, 0.08956468907411544, 0.32321170405006877, 0.15771173510876849, 0.4302999192473807, 0.9842547278725174, 0.011717318188958542, 0.9882670171631253, 0.666568826768026, 0.012268137915975938, 0.06815632175542187, 0.2521783904950609, 0.4368063755890658, 0.04462000610856049, 0.11507264733260336, 0.4039284763511792, 0.9881165448163238, 0.9900847388162803, 0.0812615395395417, 0.7893978126698337, 0.0812615395395417, 0.04643516545116669, 0.9946856614083085, 0.08569469184602044, 0.18521110818333447, 0.6026271878204017, 0.12992421021816, 0.0056736138022154105, 0.9588407325744044, 0.02836806901107705, 0.9925349453368092, 0.8574134944824743, 0.028111917851884403, 0.018741278567922934, 0.09839171248159541, 0.3458442744714257, 0.18260577692091276, 0.2476245005215408, 0.22272371275959815, 0.4285795996838919, 0.19626542415430565, 0.18157889581622835, 0.19226000733483, 0.008944771749927884, 0.6619131094946634, 0.1386439621238822, 0.19231259262344952, 0.9967765334863212, 0.6239550654338206, 0.22507968113822752, 0.15100282405476023, 0.2639865390623022, 0.27838580482933684, 0.2639865390623022, 0.19359012864568828, 0.44595995325277554, 0.226259093929717, 0.1737932170764493, 0.1541185132564739, 0.9829551295537398, 0.9942096608820509], \"Term\": [\"adb\", \"ajax\", \"ajax\", \"ajax\", \"android\", \"android\", \"android\", \"android layout\", \"android studio\", \"app\", \"app\", \"app\", \"applic\", \"applic\", \"applic\", \"applic\", \"applic json\", \"array\", \"array\", \"arraylist\", \"assembl\", \"assembl\", \"background\", \"background\", \"background\", \"background color\", \"base64\", \"base64\", \"bash\", \"bash\", \"bash\", \"bootstrap\", \"bootstrap\", \"border\", \"bottom\", \"bottom\", \"branch\", \"build\", \"build\", \"build\", \"build\", \"button\", \"button\", \"button\", \"canva\", \"cast\", \"cast\", \"catch\", \"catch\", \"catch\", \"catch\", \"center\", \"center\", \"certif\", \"chang\", \"chang\", \"chang\", \"chang\", \"char\", \"char\", \"charact\", \"charact\", \"charact\", \"charact\", \"charact string\", \"class\", \"class\", \"class\", \"class\", \"claus\", \"click\", \"click\", \"click\", \"code\", \"code\", \"code\", \"code\", \"color\", \"color\", \"column\", \"column\", \"column\", \"column name\", \"command\", \"command\", \"command\", \"command\", \"commit\", \"commit\", \"commit\", \"compon\", \"compon\", \"compon\", \"compon\", \"configur\", \"configur\", \"configur\", \"connect\", \"connect\", \"connect\", \"connect\", \"consol\", \"consol\", \"consol\", \"consol\", \"consol log\", \"consol log\", \"consol log\", \"content type\", \"content type\", \"convert\", \"convert\", \"convert\", \"convert\", \"cout\", \"creat tabl\", \"css\", \"csv\", \"csv\", \"csv file\", \"data\", \"data\", \"data\", \"data\", \"data frame\", \"datafram\", \"date\", \"date\", \"date\", \"date\", \"datetim\", \"datetim\", \"datetim\", \"debug\", \"debug\", \"debug\", \"debug\", \"decim\", \"decod\", \"decod\", \"deploy\", \"deploy\", \"deseri\", \"develop\", \"develop\", \"develop\", \"develop\", \"df\", \"dictionari\", \"dictionari\", \"diff\", \"diff\", \"diff\", \"diff\", \"differ\", \"differ\", \"differ\", \"differ\", \"digit\", \"directori\", \"directori\", \"directori\", \"display\", \"display\", \"display\", \"display\", \"div\", \"div class\", \"div div\", \"div id\", \"dll\", \"docker\", \"doubl\", \"doubl\", \"doubl\", \"doubl\", \"drawabl\", \"echo\", \"echo\", \"echo\", \"eclips\", \"eclips\", \"eclips\", \"edittext\", \"element\", \"element\", \"element\", \"email\", \"email\", \"email\", \"email\", \"email address\", \"encod\", \"encod\", \"encod\", \"encod\", \"enum\", \"environ\", \"environ\", \"environ\", \"environ variabl\", \"error\", \"error\", \"error\", \"error\", \"event\", \"event\", \"event\", \"event\", \"exampl\", \"exampl\", \"exampl\", \"exampl\", \"exe\", \"exe\", \"file\", \"file\", \"file\", \"file\", \"file txt\", \"filenam\", \"filenam\", \"filenam\", \"font\", \"form\", \"form\", \"form\", \"form\", \"function\", \"function\", \"function\", \"function\", \"gem\", \"get\", \"get\", \"get\", \"get\", \"git\", \"git\", \"git\", \"git diff\", \"gitignor\", \"gitignor\", \"gitignor\", \"gradl\", \"hashmap\", \"height\", \"hover\", \"href\", \"href\", \"html\", \"html\", \"html\", \"html\", \"http\", \"http\", \"http\", \"http\", \"id\", \"id\", \"id\", \"id\", \"ifram\", \"ii\", \"imag\", \"imag\", \"imag\", \"img\", \"input\", \"input\", \"input\", \"input\", \"inputstream\", \"instal\", \"int\", \"int\", \"int int\", \"int main\", \"integ\", \"integ\", \"intellij\", \"ip\", \"iter\", \"iter\", \"jar\", \"java\", \"java\", \"java\", \"java\", \"javascript\", \"javascript\", \"javascript\", \"javascript\", \"javascript object\", \"jqueri\", \"jqueri\", \"jqueri\", \"json\", \"json\", \"json data\", \"json object\", \"json string\", \"key\", \"key\", \"key\", \"key\", \"keyword\", \"keyword\", \"keyword\", \"kill\", \"lambda\", \"lambda\", \"layout\", \"layout\", \"layout\", \"li\", \"lib\", \"lib\", \"lib\", \"librari\", \"librari\", \"librari\", \"librari\", \"like\", \"like\", \"like\", \"like\", \"line\", \"line\", \"line\", \"line\", \"line file\", \"line number\", \"linq\", \"linq\", \"list\", \"list\", \"list\", \"list\", \"list file\", \"list list\", \"list string\", \"log\", \"log\", \"log\", \"log\", \"mac\", \"mac\", \"mac\", \"mac os\", \"margin\", \"master\", \"master\", \"master\", \"maven\", \"method\", \"method\", \"method\", \"method\", \"mock\", \"mock\", \"mockito\", \"modal\", \"model\", \"model\", \"model\", \"model\", \"model model\", \"modul\", \"modul\", \"modul\", \"modul\", \"myfil\", \"name\", \"name\", \"name\", \"name\", \"nan\", \"node\", \"node\", \"node\", \"node\", \"npm\", \"null\", \"null\", \"null\", \"null\", \"number\", \"number\", \"number\", \"number\", \"numpi\", \"numpi\", \"object\", \"object\", \"object\", \"object\", \"onclick\", \"one\", \"one\", \"one\", \"one\", \"oper\", \"oper\", \"oper\", \"oper\", \"option option\", \"option select\", \"option valu\", \"packag\", \"packag\", \"packag\", \"page\", \"page\", \"page\", \"page\", \"panda\", \"parent\", \"parent\", \"parent\", \"parent\", \"path\", \"path\", \"path\", \"php\", \"php\", \"php\", \"php\", \"pip\", \"port\", \"port\", \"post\", \"post\", \"post\", \"post\", \"post request\", \"primari key\", \"printf\", \"printf\", \"project\", \"project\", \"project\", \"project\", \"promis\", \"promis\", \"promis\", \"ptr\", \"public\", \"public\", \"public\", \"public\", \"python\", \"python\", \"python\", \"queri\", \"queri\", \"queri\", \"queri\", \"radio\", \"radio button\", \"random\", \"random\", \"random\", \"random\", \"react\", \"read file\", \"redirect\", \"redirect\", \"redirect\", \"req\", \"req\", \"request\", \"request\", \"request\", \"resiz\", \"respons\", \"respons\", \"respons\", \"respons\", \"restart\", \"return\", \"return\", \"return\", \"return\", \"row\", \"row\", \"row\", \"run\", \"run\", \"run\", \"run\", \"script\", \"script\", \"script\", \"script\", \"scroll\", \"sdk\", \"sed\", \"send\", \"send\", \"send\", \"send\", \"serial\", \"serial\", \"serial\", \"server\", \"server\", \"server\", \"server\", \"servic\", \"servic\", \"servic\", \"set\", \"set\", \"set\", \"set\", \"span\", \"sql\", \"sql\", \"sql\", \"ssl\", \"start\", \"start\", \"start\", \"start\", \"stash\", \"static\", \"static\", \"static\", \"static\", \"std\", \"stdout\", \"stdout\", \"string\", \"string\", \"string\", \"string\", \"stringifi\", \"struct\", \"studio\", \"style\", \"style\", \"style\", \"style\", \"sudo\", \"sum\", \"tabl\", \"tabl\", \"tabl\", \"tabl\", \"tag\", \"tag\", \"tag\", \"tag\", \"test\", \"test\", \"test\", \"test\", \"text\", \"text\", \"text\", \"text\", \"text file\", \"textview\", \"time\", \"time\", \"time\", \"time\", \"tri\", \"tri\", \"tri\", \"tri\", \"tupl\", \"txt\", \"txt\", \"type\", \"type\", \"type\", \"type\", \"ubuntu\", \"ubuntu\", \"uitextfield\", \"ul\", \"uninstal\", \"unsign\", \"upgrad\", \"url\", \"url\", \"url\", \"use\", \"use\", \"use\", \"use\", \"user\", \"user\", \"user\", \"user\", \"usr\", \"usr\", \"usr local\", \"valu\", \"valu\", \"valu\", \"valu\", \"var\", \"var\", \"var\", \"var\", \"varchar\", \"vector\", \"version\", \"version\", \"version\", \"version\", \"vertic\", \"view\", \"view\", \"view\", \"view\", \"visual\", \"visual\", \"visual\", \"visual studio\", \"void\", \"void\", \"void\", \"void\", \"want\", \"want\", \"want\", \"want\", \"way\", \"way\", \"way\", \"way\", \"web\", \"web\", \"web\", \"web\", \"width\", \"window\", \"window\", \"window\", \"work\", \"work\", \"work\", \"work\", \"would\", \"would\", \"would\", \"would\", \"x86\", \"xcode\"]}, \"R\": 30, \"lambda.step\": 0.01, \"plot.opts\": {\"xlab\": \"PC1\", \"ylab\": \"PC2\"}, \"topic.order\": [4, 2, 1, 3]};\n",
       "\n",
       "function LDAvis_load_lib(url, callback){\n",
       "  var s = document.createElement('script');\n",
       "  s.src = url;\n",
       "  s.async = true;\n",
       "  s.onreadystatechange = s.onload = callback;\n",
       "  s.onerror = function(){console.warn(\"failed to load library \" + url);};\n",
       "  document.getElementsByTagName(\"head\")[0].appendChild(s);\n",
       "}\n",
       "\n",
       "if(typeof(LDAvis) !== \"undefined\"){\n",
       "   // already loaded: just create the visualization\n",
       "   !function(LDAvis){\n",
       "       new LDAvis(\"#\" + \"ldavis_el6801622263029200644267066171\", ldavis_el6801622263029200644267066171_data);\n",
       "   }(LDAvis);\n",
       "}else if(typeof define === \"function\" && define.amd){\n",
       "   // require.js is available: use it to load d3/LDAvis\n",
       "   require.config({paths: {d3: \"https://d3js.org/d3.v5\"}});\n",
       "   require([\"d3\"], function(d3){\n",
       "      window.d3 = d3;\n",
       "      LDAvis_load_lib(\"https://cdn.jsdelivr.net/gh/bmabey/pyLDAvis@3.3.1/pyLDAvis/js/ldavis.v3.0.0.js\", function(){\n",
       "        new LDAvis(\"#\" + \"ldavis_el6801622263029200644267066171\", ldavis_el6801622263029200644267066171_data);\n",
       "      });\n",
       "    });\n",
       "}else{\n",
       "    // require.js not available: dynamically load d3 & LDAvis\n",
       "    LDAvis_load_lib(\"https://d3js.org/d3.v5.js\", function(){\n",
       "         LDAvis_load_lib(\"https://cdn.jsdelivr.net/gh/bmabey/pyLDAvis@3.3.1/pyLDAvis/js/ldavis.v3.0.0.js\", function(){\n",
       "                 new LDAvis(\"#\" + \"ldavis_el6801622263029200644267066171\", ldavis_el6801622263029200644267066171_data);\n",
       "            })\n",
       "         });\n",
       "}\n",
       "</script>"
      ],
      "text/plain": [
       "PreparedData(topic_coordinates=              x         y  topics  cluster       Freq\n",
       "topic                                                \n",
       "3      0.112092  0.117677       1        1  33.013243\n",
       "1      0.038231 -0.144208       2        1  27.154579\n",
       "0     -0.193858  0.037206       3        1  20.450578\n",
       "2      0.043535 -0.010675       4        1  19.381601, topic_info=         Term         Freq        Total Category  logprob  loglift\n",
       "1547     file  1119.000000  1119.000000  Default  30.0000  30.0000\n",
       "1243      div   488.000000   488.000000  Default  29.0000  29.0000\n",
       "4049   string  1005.000000  1005.000000  Default  28.0000  28.0000\n",
       "1818      git   626.000000   626.000000  Default  27.0000  27.0000\n",
       "305   android   661.000000   661.000000  Default  26.0000  26.0000\n",
       "...       ...          ...          ...      ...      ...      ...\n",
       "1818      git   171.881967   626.406856   Topic4  -5.5580   0.3477\n",
       "3596   return   166.347318   580.593753   Topic4  -5.5907   0.3909\n",
       "2431     like   164.936013   817.308049   Topic4  -5.5992   0.0404\n",
       "4756     want   161.317086   722.868697   Topic4  -5.6214   0.1410\n",
       "4432     type   149.985030   555.898963   Topic4  -5.6942   0.3308\n",
       "\n",
       "[329 rows x 6 columns], token_table=      Topic      Freq     Term\n",
       "term                          \n",
       "223       2  0.975880      adb\n",
       "253       2  0.010032     ajax\n",
       "253       3  0.190609     ajax\n",
       "253       4  0.792532     ajax\n",
       "305       1  0.003025  android\n",
       "...     ...       ...      ...\n",
       "4905      2  0.226259    would\n",
       "4905      3  0.173793    would\n",
       "4905      4  0.154119    would\n",
       "4951      2  0.982955      x86\n",
       "4955      2  0.994210    xcode\n",
       "\n",
       "[653 rows x 3 columns], R=30, lambda_step=0.01, plot_opts={'xlab': 'PC1', 'ylab': 'PC2'}, topic_order=[4, 2, 1, 3])"
      ]
     },
     "execution_count": 50,
     "metadata": {},
     "output_type": "execute_result"
    }
   ],
   "source": [
    "pyLDAvis.sklearn.prepare(lda,tfidf,tfidf_vectorizer)"
   ]
  },
  {
   "cell_type": "code",
   "execution_count": 51,
   "metadata": {},
   "outputs": [],
   "source": [
    "def plot_tsne_pca(data, labels):\n",
    "    max_label = max(labels)\n",
    "    max_items = np.random.choice(range(data.shape[0]), size=3000, replace=False)\n",
    "    \n",
    "    pca = PCA(n_components=2).fit_transform(data[max_items,:].todense())\n",
    "    tsne = TSNE().fit_transform(PCA(n_components=50).fit_transform(data[max_items,:].todense()))\n",
    "    \n",
    "    \n",
    "    idx = np.random.choice(range(pca.shape[0]), size=300, replace=False)\n",
    "    label_subset = labels[max_items]\n",
    "    label_subset = [cm.hsv(i/max_label) for i in label_subset[idx]]\n",
    "    \n",
    "    fig, ax = plt.subplots(1, 2, figsize=(15, 5))\n",
    "    \n",
    "    ax[0].scatter(pca[idx, 0], pca[idx, 1], c=label_subset)\n",
    "    ax[0].set_title('PCA Cluster Plot')\n",
    "    \n",
    "    ax[1].scatter(tsne[idx, 0], tsne[idx, 1], c=label_subset)\n",
    "    ax[1].set_title('TSNE Cluster Plot')"
   ]
  },
  {
   "cell_type": "code",
   "execution_count": 52,
   "metadata": {},
   "outputs": [
    {
     "data": {
      "image/png": "[encoded data removed]",
      "text/plain": [
       "<Figure size 1080x360 with 2 Axes>"
      ]
     },
     "metadata": {
      "needs_background": "light"
     },
     "output_type": "display_data"
    }
   ],
   "source": [
    "clusters = MiniBatchKMeans(n_clusters=4, random_state=20).fit_predict(tfidf)\n",
    "plot_tsne_pca(tfidf, clusters)"
   ]
  },
  {
   "cell_type": "code",
   "execution_count": 53,
   "metadata": {},
   "outputs": [
    {
     "name": "stdout",
     "output_type": "stream",
     "text": [
      "Topics found via LDA:\n",
      "\n",
      "Topic #0:\n",
      "div jqueri html class button text javascript function use element\n",
      "\n",
      "Topic #1:\n",
      "file git command instal run android directori use commit project\n",
      "\n",
      "Topic #2:\n",
      "use class code function tabl method differ error object type\n",
      "\n",
      "Topic #3:\n",
      "string array list date android convert valu number python charact\n"
     ]
    }
   ],
   "source": [
    "def print_topics(model, count_vectorizer, n_top_words):\n",
    "    words = count_vectorizer.get_feature_names()\n",
    "    for topic_idx, topic in enumerate(model.components_):\n",
    "        print(\"\\nTopic #%d:\" % topic_idx)\n",
    "        print(\" \".join([words[i]\n",
    "                        for i in topic.argsort()[:-n_top_words - 1:-1]]))\n",
    "\n",
    "number_topics = 4\n",
    "number_words = 10\n",
    "\n",
    "lda = LDA(n_components=number_topics, n_jobs=-1)\n",
    "lda.fit(tfidf)\n",
    "\n",
    "print(\"Topics found via LDA:\")\n",
    "print_topics(lda, tfidf_vectorizer, number_words)"
   ]
  },
  {
   "cell_type": "code",
   "execution_count": null,
   "metadata": {},
   "outputs": [],
   "source": []
  },
  {
   "cell_type": "code",
   "execution_count": null,
   "metadata": {},
   "outputs": [],
   "source": []
  },
  {
   "cell_type": "code",
   "execution_count": 54,
   "metadata": {},
   "outputs": [],
   "source": [
    "# utiliser scipy pour transformer la matrice\n",
    "# savoir quelle ligne se retrouve dans quel topic "
   ]
  },
  {
   "cell_type": "markdown",
   "metadata": {},
   "source": [
    "### SKLearn"
   ]
  },
  {
   "cell_type": "code",
   "execution_count": 55,
   "metadata": {},
   "outputs": [],
   "source": [
    "dict={}\n",
    "for i in [2,4,6,10]:\n",
    "    #,4,6,10,12\n",
    "    lda =  LatentDirichletAllocation(n_components = i).fit(tfidf)\n",
    "    perp=lda.perplexity(tfidf)\n",
    "    dict[i]=perp"
   ]
  },
  {
   "cell_type": "code",
   "execution_count": 56,
   "metadata": {},
   "outputs": [
    {
     "data": {
      "text/plain": [
       "{2: 2666.067286171744,\n",
       " 4: 3270.15076081878,\n",
       " 6: 3579.9896041297206,\n",
       " 10: 4127.898384313441}"
      ]
     },
     "execution_count": 56,
     "metadata": {},
     "output_type": "execute_result"
    }
   ],
   "source": [
    "dict"
   ]
  },
  {
   "cell_type": "raw",
   "metadata": {},
   "source": [
    "Extraires tags des mots clés et comparer avec df.Tags. Voir les lignes associées aux topics (dans lda transform sur X)."
   ]
  },
  {
   "cell_type": "markdown",
   "metadata": {},
   "source": [
    "### Ou avec Gensim"
   ]
  },
  {
   "cell_type": "code",
   "execution_count": 57,
   "metadata": {},
   "outputs": [],
   "source": [
    "id2word = corpora.Dictionary(df.Document)\n",
    "\n",
    "texts = df.Document\n",
    "\n",
    "corpus = [id2word.doc2bow(text) for text in texts]"
   ]
  },
  {
   "cell_type": "code",
   "execution_count": 58,
   "metadata": {},
   "outputs": [
    {
     "name": "stdout",
     "output_type": "stream",
     "text": [
      "Coherence Score:  0.45932884986082945\n",
      "Coherence Score:  0.5338326854621941\n",
      "Coherence Score:  0.569971504513926\n",
      "Coherence Score:  0.5972440392188156\n"
     ]
    }
   ],
   "source": [
    "dict={}\n",
    "for i in  np.arange(2,10,2) :\n",
    "    lda_model = gensim.models.LdaMulticore(corpus=corpus,\n",
    "                                       id2word=id2word,\n",
    "                                       num_topics=i, \n",
    "                                       random_state=100,\n",
    "                                       chunksize=100,\n",
    "                                       passes=10,\n",
    "                                       per_word_topics=True)\n",
    "    # Compute Coherence Score\n",
    "    coherence_model_lda = CoherenceModel(model=lda_model, texts=df.Document, dictionary=id2word, coherence='c_v')\n",
    "    coherence_lda = coherence_model_lda.get_coherence()\n",
    "    dict[i]=coherence_lda\n",
    "    print('Coherence Score: ', coherence_lda)"
   ]
  },
  {
   "cell_type": "code",
   "execution_count": 59,
   "metadata": {},
   "outputs": [
    {
     "data": {
      "image/png": "[encoded data removed]",
      "text/plain": [
       "<Figure size 432x288 with 1 Axes>"
      ]
     },
     "metadata": {
      "needs_background": "light"
     },
     "output_type": "display_data"
    }
   ],
   "source": [
    "plt.plot(*zip(*sorted(dict.items())))\n",
    "plt.show()"
   ]
  },
  {
   "cell_type": "code",
   "execution_count": 60,
   "metadata": {},
   "outputs": [
    {
     "data": {
      "image/png": "[encoded data removed]",
      "text/plain": [
       "<Figure size 720x720 with 1 Axes>"
      ]
     },
     "metadata": {
      "needs_background": "light"
     },
     "output_type": "display_data"
    }
   ],
   "source": [
    "keys = dict.keys()\n",
    "values = dict.values()\n",
    "\n",
    "plt.figure(figsize=(10,10))\n",
    "plt.bar(keys, values)\n",
    "plt.show()"
   ]
  },
  {
   "cell_type": "code",
   "execution_count": 61,
   "metadata": {},
   "outputs": [],
   "source": [
    "lda_model = gensim.models.LdaMulticore(corpus=corpus,\n",
    "                                       id2word=id2word,\n",
    "                                       num_topics=8, \n",
    "                                       random_state=100,\n",
    "                                       chunksize=100,\n",
    "                                       passes=10,\n",
    "                                       per_word_topics=True)"
   ]
  },
  {
   "cell_type": "code",
   "execution_count": 62,
   "metadata": {},
   "outputs": [],
   "source": [
    "vis = pyLDAvis.gensim_models.prepare(lda_model, corpus, id2word)"
   ]
  },
  {
   "cell_type": "code",
   "execution_count": 63,
   "metadata": {},
   "outputs": [
    {
     "data": {
      "text/html": [
       "\n",
       "<link rel=\"stylesheet\" type=\"text/css\" href=\"https://cdn.jsdelivr.net/gh/bmabey/pyLDAvis@3.3.1/pyLDAvis/js/ldavis.v1.0.0.css\">\n",
       "\n",
       "\n",
       "<div id=\"ldavis_el6801622248410622083842370700\"></div>\n",
       "<script type=\"text/javascript\">\n",
       "\n",
       "var ldavis_el6801622248410622083842370700_data = {\"mdsDat\": {\"x\": [-0.13068088098408595, 0.09132441108899862, -0.01066228043833515, -0.0955841942093149, -0.12278746448516005, 0.3699136850538632, 0.021397696150509595, -0.12292097217647525], \"y\": [0.050755084634187084, 0.12577185241465091, 0.0016897839985630838, -0.08045190594193696, 0.05097421404921871, 0.04348324936109225, -0.31859661140389717, 0.12637433288812228], \"topics\": [1, 2, 3, 4, 5, 6, 7, 8], \"cluster\": [1, 1, 1, 1, 1, 1, 1, 1], \"Freq\": [18.92186636806221, 14.846645285151663, 13.371529214010783, 13.216224283550027, 12.131462624176697, 10.886706148959178, 9.530643932207166, 7.0949221438822745]}, \"tinfo\": {\"Term\": [\"android\", \"0\", \"1\", \"file\", \"string\", \"2\", \"git\", \"java\", \"3\", \"class\", \"public\", \"int\", \"function\", \"4\", \"instal\", \"layout\", \"view\", \"div\", \"modul\", \"return\", \"angular\", \"tabl\", \"5\", \"org\", \"object\", \"js\", \"id\", \"user\", \"data\", \"html\", \"nan\", \"await\", \"j\", \"decim\", \"train\", \"df\", \"pod\", \"weight\", \"svg\", \"unsort\", \"digit\", \"el\", \"ipython\", \"onchang\", \"regex\", \"keystor\", \"cert\", \"art\", \"defer\", \"qt\", \"cmake\", \"keyof\", \"gender\", \"md5\", \"uint64\", \"notat\", \"fruit\", \"isnan\", \"kera\", \"bigdecim\", \"comparison\", \"footer\", \"comprehens\", \"sort\", \"array\", \"promis\", \"number\", \"contigu\", \"maximum\", \"effici\", \"list\", \"negat\", \"comma\", \"faster\", \"better\", \"differ\", \"would\", \"answer\", \"way\", \"question\", \"word\", \"loop\", \"two\", \"one\", \"like\", \"random\", \"someth\", \"know\", \"good\", \"use\", \"python\", \"mean\", \"look\", \"point\", \"exampl\", \"seem\", \"variabl\", \"x\", \"thing\", \"find\", \"function\", \"want\", \"case\", \"need\", \"code\", \"valu\", \"work\", \"time\", \"make\", \"instal\", \"lib\", \"py\", \"npm\", \"usr\", \"gradl\", \"pip\", \"gem\", \"donhuvi\", \"cli\", \"virtualenv\", \"egg\", \"devkit\", \"appdata\", \"rb\", \"gyp\", \"plot\", \"python2\", \"min\", \"webpack\", \"exe\", \"dist\", \"x86\", \"eclips\", \"v4\", \"pycharmproject\", \"sh\", \"pythonproject\", \"gulp\", \"uninstal\", \"packag\", \"curl\", \"modul\", \"studio\", \"build\", \"xcode\", \"bin\", \"node\", \"debug\", \"version\", \"project\", \"visual\", \"run\", \"plugin\", \"error\", \"environ\", \"dev\", \"path\", \"configur\", \"tool\", \"file\", \"core\", \"command\", \"7\", \"local\", \"app\", \"window\", \"compil\", \"depend\", \"line\", \"io\", \"0\", \"2\", \"1\", \"test\", \"python\", \"user\", \"tri\", \"js\", \"import\", \"use\", \"c\", \"get\", \"std\", \"char\", \"bool\", \"struct\", \"cout\", \"myclass\", \"printf\", \"ptr\", \"writelin\", \"decod\", \"endl\", \"firstnam\", \"sizeof\", \"lastnam\", \"setstat\", \"c++11\", \"clock\", \"substr\", \"typenam\", \"pom\", \"arrays\", \"boolvalu\", \"nullabl\", \"2017\", \"iostream\", \"radius\", \"base64\", \"javac\", \"polici\", \"nslog\", \"int\", \"swift\", \"#includ\", \"mock\", \"unsign\", \"static\", \"func\", \"assert\", \"public\", \"str\", \"println\", \"foo\", \"string\", \"privat\", \"pair\", \"const\", \"obj\", \"constructor\", \"void\", \"interfac\", \"object\", \"class\", \"return\", \"arg\", \"boolean\", \"self\", \"vector\", \"b\", \"null\", \"method\", \"properti\", \"declar\", \"type\", \"new\", \"c\", \"valu\", \"except\", \"code\", \"name\", \"call\", \"var\", \"get\", \"test\", \"error\", \"use\", \"function\", \"tri\", \"angular\", \"jqueri\", \"browser\", \"ng\", \"td\", \"li\", \"href\", \"rout\", \"chrome\", \"router\", \"ajax\", \"tr\", \"angularj\", \"angular2\", \"rxjs\", \"modal\", \"ul\", \"th\", \"br\", \"exclud\", \"dom\", \"firefox\", \"checkbox\", \"cooki\", \"h1\", \"dropdown\", \"webkit\", \"flask\", \"v8\", \"jsx\", \"html\", \"compon\", \"bodi\", \"alert\", \"icon\", \"form\", \"render\", \"page\", \"url\", \"respons\", \"event\", \"json\", \"request\", \"click\", \"div\", \"input\", \"ts\", \"control\", \"js\", \"http\", \"header\", \"css\", \"function\", \"var\", \"text\", \"post\", \"type\", \"class\", \"javascript\", \"element\", \"use\", \"get\", \"id\", \"data\", \"name\", \"work\", \"user\", \"script\", \"option\", \"valu\", \"code\", \"databas\", \"mysql\", \"sql\", \"db\", \"datafram\", \"postgr\", \"intellij\", \"varchar\", \"alter\", \"redux\", \"ifram\", \"foreign\", \"mongodb\", \"jdbc\", \"queue\", \"sleep\", \"oid\", \"classpath\", \"movi\", \"er101\", \"dbo\", \"pid\", \"datasourc\", \"viewcontrol\", \"timer\", \"encrypt\", \"sqlite\", \"uiviewcontrol\", \"mous\", \"seed\", \"queri\", \"react\", \"mongoos\", \"tabl\", \"migrat\", \"thread\", \"postgresql\", \"column\", \"wait\", \"connect\", \"record\", \"insert\", \"entiti\", \"session\", \"timeout\", \"lock\", \"row\", \"fragment\", \"store\", \"server\", \"password\", \"select\", \"join\", \"task\", \"user\", \"model\", \"data\", \"id\", \"key\", \"creat\", \"applic\", \"updat\", \"use\", \"time\", \"name\", \"get\", \"run\", \"set\", \"new\", \"need\", \"like\", \"tri\", \"err\", \"00\", \"numpi\", \"spring\", \"01\", \"03\", \"02\", \"springframework\", \"26\", \"np\", \"06\", \"05\", \"sun\", \"artifactid\", \"groupid\", \"07\", \"bean\", \"31\", \"dict\", \"dispatch\", \"mm\", \"08\", \"53\", \"logger\", \"httpclient\", \"classnam\", \"54\", \"35\", \"55\", \"arr\", \"date\", \"24\", \"shape\", \"pd\", \"28\", \"09\", \"27\", \"23\", \"1\", \"12\", \"org\", \"0\", \"java\", \"3\", \"16\", \"datetim\", \"18\", \"2\", \"5\", \"15\", \"4\", \"11\", \"panda\", \"bootstrap\", \"10\", \"+\", \"6\", \"8\", \"9\", \"intern\", \"7\", \"x\", \"20\", \"com\", \"#\", \"b\", \"n\", \"data\", \"time\", \"e\", \"android\", \"layout\", \"width\", \"height\", \"color\", \"center\", \"+id\", \"apk\", \"textview\", \"activitythread\", \"border\", \"margin\", \"drawabl\", \"layoutinflat\", \"linearlayout\", \"recyclerview\", \"vertic\", \"inflat\", \"launcher\", \"flex\", \"oncreat\", \"savedinstancest\", \"zygoteinit\", \"toolbar\", \"findviewbyid\", \"appcompat\", \"uiview\", \"btn\", \"gms\", \"nav\", \"cell\", \"background\", \"anim\", \"screen\", \"androidruntim\", \"imag\", \"widget\", \"intent\", \"scroll\", \"simul\", \"view\", \"parent\", \"activ\", \"wrap\", \"style\", \"item\", \"content\", \"button\", \"app\", \"posit\", \"div\", \"text\", \"com\", \"id\", \"size\", \"r\", \"support\", \"overrid\", \"0\", \"set\", \"class\", \"use\", \"tri\", \"git\", \"branch\", \"github\", \"master\", \"remot\", \"pull\", \"repo\", \"compos\", \"clone\", \"ssh\", \"mib\", \"rebas\", \"diff\", \"checkout\", \"v1\", \"proj\", \"stylesheet\", \"s3\", \"agent\", \"timezon\", \"fork\", \"utc\", \"stash\", \"notebook\", \"gitignor\", \"submodul\", \"jenkin\", \"heroku\", \"xx\", \"svn\", \"commit\", \"snmp\", \"merg\", \"bash\", \"echo\", \"repositori\", \"push\", \"grep\", \"histori\", \"file\", \"directori\", \"2020\", \"txt\", \"folder\", \"tree\", \"#\", \"shell\", \"origin\", \"chang\", \"command\", \"local\", \"php\", \"delet\", \"line\", \"want\", \"use\", \"script\", \"work\", \"tri\", \"get\", \"new\", \"creat\", \"like\"], \"Freq\": [25478.0, 35894.0, 32954.0, 23428.0, 19239.0, 21054.0, 9932.0, 17658.0, 13913.0, 18318.0, 10198.0, 8694.0, 17737.0, 10023.0, 7431.0, 5934.0, 8161.0, 9212.0, 7882.0, 15810.0, 6221.0, 6372.0, 8245.0, 6371.0, 11435.0, 8464.0, 12559.0, 13321.0, 14738.0, 5471.0, 1270.1626377356156, 944.7348564954425, 836.2365681787699, 587.8137069913047, 588.0370219286723, 2016.6774614143376, 544.6398643126222, 557.9094195929526, 506.3688106384569, 393.2943101199703, 390.33524524520345, 345.5517991149461, 343.4901715120887, 306.0326801932915, 788.5930198412315, 231.90228088404953, 206.77338833506178, 191.9334902023886, 184.76429387856479, 180.03560210772912, 174.38667920468606, 171.24796058580918, 169.961030184173, 166.36659659321793, 165.4280735909138, 162.2094243667305, 159.8785493589121, 157.04007495590847, 147.15087552077205, 145.65933777618542, 433.46191842294905, 291.09858501339056, 168.95810033106252, 2722.8585087373394, 7238.873828960138, 1237.9993652180183, 5221.506549083259, 358.7701290473115, 418.0341252635517, 677.566397604177, 8233.038509941238, 353.17050496489514, 349.504059809956, 802.2982136508509, 1893.7264055638245, 6809.210373512893, 8831.029351087822, 2977.0773781203216, 9377.105999210151, 5027.0906574280825, 1173.5099373661749, 2312.6632812588928, 4086.232460639046, 7481.1688325482455, 11360.28086630127, 1238.8785106198309, 4800.449276561897, 5013.846207840857, 1631.0958716784278, 20114.161517559238, 4877.862093150222, 2607.7172296902695, 3914.589014409526, 2434.1853810844627, 5540.461604051276, 4032.3922269780833, 3361.106714081634, 4665.325974844508, 2464.300531969806, 4180.853749465989, 7180.675344316652, 6143.822386663074, 3093.944501194792, 4463.178989818233, 6301.099698251274, 5390.635694623115, 4486.6487164649625, 3272.332658798174, 3176.7548390081224, 7431.122955560323, 4566.006456142272, 3511.3991423127713, 3032.196482556609, 2219.806887346433, 2189.941816756001, 2146.625651571462, 1233.030667285748, 1211.3630376877575, 986.2865859605977, 955.8542959369175, 944.2812246615782, 830.4561578968393, 824.704468830052, 825.4838863771298, 812.2918338715914, 801.3516017821572, 783.5043656402624, 784.8986740024895, 772.1203887249075, 697.6472521357456, 665.2139733596091, 659.5701654574713, 1376.9389218982956, 544.3491355161801, 522.7485895450573, 508.9168558328467, 489.45830788868204, 460.4776400849086, 449.9531800946323, 4985.761566086918, 589.2789356077141, 7530.14500807413, 2245.1927574393026, 6233.517025823388, 2318.4709907924002, 1911.0335549226422, 5896.9425581526775, 1913.7730363909848, 6170.453834005143, 5226.015656569509, 1407.2565205599117, 7416.953671549164, 1523.02198441413, 9962.575932998758, 1217.3264793414407, 1174.9641236751536, 3062.387678862477, 1872.708564329141, 1938.3486839316495, 9602.275501296566, 2210.11222127009, 3703.1516432767125, 3389.571711705827, 2846.609056007183, 5186.426387831703, 2733.2277977150698, 2948.8037694622553, 2089.464673276875, 3473.841221805615, 2132.7348855405426, 6160.146122868091, 4827.611215632911, 5671.1097926322855, 3423.0862843499453, 3192.255979568035, 3534.1752429216967, 3756.420625572295, 3075.2460953414125, 2967.4537814918926, 4110.638468989401, 3120.996365104625, 3439.1848272772427, 3827.588938966284, 1495.6599899145351, 1329.9365378994225, 1123.4613854054967, 780.2075550086192, 676.8091878363923, 636.4091064433435, 635.7143520710802, 537.4477662868486, 510.3946501189689, 456.24436508229496, 445.124253856837, 428.9414927428021, 395.14003016611866, 378.6806284084746, 368.85019797875646, 356.987181087908, 344.75735452477306, 343.01318857717763, 341.4543764466378, 334.376222341397, 334.57722532871895, 329.33704620821953, 322.06316282871364, 308.64778264122634, 311.213701996708, 307.33480005899105, 283.44049470470515, 258.2977524301616, 249.9184815970633, 8617.245300450699, 2853.540098966882, 1213.7482701051333, 728.2297817979844, 638.5517243415662, 3698.3215188533613, 1185.4700474649753, 739.2222061122033, 9329.289197032893, 1236.4804955904665, 1125.9228336517826, 3963.702097210656, 16222.244027939834, 3297.288200330738, 928.5201873045663, 2576.764173153236, 1005.7926946394193, 1557.8659576298992, 4284.479133267647, 1668.5373483371118, 7970.301035008941, 11000.167500737536, 9107.591471800559, 1296.6062127968012, 1153.0518454293058, 3134.9461155525123, 1305.474534531464, 4093.8761373856014, 3574.425719426582, 5568.586072890189, 2569.403674769069, 1617.4823029425102, 5813.826111791752, 6377.8336727838, 4367.433263899633, 4886.862816298298, 2269.061130347758, 4689.099035252627, 4477.942774545189, 3106.866574319472, 3119.6243740794494, 4498.004437596941, 3121.295453242834, 3894.89252358071, 4597.489136451354, 3462.893337739881, 2576.9645742493935, 6220.5926595117335, 3208.2527495945988, 2326.777095600975, 2037.4367848093261, 2002.4405482704296, 1978.8611877271553, 1487.8437352760138, 1464.8786519303922, 1424.3468951217083, 1233.042890799366, 1013.7846847518712, 960.3210388258879, 899.2211941891142, 849.6371489926316, 842.9417428355229, 765.7902945145493, 733.6696367332297, 638.7151411741891, 633.014805153805, 621.078892688187, 578.9676468815184, 551.4408103013474, 527.8938576677815, 519.6587358564207, 502.14413034619423, 454.90096172569446, 448.3235441559415, 431.71228080024093, 409.0036562016375, 405.0164918067851, 5365.640726641313, 4513.41377773126, 1842.91691867747, 1330.0622008014286, 1315.0350156756822, 3438.635140621015, 2224.2053814880533, 4201.698184887806, 4179.112364737267, 2580.3155046858046, 2796.769973286055, 4829.983304911301, 4129.422200633645, 2602.868916926636, 6378.76818804945, 3634.4292268391287, 1414.562652563418, 3217.479258825672, 5388.99617799024, 4284.3229438896515, 2094.648303510139, 2464.036151281238, 7036.030058669453, 4325.744785071616, 3643.236246273908, 2337.2221875628275, 4701.754951231426, 5342.457059876715, 2709.5034044475315, 2853.1567900048512, 6339.124929212874, 4755.448738642086, 3810.390578830732, 3933.1472082309097, 3964.2139290604923, 3484.1623614139276, 3299.014613478093, 2790.1743970885723, 2771.521492078435, 2974.5287178084022, 2811.215742381336, 3684.783594720916, 3067.4274598915877, 2633.849266228283, 2000.8036974502456, 1861.8147008275632, 708.678074457876, 647.1968994085506, 575.0179102407905, 478.2902720458923, 452.8311386640073, 415.53573467385013, 404.6765692267698, 389.450308503821, 382.63452154126145, 521.0428354048803, 377.3703856877469, 378.1846313209276, 373.42259583885897, 367.8020568732704, 354.62257870960747, 340.05667527770794, 323.8610844213297, 300.2973675900203, 300.2870442253995, 302.5076857666879, 288.4345734756694, 279.22041147765634, 275.3797817940141, 272.00661590329133, 271.5743607645195, 3370.9322994696504, 4991.207103716603, 470.11609152054007, 6077.599927382816, 975.5458910755937, 2655.0200167391035, 980.5047465748291, 4134.26028996908, 853.6675202655695, 3073.3009082886683, 1122.550499262777, 1453.12148464985, 1123.07982523311, 1109.4891807183515, 509.57074293644456, 679.4929085406715, 2465.007283410832, 1320.3817381005722, 2063.256880987046, 4031.0528552253904, 1639.0457495332669, 3173.2325340110065, 1078.5542435030684, 1888.8973848227165, 5919.256052285089, 2444.8076052637416, 5940.827255730825, 5299.304566382516, 2840.5942753560303, 4107.262897248376, 2902.322899115008, 2796.3928004688964, 8004.743375861114, 2550.619752318115, 3334.946662614475, 3492.41099744788, 2665.0440297893883, 2491.7793823504903, 2572.332206435439, 2285.3139621809382, 2460.3453871659294, 2413.1206486408137, 2576.698292495498, 2175.442114687374, 1460.152585548631, 1350.0234178983667, 1344.430777445452, 1170.7932739169962, 1066.4526702177218, 1039.4857935455511, 960.7214670547396, 824.0113892232722, 790.5725032199756, 811.9801556432863, 714.4111403447291, 674.5558297854869, 669.6189590018083, 660.7787862263452, 652.2063631194045, 616.3575434167024, 601.6941770486173, 596.8884975353269, 592.8208214224799, 584.6516796273226, 471.47753038858485, 471.4973187552318, 463.89909934024433, 432.70712636489617, 413.7711062747345, 412.8327923326668, 419.29920118266637, 405.4519182560633, 4217.232480945106, 854.229065165315, 574.4118532769971, 571.4694071638144, 890.8777735849084, 1011.386499589604, 723.0227668195554, 1062.0833615255372, 25027.99608002571, 2947.8266820836593, 5324.324762433159, 25815.729886045374, 12949.466810291902, 10309.224525521706, 1498.9055814101514, 1185.7573861215737, 1250.4297820019067, 14321.433846657384, 6120.452196199798, 1726.3957246479663, 7041.279569363494, 2382.209077636888, 1750.3185531451845, 1272.5580296634928, 4097.082372415211, 5278.019611113917, 3093.999799533208, 2888.29394107446, 2291.570331037632, 1809.6308218807044, 2413.290254427284, 2679.806510322888, 1399.9632814687025, 2466.414738248847, 2013.0884605325741, 1985.4360849705208, 1712.3107012975438, 2185.084463042855, 1796.9294907339336, 1737.597620314471, 25477.64442403313, 5933.681229893375, 4268.468091692678, 3809.872500278888, 3309.402735775512, 1204.4682068106833, 1111.4165680172512, 1099.7661860163407, 1002.1014293649582, 972.1682972237578, 959.7002786109748, 951.4661402471374, 923.3326094554541, 887.0403629056457, 883.2612245860495, 802.1718725454284, 729.6328944960629, 698.4163523382655, 692.7567151830684, 674.2275954260689, 619.0702594081163, 546.9164432786049, 532.9604420669921, 533.0601339185296, 532.4788977382128, 532.3309125389223, 529.2627323785903, 528.9419207317571, 521.3545128261114, 512.9530228951029, 1068.628171620287, 2297.3987186822137, 1287.2528923298692, 1456.9295676515867, 983.3366446080946, 4850.333801537469, 1132.0214028666737, 1225.009957963887, 1122.0221467281954, 1039.533104749061, 6231.584016101626, 2665.8906900959482, 2811.423633267926, 1433.550521031919, 2182.931717600506, 2685.047214800575, 2587.416206292377, 2236.2815668069143, 3652.0723930605855, 1512.1604876960225, 2833.325769621455, 2554.6488021261116, 2652.1915588313095, 2561.7140126733557, 1671.7834849340782, 1622.7916405032431, 1528.4735066221224, 1289.6150989235139, 2261.2324760955785, 1637.5182515557779, 1687.5848068320404, 1649.0705759977989, 1395.487028110039, 9931.99828183741, 3454.2223128825563, 2800.0003245779435, 2086.9328241915555, 2064.2048887734677, 1607.9999708848015, 1345.2538104754963, 937.7304508291005, 858.6980374123918, 682.0938570537736, 673.1439690533856, 619.0396888368579, 589.7108559173049, 499.35386288809667, 444.1152663221344, 409.321008040256, 405.7255591749428, 361.9854581566458, 361.8208493701617, 357.75888728106924, 351.47866059185475, 330.3159990057762, 322.370826830209, 320.003252449442, 314.7514048584934, 295.31062660952483, 289.28379160549133, 283.3516401107566, 281.5253098828878, 241.02666671706297, 3337.3006796766745, 546.7690101837965, 1542.8118498852311, 1675.3763059521498, 1315.9828887032947, 2262.7936492763984, 2075.867415212764, 554.6444395752898, 626.3330868650547, 13613.824543314988, 2442.8362431779688, 519.5553940874609, 1358.1424472992621, 1675.8732955255332, 607.9478183569137, 3437.3867150453993, 769.1274984467683, 1519.2361731336468, 3023.98847632573, 2409.934438461323, 1843.7613615594687, 1422.3309926966497, 1204.8416639700174, 1930.0351016365876, 2038.061777268613, 3031.0339270465697, 1449.8145769357852, 2025.8151512107574, 1794.3456335300302, 1741.8535582906602, 1501.7970097460482, 1420.6495011681964, 1433.096626324445], \"Total\": [25478.0, 35894.0, 32954.0, 23428.0, 19239.0, 21054.0, 9932.0, 17658.0, 13913.0, 18318.0, 10198.0, 8694.0, 17737.0, 10023.0, 7431.0, 5934.0, 8161.0, 9212.0, 7882.0, 15810.0, 6221.0, 6372.0, 8245.0, 6371.0, 11435.0, 8464.0, 12559.0, 13321.0, 14738.0, 5471.0, 1270.9172524449125, 945.4894645706663, 836.991681496954, 588.5670773814273, 588.7909384760089, 2019.270985975306, 545.3950457355987, 558.6970861726967, 507.1244566435286, 394.05048427091054, 391.0888722031484, 346.3098867189932, 344.2437644868917, 306.79039826877494, 790.7797899918063, 232.6570879020808, 207.53013434147059, 192.701927460135, 185.51887708725133, 180.78942710855722, 175.1396973721482, 172.0019445786654, 170.71967551929885, 167.1221157659027, 166.18276972466367, 162.96341331602125, 160.63189631502317, 157.7927840194179, 147.90524747313367, 146.41269075419135, 437.9781913243267, 295.8067099619879, 170.11950202105965, 3008.7824618457976, 8373.479970878408, 1350.0741166967537, 6266.807459787351, 374.0282520005191, 442.3873228400469, 742.3476307836585, 10736.464401345827, 374.3663940791112, 370.393429676907, 914.4186970450958, 2369.7435115583658, 9700.779507260959, 13023.746364480088, 3956.669127145713, 14883.042543028725, 7374.081132489658, 1426.199334632224, 3112.1226302813134, 5998.814672443663, 12388.339283510964, 20379.649126584147, 1532.5233459734718, 7715.662729232983, 8407.44440569894, 2150.5762229152447, 47901.730321300376, 8361.691792654037, 3867.3330401394496, 6468.744864232764, 3572.462717493421, 10143.936545496334, 6784.530328669163, 5665.170377490051, 8829.91897571683, 3785.0125366979373, 7996.133173293595, 17737.305780719125, 14980.388991269618, 5324.736265037333, 9835.982918032038, 18306.213582392, 15642.328893910577, 15898.02716603869, 8541.307028026013, 7922.040617652341, 7431.924203311328, 4566.811251849847, 3512.2004878444745, 3032.997499157486, 2220.608067857026, 2190.7429879440597, 2147.426553466696, 1233.8317095531074, 1212.1641797635732, 987.0882396293197, 956.6551946934482, 945.0822976971789, 831.258582560308, 825.5055714099806, 826.2880413161311, 813.0927980178977, 802.1548643425028, 784.3055385061323, 785.7077328563058, 772.9222828260076, 698.448307977894, 666.0154049487744, 660.3718276788834, 1378.8731551572623, 545.162823875267, 523.5497081553287, 509.7186917487486, 490.25945045711296, 461.27892823232105, 450.7543931853391, 5044.877794813421, 591.4997772373138, 7882.617717073076, 2303.407769223193, 6616.216849006642, 2407.629385076896, 2010.8285019011123, 6602.457402490199, 2147.111677638057, 8246.701215583402, 7258.480054591949, 1585.7424760695258, 11912.946441780587, 1788.4461643679267, 19115.69889742097, 1370.519955461023, 1314.7494314702428, 4644.747081762533, 2434.101752224643, 2567.9313753733036, 23428.677518232595, 3092.5855849815853, 6497.288457768867, 5874.458444660687, 4815.966419339562, 12564.122302316931, 4599.4657531112325, 5724.646812139311, 3021.5282069710374, 9233.266013724686, 3161.5118808819984, 35894.174338597775, 21054.990701306117, 32954.94713507411, 9500.588788762543, 8361.691792654037, 13321.670916109613, 17089.62220019354, 8464.937078964384, 7500.151943095987, 47901.730321300376, 10187.168279986245, 22889.996486885673, 3828.3593687850876, 1496.435599309492, 1330.7112445132273, 1124.231831629921, 780.9779112121307, 677.5800837443861, 637.1796773262636, 636.4846452610795, 538.2188609702098, 511.16632673701525, 457.0147056146867, 445.8954081162366, 429.71200209723395, 395.91087309256613, 379.4550042212514, 369.6208093675362, 357.7604960259192, 345.5289137217298, 343.7834097792874, 342.23639303140425, 335.1469130692645, 335.34840242797236, 330.1078342017159, 322.8468229178548, 309.4181428902141, 311.9923593978964, 308.10650996430354, 284.21323079292046, 259.077461367994, 250.68947966690126, 8694.027013068628, 2901.137297897894, 1225.0935151438866, 734.71899947522, 643.8044020943535, 3858.7818839135775, 1214.583794336096, 752.8988702871624, 10198.425875579023, 1277.0594577893296, 1169.621627215608, 4372.141567066906, 19239.40381750089, 3647.9766064883834, 972.5156651255951, 2865.548805999824, 1062.9612740106072, 1719.7447161367706, 5144.102958141169, 1938.1110172930375, 11435.843493259423, 18318.698699062483, 15810.670584372532, 1520.1106039523017, 1319.0976443592092, 4578.172227193694, 1572.4329041985566, 6972.765316520479, 5856.141041958843, 10709.202126269522, 4034.1090629216105, 2119.171512355354, 13523.286107370137, 16041.780986500187, 10187.168279986245, 15642.328893910577, 4106.506377807575, 18306.213582392, 16882.48709540202, 8592.092843413773, 9125.230052260024, 22889.996486885673, 9500.588788762543, 19115.69889742097, 47901.730321300376, 17737.305780719125, 17089.62220019354, 6221.3717449789065, 3209.031404901339, 2327.5697448118126, 2038.2154697661458, 2003.2192257866516, 1979.6399145072746, 1488.6223669647095, 1465.6577479559735, 1425.1258156263084, 1233.8218126173588, 1014.5632499223709, 961.1002354274368, 899.9999111813469, 850.416222478627, 843.7215504883866, 766.5690370883907, 734.4482311025791, 639.4939446156358, 633.7944588949209, 621.8654380317269, 579.7466148605174, 552.2197120118361, 528.6731549597557, 520.445086569227, 502.9230672869352, 455.6847475124598, 449.10371394183903, 432.4914530383467, 409.7865019325877, 405.7954151751618, 5471.257169596323, 4672.399842814728, 1931.9885486672085, 1383.3284993434947, 1369.096098598799, 3731.3700568723684, 2380.108189557869, 4676.768015439498, 4654.675153163383, 2872.174338715004, 3168.9258475771876, 5817.257637253832, 4956.530161882535, 3119.8650681706376, 9212.767939612444, 4929.53917675697, 1579.9323130310113, 4310.0772017268355, 8464.937078964384, 7015.72748691772, 2690.422507278871, 3418.436428774647, 17737.305780719125, 9125.230052260024, 7653.872004221109, 3524.611884820235, 13523.286107370137, 18318.698699062483, 4971.950681408659, 5683.852511291553, 47901.730321300376, 22889.996486885673, 12559.621993912253, 14738.698816835411, 16882.48709540202, 15898.02716603869, 13321.670916109613, 5878.390781382012, 6175.210716370048, 15642.328893910577, 18306.213582392, 3685.544726124402, 3068.2315494570544, 2634.6102460281572, 2001.6147057571288, 1862.5775268666464, 709.4390080071358, 647.9596323326728, 575.7807503302486, 479.0601802634091, 453.59283088430067, 416.29724911617086, 405.4373920402285, 390.21148196381597, 383.39662498937497, 522.0872818541013, 378.1321835503181, 378.9526794830456, 374.1968950710156, 368.5661061037136, 355.3992038428669, 340.8173325937573, 324.6284679343134, 301.0592917629256, 301.0499993494328, 303.27712031051533, 289.1959022954323, 279.98129079838486, 276.14286910970867, 272.76878914684784, 272.35492885052, 3404.36904672204, 5098.508543671144, 473.9609694932791, 6372.775106556083, 1008.2883539943297, 2959.0119830821764, 1036.971615794308, 5110.563920336838, 929.0059507861322, 3849.530659947209, 1269.4758340782466, 1722.379582881454, 1338.5632655192592, 1342.0784962065993, 537.546267599785, 758.4184537445266, 3537.7643287061246, 1680.3150797917579, 2894.1375389604063, 6560.97567275665, 2282.72147059161, 5416.05480529318, 1363.4010232491592, 2815.715883428051, 13321.670916109613, 4208.469446018772, 14738.698816835411, 12559.621993912253, 5966.85446828513, 10666.685567986413, 6321.757640333535, 6109.379148924567, 47901.730321300376, 8541.307028026013, 16882.48709540202, 22889.996486885673, 11912.946441780587, 11997.691642776472, 16041.780986500187, 9835.982918032038, 20379.649126584147, 17089.62220019354, 2577.4841615659248, 2176.2275894391123, 1460.9373995301949, 1350.8083501417045, 1345.2152051794844, 1171.5775202104621, 1067.2403282457315, 1040.269795334503, 961.5063624714403, 824.7957957824976, 791.356900680583, 812.8470322168031, 715.205714903318, 675.339921973123, 670.4030543439407, 661.5631120767065, 652.9906651216108, 617.1491452285904, 602.4792802548233, 597.6752634445218, 593.6051660812329, 585.4360997979646, 472.26215230435946, 472.2824704439558, 464.6844147948695, 433.49576593247576, 414.55552751323114, 413.61779220551466, 420.0998860301641, 406.23653283216714, 4388.997659708048, 868.562770856923, 580.6188925094383, 578.3028730782988, 918.6869153926389, 1054.4090695367306, 742.7012785382557, 1118.8255098619677, 32954.94713507411, 3322.6548005657105, 6371.420714173709, 35894.174338597775, 17658.33124830869, 13913.469187265495, 1649.4990120599177, 1276.9831690734168, 1356.5831612262157, 21054.990701306117, 8245.008766679677, 1957.1428038958602, 10023.865696296112, 2878.6013382108604, 2043.2332097257392, 1416.4543619231888, 6122.397534678191, 9299.052275079857, 5050.8752348179805, 5674.300921074517, 4151.330650040012, 2856.7558474165758, 5874.458444660687, 8829.91897571683, 1886.1766870934641, 10127.704551383338, 6288.171361933596, 6972.765316520479, 4320.788943212771, 14738.698816835411, 8541.307028026013, 6903.47466270484, 25478.425443905115, 5934.462150107865, 4269.248976695907, 3810.653251659944, 3310.623134491115, 1205.2492868860036, 1112.1971750483253, 1100.5473964273751, 1002.882065699861, 972.9495519683592, 960.4811939337459, 952.2470434710177, 924.1132394085172, 887.8210703274314, 884.0418093792105, 802.9526447451551, 730.4136876051151, 699.197135746716, 693.5430204517498, 675.0087456815392, 619.8510504167502, 547.6971147041456, 533.7412452181579, 533.8411802645217, 533.2595654865783, 533.1118171829149, 530.0435447289827, 529.7241929166516, 522.1360648396703, 513.7350338812403, 1086.6498062654687, 2436.77974997843, 1350.873565332928, 1548.7857180894184, 1020.0622299713075, 5674.224419083475, 1192.138335431687, 1300.2128072916064, 1186.3157827106338, 1098.1301511769768, 8161.589771629098, 3281.9449874121833, 3585.3695965618513, 1853.4539610392342, 3826.4669544661047, 5835.7993611591555, 5676.952275191704, 4746.79192893638, 12564.122302316931, 2321.435150919051, 9212.767939612444, 7653.872004221109, 10127.704551383338, 12559.621993912253, 4280.921111858032, 4375.055779571795, 4240.221782599692, 2234.047609655354, 35894.174338597775, 11997.691642776472, 18318.698699062483, 47901.730321300376, 17089.62220019354, 9932.767805648033, 3454.9918703471867, 2800.7711497109995, 2087.702614379759, 2064.9749808557744, 1608.775813537508, 1346.024187198227, 938.5011811684649, 859.4680032004007, 682.8636152239458, 673.9137854605972, 619.8091268631206, 590.4808470886644, 500.1236615383922, 444.89019051145607, 410.0942845045441, 406.50069307818836, 362.7557376992223, 362.5987031147276, 358.5290510926036, 352.2487900259201, 331.086242283161, 323.1402599459182, 320.7742201951168, 315.52090591632805, 296.0801666822178, 290.054013976076, 284.12209030582903, 282.29638074203996, 241.796459536236, 3364.5333082230277, 549.8120979975115, 1584.7240377743829, 1750.5683485467398, 1397.517789435096, 2575.589862010527, 2385.033566914032, 585.8013481940816, 677.7361843125348, 23428.677518232595, 3413.765988567805, 556.3745064780437, 1803.2884503216842, 2434.4812977629977, 680.0032891794964, 6288.171361933596, 976.731642479918, 2716.0868153345036, 8796.35942456612, 6497.288457768867, 4815.966419339562, 3800.3214904868028, 2895.8800712763705, 9233.266013724686, 14980.388991269618, 47901.730321300376, 5878.390781382012, 15898.02716603869, 17089.62220019354, 22889.996486885673, 16041.780986500187, 10666.685567986413, 20379.649126584147], \"Category\": [\"Default\", \"Default\", \"Default\", \"Default\", \"Default\", \"Default\", \"Default\", \"Default\", \"Default\", \"Default\", \"Default\", \"Default\", \"Default\", \"Default\", \"Default\", \"Default\", \"Default\", \"Default\", \"Default\", \"Default\", \"Default\", \"Default\", \"Default\", \"Default\", \"Default\", \"Default\", \"Default\", \"Default\", \"Default\", \"Default\", \"Topic1\", \"Topic1\", \"Topic1\", \"Topic1\", \"Topic1\", \"Topic1\", \"Topic1\", \"Topic1\", \"Topic1\", \"Topic1\", \"Topic1\", \"Topic1\", \"Topic1\", \"Topic1\", \"Topic1\", \"Topic1\", \"Topic1\", \"Topic1\", \"Topic1\", \"Topic1\", \"Topic1\", \"Topic1\", \"Topic1\", \"Topic1\", \"Topic1\", \"Topic1\", \"Topic1\", \"Topic1\", \"Topic1\", \"Topic1\", \"Topic1\", \"Topic1\", \"Topic1\", \"Topic1\", \"Topic1\", \"Topic1\", \"Topic1\", \"Topic1\", \"Topic1\", \"Topic1\", \"Topic1\", \"Topic1\", \"Topic1\", \"Topic1\", \"Topic1\", \"Topic1\", \"Topic1\", \"Topic1\", \"Topic1\", \"Topic1\", \"Topic1\", \"Topic1\", \"Topic1\", \"Topic1\", \"Topic1\", \"Topic1\", \"Topic1\", \"Topic1\", \"Topic1\", \"Topic1\", \"Topic1\", \"Topic1\", \"Topic1\", \"Topic1\", \"Topic1\", \"Topic1\", \"Topic1\", \"Topic1\", \"Topic1\", \"Topic1\", \"Topic1\", \"Topic1\", \"Topic1\", \"Topic1\", \"Topic1\", \"Topic1\", \"Topic1\", \"Topic1\", \"Topic1\", \"Topic2\", \"Topic2\", \"Topic2\", \"Topic2\", \"Topic2\", \"Topic2\", \"Topic2\", \"Topic2\", \"Topic2\", \"Topic2\", \"Topic2\", \"Topic2\", \"Topic2\", \"Topic2\", \"Topic2\", \"Topic2\", \"Topic2\", \"Topic2\", \"Topic2\", \"Topic2\", \"Topic2\", \"Topic2\", \"Topic2\", \"Topic2\", \"Topic2\", \"Topic2\", \"Topic2\", \"Topic2\", \"Topic2\", \"Topic2\", \"Topic2\", \"Topic2\", \"Topic2\", \"Topic2\", \"Topic2\", \"Topic2\", \"Topic2\", \"Topic2\", \"Topic2\", \"Topic2\", \"Topic2\", \"Topic2\", \"Topic2\", \"Topic2\", \"Topic2\", \"Topic2\", \"Topic2\", \"Topic2\", \"Topic2\", \"Topic2\", \"Topic2\", \"Topic2\", \"Topic2\", \"Topic2\", \"Topic2\", \"Topic2\", \"Topic2\", \"Topic2\", \"Topic2\", \"Topic2\", \"Topic2\", \"Topic2\", \"Topic2\", \"Topic2\", \"Topic2\", \"Topic2\", \"Topic2\", \"Topic2\", \"Topic2\", \"Topic2\", \"Topic2\", \"Topic2\", \"Topic2\", \"Topic3\", \"Topic3\", \"Topic3\", \"Topic3\", \"Topic3\", \"Topic3\", \"Topic3\", \"Topic3\", \"Topic3\", \"Topic3\", \"Topic3\", \"Topic3\", \"Topic3\", \"Topic3\", \"Topic3\", \"Topic3\", \"Topic3\", \"Topic3\", \"Topic3\", \"Topic3\", \"Topic3\", \"Topic3\", \"Topic3\", \"Topic3\", \"Topic3\", \"Topic3\", \"Topic3\", \"Topic3\", \"Topic3\", \"Topic3\", \"Topic3\", \"Topic3\", \"Topic3\", \"Topic3\", \"Topic3\", \"Topic3\", \"Topic3\", \"Topic3\", \"Topic3\", \"Topic3\", \"Topic3\", \"Topic3\", \"Topic3\", \"Topic3\", \"Topic3\", \"Topic3\", \"Topic3\", \"Topic3\", \"Topic3\", \"Topic3\", \"Topic3\", \"Topic3\", \"Topic3\", \"Topic3\", \"Topic3\", \"Topic3\", \"Topic3\", \"Topic3\", \"Topic3\", \"Topic3\", \"Topic3\", \"Topic3\", \"Topic3\", \"Topic3\", \"Topic3\", \"Topic3\", \"Topic3\", \"Topic3\", \"Topic3\", \"Topic3\", \"Topic3\", \"Topic3\", \"Topic3\", \"Topic3\", \"Topic3\", \"Topic3\", \"Topic3\", \"Topic4\", \"Topic4\", \"Topic4\", \"Topic4\", \"Topic4\", \"Topic4\", \"Topic4\", \"Topic4\", \"Topic4\", \"Topic4\", \"Topic4\", \"Topic4\", \"Topic4\", \"Topic4\", \"Topic4\", \"Topic4\", \"Topic4\", \"Topic4\", \"Topic4\", \"Topic4\", \"Topic4\", \"Topic4\", \"Topic4\", \"Topic4\", \"Topic4\", \"Topic4\", \"Topic4\", \"Topic4\", \"Topic4\", \"Topic4\", \"Topic4\", \"Topic4\", \"Topic4\", \"Topic4\", \"Topic4\", \"Topic4\", \"Topic4\", \"Topic4\", \"Topic4\", \"Topic4\", \"Topic4\", \"Topic4\", \"Topic4\", \"Topic4\", \"Topic4\", \"Topic4\", \"Topic4\", \"Topic4\", \"Topic4\", \"Topic4\", \"Topic4\", \"Topic4\", \"Topic4\", \"Topic4\", \"Topic4\", \"Topic4\", \"Topic4\", \"Topic4\", \"Topic4\", \"Topic4\", \"Topic4\", \"Topic4\", \"Topic4\", \"Topic4\", \"Topic4\", \"Topic4\", \"Topic4\", \"Topic4\", \"Topic4\", \"Topic4\", \"Topic4\", \"Topic5\", \"Topic5\", \"Topic5\", \"Topic5\", \"Topic5\", \"Topic5\", \"Topic5\", \"Topic5\", \"Topic5\", \"Topic5\", \"Topic5\", \"Topic5\", \"Topic5\", \"Topic5\", \"Topic5\", \"Topic5\", \"Topic5\", \"Topic5\", \"Topic5\", \"Topic5\", \"Topic5\", \"Topic5\", \"Topic5\", \"Topic5\", \"Topic5\", \"Topic5\", \"Topic5\", \"Topic5\", \"Topic5\", \"Topic5\", \"Topic5\", \"Topic5\", \"Topic5\", \"Topic5\", \"Topic5\", \"Topic5\", \"Topic5\", \"Topic5\", \"Topic5\", \"Topic5\", \"Topic5\", \"Topic5\", \"Topic5\", \"Topic5\", \"Topic5\", \"Topic5\", \"Topic5\", \"Topic5\", \"Topic5\", \"Topic5\", \"Topic5\", \"Topic5\", \"Topic5\", \"Topic5\", \"Topic5\", \"Topic5\", \"Topic5\", \"Topic5\", \"Topic5\", \"Topic5\", \"Topic5\", \"Topic5\", \"Topic5\", \"Topic5\", \"Topic5\", \"Topic5\", \"Topic5\", \"Topic5\", \"Topic5\", \"Topic5\", \"Topic5\", \"Topic5\", \"Topic6\", \"Topic6\", \"Topic6\", \"Topic6\", \"Topic6\", \"Topic6\", \"Topic6\", \"Topic6\", \"Topic6\", \"Topic6\", \"Topic6\", \"Topic6\", \"Topic6\", \"Topic6\", \"Topic6\", \"Topic6\", \"Topic6\", \"Topic6\", \"Topic6\", \"Topic6\", \"Topic6\", \"Topic6\", \"Topic6\", \"Topic6\", \"Topic6\", \"Topic6\", \"Topic6\", \"Topic6\", \"Topic6\", \"Topic6\", \"Topic6\", \"Topic6\", \"Topic6\", \"Topic6\", \"Topic6\", \"Topic6\", \"Topic6\", \"Topic6\", \"Topic6\", \"Topic6\", \"Topic6\", \"Topic6\", \"Topic6\", \"Topic6\", \"Topic6\", \"Topic6\", \"Topic6\", \"Topic6\", \"Topic6\", \"Topic6\", \"Topic6\", \"Topic6\", \"Topic6\", \"Topic6\", \"Topic6\", \"Topic6\", \"Topic6\", \"Topic6\", \"Topic6\", \"Topic6\", \"Topic6\", \"Topic6\", \"Topic6\", \"Topic6\", \"Topic6\", \"Topic6\", \"Topic6\", \"Topic6\", \"Topic6\", \"Topic6\", \"Topic7\", \"Topic7\", \"Topic7\", \"Topic7\", \"Topic7\", \"Topic7\", \"Topic7\", \"Topic7\", \"Topic7\", \"Topic7\", \"Topic7\", \"Topic7\", \"Topic7\", \"Topic7\", \"Topic7\", \"Topic7\", \"Topic7\", \"Topic7\", \"Topic7\", \"Topic7\", \"Topic7\", \"Topic7\", \"Topic7\", \"Topic7\", \"Topic7\", \"Topic7\", \"Topic7\", \"Topic7\", \"Topic7\", \"Topic7\", \"Topic7\", \"Topic7\", \"Topic7\", \"Topic7\", \"Topic7\", \"Topic7\", \"Topic7\", \"Topic7\", \"Topic7\", \"Topic7\", \"Topic7\", \"Topic7\", \"Topic7\", \"Topic7\", \"Topic7\", \"Topic7\", \"Topic7\", \"Topic7\", \"Topic7\", \"Topic7\", \"Topic7\", \"Topic7\", \"Topic7\", \"Topic7\", \"Topic7\", \"Topic7\", \"Topic7\", \"Topic7\", \"Topic7\", \"Topic7\", \"Topic7\", \"Topic7\", \"Topic7\", \"Topic8\", \"Topic8\", \"Topic8\", \"Topic8\", \"Topic8\", \"Topic8\", \"Topic8\", \"Topic8\", \"Topic8\", \"Topic8\", \"Topic8\", \"Topic8\", \"Topic8\", \"Topic8\", \"Topic8\", \"Topic8\", \"Topic8\", \"Topic8\", \"Topic8\", \"Topic8\", \"Topic8\", \"Topic8\", \"Topic8\", \"Topic8\", \"Topic8\", \"Topic8\", \"Topic8\", \"Topic8\", \"Topic8\", \"Topic8\", \"Topic8\", \"Topic8\", \"Topic8\", \"Topic8\", \"Topic8\", \"Topic8\", \"Topic8\", \"Topic8\", \"Topic8\", \"Topic8\", \"Topic8\", \"Topic8\", \"Topic8\", \"Topic8\", \"Topic8\", \"Topic8\", \"Topic8\", \"Topic8\", \"Topic8\", \"Topic8\", \"Topic8\", \"Topic8\", \"Topic8\", \"Topic8\", \"Topic8\", \"Topic8\", \"Topic8\", \"Topic8\", \"Topic8\", \"Topic8\", \"Topic8\", \"Topic8\", \"Topic8\"], \"logprob\": [30.0, 29.0, 28.0, 27.0, 26.0, 25.0, 24.0, 23.0, 22.0, 21.0, 20.0, 19.0, 18.0, 17.0, 16.0, 15.0, 14.0, 13.0, 12.0, 11.0, 10.0, 9.0, 8.0, 7.0, 6.0, 5.0, 4.0, 3.0, 2.0, 1.0, -6.3073, -6.6033, -6.7253, -7.0778, -7.0774, -5.845, -7.1541, -7.13, -7.227, -7.4797, -7.4872, -7.6091, -7.6151, -7.7305, -6.784, -8.0079, -8.1226, -8.1971, -8.2352, -8.2611, -8.293, -8.3111, -8.3187, -8.34, -8.3457, -8.3653, -8.3798, -8.3977, -8.4628, -8.473, -7.3824, -7.7806, -8.3246, -5.5448, -4.567, -6.333, -4.8937, -7.5716, -7.4187, -6.9357, -4.4383, -7.5873, -7.5977, -6.7668, -5.9079, -4.6282, -4.3682, -5.4555, -4.3082, -4.9316, -6.3865, -5.7081, -5.1389, -4.5341, -4.1164, -6.3323, -4.9778, -4.9343, -6.0572, -3.5451, -4.9618, -5.588, -5.1818, -5.6569, -4.8344, -5.1521, -5.3342, -5.0063, -5.6446, -5.116, -4.5751, -4.731, -5.417, -5.0506, -4.7058, -4.8618, -5.0454, -5.361, -5.3906, -4.2983, -4.7853, -5.0479, -5.1947, -5.5065, -5.5201, -5.54, -6.0945, -6.1122, -6.3177, -6.3491, -6.3613, -6.4897, -6.4967, -6.4957, -6.5118, -6.5254, -6.5479, -6.5461, -6.5626, -6.664, -6.7116, -6.7201, -5.9841, -6.9121, -6.9526, -6.9794, -7.0184, -7.0794, -7.1026, -4.6974, -6.8328, -4.285, -5.4951, -4.474, -5.463, -5.6563, -4.5295, -5.6549, -4.4842, -4.6503, -5.9623, -4.3002, -5.8832, -4.0051, -6.1073, -6.1427, -5.1847, -5.6766, -5.6421, -4.0419, -5.5109, -4.9948, -5.0832, -5.2578, -4.6579, -5.2985, -5.2225, -5.567, -5.0587, -5.5465, -4.4858, -4.7296, -4.5686, -5.0734, -5.1432, -5.0415, -4.9805, -5.1806, -5.2162, -4.8904, -5.1658, -5.0687, -4.8571, -5.7967, -5.9142, -6.0829, -6.4475, -6.5897, -6.6512, -6.6523, -6.8202, -6.8719, -6.984, -7.0087, -7.0457, -7.1278, -7.1704, -7.1967, -7.2293, -7.2642, -7.2693, -7.2738, -7.2948, -7.2942, -7.31, -7.3323, -7.3748, -7.3666, -7.3791, -7.46, -7.5529, -7.5859, -4.0455, -5.1507, -6.0056, -6.5164, -6.6478, -4.8914, -6.0292, -6.5014, -3.9661, -5.987, -6.0807, -4.8221, -3.4129, -5.0062, -6.2735, -5.2528, -6.1935, -5.756, -4.7443, -5.6873, -4.1236, -3.8014, -3.9902, -5.9395, -6.0569, -5.0567, -5.9327, -4.7898, -4.9255, -4.4822, -5.2556, -5.7184, -4.4391, -4.3465, -4.7251, -4.6127, -5.3799, -4.6541, -4.7001, -5.0657, -5.0616, -4.6957, -5.061, -4.8396, -4.6738, -4.9572, -5.2527, -4.3597, -5.0219, -5.3431, -5.4759, -5.4932, -5.5051, -5.7903, -5.8058, -5.8339, -5.9781, -6.1739, -6.2281, -6.2938, -6.3506, -6.3585, -6.4545, -6.4973, -6.6359, -6.6449, -6.6639, -6.7341, -6.7828, -6.8265, -6.8422, -6.8765, -6.9753, -6.9899, -7.0276, -7.0816, -7.0914, -4.5076, -4.6806, -5.5763, -5.9024, -5.9137, -4.9525, -5.3882, -4.7521, -4.7575, -5.2397, -5.1591, -4.6128, -4.7695, -5.231, -4.3346, -4.8972, -5.8408, -5.019, -4.5033, -4.7326, -5.4482, -5.2858, -4.2366, -4.723, -4.8947, -5.3386, -4.6397, -4.5119, -5.1908, -5.1392, -4.3409, -4.6283, -4.8499, -4.8182, -4.8103, -4.9394, -4.994, -5.1615, -5.1682, -5.0975, -5.154, -4.7978, -4.9811, -5.1335, -5.4084, -5.4804, -6.4463, -6.5371, -6.6553, -6.8395, -6.8942, -6.9802, -7.0066, -7.045, -7.0626, -6.7539, -7.0765, -7.0743, -7.087, -7.1022, -7.1387, -7.1806, -7.2294, -7.3049, -7.305, -7.2976, -7.3453, -7.3777, -7.3916, -7.4039, -7.4055, -4.8868, -4.4943, -6.8567, -4.2974, -6.1267, -5.1255, -6.1217, -4.6827, -6.2602, -4.9792, -5.9864, -5.7283, -5.9859, -5.9981, -6.7762, -6.4884, -5.1998, -5.824, -5.3777, -4.7079, -5.6079, -4.9472, -6.0263, -5.466, -4.3238, -5.208, -4.3201, -4.4344, -5.058, -4.6892, -5.0365, -5.0736, -4.0219, -5.1656, -4.8975, -4.8514, -5.1217, -5.189, -5.1572, -5.2755, -5.2017, -5.221, -5.0472, -5.2165, -5.6152, -5.6936, -5.6977, -5.836, -5.9294, -5.955, -6.0338, -6.1873, -6.2287, -6.202, -6.33, -6.3874, -6.3948, -6.408, -6.4211, -6.4776, -6.5017, -6.5097, -6.5166, -6.5304, -6.7456, -6.7455, -6.7618, -6.8314, -6.8761, -6.8784, -6.8629, -6.8965, -4.5545, -6.1513, -6.5481, -6.5533, -6.1093, -5.9824, -6.318, -5.9335, -2.7737, -4.9126, -4.3214, -2.7427, -3.4327, -3.6607, -5.589, -5.8233, -5.7702, -3.3319, -4.1821, -5.4477, -4.0419, -5.1257, -5.4339, -5.7527, -4.5834, -4.3302, -4.8642, -4.933, -5.1645, -5.4006, -5.1127, -5.008, -5.6573, -5.0909, -5.294, -5.3079, -5.4559, -5.2121, -5.4076, -5.4412, -2.6229, -4.08, -4.4094, -4.5231, -4.6639, -5.6746, -5.755, -5.7656, -5.8586, -5.8889, -5.9018, -5.9104, -5.9404, -5.9805, -5.9848, -6.0811, -6.1759, -6.2196, -6.2278, -6.2549, -6.3402, -6.4641, -6.49, -6.4898, -6.4909, -6.4912, -6.4969, -6.4976, -6.512, -6.5282, -5.7943, -5.0289, -5.6082, -5.4843, -5.8775, -4.2816, -5.7367, -5.6577, -5.7455, -5.8219, -4.031, -4.8801, -4.827, -5.5005, -5.08, -4.873, -4.91, -5.0559, -4.5654, -5.4471, -4.8192, -4.9228, -4.8853, -4.92, -5.3468, -5.3765, -5.4364, -5.6063, -5.0448, -5.3675, -5.3374, -5.3605, -5.5274, -3.2698, -4.3259, -4.5359, -4.8298, -4.8408, -5.0906, -5.269, -5.6298, -5.7179, -5.9481, -5.9613, -6.0451, -6.0937, -6.26, -6.3772, -6.4588, -6.4676, -6.5817, -6.5822, -6.5934, -6.6112, -6.6732, -6.6976, -6.705, -6.7215, -6.7853, -6.8059, -6.8266, -6.8331, -6.9884, -4.3604, -6.1693, -5.1319, -5.0495, -5.291, -4.7489, -4.8352, -6.155, -6.0334, -2.9545, -4.6724, -6.2203, -5.2594, -5.0492, -6.0632, -4.3308, -5.828, -5.1473, -4.459, -4.6859, -4.9537, -5.2132, -5.3792, -4.908, -4.8535, -4.4566, -5.1941, -4.8596, -4.9809, -5.0106, -5.1589, -5.2144, -5.2057], \"loglift\": [30.0, 29.0, 28.0, 27.0, 26.0, 25.0, 24.0, 23.0, 22.0, 21.0, 20.0, 19.0, 18.0, 17.0, 16.0, 15.0, 14.0, 13.0, 12.0, 11.0, 10.0, 9.0, 8.0, 7.0, 6.0, 5.0, 4.0, 3.0, 2.0, 1.0, 1.6643, 1.6641, 1.6639, 1.6636, 1.6636, 1.6636, 1.6635, 1.6634, 1.6634, 1.6629, 1.6629, 1.6627, 1.6627, 1.6624, 1.6621, 1.6616, 1.6612, 1.6609, 1.6608, 1.6607, 1.6605, 1.6605, 1.6604, 1.6603, 1.6603, 1.6602, 1.6602, 1.6601, 1.6597, 1.6597, 1.6545, 1.6488, 1.658, 1.565, 1.5192, 1.5782, 1.4824, 1.6232, 1.6082, 1.5735, 1.3994, 1.6066, 1.6068, 1.534, 1.4406, 1.3109, 1.2763, 1.3804, 1.2029, 1.2817, 1.4698, 1.3679, 1.2809, 1.1605, 1.0804, 1.4521, 1.1903, 1.1479, 1.3884, 0.7971, 1.1259, 1.2708, 1.1626, 1.2812, 1.0601, 1.1446, 1.1428, 1.0269, 1.2357, 1.0164, 0.7606, 0.7736, 1.1219, 0.8747, 0.5983, 0.5995, 0.3998, 0.7054, 0.7511, 1.9073, 1.9072, 1.9072, 1.9071, 1.907, 1.907, 1.907, 1.9067, 1.9067, 1.9066, 1.9066, 1.9065, 1.9064, 1.9064, 1.9064, 1.9064, 1.9064, 1.9064, 1.9064, 1.9064, 1.9062, 1.9062, 1.9062, 1.906, 1.9059, 1.9059, 1.9058, 1.9058, 1.9057, 1.9056, 1.8956, 1.9036, 1.8617, 1.8818, 1.8478, 1.8697, 1.8565, 1.7944, 1.7923, 1.6174, 1.5789, 1.788, 1.4335, 1.7467, 1.2557, 1.7889, 1.795, 1.4909, 1.6452, 1.6261, 1.0154, 1.5714, 1.3452, 1.3575, 1.3816, 1.0226, 1.3869, 1.244, 1.5385, 0.9298, 1.5138, 0.1449, 0.4346, 0.1476, 0.8866, 0.9445, 0.5805, 0.3924, 0.8948, 0.9802, -0.5482, 0.7244, 0.0119, 2.0118, 2.0115, 2.0115, 2.0114, 2.0111, 2.0109, 2.0108, 2.0108, 2.0106, 2.0105, 2.0104, 2.0103, 2.0102, 2.0101, 2.01, 2.01, 2.0099, 2.0098, 2.0098, 2.0098, 2.0097, 2.0097, 2.0097, 2.0096, 2.0095, 2.0095, 2.0095, 2.0093, 2.009, 2.009, 2.0032, 1.9955, 2.0027, 2.0032, 2.0039, 1.9696, 1.9878, 1.9937, 1.923, 1.9798, 1.974, 1.914, 1.8415, 1.911, 1.9657, 1.9058, 1.9568, 1.9132, 1.8292, 1.8623, 1.651, 1.502, 1.4605, 1.853, 1.8775, 1.6334, 1.826, 1.4795, 1.5184, 1.3581, 1.5609, 1.7419, 1.1679, 1.0897, 1.1651, 0.8486, 1.4188, 0.65, 0.6849, 0.9948, 0.9387, 0.385, 0.8989, 0.4212, -0.3316, 0.3785, 0.1202, 2.0236, 2.0235, 2.0234, 2.0233, 2.0233, 2.0233, 2.0232, 2.0232, 2.0232, 2.0231, 2.023, 2.0229, 2.0229, 2.0228, 2.0228, 2.0227, 2.0227, 2.0225, 2.0225, 2.0225, 2.0224, 2.0223, 2.0222, 2.0222, 2.0222, 2.022, 2.022, 2.0219, 2.0218, 2.0218, 2.0042, 1.9891, 1.9765, 1.9845, 1.9834, 1.942, 1.956, 1.9166, 1.916, 1.9166, 1.8988, 1.8377, 1.8412, 1.8425, 1.6561, 1.7189, 1.9132, 1.7314, 1.5722, 1.5305, 1.7734, 1.6963, 1.0991, 1.2773, 1.2814, 1.6129, 0.9672, 0.7915, 1.4167, 1.3345, 0.0013, 0.4523, 0.831, 0.7027, 0.5748, 0.5058, 0.628, 1.2785, 1.2226, 0.3638, 0.1501, 2.1092, 2.1091, 2.1091, 2.109, 2.109, 2.1083, 2.1082, 2.108, 2.1078, 2.1077, 2.1075, 2.1075, 2.1074, 2.1074, 2.1074, 2.1074, 2.1073, 2.1073, 2.1073, 2.1072, 2.1071, 2.107, 2.1068, 2.1068, 2.1068, 2.1067, 2.1066, 2.1066, 2.1066, 2.1065, 2.0995, 2.0881, 2.1012, 2.0619, 2.0764, 2.001, 2.0534, 1.8974, 2.0248, 1.8842, 1.9864, 1.9394, 1.9338, 1.919, 2.0559, 1.9995, 1.7481, 1.8683, 1.771, 1.6223, 1.7781, 1.5748, 1.875, 1.7101, 1.2982, 1.5662, 1.2007, 1.2465, 1.3672, 1.155, 1.3309, 1.3279, 0.3203, 0.9008, 0.4875, 0.2293, 0.612, 0.5377, 0.279, 0.6498, -0.0049, 0.1518, 2.2173, 2.2173, 2.2171, 2.217, 2.217, 2.217, 2.2169, 2.2169, 2.2168, 2.2167, 2.2166, 2.2166, 2.2165, 2.2165, 2.2165, 2.2164, 2.2164, 2.2163, 2.2163, 2.2163, 2.2163, 2.2163, 2.216, 2.216, 2.2159, 2.2158, 2.2157, 2.2157, 2.2157, 2.2157, 2.1777, 2.201, 2.2069, 2.2057, 2.1869, 2.176, 2.1908, 2.1656, 1.9425, 2.0979, 2.0381, 1.888, 1.9075, 1.9178, 2.1219, 2.1435, 2.1361, 1.8322, 1.9197, 2.0922, 1.8644, 2.0284, 2.0629, 2.1105, 1.8159, 1.6513, 1.7275, 1.5423, 1.6234, 1.7611, 1.328, 1.0252, 1.9195, 0.8051, 1.0786, 0.9615, 1.292, 0.3088, 0.6588, 0.8381, 2.3506, 2.3505, 2.3505, 2.3505, 2.3503, 2.35, 2.35, 2.3499, 2.3499, 2.3499, 2.3498, 2.3498, 2.3498, 2.3498, 2.3498, 2.3497, 2.3496, 2.3495, 2.3495, 2.3495, 2.3494, 2.3492, 2.3492, 2.3492, 2.3492, 2.3492, 2.3492, 2.3492, 2.3492, 2.3491, 2.3339, 2.2918, 2.3024, 2.2895, 2.314, 2.1938, 2.2989, 2.2911, 2.2949, 2.2958, 2.0808, 2.1428, 2.1075, 2.0938, 1.7894, 1.5743, 1.5649, 1.598, 1.1151, 1.922, 1.1715, 1.2534, 1.0108, 0.7608, 1.4104, 1.3589, 1.3303, 1.8012, -0.414, 0.3591, -0.034, -1.0183, -0.1546, 2.6457, 2.6456, 2.6455, 2.6454, 2.6454, 2.6453, 2.6452, 2.645, 2.6449, 2.6447, 2.6446, 2.6445, 2.6445, 2.6443, 2.644, 2.6439, 2.6439, 2.6437, 2.6436, 2.6436, 2.6436, 2.6435, 2.6434, 2.6434, 2.6433, 2.6432, 2.6431, 2.6431, 2.6431, 2.6426, 2.6377, 2.6402, 2.619, 2.6019, 2.5857, 2.5163, 2.507, 2.5911, 2.5669, 2.1029, 2.3111, 2.5773, 2.3623, 2.2724, 2.5338, 2.0418, 2.4068, 2.0648, 1.578, 1.654, 1.6857, 1.663, 1.7688, 1.0805, 0.651, -0.1145, 1.2459, 0.5856, 0.392, 0.07, 0.2773, 0.6298, -0.0089]}, \"token.table\": {\"Topic\": [1, 2, 4, 6, 8, 2, 3, 1, 2, 3, 4, 5, 6, 7, 8, 7, 1, 2, 3, 4, 6, 7, 6, 6, 6, 6, 6, 6, 6, 6, 6, 8, 1, 2, 3, 4, 5, 6, 7, 8, 1, 2, 3, 4, 5, 6, 7, 8, 2, 6, 7, 2, 6, 2, 6, 7, 2, 3, 6, 7, 2, 6, 1, 2, 3, 4, 5, 6, 7, 8, 2, 3, 4, 5, 6, 7, 8, 3, 4, 8, 2, 6, 7, 2, 6, 6, 2, 6, 2, 6, 1, 2, 3, 4, 5, 6, 7, 8, 6, 6, 1, 2, 3, 4, 5, 6, 7, 1, 2, 3, 4, 5, 6, 7, 6, 6, 6, 1, 2, 3, 4, 6, 7, 1, 2, 3, 6, 7, 8, 1, 2, 3, 4, 6, 7, 2, 6, 2, 4, 5, 7, 7, 8, 4, 4, 7, 5, 7, 6, 7, 4, 4, 4, 4, 7, 1, 2, 3, 4, 5, 6, 7, 8, 7, 2, 4, 5, 7, 8, 7, 2, 1, 2, 3, 4, 5, 6, 7, 2, 3, 6, 6, 1, 3, 6, 3, 1, 6, 2, 3, 6, 1, 1, 3, 4, 6, 8, 5, 7, 8, 3, 2, 8, 6, 1, 3, 4, 5, 7, 8, 1, 2, 8, 3, 4, 7, 3, 1, 3, 4, 6, 7, 3, 2, 6, 7, 4, 8, 4, 7, 1, 2, 3, 4, 5, 6, 7, 4, 7, 1, 2, 3, 6, 8, 3, 1, 2, 3, 4, 5, 6, 7, 8, 1, 2, 3, 4, 5, 6, 7, 8, 4, 5, 7, 7, 1, 1, 2, 3, 4, 5, 6, 7, 8, 3, 4, 8, 4, 1, 2, 3, 4, 5, 6, 7, 6, 5, 2, 2, 4, 7, 3, 8, 1, 1, 2, 3, 4, 5, 6, 7, 8, 4, 7, 5, 6, 2, 4, 6, 7, 8, 1, 3, 6, 2, 5, 8, 7, 8, 1, 3, 5, 1, 2, 3, 2, 4, 5, 6, 8, 1, 6, 2, 4, 5, 6, 7, 8, 2, 5, 6, 8, 3, 4, 3, 4, 6, 7, 1, 2, 3, 4, 5, 6, 7, 8, 1, 3, 2, 3, 4, 5, 7, 8, 4, 2, 4, 5, 6, 8, 3, 1, 2, 3, 4, 5, 6, 7, 8, 4, 7, 2, 7, 8, 1, 2, 3, 4, 5, 6, 7, 5, 5, 5, 6, 8, 3, 5, 6, 5, 5, 1, 2, 3, 4, 5, 6, 7, 1, 1, 2, 3, 4, 5, 7, 3, 1, 2, 3, 4, 5, 6, 8, 1, 2, 3, 4, 5, 6, 7, 8, 2, 4, 5, 2, 1, 7, 6, 8, 1, 2, 3, 4, 5, 6, 7, 8, 1, 2, 8, 6, 2, 4, 7, 4, 2, 7, 4, 1, 2, 3, 4, 5, 6, 7, 8, 2, 3, 4, 6, 8, 2, 3, 8, 1, 3, 5, 6, 2, 1, 1, 3, 4, 6, 7, 5, 3, 3, 5, 1, 2, 5, 8, 5, 6, 1, 2, 3, 4, 5, 6, 7, 8, 2, 4, 5, 7, 1, 2, 3, 4, 5, 6, 7, 8, 1, 2, 3, 4, 5, 6, 7, 8, 4, 2, 1, 3, 5, 6, 1, 2, 3, 4, 5, 7, 8, 1, 2, 3, 4, 5, 6, 7, 8, 7, 4, 3, 4, 7, 2, 7, 8, 1, 2, 3, 4, 8, 1, 2, 5, 8, 1, 3, 4, 5, 6, 5, 6, 1, 2, 3, 6, 7, 1, 2, 3, 4, 5, 6, 2, 1, 1, 2, 3, 4, 5, 6, 7, 8, 8, 8, 8, 7, 1, 3, 4, 5, 7, 8, 2, 2, 3, 8, 6, 2, 2, 4, 1, 2, 3, 4, 6, 7, 7, 8, 4, 8, 4, 2, 4, 7, 8, 2, 4, 6, 7, 8, 6, 2, 4, 3, 4, 5, 6, 7, 5, 2, 4, 5, 7, 8, 1, 2, 3, 4, 5, 6, 7, 8, 7, 1, 3, 4, 6, 7, 3, 4, 5, 6, 8, 2, 1, 3, 6, 7, 5, 1, 3, 5, 7, 1, 2, 3, 5, 7, 8, 1, 2, 3, 5, 6, 7, 2, 3, 4, 6, 7, 3, 1, 1, 1, 3, 4, 5, 6, 7, 1, 1, 2, 3, 5, 6, 7, 3, 1, 3, 4, 6, 5, 8, 1, 2, 3, 5, 6, 4, 2, 4, 3, 4, 6, 4, 1, 1, 3, 4, 5, 6, 8, 1, 1, 1, 2, 3, 4, 5, 6, 7, 8, 3, 7, 7, 7, 4, 2, 1, 2, 3, 4, 5, 6, 7, 8, 1, 2, 3, 4, 5, 6, 7, 8, 7, 1, 2, 3, 4, 5, 6, 7, 8, 2, 3, 5, 8, 2, 3, 5, 8, 6, 1, 2, 3, 4, 5, 6, 7, 8, 1, 3, 5, 6, 1, 2, 3, 4, 5, 7, 8, 7, 8, 1, 2, 7, 1, 1, 2, 3, 4, 5, 6, 7, 8, 6, 8, 1, 2, 3, 4, 5, 6, 7, 8, 2, 5, 2, 6, 2, 3, 6, 4, 3, 4, 5, 6, 2, 4, 6, 5, 4, 5, 5, 5, 3, 5, 1, 2, 3, 6, 8, 1, 2, 3, 4, 5, 6, 7, 8, 1, 7, 1, 2, 3, 4, 5, 6, 7, 8, 1, 6, 7, 1, 2, 3, 4, 5, 6, 7, 8, 4, 2, 4, 1, 8, 6, 2, 3, 3, 4, 5, 6, 7, 3, 1, 2, 3, 4, 5, 6, 7, 8, 6, 2, 3, 6, 1, 2, 3, 4, 5, 6, 8, 5, 1, 7, 1, 2, 3, 4, 5, 6, 7, 8, 1, 2, 4, 5, 7, 8, 2, 6, 8, 1, 2, 3, 4, 5, 6, 7, 8, 3, 4, 7, 8, 2, 6, 7, 1, 2, 4, 5, 7, 8, 3, 5, 6, 5, 6, 3, 4, 6, 7, 8, 4, 5, 8, 2, 3, 4, 7, 8, 5, 6, 1, 2, 3, 4, 5, 6, 8, 5, 2, 2, 2, 4, 6, 8, 1, 1, 2, 3, 4, 5, 6, 7, 8, 3, 3, 1, 3, 4, 6, 7, 1, 2, 3, 4, 5, 6, 7, 8, 5, 2, 5, 3, 3, 6, 2, 3, 6, 7, 8, 8, 1, 2, 4, 5, 8, 1, 2, 1, 2, 3, 4, 5, 6, 7, 3, 3, 4, 6, 7, 8, 1, 3, 4, 7, 8, 2, 2, 1, 2, 3, 6, 2, 2, 1, 4, 5, 6, 1, 2, 3, 4, 5, 6, 7, 8, 5, 1, 2, 3, 6, 7, 8, 3, 1, 3, 5, 6, 2, 2, 5, 6, 7, 8, 2, 5, 6, 7, 5, 1, 3, 8, 4, 5, 6, 7, 8, 2, 6, 8, 2, 4, 5, 6, 8, 1, 2, 3, 4, 5, 6, 7, 8, 1, 2, 3, 4, 5, 6, 7, 4, 4, 4, 5, 6, 7, 1, 2, 3, 4, 5, 6, 7, 8, 4, 8, 7, 2, 4, 5, 7, 8, 2, 4, 5, 8, 4, 7, 5, 1, 2, 3, 4, 5, 6, 7, 8, 1, 4, 5, 6, 7, 2, 3, 4, 6, 7, 2, 4, 5, 6, 8, 2, 4, 5, 6, 8, 1, 2, 3, 4, 5, 6, 7, 8, 3, 2, 4, 6, 2, 8, 6, 7, 1, 2, 3, 4, 5, 6, 7, 3, 5, 5, 8, 1, 2, 3, 4, 5, 6, 7, 8, 1, 3, 5, 6, 6, 6, 5, 5, 8, 8, 2, 3, 4, 7, 3, 1, 2, 3, 4, 5, 8, 3, 6, 1, 3, 6, 7, 3, 2, 5, 1, 3, 4, 7, 8, 8, 3, 6, 1, 2, 3, 4, 5, 6, 7, 1, 8, 1, 2, 3, 7, 4, 5, 7, 1, 2, 3, 4, 5, 6, 7, 4, 1, 2, 3, 4, 5, 6, 7, 8, 1, 2, 3, 4, 5, 7, 8, 7, 4, 1, 2, 3, 4, 5, 7, 8, 2, 3, 5, 6, 1, 2, 3, 4, 5, 6, 7, 8, 2, 5, 5, 8, 1, 2, 4, 5, 7, 8, 7, 4, 1, 2, 3, 8, 1, 2, 3, 4, 5, 6, 7, 8, 2, 3, 4, 1, 2, 3, 4, 5, 6, 7, 8, 2, 8, 1, 2, 3, 4, 5, 6, 8, 3, 1, 7, 5, 4, 2, 1, 3, 1, 1, 2, 3, 4, 5, 6, 7, 8, 2, 4, 6, 7, 8, 1, 2, 3, 4, 5, 6, 7, 8, 1, 2, 3, 4, 5, 6, 7, 8, 2, 8, 8, 2, 4, 1, 3, 4, 5, 6, 1, 2, 3, 4, 5, 6, 5, 1, 2, 3, 4, 5, 6, 8, 3, 6, 1, 2, 3, 4, 5, 6, 7, 8, 7, 4, 5, 7, 8, 5, 2, 1, 2, 3, 4, 5, 8, 3, 7, 2, 4, 5, 1, 2, 3, 4, 5, 6, 7, 8, 1, 2, 3, 4, 5, 6, 7, 8, 4, 2, 1, 4, 7, 7, 2, 4, 5, 7, 8, 1, 3, 4, 5, 7, 8, 1, 2, 3, 4, 5, 6, 7, 8, 1, 2, 3, 4, 5, 6, 7, 8, 1, 3, 4, 5, 7, 3, 1, 2, 3, 4, 5, 6, 7, 8, 2, 2, 7, 8, 7], \"Freq\": [0.025285570454159495, 0.011450069639619394, 0.09637141946679656, 0.3201248636743589, 0.5465817965468314, 0.00897890639696028, 0.9909447605372528, 0.009678405641528358, 0.010001019162912636, 0.2606717252784971, 0.13678813306693413, 0.0009678405641528358, 0.5675847219554074, 0.0135497678981397, 0.0006452270427685572, 0.9989235945970881, 0.000585053156590323, 0.1716155925998281, 0.04362824967716409, 0.0019501771886344102, 0.7192253471683705, 0.06299072319289145, 0.9994359094402306, 0.9990966462653667, 0.9988378173004667, 0.9995070576206017, 0.9989579438895249, 0.9995490016195272, 0.9991488157872968, 0.9992550855710552, 0.9588309027389124, 0.03983273779924265, 0.00661509178292632, 0.17208341972924385, 0.023061787867082583, 0.007980592380319368, 0.002943412398825014, 0.7594610878122933, 0.023668677021479494, 0.004187535165338679, 0.026950226453838533, 0.2071084069301046, 0.04508037879551173, 0.0006533388231233584, 0.023193528220879223, 0.6691822895840999, 0.01633347057808396, 0.011270094698877933, 0.1712637291784262, 0.8274851985862296, 0.001042172794189206, 0.11256059459933163, 0.8872423339006139, 0.11189781326332537, 0.8818978342123269, 0.006131387028127418, 0.07517434026537975, 0.0012124893591190283, 0.9087607746597117, 0.013943627629868826, 0.07740034153533978, 0.9214326373254735, 0.03861317307300291, 0.22930430454668888, 0.013013541724480686, 0.024887211181123647, 0.0016623137239300146, 0.6801712811543354, 0.010876281222284952, 0.001519829690450299, 0.08906906821061522, 0.04400436108024443, 0.003181038150379115, 0.07157335838353009, 0.7422422350884602, 0.04718539923062354, 0.002650865125315929, 0.9973770133148553, 0.06470461816787192, 0.9346222624248166, 0.04647730994837199, 0.9492096762532896, 0.0035751776883363074, 0.016118581718840674, 0.9832334848492812, 0.9994733654490452, 0.025582290685421692, 0.9734734823978886, 0.029389773107261936, 0.969862512539644, 0.02831788353408036, 0.2072811576454004, 0.005246714461898137, 0.010852792928035874, 0.0024436752288292695, 0.7409367039412041, 0.004096749648331423, 0.0007906008093271166, 0.9981379780925326, 0.9985063693652528, 0.009676905391484063, 0.2519985878235953, 0.024242144434336366, 0.006983333787668911, 0.0009976191125241301, 0.7024236171282401, 0.003591428805086869, 0.03796236109110255, 0.1696784126723721, 0.00970283989548947, 0.0031534229660340777, 0.020375963780527886, 0.7422672520049445, 0.016858684318412955, 0.9973274328713387, 0.9986599442623199, 0.9973818463971563, 0.00989927441789242, 0.36845099383395585, 0.008117405022671784, 0.00019798548835784838, 0.6125671009791829, 0.0007919419534313935, 0.00017022845755405812, 0.577074471108257, 0.00034045691510811623, 0.4107612680779422, 0.011064849741013778, 0.0005106853726621743, 0.007401792852404213, 0.3205681237743634, 0.09886680452854199, 0.00140986530521985, 0.5089613751843659, 0.06256277291913084, 0.44780822264352327, 0.5521121281866355, 0.09259854278855033, 0.0019523789142164225, 0.12104749268141819, 0.7840195896946234, 0.999024048095363, 0.9983488547819264, 0.9994448350830626, 0.9614491428689544, 0.038313386896281644, 0.9977869580752335, 0.9999833017975914, 0.03529196449221791, 0.9636666971069501, 0.9999402471039918, 0.9995105661585172, 0.9988889874666383, 0.04663648887412599, 0.9527168441428595, 0.7524005430667808, 0.012131416213371004, 0.025021045940077695, 0.04296543242235564, 0.1296545107804026, 0.0027801162155641885, 0.011120464862256754, 0.023757356751184882, 0.9995026143997504, 0.41276261685574783, 0.17852420933425422, 0.11763654988677118, 0.2906689311139975, 0.0003183668467842251, 0.9979144765749332, 0.9993875614805154, 0.0006327354238447143, 0.3226950661608043, 0.0063273542384471426, 0.13413990985507943, 0.45904954999934017, 0.0006327354238447143, 0.07624461857328807, 0.1315693736232075, 0.8532273879465007, 0.015130477966668863, 0.9969561259703887, 0.8645151150030879, 0.02388493203489675, 0.11154263260296782, 0.996577879656533, 0.9963574445290371, 0.9994966653650064, 0.002656399257495475, 0.981539525644578, 0.014610195916225113, 0.9994823162086861, 0.06683144761747717, 0.587141516193029, 0.00014341512364265485, 0.2846790204306699, 0.06109484267177097, 0.05416985265129868, 0.9426375116669172, 0.0024622660296044854, 0.9964086771018511, 0.04284322863615257, 0.9568321062074074, 0.9984828801167833, 0.7992426145538796, 0.03797879372220125, 0.022365289636407402, 0.1287059120585709, 0.0012659597907400417, 0.010971651519747027, 0.9971813184221564, 0.9503545420175163, 0.04923343781252439, 0.022774462110737463, 0.9539394015929351, 0.02329206352234513, 0.9994655155157365, 0.027291383737924925, 0.8740823736063178, 0.0037904699636006844, 0.0022742819781604107, 0.0924874671118567, 0.9989610732436777, 0.10095630600186932, 0.8987229198627947, 0.9994990074383704, 0.9987465038802862, 0.9997129167348556, 0.9997552190162797, 0.9986328868374611, 0.019195259602028877, 0.9422303020397482, 0.00015114377639392816, 0.013300652322665679, 0.017683821838089597, 0.00030228755278785633, 0.007103757490514624, 0.528778180627441, 0.4710549848139275, 0.07853016441984997, 0.3063658039429397, 0.42867653502685604, 0.16245927764356463, 0.023951700148054242, 0.9983204155399192, 0.17690684070821563, 0.06575813486851437, 0.36161154873712237, 0.17318248616699006, 0.16678125179925857, 0.006168462208904888, 0.03072592496511114, 0.018621772706127963, 0.5810616424921295, 0.0022536327439901596, 0.2432045336222714, 0.02854601475720869, 0.10404271168087904, 0.00018780272866584664, 0.014836415564601885, 0.026104579284552683, 0.015644414513286995, 0.0009202596772521762, 0.9837575949825763, 0.9989634618335006, 0.9974455066819439, 0.11368339465611649, 0.023191412509847763, 0.06946055413488718, 0.18928285210243395, 0.12095913191410794, 0.000682100367936699, 0.13892110826977436, 0.34377858544009626, 0.9997089087497697, 0.998726708641359, 0.9977532326006416, 0.9992100236947756, 0.0006550683646876149, 0.0004367122431250766, 0.6004793342969804, 0.29161460034676995, 0.00016376709117190373, 0.014466093053518163, 0.09214628329939117, 0.9988563534607787, 0.996801429710451, 0.9988975254839139, 0.02083423435940881, 0.8343309544237096, 0.14487806046850432, 0.9978742873112963, 0.9994554733874234, 0.9934926382239516, 0.34420007019150456, 0.08270415906521789, 0.25614253755403343, 0.1535544195061608, 0.07620363401319613, 0.006063514964490875, 0.047251715714275735, 0.03386828178364273, 0.0003020579387553011, 0.9995097193412912, 0.8089126883922287, 0.19097696755462393, 0.2376649109171761, 0.17664417350678357, 0.24349051529777993, 0.2618559799552767, 0.08017611452627628, 0.9449411678422694, 0.02429848717308693, 0.02969815098932847, 0.5699300599117296, 0.059101577911451306, 0.3709239655380147, 0.008024887117036746, 0.9918166040574675, 0.9886337004377456, 0.006849656123125257, 0.0022832187077084193, 0.06672900748915302, 0.5151409504856341, 0.4180170547684376, 0.014767571766382328, 0.9658848026330934, 0.01712182233783458, 0.0019262050130063905, 0.999465977050939, 0.9934193199030111, 0.005878220827828468, 0.7694830334385878, 0.0032866333515796592, 0.10024231722317961, 0.016843995926845753, 0.004929950027369489, 0.1051722672505491, 0.18080126162952673, 0.798279133602781, 0.017924263006375493, 0.0025977192762863034, 0.8993041732893655, 0.10050430807424807, 0.9059484151228483, 0.0441926056157487, 0.00872222479258198, 0.040703715698715906, 0.015148973574398402, 0.041043149335288694, 0.009335995342361805, 0.36938834401759824, 0.0008807542775813023, 0.0010569051330975628, 0.45570226322056584, 0.10709972015388637, 0.9598205431805236, 0.04010392241701352, 0.002552158461475549, 0.04431475146743908, 0.7463903427788038, 0.10162230964784459, 0.0658920911871869, 0.038978420138899295, 0.9991447962893434, 0.7146123977077127, 0.09635949978140199, 0.03621565092455377, 0.13871887720208542, 0.013580869096707663, 0.9987478375532889, 0.10996855513586037, 0.07856236078759675, 0.1482184873570292, 0.07593736543908516, 0.38503056772632444, 0.01040623156017093, 0.05878114583988445, 0.133218513936963, 0.7207973736938064, 0.2790749571850208, 0.9957738323267181, 0.0016906177119299119, 0.0016906177119299119, 0.014858842203210319, 0.00013569718907041386, 0.16595766223311617, 0.26684852230696887, 0.40308850013366443, 0.14824917905942717, 0.0008141831344224832, 0.9998521992907748, 0.9996899313675185, 0.9964814513555695, 0.9608116310275069, 0.03896105973576089, 0.021143583293733847, 0.04933502768537898, 0.9287514735691978, 0.9996928950634901, 0.9976018455765231, 0.0046574195949605005, 0.8914301104754399, 0.0032601937164723504, 0.0023287097974802502, 0.015835226622865704, 0.06008071277499046, 0.022821356015306455, 0.9990365118892646, 0.15336181998727352, 0.0009437650460755294, 0.7630340397520655, 0.07408555611692906, 0.0009437650460755294, 0.00707823784556647, 0.9977183028771469, 0.9972031035579884, 0.03418649859915137, 0.09219995076740824, 0.06043067934193423, 0.3926267566387384, 0.004489136179686543, 0.41610839204017575, 0.08935875540631286, 0.6913720001621761, 0.025152834855110287, 0.010590667307414857, 0.04004596075616243, 0.1300666328691887, 0.011583542367485001, 0.0016547917667835716, 0.8937064142222405, 0.0387906613832632, 0.06693290591621887, 0.9984859313495068, 0.9988753436309049, 0.0009904564636895438, 0.999204486742481, 0.9991856686105313, 0.7019023569088975, 0.004638802476266762, 0.08030282508915129, 0.019586054899792996, 0.11184668192776527, 0.003298703983123031, 0.009277604952533524, 0.06916969914611105, 0.9972157934409783, 0.2841436710215011, 0.7156319467067291, 0.9988701833824775, 0.9984754032095511, 0.692408627006874, 0.30750801697922464, 0.9987121703837856, 0.9990395857401096, 0.9987953430802163, 0.9984973218520089, 0.20757662916351438, 0.013326622388725277, 0.20410011897515126, 0.10458501483325706, 0.062432328799354286, 0.2517572794739623, 0.10864094338634737, 0.047657160498811045, 0.010733315964488219, 0.000715554397632548, 0.04579548144848307, 0.001431108795265096, 0.9416695872844331, 0.9986415319275335, 0.0007252298706808522, 0.0007252298706808522, 0.9133187362425742, 0.0202061667310304, 0.05523018906481643, 0.010776622256549547, 0.9988548111632013, 0.9991051750733162, 0.4547971635197489, 0.0008796850358215646, 0.5019482814397848, 0.007565291308065456, 0.034659590411369644, 0.9958647329165453, 0.9977797090504519, 0.16061997631213687, 0.8389592251094405, 0.015322651754410905, 0.8879841516722891, 0.08318010952394492, 0.0124040514202374, 0.998876745252802, 0.9998121573070576, 0.00010462604640993972, 0.5211946501911147, 0.2037592253833576, 0.1031089687369956, 0.0748076231831069, 0.047343286000497725, 0.005859058598956624, 0.04383831344576474, 0.015147088416946883, 0.8826334646291756, 0.057117145905570536, 0.04512570090882092, 0.5461390629912436, 0.0025631075158433813, 0.141562399721196, 0.13732341421422425, 0.07935775193284315, 0.027504115266165516, 0.027405534207863846, 0.037953707446142376, 0.0053573519619725014, 0.09472772332760468, 0.552537800077982, 0.028734887796034326, 0.15000585493523003, 0.13466434704412697, 0.0236210518323333, 0.010714703923945003, 0.9986083194549836, 0.9993581372124847, 0.8770599317267113, 0.06998981998816649, 0.045930819367234255, 0.006561545623890609, 0.00017073093421031264, 0.4098396075718555, 0.0011524338059196104, 0.005378024427624848, 0.00038414460197320344, 0.0020060884769711736, 0.5810827345847991, 0.5228777346985897, 0.21297794360002348, 0.024261726986731975, 0.07115939513118812, 0.08616664893741408, 0.004502176141867789, 0.0022510880709338947, 0.07591169216982634, 0.9976379880116563, 0.997791255934359, 0.997991887559418, 0.9988636699410031, 0.9985055813158085, 0.3109491950895635, 0.0004107651190086704, 0.6884423394585315, 0.0004574417294867512, 0.04848882332559563, 0.9066495078427409, 0.001143604323716878, 0.04322824343649799, 0.9837505039604897, 0.013522343697051404, 0.9989211847530208, 0.9964548067693059, 0.06833950964749415, 0.006699951926224916, 0.9216453869714994, 0.0010719923081959867, 0.00241198269344097, 0.7855669545997219, 0.21365040659189408, 0.9960661840548535, 0.0008233273032813766, 0.9756428543884312, 0.009056600336095143, 0.013173236852502025, 0.40485291784313254, 0.00011275669623816531, 0.19523821953638323, 0.39667805736586553, 0.0003382700887144959, 0.002818917405954133, 0.9993259132937922, 0.9957844605953606, 0.12961994125686643, 0.150240302656678, 0.19650505418718747, 0.20773266622055944, 0.15255572459352126, 0.05736130194481484, 0.029882049147184578, 0.0761031134713385, 0.9999226997285091, 0.999724665219049, 0.9983490605327237, 0.9978241977212986, 0.7584013915066328, 0.011159799752396803, 0.012554774721446404, 0.18041676266374831, 0.0013949749690496003, 0.03580435753893974, 0.9996608511595616, 0.023898886616016572, 0.02902007660516298, 0.9474201479920855, 0.9993987880256079, 0.9972274297522714, 0.9986559984044113, 0.9981645954481373, 0.00037168883225386533, 0.06876243396696509, 0.07842634360556558, 0.7786881035718478, 0.007805465477331172, 0.06616061214118803, 0.9998285722639132, 0.9960506755929424, 0.07525051956866095, 0.9236632401957207, 0.999581917497331, 0.01882565501990459, 0.9807617945321168, 0.00018277334970781154, 0.00018277334970781154, 0.1661980175504606, 0.6106280507600113, 0.11445712529418513, 0.10462207965869474, 0.003991033011503341, 0.9985271406290404, 0.038711672653397255, 0.9604877271550452, 0.008917465832513691, 0.3033530787667604, 0.42190760220080403, 0.06178529898241629, 0.2039870309187507, 0.9992859690598438, 0.06732197597177558, 0.05198948406197329, 0.0029960041662832064, 0.8547423650866796, 0.022910620095106873, 0.027866102125089335, 0.3955919856705266, 0.06546534039913332, 0.2119957051621629, 0.050265648330902774, 0.16066341177384044, 0.08359830637526801, 0.004399910861856211, 0.9982878423186939, 0.2127987956655439, 0.037123145478355137, 0.7371885828871179, 0.011765805670735508, 0.0010142935923047852, 0.10160361963141355, 0.04354440841346295, 0.8436003389968223, 0.000580592112179506, 0.010450658019231108, 0.9998756441419416, 0.0032206019095536685, 0.9911402376651415, 0.0028755374192443468, 0.002760515922474573, 0.9985189936459189, 0.0376861385499416, 0.01768941197242157, 0.0023073146050984657, 0.94215346374854, 0.02321848418304312, 0.000515966315178736, 0.8611477800333103, 0.09235797041699374, 0.022186551552685646, 0.001031932630357472, 0.006650900887166153, 0.2828383114121185, 0.052157064851987206, 0.012251659528990282, 0.6335858213563547, 0.01260170694410429, 0.6746772051999804, 0.03890543658677805, 0.0034793479874354358, 0.013601087587247613, 0.2691750124825051, 0.9986486154744894, 0.996386965821311, 0.9949757904054705, 0.37081466755055953, 0.0006854245241230306, 0.15233560048634354, 0.002398985834430607, 0.013708490482460612, 0.4600912118175843, 0.9988151835688732, 0.08352997682843191, 0.0481359188502828, 0.0846625866837327, 0.0006229354204154245, 0.7333082508144847, 0.04972157264770388, 0.995731265608094, 0.452739808626228, 0.0022124113260277686, 0.5450576994122958, 0.0002011283023661608, 0.9989654969200995, 0.9963661458718411, 0.06307755277684257, 0.03520607596847027, 0.019803417732264527, 0.7914032493745713, 0.09094902958521486, 0.9996785930795928, 0.36326318451219974, 0.6366261142556893, 0.1277234130463491, 0.8302881359540594, 0.04194416256165434, 0.9980398616016436, 0.9938795445827701, 0.020111098844092963, 0.3963562397189988, 0.0725675483291021, 0.4761302651339009, 0.01240184428719066, 0.02245739370923714, 0.9941748066795423, 0.9971757236884295, 0.5963762301658858, 0.024026325985941153, 0.047220056516923944, 0.07255474678922823, 0.15272179488093288, 0.0005947110392559691, 0.03639631560246531, 0.07017590263220436, 0.9976992976084464, 0.9992170342203197, 0.9999221243482264, 0.999075184905075, 0.9996767520686034, 0.9998223592338048, 0.5574188215626096, 0.004563375915961504, 0.07747925345487328, 0.12404531522097507, 0.1207086532609172, 0.010059054438409768, 0.03537843048826069, 0.07031524395239608, 0.26242068585464323, 0.3762482305650147, 0.0783038200053269, 0.009639059447405385, 0.004223857510660787, 0.0175452542750525, 0.04256348722281255, 0.20902679475834152, 0.9988215383388461, 0.7668259952473726, 0.0002794215942842363, 0.06296299924538125, 0.0064266966685374355, 0.01732413884562265, 0.1031065682908832, 0.026731332519858608, 0.016299592999913785, 0.591158607038299, 0.02346361875494478, 0.0024917117261888263, 0.3828930352576829, 0.023733599718109316, 0.027689199671127537, 0.8952841226997903, 0.052741332706909595, 0.9972845266885509, 0.6052178718080181, 0.02890823551164735, 0.0242705506702066, 0.1100677202368605, 0.119343089919742, 0.005256042820299518, 0.04498554296197529, 0.06183579788587669, 0.7432226408735447, 0.12788699138247764, 0.004177213286362336, 0.12435242629401722, 0.4010330359731845, 0.05692977627444325, 0.10691689690566171, 0.11840383624263363, 0.12900716486137695, 0.09909063054420832, 0.08873976213067318, 0.998690420222811, 0.9996634509269091, 0.944873368695367, 0.036167401672549934, 0.015823238231740595, 0.993285653662532, 0.6743665396621646, 0.028960526243160447, 0.11325634370093103, 0.015514567630264525, 0.10058611346954834, 0.0023271851445396787, 0.003620065780395056, 0.06128254213954487, 0.025872012427842764, 0.9736711018575948, 0.20701822356697613, 0.00028013291416370247, 0.5200200663258864, 0.09898029633784154, 0.029133823073025058, 0.071247137835635, 0.07330144587283548, 0.9986440617771714, 0.0317369528996662, 0.967977063439819, 0.9990992415796482, 0.9989805242342683, 0.0013610645712364311, 0.9908550078601218, 0.0068053228561821555, 0.9992576831819975, 0.0002376160770148881, 0.3835123483020294, 0.5809713083014014, 0.03516717939820344, 0.9552664191351895, 0.044401493585300975, 0.00025372282048743413, 0.9968953195387308, 0.006329635124190412, 0.9916428361231646, 0.9971815355075908, 0.998464031026352, 0.9991438890275811, 0.9995986126088586, 0.31383157516407895, 0.004165905865009897, 0.27471834787593047, 0.39622393560538577, 0.010877643091970287, 0.03583595216635901, 0.05615286389042701, 0.265245279009844, 0.2347995279131357, 0.19754198425587982, 0.07735827029630557, 0.0762920766781329, 0.056804426657088083, 0.9992782752432167, 0.9985692354370168, 0.4537421462798705, 0.0429036938673774, 0.05510379638890652, 0.1065475620213543, 0.23231028551411698, 0.0014233452941783973, 0.03141526399293748, 0.07645397580158247, 0.9429265168641284, 0.026711799344592873, 0.02938297927905216, 0.06283591584053373, 0.04544383199181458, 0.3975867770148057, 0.10971350384855097, 0.16033132494231425, 0.04631655304515532, 0.08409290721119049, 0.09363050157984293, 0.9994036598268556, 0.8931522977756545, 0.10677842461113048, 0.9940881618983214, 0.9975864014425914, 0.9990351602341248, 0.9996711177118468, 0.9972496665284184, 0.6102995085658864, 0.008367284812458992, 0.3095895380609827, 0.025443376266456933, 0.04627620784033442, 0.9966440232950093, 0.8332791510682851, 0.000957425298048585, 0.018669793311947406, 0.0001595708830080975, 0.049466973732510224, 0.09701909686892328, 0.0004787126490242925, 0.0001595708830080975, 0.999358357496703, 0.052683010537824336, 0.9464126535902014, 0.0009407680453182917, 0.13763742053026135, 0.0007869992279366913, 0.69693153851727, 0.06287249387627566, 0.05220428211980052, 0.048968840849394124, 0.0005246661519577941, 0.9974860199317097, 0.9974236538260807, 0.9986270081882123, 0.6038743231675375, 0.011543112981280291, 0.053921674625840806, 0.04568812550632619, 0.17080578369502866, 0.002179468884577398, 0.025750021265932958, 0.08621010254550596, 0.29747972731201583, 0.2011267399681675, 0.4488915645666347, 0.02785330054309566, 0.002105191320117695, 0.022671291139729023, 0.16401365517667327, 0.8356064116369459, 0.00031390173239554694, 0.12812550690031665, 0.0011045302318992815, 0.05007203717943409, 0.20396991615740062, 0.023563311613851338, 0.00773171162329497, 0.026140548821616327, 0.5592604740850028, 0.4113609737000072, 0.0008952360689880462, 0.5774272644972898, 0.01029521479336253, 0.9883291930532088, 0.005550183996287574, 0.006144846567318386, 0.02394816241264317, 0.0034211660589490247, 0.8984837362314876, 0.03870194104186084, 0.012187904085005901, 0.023092870897905918, 0.9552545355452189, 0.011310871787941237, 0.03393261536382371, 0.14291075468531309, 0.8564856873263628, 0.0015234868406318123, 0.15996611826634027, 0.002132881576884537, 0.8123231834248823, 0.024071092081982635, 0.21509413492866836, 0.7180026214828665, 0.06658718637302971, 0.6592393398604751, 0.00021529697578722242, 0.12810170059339734, 0.00021529697578722242, 0.21206752115041408, 0.01037518622043511, 0.9873718886447412, 0.34049750876056667, 0.001315678163680706, 0.001578813796416847, 0.1884051130390771, 0.09367628525406627, 0.0002631356327361412, 0.3741788697507928, 0.9980640393668723, 0.9998013652825484, 0.998560297526277, 0.8515772128585481, 0.1437001600161831, 0.004473156732021265, 0.0005591445915026581, 0.9992756704728296, 0.6813227155825405, 0.04198784196276955, 0.1301623100845856, 0.008677487338972374, 0.05990265453355122, 0.012876271535249327, 0.016515217838689356, 0.048705896676812674, 0.9958411613179136, 0.9963873128148274, 0.24166085353618486, 0.06892288157894756, 0.0116307362664474, 0.026276848601973754, 0.6513212309210544, 0.12370156324949157, 0.032911425084727115, 0.003972068544708445, 0.6630517277845455, 0.14271074842773912, 0.013618520724714669, 0.006809260362357334, 0.01333480154294978, 0.9993811899230506, 0.05400340679248454, 0.9460239654183452, 0.998148595493168, 0.9627044967358775, 0.036764026074283064, 0.01946284410753008, 0.903788690458122, 0.007401363252159325, 0.04084456016932368, 0.02823483018416335, 0.9973316270284865, 0.016532386821685088, 0.7199854460843856, 0.005648565497409072, 0.06929825476089667, 0.18846920976721002, 0.9169866933150551, 0.08221770836669719, 0.005205610377026156, 0.02454073463455188, 0.6368196694561998, 0.20921595991476552, 0.0349519553886042, 0.03842236230662163, 0.05081667272811248, 0.9992385593828729, 0.9147490126235133, 0.00019610869602819449, 0.001176652176169167, 0.08383646755205315, 0.9995177615606975, 0.007547063592605952, 0.04863663204123835, 0.043605256312834385, 0.029349691749023146, 0.8704280010138864, 0.9996581949553764, 0.998950036363757, 0.5833747668486716, 0.3817409298443952, 0.013992383706702456, 0.02080918602535237, 0.9996104343382373, 0.9974310531781924, 0.9956334442716985, 0.009399685980229375, 0.9901981699797882, 0.00029374018688216796, 0.6817120546519903, 0.019663466863842967, 0.05465087686985321, 0.041089865239616684, 0.1609692080509076, 0.0005424404652094612, 0.0048819641868851505, 0.0363435111690339, 0.9979174327897051, 0.2148544035459136, 0.05142791574237293, 0.0066284869179058445, 0.3074246518821849, 0.37096669888831674, 0.04868509356944638, 0.9968192830112522, 0.8084705549545653, 0.001305037215423027, 0.03132089317015265, 0.1592145402816093, 0.9984411715385842, 0.02059425792869134, 0.9789137268771284, 0.00019613578979706039, 0.00019613578979706039, 0.998694554778153, 0.09295174971619573, 0.8846170756888797, 0.022056347390283733, 0.9988135729405843, 0.998693032949518, 0.9977493228654405, 0.0012645745536951085, 0.999527848586635, 0.934411305232781, 0.0004201489681802073, 0.0021007448409010366, 0.0630223452270311, 0.9992391019359326, 0.10793643976490529, 0.013200859539592734, 0.8786336805323046, 0.05689464015949695, 0.8330424440374571, 0.08191214150622611, 0.0014122783018314846, 0.026631533691679424, 0.0013926731208766315, 0.009400543565917262, 0.0038298510824107367, 0.8982741629654273, 0.07485618024711894, 0.006963365604383157, 0.0006963365604383157, 0.00487435592306821, 0.17696909091038673, 0.0009487263629934957, 0.5760666476096507, 0.16185271752669037, 0.02251643901504563, 0.0586945376571976, 0.00297267593737962, 0.9995512267738558, 0.9993339292522189, 0.008762596125598255, 0.6967677241806355, 0.1916464571985683, 0.10288983837799241, 0.01880307286654094, 0.6225999618354203, 0.027113359535235373, 0.007638748352032257, 0.22370620173808753, 0.020817687816527472, 0.015697208151978375, 0.06354431321415845, 0.9991448002152263, 0.9979166760972119, 0.9987271893799875, 0.013559009328873198, 0.00516533688718979, 0.028409352879543843, 0.9407369805794404, 0.012267675107075751, 0.2478569483020077, 0.474619688237887, 0.030790739631203424, 0.24666614621682303, 0.053948536243668, 0.9457852760218046, 0.9986968150272955, 0.5942931646958836, 0.05070358349587895, 0.03213192209913259, 0.09786970767809193, 0.13014902391529395, 0.0005895765522776623, 0.028152280371258373, 0.06588517971702876, 0.0393275193212285, 0.3513627665178302, 0.5858507925176434, 0.008308630842513064, 0.015140171757468249, 0.12494069065431856, 0.684771093009246, 0.0008737111234567732, 0.017037366907407078, 0.17212109132098433, 0.2431040868849689, 0.09221189502533303, 0.6143903286729214, 0.0003048327108275472, 0.04999256457571775, 0.05513835458146589, 0.11102182206268132, 0.8263302058222388, 0.0037255644987476953, 0.0029804515989981565, 0.15861384478453, 0.13719305754878422, 0.1506956549503049, 0.12952491581458728, 0.20770662175672555, 0.017670065735323363, 0.1365262626153758, 0.06209527817365993, 0.9988009007229061, 0.9985900227706328, 0.010333800841491679, 0.9886002805027039, 0.21193129309748557, 0.7873196347437991, 0.05281705446101771, 0.9470644248182487, 0.41229444642439195, 0.0007007837616278617, 0.10768710470348142, 0.0007007837616278617, 0.04765329579069459, 0.04041186358720669, 0.39057014981392824, 0.9983430714204886, 0.9970058524516799, 0.0036376063882265688, 0.9948853471799665, 0.6221111741722243, 0.007905996171772017, 0.10044503332989038, 0.1102951269209506, 0.08748438386796904, 0.001296064946192134, 0.013219862451159766, 0.057026857632453895, 0.9050172402060338, 0.046862809720547474, 0.006979567405187921, 0.041212683725871536, 0.9994015804376545, 0.9987793596044047, 0.9997683733185668, 0.9964951558170667, 0.9987353035003006, 0.9964713157496715, 0.01814043967911604, 0.958333513333873, 0.02150937847666616, 0.0018140439679116037, 0.9999061298194685, 0.12611701934909095, 0.01623972577919801, 0.08223520713721547, 0.009674730251437114, 0.7128203038826701, 0.052865490302495655, 0.9678484368610322, 0.0313219558854703, 0.13508734598292757, 0.8431654199827052, 0.007380686082945638, 0.014345558865443635, 0.9989042903827628, 0.9746428878101376, 0.025180083515807566, 0.06611843327294599, 0.004442740575652498, 0.35881663590416935, 0.5705001574499649, 0.998768284810545, 0.9963517762965287, 0.9984692634951072, 0.9983141704852274, 0.16249150052183642, 0.2891358195061995, 0.011084325870139784, 0.036083018258114614, 0.04740318084889567, 0.09339134137394371, 0.3603585091398636, 0.9977826810977112, 0.9967060744488832, 0.005515078521651933, 0.009996079820494129, 0.9837521312996635, 0.0006893848152064916, 0.04487840779219926, 0.9537446243391158, 0.001255340078103476, 0.061440858084508734, 0.25961426161720164, 0.0035514946869658224, 0.002841195749572658, 0.6708773463678439, 0.0010654484060897468, 0.0003551494686965823, 0.9993913667705676, 0.03726084855064111, 0.36029345929052126, 0.3285059557247201, 0.11925576668891633, 0.05378614013948477, 0.059469998392972394, 0.0007367964402669147, 0.040734317483327995, 0.12934629680951226, 0.0001306528250601134, 0.04115563989393572, 0.4759682416939931, 0.003266320626502835, 0.3338179680285897, 0.01620095030745406, 0.9991204691657883, 0.9992276007931042, 0.6509885967642277, 0.042271986802871926, 0.05574618259628735, 0.06552157954445148, 0.11492696412030805, 0.00607659810291284, 0.06420057995686174, 0.01318007504632566, 0.013518025688539138, 0.8972589550767853, 0.07603889449803265, 0.3830795438290425, 0.010419950917110265, 0.018381261730183274, 0.012059044319801766, 0.29866623359043015, 0.21038934604547355, 0.0038635773063442555, 0.06298801790343059, 0.05022823453050574, 0.9487555411317751, 0.9990862472242166, 0.998524384311421, 0.020639180824018447, 0.7546930648480707, 0.008567207134498222, 0.041667780154150444, 0.15148379887817312, 0.02297569186069978, 0.9984242874180204, 0.9988552334221961, 0.9986566734908384, 0.023529297952817073, 0.08235254283485975, 0.8941133222070488, 0.12370080363602533, 0.21978250636561547, 0.15079326914382085, 0.14587800542318408, 0.1411968018797205, 0.032007729228432286, 0.08162848678914632, 0.10497598946217097, 0.09494077610972677, 0.009494077610972677, 0.8956079879684226, 0.6811345612608394, 0.00016669959893804193, 0.06434604519008419, 0.023004544653449786, 0.11385582607468264, 0.0341734177822986, 0.0310061254024758, 0.052343674066545165, 0.24621684895768944, 0.753068650640861, 0.161794994399146, 0.025289711190360113, 0.4299250902361219, 0.34769655560547735, 0.011757497307799, 0.01708164703208534, 0.00643334758351266, 0.997721211213216, 0.9928827174644922, 0.9980312094367335, 0.9958613122497303, 0.9993897036120487, 0.9983263764108697, 0.007766333973074044, 0.9925374817588629, 0.9973341378507523, 0.007693089404718547, 0.22097171694404338, 0.03830176427030085, 0.10164698979425996, 0.4576569782041076, 0.01571354431602086, 0.032245502398501144, 0.1258720372814588, 0.04704947021945549, 0.8978070139137192, 0.017616696611850915, 0.001289026581354945, 0.03609274427793846, 0.4199013243380886, 0.08582153447120822, 0.09596730575629875, 0.13233342423084138, 0.1671129611875509, 0.001148183993168682, 0.0344246437224574, 0.06327537605989592, 0.0006005252682173503, 0.2652820372350145, 0.002552232389923739, 0.24764160748112982, 0.44431363282231207, 0.0006005252682173503, 0.007806828486825554, 0.031152248288775046, 0.9997261705629968, 0.9967191560855252, 0.9979990781310941, 0.9978670154597096, 0.9980807031737783, 0.3446417753112626, 0.3124215091719793, 0.19018907096104734, 0.04590109342858218, 0.10688945433508275, 0.10421655065720432, 0.01369828478669878, 0.3419091882760016, 0.4740702398980714, 0.005369727636385922, 0.060820384452942584, 0.9986440145319191, 0.5932743017499658, 0.0527786421372329, 0.313318026065513, 0.01871082296503909, 0.0021182063734006516, 0.0017651719778338762, 0.018004754173905537, 0.829924123640199, 0.16916461064237007, 0.022311951796229006, 0.7481779488192009, 0.025464727593522234, 0.0006063030379410056, 0.012126060758820112, 0.10428412252585295, 0.03783330956751875, 0.049231806680809655, 0.9994336256122588, 0.187340952287878, 0.04680460678480667, 0.7635767263950658, 0.0023279778243752007, 0.9965122094279958, 0.9993151192853157, 0.09522353236969072, 0.8872815234712241, 0.001891858259000478, 0.001891858259000478, 0.00630619419666826, 0.006936813616335085, 0.8327982613995017, 0.16698732645708964, 0.01829912928503253, 0.062432323443052155, 0.9192621417304576, 0.4101362123227004, 0.007810211074504549, 0.06802226568307808, 0.1474594552442782, 0.1509306601662802, 0.008744766245812786, 0.07089268513781052, 0.13604453136615616, 0.6300459044506477, 0.001612573499713719, 0.06006836286433603, 0.08963221035908756, 0.1283339743522168, 0.0008734773123449312, 0.018007070746803196, 0.07149075848730821, 0.9975424074493805, 0.9988067586528422, 0.9987523003252585, 0.04949090071718516, 0.949554230709383, 0.9997074481477364, 0.5941994454793598, 0.2535077034134407, 0.04652714282202085, 0.053049639479313494, 0.052614806368827316, 0.8231668403510657, 0.06941526166503875, 0.007712806851670973, 0.010517463888642236, 0.07502457573898128, 0.01472444944409913, 0.28223627706367954, 0.09328201446076148, 0.09749637384637917, 0.21914668805211937, 0.10806372275359961, 0.004654665590085199, 0.0676813537152929, 0.12743719575017046, 0.6780691018434568, 0.0017660049079831852, 0.04192342085907909, 0.057203202454237954, 0.14235535214786196, 0.0008446110429484798, 0.011594206135020041, 0.06626357546041256, 0.13973910625477762, 0.022120862380099932, 0.04693939090411449, 0.01780459654983653, 0.7736906500747147, 0.9977353804212423, 0.5283174186342164, 0.02797307661364447, 0.13227754447261839, 0.0033975396696734176, 0.00011325132232244726, 0.3035135438241586, 0.0020385238018040507, 0.0023782777687713923, 0.9994369419419507, 0.9627727649311634, 0.036550475976679195, 0.9989501078927725, 0.9986112273975474], \"Term\": [\"#\", \"#\", \"#\", \"#\", \"#\", \"#includ\", \"#includ\", \"+\", \"+\", \"+\", \"+\", \"+\", \"+\", \"+\", \"+\", \"+id\", \"0\", \"0\", \"0\", \"0\", \"0\", \"0\", \"00\", \"01\", \"02\", \"03\", \"05\", \"06\", \"07\", \"08\", \"09\", \"09\", \"1\", \"1\", \"1\", \"1\", \"1\", \"1\", \"1\", \"1\", \"10\", \"10\", \"10\", \"10\", \"10\", \"10\", \"10\", \"10\", \"11\", \"11\", \"11\", \"12\", \"12\", \"15\", \"15\", \"15\", \"16\", \"16\", \"16\", \"16\", \"18\", \"18\", \"2\", \"2\", \"2\", \"2\", \"2\", \"2\", \"2\", \"2\", \"20\", \"20\", \"20\", \"20\", \"20\", \"20\", \"20\", \"2017\", \"2020\", \"2020\", \"23\", \"23\", \"23\", \"24\", \"24\", \"26\", \"27\", \"27\", \"28\", \"28\", \"3\", \"3\", \"3\", \"3\", \"3\", \"3\", \"3\", \"3\", \"31\", \"35\", \"4\", \"4\", \"4\", \"4\", \"4\", \"4\", \"4\", \"5\", \"5\", \"5\", \"5\", \"5\", \"5\", \"5\", \"53\", \"54\", \"55\", \"6\", \"6\", \"6\", \"6\", \"6\", \"6\", \"7\", \"7\", \"7\", \"7\", \"7\", \"7\", \"8\", \"8\", \"8\", \"8\", \"8\", \"8\", \"9\", \"9\", \"activ\", \"activ\", \"activ\", \"activ\", \"activitythread\", \"agent\", \"ajax\", \"alert\", \"alert\", \"alter\", \"android\", \"androidruntim\", \"androidruntim\", \"angular\", \"angular2\", \"angularj\", \"anim\", \"anim\", \"answer\", \"answer\", \"answer\", \"answer\", \"answer\", \"answer\", \"answer\", \"answer\", \"apk\", \"app\", \"app\", \"app\", \"app\", \"app\", \"appcompat\", \"appdata\", \"applic\", \"applic\", \"applic\", \"applic\", \"applic\", \"applic\", \"applic\", \"arg\", \"arg\", \"arg\", \"arr\", \"array\", \"array\", \"array\", \"arrays\", \"art\", \"artifactid\", \"assert\", \"assert\", \"assert\", \"await\", \"b\", \"b\", \"b\", \"b\", \"b\", \"background\", \"background\", \"background\", \"base64\", \"bash\", \"bash\", \"bean\", \"better\", \"better\", \"better\", \"better\", \"better\", \"better\", \"bigdecim\", \"bin\", \"bin\", \"bodi\", \"bodi\", \"bodi\", \"bool\", \"boolean\", \"boolean\", \"boolean\", \"boolean\", \"boolean\", \"boolvalu\", \"bootstrap\", \"bootstrap\", \"border\", \"br\", \"branch\", \"browser\", \"btn\", \"build\", \"build\", \"build\", \"build\", \"build\", \"build\", \"build\", \"button\", \"button\", \"c\", \"c\", \"c\", \"c\", \"c\", \"c++11\", \"call\", \"call\", \"call\", \"call\", \"call\", \"call\", \"call\", \"call\", \"case\", \"case\", \"case\", \"case\", \"case\", \"case\", \"case\", \"case\", \"cell\", \"cell\", \"cell\", \"center\", \"cert\", \"chang\", \"chang\", \"chang\", \"chang\", \"chang\", \"chang\", \"chang\", \"chang\", \"char\", \"checkbox\", \"checkout\", \"chrome\", \"class\", \"class\", \"class\", \"class\", \"class\", \"class\", \"class\", \"classnam\", \"classpath\", \"cli\", \"click\", \"click\", \"click\", \"clock\", \"clone\", \"cmake\", \"code\", \"code\", \"code\", \"code\", \"code\", \"code\", \"code\", \"code\", \"color\", \"color\", \"column\", \"column\", \"com\", \"com\", \"com\", \"com\", \"com\", \"comma\", \"comma\", \"comma\", \"command\", \"command\", \"command\", \"commit\", \"commit\", \"comparison\", \"comparison\", \"comparison\", \"compil\", \"compil\", \"compil\", \"compon\", \"compon\", \"compon\", \"compon\", \"compos\", \"comprehens\", \"comprehens\", \"configur\", \"configur\", \"configur\", \"configur\", \"configur\", \"configur\", \"connect\", \"connect\", \"connect\", \"connect\", \"const\", \"const\", \"constructor\", \"constructor\", \"constructor\", \"constructor\", \"content\", \"content\", \"content\", \"content\", \"content\", \"content\", \"content\", \"content\", \"contigu\", \"contigu\", \"control\", \"control\", \"control\", \"control\", \"control\", \"control\", \"cooki\", \"core\", \"core\", \"core\", \"core\", \"core\", \"cout\", \"creat\", \"creat\", \"creat\", \"creat\", \"creat\", \"creat\", \"creat\", \"creat\", \"css\", \"css\", \"curl\", \"curl\", \"curl\", \"data\", \"data\", \"data\", \"data\", \"data\", \"data\", \"data\", \"databas\", \"datafram\", \"datasourc\", \"date\", \"date\", \"datetim\", \"datetim\", \"datetim\", \"db\", \"dbo\", \"debug\", \"debug\", \"debug\", \"debug\", \"debug\", \"debug\", \"debug\", \"decim\", \"declar\", \"declar\", \"declar\", \"declar\", \"declar\", \"declar\", \"decod\", \"defer\", \"delet\", \"delet\", \"delet\", \"delet\", \"delet\", \"delet\", \"depend\", \"depend\", \"depend\", \"depend\", \"depend\", \"depend\", \"depend\", \"depend\", \"dev\", \"dev\", \"dev\", \"devkit\", \"df\", \"df\", \"dict\", \"diff\", \"differ\", \"differ\", \"differ\", \"differ\", \"differ\", \"differ\", \"differ\", \"differ\", \"digit\", \"directori\", \"directori\", \"dispatch\", \"dist\", \"div\", \"div\", \"dom\", \"donhuvi\", \"drawabl\", \"dropdown\", \"e\", \"e\", \"e\", \"e\", \"e\", \"e\", \"e\", \"e\", \"echo\", \"echo\", \"echo\", \"echo\", \"echo\", \"eclips\", \"eclips\", \"eclips\", \"effici\", \"effici\", \"effici\", \"effici\", \"egg\", \"el\", \"element\", \"element\", \"element\", \"element\", \"element\", \"encrypt\", \"endl\", \"entiti\", \"entiti\", \"environ\", \"environ\", \"environ\", \"environ\", \"er101\", \"err\", \"error\", \"error\", \"error\", \"error\", \"error\", \"error\", \"error\", \"error\", \"event\", \"event\", \"event\", \"event\", \"exampl\", \"exampl\", \"exampl\", \"exampl\", \"exampl\", \"exampl\", \"exampl\", \"exampl\", \"except\", \"except\", \"except\", \"except\", \"except\", \"except\", \"except\", \"except\", \"exclud\", \"exe\", \"faster\", \"faster\", \"faster\", \"faster\", \"file\", \"file\", \"file\", \"file\", \"file\", \"file\", \"file\", \"find\", \"find\", \"find\", \"find\", \"find\", \"find\", \"find\", \"find\", \"findviewbyid\", \"firefox\", \"firstnam\", \"flask\", \"flex\", \"folder\", \"folder\", \"folder\", \"foo\", \"foo\", \"foo\", \"foo\", \"foo\", \"footer\", \"footer\", \"foreign\", \"fork\", \"form\", \"form\", \"form\", \"form\", \"form\", \"fragment\", \"fragment\", \"fruit\", \"func\", \"func\", \"func\", \"func\", \"function\", \"function\", \"function\", \"function\", \"function\", \"function\", \"gem\", \"gender\", \"get\", \"get\", \"get\", \"get\", \"get\", \"get\", \"get\", \"get\", \"git\", \"github\", \"gitignor\", \"gms\", \"good\", \"good\", \"good\", \"good\", \"good\", \"good\", \"gradl\", \"grep\", \"grep\", \"grep\", \"groupid\", \"gulp\", \"gyp\", \"h1\", \"header\", \"header\", \"header\", \"header\", \"header\", \"header\", \"height\", \"heroku\", \"histori\", \"histori\", \"href\", \"html\", \"html\", \"html\", \"html\", \"http\", \"http\", \"http\", \"http\", \"http\", \"httpclient\", \"icon\", \"icon\", \"id\", \"id\", \"id\", \"id\", \"id\", \"ifram\", \"imag\", \"imag\", \"imag\", \"imag\", \"imag\", \"import\", \"import\", \"import\", \"import\", \"import\", \"import\", \"import\", \"import\", \"inflat\", \"input\", \"input\", \"input\", \"input\", \"input\", \"insert\", \"insert\", \"insert\", \"insert\", \"insert\", \"instal\", \"int\", \"int\", \"int\", \"int\", \"intellij\", \"intent\", \"intent\", \"intent\", \"intent\", \"interfac\", \"interfac\", \"interfac\", \"interfac\", \"interfac\", \"interfac\", \"intern\", \"intern\", \"intern\", \"intern\", \"intern\", \"intern\", \"io\", \"io\", \"io\", \"io\", \"io\", \"iostream\", \"ipython\", \"isnan\", \"item\", \"item\", \"item\", \"item\", \"item\", \"item\", \"j\", \"java\", \"java\", \"java\", \"java\", \"java\", \"java\", \"javac\", \"javascript\", \"javascript\", \"javascript\", \"javascript\", \"jdbc\", \"jenkin\", \"join\", \"join\", \"join\", \"join\", \"join\", \"jqueri\", \"js\", \"js\", \"json\", \"json\", \"json\", \"jsx\", \"kera\", \"key\", \"key\", \"key\", \"key\", \"key\", \"key\", \"keyof\", \"keystor\", \"know\", \"know\", \"know\", \"know\", \"know\", \"know\", \"know\", \"know\", \"lastnam\", \"launcher\", \"layout\", \"layoutinflat\", \"li\", \"lib\", \"like\", \"like\", \"like\", \"like\", \"like\", \"like\", \"like\", \"like\", \"line\", \"line\", \"line\", \"line\", \"line\", \"line\", \"line\", \"line\", \"linearlayout\", \"list\", \"list\", \"list\", \"list\", \"list\", \"list\", \"list\", \"list\", \"local\", \"local\", \"local\", \"local\", \"lock\", \"lock\", \"lock\", \"lock\", \"logger\", \"look\", \"look\", \"look\", \"look\", \"look\", \"look\", \"look\", \"look\", \"loop\", \"loop\", \"loop\", \"loop\", \"make\", \"make\", \"make\", \"make\", \"make\", \"make\", \"make\", \"margin\", \"master\", \"maximum\", \"maximum\", \"maximum\", \"md5\", \"mean\", \"mean\", \"mean\", \"mean\", \"mean\", \"mean\", \"mean\", \"mean\", \"merg\", \"merg\", \"method\", \"method\", \"method\", \"method\", \"method\", \"method\", \"method\", \"mib\", \"migrat\", \"migrat\", \"min\", \"mm\", \"mock\", \"mock\", \"mock\", \"modal\", \"model\", \"model\", \"model\", \"model\", \"modul\", \"modul\", \"modul\", \"mongodb\", \"mongoos\", \"mongoos\", \"mous\", \"movi\", \"myclass\", \"mysql\", \"n\", \"n\", \"n\", \"n\", \"n\", \"name\", \"name\", \"name\", \"name\", \"name\", \"name\", \"name\", \"name\", \"nan\", \"nav\", \"need\", \"need\", \"need\", \"need\", \"need\", \"need\", \"need\", \"need\", \"negat\", \"negat\", \"negat\", \"new\", \"new\", \"new\", \"new\", \"new\", \"new\", \"new\", \"new\", \"ng\", \"node\", \"node\", \"notat\", \"notebook\", \"np\", \"npm\", \"nslog\", \"null\", \"null\", \"null\", \"null\", \"null\", \"nullabl\", \"number\", \"number\", \"number\", \"number\", \"number\", \"number\", \"number\", \"number\", \"numpi\", \"obj\", \"obj\", \"obj\", \"object\", \"object\", \"object\", \"object\", \"object\", \"object\", \"object\", \"oid\", \"onchang\", \"oncreat\", \"one\", \"one\", \"one\", \"one\", \"one\", \"one\", \"one\", \"one\", \"option\", \"option\", \"option\", \"option\", \"option\", \"option\", \"org\", \"org\", \"org\", \"origin\", \"origin\", \"origin\", \"origin\", \"origin\", \"origin\", \"origin\", \"origin\", \"overrid\", \"overrid\", \"overrid\", \"overrid\", \"packag\", \"packag\", \"packag\", \"page\", \"page\", \"page\", \"page\", \"page\", \"page\", \"pair\", \"pair\", \"pair\", \"panda\", \"panda\", \"parent\", \"parent\", \"parent\", \"parent\", \"parent\", \"password\", \"password\", \"password\", \"path\", \"path\", \"path\", \"path\", \"path\", \"pd\", \"pd\", \"php\", \"php\", \"php\", \"php\", \"php\", \"php\", \"php\", \"pid\", \"pip\", \"plot\", \"plugin\", \"plugin\", \"plugin\", \"plugin\", \"pod\", \"point\", \"point\", \"point\", \"point\", \"point\", \"point\", \"point\", \"point\", \"polici\", \"pom\", \"posit\", \"posit\", \"posit\", \"posit\", \"posit\", \"post\", \"post\", \"post\", \"post\", \"post\", \"post\", \"post\", \"post\", \"postgr\", \"postgresql\", \"postgresql\", \"printf\", \"println\", \"println\", \"privat\", \"privat\", \"privat\", \"privat\", \"privat\", \"proj\", \"project\", \"project\", \"project\", \"project\", \"project\", \"promis\", \"promis\", \"properti\", \"properti\", \"properti\", \"properti\", \"properti\", \"properti\", \"properti\", \"ptr\", \"public\", \"public\", \"public\", \"public\", \"pull\", \"push\", \"push\", \"push\", \"push\", \"push\", \"py\", \"pycharmproject\", \"python\", \"python\", \"python\", \"python\", \"python2\", \"pythonproject\", \"qt\", \"queri\", \"queri\", \"queri\", \"question\", \"question\", \"question\", \"question\", \"question\", \"question\", \"question\", \"question\", \"queue\", \"r\", \"r\", \"r\", \"r\", \"r\", \"r\", \"radius\", \"random\", \"random\", \"random\", \"random\", \"rb\", \"react\", \"react\", \"react\", \"react\", \"rebas\", \"record\", \"record\", \"record\", \"recyclerview\", \"redux\", \"regex\", \"regex\", \"remot\", \"render\", \"render\", \"render\", \"render\", \"repo\", \"repositori\", \"repositori\", \"repositori\", \"request\", \"request\", \"request\", \"request\", \"request\", \"respons\", \"respons\", \"respons\", \"respons\", \"respons\", \"respons\", \"respons\", \"respons\", \"return\", \"return\", \"return\", \"return\", \"return\", \"return\", \"return\", \"rout\", \"router\", \"row\", \"row\", \"row\", \"row\", \"run\", \"run\", \"run\", \"run\", \"run\", \"run\", \"run\", \"run\", \"rxjs\", \"s3\", \"savedinstancest\", \"screen\", \"screen\", \"screen\", \"screen\", \"screen\", \"script\", \"script\", \"script\", \"script\", \"scroll\", \"scroll\", \"seed\", \"seem\", \"seem\", \"seem\", \"seem\", \"seem\", \"seem\", \"seem\", \"seem\", \"select\", \"select\", \"select\", \"select\", \"select\", \"self\", \"self\", \"self\", \"self\", \"self\", \"server\", \"server\", \"server\", \"server\", \"server\", \"session\", \"session\", \"session\", \"session\", \"session\", \"set\", \"set\", \"set\", \"set\", \"set\", \"set\", \"set\", \"set\", \"setstat\", \"sh\", \"shape\", \"shape\", \"shell\", \"shell\", \"simul\", \"simul\", \"size\", \"size\", \"size\", \"size\", \"size\", \"size\", \"size\", \"sizeof\", \"sleep\", \"snmp\", \"snmp\", \"someth\", \"someth\", \"someth\", \"someth\", \"someth\", \"someth\", \"someth\", \"someth\", \"sort\", \"sort\", \"sort\", \"sort\", \"spring\", \"springframework\", \"sql\", \"sqlite\", \"ssh\", \"stash\", \"static\", \"static\", \"static\", \"static\", \"std\", \"store\", \"store\", \"store\", \"store\", \"store\", \"store\", \"str\", \"str\", \"string\", \"string\", \"string\", \"string\", \"struct\", \"studio\", \"studio\", \"style\", \"style\", \"style\", \"style\", \"stylesheet\", \"submodul\", \"substr\", \"sun\", \"support\", \"support\", \"support\", \"support\", \"support\", \"support\", \"support\", \"svg\", \"svn\", \"swift\", \"swift\", \"swift\", \"swift\", \"tabl\", \"tabl\", \"tabl\", \"task\", \"task\", \"task\", \"task\", \"task\", \"task\", \"task\", \"td\", \"test\", \"test\", \"test\", \"test\", \"test\", \"test\", \"test\", \"test\", \"text\", \"text\", \"text\", \"text\", \"text\", \"text\", \"text\", \"textview\", \"th\", \"thing\", \"thing\", \"thing\", \"thing\", \"thing\", \"thing\", \"thing\", \"thread\", \"thread\", \"thread\", \"thread\", \"time\", \"time\", \"time\", \"time\", \"time\", \"time\", \"time\", \"time\", \"timeout\", \"timeout\", \"timer\", \"timezon\", \"tool\", \"tool\", \"tool\", \"tool\", \"tool\", \"tool\", \"toolbar\", \"tr\", \"train\", \"tree\", \"tree\", \"tree\", \"tri\", \"tri\", \"tri\", \"tri\", \"tri\", \"tri\", \"tri\", \"tri\", \"ts\", \"ts\", \"ts\", \"two\", \"two\", \"two\", \"two\", \"two\", \"two\", \"two\", \"two\", \"txt\", \"txt\", \"type\", \"type\", \"type\", \"type\", \"type\", \"type\", \"type\", \"typenam\", \"uint64\", \"uiview\", \"uiviewcontrol\", \"ul\", \"uninstal\", \"unsign\", \"unsign\", \"unsort\", \"updat\", \"updat\", \"updat\", \"updat\", \"updat\", \"updat\", \"updat\", \"updat\", \"url\", \"url\", \"url\", \"url\", \"url\", \"use\", \"use\", \"use\", \"use\", \"use\", \"use\", \"use\", \"use\", \"user\", \"user\", \"user\", \"user\", \"user\", \"user\", \"user\", \"user\", \"usr\", \"utc\", \"v1\", \"v4\", \"v8\", \"valu\", \"valu\", \"valu\", \"valu\", \"valu\", \"var\", \"var\", \"var\", \"var\", \"var\", \"var\", \"varchar\", \"variabl\", \"variabl\", \"variabl\", \"variabl\", \"variabl\", \"variabl\", \"variabl\", \"vector\", \"vector\", \"version\", \"version\", \"version\", \"version\", \"version\", \"version\", \"version\", \"version\", \"vertic\", \"view\", \"view\", \"view\", \"view\", \"viewcontrol\", \"virtualenv\", \"visual\", \"visual\", \"visual\", \"visual\", \"visual\", \"visual\", \"void\", \"void\", \"wait\", \"wait\", \"wait\", \"want\", \"want\", \"want\", \"want\", \"want\", \"want\", \"want\", \"want\", \"way\", \"way\", \"way\", \"way\", \"way\", \"way\", \"way\", \"way\", \"webkit\", \"webpack\", \"weight\", \"widget\", \"widget\", \"width\", \"window\", \"window\", \"window\", \"window\", \"window\", \"word\", \"word\", \"word\", \"word\", \"word\", \"word\", \"work\", \"work\", \"work\", \"work\", \"work\", \"work\", \"work\", \"work\", \"would\", \"would\", \"would\", \"would\", \"would\", \"would\", \"would\", \"would\", \"wrap\", \"wrap\", \"wrap\", \"wrap\", \"wrap\", \"writelin\", \"x\", \"x\", \"x\", \"x\", \"x\", \"x\", \"x\", \"x\", \"x86\", \"xcode\", \"xcode\", \"xx\", \"zygoteinit\"]}, \"R\": 30, \"lambda.step\": 0.01, \"plot.opts\": {\"xlab\": \"PC1\", \"ylab\": \"PC2\"}, \"topic.order\": [7, 8, 1, 3, 5, 2, 6, 4]};\n",
       "\n",
       "function LDAvis_load_lib(url, callback){\n",
       "  var s = document.createElement('script');\n",
       "  s.src = url;\n",
       "  s.async = true;\n",
       "  s.onreadystatechange = s.onload = callback;\n",
       "  s.onerror = function(){console.warn(\"failed to load library \" + url);};\n",
       "  document.getElementsByTagName(\"head\")[0].appendChild(s);\n",
       "}\n",
       "\n",
       "if(typeof(LDAvis) !== \"undefined\"){\n",
       "   // already loaded: just create the visualization\n",
       "   !function(LDAvis){\n",
       "       new LDAvis(\"#\" + \"ldavis_el6801622248410622083842370700\", ldavis_el6801622248410622083842370700_data);\n",
       "   }(LDAvis);\n",
       "}else if(typeof define === \"function\" && define.amd){\n",
       "   // require.js is available: use it to load d3/LDAvis\n",
       "   require.config({paths: {d3: \"https://d3js.org/d3.v5\"}});\n",
       "   require([\"d3\"], function(d3){\n",
       "      window.d3 = d3;\n",
       "      LDAvis_load_lib(\"https://cdn.jsdelivr.net/gh/bmabey/pyLDAvis@3.3.1/pyLDAvis/js/ldavis.v3.0.0.js\", function(){\n",
       "        new LDAvis(\"#\" + \"ldavis_el6801622248410622083842370700\", ldavis_el6801622248410622083842370700_data);\n",
       "      });\n",
       "    });\n",
       "}else{\n",
       "    // require.js not available: dynamically load d3 & LDAvis\n",
       "    LDAvis_load_lib(\"https://d3js.org/d3.v5.js\", function(){\n",
       "         LDAvis_load_lib(\"https://cdn.jsdelivr.net/gh/bmabey/pyLDAvis@3.3.1/pyLDAvis/js/ldavis.v3.0.0.js\", function(){\n",
       "                 new LDAvis(\"#\" + \"ldavis_el6801622248410622083842370700\", ldavis_el6801622248410622083842370700_data);\n",
       "            })\n",
       "         });\n",
       "}\n",
       "</script>"
      ],
      "text/plain": [
       "PreparedData(topic_coordinates=              x         y  topics  cluster       Freq\n",
       "topic                                                \n",
       "6     -0.130681  0.050755       1        1  18.921866\n",
       "7      0.091324  0.125772       2        1  14.846645\n",
       "0     -0.010662  0.001690       3        1  13.371529\n",
       "2     -0.095584 -0.080452       4        1  13.216224\n",
       "4     -0.122787  0.050974       5        1  12.131463\n",
       "1      0.369914  0.043483       6        1  10.886706\n",
       "5      0.021398 -0.318597       7        1   9.530644\n",
       "3     -0.122921  0.126374       8        1   7.094922, topic_info=         Term          Freq         Total Category  logprob  loglift\n",
       "4131  android  25478.000000  25478.000000  Default  30.0000  30.0000\n",
       "32          0  35894.000000  35894.000000  Default  29.0000  29.0000\n",
       "155         1  32954.000000  32954.000000  Default  28.0000  28.0000\n",
       "293      file  23428.000000  23428.000000  Default  27.0000  27.0000\n",
       "92     string  19239.000000  19239.000000  Default  26.0000  26.0000\n",
       "...       ...           ...           ...      ...      ...      ...\n",
       "25        tri   1794.345634  17089.622200   Topic8  -4.9809   0.3920\n",
       "202       get   1741.853558  22889.996487   Topic8  -5.0106   0.0700\n",
       "123       new   1501.797010  16041.780987   Topic8  -5.1589   0.2773\n",
       "284     creat   1420.649501  10666.685568   Topic8  -5.2144   0.6298\n",
       "79       like   1433.096626  20379.649127   Topic8  -5.2057  -0.0089\n",
       "\n",
       "[598 rows x 6 columns], token_table=       Topic      Freq        Term\n",
       "term                              \n",
       "147        1  0.025286           #\n",
       "147        2  0.011450           #\n",
       "147        4  0.096371           #\n",
       "147        6  0.320125           #\n",
       "147        8  0.546582           #\n",
       "...      ...       ...         ...\n",
       "262        2  0.999437         x86\n",
       "2586       2  0.962773       xcode\n",
       "2586       7  0.036550       xcode\n",
       "7153       8  0.998950          xx\n",
       "11292      7  0.998611  zygoteinit\n",
       "\n",
       "[1513 rows x 3 columns], R=30, lambda_step=0.01, plot_opts={'xlab': 'PC1', 'ylab': 'PC2'}, topic_order=[7, 8, 1, 3, 5, 2, 6, 4])"
      ]
     },
     "execution_count": 63,
     "metadata": {},
     "output_type": "execute_result"
    }
   ],
   "source": [
    "vis"
   ]
  },
  {
   "cell_type": "markdown",
   "metadata": {},
   "source": [
    "# Utiliser une approche supervisée"
   ]
  },
  {
   "cell_type": "code",
   "execution_count": 64,
   "metadata": {},
   "outputs": [],
   "source": [
    "df=df.reset_index()\n",
    "df=df.drop(['index'],axis=1)"
   ]
  },
  {
   "cell_type": "code",
   "execution_count": 65,
   "metadata": {},
   "outputs": [],
   "source": [
    "X = df[\"Document\"].apply(lambda x: ' '.join(x))\n",
    "y = df[\"Tags\"]"
   ]
  },
  {
   "cell_type": "code",
   "execution_count": 66,
   "metadata": {},
   "outputs": [],
   "source": [
    "all_tags=[]\n",
    "for i in df.Tags:\n",
    "    for j in i:\n",
    "        all_tags.append(j)"
   ]
  },
  {
   "cell_type": "raw",
   "metadata": {},
   "source": [
    "# from collections import Counter\n",
    "Counter(all_tags)"
   ]
  },
  {
   "cell_type": "code",
   "execution_count": 67,
   "metadata": {},
   "outputs": [],
   "source": [
    "multilabel_binarizer = MultiLabelBinarizer()\n",
    "y = multilabel_binarizer.fit_transform(y)"
   ]
  },
  {
   "cell_type": "code",
   "execution_count": 68,
   "metadata": {},
   "outputs": [],
   "source": [
    "tfidf_vectorizer = TfidfVectorizer(\n",
    "    max_df=.8,\n",
    "    min_df=5,\n",
    "    max_features=20000,\n",
    "    ngram_range=(1, 1)\n",
    ")\n",
    "X= tfidf_vectorizer.fit_transform(X)"
   ]
  },
  {
   "cell_type": "code",
   "execution_count": 69,
   "metadata": {},
   "outputs": [
    {
     "data": {
      "text/html": [
       "<div>\n",
       "<style scoped>\n",
       "    .dataframe tbody tr th:only-of-type {\n",
       "        vertical-align: middle;\n",
       "    }\n",
       "\n",
       "    .dataframe tbody tr th {\n",
       "        vertical-align: top;\n",
       "    }\n",
       "\n",
       "    .dataframe thead th {\n",
       "        text-align: right;\n",
       "    }\n",
       "</style>\n",
       "<table border=\"1\" class=\"dataframe\">\n",
       "  <thead>\n",
       "    <tr style=\"text-align: right;\">\n",
       "      <th></th>\n",
       "      <th>Tags</th>\n",
       "      <th>Document</th>\n",
       "    </tr>\n",
       "  </thead>\n",
       "  <tbody>\n",
       "    <tr>\n",
       "      <th>0</th>\n",
       "      <td>[c#]</td>\n",
       "      <td>[convert, decim, doubl, c#, want, use, track, ...</td>\n",
       "    </tr>\n",
       "    <tr>\n",
       "      <th>1</th>\n",
       "      <td>[html, css]</td>\n",
       "      <td>[width, collaps, percentag, width, child, elem...</td>\n",
       "    </tr>\n",
       "    <tr>\n",
       "      <th>2</th>\n",
       "      <td>[c#, .net]</td>\n",
       "      <td>[calcul, someon, age, base, datetim, type, bir...</td>\n",
       "    </tr>\n",
       "    <tr>\n",
       "      <th>3</th>\n",
       "      <td>[c#]</td>\n",
       "      <td>[calcul, relat, time, c#, given, specif, datet...</td>\n",
       "    </tr>\n",
       "    <tr>\n",
       "      <th>4</th>\n",
       "      <td>[html]</td>\n",
       "      <td>[determin, user, timezon, standard, way, web, ...</td>\n",
       "    </tr>\n",
       "    <tr>\n",
       "      <th>...</th>\n",
       "      <td>...</td>\n",
       "      <td>...</td>\n",
       "    </tr>\n",
       "    <tr>\n",
       "      <th>49761</th>\n",
       "      <td>[node.js]</td>\n",
       "      <td>[npm, instal, fail, node, gyp, rebuild, gyp, x...</td>\n",
       "    </tr>\n",
       "    <tr>\n",
       "      <th>49762</th>\n",
       "      <td>[c]</td>\n",
       "      <td>[cast, free, return, valu, void, read, book, p...</td>\n",
       "    </tr>\n",
       "    <tr>\n",
       "      <th>49763</th>\n",
       "      <td>[java]</td>\n",
       "      <td>[need, switch, modul, migrat, java, 9+, java, ...</td>\n",
       "    </tr>\n",
       "    <tr>\n",
       "      <th>49764</th>\n",
       "      <td>[android]</td>\n",
       "      <td>[fix, unexpect, element, found, error, sudden,...</td>\n",
       "    </tr>\n",
       "    <tr>\n",
       "      <th>49765</th>\n",
       "      <td>[c++]</td>\n",
       "      <td>[make, class, immun, auto, valu, copi, proxi, ...</td>\n",
       "    </tr>\n",
       "  </tbody>\n",
       "</table>\n",
       "<p>49766 rows × 2 columns</p>\n",
       "</div>"
      ],
      "text/plain": [
       "              Tags                                           Document\n",
       "0             [c#]  [convert, decim, doubl, c#, want, use, track, ...\n",
       "1      [html, css]  [width, collaps, percentag, width, child, elem...\n",
       "2       [c#, .net]  [calcul, someon, age, base, datetim, type, bir...\n",
       "3             [c#]  [calcul, relat, time, c#, given, specif, datet...\n",
       "4           [html]  [determin, user, timezon, standard, way, web, ...\n",
       "...            ...                                                ...\n",
       "49761    [node.js]  [npm, instal, fail, node, gyp, rebuild, gyp, x...\n",
       "49762          [c]  [cast, free, return, valu, void, read, book, p...\n",
       "49763       [java]  [need, switch, modul, migrat, java, 9+, java, ...\n",
       "49764    [android]  [fix, unexpect, element, found, error, sudden,...\n",
       "49765        [c++]  [make, class, immun, auto, valu, copi, proxi, ...\n",
       "\n",
       "[49766 rows x 2 columns]"
      ]
     },
     "execution_count": 69,
     "metadata": {},
     "output_type": "execute_result"
    }
   ],
   "source": [
    "df"
   ]
  },
  {
   "cell_type": "code",
   "execution_count": 70,
   "metadata": {},
   "outputs": [
    {
     "data": {
      "text/plain": [
       "array(['.net', 'android', 'angular', 'angularjs', 'arrays', 'asp.net',\n",
       "       'asp.net-mvc', 'bash', 'c', 'c#', 'c++', 'css', 'database',\n",
       "       'django', 'docker', 'eclipse', 'git', 'github', 'html', 'ios',\n",
       "       'iphone', 'java', 'javascript', 'jquery', 'json', 'linux', 'list',\n",
       "       'macos', 'mysql', 'node.js', 'objective-c', 'pandas',\n",
       "       'performance', 'php', 'postgresql', 'python', 'r', 'reactjs',\n",
       "       'regex', 'ruby', 'ruby-on-rails', 'shell', 'sql', 'sql-server',\n",
       "       'string', 'swift', 'typescript', 'visual-studio', 'windows',\n",
       "       'xcode'], dtype=object)"
      ]
     },
     "execution_count": 70,
     "metadata": {},
     "output_type": "execute_result"
    }
   ],
   "source": [
    "multilabel_binarizer.classes_"
   ]
  },
  {
   "cell_type": "code",
   "execution_count": 71,
   "metadata": {},
   "outputs": [],
   "source": [
    "X_train, X_test, y_train, y_test = train_test_split(X, y, test_size=0.2)"
   ]
  },
  {
   "cell_type": "code",
   "execution_count": 72,
   "metadata": {},
   "outputs": [],
   "source": [
    "svc = LinearSVC(random_state=0)\n",
    "forest = RandomForestClassifier(random_state=0)\n",
    "perceptron = Perceptron(random_state=0)\n",
    "lr = LogisticRegression(random_state=0)\n",
    "sgd = SGDClassifier(random_state=0)\n",
    "gbc=GradientBoostingClassifier(random_state=0)\n",
    "#Ajouter Gradient boosting"
   ]
  },
  {
   "cell_type": "code",
   "execution_count": 73,
   "metadata": {},
   "outputs": [
    {
     "data": {
      "text/html": [
       "<div>\n",
       "<style scoped>\n",
       "    .dataframe tbody tr th:only-of-type {\n",
       "        vertical-align: middle;\n",
       "    }\n",
       "\n",
       "    .dataframe tbody tr th {\n",
       "        vertical-align: top;\n",
       "    }\n",
       "\n",
       "    .dataframe thead th {\n",
       "        text-align: right;\n",
       "    }\n",
       "</style>\n",
       "<table border=\"1\" class=\"dataframe\">\n",
       "  <thead>\n",
       "    <tr style=\"text-align: right;\">\n",
       "      <th></th>\n",
       "      <th>Tags</th>\n",
       "      <th>Document</th>\n",
       "    </tr>\n",
       "  </thead>\n",
       "  <tbody>\n",
       "    <tr>\n",
       "      <th>0</th>\n",
       "      <td>[c#]</td>\n",
       "      <td>[convert, decim, doubl, c#, want, use, track, ...</td>\n",
       "    </tr>\n",
       "    <tr>\n",
       "      <th>1</th>\n",
       "      <td>[html, css]</td>\n",
       "      <td>[width, collaps, percentag, width, child, elem...</td>\n",
       "    </tr>\n",
       "    <tr>\n",
       "      <th>2</th>\n",
       "      <td>[c#, .net]</td>\n",
       "      <td>[calcul, someon, age, base, datetim, type, bir...</td>\n",
       "    </tr>\n",
       "    <tr>\n",
       "      <th>3</th>\n",
       "      <td>[c#]</td>\n",
       "      <td>[calcul, relat, time, c#, given, specif, datet...</td>\n",
       "    </tr>\n",
       "    <tr>\n",
       "      <th>4</th>\n",
       "      <td>[html]</td>\n",
       "      <td>[determin, user, timezon, standard, way, web, ...</td>\n",
       "    </tr>\n",
       "    <tr>\n",
       "      <th>...</th>\n",
       "      <td>...</td>\n",
       "      <td>...</td>\n",
       "    </tr>\n",
       "    <tr>\n",
       "      <th>49761</th>\n",
       "      <td>[node.js]</td>\n",
       "      <td>[npm, instal, fail, node, gyp, rebuild, gyp, x...</td>\n",
       "    </tr>\n",
       "    <tr>\n",
       "      <th>49762</th>\n",
       "      <td>[c]</td>\n",
       "      <td>[cast, free, return, valu, void, read, book, p...</td>\n",
       "    </tr>\n",
       "    <tr>\n",
       "      <th>49763</th>\n",
       "      <td>[java]</td>\n",
       "      <td>[need, switch, modul, migrat, java, 9+, java, ...</td>\n",
       "    </tr>\n",
       "    <tr>\n",
       "      <th>49764</th>\n",
       "      <td>[android]</td>\n",
       "      <td>[fix, unexpect, element, found, error, sudden,...</td>\n",
       "    </tr>\n",
       "    <tr>\n",
       "      <th>49765</th>\n",
       "      <td>[c++]</td>\n",
       "      <td>[make, class, immun, auto, valu, copi, proxi, ...</td>\n",
       "    </tr>\n",
       "  </tbody>\n",
       "</table>\n",
       "<p>49766 rows × 2 columns</p>\n",
       "</div>"
      ],
      "text/plain": [
       "              Tags                                           Document\n",
       "0             [c#]  [convert, decim, doubl, c#, want, use, track, ...\n",
       "1      [html, css]  [width, collaps, percentag, width, child, elem...\n",
       "2       [c#, .net]  [calcul, someon, age, base, datetim, type, bir...\n",
       "3             [c#]  [calcul, relat, time, c#, given, specif, datet...\n",
       "4           [html]  [determin, user, timezon, standard, way, web, ...\n",
       "...            ...                                                ...\n",
       "49761    [node.js]  [npm, instal, fail, node, gyp, rebuild, gyp, x...\n",
       "49762          [c]  [cast, free, return, valu, void, read, book, p...\n",
       "49763       [java]  [need, switch, modul, migrat, java, 9+, java, ...\n",
       "49764    [android]  [fix, unexpect, element, found, error, sudden,...\n",
       "49765        [c++]  [make, class, immun, auto, valu, copi, proxi, ...\n",
       "\n",
       "[49766 rows x 2 columns]"
      ]
     },
     "execution_count": 73,
     "metadata": {},
     "output_type": "execute_result"
    }
   ],
   "source": [
    "df"
   ]
  },
  {
   "cell_type": "code",
   "execution_count": 74,
   "metadata": {},
   "outputs": [
    {
     "data": {
      "text/plain": [
       "array([0, 0, 0, 0, 0, 0, 0, 1, 0, 0, 0, 0, 0, 0, 0, 0, 0, 0, 0, 0, 0, 0,\n",
       "       0, 0, 0, 0, 0, 0, 0, 0, 0, 0, 0, 0, 0, 0, 0, 0, 0, 0, 0, 0, 0, 0,\n",
       "       0, 0, 0, 0, 0, 0])"
      ]
     },
     "execution_count": 74,
     "metadata": {},
     "output_type": "execute_result"
    }
   ],
   "source": [
    "y_train[1]"
   ]
  },
  {
   "cell_type": "code",
   "execution_count": 75,
   "metadata": {},
   "outputs": [],
   "source": [
    "classifier=[svc,forest,perceptron,lr,sgd,gbc]"
   ]
  },
  {
   "cell_type": "code",
   "execution_count": 76,
   "metadata": {},
   "outputs": [
    {
     "data": {
      "text/html": [
       "<div>\n",
       "<style scoped>\n",
       "    .dataframe tbody tr th:only-of-type {\n",
       "        vertical-align: middle;\n",
       "    }\n",
       "\n",
       "    .dataframe tbody tr th {\n",
       "        vertical-align: top;\n",
       "    }\n",
       "\n",
       "    .dataframe thead th {\n",
       "        text-align: right;\n",
       "    }\n",
       "</style>\n",
       "<table border=\"1\" class=\"dataframe\">\n",
       "  <thead>\n",
       "    <tr style=\"text-align: right;\">\n",
       "      <th></th>\n",
       "      <th>Tags</th>\n",
       "      <th>Document</th>\n",
       "    </tr>\n",
       "  </thead>\n",
       "  <tbody>\n",
       "    <tr>\n",
       "      <th>0</th>\n",
       "      <td>[c#]</td>\n",
       "      <td>[convert, decim, doubl, c#, want, use, track, ...</td>\n",
       "    </tr>\n",
       "    <tr>\n",
       "      <th>1</th>\n",
       "      <td>[html, css]</td>\n",
       "      <td>[width, collaps, percentag, width, child, elem...</td>\n",
       "    </tr>\n",
       "    <tr>\n",
       "      <th>2</th>\n",
       "      <td>[c#, .net]</td>\n",
       "      <td>[calcul, someon, age, base, datetim, type, bir...</td>\n",
       "    </tr>\n",
       "    <tr>\n",
       "      <th>3</th>\n",
       "      <td>[c#]</td>\n",
       "      <td>[calcul, relat, time, c#, given, specif, datet...</td>\n",
       "    </tr>\n",
       "    <tr>\n",
       "      <th>4</th>\n",
       "      <td>[html]</td>\n",
       "      <td>[determin, user, timezon, standard, way, web, ...</td>\n",
       "    </tr>\n",
       "    <tr>\n",
       "      <th>...</th>\n",
       "      <td>...</td>\n",
       "      <td>...</td>\n",
       "    </tr>\n",
       "    <tr>\n",
       "      <th>49761</th>\n",
       "      <td>[node.js]</td>\n",
       "      <td>[npm, instal, fail, node, gyp, rebuild, gyp, x...</td>\n",
       "    </tr>\n",
       "    <tr>\n",
       "      <th>49762</th>\n",
       "      <td>[c]</td>\n",
       "      <td>[cast, free, return, valu, void, read, book, p...</td>\n",
       "    </tr>\n",
       "    <tr>\n",
       "      <th>49763</th>\n",
       "      <td>[java]</td>\n",
       "      <td>[need, switch, modul, migrat, java, 9+, java, ...</td>\n",
       "    </tr>\n",
       "    <tr>\n",
       "      <th>49764</th>\n",
       "      <td>[android]</td>\n",
       "      <td>[fix, unexpect, element, found, error, sudden,...</td>\n",
       "    </tr>\n",
       "    <tr>\n",
       "      <th>49765</th>\n",
       "      <td>[c++]</td>\n",
       "      <td>[make, class, immun, auto, valu, copi, proxi, ...</td>\n",
       "    </tr>\n",
       "  </tbody>\n",
       "</table>\n",
       "<p>49766 rows × 2 columns</p>\n",
       "</div>"
      ],
      "text/plain": [
       "              Tags                                           Document\n",
       "0             [c#]  [convert, decim, doubl, c#, want, use, track, ...\n",
       "1      [html, css]  [width, collaps, percentag, width, child, elem...\n",
       "2       [c#, .net]  [calcul, someon, age, base, datetim, type, bir...\n",
       "3             [c#]  [calcul, relat, time, c#, given, specif, datet...\n",
       "4           [html]  [determin, user, timezon, standard, way, web, ...\n",
       "...            ...                                                ...\n",
       "49761    [node.js]  [npm, instal, fail, node, gyp, rebuild, gyp, x...\n",
       "49762          [c]  [cast, free, return, valu, void, read, book, p...\n",
       "49763       [java]  [need, switch, modul, migrat, java, 9+, java, ...\n",
       "49764    [android]  [fix, unexpect, element, found, error, sudden,...\n",
       "49765        [c++]  [make, class, immun, auto, valu, copi, proxi, ...\n",
       "\n",
       "[49766 rows x 2 columns]"
      ]
     },
     "execution_count": 76,
     "metadata": {},
     "output_type": "execute_result"
    }
   ],
   "source": [
    "df"
   ]
  },
  {
   "cell_type": "code",
   "execution_count": 77,
   "metadata": {},
   "outputs": [],
   "source": [
    "results = pd.DataFrame({})\n",
    "def errors(name,model,X_train, y_train,X_test,y_test):\n",
    "    global results\n",
    "    clf = MultiOutputClassifier(model)\n",
    "    clf.fit(X_train, y_train)\n",
    "    y_pred = clf.predict(X_test)\n",
    "    results = results.append(pd.DataFrame({\n",
    "        'Modèle': [name],\n",
    "        'Hamming_loss':hamming_loss(y_pred, y_test),\n",
    "        'Jaccard_score':jaccard_score(y_pred, y_test,average='macro')*100,\n",
    "        'Accuracy_score':accuracy_score(y_pred, y_test),\n",
    "        'Macro_f1_score':f1_score(y_test, y_pred,average='macro'),\n",
    "        'Micro_f1_score':f1_score(y_test, y_pred,average='micro')}),ignore_index=True)"
   ]
  },
  {
   "cell_type": "code",
   "execution_count": 78,
   "metadata": {},
   "outputs": [],
   "source": [
    "for i in classifier:\n",
    "    errors(str(i),i,X_train, y_train,X_test,y_test)"
   ]
  },
  {
   "cell_type": "code",
   "execution_count": 79,
   "metadata": {},
   "outputs": [
    {
     "data": {
      "text/html": [
       "<div>\n",
       "<style scoped>\n",
       "    .dataframe tbody tr th:only-of-type {\n",
       "        vertical-align: middle;\n",
       "    }\n",
       "\n",
       "    .dataframe tbody tr th {\n",
       "        vertical-align: top;\n",
       "    }\n",
       "\n",
       "    .dataframe thead th {\n",
       "        text-align: right;\n",
       "    }\n",
       "</style>\n",
       "<table border=\"1\" class=\"dataframe\">\n",
       "  <thead>\n",
       "    <tr style=\"text-align: right;\">\n",
       "      <th></th>\n",
       "      <th>Modèle</th>\n",
       "      <th>Hamming_loss</th>\n",
       "      <th>Jaccard_score</th>\n",
       "      <th>Accuracy_score</th>\n",
       "      <th>Macro_f1_score</th>\n",
       "      <th>Micro_f1_score</th>\n",
       "    </tr>\n",
       "  </thead>\n",
       "  <tbody>\n",
       "    <tr>\n",
       "      <th>0</th>\n",
       "      <td>LinearSVC(random_state=0)</td>\n",
       "      <td>0.013372</td>\n",
       "      <td>54.229497</td>\n",
       "      <td>0.508841</td>\n",
       "      <td>0.676125</td>\n",
       "      <td>0.729834</td>\n",
       "    </tr>\n",
       "    <tr>\n",
       "      <th>1</th>\n",
       "      <td>RandomForestClassifier(random_state=0)</td>\n",
       "      <td>0.016305</td>\n",
       "      <td>34.518800</td>\n",
       "      <td>0.414004</td>\n",
       "      <td>0.456057</td>\n",
       "      <td>0.615129</td>\n",
       "    </tr>\n",
       "    <tr>\n",
       "      <th>2</th>\n",
       "      <td>Perceptron()</td>\n",
       "      <td>0.018441</td>\n",
       "      <td>49.604728</td>\n",
       "      <td>0.421840</td>\n",
       "      <td>0.636871</td>\n",
       "      <td>0.672167</td>\n",
       "    </tr>\n",
       "    <tr>\n",
       "      <th>3</th>\n",
       "      <td>LogisticRegression(random_state=0)</td>\n",
       "      <td>0.015650</td>\n",
       "      <td>41.983187</td>\n",
       "      <td>0.423347</td>\n",
       "      <td>0.564329</td>\n",
       "      <td>0.648654</td>\n",
       "    </tr>\n",
       "    <tr>\n",
       "      <th>4</th>\n",
       "      <td>SGDClassifier(random_state=0)</td>\n",
       "      <td>0.014828</td>\n",
       "      <td>44.728427</td>\n",
       "      <td>0.452984</td>\n",
       "      <td>0.573280</td>\n",
       "      <td>0.668731</td>\n",
       "    </tr>\n",
       "    <tr>\n",
       "      <th>5</th>\n",
       "      <td>GradientBoostingClassifier(random_state=0)</td>\n",
       "      <td>0.015431</td>\n",
       "      <td>50.587503</td>\n",
       "      <td>0.451075</td>\n",
       "      <td>0.641094</td>\n",
       "      <td>0.686761</td>\n",
       "    </tr>\n",
       "  </tbody>\n",
       "</table>\n",
       "</div>"
      ],
      "text/plain": [
       "                                       Modèle  Hamming_loss  Jaccard_score  \\\n",
       "0                   LinearSVC(random_state=0)      0.013372      54.229497   \n",
       "1      RandomForestClassifier(random_state=0)      0.016305      34.518800   \n",
       "2                                Perceptron()      0.018441      49.604728   \n",
       "3          LogisticRegression(random_state=0)      0.015650      41.983187   \n",
       "4               SGDClassifier(random_state=0)      0.014828      44.728427   \n",
       "5  GradientBoostingClassifier(random_state=0)      0.015431      50.587503   \n",
       "\n",
       "   Accuracy_score  Macro_f1_score  Micro_f1_score  \n",
       "0        0.508841        0.676125        0.729834  \n",
       "1        0.414004        0.456057        0.615129  \n",
       "2        0.421840        0.636871        0.672167  \n",
       "3        0.423347        0.564329        0.648654  \n",
       "4        0.452984        0.573280        0.668731  \n",
       "5        0.451075        0.641094        0.686761  "
      ]
     },
     "execution_count": 79,
     "metadata": {},
     "output_type": "execute_result"
    }
   ],
   "source": [
    "results"
   ]
  },
  {
   "cell_type": "code",
   "execution_count": 80,
   "metadata": {},
   "outputs": [
    {
     "name": "stderr",
     "output_type": "stream",
     "text": [
      "C:\\Users\\thiba\\anaconda3\\lib\\site-packages\\sklearn\\svm\\_base.py:976: ConvergenceWarning: Liblinear failed to converge, increase the number of iterations.\n",
      "  warnings.warn(\"Liblinear failed to converge, increase \"\n",
      "C:\\Users\\thiba\\anaconda3\\lib\\site-packages\\sklearn\\svm\\_base.py:976: ConvergenceWarning: Liblinear failed to converge, increase the number of iterations.\n",
      "  warnings.warn(\"Liblinear failed to converge, increase \"\n",
      "C:\\Users\\thiba\\anaconda3\\lib\\site-packages\\sklearn\\svm\\_base.py:976: ConvergenceWarning: Liblinear failed to converge, increase the number of iterations.\n",
      "  warnings.warn(\"Liblinear failed to converge, increase \"\n"
     ]
    },
    {
     "name": "stdout",
     "output_type": "stream",
     "text": [
      "Accuracy Score:  0.5088406670685152\n",
      "done in 588.968s.\n"
     ]
    },
    {
     "data": {
      "text/plain": [
       "Pipeline(steps=[('clf', MultiOutputClassifier(estimator=LinearSVC(C=1)))])"
      ]
     },
     "execution_count": 80,
     "metadata": {},
     "output_type": "execute_result"
    }
   ],
   "source": [
    "t0 = time()\n",
    "pipeline = Pipeline([('clf', MultiOutputClassifier(LinearSVC()))])\n",
    "parameters = {\n",
    "     \"clf__estimator__C\": np.arange(1,20,2),     \n",
    "     \"clf__estimator__max_iter\":[1000, 10000, 20000]\n",
    "}\n",
    "\n",
    "model_tunning = GridSearchCV(pipeline, parameters, cv=3, scoring='accuracy')\n",
    "model_tunning.fit(X_train, y_train)\n",
    "\n",
    "print (\"Accuracy Score: \", accuracy_score(y_test, model_tunning.best_estimator_.predict(X_test)))\n",
    "print(\"done in %0.3fs.\" % (time() - t0))\n",
    "model_tunning.best_estimator_"
   ]
  },
  {
   "cell_type": "code",
   "execution_count": 81,
   "metadata": {},
   "outputs": [
    {
     "data": {
      "text/plain": [
       "{'clf__estimator__C': 1, 'clf__estimator__max_iter': 1000}"
      ]
     },
     "execution_count": 81,
     "metadata": {},
     "output_type": "execute_result"
    }
   ],
   "source": [
    "model_tunning.best_params_"
   ]
  },
  {
   "cell_type": "raw",
   "metadata": {},
   "source": [
    "parameters = {'estimator__C': np.arange(1,20,1), \n",
    "              'estimator__max_iter': [10, 100, 200,1000, 2000, 3000, 4000, 5000],\n",
    "              'estimator__penalty': ['l1','l2'],\n",
    "              'estimator__loss': ['hinge','squared_hinge'],\n",
    "              'estimator__tol': [.000001,.00001,.0001]}\n",
    "grid_cv = GridSearchCV(OneVsRestClassifier(LinearSVC()), parameters,scoring='accuracy')\n",
    "grid_cv.fit(X_train, y_train)"
   ]
  },
  {
   "cell_type": "code",
   "execution_count": 82,
   "metadata": {},
   "outputs": [
    {
     "data": {
      "text/plain": [
       "54.229496994984125"
      ]
     },
     "execution_count": 82,
     "metadata": {},
     "output_type": "execute_result"
    }
   ],
   "source": [
    "jaccard_score( model_tunning.best_estimator_.predict(X_test),y_test,average='macro')*100"
   ]
  },
  {
   "cell_type": "code",
   "execution_count": 83,
   "metadata": {},
   "outputs": [],
   "source": [
    "def errors_grid(name,X_train, y_train,X_test,y_test):\n",
    "    global results\n",
    "    model=LinearSVC(C=1, max_iter=20000)\n",
    "    clf = MultiOutputClassifier(model)\n",
    "    clf.fit(X_train, y_train)\n",
    "    y_pred = clf.predict(X_test)\n",
    "    results = results.append(pd.DataFrame({\n",
    "        'Modèle': [name],\n",
    "        'Hamming_loss':hamming_loss(y_pred, y_test),\n",
    "        'Jaccard_score':jaccard_score(y_pred, y_test,average='macro')*100,\n",
    "        'Accuracy_score':accuracy_score(y_pred, y_test),\n",
    "        'Macro_f1_score':f1_score(y_test, y_pred,average='macro'),\n",
    "        'Micro_f1_score':f1_score(y_test, y_pred,average='micro')}),ignore_index=True)"
   ]
  },
  {
   "cell_type": "code",
   "execution_count": 84,
   "metadata": {},
   "outputs": [],
   "source": [
    "errors_grid('LinearSVC(C=1, max_iter=20000)',X_train, y_train,X_test,y_test)"
   ]
  },
  {
   "cell_type": "code",
   "execution_count": 85,
   "metadata": {},
   "outputs": [
    {
     "data": {
      "text/html": [
       "<div>\n",
       "<style scoped>\n",
       "    .dataframe tbody tr th:only-of-type {\n",
       "        vertical-align: middle;\n",
       "    }\n",
       "\n",
       "    .dataframe tbody tr th {\n",
       "        vertical-align: top;\n",
       "    }\n",
       "\n",
       "    .dataframe thead th {\n",
       "        text-align: right;\n",
       "    }\n",
       "</style>\n",
       "<table border=\"1\" class=\"dataframe\">\n",
       "  <thead>\n",
       "    <tr style=\"text-align: right;\">\n",
       "      <th></th>\n",
       "      <th>Modèle</th>\n",
       "      <th>Hamming_loss</th>\n",
       "      <th>Jaccard_score</th>\n",
       "      <th>Accuracy_score</th>\n",
       "      <th>Macro_f1_score</th>\n",
       "      <th>Micro_f1_score</th>\n",
       "    </tr>\n",
       "  </thead>\n",
       "  <tbody>\n",
       "    <tr>\n",
       "      <th>0</th>\n",
       "      <td>LinearSVC(random_state=0)</td>\n",
       "      <td>0.013372</td>\n",
       "      <td>54.229497</td>\n",
       "      <td>0.508841</td>\n",
       "      <td>0.676125</td>\n",
       "      <td>0.729834</td>\n",
       "    </tr>\n",
       "    <tr>\n",
       "      <th>1</th>\n",
       "      <td>RandomForestClassifier(random_state=0)</td>\n",
       "      <td>0.016305</td>\n",
       "      <td>34.518800</td>\n",
       "      <td>0.414004</td>\n",
       "      <td>0.456057</td>\n",
       "      <td>0.615129</td>\n",
       "    </tr>\n",
       "    <tr>\n",
       "      <th>2</th>\n",
       "      <td>Perceptron()</td>\n",
       "      <td>0.018441</td>\n",
       "      <td>49.604728</td>\n",
       "      <td>0.421840</td>\n",
       "      <td>0.636871</td>\n",
       "      <td>0.672167</td>\n",
       "    </tr>\n",
       "    <tr>\n",
       "      <th>3</th>\n",
       "      <td>LogisticRegression(random_state=0)</td>\n",
       "      <td>0.015650</td>\n",
       "      <td>41.983187</td>\n",
       "      <td>0.423347</td>\n",
       "      <td>0.564329</td>\n",
       "      <td>0.648654</td>\n",
       "    </tr>\n",
       "    <tr>\n",
       "      <th>4</th>\n",
       "      <td>SGDClassifier(random_state=0)</td>\n",
       "      <td>0.014828</td>\n",
       "      <td>44.728427</td>\n",
       "      <td>0.452984</td>\n",
       "      <td>0.573280</td>\n",
       "      <td>0.668731</td>\n",
       "    </tr>\n",
       "    <tr>\n",
       "      <th>5</th>\n",
       "      <td>GradientBoostingClassifier(random_state=0)</td>\n",
       "      <td>0.015431</td>\n",
       "      <td>50.587503</td>\n",
       "      <td>0.451075</td>\n",
       "      <td>0.641094</td>\n",
       "      <td>0.686761</td>\n",
       "    </tr>\n",
       "    <tr>\n",
       "      <th>6</th>\n",
       "      <td>LinearSVC(C=1, max_iter=20000)</td>\n",
       "      <td>0.013372</td>\n",
       "      <td>54.229497</td>\n",
       "      <td>0.508841</td>\n",
       "      <td>0.676125</td>\n",
       "      <td>0.729834</td>\n",
       "    </tr>\n",
       "  </tbody>\n",
       "</table>\n",
       "</div>"
      ],
      "text/plain": [
       "                                       Modèle  Hamming_loss  Jaccard_score  \\\n",
       "0                   LinearSVC(random_state=0)      0.013372      54.229497   \n",
       "1      RandomForestClassifier(random_state=0)      0.016305      34.518800   \n",
       "2                                Perceptron()      0.018441      49.604728   \n",
       "3          LogisticRegression(random_state=0)      0.015650      41.983187   \n",
       "4               SGDClassifier(random_state=0)      0.014828      44.728427   \n",
       "5  GradientBoostingClassifier(random_state=0)      0.015431      50.587503   \n",
       "6              LinearSVC(C=1, max_iter=20000)      0.013372      54.229497   \n",
       "\n",
       "   Accuracy_score  Macro_f1_score  Micro_f1_score  \n",
       "0        0.508841        0.676125        0.729834  \n",
       "1        0.414004        0.456057        0.615129  \n",
       "2        0.421840        0.636871        0.672167  \n",
       "3        0.423347        0.564329        0.648654  \n",
       "4        0.452984        0.573280        0.668731  \n",
       "5        0.451075        0.641094        0.686761  \n",
       "6        0.508841        0.676125        0.729834  "
      ]
     },
     "execution_count": 85,
     "metadata": {},
     "output_type": "execute_result"
    }
   ],
   "source": [
    "results"
   ]
  }
 ],
 "metadata": {
  "kernelspec": {
   "display_name": "Python 3",
   "language": "python",
   "name": "python3"
  },
  "language_info": {
   "codemirror_mode": {
    "name": "ipython",
    "version": 3
   },
   "file_extension": ".py",
   "mimetype": "text/x-python",
   "name": "python",
   "nbconvert_exporter": "python",
   "pygments_lexer": "ipython3",
   "version": "3.8.5"
  }
 },
 "nbformat": 4,
 "nbformat_minor": 4
}
