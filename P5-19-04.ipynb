{
 "cells": [
  {
   "cell_type": "code",
   "execution_count": 1,
   "metadata": {},
   "outputs": [],
   "source": [
    "# tables\n",
    "import pandas as pd\n",
    "import numpy as np\n",
    "# graphics\n",
    "import seaborn as sns\n",
    "import matplotlib.pyplot as plt\n",
    "\n",
    "#Preprocecing\n",
    "from nltk.corpus import stopwords\n",
    "import nltk\n",
    "import collections\n",
    "import re\n",
    "from bs4 import BeautifulSoup\n",
    "\n",
    "#LDA\n",
    "from sklearn.feature_extraction.text import TfidfVectorizer\n",
    "from sklearn.decomposition import LatentDirichletAllocation as LDA\n",
    "\n",
    "#gensim\n",
    "import gensim.corpora as corpora\n",
    "from gensim.models import CoherenceModel\n",
    "import gensim\n",
    "\n",
    "#essai\n",
    "from sklearn.decomposition import PCA\n",
    "from sklearn.manifold import TSNE\n",
    "import matplotlib.cm as cm\n",
    "from sklearn.cluster import MiniBatchKMeans\n",
    "\n",
    "#Supervisée\n",
    "from sklearn.datasets import make_multilabel_classification\n",
    "from sklearn.multioutput import MultiOutputClassifier\n",
    "from sklearn.neighbors import KNeighborsClassifier\n",
    "\n",
    "from sklearn.model_selection import train_test_split\n",
    "\n",
    "from sklearn.multiclass import OneVsRestClassifier\n",
    "from sklearn.preprocessing import MultiLabelBinarizer\n",
    "\n",
    "#models\n",
    "from sklearn.svm import LinearSVC\n",
    "from sklearn.ensemble import RandomForestClassifier, GradientBoostingClassifier\n",
    "from sklearn.linear_model import Perceptron, LogisticRegression, SGDClassifier\n",
    "\n",
    "#metrics\n",
    "from sklearn.metrics import hamming_loss,accuracy_score, classification_report,jaccard_score,f1_score\n",
    "\n",
    "#GridSearchCV\n",
    "from time import time\n",
    "from sklearn.pipeline import Pipeline\n",
    "from sklearn.model_selection import GridSearchCV\n",
    "\n",
    "import pyLDAvis\n",
    "import pyLDAvis.gensim_models\n",
    "import pyLDAvis.sklearn\n",
    "pyLDAvis.enable_notebook()\n",
    "\n",
    "#On ignore les DeprecationWarning car un souci lié à pyLDAvis en affiche beaucoup \n",
    "#mais mon mentor et moi meme n'avons pas réussi à résoudre le problème.\n",
    "import warnings\n",
    "warnings.filterwarnings(\"ignore\", category=DeprecationWarning)"
   ]
  },
  {
   "cell_type": "markdown",
   "metadata": {},
   "source": [
    "# P5-IML-Catégorisez automatiquement des questions"
   ]
  },
  {
   "cell_type": "code",
   "execution_count": 2,
   "metadata": {},
   "outputs": [],
   "source": [
    "df=pd.read_csv(\"QueryResults_1.csv\", sep=',',encoding = 'UTF-8')\n",
    "df=df.append(pd.read_csv(\"QueryResults_2.csv\", sep=',',encoding = 'UTF-8'),ignore_index = True)"
   ]
  },
  {
   "cell_type": "raw",
   "metadata": {},
   "source": [
    "Pour récuperer les données en SQL, j'ai fait le choix de conserver uniquement les questions n'ayant pas de valeurs manquantes dans Titre, Body et Tags et celles dont le score est seperieur à 80."
   ]
  },
  {
   "cell_type": "code",
   "execution_count": 3,
   "metadata": {},
   "outputs": [
    {
     "name": "stdout",
     "output_type": "stream",
     "text": [
      "Body\n",
      "(58903,)\n",
      "(58903,)\n",
      "Title\n",
      "(58903,)\n",
      "(58898,)\n",
      "Tags\n",
      "(58903,)\n",
      "(41457,)\n"
     ]
    }
   ],
   "source": [
    "print(\"Body\")\n",
    "print(df.Body.shape)\n",
    "print(df.Body.drop_duplicates().shape)\n",
    "print(\"Title\")\n",
    "print(df.Title.shape)\n",
    "print(df.Title.drop_duplicates().shape)\n",
    "print(\"Tags\")\n",
    "print(df.Tags.shape)\n",
    "print(df.Tags.drop_duplicates().shape)"
   ]
  },
  {
   "cell_type": "code",
   "execution_count": 4,
   "metadata": {},
   "outputs": [
    {
     "data": {
      "text/plain": [
       "(58903, 4)"
      ]
     },
     "execution_count": 4,
     "metadata": {},
     "output_type": "execute_result"
    }
   ],
   "source": [
    "df.shape"
   ]
  },
  {
   "cell_type": "markdown",
   "metadata": {},
   "source": [
    "# Prétraitement"
   ]
  },
  {
   "cell_type": "markdown",
   "metadata": {},
   "source": [
    "### Fonctions"
   ]
  },
  {
   "cell_type": "code",
   "execution_count": 5,
   "metadata": {},
   "outputs": [],
   "source": [
    "#fontion de 'tokenisation' pour df.Title et df.Body\n",
    "def token(text):\n",
    "    text=re.sub('[^a-zA-Z0-9#+]', ' ',BeautifulSoup(text, \"lxml\").get_text() ).lower().split()\n",
    "    return text"
   ]
  },
  {
   "cell_type": "code",
   "execution_count": 6,
   "metadata": {},
   "outputs": [],
   "source": [
    "stop = stopwords.words('english')"
   ]
  },
  {
   "cell_type": "code",
   "execution_count": 7,
   "metadata": {},
   "outputs": [],
   "source": [
    "sno = nltk.stem.SnowballStemmer('english')\n",
    "def stemmer(s):\n",
    "    s = [sno.stem(word) for word in s if word not in (stop)]\n",
    "    return s"
   ]
  },
  {
   "cell_type": "markdown",
   "metadata": {},
   "source": [
    "## Body"
   ]
  },
  {
   "cell_type": "code",
   "execution_count": 8,
   "metadata": {},
   "outputs": [
    {
     "data": {
      "text/plain": [
       "'<p>I want to use a <code>Track-Bar</code> to change a <code>Form</code>\\'s opacity.</p>\\n<p>This is my code:</p>\\n<pre class=\"lang-cs prettyprint-override\"><code>decimal trans = trackBar1.Value / 5000;\\nthis.Opacity = trans;\\n</code></pre>\\n<p>When I build the application, it gives the following error:</p>\\n<blockquote>\\n<pre class=\"lang-none prettyprint-override\"><code>Cannot implicitly convert type decimal to double\\n</code></pre>\\n</blockquote>\\n<p>I have tried using <code>trans</code> and <code>double</code>, but then the <code>Control</code> doesn\\'t work. This code worked fine in a past VB.NET project.</p>\\n'"
      ]
     },
     "execution_count": 8,
     "metadata": {},
     "output_type": "execute_result"
    }
   ],
   "source": [
    "df.Body.iloc[0]"
   ]
  },
  {
   "cell_type": "code",
   "execution_count": 9,
   "metadata": {},
   "outputs": [],
   "source": [
    "df.Body=df.Body.map(token)"
   ]
  },
  {
   "cell_type": "code",
   "execution_count": 10,
   "metadata": {},
   "outputs": [
    {
     "data": {
      "text/plain": [
       "0        [i, want, to, use, a, track, bar, to, change, ...\n",
       "1        [i, have, an, absolutely, positioned, div, con...\n",
       "2        [given, a, datetime, representing, a, person, ...\n",
       "3        [given, a, specific, datetime, value, how, do,...\n",
       "4        [is, there, a, standard, way, for, a, web, ser...\n",
       "                               ...                        \n",
       "58898    [every, time, i, try, npm, install, i, get, th...\n",
       "58899    [i, am, reading, a, book, programming, with, p...\n",
       "58900    [we, re, currently, migrating, from, java, 8, ...\n",
       "58901    [all, of, a, sudden, i, am, getting, this, bui...\n",
       "58902    [i, have, a, fairly, complex, maths, library, ...\n",
       "Name: Body, Length: 58903, dtype: object"
      ]
     },
     "execution_count": 10,
     "metadata": {},
     "output_type": "execute_result"
    }
   ],
   "source": [
    "df.Body"
   ]
  },
  {
   "cell_type": "code",
   "execution_count": 11,
   "metadata": {},
   "outputs": [],
   "source": [
    "df.Body=df.Body.apply(stemmer)"
   ]
  },
  {
   "cell_type": "code",
   "execution_count": 12,
   "metadata": {},
   "outputs": [
    {
     "data": {
      "text/plain": [
       "0        [want, use, track, bar, chang, form, opac, cod...\n",
       "1        [absolut, posit, div, contain, sever, children...\n",
       "2        [given, datetim, repres, person, birthday, cal...\n",
       "3        [given, specif, datetim, valu, display, relat,...\n",
       "4        [standard, way, web, server, abl, determin, us...\n",
       "                               ...                        \n",
       "58898    [everi, time, tri, npm, instal, get, follow, e...\n",
       "58899    [read, book, program, posix, thread, butenhof,...\n",
       "58900    [current, migrat, java, 8, java, 11, howev, up...\n",
       "58901    [sudden, get, build, error, android, project, ...\n",
       "58902    [fair, complex, math, librari, work, discov, n...\n",
       "Name: Body, Length: 58903, dtype: object"
      ]
     },
     "execution_count": 12,
     "metadata": {},
     "output_type": "execute_result"
    }
   ],
   "source": [
    "df.Body"
   ]
  },
  {
   "cell_type": "markdown",
   "metadata": {},
   "source": [
    "## Title"
   ]
  },
  {
   "cell_type": "code",
   "execution_count": 13,
   "metadata": {},
   "outputs": [],
   "source": [
    "df=df.drop_duplicates(subset=['Title'])"
   ]
  },
  {
   "cell_type": "code",
   "execution_count": 14,
   "metadata": {},
   "outputs": [
    {
     "data": {
      "text/plain": [
       "'How to convert a Decimal to a Double in C#?'"
      ]
     },
     "execution_count": 14,
     "metadata": {},
     "output_type": "execute_result"
    }
   ],
   "source": [
    "df.Title.iloc[0]"
   ]
  },
  {
   "cell_type": "code",
   "execution_count": 15,
   "metadata": {},
   "outputs": [
    {
     "data": {
      "text/plain": [
       "0              How to convert a Decimal to a Double in C#?\n",
       "1        Why did the width collapse in the percentage w...\n",
       "2        How do I calculate someone's age based on a Da...\n",
       "3                            Calculate relative time in C#\n",
       "4                              Determine a user's timezone\n",
       "                               ...                        \n",
       "58898    `npm install` fails on node-gyp rebuild with `...\n",
       "58899                Why cast free's return value to void?\n",
       "58900    Is there any need to switch to modules when mi...\n",
       "58901    How to fix \"unexpected element <queries> found...\n",
       "58902    How can I make my class immune to the \"auto va...\n",
       "Name: Title, Length: 58898, dtype: object"
      ]
     },
     "execution_count": 15,
     "metadata": {},
     "output_type": "execute_result"
    }
   ],
   "source": [
    "df.Title"
   ]
  },
  {
   "cell_type": "code",
   "execution_count": 16,
   "metadata": {},
   "outputs": [],
   "source": [
    "df.Title=df.Title.map(token)"
   ]
  },
  {
   "cell_type": "code",
   "execution_count": 17,
   "metadata": {},
   "outputs": [],
   "source": [
    "df.Title=df.Title.apply(stemmer)"
   ]
  },
  {
   "cell_type": "code",
   "execution_count": 18,
   "metadata": {},
   "outputs": [
    {
     "data": {
      "text/plain": [
       "0                              [convert, decim, doubl, c#]\n",
       "1        [width, collaps, percentag, width, child, elem...\n",
       "2        [calcul, someon, age, base, datetim, type, bir...\n",
       "3                                [calcul, relat, time, c#]\n",
       "4                                [determin, user, timezon]\n",
       "                               ...                        \n",
       "58898    [npm, instal, fail, node, gyp, rebuild, gyp, x...\n",
       "58899                     [cast, free, return, valu, void]\n",
       "58900    [need, switch, modul, migrat, java, 9+, java, 11]\n",
       "58901               [fix, unexpect, element, found, error]\n",
       "58902    [make, class, immun, auto, valu, copi, proxi, ...\n",
       "Name: Title, Length: 58898, dtype: object"
      ]
     },
     "execution_count": 18,
     "metadata": {},
     "output_type": "execute_result"
    }
   ],
   "source": [
    "df.Title"
   ]
  },
  {
   "cell_type": "markdown",
   "metadata": {},
   "source": [
    "## Tags"
   ]
  },
  {
   "cell_type": "code",
   "execution_count": 19,
   "metadata": {},
   "outputs": [
    {
     "data": {
      "text/plain": [
       "'<c#><floating-point><type-conversion><double><decimal>'"
      ]
     },
     "execution_count": 19,
     "metadata": {},
     "output_type": "execute_result"
    }
   ],
   "source": [
    "df.Tags.iloc[0]"
   ]
  },
  {
   "cell_type": "code",
   "execution_count": 20,
   "metadata": {},
   "outputs": [],
   "source": [
    "df.Tags=df[\"Tags\"].map(lambda field:field[1:-1].split('><'))"
   ]
  },
  {
   "cell_type": "code",
   "execution_count": 21,
   "metadata": {},
   "outputs": [
    {
     "data": {
      "text/plain": [
       "0        [c#, floating-point, type-conversion, double, ...\n",
       "1                         [html, css, internet-explorer-7]\n",
       "2                                     [c#, .net, datetime]\n",
       "3        [c#, datetime, time, datediff, relative-time-s...\n",
       "4        [html, browser, timezone, user-agent, timezone...\n",
       "                               ...                        \n",
       "58898    [node.js, npm, terminal, macos-catalina, node-...\n",
       "58899                [c, casting, free, void, legacy-code]\n",
       "58900         [java, java-11, java-platform-module-system]\n",
       "58901    [android, android-gradle-plugin, android-manif...\n",
       "58902                               [c++, copy-assignment]\n",
       "Name: Tags, Length: 58898, dtype: object"
      ]
     },
     "execution_count": 21,
     "metadata": {},
     "output_type": "execute_result"
    }
   ],
   "source": [
    "df.Tags"
   ]
  },
  {
   "cell_type": "code",
   "execution_count": 22,
   "metadata": {},
   "outputs": [
    {
     "data": {
      "text/html": [
       "<div>\n",
       "<style scoped>\n",
       "    .dataframe tbody tr th:only-of-type {\n",
       "        vertical-align: middle;\n",
       "    }\n",
       "\n",
       "    .dataframe tbody tr th {\n",
       "        vertical-align: top;\n",
       "    }\n",
       "\n",
       "    .dataframe thead th {\n",
       "        text-align: right;\n",
       "    }\n",
       "</style>\n",
       "<table border=\"1\" class=\"dataframe\">\n",
       "  <thead>\n",
       "    <tr style=\"text-align: right;\">\n",
       "      <th></th>\n",
       "      <th>Id</th>\n",
       "      <th>Body</th>\n",
       "      <th>Title</th>\n",
       "      <th>Tags</th>\n",
       "    </tr>\n",
       "  </thead>\n",
       "  <tbody>\n",
       "    <tr>\n",
       "      <th>0</th>\n",
       "      <td>4</td>\n",
       "      <td>[want, use, track, bar, chang, form, opac, cod...</td>\n",
       "      <td>[convert, decim, doubl, c#]</td>\n",
       "      <td>[c#, floating-point, type-conversion, double, ...</td>\n",
       "    </tr>\n",
       "    <tr>\n",
       "      <th>1</th>\n",
       "      <td>6</td>\n",
       "      <td>[absolut, posit, div, contain, sever, children...</td>\n",
       "      <td>[width, collaps, percentag, width, child, elem...</td>\n",
       "      <td>[html, css, internet-explorer-7]</td>\n",
       "    </tr>\n",
       "    <tr>\n",
       "      <th>2</th>\n",
       "      <td>9</td>\n",
       "      <td>[given, datetim, repres, person, birthday, cal...</td>\n",
       "      <td>[calcul, someon, age, base, datetim, type, bir...</td>\n",
       "      <td>[c#, .net, datetime]</td>\n",
       "    </tr>\n",
       "    <tr>\n",
       "      <th>3</th>\n",
       "      <td>11</td>\n",
       "      <td>[given, specif, datetim, valu, display, relat,...</td>\n",
       "      <td>[calcul, relat, time, c#]</td>\n",
       "      <td>[c#, datetime, time, datediff, relative-time-s...</td>\n",
       "    </tr>\n",
       "    <tr>\n",
       "      <th>4</th>\n",
       "      <td>13</td>\n",
       "      <td>[standard, way, web, server, abl, determin, us...</td>\n",
       "      <td>[determin, user, timezon]</td>\n",
       "      <td>[html, browser, timezone, user-agent, timezone...</td>\n",
       "    </tr>\n",
       "    <tr>\n",
       "      <th>...</th>\n",
       "      <td>...</td>\n",
       "      <td>...</td>\n",
       "      <td>...</td>\n",
       "      <td>...</td>\n",
       "    </tr>\n",
       "    <tr>\n",
       "      <th>58898</th>\n",
       "      <td>60573595</td>\n",
       "      <td>[everi, time, tri, npm, instal, get, follow, e...</td>\n",
       "      <td>[npm, instal, fail, node, gyp, rebuild, gyp, x...</td>\n",
       "      <td>[node.js, npm, terminal, macos-catalina, node-...</td>\n",
       "    </tr>\n",
       "    <tr>\n",
       "      <th>58899</th>\n",
       "      <td>60625906</td>\n",
       "      <td>[read, book, program, posix, thread, butenhof,...</td>\n",
       "      <td>[cast, free, return, valu, void]</td>\n",
       "      <td>[c, casting, free, void, legacy-code]</td>\n",
       "    </tr>\n",
       "    <tr>\n",
       "      <th>58900</th>\n",
       "      <td>62950667</td>\n",
       "      <td>[current, migrat, java, 8, java, 11, howev, up...</td>\n",
       "      <td>[need, switch, modul, migrat, java, 9+, java, 11]</td>\n",
       "      <td>[java, java-11, java-platform-module-system]</td>\n",
       "    </tr>\n",
       "    <tr>\n",
       "      <th>58901</th>\n",
       "      <td>62969917</td>\n",
       "      <td>[sudden, get, build, error, android, project, ...</td>\n",
       "      <td>[fix, unexpect, element, found, error]</td>\n",
       "      <td>[android, android-gradle-plugin, android-manif...</td>\n",
       "    </tr>\n",
       "    <tr>\n",
       "      <th>58902</th>\n",
       "      <td>66930450</td>\n",
       "      <td>[fair, complex, math, librari, work, discov, n...</td>\n",
       "      <td>[make, class, immun, auto, valu, copi, proxi, ...</td>\n",
       "      <td>[c++, copy-assignment]</td>\n",
       "    </tr>\n",
       "  </tbody>\n",
       "</table>\n",
       "<p>58898 rows × 4 columns</p>\n",
       "</div>"
      ],
      "text/plain": [
       "             Id                                               Body  \\\n",
       "0             4  [want, use, track, bar, chang, form, opac, cod...   \n",
       "1             6  [absolut, posit, div, contain, sever, children...   \n",
       "2             9  [given, datetim, repres, person, birthday, cal...   \n",
       "3            11  [given, specif, datetim, valu, display, relat,...   \n",
       "4            13  [standard, way, web, server, abl, determin, us...   \n",
       "...         ...                                                ...   \n",
       "58898  60573595  [everi, time, tri, npm, instal, get, follow, e...   \n",
       "58899  60625906  [read, book, program, posix, thread, butenhof,...   \n",
       "58900  62950667  [current, migrat, java, 8, java, 11, howev, up...   \n",
       "58901  62969917  [sudden, get, build, error, android, project, ...   \n",
       "58902  66930450  [fair, complex, math, librari, work, discov, n...   \n",
       "\n",
       "                                                   Title  \\\n",
       "0                            [convert, decim, doubl, c#]   \n",
       "1      [width, collaps, percentag, width, child, elem...   \n",
       "2      [calcul, someon, age, base, datetim, type, bir...   \n",
       "3                              [calcul, relat, time, c#]   \n",
       "4                              [determin, user, timezon]   \n",
       "...                                                  ...   \n",
       "58898  [npm, instal, fail, node, gyp, rebuild, gyp, x...   \n",
       "58899                   [cast, free, return, valu, void]   \n",
       "58900  [need, switch, modul, migrat, java, 9+, java, 11]   \n",
       "58901             [fix, unexpect, element, found, error]   \n",
       "58902  [make, class, immun, auto, valu, copi, proxi, ...   \n",
       "\n",
       "                                                    Tags  \n",
       "0      [c#, floating-point, type-conversion, double, ...  \n",
       "1                       [html, css, internet-explorer-7]  \n",
       "2                                   [c#, .net, datetime]  \n",
       "3      [c#, datetime, time, datediff, relative-time-s...  \n",
       "4      [html, browser, timezone, user-agent, timezone...  \n",
       "...                                                  ...  \n",
       "58898  [node.js, npm, terminal, macos-catalina, node-...  \n",
       "58899              [c, casting, free, void, legacy-code]  \n",
       "58900       [java, java-11, java-platform-module-system]  \n",
       "58901  [android, android-gradle-plugin, android-manif...  \n",
       "58902                             [c++, copy-assignment]  \n",
       "\n",
       "[58898 rows x 4 columns]"
      ]
     },
     "execution_count": 22,
     "metadata": {},
     "output_type": "execute_result"
    }
   ],
   "source": [
    "df"
   ]
  },
  {
   "cell_type": "markdown",
   "metadata": {},
   "source": [
    "# Analyse univariée"
   ]
  },
  {
   "cell_type": "markdown",
   "metadata": {},
   "source": [
    "## Analyse et gestion des tags"
   ]
  },
  {
   "cell_type": "code",
   "execution_count": 23,
   "metadata": {},
   "outputs": [
    {
     "name": "stderr",
     "output_type": "stream",
     "text": [
      "C:\\Users\\thiba\\anaconda3\\lib\\site-packages\\seaborn\\_decorators.py:36: FutureWarning: Pass the following variable as a keyword arg: x. From version 0.12, the only valid positional argument will be `data`, and passing other arguments without an explicit keyword will result in an error or misinterpretation.\n",
      "  warnings.warn(\n"
     ]
    },
    {
     "data": {
      "image/png": "[encoded data removed]",
      "text/plain": [
       "<Figure size 432x288 with 1 Axes>"
      ]
     },
     "metadata": {
      "needs_background": "light"
     },
     "output_type": "display_data"
    }
   ],
   "source": [
    "sns.countplot(df.Tags.map(lambda field:len(field)))\n",
    "plt.title(\"nbr de tags par post\")\n",
    "plt.show()"
   ]
  },
  {
   "cell_type": "code",
   "execution_count": 24,
   "metadata": {},
   "outputs": [],
   "source": [
    "all_tags=[]\n",
    "for i in df.Tags:\n",
    "    for j in i:\n",
    "        all_tags.append(j)"
   ]
  },
  {
   "cell_type": "code",
   "execution_count": 25,
   "metadata": {},
   "outputs": [
    {
     "name": "stderr",
     "output_type": "stream",
     "text": [
      "C:\\Users\\thiba\\anaconda3\\lib\\site-packages\\seaborn\\_decorators.py:36: FutureWarning: Pass the following variables as keyword args: x, y. From version 0.12, the only valid positional argument will be `data`, and passing other arguments without an explicit keyword will result in an error or misinterpretation.\n",
      "  warnings.warn(\n"
     ]
    },
    {
     "data": {
      "image/png": "[encoded data removed]",
      "text/plain": [
       "<Figure size 720x720 with 1 Axes>"
      ]
     },
     "metadata": {
      "needs_background": "light"
     },
     "output_type": "display_data"
    }
   ],
   "source": [
    "#Affichage des 70 Tags les plus présent\n",
    "counter=collections.Counter(all_tags)\n",
    "common = counter.most_common(70)\n",
    "labels = [item[0] for item in common]\n",
    "number = [item[1] for item in common]\n",
    "\n",
    "plt.figure(figsize=(10,10))\n",
    "sns.barplot(number, labels)\n",
    "plt.title(\"Les 50 Tags les plus présent\")\n",
    "plt.show()"
   ]
  },
  {
   "cell_type": "code",
   "execution_count": 26,
   "metadata": {},
   "outputs": [],
   "source": [
    "liste=[]\n",
    "for i in range(0,len(labels)):\n",
    "    if number[i]>500:\n",
    "        liste.append(labels[i])    "
   ]
  },
  {
   "cell_type": "code",
   "execution_count": 29,
   "metadata": {},
   "outputs": [],
   "source": [
    "def tags_to_keep(list):\n",
    "    list = [x for x in list if x in liste]\n",
    "    return list"
   ]
  },
  {
   "cell_type": "code",
   "execution_count": 30,
   "metadata": {},
   "outputs": [],
   "source": [
    "df.Tags=df.Tags.apply(tags_to_keep)"
   ]
  },
  {
   "cell_type": "code",
   "execution_count": 31,
   "metadata": {},
   "outputs": [],
   "source": [
    "df=df.reset_index()\n",
    "df=df.drop(['index'],axis=1)"
   ]
  },
  {
   "cell_type": "code",
   "execution_count": 32,
   "metadata": {},
   "outputs": [],
   "source": [
    "index_to_drop=[]\n",
    "for i in range(0,len(df)-1):\n",
    "    if len(df.Tags[i])==0:\n",
    "        index_to_drop.append(i)"
   ]
  },
  {
   "cell_type": "code",
   "execution_count": 33,
   "metadata": {},
   "outputs": [],
   "source": [
    "df.Tags=df.Tags.drop(index=index_to_drop,axis=0)"
   ]
  },
  {
   "cell_type": "code",
   "execution_count": 34,
   "metadata": {},
   "outputs": [],
   "source": [
    "df=df.dropna()"
   ]
  },
  {
   "cell_type": "code",
   "execution_count": 35,
   "metadata": {},
   "outputs": [
    {
     "name": "stderr",
     "output_type": "stream",
     "text": [
      "C:\\Users\\thiba\\anaconda3\\lib\\site-packages\\seaborn\\_decorators.py:36: FutureWarning: Pass the following variable as a keyword arg: x. From version 0.12, the only valid positional argument will be `data`, and passing other arguments without an explicit keyword will result in an error or misinterpretation.\n",
      "  warnings.warn(\n"
     ]
    },
    {
     "data": {
      "image/png": "[encoded data removed]",
      "text/plain": [
       "<Figure size 432x288 with 1 Axes>"
      ]
     },
     "metadata": {
      "needs_background": "light"
     },
     "output_type": "display_data"
    }
   ],
   "source": [
    "sns.countplot(df.Tags.map(lambda field:len(field)))\n",
    "plt.title(\"nbr de tags par post\")\n",
    "plt.show()"
   ]
  },
  {
   "cell_type": "markdown",
   "metadata": {},
   "source": [
    "## Analyse du texte"
   ]
  },
  {
   "cell_type": "code",
   "execution_count": 40,
   "metadata": {},
   "outputs": [],
   "source": [
    "df[\"Document\"] = (df.Title + df.Body)\n",
    "df=df.drop([\"Title\", \"Body\"], axis=1)"
   ]
  },
  {
   "cell_type": "code",
   "execution_count": 41,
   "metadata": {},
   "outputs": [],
   "source": [
    "all_words=[]\n",
    "for i in df.Document:\n",
    "    for j in i:\n",
    "        all_words.append(j)"
   ]
  },
  {
   "cell_type": "code",
   "execution_count": 42,
   "metadata": {},
   "outputs": [
    {
     "data": {
      "image/png": "[encoded data removed]",
      "text/plain": [
       "<Figure size 720x720 with 1 Axes>"
      ]
     },
     "metadata": {
      "needs_background": "light"
     },
     "output_type": "display_data"
    }
   ],
   "source": [
    "#Affichage des 50 mots les plus présent dans df.Document\n",
    "counter=collections.Counter(all_words)\n",
    "common = counter.most_common(50)\n",
    "labels = [item[0] for item in common]\n",
    "number = [item[1] for item in common]\n",
    "\n",
    "plt.figure(figsize=(10,10))\n",
    "sns.barplot(number, labels)\n",
    "plt.title(\"Les 50 mots les plus présent dans df.Document\")\n",
    "plt.show()"
   ]
  },
  {
   "cell_type": "markdown",
   "metadata": {},
   "source": [
    "# Mettre en œuvre une approche non supervisée."
   ]
  },
  {
   "cell_type": "markdown",
   "metadata": {},
   "source": [
    "# LDA"
   ]
  },
  {
   "cell_type": "code",
   "execution_count": 43,
   "metadata": {},
   "outputs": [],
   "source": [
    "tfidf_vectorizer = TfidfVectorizer(\n",
    "    min_df=3,\n",
    "    max_df=0.85,\n",
    "    max_features=5000,\n",
    "    ngram_range=(1, 2),\n",
    "    preprocessor=' '.join\n",
    ")\n",
    "tfidf = tfidf_vectorizer.fit_transform(df.Document)"
   ]
  },
  {
   "cell_type": "code",
   "execution_count": 44,
   "metadata": {},
   "outputs": [],
   "source": [
    "from sklearn.decomposition import LatentDirichletAllocation"
   ]
  },
  {
   "cell_type": "code",
   "execution_count": 45,
   "metadata": {},
   "outputs": [],
   "source": [
    "lda =  LatentDirichletAllocation(n_components = 4)"
   ]
  },
  {
   "cell_type": "code",
   "execution_count": 46,
   "metadata": {},
   "outputs": [
    {
     "data": {
      "text/plain": [
       "LatentDirichletAllocation(n_components=4)"
      ]
     },
     "execution_count": 46,
     "metadata": {},
     "output_type": "execute_result"
    }
   ],
   "source": [
    "lda.fit(tfidf)"
   ]
  },
  {
   "cell_type": "code",
   "execution_count": 47,
   "metadata": {},
   "outputs": [
    {
     "data": {
      "text/plain": [
       "3174.4652554098575"
      ]
     },
     "execution_count": 47,
     "metadata": {},
     "output_type": "execute_result"
    }
   ],
   "source": [
    "lda.perplexity(tfidf)"
   ]
  },
  {
   "cell_type": "code",
   "execution_count": 48,
   "metadata": {},
   "outputs": [
    {
     "data": {
      "text/plain": [
       "-1825711.6031916481"
      ]
     },
     "execution_count": 48,
     "metadata": {},
     "output_type": "execute_result"
    }
   ],
   "source": [
    "lda.score(tfidf)"
   ]
  },
  {
   "cell_type": "code",
   "execution_count": 49,
   "metadata": {},
   "outputs": [
    {
     "data": {
      "text/html": [
       "\n",
       "<link rel=\"stylesheet\" type=\"text/css\" href=\"https://cdn.jsdelivr.net/gh/bmabey/pyLDAvis@3.3.1/pyLDAvis/js/ldavis.v1.0.0.css\">\n",
       "\n",
       "\n",
       "<div id=\"ldavis_el2314817041577976164693795207\"></div>\n",
       "<script type=\"text/javascript\">\n",
       "\n",
       "var ldavis_el2314817041577976164693795207_data = {\"mdsDat\": {\"x\": [-0.1472022547363696, 0.129666322053996, 0.07913758041932793, -0.06160164773695429], \"y\": [-0.10648002905203761, -0.06726505904781056, 0.02665139073811139, 0.14709369736173672], \"topics\": [1, 2, 3, 4], \"cluster\": [1, 1, 1, 1], \"Freq\": [28.669533215795575, 25.8530973447538, 23.983341814496537, 21.494027624954082]}, \"tinfo\": {\"Term\": [\"file\", \"string\", \"git\", \"android\", \"class\", \"array\", \"button\", \"instal\", \"column\", \"command\", \"date\", \"int\", \"jqueri\", \"div\", \"directori\", \"imag\", \"click\", \"tabl\", \"project\", \"page\", \"branch\", \"commit\", \"valu\", \"public\", \"view\", \"charact\", \"convert\", \"event\", \"static\", \"form\", \"git\", \"instal\", \"directori\", \"branch\", \"studio\", \"npm\", \"command line\", \"usr\", \"visual studio\", \"jar\", \"gradl\", \"maven\", \"pip\", \"exe\", \"repo\", \"ssh\", \"repositori\", \"use git\", \"file directori\", \"curl\", \"git repositori\", \"dir\", \"android studio\", \"certif\", \"deploy\", \"commit\", \"env\", \"sh\", \"dll\", \"gitignor\", \"folder\", \"py\", \"remot\", \"bin\", \"linux\", \"command\", \"master\", \"visual\", \"mac\", \"file\", \"packag\", \"eclips\", \"project\", \"shell\", \"node js\", \"path\", \"config\", \"node\", \"modul\", \"connect\", \"run\", \"version\", \"build\", \"xcode\", \"error\", \"github\", \"server\", \"script\", \"window\", \"local\", \"applic\", \"app\", \"use\", \"python\", \"get\", \"tri\", \"line\", \"work\", \"chang\", \"datetim\", \"regex\", \"datafram\", \"panda\", \"df\", \"csv\", \"plot\", \"decim\", \"regular express\", \"data frame\", \"convert string\", \"charact string\", \"substr\", \"varchar\", \"nan\", \"np\", \"mm\", \"concaten\", \"plt\", \"digit\", \"00 00\", \"column name\", \"dd\", \"panda datafram\", \"string contain\", \"occurr\", \"numpi array\", \"json object\", \"javascript object\", \"string format\", \"charact\", \"column\", \"comma\", \"array\", \"escap\", \"dictionari\", \"date\", \"00\", \"timestamp\", \"numpi\", \"dict\", \"convert\", \"string\", \"queri\", \"tabl\", \"sql\", \"row\", \"json\", \"split\", \"join\", \"number\", \"str\", \"valu\", \"random\", \"insert\", \"list\", \"key\", \"var\", \"format\", \"select\", \"data\", \"object\", \"index\", \"function\", \"javascript\", \"name\", \"return\", \"way\", \"python\", \"like\", \"id\", \"get\", \"use\", \"want\", \"std\", \"td\", \"myclass\", \"li\", \"await\", \"static void\", \"cout\", \"ul\", \"ptr\", \"int main\", \"uitableview\", \"public static\", \"mock\", \"uilabel\", \"async\", \"void main\", \"font size\", \"arraylist\", \"static method\", \"singleton\", \"li li\", \"tableview\", \"int int\", \"main string\", \"sizeof\", \"string arg\", \"td td\", \"flex\", \"abstract\", \"mockito\", \"enum\", \"std string\", \"thread\", \"static\", \"constructor\", \"assert\", \"pointer\", \"void\", \"class\", \"const\", \"inherit\", \"struct\", \"public\", \"interfac\", \"public class\", \"privat\", \"self\", \"int\", \"div div\", \"method\", \"div\", \"div class\", \"block\", \"catch\", \"java\", \"except\", \"declar\", \"implement\", \"differ\", \"compil\", \"use\", \"object\", \"return\", \"code\", \"type\", \"call\", \"function\", \"new\", \"foo\", \"exampl\", \"like\", \"would\", \"string\", \"one\", \"valu\", \"test\", \"android layout\", \"textview\", \"input type\", \"checkbox\", \"edittext\", \"html5\", \"canva\", \"onclick\", \"drawabl\", \"ifram\", \"button\", \"recyclerview\", \"textarea\", \"listview\", \"radio\", \"layout width\", \"layout height\", \"linearlayout\", \"wrap content\", \"imageview\", \"fragment\", \"click function\", \"webview\", \"android id\", \"parent android\", \"back button\", \"googl map\", \"widget\", \"anchor\", \"toolbar\", \"scroll\", \"layout\", \"focus\", \"video\", \"click\", \"safari\", \"react\", \"ng\", \"angularj\", \"cooki\", \"event\", \"submit\", \"form\", \"keyboard\", \"page\", \"activ\", \"jqueri\", \"android\", \"view\", \"imag\", \"browser\", \"html\", \"icon\", \"input\", \"screen\", \"model\", \"chrome\", \"control\", \"render\", \"text\", \"user\", \"compon\", \"id\", \"url\", \"app\", \"javascript\", \"link\", \"element\", \"color\", \"use\", \"chang\", \"div\", \"want\", \"get\", \"function\", \"like\"], \"Freq\": [1061.0, 983.0, 585.0, 679.0, 748.0, 561.0, 321.0, 361.0, 324.0, 369.0, 345.0, 444.0, 353.0, 474.0, 275.0, 381.0, 253.0, 415.0, 393.0, 352.0, 254.0, 269.0, 722.0, 400.0, 366.0, 238.0, 321.0, 242.0, 235.0, 274.0, 584.3252602163459, 360.97918810483213, 274.59712580771446, 253.28731084347106, 209.786195500053, 107.65548577292772, 109.53024370859357, 82.22537470626044, 154.36998143006522, 80.22524818285576, 74.7864740876966, 73.79661831430595, 71.07571249239402, 63.808496276373695, 91.15237049304268, 59.69730738869053, 170.48305216472173, 58.39934468262489, 56.67743289088817, 56.474270889696434, 53.257684932928065, 57.93008549083303, 71.04984094328682, 49.721520063835946, 51.65357241808618, 264.9561805666899, 46.0358737297673, 45.97286319507797, 52.211087419860576, 42.61786525439914, 195.01700206264263, 132.73083053079048, 134.68201784731352, 100.08603815673087, 134.90914895418163, 349.73682444183254, 117.72001995164348, 166.04566206740782, 92.2973290059775, 925.1737993844479, 201.71084815791158, 164.3099945631435, 352.46574724410334, 117.0240885994862, 100.96614329211984, 237.301564335312, 116.30168266377474, 195.53383501211442, 202.6830499453198, 173.0512014352492, 354.3749619352273, 267.91461854998204, 198.74755651408077, 145.33017687709588, 360.3057209141645, 144.38550311936265, 234.97812209370994, 235.27477333125378, 220.28714784503413, 164.158806276607, 214.18167834092617, 230.03248227401136, 369.97965693209954, 243.659580908588, 256.5367397825475, 222.36761803171154, 208.96221472371136, 199.81176418941112, 186.414558477762, 153.5478084750611, 104.16956096176511, 99.56547020542965, 95.8875052549944, 87.60400482052253, 83.2134948591455, 84.33345137374123, 75.18254187868108, 62.14959004595263, 57.246586923278755, 56.767158542803315, 52.97838264449724, 51.31934693871049, 48.997127854767605, 46.4349482456458, 46.168039656441834, 45.134322823647345, 49.37118911723122, 40.66896699138311, 47.496368599160476, 40.17171193331983, 36.419272808143084, 37.442483502543475, 33.42842666050637, 33.727284267343414, 34.2839632942931, 33.04871213772248, 32.2237733112403, 32.40868749224635, 33.179566620136036, 232.89152896142485, 314.3476556848256, 50.40076775525965, 522.927534457453, 64.90761874175814, 132.22187815225809, 323.4013904375318, 97.80581623959263, 63.18934119021725, 89.47954830200275, 66.83588436666734, 283.1190083651316, 787.3470977237133, 222.40636933791254, 349.8938332836003, 244.3377031924539, 202.20900068590942, 245.23475500064367, 97.68227135683424, 96.18286683433152, 285.00577505967806, 104.42930076733076, 457.18510284372957, 108.3857935299572, 122.8031787831144, 378.62028962606485, 238.03708368346784, 265.07869156402023, 165.2963836860829, 237.212670630302, 311.60611929551305, 309.43218745551883, 164.15436641721686, 324.7416818633661, 239.78902676673584, 280.22141160501315, 256.37909572587836, 285.2381636418548, 251.3202996068559, 296.878054077766, 231.10062179670854, 276.6949515666686, 310.09301724014557, 240.9808133779064, 169.17573070343212, 95.80824609250978, 63.94493653378344, 111.01422977401724, 48.18843562903675, 42.41868909346671, 42.168775808480866, 47.18354804423953, 40.403176076477166, 38.78073490826302, 36.27229374173339, 66.32919013087005, 57.505175216421414, 33.12617659581358, 68.10826987972614, 30.56111573469293, 31.48122630373743, 71.96743321230166, 29.51721031476948, 29.807721519931004, 28.75050829086613, 28.348203202399073, 39.34982965766527, 26.45052250426157, 26.25316851336188, 26.00005021052945, 25.308036166321525, 25.173565409326496, 47.40999522128054, 24.007497188474684, 120.32133866786056, 36.41425471022207, 184.8155269752566, 220.23410048354202, 111.73037947169468, 53.580071078108524, 95.6064526517489, 196.43185195651978, 621.6388654170514, 113.39143294238326, 60.615444214351086, 71.60331849769129, 324.63646299710047, 126.53866709936929, 78.39625543126009, 142.09340731407465, 179.89282905406253, 321.61312189792096, 72.3841763816272, 350.14928704251196, 293.71036589917935, 71.51172791099337, 109.2563895823913, 86.51526318154951, 340.70547382231473, 169.68821002351314, 108.89335145834384, 152.12567036622434, 270.558379655483, 153.25034504001692, 409.68630843090114, 255.14443543308386, 234.39586052075032, 255.15193068303458, 220.1352304686078, 193.95453282644377, 249.22432605939196, 186.71346522170663, 142.31665863613253, 155.84904722028713, 174.82142301956574, 157.52618808773252, 169.37863268047184, 154.55135720854585, 155.37529024558137, 147.23126817178868, 92.18784091621147, 74.16274320079151, 91.97234734075398, 71.21238433067084, 64.17272795391115, 62.11871296958807, 57.9532782497046, 60.12231310829092, 51.93680511461792, 56.404218130644374, 317.1732918150458, 41.76445697965692, 46.35194115427938, 38.9618824620068, 37.40695230804633, 35.41113160474091, 34.606445651508466, 34.0665567526582, 33.79790154325674, 38.12037828301359, 83.43960212398328, 33.98342280691181, 31.63740802114649, 31.1498117067382, 30.4265211467637, 29.93091768090547, 30.235880707548876, 44.944996100567735, 30.43095450993338, 29.381763834431755, 119.10257511245358, 181.9907330293724, 63.45617188572613, 58.49724004815637, 234.21121401446956, 40.351210250909865, 147.52163682826415, 94.88501123417828, 74.15549237494587, 56.0219033036276, 215.75522807791646, 95.23627005213572, 230.7257544375688, 66.53651061335209, 284.6853878258186, 175.92168682474104, 284.8054535389345, 501.2938467724936, 283.2690360575088, 291.59683245797333, 158.79697405205792, 279.98244266434796, 87.43641946205037, 234.42572732051772, 119.5386261499093, 171.9931407291017, 96.52676344507586, 180.70891582849484, 100.45667056294876, 271.62367407645513, 273.9896705585049, 129.3487828889271, 231.51909849520175, 165.6355270850582, 202.10595520570885, 209.1780136553698, 135.07894774044203, 170.2969575533981, 134.1082343079866, 276.79831946379585, 177.57400284883718, 173.0624273406173, 184.78747928421262, 173.0438064301186, 168.3392351276995, 166.2391409238783], \"Total\": [1061.0, 983.0, 585.0, 679.0, 748.0, 561.0, 321.0, 361.0, 324.0, 369.0, 345.0, 444.0, 353.0, 474.0, 275.0, 381.0, 253.0, 415.0, 393.0, 352.0, 254.0, 269.0, 722.0, 400.0, 366.0, 238.0, 321.0, 242.0, 235.0, 274.0, 585.152631381969, 361.8591490993265, 275.3531176120181, 254.20171512785208, 210.83985479014436, 108.40225401871444, 110.30649605492054, 82.97820766432301, 155.8077268006272, 80.97969661134913, 75.53277891151738, 74.54081415184937, 71.81872572888534, 64.55833163780422, 92.23083838339026, 60.44235130080753, 172.62982574633335, 59.14277603263898, 57.42479207905228, 57.25371670481886, 54.0006880874676, 58.7493661722331, 72.11037869830032, 50.473517309600894, 52.43501037953908, 269.06750127123104, 46.789789028853306, 46.74371141314119, 53.08796256541491, 43.36072992022056, 199.47525060271775, 135.5134007555551, 138.82291135076036, 102.65629864908014, 139.3416833368967, 369.5802594687087, 121.7893796998794, 174.9389385263093, 95.03388280488072, 1061.013414083688, 216.78578600705504, 174.85671055451485, 393.07964689394436, 122.68563254242956, 105.6030786526305, 275.9060872983356, 124.69466872451186, 225.75279470441814, 240.06101629381232, 199.56770522179116, 471.14564005081485, 337.9588255172573, 237.43566669721278, 167.2103382015115, 619.7677237089277, 166.7106406387993, 361.72507203918116, 375.77389073893875, 347.9591293354492, 210.79849918133087, 380.00081350624345, 448.0408581836786, 1366.5573020669422, 581.6960568188105, 849.2161763166935, 604.8957848512948, 469.05750250847234, 615.1903455389026, 471.2710462796732, 154.31386479552265, 104.93688390780835, 100.31508589204736, 96.64564869425655, 88.35976812951681, 83.98173154077654, 85.14070320681083, 75.94360984063758, 62.90511715292042, 57.99596458188116, 57.52269962742256, 53.728453035692326, 52.08028318353574, 49.74793617090409, 47.19513263385007, 46.92409382213059, 45.90489245893963, 50.26714901519796, 41.4259407945876, 48.38961450431075, 40.97402328402821, 37.19358148776728, 38.251610911125745, 34.177761769929944, 34.486412817079845, 35.06111362461264, 33.79904984950184, 32.99803538394603, 33.18867554701508, 33.99180115594923, 238.69239340550592, 324.05050027576664, 51.75038792428868, 561.1313271880441, 67.0082489534484, 138.55299608163742, 345.27667493709606, 102.16885857144382, 65.28116342277714, 94.02637114871624, 69.64790169183358, 321.4040837616063, 983.6518769131708, 254.33961840396276, 415.5743841975456, 285.0053611174762, 232.51066647046258, 299.164037757341, 109.08588372168198, 107.55541014668913, 387.63658969031843, 118.72762285841297, 722.2701726824121, 125.87755590308278, 148.59573112563982, 616.292412973532, 349.97820617947184, 406.1687331448117, 219.39655510070483, 374.7808533156243, 550.9494470180217, 625.6060618239953, 245.12840999849803, 777.836710343417, 488.78944865671104, 664.7624939939639, 573.345234048189, 737.6827738161646, 581.6960568188105, 804.0944709013532, 519.104096765792, 849.2161763166935, 1366.5573020669422, 708.8735261566605, 169.93107954976142, 96.72354549061346, 64.7100798159302, 112.41238841629243, 48.950646072230185, 43.166412451537816, 42.918138764582565, 48.03370180584084, 41.143847116875705, 39.523820369092014, 37.04593157479375, 67.8115732106874, 58.817746437303896, 33.89869511463729, 69.70853973221216, 31.306095742052925, 32.25179560377259, 73.75036454200145, 30.26338259134535, 30.57673959629474, 29.498640785550382, 29.10632016472376, 40.46178911743437, 27.205172605216475, 27.01048892884326, 26.752117359304677, 26.05679246810887, 25.929402784565035, 48.860522039716166, 24.751117577354023, 124.55478107099327, 37.54607116471519, 197.00387452915513, 235.63987679964998, 119.61465849851305, 56.11822622414532, 103.01127553298424, 219.95964627712763, 748.6856015845206, 127.55937849760082, 65.10076021868817, 77.98397195776218, 400.34775866804716, 147.68658535902574, 87.23936982547703, 170.8662617022965, 223.49401093637675, 444.7036454364819, 80.11435782871229, 563.090229079681, 474.2449049436382, 81.68900202141057, 140.71299436337813, 104.54700338617013, 629.8550988725315, 253.13133180645468, 148.28988144956438, 243.7127974865664, 620.3231245749464, 268.9873196995433, 1366.5573020669422, 625.6060618239953, 573.345234048189, 688.7837073882388, 538.251019440747, 430.8096922709864, 777.836710343417, 581.338478870931, 296.15762114188624, 481.8985243784135, 804.0944709013532, 604.316606940602, 983.6518769131708, 567.9206070628893, 722.2701726824121, 459.0942509068028, 92.90927652645593, 74.88792751427663, 92.87944743663813, 71.94579508383468, 64.89686013704359, 62.874348171188785, 58.68478300007446, 60.90215714980308, 52.66149872424492, 57.22853714206703, 321.981395587555, 42.50043486908129, 47.17521810437887, 39.68936049374253, 38.15188124815427, 36.13293314949115, 35.328292859733494, 34.788663733009535, 34.522107544487675, 38.951772756904646, 85.2827490333669, 34.74346658780399, 32.36247184411864, 31.871368872360158, 31.147871353244707, 30.65263469361031, 30.97368646376601, 46.04816832970634, 31.181447013478692, 30.120392052730228, 124.12944310437216, 192.15507042284287, 65.64958972294554, 60.41978126120631, 253.72514389505758, 41.56302770180889, 159.22404654863192, 100.66283618438307, 78.05301418252603, 58.37650043656753, 242.10105708753267, 104.77852362552142, 274.249069618205, 71.29767445868549, 352.179054163302, 207.7351087644858, 353.2712486473055, 679.9607742378863, 366.68536663301734, 381.24703363204446, 192.55354410783823, 383.3967221410235, 97.6978215405947, 328.4549908735974, 144.80380995628383, 234.71590671638492, 111.94662936571201, 262.70332519408316, 120.24929501354808, 492.7497105048137, 507.17872475241785, 178.97995446400247, 519.104096765792, 298.64772426501986, 448.0408581836786, 488.78944865671104, 225.3912685953334, 410.1550326108555, 230.31526683084456, 1366.5573020669422, 471.2710462796732, 474.2449049436382, 708.8735261566605, 849.2161763166935, 777.836710343417, 804.0944709013532], \"Category\": [\"Default\", \"Default\", \"Default\", \"Default\", \"Default\", \"Default\", \"Default\", \"Default\", \"Default\", \"Default\", \"Default\", \"Default\", \"Default\", \"Default\", \"Default\", \"Default\", \"Default\", \"Default\", \"Default\", \"Default\", \"Default\", \"Default\", \"Default\", \"Default\", \"Default\", \"Default\", \"Default\", \"Default\", \"Default\", \"Default\", \"Topic1\", \"Topic1\", \"Topic1\", \"Topic1\", \"Topic1\", \"Topic1\", \"Topic1\", \"Topic1\", \"Topic1\", \"Topic1\", \"Topic1\", \"Topic1\", \"Topic1\", \"Topic1\", \"Topic1\", \"Topic1\", \"Topic1\", \"Topic1\", \"Topic1\", \"Topic1\", \"Topic1\", \"Topic1\", \"Topic1\", \"Topic1\", \"Topic1\", \"Topic1\", \"Topic1\", \"Topic1\", \"Topic1\", \"Topic1\", \"Topic1\", \"Topic1\", \"Topic1\", \"Topic1\", \"Topic1\", \"Topic1\", \"Topic1\", \"Topic1\", \"Topic1\", \"Topic1\", \"Topic1\", \"Topic1\", \"Topic1\", \"Topic1\", \"Topic1\", \"Topic1\", \"Topic1\", \"Topic1\", \"Topic1\", \"Topic1\", \"Topic1\", \"Topic1\", \"Topic1\", \"Topic1\", \"Topic1\", \"Topic1\", \"Topic1\", \"Topic1\", \"Topic1\", \"Topic1\", \"Topic1\", \"Topic1\", \"Topic1\", \"Topic1\", \"Topic1\", \"Topic1\", \"Topic1\", \"Topic1\", \"Topic1\", \"Topic2\", \"Topic2\", \"Topic2\", \"Topic2\", \"Topic2\", \"Topic2\", \"Topic2\", \"Topic2\", \"Topic2\", \"Topic2\", \"Topic2\", \"Topic2\", \"Topic2\", \"Topic2\", \"Topic2\", \"Topic2\", \"Topic2\", \"Topic2\", \"Topic2\", \"Topic2\", \"Topic2\", \"Topic2\", \"Topic2\", \"Topic2\", \"Topic2\", \"Topic2\", \"Topic2\", \"Topic2\", \"Topic2\", \"Topic2\", \"Topic2\", \"Topic2\", \"Topic2\", \"Topic2\", \"Topic2\", \"Topic2\", \"Topic2\", \"Topic2\", \"Topic2\", \"Topic2\", \"Topic2\", \"Topic2\", \"Topic2\", \"Topic2\", \"Topic2\", \"Topic2\", \"Topic2\", \"Topic2\", \"Topic2\", \"Topic2\", \"Topic2\", \"Topic2\", \"Topic2\", \"Topic2\", \"Topic2\", \"Topic2\", \"Topic2\", \"Topic2\", \"Topic2\", \"Topic2\", \"Topic2\", \"Topic2\", \"Topic2\", \"Topic2\", \"Topic2\", \"Topic2\", \"Topic2\", \"Topic2\", \"Topic2\", \"Topic2\", \"Topic2\", \"Topic2\", \"Topic2\", \"Topic2\", \"Topic3\", \"Topic3\", \"Topic3\", \"Topic3\", \"Topic3\", \"Topic3\", \"Topic3\", \"Topic3\", \"Topic3\", \"Topic3\", \"Topic3\", \"Topic3\", \"Topic3\", \"Topic3\", \"Topic3\", \"Topic3\", \"Topic3\", \"Topic3\", \"Topic3\", \"Topic3\", \"Topic3\", \"Topic3\", \"Topic3\", \"Topic3\", \"Topic3\", \"Topic3\", \"Topic3\", \"Topic3\", \"Topic3\", \"Topic3\", \"Topic3\", \"Topic3\", \"Topic3\", \"Topic3\", \"Topic3\", \"Topic3\", \"Topic3\", \"Topic3\", \"Topic3\", \"Topic3\", \"Topic3\", \"Topic3\", \"Topic3\", \"Topic3\", \"Topic3\", \"Topic3\", \"Topic3\", \"Topic3\", \"Topic3\", \"Topic3\", \"Topic3\", \"Topic3\", \"Topic3\", \"Topic3\", \"Topic3\", \"Topic3\", \"Topic3\", \"Topic3\", \"Topic3\", \"Topic3\", \"Topic3\", \"Topic3\", \"Topic3\", \"Topic3\", \"Topic3\", \"Topic3\", \"Topic3\", \"Topic3\", \"Topic3\", \"Topic3\", \"Topic3\", \"Topic3\", \"Topic3\", \"Topic3\", \"Topic3\", \"Topic3\", \"Topic4\", \"Topic4\", \"Topic4\", \"Topic4\", \"Topic4\", \"Topic4\", \"Topic4\", \"Topic4\", \"Topic4\", \"Topic4\", \"Topic4\", \"Topic4\", \"Topic4\", \"Topic4\", \"Topic4\", \"Topic4\", \"Topic4\", \"Topic4\", \"Topic4\", \"Topic4\", \"Topic4\", \"Topic4\", \"Topic4\", \"Topic4\", \"Topic4\", \"Topic4\", \"Topic4\", \"Topic4\", \"Topic4\", \"Topic4\", \"Topic4\", \"Topic4\", \"Topic4\", \"Topic4\", \"Topic4\", \"Topic4\", \"Topic4\", \"Topic4\", \"Topic4\", \"Topic4\", \"Topic4\", \"Topic4\", \"Topic4\", \"Topic4\", \"Topic4\", \"Topic4\", \"Topic4\", \"Topic4\", \"Topic4\", \"Topic4\", \"Topic4\", \"Topic4\", \"Topic4\", \"Topic4\", \"Topic4\", \"Topic4\", \"Topic4\", \"Topic4\", \"Topic4\", \"Topic4\", \"Topic4\", \"Topic4\", \"Topic4\", \"Topic4\", \"Topic4\", \"Topic4\", \"Topic4\", \"Topic4\", \"Topic4\", \"Topic4\", \"Topic4\", \"Topic4\", \"Topic4\", \"Topic4\", \"Topic4\", \"Topic4\"], \"logprob\": [30.0, 29.0, 28.0, 27.0, 26.0, 25.0, 24.0, 23.0, 22.0, 21.0, 20.0, 19.0, 18.0, 17.0, 16.0, 15.0, 14.0, 13.0, 12.0, 11.0, 10.0, 9.0, 8.0, 7.0, 6.0, 5.0, 4.0, 3.0, 2.0, 1.0, -4.7104, -5.1921, -5.4656, -5.5463, -5.7348, -6.4019, -6.3847, -6.6714, -6.0415, -6.696, -6.7662, -6.7796, -6.8171, -6.925, -6.5683, -6.9916, -5.9422, -7.0136, -7.0435, -7.0471, -7.1057, -7.0216, -6.8175, -7.1744, -7.1363, -5.5013, -7.2515, -7.2528, -7.1256, -7.3286, -5.8078, -6.1925, -6.178, -6.4748, -6.1763, -5.2237, -6.3126, -5.9686, -6.5559, -4.2509, -5.774, -5.9791, -5.2159, -6.3185, -6.4661, -5.6115, -6.3247, -5.8051, -5.7692, -5.9273, -5.2105, -5.4902, -5.7888, -6.1019, -5.1939, -6.1084, -5.6214, -5.6201, -5.6859, -5.98, -5.714, -5.6427, -5.1674, -5.5851, -5.5336, -5.6765, -5.7387, -5.7835, -5.8529, -5.9435, -6.3314, -6.3767, -6.4143, -6.5046, -6.5561, -6.5427, -6.6575, -6.8479, -6.9301, -6.9385, -7.0076, -7.0394, -7.0857, -7.1394, -7.1452, -7.1678, -7.0781, -7.272, -7.1168, -7.2843, -7.3824, -7.3547, -7.4681, -7.4592, -7.4428, -7.4795, -7.5048, -7.499, -7.4755, -5.5269, -5.227, -7.0575, -4.718, -6.8045, -6.093, -5.1986, -6.3945, -6.8313, -6.4835, -6.7752, -5.3316, -4.3088, -5.573, -5.1198, -5.4789, -5.6682, -5.4753, -6.3957, -6.4112, -5.325, -6.329, -4.8524, -6.2918, -6.1669, -5.0409, -5.505, -5.3974, -5.8697, -5.5085, -5.2357, -5.2427, -5.8767, -5.1944, -5.4977, -5.3419, -5.4308, -5.3241, -5.4507, -5.2841, -5.5346, -5.3546, -5.2406, -5.4928, -5.7715, -6.34, -6.7444, -6.1927, -7.0273, -7.1548, -7.1607, -7.0484, -7.2035, -7.2445, -7.3113, -6.7078, -6.8505, -7.4021, -6.6813, -7.4827, -7.453, -6.6262, -7.5174, -7.5076, -7.5437, -7.5578, -7.2299, -7.6271, -7.6346, -7.6443, -7.6713, -7.6766, -7.0436, -7.724, -6.1122, -7.3074, -5.683, -5.5077, -6.1863, -6.9212, -6.3422, -5.6221, -4.47, -6.1716, -6.7978, -6.6313, -5.1197, -6.0618, -6.5406, -5.9459, -5.71, -5.129, -6.6204, -5.044, -5.2198, -6.6325, -6.2087, -6.4421, -5.0714, -5.7684, -6.212, -5.8777, -5.3019, -5.8703, -4.887, -5.3606, -5.4454, -5.3605, -5.5082, -5.6348, -5.384, -5.6728, -5.9443, -5.8535, -5.7386, -5.8428, -5.7703, -5.8619, -5.8566, -5.9104, -6.269, -6.4866, -6.2713, -6.5271, -6.6312, -6.6638, -6.7332, -6.6964, -6.8428, -6.7603, -5.0334, -7.0608, -6.9565, -7.1302, -7.171, -7.2258, -7.2488, -7.2645, -7.2724, -7.1521, -6.3687, -7.2669, -7.3385, -7.354, -7.3775, -7.3939, -7.3838, -6.9874, -7.3774, -7.4124, -6.0128, -5.5889, -6.6425, -6.7238, -5.3366, -7.0952, -5.7988, -6.2401, -6.4866, -6.7671, -5.4187, -6.2365, -5.3516, -6.5951, -5.1414, -5.6228, -5.141, -4.5756, -5.1464, -5.1174, -5.7252, -5.1581, -6.3219, -5.3357, -6.0092, -5.6454, -6.223, -5.5959, -6.1831, -5.1884, -5.1797, -5.9303, -5.3482, -5.683, -5.484, -5.4496, -5.887, -5.6553, -5.8942, -5.1695, -5.6134, -5.6392, -5.5736, -5.6393, -5.6668, -5.6794], \"loglift\": [30.0, 29.0, 28.0, 27.0, 26.0, 25.0, 24.0, 23.0, 22.0, 21.0, 20.0, 19.0, 18.0, 17.0, 16.0, 15.0, 14.0, 13.0, 12.0, 11.0, 10.0, 9.0, 8.0, 7.0, 6.0, 5.0, 4.0, 3.0, 2.0, 1.0, 1.2479, 1.2469, 1.2466, 1.2457, 1.2443, 1.2424, 1.2423, 1.2402, 1.2401, 1.24, 1.2394, 1.2393, 1.2389, 1.2377, 1.2376, 1.2369, 1.2368, 1.2367, 1.2362, 1.2356, 1.2355, 1.2353, 1.2345, 1.2343, 1.2343, 1.2339, 1.2331, 1.2327, 1.2327, 1.2321, 1.2267, 1.2286, 1.2191, 1.224, 1.217, 1.1941, 1.2154, 1.1972, 1.2201, 1.1123, 1.1773, 1.1871, 1.1403, 1.2021, 1.2044, 1.0986, 1.1797, 1.1056, 1.0801, 1.1068, 0.9645, 1.0171, 1.0715, 1.1091, 0.7069, 1.1056, 0.8179, 0.7811, 0.7922, 0.9993, 0.676, 0.5827, -0.0573, 0.3792, 0.0523, 0.2486, 0.4408, 0.1248, 0.3219, 1.3478, 1.3454, 1.3452, 1.3449, 1.3441, 1.3436, 1.3432, 1.3427, 1.3407, 1.3397, 1.3395, 1.3387, 1.338, 1.3375, 1.3365, 1.3365, 1.3358, 1.3348, 1.3343, 1.3341, 1.333, 1.3317, 1.3314, 1.3306, 1.3305, 1.3303, 1.3303, 1.329, 1.329, 1.3286, 1.3281, 1.3223, 1.3263, 1.2822, 1.3209, 1.306, 1.2873, 1.3091, 1.3202, 1.3032, 1.3115, 1.2259, 1.1301, 1.2186, 1.1807, 1.1988, 1.2131, 1.154, 1.2423, 1.241, 1.0452, 1.2244, 0.8954, 1.2031, 1.1621, 0.8656, 0.9673, 0.926, 1.0696, 0.8954, 0.7828, 0.6488, 0.9518, 0.4793, 0.6406, 0.4889, 0.5479, 0.4026, 0.5135, 0.3563, 0.5435, 0.2313, -0.1304, 0.2738, 1.4234, 1.4183, 1.4159, 1.4153, 1.4121, 1.4103, 1.4102, 1.41, 1.4096, 1.4088, 1.4067, 1.4057, 1.4052, 1.4048, 1.4046, 1.4037, 1.4036, 1.4033, 1.4028, 1.4023, 1.4021, 1.4014, 1.3999, 1.3997, 1.3994, 1.3993, 1.3987, 1.3982, 1.3977, 1.3973, 1.3932, 1.3972, 1.3639, 1.3602, 1.3596, 1.3815, 1.3532, 1.3147, 1.2419, 1.3101, 1.3564, 1.3424, 1.2182, 1.2733, 1.3209, 1.2434, 1.2108, 1.1038, 1.3263, 0.9527, 0.9487, 1.2948, 1.1748, 1.2385, 0.8133, 1.0279, 1.119, 0.9565, 0.5981, 0.8652, 0.2232, 0.5309, 0.5333, 0.4347, 0.5337, 0.6298, 0.2896, 0.2921, 0.695, 0.299, -0.0981, 0.0833, -0.3313, 0.1264, -0.1087, 0.2906, 1.5296, 1.5277, 1.5276, 1.5271, 1.5262, 1.5253, 1.5249, 1.5245, 1.5235, 1.5229, 1.5223, 1.5199, 1.5198, 1.5189, 1.5177, 1.5172, 1.5168, 1.5164, 1.5162, 1.5158, 1.5155, 1.5153, 1.5147, 1.5145, 1.514, 1.5136, 1.5133, 1.5131, 1.513, 1.5126, 1.4961, 1.483, 1.5034, 1.5051, 1.4574, 1.5078, 1.4611, 1.4783, 1.4862, 1.4962, 1.4222, 1.4419, 1.3646, 1.4683, 1.3246, 1.3712, 1.322, 1.2326, 1.2793, 1.2693, 1.3446, 1.2231, 1.4264, 1.2001, 1.3457, 1.2265, 1.3892, 1.1633, 1.3576, 0.9418, 0.9216, 1.2126, 0.73, 0.9479, 0.7413, 0.6886, 1.0254, 0.6584, 0.9966, -0.0594, 0.5613, 0.5293, 0.1929, -0.0534, 0.0069, -0.0389]}, \"token.table\": {\"Topic\": [1, 2, 2, 3, 4, 1, 3, 4, 4, 1, 3, 4, 4, 4, 1, 4, 2, 4, 1, 2, 3, 4, 1, 2, 3, 4, 2, 3, 4, 2, 3, 1, 2, 3, 1, 3, 4, 3, 4, 1, 2, 1, 2, 3, 4, 1, 1, 2, 3, 4, 1, 2, 3, 4, 3, 4, 1, 2, 3, 4, 4, 1, 2, 3, 4, 1, 1, 2, 3, 4, 1, 2, 3, 4, 2, 4, 1, 2, 3, 4, 1, 2, 3, 4, 1, 3, 4, 4, 1, 2, 3, 4, 2, 3, 4, 2, 3, 4, 2, 2, 3, 1, 2, 4, 1, 1, 4, 1, 2, 3, 1, 2, 3, 4, 2, 1, 4, 1, 2, 3, 4, 2, 3, 4, 2, 3, 4, 1, 2, 3, 4, 1, 2, 3, 4, 2, 1, 4, 3, 2, 1, 1, 2, 3, 4, 2, 2, 1, 2, 4, 2, 2, 2, 1, 2, 3, 4, 1, 2, 2, 3, 2, 3, 1, 2, 3, 4, 2, 1, 1, 2, 3, 4, 3, 4, 2, 3, 4, 1, 4, 1, 3, 4, 4, 2, 3, 4, 2, 3, 1, 1, 2, 3, 4, 1, 2, 1, 2, 3, 4, 1, 2, 3, 4, 1, 2, 3, 4, 1, 1, 2, 3, 4, 1, 3, 3, 4, 1, 4, 3, 1, 2, 3, 4, 1, 2, 3, 4, 1, 2, 3, 4, 3, 4, 1, 2, 3, 4, 1, 2, 3, 4, 1, 1, 1, 4, 1, 4, 1, 1, 2, 3, 4, 4, 1, 3, 4, 1, 2, 3, 4, 4, 1, 2, 3, 4, 4, 1, 2, 3, 4, 1, 2, 3, 4, 1, 3, 4, 1, 2, 3, 4, 4, 1, 2, 3, 4, 1, 2, 3, 4, 2, 3, 3, 1, 2, 3, 4, 1, 1, 2, 3, 4, 1, 2, 3, 4, 2, 1, 2, 3, 2, 3, 4, 1, 2, 3, 4, 2, 1, 2, 3, 4, 1, 4, 3, 4, 4, 4, 2, 3, 3, 1, 2, 3, 4, 1, 2, 3, 4, 4, 1, 2, 3, 4, 1, 2, 3, 1, 2, 3, 4, 4, 1, 2, 3, 4, 1, 4, 3, 1, 4, 1, 1, 2, 3, 4, 2, 1, 3, 3, 1, 2, 3, 4, 1, 2, 3, 4, 3, 1, 2, 3, 4, 2, 1, 2, 3, 4, 1, 2, 3, 4, 1, 2, 3, 4, 1, 2, 2, 1, 1, 2, 3, 4, 1, 2, 2, 1, 2, 3, 4, 2, 4, 1, 2, 3, 4, 1, 2, 3, 4, 1, 2, 3, 4, 2, 2, 4, 1, 2, 3, 4, 1, 2, 2, 1, 2, 3, 4, 1, 2, 3, 4, 1, 2, 3, 4, 3, 1, 2, 3, 4, 2, 3, 4, 2, 3, 1, 4, 1, 2, 3, 1, 2, 3, 4, 4, 1, 2, 3, 4, 1, 2, 4, 4, 2, 2, 1, 4, 1, 2, 3, 4, 1, 4, 1, 4, 1, 2, 3, 4, 2, 3, 4, 1, 2, 3, 4, 3, 4, 1, 2, 3, 4, 1, 2, 3, 4, 3, 4, 1, 2, 3, 4, 1, 2, 3, 4, 1, 2, 3, 4, 1, 1, 2, 3, 3, 1, 2, 3, 4, 1, 2, 1, 1, 2, 3, 4, 3, 3, 3, 2, 3, 2, 3, 1, 2, 3, 4, 3, 2, 2, 2, 3, 1, 3, 1, 2, 3, 4, 2, 1, 2, 3, 4, 3, 3, 3, 1, 2, 3, 4, 1, 2, 3, 4, 4, 4, 1, 3, 4, 1, 2, 4, 1, 2, 3, 4, 1, 2, 3, 4, 3, 3, 3, 1, 2, 3, 4, 1, 2, 3, 4, 1, 1, 2, 3, 4, 1, 1, 2, 3, 4, 1, 2, 3, 4, 2, 1, 2, 3, 4, 1, 4, 1, 2, 3, 4, 1, 3, 4, 1, 3, 3, 4, 3, 1, 2, 3, 4, 1, 2, 3, 4, 4, 3, 4, 1, 2, 3, 4, 1, 2, 3, 4, 1, 2, 3, 4, 4, 1, 3, 4], \"Freq\": [0.03915087293652118, 0.9591963869447689, 0.9762282732824069, 0.9619217732016075, 0.02046642070641718, 0.11071792407549001, 0.04332440507301783, 0.8472328103167932, 0.9621105777109064, 0.2558971143519605, 0.0058826922839531155, 0.7368072085651277, 0.9726598228068002, 0.9902132859015751, 0.9846016798366017, 0.013867629293473264, 0.03843541510113288, 0.9480735724946111, 0.5133460393152567, 0.004463878602741362, 0.031247150219189532, 0.4508517388768776, 0.5631566891276772, 0.03947359970521102, 0.10526293254722939, 0.29210463781856155, 0.9320456275732656, 0.06593821839428457, 0.0017821140106563395, 0.013559255011281898, 0.9762663608122967, 0.017819522591570117, 0.017819522591570117, 0.9622542199447862, 0.014345444673515407, 0.9754902377990476, 0.014345444673515407, 0.9805794989747951, 0.978708691760635, 0.9741243481010315, 0.01948248696202063, 0.06395997783089132, 0.04974664942402658, 0.7746263981741282, 0.10659996305148553, 0.9952725923692227, 0.07270704917360234, 0.046740245897315784, 0.057126967207830406, 0.8257443441859121, 0.8381217648053381, 0.04632833875808401, 0.042116671598258194, 0.07581000887686475, 0.012423078025054081, 0.9845289334855359, 0.16248473805452096, 0.15784231696724893, 0.45031484546538664, 0.22979984381996535, 0.9883311658479917, 0.04782537842362891, 0.03826030273890313, 0.8321615845711431, 0.08608568116253204, 0.9906184998620886, 0.3946773337091864, 0.10185221515075778, 0.12731526893844722, 0.3777019645173934, 0.00837898506720435, 0.9761517603293066, 0.004189492533602175, 0.00837898506720435, 0.9864419503161871, 0.9868540603000829, 0.026798484393839785, 0.08039545318151936, 0.026798484393839785, 0.866484328734153, 0.03873455017516606, 0.02938483116736736, 0.8307893175501135, 0.10151123494181451, 0.06700163704323807, 0.007882545534498596, 0.9222578275363358, 0.9786012548308877, 0.2526192157764316, 0.20906417857359855, 0.37021781622408073, 0.1669609759441933, 0.06946999311057928, 0.3473499655528964, 0.5818111923011015, 0.9689847716105555, 0.021601571341636587, 0.009257816289272823, 0.9679089391227397, 0.96617633230403, 0.0193235266460806, 0.9470202778231274, 0.04870390000233227, 0.0027057722223517927, 0.9972214142785576, 0.9848829708083889, 0.014866158049937947, 0.4089412100275549, 0.022305884183321176, 0.56880004667469, 0.0670466144431471, 0.03911052509183581, 0.17320375397813004, 0.7207511052638315, 0.9747917071084568, 0.9302723298963085, 0.06415671240664197, 0.8668737249232539, 0.020043323119612808, 0.030064984679419208, 0.08017329247845123, 0.07055537668811451, 0.8858619517507711, 0.03919743149339695, 0.025080538101751915, 0.9363400891320715, 0.033440717469002554, 0.1636827397149691, 0.03045260273766867, 0.1180038356084661, 0.6889901369397536, 0.031113481456001842, 0.8805115252048522, 0.0808950517856048, 0.006222696291200368, 0.9909131589649284, 0.03426036136190143, 0.9592901181332399, 0.9786072091891309, 0.988310177430673, 0.9781024398593613, 0.10164271931498685, 0.5662951504692124, 0.11253301067016401, 0.22143592422193564, 0.9828270020326153, 0.996859037808267, 0.04923587729491756, 0.9354816686034337, 0.014481140380858107, 0.997966062246328, 0.9672795241477868, 0.9875748618926902, 0.020230645345956023, 0.22253709880551625, 0.7350467809030689, 0.020230645345956023, 0.9917038181857817, 0.9959283717337345, 0.9619816013474523, 0.028715868696938873, 0.9527040463435644, 0.04330472937925293, 0.20311994669928976, 0.22085264045875158, 0.4368690917103772, 0.14024948700665246, 0.9712827944891572, 0.9872446934995653, 0.9987175826622903, 0.014760306177315533, 0.6199328594472524, 0.36479042409651247, 0.8813915976244746, 0.12241549967006592, 0.012482157095211823, 0.8987153108552514, 0.08737509966648277, 0.9795064170324049, 0.9874386650537849, 0.9379108155467099, 0.05718968387479938, 0.0057189683874799375, 0.9861802229699607, 0.35108675635006403, 0.23161973509205613, 0.4144774206910478, 0.032114383451247, 0.9634315035374101, 0.983120483224101, 0.5808627752436379, 0.15166972464694992, 0.20330197133527328, 0.06292680065139411, 0.014923535767883063, 0.9700298249123991, 0.028913545790380916, 0.008261013082965975, 0.07021861120521079, 0.8921894129603254, 0.1265826660886378, 0.3652221185508238, 0.32371960507913927, 0.18468618494899613, 0.19752592317663076, 0.09481244312478276, 0.6715881388005446, 0.035554666171793536, 0.9913515169360841, 0.8718080164885079, 0.06974464131908063, 0.012252436988487138, 0.046182262495066906, 0.9926026361842547, 0.9641564137713855, 0.0304647753084277, 0.9596404222154725, 0.9775648829155712, 0.02005261298288351, 0.9611867934687591, 0.11480373143499464, 0.39168331901351117, 0.47947440775791883, 0.013506321345293488, 0.021877922898162906, 0.09115801207567878, 0.04375584579632581, 0.8423000315792719, 0.14585461465113586, 0.7520628567949194, 0.05013752378632795, 0.05013752378632795, 0.011725700816805866, 0.973233167794887, 0.04628220746241959, 0.4178254840357324, 0.32011860161506883, 0.21598363482462474, 0.3026320119273828, 0.32618314126025305, 0.16839057473002234, 0.20371726872932772, 0.9980302038815979, 0.9814689752499683, 0.8637720990587222, 0.13196518180063813, 0.991680723067064, 0.9685640756741998, 0.9929463880556877, 0.05999007991398526, 0.12519668851614316, 0.08607272335484842, 0.7303140163441684, 0.9860937218973915, 0.04094257105147374, 0.06141385657721061, 0.8905009203695538, 0.019263958929054213, 0.4449974512611523, 0.08861421107364938, 0.44692384715405775, 0.978532787951276, 0.07082022315761463, 0.005245942456119602, 0.15737827368358806, 0.7659075985934619, 0.975565354551522, 0.08206380709696795, 0.11488932993575514, 0.6236849339369565, 0.1805403756133295, 0.1550207909406863, 0.6690370977440145, 0.08974887896566049, 0.08566938446722137, 0.03072160744792454, 0.9370090271616985, 0.03072160744792454, 0.0365346861318301, 0.20702988808037054, 0.04566835766478762, 0.7124263795706869, 0.9905313020166482, 0.04710767898225421, 0.8277492164024668, 0.06056701583432684, 0.06056701583432684, 0.9976257361421843, 0.26984262717751856, 0.7240777162596749, 0.006746065679437965, 0.02471467579195887, 0.9638723558863959, 0.9867467171897774, 0.06093986111278164, 0.0067710956791979604, 0.859929151258141, 0.07448205247117756, 0.9879019476196479, 0.2873676823828179, 0.16035434210311938, 0.541394362942215, 0.011113667274473622, 0.010229353382608764, 0.4910089623652207, 0.07160547367826135, 0.42758697139304636, 0.9641843030062709, 0.06508273261617496, 0.8925631901646852, 0.03719013292352855, 0.1698411637792297, 0.022645488503897294, 0.8067455279513411, 0.16378974012827388, 0.8189487006413694, 0.003342647757719875, 0.0133705910308795, 0.969754702898719, 0.14858068040195038, 0.6800423449166191, 0.02857320776960584, 0.1428660388480292, 0.05610281163262709, 0.9397220948465038, 0.05204130173611712, 0.9471516915973316, 0.9907073670092993, 0.9686454142871845, 0.008895816680780225, 0.9874356515666051, 0.9830961436774186, 0.20644340436008915, 0.36935958490931614, 0.21763611905431085, 0.20644340436008915, 0.44557436749713847, 0.37095665045216314, 0.13431189068095561, 0.04690256499969878, 0.9773298641459113, 0.195216080348691, 0.04880402008717275, 0.15972224755801992, 0.5989584283425746, 0.968841460552766, 0.00717660341150197, 0.02870641364600788, 0.11033723370357378, 0.6149678172596243, 0.2190518610291538, 0.05679122322978061, 0.9826311010012063, 0.7779941538337313, 0.08064573545837458, 0.0759018686667055, 0.0664141350833673, 0.9680757776559572, 0.02104512560121646, 0.9557006080165289, 0.9688857952210823, 0.03284358627868076, 0.9927447243768003, 0.05150151521435175, 0.18114326040909925, 0.6215700112076935, 0.14740088837211018, 0.9802876684713068, 0.017001671443939773, 0.9860969437485069, 0.9696531853559107, 0.05964657528267425, 0.15763737753278195, 0.05112563595657793, 0.7328007820442837, 0.8456183479267909, 0.04165607625255128, 0.07081532962933716, 0.04165607625255128, 0.9890267510417227, 0.20608864254192413, 0.421203065049188, 0.1684812260196752, 0.20458434588103416, 0.974676781965586, 0.22018153735255946, 0.2614655756061644, 0.32167146472600483, 0.1960991817046233, 0.009934152840362162, 0.029802458521086483, 0.009934152840362162, 0.9437445198344053, 0.8682063061794032, 0.08416285621126868, 0.026577744066716424, 0.026577744066716424, 0.9564115108066895, 0.037877683596304536, 0.9803066240206271, 0.9962892467287165, 0.07997181077453445, 0.7352247119594297, 0.1160881124146468, 0.06707313161735148, 0.04254125678926207, 0.9465429635610811, 0.976358807331573, 0.03676434964990908, 0.4939210452966046, 0.4076047461185572, 0.06074109942158891, 0.9697353131456798, 0.9851867783995891, 0.2500349489594687, 0.309902471949764, 0.2729254724557581, 0.16903771197259854, 0.9317954083642096, 0.01383854566877539, 0.04151563700632617, 0.01383854566877539, 0.08802340637108305, 0.04259197082471761, 0.06246822387625249, 0.8092474456696345, 0.9933194230368395, 0.9655401141286509, 0.9631476790106515, 0.85898793433917, 0.014497686655513417, 0.01812210831939177, 0.10873264991635063, 0.9886001078329346, 0.9866021401768317, 0.9897180175895184, 0.019415350306574927, 0.019415350306574927, 0.9319368147155965, 0.02912302545986239, 0.08778795679474033, 0.005852530452982689, 0.8310593243235418, 0.07023036543579227, 0.8954928162306304, 0.002544013682473382, 0.045792246284520874, 0.05342428733194102, 0.9721988293018292, 0.03996525434095556, 0.047458739529884726, 0.8117942288006598, 0.0999131358523889, 0.011462714620709745, 0.89409174041536, 0.08023900234496821, 0.01474674532167314, 0.9732851912304272, 0.9814527512294605, 0.01475868798841294, 0.41946304627607667, 0.43149682219383295, 0.14784353270386308, 0.039317508073465735, 0.8728486792309393, 0.01179525242203972, 0.07077151453223832, 0.9698080091867031, 0.031776911867273064, 0.8579766204163728, 0.10327496356863747, 0.007944227966818266, 0.025121833584214787, 0.04396320877237588, 0.9295078426159471, 0.9882251823864195, 0.9910719294025212, 0.9856113907121402, 0.9724619566499285, 0.028813687604442327, 0.016632114140666412, 0.09147662777366526, 0.058212399492332444, 0.8316057070333206, 0.9866548065162994, 0.010842360511168126, 0.9847660985871718, 0.011585483512790257, 0.041859596234095194, 0.44650235983034875, 0.40813106328242815, 0.10116069089906338, 0.868777347148766, 0.0903184370798222, 0.038707901605638084, 0.7513600252393713, 0.05093966272809297, 0.1294716427672363, 0.06791955030412396, 0.02405984489807701, 0.9623937959230803, 0.07596485205272495, 0.006905895641156813, 0.09668253897619539, 0.8287074769388175, 0.6253760726640305, 0.16233166141491853, 0.002661174777293747, 0.21023280740620598, 0.04028053195885068, 0.9586766606206462, 0.061369196949424706, 0.6323695511745068, 0.03201871145187376, 0.27482727329524975, 0.053692713955615146, 0.026846356977807573, 0.8053907093342272, 0.11185982074086488, 0.6496646712245188, 0.2598658684898075, 0.002764530515849016, 0.08846497650716852, 0.9840895942864283, 0.9536568999596327, 0.04075456837434328, 0.9811379629120226, 0.9625890174922305, 0.07333671165382799, 0.8983747177593929, 0.018334177913456998, 0.009167088956728499, 0.14034823711092376, 0.856124246376635, 0.9926814346019391, 0.046681402780364804, 0.008487527778248146, 0.933628055607296, 0.008487527778248146, 0.9912969876863443, 0.9729787029939695, 0.994520840141613, 0.026633945150026078, 0.9588220254009387, 0.8759545377576017, 0.117916957005831, 0.01016619826048756, 0.800079803100371, 0.17180875060223977, 0.017282537042828852, 0.9718856885530565, 0.9858955229800258, 0.9708223417935696, 0.07693888691960614, 0.9232666430352736, 0.9960166222321662, 0.004742936296343649, 0.06680758382336069, 0.009543940546194384, 0.019087881092388768, 0.9066743518884665, 0.9792573481267618, 0.01684415658466695, 0.8422078292333474, 0.09143970717390629, 0.050532469754000844, 0.9619903801489618, 0.9925194482176661, 0.9594427261374443, 0.39207635391744516, 0.21346379268838683, 0.3201956890325802, 0.07405886685107298, 0.05073569698171496, 0.2536784849085748, 0.14408937942807049, 0.5520043831610588, 0.9750882316690385, 0.9881432489354529, 0.055836465279123636, 0.9390678251488975, 0.005076042298102149, 0.015318354446653316, 0.9650563301391589, 0.9628028728587326, 0.3670053677999684, 0.24467024519997893, 0.1967281025594425, 0.19176857056214563, 0.09660919928034505, 0.26567529802094886, 0.40873122772453674, 0.23037578289928434, 0.9734887991529432, 0.9717666277960356, 0.978479655596414, 0.21429930583769133, 0.19420874591540777, 0.03348426653713927, 0.5558388245165119, 0.27075337378123, 0.22684742127616567, 0.3000240087846062, 0.2026991473983803, 0.9806776734320297, 0.30758387997476094, 0.12027318383628473, 0.031547064612795994, 0.5402434814941314, 0.9882112702617027, 0.011076187696203901, 0.6327272221456479, 0.21460113661395058, 0.14122139312659976, 0.05662671230727105, 0.6524382070185577, 0.16988013692181314, 0.12063951752418615, 0.9849654834255912, 0.7929960094689553, 0.04438410500759078, 0.07693244867982403, 0.08580926968134218, 0.016550870908929777, 0.9599505127179271, 0.07363260838009358, 0.0272713364370717, 0.1254481476105298, 0.771778821169129, 0.9489025222079706, 0.0342976815255893, 0.01714884076279465, 0.9883977076249859, 0.006418166932629778, 0.8910725367918585, 0.10456463441945278, 0.9902224875124958, 0.24122779831702887, 0.33997601985031556, 0.15799715445325868, 0.2609774426236862, 0.22638457332557624, 0.386344930525684, 0.18707228214927857, 0.20062824462386397, 0.9887996242726894, 0.021716390385823132, 0.9772375673620409, 0.6322581632508614, 0.008621702226148109, 0.051730213356888655, 0.3075073793992826, 0.3251026311617445, 0.21944427603417752, 0.2031891444760903, 0.251954539150352, 0.22835712011727646, 0.32267853929615153, 0.26145235491688174, 0.18864283835775011, 0.9848761393314458, 0.867171262014045, 0.09568786339465324, 0.035882948772994964], \"Term\": [\"00\", \"00\", \"00 00\", \"abstract\", \"abstract\", \"activ\", \"activ\", \"activ\", \"anchor\", \"android\", \"android\", \"android\", \"android id\", \"android layout\", \"android studio\", \"android studio\", \"angularj\", \"angularj\", \"app\", \"app\", \"app\", \"app\", \"applic\", \"applic\", \"applic\", \"applic\", \"array\", \"array\", \"array\", \"arraylist\", \"arraylist\", \"assert\", \"assert\", \"assert\", \"async\", \"async\", \"async\", \"await\", \"back button\", \"bin\", \"bin\", \"block\", \"block\", \"block\", \"block\", \"branch\", \"browser\", \"browser\", \"browser\", \"browser\", \"build\", \"build\", \"build\", \"build\", \"button\", \"button\", \"call\", \"call\", \"call\", \"call\", \"canva\", \"catch\", \"catch\", \"catch\", \"catch\", \"certif\", \"chang\", \"chang\", \"chang\", \"chang\", \"charact\", \"charact\", \"charact\", \"charact\", \"charact string\", \"checkbox\", \"chrome\", \"chrome\", \"chrome\", \"chrome\", \"class\", \"class\", \"class\", \"class\", \"click\", \"click\", \"click\", \"click function\", \"code\", \"code\", \"code\", \"code\", \"color\", \"color\", \"color\", \"column\", \"column\", \"column\", \"column name\", \"comma\", \"comma\", \"command\", \"command\", \"command\", \"command line\", \"commit\", \"commit\", \"compil\", \"compil\", \"compil\", \"compon\", \"compon\", \"compon\", \"compon\", \"concaten\", \"config\", \"config\", \"connect\", \"connect\", \"connect\", \"connect\", \"const\", \"const\", \"const\", \"constructor\", \"constructor\", \"constructor\", \"control\", \"control\", \"control\", \"control\", \"convert\", \"convert\", \"convert\", \"convert\", \"convert string\", \"cooki\", \"cooki\", \"cout\", \"csv\", \"curl\", \"data\", \"data\", \"data\", \"data\", \"data frame\", \"datafram\", \"date\", \"date\", \"date\", \"datetim\", \"dd\", \"decim\", \"declar\", \"declar\", \"declar\", \"declar\", \"deploy\", \"df\", \"dict\", \"dict\", \"dictionari\", \"dictionari\", \"differ\", \"differ\", \"differ\", \"differ\", \"digit\", \"dir\", \"directori\", \"div\", \"div\", \"div\", \"div class\", \"div class\", \"div div\", \"div div\", \"div div\", \"dll\", \"drawabl\", \"eclips\", \"eclips\", \"eclips\", \"edittext\", \"element\", \"element\", \"element\", \"enum\", \"enum\", \"env\", \"error\", \"error\", \"error\", \"error\", \"escap\", \"escap\", \"event\", \"event\", \"event\", \"event\", \"exampl\", \"exampl\", \"exampl\", \"exampl\", \"except\", \"except\", \"except\", \"except\", \"exe\", \"file\", \"file\", \"file\", \"file\", \"file directori\", \"flex\", \"focus\", \"focus\", \"folder\", \"folder\", \"font size\", \"foo\", \"foo\", \"foo\", \"foo\", \"form\", \"form\", \"form\", \"form\", \"format\", \"format\", \"format\", \"format\", \"fragment\", \"fragment\", \"function\", \"function\", \"function\", \"function\", \"get\", \"get\", \"get\", \"get\", \"git\", \"git repositori\", \"github\", \"github\", \"gitignor\", \"googl map\", \"gradl\", \"html\", \"html\", \"html\", \"html\", \"html5\", \"icon\", \"icon\", \"icon\", \"id\", \"id\", \"id\", \"id\", \"ifram\", \"imag\", \"imag\", \"imag\", \"imag\", \"imageview\", \"implement\", \"implement\", \"implement\", \"implement\", \"index\", \"index\", \"index\", \"index\", \"inherit\", \"inherit\", \"inherit\", \"input\", \"input\", \"input\", \"input\", \"input type\", \"insert\", \"insert\", \"insert\", \"insert\", \"instal\", \"int\", \"int\", \"int\", \"int int\", \"int int\", \"int main\", \"interfac\", \"interfac\", \"interfac\", \"interfac\", \"jar\", \"java\", \"java\", \"java\", \"java\", \"javascript\", \"javascript\", \"javascript\", \"javascript\", \"javascript object\", \"join\", \"join\", \"join\", \"jqueri\", \"jqueri\", \"jqueri\", \"json\", \"json\", \"json\", \"json\", \"json object\", \"key\", \"key\", \"key\", \"key\", \"keyboard\", \"keyboard\", \"layout\", \"layout\", \"layout height\", \"layout width\", \"li\", \"li\", \"li li\", \"like\", \"like\", \"like\", \"like\", \"line\", \"line\", \"line\", \"line\", \"linearlayout\", \"link\", \"link\", \"link\", \"link\", \"linux\", \"linux\", \"linux\", \"list\", \"list\", \"list\", \"list\", \"listview\", \"local\", \"local\", \"local\", \"local\", \"mac\", \"mac\", \"main string\", \"master\", \"master\", \"maven\", \"method\", \"method\", \"method\", \"method\", \"mm\", \"mock\", \"mock\", \"mockito\", \"model\", \"model\", \"model\", \"model\", \"modul\", \"modul\", \"modul\", \"modul\", \"myclass\", \"name\", \"name\", \"name\", \"name\", \"nan\", \"new\", \"new\", \"new\", \"new\", \"ng\", \"ng\", \"ng\", \"ng\", \"node\", \"node\", \"node\", \"node\", \"node js\", \"node js\", \"np\", \"npm\", \"number\", \"number\", \"number\", \"number\", \"numpi\", \"numpi\", \"numpi array\", \"object\", \"object\", \"object\", \"object\", \"occurr\", \"onclick\", \"one\", \"one\", \"one\", \"one\", \"packag\", \"packag\", \"packag\", \"packag\", \"page\", \"page\", \"page\", \"page\", \"panda\", \"panda datafram\", \"parent android\", \"path\", \"path\", \"path\", \"path\", \"pip\", \"plot\", \"plt\", \"pointer\", \"pointer\", \"pointer\", \"pointer\", \"privat\", \"privat\", \"privat\", \"privat\", \"project\", \"project\", \"project\", \"project\", \"ptr\", \"public\", \"public\", \"public\", \"public\", \"public class\", \"public class\", \"public class\", \"public static\", \"public static\", \"py\", \"py\", \"python\", \"python\", \"python\", \"queri\", \"queri\", \"queri\", \"queri\", \"radio\", \"random\", \"random\", \"random\", \"random\", \"react\", \"react\", \"react\", \"recyclerview\", \"regex\", \"regular express\", \"remot\", \"remot\", \"render\", \"render\", \"render\", \"render\", \"repo\", \"repo\", \"repositori\", \"repositori\", \"return\", \"return\", \"return\", \"return\", \"row\", \"row\", \"row\", \"run\", \"run\", \"run\", \"run\", \"safari\", \"safari\", \"screen\", \"screen\", \"screen\", \"screen\", \"script\", \"script\", \"script\", \"script\", \"scroll\", \"scroll\", \"select\", \"select\", \"select\", \"select\", \"self\", \"self\", \"self\", \"self\", \"server\", \"server\", \"server\", \"server\", \"sh\", \"shell\", \"shell\", \"singleton\", \"sizeof\", \"split\", \"split\", \"split\", \"split\", \"sql\", \"sql\", \"ssh\", \"static\", \"static\", \"static\", \"static\", \"static method\", \"static void\", \"std\", \"std string\", \"std string\", \"str\", \"str\", \"string\", \"string\", \"string\", \"string\", \"string arg\", \"string contain\", \"string format\", \"struct\", \"struct\", \"studio\", \"studio\", \"submit\", \"submit\", \"submit\", \"submit\", \"substr\", \"tabl\", \"tabl\", \"tabl\", \"tabl\", \"tableview\", \"td\", \"td td\", \"test\", \"test\", \"test\", \"test\", \"text\", \"text\", \"text\", \"text\", \"textarea\", \"textview\", \"thread\", \"thread\", \"thread\", \"timestamp\", \"timestamp\", \"toolbar\", \"tri\", \"tri\", \"tri\", \"tri\", \"type\", \"type\", \"type\", \"type\", \"uilabel\", \"uitableview\", \"ul\", \"url\", \"url\", \"url\", \"url\", \"use\", \"use\", \"use\", \"use\", \"use git\", \"user\", \"user\", \"user\", \"user\", \"usr\", \"valu\", \"valu\", \"valu\", \"valu\", \"var\", \"var\", \"var\", \"var\", \"varchar\", \"version\", \"version\", \"version\", \"version\", \"video\", \"video\", \"view\", \"view\", \"view\", \"view\", \"visual\", \"visual\", \"visual\", \"visual studio\", \"visual studio\", \"void\", \"void\", \"void main\", \"want\", \"want\", \"want\", \"want\", \"way\", \"way\", \"way\", \"way\", \"webview\", \"widget\", \"widget\", \"window\", \"window\", \"window\", \"window\", \"work\", \"work\", \"work\", \"work\", \"would\", \"would\", \"would\", \"would\", \"wrap content\", \"xcode\", \"xcode\", \"xcode\"]}, \"R\": 30, \"lambda.step\": 0.01, \"plot.opts\": {\"xlab\": \"PC1\", \"ylab\": \"PC2\"}, \"topic.order\": [3, 1, 4, 2]};\n",
       "\n",
       "function LDAvis_load_lib(url, callback){\n",
       "  var s = document.createElement('script');\n",
       "  s.src = url;\n",
       "  s.async = true;\n",
       "  s.onreadystatechange = s.onload = callback;\n",
       "  s.onerror = function(){console.warn(\"failed to load library \" + url);};\n",
       "  document.getElementsByTagName(\"head\")[0].appendChild(s);\n",
       "}\n",
       "\n",
       "if(typeof(LDAvis) !== \"undefined\"){\n",
       "   // already loaded: just create the visualization\n",
       "   !function(LDAvis){\n",
       "       new LDAvis(\"#\" + \"ldavis_el2314817041577976164693795207\", ldavis_el2314817041577976164693795207_data);\n",
       "   }(LDAvis);\n",
       "}else if(typeof define === \"function\" && define.amd){\n",
       "   // require.js is available: use it to load d3/LDAvis\n",
       "   require.config({paths: {d3: \"https://d3js.org/d3.v5\"}});\n",
       "   require([\"d3\"], function(d3){\n",
       "      window.d3 = d3;\n",
       "      LDAvis_load_lib(\"https://cdn.jsdelivr.net/gh/bmabey/pyLDAvis@3.3.1/pyLDAvis/js/ldavis.v3.0.0.js\", function(){\n",
       "        new LDAvis(\"#\" + \"ldavis_el2314817041577976164693795207\", ldavis_el2314817041577976164693795207_data);\n",
       "      });\n",
       "    });\n",
       "}else{\n",
       "    // require.js not available: dynamically load d3 & LDAvis\n",
       "    LDAvis_load_lib(\"https://d3js.org/d3.v5.js\", function(){\n",
       "         LDAvis_load_lib(\"https://cdn.jsdelivr.net/gh/bmabey/pyLDAvis@3.3.1/pyLDAvis/js/ldavis.v3.0.0.js\", function(){\n",
       "                 new LDAvis(\"#\" + \"ldavis_el2314817041577976164693795207\", ldavis_el2314817041577976164693795207_data);\n",
       "            })\n",
       "         });\n",
       "}\n",
       "</script>"
      ],
      "text/plain": [
       "PreparedData(topic_coordinates=              x         y  topics  cluster       Freq\n",
       "topic                                                \n",
       "2     -0.147202 -0.106480       1        1  28.669533\n",
       "0      0.129666 -0.067265       2        1  25.853097\n",
       "3      0.079138  0.026651       3        1  23.983342\n",
       "1     -0.061602  0.147094       4        1  21.494028, topic_info=          Term         Freq        Total Category  logprob  loglift\n",
       "1547      file  1061.000000  1061.000000  Default  30.0000  30.0000\n",
       "4049    string   983.000000   983.000000  Default  29.0000  29.0000\n",
       "1816       git   585.000000   585.000000  Default  28.0000  28.0000\n",
       "300    android   679.000000   679.000000  Default  27.0000  27.0000\n",
       "777      class   748.000000   748.000000  Default  26.0000  26.0000\n",
       "...        ...          ...          ...      ...      ...      ...\n",
       "1248       div   173.062427   474.244905   Topic4  -5.6392   0.5293\n",
       "4756      want   184.787479   708.873526   Topic4  -5.5736   0.1929\n",
       "1762       get   173.043806   849.216176   Topic4  -5.6393  -0.0534\n",
       "1720  function   168.339235   777.836710   Topic4  -5.6668   0.0069\n",
       "2432      like   166.239141   804.094471   Topic4  -5.6794  -0.0389\n",
       "\n",
       "[325 rows x 6 columns], token_table=      Topic      Freq          Term\n",
       "term                               \n",
       "0         1  0.039151            00\n",
       "0         2  0.959196            00\n",
       "1         2  0.976228         00 00\n",
       "188       3  0.961922      abstract\n",
       "188       4  0.020466      abstract\n",
       "...     ...       ...           ...\n",
       "4904      4  0.188643         would\n",
       "4928      4  0.984876  wrap content\n",
       "4954      1  0.867171         xcode\n",
       "4954      3  0.095688         xcode\n",
       "4954      4  0.035883         xcode\n",
       "\n",
       "[664 rows x 3 columns], R=30, lambda_step=0.01, plot_opts={'xlab': 'PC1', 'ylab': 'PC2'}, topic_order=[3, 1, 4, 2])"
      ]
     },
     "execution_count": 49,
     "metadata": {},
     "output_type": "execute_result"
    }
   ],
   "source": [
    "pyLDAvis.sklearn.prepare(lda,tfidf,tfidf_vectorizer)"
   ]
  },
  {
   "cell_type": "code",
   "execution_count": 50,
   "metadata": {},
   "outputs": [],
   "source": [
    "def plot_tsne_pca(data, labels):\n",
    "    max_items = np.random.choice(range(data.shape[0]), size=3000, replace=False)\n",
    "    pca = PCA(n_components=2).fit_transform(data[max_items,:].todense())\n",
    "    tsne = TSNE().fit_transform(PCA(n_components=50).fit_transform(data[max_items,:].todense()))\n",
    "    \n",
    "    idx = np.random.choice(range(pca.shape[0]), size=300, replace=False)\n",
    "    label_subset = labels[max_items]\n",
    "    label_subset = [cm.hsv(i/max(labels)) for i in label_subset[idx]]\n",
    "    \n",
    "    fig, ax = plt.subplots(1, 2, figsize=(15, 5))\n",
    "    \n",
    "    ax[0].scatter(pca[idx, 0], pca[idx, 1], c=label_subset)\n",
    "    ax[0].set_title('PCA Cluster Plot')\n",
    "    \n",
    "    ax[1].scatter(tsne[idx, 0], tsne[idx, 1], c=label_subset)\n",
    "    ax[1].set_title('TSNE Cluster Plot')"
   ]
  },
  {
   "cell_type": "code",
   "execution_count": 51,
   "metadata": {},
   "outputs": [
    {
     "data": {
      "image/png": "[encoded data removed]",
      "text/plain": [
       "<Figure size 1080x360 with 2 Axes>"
      ]
     },
     "metadata": {
      "needs_background": "light"
     },
     "output_type": "display_data"
    }
   ],
   "source": [
    "clusters = MiniBatchKMeans(n_clusters=4, random_state=20).fit_predict(tfidf)\n",
    "plot_tsne_pca(tfidf, clusters)"
   ]
  },
  {
   "cell_type": "code",
   "execution_count": 52,
   "metadata": {},
   "outputs": [
    {
     "name": "stdout",
     "output_type": "stream",
     "text": [
      "Topics found via LDA:\n",
      "\n",
      "Topic #0:\n",
      "file git use instal command project run date java error\n",
      "\n",
      "Topic #1:\n",
      "function use file jqueri html javascript input url data text\n",
      "\n",
      "Topic #2:\n",
      "string array valu list object use class int return method\n",
      "\n",
      "Topic #3:\n",
      "android div imag view app color css width text height\n"
     ]
    }
   ],
   "source": [
    "def print_topics(model, count_vectorizer, n_top_words):\n",
    "    words = count_vectorizer.get_feature_names()\n",
    "    for topic_idx, topic in enumerate(model.components_):\n",
    "        print(\"\\nTopic #%d:\" % topic_idx)\n",
    "        print(\" \".join([words[i] for i in topic.argsort()[:-n_top_words - 1:-1]]))\n",
    "\n",
    "number_topics = 4\n",
    "number_words = 10\n",
    "\n",
    "lda = LDA(n_components=number_topics, n_jobs=-1)\n",
    "lda.fit(tfidf)\n",
    "\n",
    "print(\"Topics found via LDA:\")\n",
    "print_topics(lda, tfidf_vectorizer, number_words)"
   ]
  },
  {
   "cell_type": "markdown",
   "metadata": {},
   "source": [
    "### SKLearn"
   ]
  },
  {
   "cell_type": "code",
   "execution_count": 53,
   "metadata": {},
   "outputs": [],
   "source": [
    "dict={}\n",
    "for i in [2,4,6,10]:\n",
    "    #,4,6,10,12\n",
    "    lda =  LatentDirichletAllocation(n_components = i).fit(tfidf)\n",
    "    perp=lda.perplexity(tfidf)\n",
    "    dict[i]=perp"
   ]
  },
  {
   "cell_type": "code",
   "execution_count": 54,
   "metadata": {},
   "outputs": [
    {
     "data": {
      "text/plain": [
       "{2: 2676.0546786550985,\n",
       " 4: 3265.5726896256006,\n",
       " 6: 3590.0673465874424,\n",
       " 10: 4265.133998181596}"
      ]
     },
     "execution_count": 54,
     "metadata": {},
     "output_type": "execute_result"
    }
   ],
   "source": [
    "dict"
   ]
  },
  {
   "cell_type": "raw",
   "metadata": {},
   "source": [
    "Extraires tags des mots clés et comparer avec df.Tags. Voir les lignes associées aux topics (dans lda transform sur X)."
   ]
  },
  {
   "cell_type": "markdown",
   "metadata": {},
   "source": [
    "### Ou avec Gensim"
   ]
  },
  {
   "cell_type": "code",
   "execution_count": 55,
   "metadata": {},
   "outputs": [],
   "source": [
    "id2word = corpora.Dictionary(df.Document)\n",
    "\n",
    "texts = df.Document\n",
    "\n",
    "corpus = [id2word.doc2bow(text) for text in texts]"
   ]
  },
  {
   "cell_type": "code",
   "execution_count": 56,
   "metadata": {},
   "outputs": [
    {
     "name": "stdout",
     "output_type": "stream",
     "text": [
      "Coherence Score:  0.382803299307991\n",
      "Coherence Score:  0.46230396709108396\n",
      "Coherence Score:  0.5394711859193847\n",
      "Coherence Score:  0.5759043258957474\n",
      "Coherence Score:  0.5582986711857185\n"
     ]
    }
   ],
   "source": [
    "dict={}\n",
    "for i in  np.arange(2,12,2) :\n",
    "    lda_model = gensim.models.LdaMulticore(corpus=corpus,\n",
    "                                       id2word=id2word,\n",
    "                                       num_topics=i, \n",
    "                                       random_state=100,\n",
    "                                       chunksize=100,\n",
    "                                       passes=10,\n",
    "                                       per_word_topics=True)\n",
    "    # Compute Coherence Score\n",
    "    coherence_model_lda = CoherenceModel(model=lda_model, texts=df.Document, dictionary=id2word, coherence='c_v')\n",
    "    coherence_lda = coherence_model_lda.get_coherence()\n",
    "    dict[i]=coherence_lda\n",
    "    print('Coherence Score: ', coherence_lda)"
   ]
  },
  {
   "cell_type": "code",
   "execution_count": 57,
   "metadata": {},
   "outputs": [
    {
     "data": {
      "image/png": "[encoded data removed]",
      "text/plain": [
       "<Figure size 432x288 with 1 Axes>"
      ]
     },
     "metadata": {
      "needs_background": "light"
     },
     "output_type": "display_data"
    }
   ],
   "source": [
    "plt.plot(*zip(*sorted(dict.items())))\n",
    "plt.show()"
   ]
  },
  {
   "cell_type": "code",
   "execution_count": 58,
   "metadata": {},
   "outputs": [
    {
     "data": {
      "image/png": "[encoded data removed]",
      "text/plain": [
       "<Figure size 720x720 with 1 Axes>"
      ]
     },
     "metadata": {
      "needs_background": "light"
     },
     "output_type": "display_data"
    }
   ],
   "source": [
    "keys = dict.keys()\n",
    "values = dict.values()\n",
    "\n",
    "plt.figure(figsize=(10,10))\n",
    "plt.bar(keys, values)\n",
    "plt.show()"
   ]
  },
  {
   "cell_type": "code",
   "execution_count": 59,
   "metadata": {},
   "outputs": [],
   "source": [
    "lda_model = gensim.models.LdaMulticore(corpus=corpus,\n",
    "                                       id2word=id2word,\n",
    "                                       num_topics=8, \n",
    "                                       random_state=100,\n",
    "                                       chunksize=100,\n",
    "                                       passes=10,\n",
    "                                       per_word_topics=True)"
   ]
  },
  {
   "cell_type": "code",
   "execution_count": 60,
   "metadata": {},
   "outputs": [],
   "source": [
    "vis = pyLDAvis.gensim_models.prepare(lda_model, corpus, id2word)"
   ]
  },
  {
   "cell_type": "code",
   "execution_count": 61,
   "metadata": {},
   "outputs": [
    {
     "data": {
      "text/html": [
       "\n",
       "<link rel=\"stylesheet\" type=\"text/css\" href=\"https://cdn.jsdelivr.net/gh/bmabey/pyLDAvis@3.3.1/pyLDAvis/js/ldavis.v1.0.0.css\">\n",
       "\n",
       "\n",
       "<div id=\"ldavis_el231481703957587104116104381\"></div>\n",
       "<script type=\"text/javascript\">\n",
       "\n",
       "var ldavis_el231481703957587104116104381_data = {\"mdsDat\": {\"x\": [0.14247789639235148, 0.013335144887987042, 0.03649530891253081, 0.13654537730037156, 0.08275659753442254, 0.11870067829274793, -0.13058327984074108, -0.3997277234796699], \"y\": [-0.020407851269605502, 0.13366148053572968, 0.22203003321568218, 0.0577044944561971, -0.09110037346193804, -0.1172895357617268, -0.24962282751620252, 0.06502457980186462], \"topics\": [1, 2, 3, 4, 5, 6, 7, 8], \"cluster\": [1, 1, 1, 1, 1, 1, 1, 1], \"Freq\": [21.68769442055764, 15.162273956213188, 13.307485308455055, 12.30129799268196, 11.525177477871617, 10.963815854326947, 9.30899194868637, 5.743263041207217]}, \"tinfo\": {\"Term\": [\"0\", \"android\", \"1\", \"java\", \"file\", \"2\", \"string\", \"class\", \"3\", \"public\", \"app\", \"div\", \"object\", \"4\", \"org\", \"git\", \"instal\", \"return\", \"com\", \"valu\", \"tabl\", \"5\", \"modul\", \"x\", \"int\", \"id\", \"column\", \"c\", \"text\", \"angular\", \"ng\", \"python2\", \"await\", \"rxjs\", \"th\", \"prototyp\", \"es6\", \"compos\", \"python3\", \"v8\", \"pkg\", \"ipython\", \"2016\", \"wheel\", \"syntaxerror\", \"lodash\", \"kwarg\", \"pycharm\", \"underscor\", \"fn\", \"plist\", \"scanner\", \"pickl\", \"heard\", \"2d\", \"timeit\", \"opinion\", \"attributeerror\", \"hear\", \"runtimeerror\", \"redux\", \"advantag\", \"difficult\", \"practic\", \"good\", \"feel\", \"vs\", \"asynchron\", \"explan\", \"benefit\", \"notebook\", \"understand\", \"answer\", \"much\", \"realli\", \"often\", \"question\", \"thing\", \"differ\", \"async\", \"lot\", \"interest\", \"explain\", \"peopl\", \"would\", \"think\", \"function\", \"ask\", \"better\", \"seem\", \"standard\", \"use\", \"best\", \"know\", \"way\", \"one\", \"self\", \"mean\", \"case\", \"like\", \"someth\", \"call\", \"code\", \"time\", \"variabl\", \"exampl\", \"look\", \"need\", \"make\", \"also\", \"work\", \"python\", \"could\", \"want\", \"find\", \"test\", \"method\", \"git\", \"instal\", \"npm\", \"directori\", \"branch\", \"usr\", \"gradl\", \"pip\", \"maven\", \"bash\", \"repo\", \"donhuvi\", \"virtualenv\", \"cli\", \"rb\", \"egg\", \"shell\", \"dir\", \"webpack\", \"exe\", \"bin\", \"docker\", \"gyp\", \"appdata\", \"cmd\", \"launcher\", \"artifactid\", \"curl\", \"groupid\", \"master\", \"py\", \"txt\", \"command\", \"repositori\", \"lib\", \"file\", \"folder\", \"commit\", \"packag\", \"studio\", \"github\", \"modul\", \"node\", \"local\", \"build\", \"linux\", \"project\", \"path\", \"remot\", \"version\", \"run\", \"error\", \"js\", \"line\", \"window\", \"script\", \"tri\", \"use\", \"get\", \"user\", \"python\", \"test\", \"1\", \"android\", \"bootstrap\", \"fragment\", \"icon\", \"router\", \"request\", \"mvc\", \"apk\", \"drawabl\", \"layoutinflat\", \"notif\", \"firebas\", \"inflat\", \"oncreat\", \"req\", \"v7\", \"dispatch\", \"certif\", \"ssl\", \"socket\", \"appcompat\", \"linearlayout\", \"savedinstancest\", \"findviewbyid\", \"uri\", \"viewgroup\", \"auth\", \"train\", \"mongodb\", \"flask\", \"password\", \"+id\", \"servic\", \"login\", \"asp\", \"authent\", \"localhost\", \"devic\", \"xcode\", \"connect\", \"app\", \"rout\", \"intent\", \"promis\", \"activ\", \"layout\", \"respons\", \"url\", \"web\", \"client\", \"http\", \"send\", \"applic\", \"view\", \"api\", \"com\", \"io\", \"server\", \"post\", \"user\", \"googl\", \"error\", \"net\", \"get\", \"content\", \"messag\", \"use\", \"data\", \"new\", \"id\", \"tri\", \"set\", \"name\", \"div\", \"width\", \"height\", \"css\", \"jqueri\", \"color\", \"li\", \"td\", \"chrome\", \"href\", \"font\", \"span\", \"scroll\", \"center\", \"ts\", \"border\", \"margin\", \"img\", \"angularj\", \"ul\", \"pod\", \"modal\", \"vertic\", \"flex\", \"navbar\", \"btn\", \"canva\", \"jsfiddl\", \"horizont\", \"vue\", \"react\", \"button\", \"angular\", \"style\", \"imag\", \"click\", \"tr\", \"html\", \"res\", \"render\", \"text\", \"background\", \"compon\", \"form\", \"event\", \"anim\", \"input\", \"element\", \"page\", \"label\", \"parent\", \"class\", \"browser\", \"item\", \"display\", \"content\", \"id\", \"type\", \"function\", \"use\", \"work\", \"want\", \"chang\", \"prop\", \"enum\", \"dist\", \"arraylist\", \"bean\", \"mock\", \"cout\", \"myclass\", \"cp\", \"firstnam\", \"pil\", \"threadpoolexecutor\", \"endl\", \"hashmap\", \"lastnam\", \"emit\", \"oid\", \"jpa\", \"pom\", \"apt\", \"jackson\", \"ienumer\", \"base64\", \"toast\", \"writelin\", \"viewhold\", \"typenam\", \"typeof\", \"employe\", \"iostream\", \"static\", \"println\", \"nullabl\", \"public\", \"privat\", \"entiti\", \"void\", \"cooki\", \"constructor\", \"obj\", \"foo\", \"member\", \"object\", \"string\", \"properti\", \"boolean\", \"assert\", \"class\", \"map\", \"catch\", \"return\", \"json\", \"throw\", \"type\", \"int\", \"new\", \"const\", \"method\", \"null\", \"final\", \"valu\", \"var\", \"except\", \"name\", \"fals\", \"system\", \"get\", \"list\", \"error\", \"use\", \"code\", \"java\", \"true\", \"set\", \"column\", \"sql\", \"df\", \"matplotlib\", \"csv\", \"env\", \"regex\", \"plt\", \"room\", \"timestamp\", \"rebas\", \"varchar\", \"datetim\", \"decim\", \"listview\", \"price\", \"collaps\", \"timezon\", \"foreign\", \"er101\", \"postgr\", \"green\", \"dbo\", \"utc\", \"gitignor\", \"rep\", \"hole\", \"ax\", \"rand\", \"stringifi\", \"mysql\", \"charact\", \"pd\", \"panda\", \"date\", \"queri\", \"tabl\", \"letter\", \"dd\", \"mm\", \"databas\", \"row\", \"join\", \"insert\", \"26\", \"u\", \"record\", \"format\", \"select\", \"db\", \"group\", \"list\", \"id\", \"number\", \"key\", \"index\", \"data\", \"valu\", \"string\", \"name\", \"want\", \"get\", \"like\", \"+\", \"user\", \"use\", \"time\", \"creat\", \"set\", \"tri\", \"numpi\", \"#includ\", \"plot\", \"min\", \"vector\", \"np\", \"ptr\", \"j\", \"nan\", \"printf\", \"longword\", \"tensorflow\", \"decod\", \"clang\", \"axi\", \"sizeof\", \"3000\", \"48\", \"svg\", \"cc\", \"++i\", \"clock\", \"na\", \"g++\", \"dt\", \"rdx\", \"unsort\", \"arrays\", \"multipli\", \"uint64\", \"cpp\", \"gcc\", \"39\", \"0\", \"3\", \"4\", \"math\", \"5\", \"1\", \"2\", \"std\", \"byte\", \"x\", \"n\", \"6\", \"char\", \"b\", \"9\", \"array\", \"c\", \"h\", \"8\", \"bit\", \"doubl\", \"7\", \"+\", \"int\", \"10\", \"size\", \"compil\", \"r\", \"#\", \"number\", \"return\", \"version\", \"valu\", \"data\", \"err\", \"datafram\", \"gem\", \"03\", \"activitythread\", \"19\", \"springframework\", \"androidruntim\", \"02\", \"09\", \"pg\", \"28\", \"06\", \"05\", \"sun\", \"31\", \"07\", \"junit\", \"08\", \"zygoteinit\", \"intellij\", \"toolbar\", \"uiview\", \"snmp\", \"53\", \"mib\", \"weight\", \"55\", \"arr\", \"tableview\", \"nav\", \"org\", \"18\", \"lang\", \"apach\", \"java\", \"23\", \"intern\", \"04\", \"01\", \"22\", \"12\", \"11\", \"17\", \"14\", \"com\", \"15\", \"00\", \"0\", \"1\", \"self\", \"main\", \"e\", \"16\", \"10\", \"core\", \"2\", \"run\"], \"Freq\": [34373.0, 25187.0, 32017.0, 16673.0, 21722.0, 20922.0, 19864.0, 19467.0, 13269.0, 10648.0, 13090.0, 9858.0, 11771.0, 9860.0, 5909.0, 7950.0, 7946.0, 16113.0, 9899.0, 15779.0, 6498.0, 8103.0, 8327.0, 7433.0, 8164.0, 12901.0, 5505.0, 9595.0, 7864.0, 5902.0, 2330.017467587721, 1161.6548982797783, 883.5666932257099, 800.1182617149552, 747.3933427564534, 617.58359799871, 556.6360033451915, 465.0593607053308, 423.0367321646704, 416.4931263520452, 366.8774790460026, 331.49624065170565, 293.25400344855916, 256.032217085742, 253.37001513239454, 249.64965435518536, 249.23520996058707, 241.36637572610056, 255.62809831383535, 237.2020131731514, 217.7111754628515, 211.99822135061416, 204.89417004382415, 206.21182023705813, 193.40042408091205, 191.71324938603092, 186.59412160583955, 184.06332522109207, 184.63488621374202, 186.3929207805313, 414.6180299031666, 425.4873618801169, 225.93641539232814, 1168.639323470019, 1994.6705481003567, 666.4769554052505, 2096.101406400313, 353.7737372664654, 526.9378640476332, 326.0564461943104, 320.62503128881133, 3275.721972365501, 3284.4553886170697, 1515.5200779786835, 2515.779769850695, 496.93293241289575, 5911.620924420274, 3155.445822380551, 7387.393902992046, 1271.70964338794, 1544.6994176971014, 822.5380046573937, 1420.2214948100266, 993.4271975735264, 9020.295476569543, 2289.2573124095034, 12070.739561004975, 1456.7553336991452, 1935.3982685573417, 4830.312558172864, 1420.9213476580037, 24256.430089659887, 2027.4273612096902, 5414.014376772715, 8686.892246802861, 7403.404982960316, 3396.833330145996, 2638.97566708757, 3562.632700818623, 10423.976468575109, 4752.130148444938, 5372.669392978012, 8889.55248783806, 4895.626540422859, 3510.18165125843, 5276.979122995589, 3868.946991430603, 4942.583168173678, 4229.124858471029, 3612.948475712049, 5853.986091739576, 4017.093805761347, 3325.053447545494, 4727.601780558156, 3410.921234269263, 3633.687637705361, 3527.2898572563745, 7949.941305971478, 7946.0588204266605, 3243.9267959658405, 2995.581405626168, 2850.1666998343426, 2425.0409351925546, 2373.18337480439, 2285.9053046373942, 1439.699909200954, 1350.770118023318, 1081.2914317789239, 991.0078286480364, 956.8242849101986, 967.9003810400018, 945.2386125526381, 890.4166873767914, 846.3179516631517, 830.1657489790975, 789.1355469842322, 761.8405339563626, 2056.8637553548565, 743.7289693803551, 738.5420352786425, 698.4712502674363, 655.7332412240473, 636.0834722414725, 628.6940727251535, 627.3026139793501, 623.9149148509301, 1657.7446254985512, 3688.389950847242, 1561.824055434577, 5769.9594778395, 2041.2124214771534, 4632.360993333648, 20271.083963833997, 2117.7653814272203, 2668.787526526404, 5098.968145254508, 2437.5527314519254, 2176.6158975570747, 7427.030430631875, 6219.754135628026, 4009.0922203712125, 5766.213237829633, 1569.5292270271993, 6078.104877393289, 3967.0617533422655, 1596.8034318789134, 5266.114782172758, 6231.296591004341, 8200.723749902476, 4548.729283930974, 4652.831628859266, 2910.833353579043, 3104.222622012956, 4417.101755533954, 4891.167582191441, 4054.54854552239, 3380.416650916548, 2894.457767120816, 2816.0825231407916, 2687.794034752567, 25187.015226651005, 1499.975127496006, 1503.3251300959425, 1350.4484447548655, 1338.8983083082512, 4765.075705689286, 1094.5268122908622, 1052.2820297730773, 916.7842134283259, 875.186999180161, 819.7006705563067, 727.441634917583, 694.4212724681552, 655.4173657211153, 633.744114366155, 687.6786167722181, 622.3925640237441, 613.3359924820578, 597.2033721045825, 727.2599067169624, 553.607653386699, 882.0220361877308, 544.6790333332049, 522.5595532704128, 482.05877707126103, 463.6254462058428, 431.31674015615494, 429.51746801027684, 412.67077493354805, 405.59590615100973, 1867.6444312284227, 1098.8976171457377, 3288.014290286861, 1003.426701330431, 1234.7528772394523, 749.2367127224336, 1159.7721812986902, 1890.7465022980332, 2537.23541654469, 3187.0113972179083, 11820.23602553522, 1474.7235613335888, 1283.667995046805, 1045.7193602943905, 3210.4281491543943, 5152.7405060191095, 2441.1156962135005, 3742.451673303073, 3118.7645346702084, 2068.020170475913, 5017.260502859144, 1498.743826218332, 4288.101778075648, 4923.326465920452, 2731.1669411826674, 5544.0443658023, 2400.588396912712, 3400.8876199704973, 2261.1510570797404, 4844.564092662014, 2272.362462050368, 5539.814605407399, 2325.7919016650962, 4589.64876465587, 2441.338220540791, 2220.538119628752, 4713.259005517295, 2985.192171879651, 2932.727678665992, 2596.7489859484062, 2604.2810972691173, 2400.149417103421, 2363.015950951884, 9857.737783464907, 4461.071685619709, 4010.508326051315, 3487.215574254445, 3332.188456136059, 3375.6021910941395, 2225.105593732927, 2038.201137040551, 1679.8131129274998, 1529.809728396505, 1427.1362576872575, 1331.426637296062, 1263.2706222411932, 1237.8769615874448, 1261.2398108970997, 1011.6635063303008, 1003.0002488111704, 961.067651428941, 943.1418039452088, 844.5123468325367, 816.9374963089849, 785.7689886026415, 772.5602479576775, 662.0631980947913, 646.5535880901326, 598.4030074885274, 578.2865162863978, 532.1237891564294, 520.9020708755336, 515.9816024035516, 4153.047014065676, 4824.848299542806, 5568.451876755539, 3660.0805463427287, 4831.953022593751, 3058.4411540375004, 972.0910466662583, 4933.141200189304, 1621.9971149115934, 2151.624672485463, 6436.94224833123, 2260.8615035531, 3823.6529047054914, 3144.5268604486064, 2628.2897963561286, 1309.6294907573727, 3592.058131829527, 3634.8821959676225, 3242.3924777614293, 1729.1553459499373, 2359.7940552072287, 6287.183313313876, 1890.7705498768817, 2987.272997376808, 2139.160552277822, 2681.8353559072148, 3638.744768393108, 3251.327923009306, 3451.295312912564, 4154.468208008136, 3025.1960201823395, 2742.135534445935, 2447.5534044847836, 1506.6595824563608, 981.1825103024454, 920.3318162875396, 778.1447660544582, 769.6981826157945, 747.9828044638955, 746.3092947945304, 650.3889201211648, 566.9069850274462, 445.46338571775055, 439.6673978713834, 468.4046837978581, 419.9894120130341, 392.1553842789988, 390.56913441238396, 383.68441870917076, 374.9002571211614, 373.06011188870843, 349.5804602458441, 348.92452738389915, 337.02200802058525, 330.511297662679, 323.71359842757363, 316.523303080485, 540.5721906919179, 311.6891440749732, 297.67221700380264, 299.11538610070994, 288.57288838700896, 285.53178936065365, 3885.0937479850845, 1191.2152495135633, 319.1558432423183, 10177.74901285707, 3553.036569672958, 1247.775175112811, 4815.700418213193, 554.0632472674848, 1535.9658334436012, 999.2803783271672, 3555.221130758207, 942.844845397094, 8656.601480462323, 13434.403598800409, 3221.836123969652, 1137.0739729255147, 652.2063378980214, 12141.37080822282, 2862.9239505235605, 1284.6230480037789, 9209.661020997002, 3870.5392216885484, 1512.8561477909807, 6497.799216450382, 4537.656133131807, 7373.8658332785435, 1922.062185127842, 5394.93809424065, 3438.5427537498426, 1681.7563777284597, 5924.039100556301, 3975.924924614281, 2389.494017025546, 5229.381379623051, 2312.1439689185077, 2567.9441583370763, 4399.4576296885725, 3055.796633421611, 3496.4349851829384, 4312.594559739265, 3226.410425910588, 3020.1998899278, 2261.299487399006, 2308.515362731639, 5504.724287317082, 2741.9506190425614, 1960.148305995181, 1431.078706675214, 1131.7147812381813, 1055.900022696458, 781.4332374442415, 749.6012074173642, 735.4870285725589, 676.929887824699, 647.3004132192102, 607.2906641272099, 1649.4577595583714, 555.858367712088, 509.0122940011929, 472.8750609528597, 433.6339261563064, 432.545449424572, 392.7832939509339, 382.2575558988101, 381.43461267457695, 376.09158127936877, 364.6126216854966, 359.43264652137896, 357.1079378161368, 341.0703713731899, 331.3470440528266, 284.9648611527001, 256.02974127574487, 249.75545602239208, 3011.175438133093, 2458.6455564330017, 720.5271054831309, 2371.360565185413, 5393.901976333169, 3611.685333427129, 6184.513029578484, 536.3087033853375, 513.7977304937168, 694.933851303233, 3294.336240885731, 3472.4910530475177, 1345.6468712533185, 1607.0283245157905, 1072.2285162706294, 1330.596623715606, 1160.18425103782, 2442.712157088281, 3731.5643485992437, 1454.7895456489393, 1585.7926809818784, 5175.2162555128325, 5931.502722108419, 3115.95216851487, 3302.047383943776, 2543.884983650351, 5562.118228801412, 5774.802813648189, 6137.930243995417, 5311.880895782624, 3703.377935527852, 4512.59869550201, 3769.841544217053, 2809.639788364763, 2763.5636715474698, 3834.415885819843, 2384.7669170236477, 2342.1367404086623, 2368.202959510996, 2420.589658028313, 1347.724990886962, 958.2318048320976, 905.2776047207186, 860.5027643467201, 1183.8480122101723, 755.4813262208205, 734.9817469159216, 591.0059114971168, 846.5073641055751, 478.4098390769349, 456.83092076939755, 453.4166827421501, 412.9510221636658, 402.8701027987585, 400.946137197326, 394.0646336712541, 356.8701666655559, 356.68600528354114, 346.70406529108067, 308.5496202296998, 277.3613300361558, 262.30956674280736, 252.3267226496454, 250.20776611214367, 242.72130129061676, 232.43263530800454, 206.9811392263058, 202.45002236294633, 198.92974904690809, 197.301719190299, 572.5255428371129, 920.0695569885759, 271.3520478346357, 27836.527883291026, 10574.459918854, 7976.431740561861, 477.53235038307895, 6455.448822119763, 23042.020541837046, 15499.78041154041, 2460.96698365555, 1510.5223947087563, 5702.967223408934, 2895.8317165473763, 3924.289504056636, 1241.030809228457, 4427.422959533142, 2944.9591335505593, 4155.200596847173, 5263.085596415981, 1259.1368015806042, 3221.5098586904037, 1813.5668868041782, 1066.5855222912212, 2960.1731829198197, 3933.5050418153414, 3542.7464292482427, 2765.8927913845314, 1792.004949866338, 2066.5144514746435, 1564.516074774457, 1721.1666944706571, 1542.3038142711841, 2048.3662415506105, 1658.9412954443435, 1800.4516089415413, 1589.8253911936697, 2155.578895566695, 1381.6133338994632, 1344.1499361912931, 1035.719555093238, 985.5786439451122, 972.1727016878339, 952.044144296655, 922.1714812437891, 971.1718759975531, 889.264910711663, 828.8206460483591, 781.7871255102864, 714.7917063515981, 730.3229844670095, 651.287148187152, 601.0142099221829, 590.242601526033, 581.0983898324275, 523.0960932898405, 510.96851498977054, 479.1681202205862, 480.0971604101586, 459.125123385657, 454.12264406062116, 426.34378945003687, 552.9518285455798, 385.19655871075435, 376.38149323863973, 369.7980352679366, 360.2404991525162, 635.0062936339389, 5754.46271127468, 1095.4762310686763, 1534.8694604582845, 1376.8486197936654, 13647.6902137015, 957.0095667821361, 2222.6071517415853, 868.0811064600719, 1099.6202916156474, 892.0646422467208, 2060.2772408857995, 1793.6435795454286, 901.5211208684076, 990.9926288025868, 3018.3026695103918, 1132.2984096421408, 1109.789095820714, 3099.353738211485, 2483.931014207942, 1291.3356941938164, 1249.213320482243, 1223.6847473039977, 973.7727422941622, 1159.5872797066743, 1055.1615908783185, 1139.5858990606691, 1075.1483234018817], \"Total\": [34373.0, 25187.0, 32017.0, 16673.0, 21722.0, 20922.0, 19864.0, 19467.0, 13269.0, 10648.0, 13090.0, 9858.0, 11771.0, 9860.0, 5909.0, 7950.0, 7946.0, 16113.0, 9899.0, 15779.0, 6498.0, 8103.0, 8327.0, 7433.0, 8164.0, 12901.0, 5505.0, 9595.0, 7864.0, 5902.0, 2330.7638897814813, 1162.402736491482, 884.3103656547532, 800.8705268234185, 748.1390273931396, 618.3464619991813, 557.3813509513275, 465.80444133210017, 423.78723223282225, 417.250444593319, 367.6355469835715, 332.23988849329146, 294.0210563842145, 256.78819348157094, 254.1253564379317, 250.39605138182952, 249.98039665589533, 242.11337185186966, 256.423947196598, 237.94721043550535, 218.45892127580893, 212.74648030266937, 205.6373604406054, 206.9766366847033, 194.14646637170947, 192.45707653938575, 187.34237361521753, 184.810266436693, 185.38840952300197, 187.16937487663557, 417.5391860526748, 428.64647524811056, 227.2856142197891, 1204.6706536920815, 2082.7855263757465, 687.4657332610199, 2244.0676936064706, 359.636905074159, 542.3987399297766, 330.90683658666694, 325.2516660951866, 3656.3138958890922, 3728.871309553983, 1654.1998465557333, 2824.0688724995803, 516.2696905954464, 7045.115097582756, 3702.858559589881, 9192.4837675658, 1411.1798545438683, 1767.627795400519, 891.3034879055812, 1613.8078077288062, 1098.7753194562956, 12590.27579531157, 2779.7111037997574, 17898.298248042534, 1684.3470826040034, 2327.5174281724358, 6598.587065332588, 1666.0799823638042, 46737.23799152442, 2549.4984147959435, 8127.906558077642, 14323.437557938618, 11905.013228927188, 4725.614270636057, 3509.5891183980534, 5125.383094604088, 19715.39546032606, 7405.990719914826, 8936.972843815225, 18469.002747133618, 8666.678099769093, 5461.465239046382, 9860.912857263967, 6367.158923590872, 9646.692930771824, 7678.439467800017, 6094.385396065224, 15449.26141624089, 8460.13838369381, 5976.290458154463, 14465.863474917174, 7764.069025780324, 10228.04870804276, 10916.79272504555, 7950.714062202428, 7946.991139337488, 3244.699788302664, 2996.354368902308, 2850.9396145901164, 2425.814330829597, 2373.9576983982133, 2286.678158858814, 1440.4734244267065, 1351.543210680734, 1082.0646711774077, 991.7811607160539, 957.597130177455, 968.6914138598894, 946.0119712712368, 891.1897063294925, 847.1036120071966, 830.9394484201639, 789.9091896369799, 762.6135136828223, 2058.957500567548, 744.5022366886932, 739.337385529317, 699.2443884176331, 656.5067293941112, 636.8626352827301, 629.4681723923775, 628.0762791591095, 624.689102064562, 1660.04093608366, 3703.5167587396813, 1566.7073984379388, 5973.082354458384, 2072.279866831844, 4814.312332471637, 21722.677919385653, 2173.3584068158702, 2765.6365816830544, 5391.250653697839, 2543.1922736320166, 2275.553634974377, 8327.425906792383, 6972.240658527021, 4538.604015645112, 6758.369404339741, 1653.9649404330717, 7472.059369297868, 4643.210914110825, 1695.1028726900486, 8869.532290847086, 11641.009572082698, 19612.617844753117, 8534.068733903832, 9089.997212862689, 4857.045138867273, 5703.043710730797, 16995.961466129153, 46737.23799152442, 23015.188220890315, 12541.054282454148, 8460.13838369381, 10228.04870804276, 32017.240315666048, 25187.78171399754, 1500.7444063686928, 1504.0977691823523, 1351.2158234513051, 1339.6666645625064, 4768.202896400824, 1095.2950112388812, 1053.0499572275953, 917.5503150390213, 875.9536791178133, 820.4672826062686, 728.2092375579732, 695.1876341804372, 656.1837376938058, 634.513413205269, 688.521423829875, 623.16068247608, 614.1022054881929, 597.9699519653061, 728.1969477714364, 554.3743735092611, 883.2623479244606, 545.4451022692933, 523.3668228715585, 482.82504174139115, 464.3918616275199, 432.0831691320517, 430.2880441151754, 413.43824562031773, 406.36234818793974, 1881.2489000709463, 1100.9948073213147, 3335.067674747833, 1005.909811371329, 1244.390493554, 751.5710834035447, 1171.0425496648625, 1938.780003081516, 2641.7505860871056, 3354.8538530756528, 13090.080383562374, 1527.4525690854114, 1330.6229932642009, 1072.6974213719727, 3511.819467330295, 5915.306390075842, 2715.2645760553805, 4565.628324294086, 3732.0997280258603, 2386.0575719295534, 6995.743178221462, 1698.5757506677405, 6469.813699232389, 7929.719669164739, 3785.6672292133217, 9899.04623347077, 3325.4472632901434, 6111.257769664101, 3433.959950771922, 12541.054282454148, 3763.149940918526, 19612.617844753117, 4293.020029157137, 23015.188220890315, 5755.364341083384, 4684.7335299864435, 46737.23799152442, 14245.740905997458, 15701.015175079187, 12901.723379400435, 16995.961466129153, 12033.59426485894, 17373.42956723472, 9858.496638776069, 4461.83104204165, 4011.2760887516642, 3487.974588694436, 3332.947860082709, 3376.4201133204956, 2225.8647112987614, 2038.9600126218688, 1680.5758276659192, 1530.568713956107, 1427.895394754393, 1332.1855988905152, 1264.0296806872955, 1238.6362111422252, 1262.1121978010613, 1012.4223711198483, 1003.7594008443969, 961.8266792108642, 943.9016920023611, 845.2712906809768, 817.6998935068831, 786.5278564403922, 773.3194960676598, 662.8220967822091, 647.3125519330512, 599.1622541862569, 579.046213867382, 532.883214033839, 521.6613734698412, 516.7414464045067, 4190.490758645631, 5016.693186953392, 5902.276711324372, 3862.5681947062185, 5195.717269280477, 3259.3025443947768, 992.5483130951393, 5613.339464334104, 1714.5994471240574, 2343.9935050419226, 7864.0692899468595, 2546.610736582963, 4716.08871357191, 3836.3734561729734, 3177.7740044469006, 1391.9899237182651, 5009.111418750593, 5224.304369321485, 4755.659035325317, 2049.3520133138677, 3377.58961280688, 19467.09051736996, 2423.0922555143216, 6001.107022860631, 3199.850877332608, 5755.364341083384, 12901.723379400435, 12700.50845321866, 17898.298248042534, 46737.23799152442, 15449.26141624089, 14465.863474917174, 8269.546466287622, 1507.4104472161998, 981.9408210463191, 921.0922598181335, 778.8943128182142, 770.4489015194175, 748.7327871219609, 747.0605665040009, 651.1528829095879, 567.6631922096649, 446.2131787583753, 440.4225576976963, 469.23559035762685, 420.74015521843353, 392.9048961441266, 391.31874269647545, 384.44311328677463, 375.657187714576, 373.81510712015194, 350.33732661972863, 349.68202674386947, 337.7718536102004, 331.2605455240966, 324.46399368559497, 317.2733278952299, 541.8947439104617, 312.4561608716836, 298.4215744517344, 299.8735614532934, 289.3225832467792, 286.28268740195085, 3970.6433209000884, 1204.7141431212538, 319.99909722519425, 10648.445921272149, 3757.7727779353495, 1298.0958601749724, 5267.141849460285, 565.1895339061455, 1645.1024794164352, 1081.6628459677206, 4247.5075602180505, 1021.8017711290943, 11771.658062984085, 19864.523628781495, 4157.560170496044, 1308.3820708219846, 696.9173443628699, 19467.09051736996, 3757.987208704902, 1513.7983375385422, 16113.130495556461, 5875.767530247123, 1985.2299462284439, 12700.50845321866, 8164.949977420327, 15701.015175079187, 2715.6249638631098, 10916.79272504555, 5983.128910213654, 2368.6989218396543, 15779.958344250927, 9073.651380059091, 4379.747232474404, 17373.42956723472, 4561.540252356598, 6162.221135711866, 23015.188220890315, 10230.547738729267, 19612.617844753117, 46737.23799152442, 18469.002747133618, 16673.717167498533, 6513.73566267982, 12033.59426485894, 5505.464631056464, 2742.712033355742, 1960.8874768734254, 1431.8198694184384, 1132.5006764984985, 1056.646738488975, 782.1724107575823, 750.3401997524586, 736.2306686222532, 677.673397967142, 648.0403047952241, 608.0293257718771, 1651.4647955784974, 556.5975062268169, 509.75511512468734, 473.6146822032499, 434.37675618316996, 433.28753477766634, 393.52389959056615, 382.9962301705645, 382.17424888198593, 376.83484270922, 365.3512843606338, 360.17531867062166, 357.8484089733779, 341.8118320008306, 332.09550107271593, 285.7042851704217, 256.7717788511851, 250.49928224281018, 3021.9751347220335, 2482.041445849519, 723.5549066884371, 2412.3964783526444, 5566.081870376528, 3751.222638778645, 6498.428124769086, 541.4798492927126, 519.3876245396598, 712.2946213208899, 3625.875512586808, 3834.040603585851, 1430.0163958348141, 1751.4606337967855, 1167.4145922929526, 1592.804327001656, 1354.295253935097, 3304.005180472149, 5563.287658123422, 1801.3908263395854, 2085.8840599286505, 10230.547738729267, 12901.723379400435, 5425.075276596558, 6029.589425327369, 4458.493645289515, 14245.740905997458, 15779.958344250927, 19864.523628781495, 17373.42956723472, 14465.863474917174, 23015.188220890315, 19715.39546032606, 9388.991697381793, 12541.054282454148, 46737.23799152442, 8666.678099769093, 10290.991940319827, 12033.59426485894, 16995.961466129153, 1348.4997181532804, 959.0082508466438, 906.052253933824, 861.2962382710199, 1184.982414597933, 756.2558748915619, 735.7563013843406, 591.7813094440654, 847.8104309846286, 479.1844006192671, 457.6054889136211, 454.19168524754514, 413.7267963855349, 403.64499183844805, 401.72095288155015, 394.8389934043599, 357.6499343783299, 357.4705502310381, 347.4799809640274, 309.32547263890666, 278.1358760515234, 263.0841007387108, 253.10136714310727, 250.98223162328154, 243.49709948306284, 233.20687178174038, 207.7574654600286, 203.2242112717348, 199.70679921555458, 198.07598531853841, 583.9363830749538, 949.7232891212536, 274.0240697917923, 34373.56882722591, 13269.53175876337, 9860.624807954064, 498.6162459379048, 8103.489128023045, 32017.240315666048, 20922.359289301174, 2935.9828932451587, 1741.2280814787944, 7433.8664825272845, 3614.1784046086277, 5076.533989721251, 1468.5605968896061, 6274.285054097365, 4157.8884489835045, 6641.2421557577845, 9595.344476922626, 1664.4666652443127, 5750.575798266707, 2856.0890009689415, 1413.208642557416, 6127.68246418508, 9388.991697381793, 8164.949977420327, 5664.126297430763, 3672.5779909402277, 6258.606827922354, 4066.1114334924505, 5745.084609948948, 5425.075276596558, 16113.130495556461, 8869.532290847086, 15779.958344250927, 14245.740905997458, 2156.3566319705765, 1382.392338924053, 1344.9268025203098, 1036.4964800616162, 986.3550594225577, 972.9506230532393, 952.8204348107878, 922.9476864512997, 972.0321769331437, 890.053074134001, 829.6389063010814, 782.5755539481147, 715.5682696840506, 731.116956617183, 652.0636878062164, 601.7989833317021, 591.0191831789099, 581.8755148829969, 523.8876275747676, 511.74529054769744, 479.9452763046809, 480.87769623449793, 459.90171441640484, 454.8992890531363, 427.1205728101856, 554.0398980911219, 385.9793568905361, 377.1587845342455, 370.5754793103111, 361.0170038394475, 636.3758502445193, 5909.180911913147, 1134.906469399017, 1629.095223271411, 1462.0846188489272, 16673.717167498533, 1018.707495263769, 2628.7282671204352, 927.2269748712057, 1253.2250074417768, 991.4400458591805, 2943.7473677844955, 2635.9244255464037, 1060.6890231043938, 1374.5767035379856, 9899.04623347077, 1783.365857622227, 2149.3155433417596, 34373.56882722591, 32017.240315666048, 4725.614270636057, 5473.189147119072, 6598.710037855239, 1691.965286141418, 5664.126297430763, 3257.876236249286, 20922.359289301174, 11641.009572082698], \"Category\": [\"Default\", \"Default\", \"Default\", \"Default\", \"Default\", \"Default\", \"Default\", \"Default\", \"Default\", \"Default\", \"Default\", \"Default\", \"Default\", \"Default\", \"Default\", \"Default\", \"Default\", \"Default\", \"Default\", \"Default\", \"Default\", \"Default\", \"Default\", \"Default\", \"Default\", \"Default\", \"Default\", \"Default\", \"Default\", \"Default\", \"Topic1\", \"Topic1\", \"Topic1\", \"Topic1\", \"Topic1\", \"Topic1\", \"Topic1\", \"Topic1\", \"Topic1\", \"Topic1\", \"Topic1\", \"Topic1\", \"Topic1\", \"Topic1\", \"Topic1\", \"Topic1\", \"Topic1\", \"Topic1\", \"Topic1\", \"Topic1\", \"Topic1\", \"Topic1\", \"Topic1\", \"Topic1\", \"Topic1\", \"Topic1\", \"Topic1\", \"Topic1\", \"Topic1\", \"Topic1\", \"Topic1\", \"Topic1\", \"Topic1\", \"Topic1\", \"Topic1\", \"Topic1\", \"Topic1\", \"Topic1\", \"Topic1\", \"Topic1\", \"Topic1\", \"Topic1\", \"Topic1\", \"Topic1\", \"Topic1\", \"Topic1\", \"Topic1\", \"Topic1\", \"Topic1\", \"Topic1\", \"Topic1\", \"Topic1\", \"Topic1\", \"Topic1\", \"Topic1\", \"Topic1\", \"Topic1\", \"Topic1\", \"Topic1\", \"Topic1\", \"Topic1\", \"Topic1\", \"Topic1\", \"Topic1\", \"Topic1\", \"Topic1\", \"Topic1\", \"Topic1\", \"Topic1\", \"Topic1\", \"Topic1\", \"Topic1\", \"Topic1\", \"Topic1\", \"Topic1\", \"Topic1\", \"Topic1\", \"Topic1\", \"Topic1\", \"Topic1\", \"Topic1\", \"Topic1\", \"Topic1\", \"Topic1\", \"Topic1\", \"Topic1\", \"Topic1\", \"Topic2\", \"Topic2\", \"Topic2\", \"Topic2\", \"Topic2\", \"Topic2\", \"Topic2\", \"Topic2\", \"Topic2\", \"Topic2\", \"Topic2\", \"Topic2\", \"Topic2\", \"Topic2\", \"Topic2\", \"Topic2\", \"Topic2\", \"Topic2\", \"Topic2\", \"Topic2\", \"Topic2\", \"Topic2\", \"Topic2\", \"Topic2\", \"Topic2\", \"Topic2\", \"Topic2\", \"Topic2\", \"Topic2\", \"Topic2\", \"Topic2\", \"Topic2\", \"Topic2\", \"Topic2\", \"Topic2\", \"Topic2\", \"Topic2\", \"Topic2\", \"Topic2\", \"Topic2\", \"Topic2\", \"Topic2\", \"Topic2\", \"Topic2\", \"Topic2\", \"Topic2\", \"Topic2\", \"Topic2\", \"Topic2\", \"Topic2\", \"Topic2\", \"Topic2\", \"Topic2\", \"Topic2\", \"Topic2\", \"Topic2\", \"Topic2\", \"Topic2\", \"Topic2\", \"Topic2\", \"Topic2\", \"Topic2\", \"Topic2\", \"Topic3\", \"Topic3\", \"Topic3\", \"Topic3\", \"Topic3\", \"Topic3\", \"Topic3\", \"Topic3\", \"Topic3\", \"Topic3\", \"Topic3\", \"Topic3\", \"Topic3\", \"Topic3\", \"Topic3\", \"Topic3\", \"Topic3\", \"Topic3\", \"Topic3\", \"Topic3\", \"Topic3\", \"Topic3\", \"Topic3\", \"Topic3\", \"Topic3\", \"Topic3\", \"Topic3\", \"Topic3\", \"Topic3\", \"Topic3\", \"Topic3\", \"Topic3\", \"Topic3\", \"Topic3\", \"Topic3\", \"Topic3\", \"Topic3\", \"Topic3\", \"Topic3\", \"Topic3\", \"Topic3\", \"Topic3\", \"Topic3\", \"Topic3\", \"Topic3\", \"Topic3\", \"Topic3\", \"Topic3\", \"Topic3\", \"Topic3\", \"Topic3\", \"Topic3\", \"Topic3\", \"Topic3\", \"Topic3\", \"Topic3\", \"Topic3\", \"Topic3\", \"Topic3\", \"Topic3\", \"Topic3\", \"Topic3\", \"Topic3\", \"Topic3\", \"Topic3\", \"Topic3\", \"Topic3\", \"Topic3\", \"Topic3\", \"Topic3\", \"Topic3\", \"Topic3\", \"Topic3\", \"Topic4\", \"Topic4\", \"Topic4\", \"Topic4\", \"Topic4\", \"Topic4\", \"Topic4\", \"Topic4\", \"Topic4\", \"Topic4\", \"Topic4\", \"Topic4\", \"Topic4\", \"Topic4\", \"Topic4\", \"Topic4\", \"Topic4\", \"Topic4\", \"Topic4\", \"Topic4\", \"Topic4\", \"Topic4\", \"Topic4\", \"Topic4\", \"Topic4\", \"Topic4\", \"Topic4\", \"Topic4\", \"Topic4\", \"Topic4\", \"Topic4\", \"Topic4\", \"Topic4\", \"Topic4\", \"Topic4\", \"Topic4\", \"Topic4\", \"Topic4\", \"Topic4\", \"Topic4\", \"Topic4\", \"Topic4\", \"Topic4\", \"Topic4\", \"Topic4\", \"Topic4\", \"Topic4\", \"Topic4\", \"Topic4\", \"Topic4\", \"Topic4\", \"Topic4\", \"Topic4\", \"Topic4\", \"Topic4\", \"Topic4\", \"Topic4\", \"Topic4\", \"Topic4\", \"Topic4\", \"Topic4\", \"Topic4\", \"Topic4\", \"Topic5\", \"Topic5\", \"Topic5\", \"Topic5\", \"Topic5\", \"Topic5\", \"Topic5\", \"Topic5\", \"Topic5\", \"Topic5\", \"Topic5\", \"Topic5\", \"Topic5\", \"Topic5\", \"Topic5\", \"Topic5\", \"Topic5\", \"Topic5\", \"Topic5\", \"Topic5\", \"Topic5\", \"Topic5\", \"Topic5\", \"Topic5\", \"Topic5\", \"Topic5\", \"Topic5\", \"Topic5\", \"Topic5\", \"Topic5\", \"Topic5\", \"Topic5\", \"Topic5\", \"Topic5\", \"Topic5\", \"Topic5\", \"Topic5\", \"Topic5\", \"Topic5\", \"Topic5\", \"Topic5\", \"Topic5\", \"Topic5\", \"Topic5\", \"Topic5\", \"Topic5\", \"Topic5\", \"Topic5\", \"Topic5\", \"Topic5\", \"Topic5\", \"Topic5\", \"Topic5\", \"Topic5\", \"Topic5\", \"Topic5\", \"Topic5\", \"Topic5\", \"Topic5\", \"Topic5\", \"Topic5\", \"Topic5\", \"Topic5\", \"Topic5\", \"Topic5\", \"Topic5\", \"Topic5\", \"Topic5\", \"Topic5\", \"Topic5\", \"Topic5\", \"Topic5\", \"Topic5\", \"Topic5\", \"Topic6\", \"Topic6\", \"Topic6\", \"Topic6\", \"Topic6\", \"Topic6\", \"Topic6\", \"Topic6\", \"Topic6\", \"Topic6\", \"Topic6\", \"Topic6\", \"Topic6\", \"Topic6\", \"Topic6\", \"Topic6\", \"Topic6\", \"Topic6\", \"Topic6\", \"Topic6\", \"Topic6\", \"Topic6\", \"Topic6\", \"Topic6\", \"Topic6\", \"Topic6\", \"Topic6\", \"Topic6\", \"Topic6\", \"Topic6\", \"Topic6\", \"Topic6\", \"Topic6\", \"Topic6\", \"Topic6\", \"Topic6\", \"Topic6\", \"Topic6\", \"Topic6\", \"Topic6\", \"Topic6\", \"Topic6\", \"Topic6\", \"Topic6\", \"Topic6\", \"Topic6\", \"Topic6\", \"Topic6\", \"Topic6\", \"Topic6\", \"Topic6\", \"Topic6\", \"Topic6\", \"Topic6\", \"Topic6\", \"Topic6\", \"Topic6\", \"Topic6\", \"Topic6\", \"Topic6\", \"Topic6\", \"Topic6\", \"Topic6\", \"Topic6\", \"Topic6\", \"Topic6\", \"Topic6\", \"Topic6\", \"Topic6\", \"Topic6\", \"Topic7\", \"Topic7\", \"Topic7\", \"Topic7\", \"Topic7\", \"Topic7\", \"Topic7\", \"Topic7\", \"Topic7\", \"Topic7\", \"Topic7\", \"Topic7\", \"Topic7\", \"Topic7\", \"Topic7\", \"Topic7\", \"Topic7\", \"Topic7\", \"Topic7\", \"Topic7\", \"Topic7\", \"Topic7\", \"Topic7\", \"Topic7\", \"Topic7\", \"Topic7\", \"Topic7\", \"Topic7\", \"Topic7\", \"Topic7\", \"Topic7\", \"Topic7\", \"Topic7\", \"Topic7\", \"Topic7\", \"Topic7\", \"Topic7\", \"Topic7\", \"Topic7\", \"Topic7\", \"Topic7\", \"Topic7\", \"Topic7\", \"Topic7\", \"Topic7\", \"Topic7\", \"Topic7\", \"Topic7\", \"Topic7\", \"Topic7\", \"Topic7\", \"Topic7\", \"Topic7\", \"Topic7\", \"Topic7\", \"Topic7\", \"Topic7\", \"Topic7\", \"Topic7\", \"Topic7\", \"Topic7\", \"Topic7\", \"Topic7\", \"Topic7\", \"Topic7\", \"Topic7\", \"Topic7\", \"Topic8\", \"Topic8\", \"Topic8\", \"Topic8\", \"Topic8\", \"Topic8\", \"Topic8\", \"Topic8\", \"Topic8\", \"Topic8\", \"Topic8\", \"Topic8\", \"Topic8\", \"Topic8\", \"Topic8\", \"Topic8\", \"Topic8\", \"Topic8\", \"Topic8\", \"Topic8\", \"Topic8\", \"Topic8\", \"Topic8\", \"Topic8\", \"Topic8\", \"Topic8\", \"Topic8\", \"Topic8\", \"Topic8\", \"Topic8\", \"Topic8\", \"Topic8\", \"Topic8\", \"Topic8\", \"Topic8\", \"Topic8\", \"Topic8\", \"Topic8\", \"Topic8\", \"Topic8\", \"Topic8\", \"Topic8\", \"Topic8\", \"Topic8\", \"Topic8\", \"Topic8\", \"Topic8\", \"Topic8\", \"Topic8\", \"Topic8\", \"Topic8\", \"Topic8\", \"Topic8\", \"Topic8\", \"Topic8\", \"Topic8\", \"Topic8\", \"Topic8\"], \"logprob\": [30.0, 29.0, 28.0, 27.0, 26.0, 25.0, 24.0, 23.0, 22.0, 21.0, 20.0, 19.0, 18.0, 17.0, 16.0, 15.0, 14.0, 13.0, 12.0, 11.0, 10.0, 9.0, 8.0, 7.0, 6.0, 5.0, 4.0, 3.0, 2.0, 1.0, -5.8219, -6.518, -6.7916, -6.8908, -6.959, -7.1497, -7.2536, -7.4334, -7.5281, -7.5437, -7.6705, -7.7719, -7.8945, -8.0303, -8.0407, -8.0555, -8.0572, -8.0892, -8.0318, -8.1066, -8.1924, -8.219, -8.2531, -8.2467, -8.3108, -8.3196, -8.3466, -8.3603, -8.3572, -8.3477, -7.5482, -7.5223, -8.1553, -6.512, -5.9773, -7.0736, -5.9277, -7.7069, -7.3085, -7.7885, -7.8053, -5.4813, -5.4786, -6.252, -5.7452, -7.3671, -4.8909, -5.5187, -4.668, -6.4274, -6.233, -6.8632, -6.317, -6.6744, -4.4683, -5.8396, -4.177, -6.2916, -6.0075, -5.0929, -6.3165, -3.4791, -5.961, -4.9788, -4.506, -4.6659, -5.445, -5.6974, -5.3973, -4.3237, -5.1092, -4.9865, -4.4829, -5.0795, -5.4121, -5.0044, -5.3148, -5.0699, -5.2258, -5.3833, -4.9007, -5.2772, -5.4663, -5.1144, -5.4408, -5.3776, -5.4073, -4.2367, -4.2372, -5.1331, -5.2127, -5.2625, -5.424, -5.4456, -5.4831, -5.9454, -6.0092, -6.2317, -6.3189, -6.354, -6.3425, -6.3662, -6.4259, -6.4767, -6.496, -6.5467, -6.5819, -5.5887, -6.6059, -6.6129, -6.6687, -6.7319, -6.7623, -6.774, -6.7762, -6.7816, -5.8044, -5.0047, -5.864, -4.5572, -5.5963, -4.7768, -3.3007, -5.5595, -5.3282, -4.6808, -5.4189, -5.5321, -4.3047, -4.4821, -4.9213, -4.5579, -5.8591, -4.5052, -4.9318, -5.8419, -4.6486, -4.4803, -4.2056, -4.795, -4.7724, -5.2414, -5.1771, -4.8244, -4.7224, -4.91, -5.0919, -5.2471, -5.2745, -5.3211, -2.9531, -5.7739, -5.7717, -5.8789, -5.8875, -4.6181, -6.0891, -6.1284, -6.2663, -6.3127, -6.3782, -6.4976, -6.5441, -6.6019, -6.6355, -6.5538, -6.6536, -6.6682, -6.6949, -6.4979, -6.7707, -6.3049, -6.7869, -6.8284, -6.9091, -6.9481, -7.0203, -7.0245, -7.0645, -7.0818, -5.5547, -6.0851, -4.9891, -6.176, -5.9685, -6.4681, -6.0312, -5.5424, -5.2483, -5.0203, -3.7096, -5.7909, -5.9297, -6.1347, -5.013, -4.5399, -5.2869, -4.8596, -5.0419, -5.4528, -4.5665, -5.7748, -4.7235, -4.5854, -5.1747, -4.4667, -5.3037, -4.9553, -5.3635, -4.6015, -5.3586, -4.4674, -5.3353, -4.6556, -5.2868, -5.3816, -4.629, -5.0857, -5.1035, -5.2251, -5.2222, -5.3039, -5.3194, -3.8125, -4.6054, -4.7118, -4.8517, -4.8971, -4.8842, -5.301, -5.3887, -5.5821, -5.6756, -5.7451, -5.8145, -5.8671, -5.8874, -5.8687, -6.0892, -6.0978, -6.1405, -6.1593, -6.2698, -6.303, -6.3419, -6.3588, -6.5132, -6.5369, -6.6143, -6.6484, -6.7316, -6.753, -6.7624, -4.6769, -4.527, -4.3836, -4.8033, -4.5255, -4.9829, -6.1291, -4.5048, -5.6171, -5.3345, -4.2387, -5.285, -4.7596, -4.9551, -5.1344, -5.831, -4.822, -4.8102, -4.9245, -5.5531, -5.2422, -4.2622, -5.4638, -5.0064, -5.3403, -5.1143, -4.8091, -4.9217, -4.862, -4.6766, -4.9938, -5.092, -5.2057, -5.6257, -6.0546, -6.1186, -6.2864, -6.2973, -6.326, -6.3282, -6.4658, -6.6032, -6.8442, -6.8573, -6.794, -6.9031, -6.9717, -6.9757, -6.9935, -7.0167, -7.0216, -7.0866, -7.0885, -7.1232, -7.1427, -7.1635, -7.1859, -6.6507, -7.2013, -7.2474, -7.2425, -7.2784, -7.289, -4.6784, -5.8606, -7.1777, -3.7154, -4.7678, -5.8142, -4.4637, -6.6261, -5.6064, -6.0363, -4.7672, -6.0944, -3.8773, -3.4378, -4.8656, -5.9071, -6.463, -3.539, -4.9837, -5.7851, -3.8153, -4.6822, -5.6216, -4.1641, -4.5232, -4.0376, -5.3822, -4.3501, -4.8005, -5.5158, -4.2566, -4.6553, -5.1645, -4.3813, -5.1974, -5.0925, -4.5541, -4.9186, -4.7838, -4.5741, -4.8642, -4.9303, -5.2197, -5.199, -4.2801, -4.977, -5.3126, -5.6272, -5.8619, -5.9313, -6.2323, -6.2739, -6.2929, -6.3758, -6.4206, -6.4844, -5.4852, -6.5729, -6.6609, -6.7346, -6.8212, -6.8237, -6.9202, -6.9473, -6.9495, -6.9636, -6.9946, -7.0089, -7.0154, -7.0613, -7.0902, -7.241, -7.3481, -7.3729, -4.8833, -5.086, -6.3134, -5.1222, -4.3004, -4.7015, -4.1636, -6.6087, -6.6516, -6.3496, -4.7935, -4.7408, -5.6888, -5.5113, -5.9159, -5.7, -5.8371, -5.0925, -4.6688, -5.6108, -5.5246, -4.3418, -4.2054, -4.8491, -4.7911, -5.052, -4.2697, -4.2322, -4.1712, -4.3157, -4.6764, -4.4788, -4.6586, -4.9526, -4.9691, -4.6416, -5.1166, -5.1346, -5.1235, -5.1016, -5.5236, -5.8647, -5.9216, -5.9723, -5.6533, -6.1024, -6.1299, -6.348, -5.9887, -6.5593, -6.6055, -6.613, -6.7065, -6.7312, -6.736, -6.7533, -6.8524, -6.8529, -6.8813, -6.9979, -7.1045, -7.1603, -7.1991, -7.2075, -7.2379, -7.2812, -7.3972, -7.4193, -7.4368, -7.4451, -6.3797, -5.9053, -7.1264, -2.4957, -3.4636, -3.7455, -6.5612, -3.9571, -2.6847, -3.0812, -4.9215, -5.4096, -4.0811, -4.7588, -4.4549, -5.6061, -4.3342, -4.7419, -4.3977, -4.1613, -5.5916, -4.6522, -5.2267, -5.7576, -4.7368, -4.4525, -4.5571, -4.8047, -5.2387, -5.0962, -5.3745, -5.279, -5.3888, -5.105, -5.3159, -5.234, -5.3584, -4.571, -5.0158, -5.0433, -5.304, -5.3536, -5.3673, -5.3882, -5.4201, -5.3683, -5.4564, -5.5268, -5.5853, -5.6748, -5.6534, -5.7679, -5.8482, -5.8663, -5.8819, -5.9871, -6.0105, -6.0748, -6.0729, -6.1175, -6.1285, -6.1916, -5.9316, -6.2931, -6.3162, -6.3339, -6.3601, -5.7932, -3.5891, -5.2479, -4.9106, -5.0193, -2.7255, -5.383, -4.5404, -5.4806, -5.2441, -5.4533, -4.6162, -4.7548, -5.4428, -5.3481, -4.2344, -5.2148, -5.2349, -4.2079, -4.4292, -5.0834, -5.1166, -5.1372, -5.3657, -5.191, -5.2854, -5.2084, -5.2666], \"loglift\": [30.0, 29.0, 28.0, 27.0, 26.0, 25.0, 24.0, 23.0, 22.0, 21.0, 20.0, 19.0, 18.0, 17.0, 16.0, 15.0, 14.0, 13.0, 12.0, 11.0, 10.0, 9.0, 8.0, 7.0, 6.0, 5.0, 4.0, 3.0, 2.0, 1.0, 1.5281, 1.5278, 1.5276, 1.5275, 1.5274, 1.5272, 1.5271, 1.5268, 1.5267, 1.5266, 1.5264, 1.5262, 1.5258, 1.5255, 1.5254, 1.5254, 1.5254, 1.5253, 1.5253, 1.5253, 1.525, 1.5249, 1.5248, 1.5247, 1.5246, 1.5246, 1.5244, 1.5244, 1.5244, 1.5243, 1.5214, 1.521, 1.5225, 1.4981, 1.4852, 1.4974, 1.4602, 1.512, 1.4995, 1.5137, 1.5141, 1.4185, 1.4015, 1.4409, 1.4128, 1.4903, 1.353, 1.3684, 1.3098, 1.4244, 1.3936, 1.4481, 1.4006, 1.4276, 1.195, 1.3343, 1.1345, 1.3833, 1.3439, 1.2165, 1.3693, 0.8726, 1.2993, 1.1221, 1.0283, 1.0534, 1.1983, 1.2433, 1.1647, 0.8911, 1.0847, 1.0196, 0.7972, 0.9573, 1.0864, 0.9032, 1.0303, 0.8597, 0.932, 1.0056, 0.558, 0.7836, 0.9421, 0.4101, 0.7059, 0.4935, 0.3987, 1.8863, 1.8862, 1.8861, 1.8861, 1.8861, 1.886, 1.886, 1.886, 1.8858, 1.8858, 1.8856, 1.8856, 1.8856, 1.8855, 1.8855, 1.8855, 1.8854, 1.8854, 1.8854, 1.8853, 1.8853, 1.8853, 1.8853, 1.8853, 1.8852, 1.8851, 1.8851, 1.8851, 1.8851, 1.885, 1.8823, 1.8832, 1.8518, 1.8713, 1.8478, 1.8172, 1.8604, 1.8507, 1.8306, 1.8439, 1.8419, 1.7719, 1.7722, 1.7623, 1.7276, 1.834, 1.6799, 1.729, 1.8266, 1.365, 1.2614, 1.0144, 1.2571, 1.2167, 1.3744, 1.2781, 0.5389, -0.3708, 0.15, 0.5754, 0.8138, 0.5966, -0.5912, 2.0168, 2.0163, 2.0163, 2.0163, 2.0163, 2.0162, 2.0161, 2.0161, 2.016, 2.016, 2.0159, 2.0158, 2.0157, 2.0157, 2.0156, 2.0156, 2.0156, 2.0156, 2.0156, 2.0156, 2.0155, 2.0154, 2.0154, 2.0153, 2.0153, 2.0152, 2.0151, 2.0151, 2.015, 2.015, 2.0096, 2.0149, 2.0026, 2.0144, 2.0091, 2.0137, 2.0072, 1.9918, 1.9765, 1.9655, 1.9148, 1.9817, 1.9809, 1.9914, 1.9271, 1.8788, 1.9104, 1.818, 1.8373, 1.8738, 1.6844, 1.8917, 1.6055, 1.5402, 1.6904, 1.4371, 1.691, 1.4307, 1.599, 1.0657, 1.5124, 0.7526, 1.4039, 0.4045, 1.1593, 1.2703, -0.2773, 0.454, 0.3391, 0.4137, 0.141, 0.4047, 0.0218, 2.0954, 2.0953, 2.0953, 2.0952, 2.0952, 2.0952, 2.0951, 2.0951, 2.095, 2.095, 2.0949, 2.0949, 2.0949, 2.0949, 2.0948, 2.0947, 2.0947, 2.0947, 2.0947, 2.0946, 2.0945, 2.0945, 2.0945, 2.0943, 2.0943, 2.0942, 2.0942, 2.094, 2.094, 2.094, 2.0865, 2.0565, 2.0372, 2.0416, 2.0229, 2.0319, 2.0746, 1.9663, 2.0399, 2.0098, 1.8952, 1.9764, 1.8857, 1.8966, 1.9056, 2.0345, 1.7629, 1.7327, 1.7124, 1.9256, 1.7369, 0.9653, 1.8474, 1.3979, 1.6928, 1.3318, 0.8297, 0.7329, 0.4495, -0.3249, 0.4649, 0.4324, 0.878, 2.1601, 2.1599, 2.1598, 2.1597, 2.1597, 2.1596, 2.1596, 2.1595, 2.1593, 2.159, 2.1589, 2.1589, 2.1589, 2.1587, 2.1587, 2.1587, 2.1586, 2.1586, 2.1585, 2.1585, 2.1584, 2.1584, 2.1583, 2.1583, 2.1582, 2.1582, 2.1581, 2.1581, 2.158, 2.158, 2.1389, 2.1494, 2.158, 2.1154, 2.1046, 2.1211, 2.071, 2.1408, 2.092, 2.0814, 1.9827, 2.0802, 1.8533, 1.7695, 1.9057, 2.0203, 2.0943, 1.6885, 1.8886, 1.9965, 1.6013, 1.7432, 1.8889, 1.4905, 1.5732, 1.4049, 1.815, 1.4558, 1.6067, 1.8181, 1.1809, 1.3355, 1.5547, 0.96, 1.4812, 1.2853, 0.506, 0.9523, 0.4362, -0.2224, 0.4159, 0.4521, 1.1027, 0.5095, 2.2104, 2.2103, 2.2102, 2.2101, 2.2099, 2.2099, 2.2096, 2.2096, 2.2096, 2.2095, 2.2094, 2.2094, 2.2094, 2.2092, 2.2091, 2.209, 2.2089, 2.2089, 2.2087, 2.2086, 2.2086, 2.2086, 2.2085, 2.2085, 2.2085, 2.2084, 2.2083, 2.208, 2.2077, 2.2076, 2.207, 2.2011, 2.2064, 2.1934, 2.1791, 2.1727, 2.1611, 2.201, 2.1997, 2.1859, 2.1147, 2.1115, 2.1498, 2.1245, 2.1255, 2.0307, 2.0559, 1.9085, 1.8112, 1.9969, 1.9365, 1.5291, 1.4335, 1.6561, 1.6084, 1.6495, 1.2701, 1.2053, 1.0361, 1.0256, 0.848, 0.5813, 0.5562, 1.0041, 0.6981, -0.29, 0.9202, 0.7304, 0.585, 0.2616, 2.3736, 2.3734, 2.3733, 2.3733, 2.3732, 2.3732, 2.3731, 2.3729, 2.3727, 2.3726, 2.3725, 2.3725, 2.3723, 2.3723, 2.3723, 2.3722, 2.372, 2.372, 2.372, 2.3717, 2.3714, 2.3712, 2.3711, 2.3711, 2.371, 2.3709, 2.3704, 2.3704, 2.3703, 2.3703, 2.3545, 2.3425, 2.3644, 2.1633, 2.1472, 2.1621, 2.331, 2.1468, 2.0452, 2.0742, 2.1977, 2.2321, 2.1091, 2.1526, 2.1167, 2.2058, 2.0255, 2.0293, 1.9053, 1.7736, 2.0951, 1.7947, 1.92, 2.0928, 1.6466, 1.5042, 1.5392, 1.6574, 1.6566, 1.2661, 1.4191, 1.1688, 1.1164, 0.3116, 0.6977, 0.2035, 0.1814, 2.8568, 2.8566, 2.8566, 2.8564, 2.8564, 2.8563, 2.8563, 2.8563, 2.8563, 2.8563, 2.8562, 2.8561, 2.8561, 2.8561, 2.856, 2.8558, 2.8558, 2.8558, 2.8556, 2.8556, 2.8555, 2.8555, 2.8555, 2.8554, 2.8553, 2.8552, 2.8551, 2.8551, 2.855, 2.855, 2.855, 2.8306, 2.8218, 2.7976, 2.7971, 2.6569, 2.7947, 2.6893, 2.7912, 2.7264, 2.7515, 2.5003, 2.4722, 2.6946, 2.5299, 1.6694, 2.4029, 2.1962, 0.451, 0.3007, 1.5598, 1.3798, 1.1721, 2.3047, 1.2711, 1.7298, -0.053, 0.4751]}, \"token.table\": {\"Topic\": [1, 2, 4, 6, 7, 7, 1, 2, 3, 4, 5, 6, 7, 8, 7, 3, 4, 2, 3, 4, 5, 6, 7, 8, 6, 8, 6, 8, 8, 8, 2, 8, 8, 8, 8, 8, 8, 1, 2, 3, 4, 5, 6, 7, 8, 1, 2, 3, 4, 6, 7, 8, 2, 3, 6, 7, 8, 2, 6, 7, 8, 2, 6, 7, 8, 2, 6, 7, 8, 6, 7, 8, 2, 3, 7, 8, 7, 8, 8, 1, 2, 3, 4, 5, 6, 7, 8, 1, 2, 3, 6, 7, 8, 6, 8, 1, 6, 8, 1, 1, 2, 3, 4, 5, 6, 7, 8, 7, 8, 1, 7, 1, 2, 3, 4, 6, 7, 8, 7, 1, 2, 3, 4, 5, 6, 7, 8, 8, 8, 1, 2, 3, 4, 6, 7, 8, 1, 2, 3, 4, 6, 7, 8, 1, 2, 3, 4, 5, 6, 7, 8, 2, 6, 7, 8, 2, 3, 4, 8, 8, 1, 5, 1, 2, 3, 4, 5, 6, 7, 3, 8, 1, 4, 4, 4, 8, 1, 2, 3, 4, 5, 6, 7, 2, 3, 8, 1, 2, 3, 5, 8, 3, 1, 2, 3, 4, 8, 3, 2, 1, 2, 3, 4, 5, 6, 8, 5, 8, 1, 5, 6, 7, 5, 7, 2, 1, 2, 3, 4, 5, 6, 3, 4, 5, 7, 1, 3, 1, 3, 1, 3, 2, 3, 1, 6, 7, 1, 2, 5, 6, 7, 1, 2, 3, 4, 5, 2, 5, 1, 5, 1, 2, 3, 4, 5, 6, 7, 1, 2, 3, 4, 5, 6, 7, 2, 7, 1, 2, 3, 4, 5, 6, 7, 3, 5, 7, 3, 4, 2, 1, 2, 3, 4, 4, 1, 2, 3, 4, 5, 6, 7, 8, 3, 4, 3, 5, 7, 1, 2, 5, 6, 7, 1, 2, 3, 4, 5, 6, 7, 8, 4, 1, 2, 3, 4, 5, 6, 7, 1, 3, 5, 7, 4, 3, 1, 2, 3, 4, 5, 6, 7, 5, 6, 7, 1, 2, 5, 6, 7, 4, 7, 1, 3, 4, 5, 8, 2, 2, 3, 4, 1, 2, 3, 4, 5, 6, 7, 2, 1, 2, 3, 4, 5, 6, 7, 8, 6, 4, 6, 2, 3, 4, 8, 2, 6, 2, 3, 8, 1, 2, 5, 7, 8, 1, 2, 3, 4, 5, 8, 1, 2, 3, 6, 8, 1, 5, 7, 1, 5, 8, 1, 2, 3, 4, 5, 6, 7, 8, 2, 5, 1, 2, 3, 4, 5, 7, 8, 1, 2, 3, 4, 5, 6, 7, 8, 5, 5, 2, 7, 1, 2, 3, 4, 5, 6, 7, 8, 4, 6, 2, 1, 2, 3, 4, 5, 6, 7, 3, 6, 8, 1, 2, 6, 8, 5, 6, 2, 3, 5, 6, 6, 1, 6, 6, 7, 3, 4, 6, 1, 2, 3, 4, 5, 6, 7, 1, 6, 2, 2, 3, 1, 2, 3, 4, 5, 6, 7, 8, 5, 4, 2, 2, 1, 2, 4, 5, 6, 7, 3, 7, 1, 2, 3, 4, 5, 6, 7, 8, 2, 1, 4, 5, 6, 7, 5, 5, 5, 3, 5, 5, 6, 6, 8, 1, 2, 3, 4, 5, 6, 7, 8, 1, 1, 2, 3, 4, 5, 8, 1, 2, 3, 4, 5, 6, 7, 8, 1, 2, 3, 4, 5, 6, 7, 8, 2, 1, 2, 3, 4, 5, 6, 7, 1, 3, 5, 7, 1, 2, 3, 4, 5, 6, 7, 8, 1, 2, 3, 4, 5, 6, 1, 2, 3, 4, 5, 6, 7, 8, 1, 2, 3, 4, 5, 6, 7, 8, 1, 2, 3, 4, 5, 6, 7, 8, 3, 3, 5, 3, 4, 1, 2, 3, 4, 1, 2, 5, 6, 1, 3, 4, 5, 6, 7, 1, 2, 3, 4, 5, 6, 7, 8, 3, 1, 3, 4, 5, 6, 7, 7, 2, 7, 8, 1, 2, 3, 4, 5, 6, 7, 8, 2, 2, 3, 4, 6, 1, 2, 3, 4, 5, 6, 7, 1, 2, 3, 4, 5, 7, 8, 2, 6, 2, 3, 4, 6, 8, 2, 2, 2, 3, 5, 6, 7, 8, 5, 1, 1, 4, 6, 4, 4, 1, 2, 3, 4, 1, 2, 3, 4, 7, 8, 3, 3, 4, 5, 6, 8, 5, 2, 3, 4, 4, 1, 2, 3, 4, 5, 6, 7, 3, 1, 2, 4, 5, 6, 7, 4, 5, 6, 7, 2, 5, 6, 7, 8, 1, 3, 5, 1, 3, 5, 6, 7, 1, 2, 3, 5, 7, 8, 1, 2, 3, 4, 5, 7, 8, 5, 1, 1, 3, 4, 5, 6, 7, 7, 5, 1, 3, 5, 8, 1, 2, 6, 5, 4, 1, 2, 3, 4, 8, 4, 2, 3, 5, 7, 8, 1, 2, 3, 5, 6, 1, 2, 3, 4, 5, 6, 7, 1, 3, 4, 6, 8, 5, 8, 5, 2, 3, 4, 3, 1, 6, 7, 4, 2, 4, 8, 1, 2, 3, 4, 5, 6, 7, 1, 2, 3, 4, 5, 6, 7, 8, 3, 4, 2, 7, 1, 2, 3, 4, 5, 6, 7, 6, 1, 2, 3, 5, 6, 2, 3, 1, 3, 4, 7, 1, 2, 3, 4, 5, 6, 7, 1, 2, 3, 4, 5, 6, 7, 1, 2, 3, 4, 5, 7, 8, 1, 2, 3, 4, 5, 6, 7, 1, 3, 4, 5, 7, 8, 4, 2, 3, 1, 7, 6, 2, 1, 2, 3, 4, 5, 6, 7, 1, 5, 6, 1, 2, 3, 4, 5, 6, 7, 8, 1, 3, 4, 5, 6, 7, 8, 8, 7, 1, 6, 5, 4, 1, 2, 8, 3, 1, 2, 3, 4, 6, 7, 7, 3, 5, 2, 3, 6, 1, 2, 5, 6, 7, 7, 1, 2, 3, 4, 5, 6, 7, 8, 7, 8, 1, 8, 4, 1, 2, 3, 4, 5, 6, 7, 1, 2, 3, 4, 5, 6, 7, 8, 1, 2, 3, 4, 5, 6, 7, 8, 1, 1, 2, 3, 4, 8, 1, 7, 3, 7, 2, 3, 5, 6, 7, 8, 5, 1, 2, 3, 4, 5, 6, 7, 7, 1, 2, 5, 1, 2, 3, 5, 6, 7, 8, 1, 2, 6, 5, 3, 1, 2, 3, 4, 5, 6, 7, 1, 2, 8, 1, 2, 3, 5, 7, 8, 1, 2, 3, 4, 6, 7, 6, 8, 1, 2, 3, 4, 5, 8, 2, 3, 4, 1, 2, 3, 4, 5, 8, 6, 8, 1, 2, 3, 5, 6, 8, 1, 5, 2, 1, 1, 7, 6, 4, 5, 1, 2, 3, 4, 5, 6, 7, 6, 1, 3, 5, 6, 6, 7, 5, 7, 8, 2, 3, 5, 8, 1, 2, 3, 5, 8, 2, 3, 7, 5, 1, 2, 3, 4, 5, 8, 1, 7, 3, 5, 8, 1, 2, 1, 1, 2, 6, 7, 1, 1, 3, 6, 1, 2, 3, 4, 5, 6, 7, 1, 2, 3, 4, 5, 6, 7, 8, 6, 2, 7, 2, 3, 4, 1, 2, 3, 4, 5, 6, 7, 6, 2, 3, 6, 1, 3, 6, 2, 3, 1, 3, 4, 8, 6, 2, 2, 8, 3, 2, 3, 4, 6, 1, 3, 4, 5, 1, 2, 3, 4, 5, 6, 7, 8, 6, 1, 3, 4, 3, 4, 6, 1, 2, 3, 4, 5, 6, 7, 8, 1, 1, 3, 1, 1, 2, 4, 6, 4, 1, 2, 3, 4, 5, 6, 7, 2, 3, 4, 6, 1, 3, 5, 8, 1, 2, 3, 4, 5, 2, 3, 6, 8, 1, 3, 8, 1, 2, 3, 4, 5, 6, 7, 8, 2, 1, 3, 4, 5, 6, 7, 8, 7, 8, 3, 1, 2, 3, 4, 5, 6, 7, 4, 8, 6, 3, 1, 2, 3, 4, 5, 6, 7, 1, 2, 3, 4, 5, 7, 5, 7, 1, 3, 5, 6, 7, 6, 2, 3, 7, 1, 4, 8, 7, 1, 1, 2, 3, 5, 6, 7, 8, 4, 6, 8, 4, 7, 1, 2, 3, 4, 5, 6, 7, 8, 1, 2, 3, 4, 5, 6, 1, 1, 2, 3, 4, 5, 6, 7, 1, 2, 3, 4, 5, 6, 7, 5, 1, 2, 3, 5, 6, 8, 1, 2, 3, 4, 5, 6, 7, 8, 1, 6, 6, 5, 8, 4, 6, 3, 1, 2, 3, 4, 5, 6, 7, 8, 1, 2, 3, 4, 5, 6, 7, 8, 4, 2, 5, 1, 2, 3, 4, 5, 6, 7, 8, 5, 5, 2, 3, 5, 6, 7, 7, 8, 4, 1, 1, 2, 3, 4, 5, 6, 7, 7, 3, 2, 3, 4, 1, 2, 3, 4, 5, 6, 7, 1, 2, 3, 4, 5, 6, 2, 6, 3, 1, 1, 4, 5, 6, 7, 1, 2, 3, 4, 5, 6, 7, 6, 1, 2, 4, 5, 6, 7, 7, 1, 2, 3, 4, 5, 6, 7, 8, 4, 3, 4, 5, 8, 3, 5, 2, 3, 5, 7, 8, 1, 2, 3, 5, 6, 7, 4, 1, 2, 3, 4, 5, 6, 7, 1, 2, 3, 4, 5, 6, 7, 1, 2, 3, 4, 5, 8, 2, 8, 1, 4, 1, 2, 3, 4, 8, 1, 2, 3, 4, 5, 6, 7, 1, 2, 3, 4, 5, 6, 7, 5, 7, 1, 2, 4, 5, 6, 7, 3, 7, 8], \"Freq\": [0.07554283869874226, 0.4220999627752304, 0.08494217807600513, 0.11766580405610547, 0.29956042719017384, 0.9989486525837982, 0.004686339217050304, 0.0029822158653956482, 0.07285127328323655, 0.0705081036747114, 0.12418798925183307, 0.29928666363434897, 0.41900132908808857, 0.006603477987661793, 0.9959161109755112, 0.9981881773573773, 0.0009082694971404707, 0.028364817307760668, 0.027521145818606763, 0.039943481193390154, 0.001832803579886074, 0.0023273696252521575, 0.8098373532268038, 0.09015648085820545, 0.48340970836909364, 0.5164434805483098, 0.12208501992177824, 0.877735437346118, 0.998938124727105, 0.9995210016906312, 0.06255210598036835, 0.9361246205337884, 0.9984722600028988, 0.9992058484031139, 0.998275549748778, 0.9983056909000185, 0.9988168411922788, 0.0002498653825603326, 0.08395476854027174, 0.028141088710857454, 0.015148088817720161, 0.0020926225789427854, 0.07314809074453736, 0.7196747681193979, 0.07758320128498326, 0.0068854396869099345, 0.13753224400263692, 0.0022951465623033116, 0.01430052858050525, 0.14600663130960298, 0.48833656856392, 0.20479769325168012, 0.04248983730889151, 0.0011381206422024512, 0.09484338685020426, 0.18096118211018972, 0.6805961440370658, 0.00713376434058772, 0.10870498042800336, 0.1841190605999307, 0.6997883115052717, 0.04437729800235502, 0.01745992052551673, 0.21679401319183272, 0.7209492183661284, 0.02691539696963735, 0.10934380018915173, 0.22822013680505002, 0.6347547785339475, 0.04078097852548544, 0.38357760960927617, 0.5756619287510554, 0.04242525284960083, 0.013198967553209146, 0.09427833966577961, 0.8503906237853321, 0.03436406527901125, 0.964837217449162, 0.9990229483072264, 0.005018554482700842, 0.10964346650776886, 0.013573994981781324, 0.03297907231489124, 0.0023897878489051627, 0.0410565552441907, 0.7408342331606004, 0.05448716295503771, 0.996527267819621, 0.00403453543833163, 0.02017267719165815, 0.03227628350665304, 0.04337125596206502, 0.8997014027479535, 0.05987979894484389, 0.9394256982002558, 0.0813764027168855, 0.918268460131592, 0.9992645388100727, 0.9940948378142795, 0.003617309251948561, 0.09917456199092305, 0.0076114215509750964, 0.01695613711850888, 0.00022608182824678506, 0.031726816563965504, 0.7968630839605018, 0.0438598746798763, 0.9981827638820636, 0.9986723418386673, 0.007298628917961954, 0.9889642183838449, 0.00010141345193393332, 0.0952272313659634, 0.03326361223433013, 0.005983393664102067, 0.013792229463014933, 0.8088736926250523, 0.04269506326418593, 0.9986836671419954, 0.0037021089960194596, 0.050225278712664, 0.05071889324546659, 0.005182952594427243, 0.00012340363320064864, 0.045412537017838706, 0.7965704523101871, 0.04800401331505232, 0.9973764485217537, 0.996927595003053, 0.0031517566970685348, 0.17689234462297151, 0.003742711077768885, 0.0007879391742671337, 0.002363817522801401, 0.7729683299560581, 0.03998791309405703, 0.0004895815045140348, 0.43148449931170274, 0.01599299581412514, 0.0017951321832181278, 0.0024479075225701742, 0.4830537511205144, 0.06478795243069062, 0.0001738956297735284, 0.11094541179551114, 0.12311810587965812, 0.010607633416185234, 0.030953422099688058, 0.007303616450488193, 0.5602917191303086, 0.15650606679617557, 0.23281047865453217, 0.02501269605379271, 0.7082922103694186, 0.03391144368831512, 0.03815685892927393, 0.9140560982311143, 0.04299765446507734, 0.004556042857226738, 0.9996400287916954, 0.9914930473976256, 0.006998774452218533, 0.5928407485244854, 0.12536128753742232, 0.06760320741546859, 0.09369279474328292, 0.045779841914844015, 0.06382924195295456, 0.010829640022866327, 0.9999689645556556, 0.9989731959186728, 0.05641890685353523, 0.9433647848663189, 0.9990447183112383, 0.9410987663622918, 0.058908472398250325, 0.880695451083509, 0.012872527908650558, 0.03405856342497127, 0.014213416232468325, 0.009922573596251472, 0.027085944141118885, 0.020917857851557156, 0.036249611901208525, 0.021202603187499326, 0.9418059544898894, 0.12679402888239233, 0.001584925361029904, 0.7214051934954446, 0.03381174103530462, 0.11622785980885962, 0.999002936925842, 7.639372491980504e-05, 0.06860156497798492, 0.9029738285520955, 0.016501044582677888, 0.01184102736256978, 0.999324691892067, 0.9982203812597636, 0.22628163159840234, 0.10031200745038464, 0.6627702433701839, 0.001854767472118052, 0.006646250108423019, 0.00015456395600983765, 0.001854767472118052, 0.998049580213715, 0.9984470658679788, 0.022736710461473977, 0.3282518463974389, 0.023339007427340835, 0.6256359732942012, 0.9988518175014293, 0.9939760559823363, 0.9992562413591173, 0.8650236136292501, 0.061744993697626635, 0.03740321733606229, 0.018998459599269733, 0.009499229799634867, 0.007718124212203329, 0.9924537405238604, 0.007232456408675906, 0.9355485342326587, 0.0631351771568052, 0.9013734116911306, 0.09849913854171946, 0.9843261217226951, 0.01390291132376688, 0.9956156849274899, 0.9974931466684354, 0.002661092269466853, 0.9965790549153364, 0.9996490308529591, 0.9975349156208784, 0.9982053391131861, 0.07235884185776982, 0.009881603954144778, 0.1385018360669647, 0.07347450682033456, 0.7055783984677246, 0.07264557450512936, 0.00039267878110880734, 0.03887519932977193, 0.8878467240870135, 0.9985699686417453, 0.9995980811590475, 0.999417350691873, 0.9851715466586264, 0.012087994437529158, 0.7950583488251499, 0.00235340409124366, 0.002745638106450937, 0.012159254471425579, 0.042361273642385885, 0.1427731815354487, 0.0019611700760363837, 0.8313578994419646, 0.000429642325293005, 0.000429642325293005, 0.012889269758790149, 0.04554208648105853, 0.08378025343213596, 0.025348897192287292, 0.9990492758752872, 0.0004856826815144809, 0.3151162305147602, 0.03221188134150882, 0.004901808030229602, 0.0052519371752460025, 0.0017506457250820008, 0.005952195465278803, 0.6351342690597499, 0.07795887934777262, 0.8690122139060538, 0.05273688897055207, 0.9995039752501933, 0.9995828113523596, 0.9996704193293651, 0.09698351330420941, 0.00041269580129450815, 0.1221579571831744, 0.7804077602479149, 0.9980602012591141, 0.004438940549881181, 0.853164373687163, 0.11600431303689487, 0.0007398234249801969, 0.015240362554592055, 0.00044389405498811813, 0.007694163619794047, 0.0022194702749405906, 0.03807288843111276, 0.9617889354980056, 0.0028715365052886053, 0.12921914273798724, 0.8677783318982165, 0.07086770064747966, 0.27294486469963125, 0.10036117018165135, 0.007295204478417024, 0.5484951595701257, 0.6012102860666462, 0.03401599236260198, 0.12028681509801688, 0.013539260118009341, 0.21942552968112658, 0.005035262027358846, 0.0048114726039206746, 0.0017903153875053674, 0.9981932117984255, 0.6951675483050356, 0.00585322100733962, 0.013072193583058484, 0.01951073669113207, 0.15315928302538673, 0.09228578454905467, 0.020876488259511314, 0.07993138649943805, 0.07134371687553148, 0.8488581128246107, 0.998947798782525, 0.9994863615834075, 0.9982051758187114, 0.16977956478310785, 0.31331827090671827, 0.0546583784059578, 0.2960259078269573, 0.05743966757263264, 0.08694551786257447, 0.021887536485571596, 0.053113232212006145, 0.101459892302422, 0.8450451432705081, 0.004028941586258379, 0.0008057883172516758, 0.003626047427632541, 0.9907167360609354, 0.0008057883172516758, 0.9996573628773902, 0.9984020814044778, 0.03308147149289598, 0.0006164249346502356, 0.3229552970121693, 0.6236679276323759, 0.019622860419699167, 0.9992862393018078, 0.024545128569785867, 0.03712450696180112, 0.9382375395800647, 0.011734838391748026, 0.09932702495872436, 0.8667016355048185, 0.00419101371133858, 0.00209550685566929, 0.015506750731952748, 0.995879261667023, 0.9992281428789331, 0.48134705060779337, 0.059126094405366744, 0.0909090773870062, 0.0940494743426026, 0.17467104446127574, 0.03264929938318328, 0.06567761219204199, 0.0015160537027017113, 0.9991326511425692, 0.999875574334237, 0.9999156054779023, 0.10203003159890053, 0.5600539556280243, 0.032932465644793636, 0.30487785679750673, 0.9660004094357078, 0.033818385217679894, 0.9650581054925715, 0.03290381701005021, 0.0021694824402230905, 0.18166982385398472, 0.24701983085159224, 0.16473314722379792, 0.33026519428864237, 0.07637482480404986, 0.13718995534118564, 0.0014842808151287472, 0.029261536069681016, 0.8108414052931899, 0.015054848267734436, 0.005937123260514989, 0.9982730063075405, 0.04679786568230566, 0.9499668657930455, 0.0011923023103772143, 0.0017884534655658213, 0.00405063296529428, 0.7077560508450551, 0.28796317989637515, 0.012765162208891265, 0.9336804358503326, 0.053492108303925305, 0.001042505677211491, 0.08809172972437099, 0.42412605967887496, 0.4660000377135365, 0.013726324749951299, 0.005212528386057455, 0.00034750189240383036, 0.0012162566234134062, 0.017693179721301393, 0.9802021565600972, 0.05893409880451596, 0.3391780165572403, 0.25292550736938096, 0.0009208452938205618, 0.0036833811752822474, 0.02056554489532588, 0.32383059499356426, 0.5563651939746571, 0.17586159965935777, 0.08500256196665439, 0.03463687072263279, 0.057226134237393304, 0.053210265168102545, 0.03714678889093951, 0.0005019836336613448, 0.9985803473619762, 0.9988317153221026, 0.018837668483808183, 0.9812712764747353, 0.21309899110967967, 0.18666810849142482, 0.13924799555867348, 0.0587892793531036, 0.17354983954486453, 0.22757767313217955, 0.0008745512631040206, 9.717236256711339e-05, 0.9997205860680307, 0.999557901810667, 0.9982863878245004, 0.08711375618782585, 7.019641916827225e-05, 0.20953631121729266, 0.09729223696722533, 0.1039608967882112, 0.3904324834139302, 0.11161230647755287, 0.09128829681299641, 0.9084702407915715, 0.9997161884415835, 0.002155915108591142, 0.009521958396277544, 0.9690838413117184, 0.019223576384937685, 0.0006055230500082846, 0.9985075094636613, 0.0011102532391951763, 0.19096355714157032, 0.0005551266195975882, 0.8077092315144908, 0.9990385024614089, 0.009626721476915371, 0.9896269678269002, 0.9989265021489813, 0.9982432939034057, 0.9753556344682872, 0.024242049085145163, 0.9995474106067318, 0.8035913020661337, 0.025673148407690208, 0.008376408590644686, 0.023715026918968072, 0.058526075607361575, 0.04275231917043327, 0.037421877340023016, 0.9943436181642984, 0.004399750522850878, 0.9988694141047822, 0.9998817333136608, 0.9981374266562067, 0.05218993209433904, 0.030313912653598122, 0.08062875736730223, 0.6684686511963545, 0.011250524283809613, 0.15063201957767314, 0.0012500582537566236, 0.00531274757846565, 0.9988141689320578, 0.9999496232747987, 0.9993254060714082, 0.999212365845415, 0.004953267188723411, 0.015567411164559293, 0.01698263036133741, 0.14152191967781175, 0.06580769265018246, 0.7550194414811257, 0.9994002344830563, 0.9979584993656263, 0.2150420297087662, 0.043341804437425746, 0.05319221453684069, 0.09244231016374023, 0.2433809018409292, 0.10456589182455862, 0.06273953509473518, 0.18549079941052138, 0.9986650358267798, 0.01167619565931272, 0.6957864134688809, 0.07331119569699626, 0.051681521770728434, 0.1672950001022839, 0.9988473891937191, 0.998885039518315, 0.9982408258178987, 0.038517956596256626, 0.9614081966425655, 0.9990418760212896, 0.999387933104398, 0.9973988512364186, 0.9998346136416912, 0.0145824490266358, 0.4181491764595811, 0.2824712154110571, 0.0009177765121658895, 0.17825259369621943, 0.040535129287326783, 0.024627003076451368, 0.040433154119308354, 0.9993158168089467, 0.08213296465851973, 0.002517485506774551, 0.06797210868291288, 0.8269939889754401, 0.0012587427533872755, 0.01888114130080913, 0.535143153213522, 0.01298054265895979, 0.04238958462066556, 0.08406929581466926, 0.1297040161000748, 0.1528256077113469, 0.042186763641619315, 0.0007098734266618635, 0.18585547448137058, 0.02328901522985233, 0.12169652075991465, 0.0020549131085163823, 0.5454652684717375, 0.01484103911706276, 0.00022832367872404247, 0.1063988342854038, 0.9991955116558852, 0.8799065125347474, 0.0006196524736160193, 0.006816177209776212, 0.014252006893168443, 0.05452941767820969, 0.013012701945936405, 0.030982623680800965, 0.9716099268007697, 0.0018436621001912139, 0.020280283102103353, 0.005530986300573641, 0.009426640481312249, 0.007234398508914052, 0.13789202006384663, 0.13306908772457057, 0.5068463440184633, 0.004822932339276035, 0.1898481548096839, 0.010961209861990987, 0.9687755589515766, 0.0014546179563837487, 0.016000797520221235, 0.005818471825534995, 0.0014546179563837487, 0.004363853869151246, 0.020301364391470574, 0.933172239409297, 0.04129325138129049, 0.0014731148764785904, 0.002946229752957181, 0.0001841393595598238, 0.0003682787191196476, 0.00023017419944977975, 0.046438996102792285, 0.08443453836871324, 0.08992278336267961, 0.008443453836871326, 0.7100944676808785, 0.005066072302122795, 0.02575253420245754, 0.029552088429049637, 0.43933148825363244, 0.27176471422314996, 0.03477557954514241, 0.050231392676316815, 0.036836354629299, 0.14760301540271556, 0.01365263493253739, 0.005795929924190401, 0.9992991094285537, 0.9983394366679166, 0.9972811678002181, 0.9991083125945218, 0.998759702209386, 0.9960192412688019, 0.9745286342821963, 0.025306456508744475, 0.9993729269261022, 0.03555026044314993, 0.12713338171722488, 0.8369614296383971, 0.9986686968920789, 0.03753544894548644, 0.06464438429500442, 0.8197846314830198, 0.027890923869215618, 0.03727478610558723, 0.013033141994960569, 0.13105306328185704, 0.06053259273988778, 0.007263911128786533, 0.02360771116855623, 0.023002385241157355, 0.7394056203177292, 0.012711844475376433, 0.002421303709595511, 0.9992701477225453, 0.6744216591272948, 0.0008380685019393109, 0.19281162667950413, 0.06805116235747205, 0.013744323431804699, 0.050116496415970796, 0.9960864495588841, 0.030535209920810415, 0.9687032112808821, 0.9993108899915051, 0.13469366273468955, 0.17618800077069877, 0.19943351998458875, 0.0797299584252114, 0.1911346523773869, 0.19608790320053354, 0.021985481723791264, 0.0007820922352336813, 0.9999101889217947, 0.9566902605767468, 0.037793000647496654, 0.005273441950813487, 0.9976291386181878, 0.9578518645995673, 0.0014403787437587477, 0.008162146214632904, 0.011523029950069982, 0.0038410099833566607, 0.015364039933426643, 0.0019205049916783303, 0.17857380400738837, 0.03879728479922426, 0.6037495278345035, 0.061119010300147804, 0.000797204482175841, 0.000797204482175841, 0.11586038474288887, 0.9995965815233947, 0.9977845925731867, 0.011026499718678869, 0.11649736659299847, 0.08197962834322114, 0.760349067557595, 0.03020302096855516, 0.9988968879682957, 0.9995436649952776, 0.13638002174509192, 0.0006007930473352067, 0.0030039652366760333, 0.0012015860946704134, 0.7563984465950252, 0.10153402499964993, 0.9976969079464089, 0.9979048877758792, 0.9952814158141382, 0.9999311718401935, 0.99670124687273, 0.9987321785674065, 0.9996284296478025, 0.0021377648859908257, 0.0548692987404312, 0.06395479950589221, 0.878799515216062, 0.00014294406963267502, 0.03530718519927074, 0.7171503973471307, 0.1276490541819788, 0.00014294406963267502, 0.11950124221291633, 0.9991002004045515, 0.2012909379336489, 0.2820553419871191, 0.0544113355523379, 0.4597835363197556, 0.002480288800106571, 0.9992134725139561, 0.04368982918722901, 0.026175404270762755, 0.9299967164435708, 0.9991405112493423, 0.0029157830052611495, 0.08657632615621566, 0.07760468614002751, 0.13165881723756112, 0.025793465046540936, 0.5705963050295665, 0.10496818818940137, 0.9982916350607455, 0.09083447381441742, 0.00039927241237106557, 0.7170932526184338, 0.0249545257731916, 0.10560755307214685, 0.0608890428865875, 0.05081473044990304, 0.012560944605594012, 0.9175199082358898, 0.018270464880864017, 0.9998752811825118, 0.5557903003140942, 0.010287876867867763, 0.4339279493197082, 0.998030449821365, 0.03156416221019016, 0.9649615304258133, 0.003006110686684777, 0.9233667445124856, 0.0011219523019592777, 0.004487809207837111, 0.0033658569058778332, 0.06731713811755666, 0.08178859819372489, 0.012934010877147193, 0.01217318670790324, 0.04679068640850308, 0.00038041208462197626, 0.8456560641146532, 0.001202845717674219, 0.05472948015417697, 0.7220081420339499, 0.027364740077088483, 0.019846954341624614, 0.002104980005929883, 0.17260836048625042, 0.9990125585150947, 0.9962680926155063, 0.001999631060450542, 0.0801518783397259, 0.4977414981304808, 0.13714136356256634, 0.2827811591320475, 0.00016663592170421183, 0.998679732814138, 0.9977148669969074, 0.00023989851571892161, 5.9974628929730404e-05, 0.18112337936778583, 0.8185337356329605, 0.009090804859206434, 0.04895048770341926, 0.9412479492686047, 0.9978194912280793, 0.9997156090876604, 0.1660403781809953, 0.5330400002437174, 0.018982739072209764, 0.2818116510411388, 0.0001171774016803072, 0.9983425748633492, 0.08713755222008694, 0.2520521774178687, 0.6588075481327277, 0.0020422863801582876, 0.9984953570641774, 0.0013267901735391626, 0.016916574712624324, 0.07695383006527143, 0.35707240545372715, 0.5476326441282894, 0.6661001773721772, 0.06213161979552078, 0.04146209083384258, 0.07861802980066887, 0.04552217687988651, 0.09941059167283324, 0.006766810076739887, 0.9960781058474563, 0.018542446467531358, 0.8436813142726767, 0.11857406556868735, 0.019518364702664586, 0.05770074005326537, 0.9422408083166207, 0.9991854652954287, 0.9986454923951581, 0.8711298553605322, 0.12881834849305757, 0.9989112676382914, 0.005540372377510696, 0.9898798647819111, 0.0018467907925035657, 0.9996115166863592, 0.9621311788929907, 0.004569707671771545, 0.033026523627803436, 0.5287238605472844, 0.044736612145309364, 0.016738188217632757, 0.12178299972889772, 0.08206784404887818, 0.19122111994083482, 0.01476003870100343, 0.16710676190863488, 0.5118813450697025, 0.0005500551741561385, 0.07458748161557238, 0.029042913195444112, 0.18140819643669448, 0.023762383523545184, 0.011771180726941364, 0.9985708120272228, 0.001132166453545604, 0.9492341473628296, 0.05078704992259725, 0.08396422380672026, 0.024241126314396535, 0.002541408403928669, 0.021210985525096968, 0.2987132339386928, 0.5058380188588794, 0.06343746362114255, 0.9985186708239256, 0.06279463883995406, 0.8833112530153537, 0.040100436031128554, 0.012779259834095913, 0.0006609961983153059, 0.009393339296806988, 0.9905703258451004, 0.9984183002102314, 0.9971072840343786, 0.0019882498186129184, 0.9986768320566727, 0.6076493529421767, 0.06502115071544615, 0.042405098292682276, 0.10648391349051327, 0.034395246392953396, 0.1177919397018952, 0.026228338573621997, 0.8740527864634111, 0.035640987409187634, 0.02149773843728778, 0.02658930806717173, 0.00792021942426392, 0.032246607655931674, 0.002828649794379971, 0.12552096803773297, 0.08240168352986546, 0.11291405858416154, 0.045129081667132524, 0.2055474367430125, 0.2002488805958593, 0.228203331992909, 0.5507629535577584, 0.10614135898547485, 0.04493100472391266, 0.17164946152497648, 0.06433598937279089, 0.04935898779815333, 0.01276301003751722, 0.08488586636513207, 0.08169266763039355, 0.0015965993673692552, 0.7618439981296963, 0.04523698207546223, 0.024747290194223455, 0.9992434433552921, 0.9987705507501069, 0.001204789566646691, 0.04011100753923429, 0.9586530801876996, 0.9994273934620201, 0.9996713410892013, 0.7519398741481645, 0.048723652322598, 0.006838407343522527, 0.019945354751940703, 0.0826307554008972, 0.029633098488597617, 0.06012099789513555, 0.06752777490662869, 0.9228795903905921, 0.008807970639995047, 0.048028345381823906, 0.28945082816779205, 0.47409313374680395, 0.02091901265519441, 0.1359735822587637, 0.0239074430345079, 0.0010672965640405312, 0.006830698009859399, 0.3230802387507347, 0.08106776617363204, 0.01685476720446135, 0.49419276667428796, 0.00027480598702926115, 0.00027480598702926115, 0.08418223402663033, 0.9981230628070202, 0.999656055306111, 0.023866528668256604, 0.9757198484963729, 0.9990212968704394, 0.9993288776283384, 0.102912954085965, 0.8918722403692673, 0.005043575346103302, 0.9989399973878561, 0.9164551690392887, 0.0018135656379405448, 0.01329948134489733, 0.02055374389665951, 0.023576353293227083, 0.024785397051854115, 0.9964608154638156, 0.9997306559092719, 0.9982294743065002, 0.0009927282211989296, 0.002316365849464169, 0.996368224676659, 0.0035969447394802153, 0.002213504455064748, 0.0019368163981816544, 0.1911914473062176, 0.8012886127334387, 0.9956485136546712, 0.024980675135006087, 0.10671468133709974, 0.13601229341939952, 0.12484581651573319, 0.30097684396531527, 0.305754254186987, 0.0001151183185944981, 0.0006331507522697395, 0.9990440893919087, 0.0011795089603210257, 0.0015713984111995496, 0.9978379911117139, 0.9995171545305003, 0.5124035807372294, 0.09609510810103411, 0.0719417529904182, 0.08707647336016036, 0.0477883978798023, 0.1777811331103274, 0.006945385375155648, 0.15327205452828677, 0.040996780542520476, 0.5418097246699013, 0.05124597567815059, 0.11483757276967382, 0.00023293625308250268, 0.003726980049320043, 0.09410624624533108, 0.0906947725431275, 0.11062978926082336, 0.18680320777316922, 0.04120752656980582, 0.4696511606271223, 0.092923927767151, 0.008024958806484597, 0.00012738029851562852, 0.9996722577585699, 0.10054156681219543, 0.8921091948243304, 0.005163332960398054, 0.0018645369023659638, 0.0004302777466998378, 0.9869280728174893, 0.012298169131682109, 0.9994304677149536, 0.9983393518870289, 0.9997843287982492, 0.08055985542567694, 0.574782868898139, 0.3411258608377731, 0.00016713662951385258, 0.003509869219790904, 0.996877812363042, 0.13511333255818903, 0.000368658479012794, 0.000737316958025588, 0.002764938592595955, 0.0023962801135831613, 0.5743699103019331, 0.2842356873188642, 0.9996294265793658, 0.0009245024951424119, 0.07488470210653536, 0.9235779926472695, 0.21203470119886159, 0.0006795984012784024, 0.0013591968025568049, 0.7354104199833913, 0.04689228968820977, 0.0013591968025568049, 0.002208694804154808, 0.96267514644677, 0.027117609759063944, 0.009684860628237124, 0.9982505653130871, 0.9981960270792962, 0.6218388722166179, 0.052330895230440766, 0.019235593912954953, 0.0600587320863004, 0.0397311612263218, 0.16866843920180588, 0.037967198465745144, 0.9981724710293213, 0.026061141517859064, 0.9737390148945524, 0.003524228647571407, 0.9457916775771897, 0.038395543686699014, 0.0007419428731729278, 0.005008114393917263, 0.0066774858585563505, 0.08116645813603733, 0.018504270248630272, 0.21174772886784868, 0.6817141380234016, 0.0037849643690380103, 0.002733585377638563, 0.9828401016482528, 0.01658102238124425, 0.0011842764984926271, 0.016283801854273625, 0.2709032490301885, 0.69872313411065, 0.010362419361810487, 0.0023685529969852542, 0.005847179498462518, 0.992957391193453, 0.0010631235451750033, 0.0008614728199927141, 0.8543656692277741, 0.13503586453385794, 0.0032305230749726777, 0.006245677944947177, 0.00021536820499817852, 0.9964689525773097, 0.0027641302429328982, 0.9037334406922826, 0.004550520849407264, 0.03003343760608794, 0.025482916756680678, 0.03549406262537666, 0.9992298983374225, 0.9969005610690598, 0.9990405629995311, 0.9997034305609703, 0.9982712580739646, 0.9978992788523865, 0.9988386387989706, 0.9995466059894288, 0.9991440704438869, 0.9990371376553467, 0.22161003940332336, 0.0154340763316375, 0.6584235204874036, 0.06523081317522264, 0.0034945078486726417, 0.03203298861283255, 0.0037857168360620284, 0.9969274515867538, 0.9703897047854881, 0.0008301023993032405, 0.026563276777703697, 0.0024903071979097214, 0.998702147069448, 0.9975282988808976, 0.988616267851125, 0.006640579464994962, 0.004150362165621852, 0.0284743134625584, 0.025813162671665092, 0.9455068760043925, 0.0002661150790893308, 0.10371973263280226, 0.8134303676673189, 0.08029914784475015, 0.0013383191307458357, 0.0010706553045966684, 0.016780127966540763, 0.9751118807223131, 0.007457834651795894, 0.9997277136980457, 0.006013142077272021, 0.024533619675269847, 0.006253667760362902, 0.17798900548725183, 0.7749737509188181, 0.010342604372907876, 0.9994396959949262, 0.9989720762392145, 0.0440439857109186, 0.9558202272190396, 9.391041729406951e-05, 0.0037801908056612236, 0.9958102636627566, 0.9954014441938761, 0.47481492829271243, 0.3420747827929076, 0.10850886337383868, 0.07446686702126185, 0.9996535310191219, 0.9981423880359148, 0.037054585500490796, 0.9628860635091565, 0.8391630112655593, 0.014478116906137864, 0.024981848779218274, 0.021291348391379212, 0.033782272780988346, 0.03761471549143661, 0.02853040684444814, 0.008607732614434996, 0.07402650048414096, 0.4522748650841702, 0.0002459352175552856, 0.0031971578282187127, 0.07623991744213854, 0.384888615474022, 0.0004918704351105712, 0.9969943003291167, 0.9989302764637567, 0.9948248875664784, 0.00572725281650706, 0.003102261942274658, 0.9910533727897426, 0.8909131163550877, 0.026203326951620226, 0.019475445707285304, 0.02407873287446183, 0.014518059527249045, 0.010622970385791984, 0.014163960514389312, 0.9983946912136078, 0.09082214505485864, 0.0516873996247163, 0.8565340509238701, 0.9939186880238003, 0.004789969580837592, 0.9985010839791105, 0.9421257115007045, 0.05781360033003696, 0.019624627756456726, 0.04948819173367348, 0.9180912811281494, 0.012798670275950037, 0.9976249154510585, 0.999016074356952, 0.9849055779904548, 0.014476809083642156, 0.999190855237125, 0.0004194452382698851, 0.9993282801780012, 0.9459935396110287, 0.053656846882993, 0.049718911810841725, 0.8989915831871456, 0.03682882356358646, 0.013994952954162854, 0.17141299766433843, 6.206118669961565e-05, 0.03978122067445363, 0.018245988889687002, 0.5715835295034601, 0.07161860945135647, 0.12710131036081285, 0.0001241223733992313, 0.99832841978105, 0.0006546848132893366, 0.9656600996017715, 0.03338892547775617, 0.9995023653419606, 0.0941565406642717, 0.9055720476076214, 0.2194826818223193, 0.5352628533991669, 0.11382174301940237, 0.00025770960683638275, 0.007988997811927865, 0.01151102910535843, 0.019328220512728703, 0.09234594244970382, 0.9937523172398993, 0.9989130242726357, 0.9991839650453519, 0.9964912213748149, 0.04348555132645492, 0.5442707714407906, 0.395753586063745, 0.016307081747420595, 0.999185398331204, 0.7319748837407443, 0.06925725090466255, 0.04879832558271628, 0.07274284558914229, 0.021974401271720064, 0.042130231403711575, 0.01318464076303204, 0.016536984181586063, 0.00017974982806071807, 0.3125849509975887, 0.6708263583225998, 0.7188483455173694, 0.00021161270106487178, 0.007618057238335384, 0.27319199707474945, 0.07830089411538774, 0.0017661855815500995, 0.8825040622478664, 0.022960412560151293, 0.014718213179584163, 0.2405396819124514, 0.5565139171321409, 0.20274058904049475, 0.000163632436675137, 0.00029984399044484484, 0.9858870405826498, 0.013492979570018016, 0.06157761211576682, 0.15863921933738037, 0.1994416586745484, 0.16420696564204484, 0.19187949578313843, 0.19678243655888775, 0.027423228067750403, 8.310069111439516e-05, 0.9986971935999875, 0.004628901017741976, 0.009802378625806537, 0.46071179541290724, 0.007896360559677488, 0.02532281145000022, 0.4879406249290365, 0.003539747837096805, 0.9978750999309213, 0.9980231029707518, 0.9983562856517052, 0.6416427159734075, 0.02916557799879125, 0.01215232416616302, 0.07872005543192268, 0.1099110207917411, 0.12395370649486281, 0.004455852194259774, 0.9991100347492853, 0.9991389407900864, 0.9997403907712212, 0.9983779252416978, 0.8529002299060762, 0.027009507632493615, 0.001800633842166241, 0.010803803052997447, 0.016805915860218252, 0.03121098659754818, 0.05942091679148596, 0.0007555450735675605, 0.004029573725693656, 0.0022666352207026813, 0.006799905662108045, 0.9784308702699909, 0.007555450735675605, 0.16144508235744012, 0.8382201427883126, 0.00040272800644506197, 0.014296844228799701, 0.6762810048228703, 0.3089930629449738, 5.0341000805632746e-05, 0.9980068516031666, 0.9586377032037031, 0.029097288776486475, 0.012189404757717308, 0.05229681129691067, 0.947556085874718, 0.9983687363272826, 0.9986186802396623, 0.9955716483639971, 0.002758745527887672, 0.20236209842799568, 0.3000541459449591, 0.41673285385973774, 0.00016227914869927483, 0.05533718970645271, 0.0225568016691992, 0.048165493868738, 0.951768624850302, 0.9971829475381171, 0.999529165547178, 0.9973762504108906, 0.35529748671830513, 0.275321332580833, 0.023073804861177768, 0.031482055785166274, 0.20189579253530546, 0.025811374929453096, 0.06325742264907634, 0.02385596773782786, 0.005213585802507223, 0.005722228319825, 0.006358031466472222, 0.8185329709936339, 0.022253110132652777, 0.14203842296098945, 0.9984775190821036, 0.852044427089713, 0.0418595518855485, 0.031057086882826303, 0.037268504259391565, 0.02457560788119299, 0.008912033627245809, 0.004050924376020822, 0.8234668692264551, 0.035255462291040894, 0.027340970756317425, 0.030938466908464454, 0.028779969217176238, 0.046767449977911386, 0.0071949923042940594, 0.9973668017025623, 0.08764727750080872, 0.07858031775934575, 0.052890598491867336, 0.7621283382685264, 0.0015111599569104953, 0.016622759526015447, 0.564922331675206, 0.03969225533012068, 0.03299995646632127, 0.009346141516685395, 0.0010384601685205993, 0.2751919446579588, 0.07130759823841448, 0.005538454232109863, 0.9976250468540594, 0.9990063089842953, 0.9993363880689209, 0.9991385096974803, 0.9981748036114573, 0.9792974177437651, 0.020150152628472532, 0.9993305783901857, 0.15168309278281403, 0.259885267968072, 0.1532128679621597, 0.13232555301340138, 0.13562045339968437, 0.14244560419984204, 0.024005702814347604, 0.0007648875896728403, 0.07200169369584894, 0.006294391133325813, 0.2619080798403375, 0.12235682276245545, 0.3471126427426747, 0.022414173304038262, 0.16672460416565446, 0.0012281738796733293, 0.999118780562458, 0.9969953557105607, 0.002553125110654445, 0.03519544132004557, 0.04243924579754935, 0.017085930126286102, 0.25597400387353053, 0.5116330597263, 0.07661110605012156, 0.06086370501206985, 0.0001574740103805171, 0.9985873191222554, 0.9970869007288945, 0.03955288099863035, 0.0018834705237443022, 0.06843276236270965, 0.8356330890345555, 0.05462064518858477, 0.994567815392623, 0.998039332343979, 0.9996790489822999, 0.9983466942099875, 0.8959843419579783, 0.0038289929143503344, 0.015589471151283504, 0.006837487347054168, 0.05880239118466585, 0.004922990889879002, 0.01422197368187267, 0.9963540878863179, 0.9982912200692502, 0.035920576172909745, 0.8196024148721236, 0.14412036049862567, 0.5189865948946045, 0.10464888834224564, 0.10084036204395906, 0.08887987777012644, 0.09228187598039368, 0.08203308891927415, 0.012281427501216316, 0.0184992421510036, 0.2695148209930697, 0.38633115612763985, 0.0930543775440569, 0.012199931246135996, 0.22039614355764636, 0.9996643062005003, 0.9967368150739487, 0.9992426904787152, 0.9970031317892596, 0.011723731835287169, 0.13282671311763194, 0.3754129048229254, 0.36597054783126165, 0.11406874218117247, 0.16255859281100066, 0.005179833126859004, 0.06590511084812095, 0.21678152681982257, 0.4381918406891787, 0.04518577834068493, 0.06612552927905112, 0.9983071116338502, 0.6426846727697705, 0.06371916413785758, 0.00018310104637315398, 0.202143555195962, 0.06408536623060389, 0.02709895486322679, 0.999170945842039, 0.015333390255576972, 0.5937178903372671, 0.1369858026509266, 0.0007892186160958735, 0.0013529461990214975, 0.0007892186160958735, 0.18704481201472203, 0.06392670790376576, 0.9995868511407194, 0.6208290085138097, 0.2891653293768364, 0.0001261078627897237, 0.089914906169073, 0.999156183258366, 0.9985400804054847, 0.9993764286058957, 0.06322214390981742, 0.9143478830921342, 0.00037971257603493946, 0.021833473122009017, 0.9340181697600624, 0.01247734196244358, 0.000891238711603113, 0.02228096779007782, 0.004901812913817121, 0.025400303280688718, 0.9985651501158543, 0.3268384226215069, 0.10949916696964192, 0.03138423093700595, 0.18954969433759983, 0.08164047739340094, 0.2559819540963283, 0.005046363124232235, 0.6064884888743289, 0.04174975438550117, 0.009704374347131544, 0.0965550339718196, 0.07658776013527556, 0.15994763762070766, 0.009006217919280354, 0.05171351626825088, 0.03778034090063924, 0.8357225763765518, 0.04233541746312766, 0.0002679456801463776, 0.031885535937418934, 0.9988489947339418, 0.9974626702877951, 0.99693056962283, 0.999813744170539, 0.03747134210130994, 0.5993355871258969, 0.08091339255942201, 0.2818586117400731, 0.0002058864950621425, 0.37891779045476165, 0.17385944399752132, 0.08162202489980432, 0.1958022405407677, 0.06925897434004014, 0.0747608554792022, 0.025761749333958858, 0.7164259263771579, 0.026687262889437367, 0.004845009036475236, 0.059172651347115586, 0.04066630535533313, 0.1383607498613092, 0.013740763332954358, 0.9983488603266292, 0.0018453768213061539, 0.1412454746756539, 0.01708397646076957, 0.01035800147621462, 0.045871149394664745, 0.018025612958607263, 0.7671647067383374, 0.9603480409396787, 0.03936783455172511, 0.9985436298848989], \"Term\": [\"#\", \"#\", \"#\", \"#\", \"#\", \"#includ\", \"+\", \"+\", \"+\", \"+\", \"+\", \"+\", \"+\", \"+\", \"++i\", \"+id\", \"+id\", \"0\", \"0\", \"0\", \"0\", \"0\", \"0\", \"0\", \"00\", \"00\", \"01\", \"01\", \"02\", \"03\", \"04\", \"04\", \"05\", \"06\", \"07\", \"08\", \"09\", \"1\", \"1\", \"1\", \"1\", \"1\", \"1\", \"1\", \"1\", \"10\", \"10\", \"10\", \"10\", \"10\", \"10\", \"10\", \"11\", \"11\", \"11\", \"11\", \"11\", \"12\", \"12\", \"12\", \"12\", \"14\", \"14\", \"14\", \"14\", \"15\", \"15\", \"15\", \"15\", \"16\", \"16\", \"16\", \"17\", \"17\", \"17\", \"17\", \"18\", \"18\", \"19\", \"2\", \"2\", \"2\", \"2\", \"2\", \"2\", \"2\", \"2\", \"2016\", \"22\", \"22\", \"22\", \"22\", \"22\", \"23\", \"23\", \"26\", \"26\", \"28\", \"2d\", \"3\", \"3\", \"3\", \"3\", \"3\", \"3\", \"3\", \"3\", \"3000\", \"31\", \"39\", \"39\", \"4\", \"4\", \"4\", \"4\", \"4\", \"4\", \"4\", \"48\", \"5\", \"5\", \"5\", \"5\", \"5\", \"5\", \"5\", \"5\", \"53\", \"55\", \"6\", \"6\", \"6\", \"6\", \"6\", \"6\", \"6\", \"7\", \"7\", \"7\", \"7\", \"7\", \"7\", \"7\", \"8\", \"8\", \"8\", \"8\", \"8\", \"8\", \"8\", \"8\", \"9\", \"9\", \"9\", \"9\", \"activ\", \"activ\", \"activ\", \"activ\", \"activitythread\", \"advantag\", \"advantag\", \"also\", \"also\", \"also\", \"also\", \"also\", \"also\", \"also\", \"android\", \"androidruntim\", \"angular\", \"angular\", \"angularj\", \"anim\", \"anim\", \"answer\", \"answer\", \"answer\", \"answer\", \"answer\", \"answer\", \"answer\", \"apach\", \"apach\", \"apach\", \"api\", \"api\", \"api\", \"api\", \"api\", \"apk\", \"app\", \"app\", \"app\", \"app\", \"app\", \"appcompat\", \"appdata\", \"applic\", \"applic\", \"applic\", \"applic\", \"applic\", \"applic\", \"applic\", \"apt\", \"arr\", \"array\", \"array\", \"array\", \"array\", \"arraylist\", \"arrays\", \"artifactid\", \"ask\", \"ask\", \"ask\", \"ask\", \"ask\", \"ask\", \"asp\", \"asp\", \"assert\", \"assert\", \"async\", \"async\", \"asynchron\", \"asynchron\", \"attributeerror\", \"auth\", \"authent\", \"authent\", \"await\", \"ax\", \"axi\", \"b\", \"b\", \"b\", \"b\", \"b\", \"background\", \"background\", \"background\", \"background\", \"base64\", \"bash\", \"bean\", \"benefit\", \"benefit\", \"best\", \"best\", \"best\", \"best\", \"best\", \"best\", \"best\", \"better\", \"better\", \"better\", \"better\", \"better\", \"better\", \"better\", \"bin\", \"bin\", \"bit\", \"bit\", \"bit\", \"bit\", \"bit\", \"bit\", \"bit\", \"boolean\", \"boolean\", \"boolean\", \"bootstrap\", \"border\", \"branch\", \"browser\", \"browser\", \"browser\", \"browser\", \"btn\", \"build\", \"build\", \"build\", \"build\", \"build\", \"build\", \"build\", \"build\", \"button\", \"button\", \"byte\", \"byte\", \"byte\", \"c\", \"c\", \"c\", \"c\", \"c\", \"call\", \"call\", \"call\", \"call\", \"call\", \"call\", \"call\", \"call\", \"canva\", \"case\", \"case\", \"case\", \"case\", \"case\", \"case\", \"case\", \"catch\", \"catch\", \"catch\", \"cc\", \"center\", \"certif\", \"chang\", \"chang\", \"chang\", \"chang\", \"chang\", \"chang\", \"chang\", \"char\", \"char\", \"char\", \"charact\", \"charact\", \"charact\", \"charact\", \"charact\", \"chrome\", \"clang\", \"class\", \"class\", \"class\", \"class\", \"class\", \"cli\", \"click\", \"click\", \"click\", \"client\", \"client\", \"client\", \"client\", \"client\", \"client\", \"clock\", \"cmd\", \"code\", \"code\", \"code\", \"code\", \"code\", \"code\", \"code\", \"code\", \"collaps\", \"color\", \"column\", \"com\", \"com\", \"com\", \"com\", \"command\", \"command\", \"commit\", \"commit\", \"commit\", \"compil\", \"compil\", \"compil\", \"compil\", \"compil\", \"compon\", \"compon\", \"compon\", \"compon\", \"compon\", \"compon\", \"compos\", \"connect\", \"connect\", \"connect\", \"connect\", \"const\", \"const\", \"const\", \"constructor\", \"constructor\", \"constructor\", \"content\", \"content\", \"content\", \"content\", \"content\", \"content\", \"content\", \"content\", \"cooki\", \"cooki\", \"core\", \"core\", \"core\", \"core\", \"core\", \"core\", \"core\", \"could\", \"could\", \"could\", \"could\", \"could\", \"could\", \"could\", \"could\", \"cout\", \"cp\", \"cpp\", \"cpp\", \"creat\", \"creat\", \"creat\", \"creat\", \"creat\", \"creat\", \"creat\", \"creat\", \"css\", \"csv\", \"curl\", \"data\", \"data\", \"data\", \"data\", \"data\", \"data\", \"data\", \"databas\", \"databas\", \"datafram\", \"date\", \"date\", \"date\", \"date\", \"datetim\", \"datetim\", \"db\", \"db\", \"db\", \"db\", \"dbo\", \"dd\", \"dd\", \"decim\", \"decod\", \"devic\", \"devic\", \"df\", \"differ\", \"differ\", \"differ\", \"differ\", \"differ\", \"differ\", \"differ\", \"difficult\", \"difficult\", \"dir\", \"directori\", \"dispatch\", \"display\", \"display\", \"display\", \"display\", \"display\", \"display\", \"display\", \"display\", \"dist\", \"div\", \"docker\", \"donhuvi\", \"doubl\", \"doubl\", \"doubl\", \"doubl\", \"doubl\", \"doubl\", \"drawabl\", \"dt\", \"e\", \"e\", \"e\", \"e\", \"e\", \"e\", \"e\", \"e\", \"egg\", \"element\", \"element\", \"element\", \"element\", \"element\", \"emit\", \"employe\", \"endl\", \"entiti\", \"entiti\", \"enum\", \"env\", \"er101\", \"err\", \"error\", \"error\", \"error\", \"error\", \"error\", \"error\", \"error\", \"error\", \"es6\", \"event\", \"event\", \"event\", \"event\", \"event\", \"event\", \"exampl\", \"exampl\", \"exampl\", \"exampl\", \"exampl\", \"exampl\", \"exampl\", \"exampl\", \"except\", \"except\", \"except\", \"except\", \"except\", \"except\", \"except\", \"except\", \"exe\", \"explain\", \"explain\", \"explain\", \"explain\", \"explain\", \"explain\", \"explain\", \"explan\", \"explan\", \"explan\", \"explan\", \"fals\", \"fals\", \"fals\", \"fals\", \"fals\", \"fals\", \"fals\", \"fals\", \"feel\", \"feel\", \"feel\", \"feel\", \"feel\", \"feel\", \"file\", \"file\", \"file\", \"file\", \"file\", \"file\", \"file\", \"file\", \"final\", \"final\", \"final\", \"final\", \"final\", \"final\", \"final\", \"final\", \"find\", \"find\", \"find\", \"find\", \"find\", \"find\", \"find\", \"find\", \"findviewbyid\", \"firebas\", \"firstnam\", \"flask\", \"flex\", \"fn\", \"folder\", \"folder\", \"font\", \"foo\", \"foo\", \"foo\", \"foreign\", \"form\", \"form\", \"form\", \"form\", \"form\", \"form\", \"format\", \"format\", \"format\", \"format\", \"format\", \"format\", \"format\", \"format\", \"fragment\", \"function\", \"function\", \"function\", \"function\", \"function\", \"function\", \"g++\", \"gcc\", \"gcc\", \"gem\", \"get\", \"get\", \"get\", \"get\", \"get\", \"get\", \"get\", \"get\", \"git\", \"github\", \"github\", \"github\", \"gitignor\", \"good\", \"good\", \"good\", \"good\", \"good\", \"good\", \"good\", \"googl\", \"googl\", \"googl\", \"googl\", \"googl\", \"googl\", \"googl\", \"gradl\", \"green\", \"group\", \"group\", \"group\", \"group\", \"group\", \"groupid\", \"gyp\", \"h\", \"h\", \"h\", \"h\", \"h\", \"h\", \"hashmap\", \"hear\", \"heard\", \"height\", \"hole\", \"horizont\", \"href\", \"html\", \"html\", \"html\", \"html\", \"http\", \"http\", \"http\", \"http\", \"http\", \"http\", \"icon\", \"id\", \"id\", \"id\", \"id\", \"id\", \"ienumer\", \"imag\", \"imag\", \"imag\", \"img\", \"index\", \"index\", \"index\", \"index\", \"index\", \"index\", \"index\", \"inflat\", \"input\", \"input\", \"input\", \"input\", \"input\", \"input\", \"insert\", \"insert\", \"insert\", \"insert\", \"instal\", \"int\", \"int\", \"int\", \"intellij\", \"intent\", \"intent\", \"intent\", \"interest\", \"interest\", \"interest\", \"interest\", \"interest\", \"intern\", \"intern\", \"intern\", \"intern\", \"intern\", \"intern\", \"io\", \"io\", \"io\", \"io\", \"io\", \"io\", \"io\", \"iostream\", \"ipython\", \"item\", \"item\", \"item\", \"item\", \"item\", \"item\", \"j\", \"jackson\", \"java\", \"java\", \"java\", \"java\", \"join\", \"join\", \"join\", \"jpa\", \"jqueri\", \"js\", \"js\", \"js\", \"js\", \"js\", \"jsfiddl\", \"json\", \"json\", \"json\", \"json\", \"junit\", \"key\", \"key\", \"key\", \"key\", \"key\", \"know\", \"know\", \"know\", \"know\", \"know\", \"know\", \"know\", \"kwarg\", \"label\", \"label\", \"label\", \"label\", \"lang\", \"lang\", \"lastnam\", \"launcher\", \"layout\", \"layout\", \"layoutinflat\", \"letter\", \"letter\", \"letter\", \"li\", \"lib\", \"lib\", \"lib\", \"like\", \"like\", \"like\", \"like\", \"like\", \"like\", \"like\", \"line\", \"line\", \"line\", \"line\", \"line\", \"line\", \"line\", \"line\", \"linearlayout\", \"linearlayout\", \"linux\", \"linux\", \"list\", \"list\", \"list\", \"list\", \"list\", \"list\", \"list\", \"listview\", \"local\", \"local\", \"local\", \"local\", \"local\", \"localhost\", \"localhost\", \"lodash\", \"login\", \"login\", \"longword\", \"look\", \"look\", \"look\", \"look\", \"look\", \"look\", \"look\", \"lot\", \"lot\", \"lot\", \"lot\", \"lot\", \"lot\", \"lot\", \"main\", \"main\", \"main\", \"main\", \"main\", \"main\", \"main\", \"make\", \"make\", \"make\", \"make\", \"make\", \"make\", \"make\", \"map\", \"map\", \"map\", \"map\", \"map\", \"map\", \"margin\", \"master\", \"master\", \"math\", \"math\", \"matplotlib\", \"maven\", \"mean\", \"mean\", \"mean\", \"mean\", \"mean\", \"mean\", \"mean\", \"member\", \"member\", \"member\", \"messag\", \"messag\", \"messag\", \"messag\", \"messag\", \"messag\", \"messag\", \"messag\", \"method\", \"method\", \"method\", \"method\", \"method\", \"method\", \"method\", \"mib\", \"min\", \"mm\", \"mm\", \"mock\", \"modal\", \"modul\", \"modul\", \"modul\", \"mongodb\", \"much\", \"much\", \"much\", \"much\", \"much\", \"much\", \"multipli\", \"mvc\", \"myclass\", \"mysql\", \"mysql\", \"mysql\", \"n\", \"n\", \"n\", \"n\", \"n\", \"na\", \"name\", \"name\", \"name\", \"name\", \"name\", \"name\", \"name\", \"name\", \"nan\", \"nan\", \"nav\", \"nav\", \"navbar\", \"need\", \"need\", \"need\", \"need\", \"need\", \"need\", \"need\", \"net\", \"net\", \"net\", \"net\", \"net\", \"net\", \"net\", \"net\", \"new\", \"new\", \"new\", \"new\", \"new\", \"new\", \"new\", \"new\", \"ng\", \"node\", \"node\", \"node\", \"node\", \"node\", \"notebook\", \"notebook\", \"notif\", \"np\", \"npm\", \"null\", \"null\", \"null\", \"null\", \"null\", \"nullabl\", \"number\", \"number\", \"number\", \"number\", \"number\", \"number\", \"number\", \"numpi\", \"obj\", \"obj\", \"obj\", \"object\", \"object\", \"object\", \"object\", \"object\", \"object\", \"object\", \"often\", \"often\", \"often\", \"oid\", \"oncreat\", \"one\", \"one\", \"one\", \"one\", \"one\", \"one\", \"one\", \"opinion\", \"org\", \"org\", \"packag\", \"packag\", \"packag\", \"packag\", \"packag\", \"packag\", \"page\", \"page\", \"page\", \"page\", \"page\", \"page\", \"panda\", \"panda\", \"parent\", \"parent\", \"parent\", \"parent\", \"parent\", \"parent\", \"password\", \"password\", \"password\", \"path\", \"path\", \"path\", \"path\", \"path\", \"path\", \"pd\", \"pd\", \"peopl\", \"peopl\", \"peopl\", \"peopl\", \"peopl\", \"pg\", \"pickl\", \"pil\", \"pip\", \"pkg\", \"plist\", \"plot\", \"plt\", \"pod\", \"pom\", \"post\", \"post\", \"post\", \"post\", \"post\", \"post\", \"post\", \"postgr\", \"practic\", \"practic\", \"practic\", \"practic\", \"price\", \"printf\", \"println\", \"println\", \"println\", \"privat\", \"privat\", \"privat\", \"privat\", \"project\", \"project\", \"project\", \"project\", \"project\", \"promis\", \"promis\", \"promis\", \"prop\", \"properti\", \"properti\", \"properti\", \"properti\", \"properti\", \"properti\", \"prototyp\", \"ptr\", \"public\", \"public\", \"public\", \"py\", \"py\", \"pycharm\", \"python\", \"python\", \"python\", \"python\", \"python2\", \"python3\", \"queri\", \"queri\", \"question\", \"question\", \"question\", \"question\", \"question\", \"question\", \"question\", \"r\", \"r\", \"r\", \"r\", \"r\", \"r\", \"r\", \"r\", \"rand\", \"rb\", \"rdx\", \"react\", \"react\", \"react\", \"realli\", \"realli\", \"realli\", \"realli\", \"realli\", \"realli\", \"realli\", \"rebas\", \"record\", \"record\", \"record\", \"redux\", \"redux\", \"regex\", \"remot\", \"remot\", \"render\", \"render\", \"render\", \"render\", \"rep\", \"repo\", \"repositori\", \"repositori\", \"req\", \"request\", \"request\", \"res\", \"res\", \"respons\", \"respons\", \"respons\", \"respons\", \"return\", \"return\", \"return\", \"return\", \"return\", \"return\", \"return\", \"return\", \"room\", \"rout\", \"rout\", \"rout\", \"router\", \"row\", \"row\", \"run\", \"run\", \"run\", \"run\", \"run\", \"run\", \"run\", \"run\", \"runtimeerror\", \"rxjs\", \"savedinstancest\", \"scanner\", \"script\", \"script\", \"script\", \"script\", \"scroll\", \"seem\", \"seem\", \"seem\", \"seem\", \"seem\", \"seem\", \"seem\", \"select\", \"select\", \"select\", \"select\", \"self\", \"self\", \"self\", \"self\", \"send\", \"send\", \"send\", \"send\", \"send\", \"server\", \"server\", \"server\", \"server\", \"servic\", \"servic\", \"servic\", \"set\", \"set\", \"set\", \"set\", \"set\", \"set\", \"set\", \"set\", \"shell\", \"size\", \"size\", \"size\", \"size\", \"size\", \"size\", \"size\", \"sizeof\", \"snmp\", \"socket\", \"someth\", \"someth\", \"someth\", \"someth\", \"someth\", \"someth\", \"someth\", \"span\", \"springframework\", \"sql\", \"ssl\", \"standard\", \"standard\", \"standard\", \"standard\", \"standard\", \"standard\", \"standard\", \"static\", \"static\", \"static\", \"static\", \"static\", \"static\", \"std\", \"std\", \"string\", \"string\", \"string\", \"string\", \"string\", \"stringifi\", \"studio\", \"studio\", \"studio\", \"style\", \"style\", \"sun\", \"svg\", \"syntaxerror\", \"system\", \"system\", \"system\", \"system\", \"system\", \"system\", \"system\", \"tabl\", \"tabl\", \"tableview\", \"td\", \"tensorflow\", \"test\", \"test\", \"test\", \"test\", \"test\", \"test\", \"test\", \"test\", \"text\", \"text\", \"text\", \"text\", \"text\", \"text\", \"th\", \"thing\", \"thing\", \"thing\", \"thing\", \"thing\", \"thing\", \"thing\", \"think\", \"think\", \"think\", \"think\", \"think\", \"think\", \"think\", \"threadpoolexecutor\", \"throw\", \"throw\", \"throw\", \"throw\", \"throw\", \"throw\", \"time\", \"time\", \"time\", \"time\", \"time\", \"time\", \"time\", \"time\", \"timeit\", \"timestamp\", \"timezon\", \"toast\", \"toolbar\", \"tr\", \"tr\", \"train\", \"tri\", \"tri\", \"tri\", \"tri\", \"tri\", \"tri\", \"tri\", \"tri\", \"true\", \"true\", \"true\", \"true\", \"true\", \"true\", \"true\", \"true\", \"ts\", \"txt\", \"txt\", \"type\", \"type\", \"type\", \"type\", \"type\", \"type\", \"type\", \"type\", \"typenam\", \"typeof\", \"u\", \"u\", \"u\", \"u\", \"u\", \"uint64\", \"uiview\", \"ul\", \"underscor\", \"understand\", \"understand\", \"understand\", \"understand\", \"understand\", \"understand\", \"understand\", \"unsort\", \"uri\", \"url\", \"url\", \"url\", \"use\", \"use\", \"use\", \"use\", \"use\", \"use\", \"use\", \"user\", \"user\", \"user\", \"user\", \"user\", \"user\", \"usr\", \"utc\", \"v7\", \"v8\", \"valu\", \"valu\", \"valu\", \"valu\", \"valu\", \"var\", \"var\", \"var\", \"var\", \"var\", \"var\", \"var\", \"varchar\", \"variabl\", \"variabl\", \"variabl\", \"variabl\", \"variabl\", \"variabl\", \"vector\", \"version\", \"version\", \"version\", \"version\", \"version\", \"version\", \"version\", \"version\", \"vertic\", \"view\", \"view\", \"view\", \"view\", \"viewgroup\", \"viewhold\", \"virtualenv\", \"void\", \"void\", \"void\", \"void\", \"vs\", \"vs\", \"vs\", \"vs\", \"vs\", \"vs\", \"vue\", \"want\", \"want\", \"want\", \"want\", \"want\", \"want\", \"want\", \"way\", \"way\", \"way\", \"way\", \"way\", \"way\", \"way\", \"web\", \"web\", \"web\", \"web\", \"web\", \"web\", \"webpack\", \"weight\", \"wheel\", \"width\", \"window\", \"window\", \"window\", \"window\", \"window\", \"work\", \"work\", \"work\", \"work\", \"work\", \"work\", \"work\", \"would\", \"would\", \"would\", \"would\", \"would\", \"would\", \"would\", \"writelin\", \"writelin\", \"x\", \"x\", \"x\", \"x\", \"x\", \"x\", \"xcode\", \"xcode\", \"zygoteinit\"]}, \"R\": 30, \"lambda.step\": 0.01, \"plot.opts\": {\"xlab\": \"PC1\", \"ylab\": \"PC2\"}, \"topic.order\": [2, 6, 3, 4, 1, 8, 7, 5]};\n",
       "\n",
       "function LDAvis_load_lib(url, callback){\n",
       "  var s = document.createElement('script');\n",
       "  s.src = url;\n",
       "  s.async = true;\n",
       "  s.onreadystatechange = s.onload = callback;\n",
       "  s.onerror = function(){console.warn(\"failed to load library \" + url);};\n",
       "  document.getElementsByTagName(\"head\")[0].appendChild(s);\n",
       "}\n",
       "\n",
       "if(typeof(LDAvis) !== \"undefined\"){\n",
       "   // already loaded: just create the visualization\n",
       "   !function(LDAvis){\n",
       "       new LDAvis(\"#\" + \"ldavis_el231481703957587104116104381\", ldavis_el231481703957587104116104381_data);\n",
       "   }(LDAvis);\n",
       "}else if(typeof define === \"function\" && define.amd){\n",
       "   // require.js is available: use it to load d3/LDAvis\n",
       "   require.config({paths: {d3: \"https://d3js.org/d3.v5\"}});\n",
       "   require([\"d3\"], function(d3){\n",
       "      window.d3 = d3;\n",
       "      LDAvis_load_lib(\"https://cdn.jsdelivr.net/gh/bmabey/pyLDAvis@3.3.1/pyLDAvis/js/ldavis.v3.0.0.js\", function(){\n",
       "        new LDAvis(\"#\" + \"ldavis_el231481703957587104116104381\", ldavis_el231481703957587104116104381_data);\n",
       "      });\n",
       "    });\n",
       "}else{\n",
       "    // require.js not available: dynamically load d3 & LDAvis\n",
       "    LDAvis_load_lib(\"https://d3js.org/d3.v5.js\", function(){\n",
       "         LDAvis_load_lib(\"https://cdn.jsdelivr.net/gh/bmabey/pyLDAvis@3.3.1/pyLDAvis/js/ldavis.v3.0.0.js\", function(){\n",
       "                 new LDAvis(\"#\" + \"ldavis_el231481703957587104116104381\", ldavis_el231481703957587104116104381_data);\n",
       "            })\n",
       "         });\n",
       "}\n",
       "</script>"
      ],
      "text/plain": [
       "PreparedData(topic_coordinates=              x         y  topics  cluster       Freq\n",
       "topic                                                \n",
       "1      0.142478 -0.020408       1        1  21.687694\n",
       "5      0.013335  0.133661       2        1  15.162274\n",
       "2      0.036495  0.222030       3        1  13.307485\n",
       "3      0.136545  0.057704       4        1  12.301298\n",
       "0      0.082757 -0.091100       5        1  11.525177\n",
       "7      0.118701 -0.117290       6        1  10.963816\n",
       "6     -0.130583 -0.249623       7        1   9.308992\n",
       "4     -0.399728  0.065025       8        1   5.743263, topic_info=         Term          Freq         Total Category  logprob  loglift\n",
       "32          0  34373.000000  34373.000000  Default  30.0000  30.0000\n",
       "4126  android  25187.000000  25187.000000  Default  29.0000  29.0000\n",
       "155         1  32017.000000  32017.000000  Default  28.0000  28.0000\n",
       "550      java  16673.000000  16673.000000  Default  27.0000  27.0000\n",
       "293      file  21722.000000  21722.000000  Default  26.0000  26.0000\n",
       "...       ...           ...           ...      ...      ...      ...\n",
       "269        16    973.772742   1691.965286   Topic8  -5.3657   2.3047\n",
       "788        10   1159.587280   5664.126297   Topic8  -5.1910   1.2711\n",
       "1017     core   1055.161591   3257.876236   Topic8  -5.2854   1.7298\n",
       "73          2   1139.585899  20922.359289   Topic8  -5.2084  -0.0530\n",
       "375       run   1075.148323  11641.009572   Topic8  -5.2666   0.4751\n",
       "\n",
       "[585 rows x 6 columns], token_table=       Topic      Freq        Term\n",
       "term                              \n",
       "147        1  0.075543           #\n",
       "147        2  0.422100           #\n",
       "147        4  0.084942           #\n",
       "147        6  0.117666           #\n",
       "147        7  0.299560           #\n",
       "...      ...       ...         ...\n",
       "260        6  0.018026           x\n",
       "260        7  0.767165           x\n",
       "2586       3  0.960348       xcode\n",
       "2586       7  0.039368       xcode\n",
       "11286      8  0.998544  zygoteinit\n",
       "\n",
       "[1537 rows x 3 columns], R=30, lambda_step=0.01, plot_opts={'xlab': 'PC1', 'ylab': 'PC2'}, topic_order=[2, 6, 3, 4, 1, 8, 7, 5])"
      ]
     },
     "execution_count": 61,
     "metadata": {},
     "output_type": "execute_result"
    }
   ],
   "source": [
    "vis"
   ]
  },
  {
   "cell_type": "markdown",
   "metadata": {},
   "source": [
    "# Utiliser une approche supervisée"
   ]
  },
  {
   "cell_type": "code",
   "execution_count": 62,
   "metadata": {},
   "outputs": [],
   "source": [
    "df=df.reset_index()\n",
    "df=df.drop(['index'],axis=1)"
   ]
  },
  {
   "cell_type": "code",
   "execution_count": 63,
   "metadata": {},
   "outputs": [],
   "source": [
    "X = df[\"Document\"].apply(lambda x: ' '.join(x))\n",
    "y = df[\"Tags\"]"
   ]
  },
  {
   "cell_type": "raw",
   "metadata": {},
   "source": [
    "# from collections import Counter\n",
    "Counter(all_tags)"
   ]
  },
  {
   "cell_type": "code",
   "execution_count": 64,
   "metadata": {},
   "outputs": [],
   "source": [
    "multilabel_binarizer = MultiLabelBinarizer()\n",
    "y = multilabel_binarizer.fit_transform(y)"
   ]
  },
  {
   "cell_type": "code",
   "execution_count": 65,
   "metadata": {},
   "outputs": [],
   "source": [
    "tfidf_vectorizer = TfidfVectorizer(\n",
    "    max_df=.8,\n",
    "    min_df=5,\n",
    "    max_features=20000,\n",
    "    ngram_range=(1, 1)\n",
    ")\n",
    "X= tfidf_vectorizer.fit_transform(X)"
   ]
  },
  {
   "cell_type": "code",
   "execution_count": 66,
   "metadata": {},
   "outputs": [
    {
     "data": {
      "text/plain": [
       "array(['.net', 'android', 'angular', 'angularjs', 'arrays', 'asp.net',\n",
       "       'asp.net-mvc', 'bash', 'c', 'c#', 'c++', 'css', 'database',\n",
       "       'django', 'eclipse', 'git', 'github', 'html', 'ios', 'iphone',\n",
       "       'java', 'javascript', 'jquery', 'json', 'linux', 'list', 'macos',\n",
       "       'mysql', 'node.js', 'objective-c', 'pandas', 'performance', 'php',\n",
       "       'python', 'r', 'reactjs', 'regex', 'ruby', 'ruby-on-rails',\n",
       "       'shell', 'sql', 'sql-server', 'string', 'swift', 'visual-studio',\n",
       "       'windows', 'xcode'], dtype=object)"
      ]
     },
     "execution_count": 66,
     "metadata": {},
     "output_type": "execute_result"
    }
   ],
   "source": [
    "multilabel_binarizer.classes_"
   ]
  },
  {
   "cell_type": "code",
   "execution_count": 67,
   "metadata": {},
   "outputs": [],
   "source": [
    "X_train, X_test, y_train, y_test = train_test_split(X, y, test_size=0.2)"
   ]
  },
  {
   "cell_type": "code",
   "execution_count": 68,
   "metadata": {},
   "outputs": [],
   "source": [
    "svc = LinearSVC(random_state=0)\n",
    "forest = RandomForestClassifier(random_state=0)\n",
    "perceptron = Perceptron(random_state=0)\n",
    "lr = LogisticRegression(random_state=0)\n",
    "sgd = SGDClassifier(random_state=0)\n",
    "gbc=GradientBoostingClassifier(random_state=0)"
   ]
  },
  {
   "cell_type": "code",
   "execution_count": 69,
   "metadata": {},
   "outputs": [
    {
     "data": {
      "text/html": [
       "<div>\n",
       "<style scoped>\n",
       "    .dataframe tbody tr th:only-of-type {\n",
       "        vertical-align: middle;\n",
       "    }\n",
       "\n",
       "    .dataframe tbody tr th {\n",
       "        vertical-align: top;\n",
       "    }\n",
       "\n",
       "    .dataframe thead th {\n",
       "        text-align: right;\n",
       "    }\n",
       "</style>\n",
       "<table border=\"1\" class=\"dataframe\">\n",
       "  <thead>\n",
       "    <tr style=\"text-align: right;\">\n",
       "      <th></th>\n",
       "      <th>Id</th>\n",
       "      <th>Tags</th>\n",
       "      <th>Document</th>\n",
       "    </tr>\n",
       "  </thead>\n",
       "  <tbody>\n",
       "    <tr>\n",
       "      <th>0</th>\n",
       "      <td>4</td>\n",
       "      <td>[c#]</td>\n",
       "      <td>[convert, decim, doubl, c#, want, use, track, ...</td>\n",
       "    </tr>\n",
       "    <tr>\n",
       "      <th>1</th>\n",
       "      <td>6</td>\n",
       "      <td>[html, css]</td>\n",
       "      <td>[width, collaps, percentag, width, child, elem...</td>\n",
       "    </tr>\n",
       "    <tr>\n",
       "      <th>2</th>\n",
       "      <td>9</td>\n",
       "      <td>[c#, .net]</td>\n",
       "      <td>[calcul, someon, age, base, datetim, type, bir...</td>\n",
       "    </tr>\n",
       "    <tr>\n",
       "      <th>3</th>\n",
       "      <td>11</td>\n",
       "      <td>[c#]</td>\n",
       "      <td>[calcul, relat, time, c#, given, specif, datet...</td>\n",
       "    </tr>\n",
       "    <tr>\n",
       "      <th>4</th>\n",
       "      <td>13</td>\n",
       "      <td>[html]</td>\n",
       "      <td>[determin, user, timezon, standard, way, web, ...</td>\n",
       "    </tr>\n",
       "    <tr>\n",
       "      <th>...</th>\n",
       "      <td>...</td>\n",
       "      <td>...</td>\n",
       "      <td>...</td>\n",
       "    </tr>\n",
       "    <tr>\n",
       "      <th>48986</th>\n",
       "      <td>60573595</td>\n",
       "      <td>[node.js]</td>\n",
       "      <td>[npm, instal, fail, node, gyp, rebuild, gyp, x...</td>\n",
       "    </tr>\n",
       "    <tr>\n",
       "      <th>48987</th>\n",
       "      <td>60625906</td>\n",
       "      <td>[c]</td>\n",
       "      <td>[cast, free, return, valu, void, read, book, p...</td>\n",
       "    </tr>\n",
       "    <tr>\n",
       "      <th>48988</th>\n",
       "      <td>62950667</td>\n",
       "      <td>[java]</td>\n",
       "      <td>[need, switch, modul, migrat, java, 9+, java, ...</td>\n",
       "    </tr>\n",
       "    <tr>\n",
       "      <th>48989</th>\n",
       "      <td>62969917</td>\n",
       "      <td>[android]</td>\n",
       "      <td>[fix, unexpect, element, found, error, sudden,...</td>\n",
       "    </tr>\n",
       "    <tr>\n",
       "      <th>48990</th>\n",
       "      <td>66930450</td>\n",
       "      <td>[c++]</td>\n",
       "      <td>[make, class, immun, auto, valu, copi, proxi, ...</td>\n",
       "    </tr>\n",
       "  </tbody>\n",
       "</table>\n",
       "<p>48991 rows × 3 columns</p>\n",
       "</div>"
      ],
      "text/plain": [
       "             Id         Tags  \\\n",
       "0             4         [c#]   \n",
       "1             6  [html, css]   \n",
       "2             9   [c#, .net]   \n",
       "3            11         [c#]   \n",
       "4            13       [html]   \n",
       "...         ...          ...   \n",
       "48986  60573595    [node.js]   \n",
       "48987  60625906          [c]   \n",
       "48988  62950667       [java]   \n",
       "48989  62969917    [android]   \n",
       "48990  66930450        [c++]   \n",
       "\n",
       "                                                Document  \n",
       "0      [convert, decim, doubl, c#, want, use, track, ...  \n",
       "1      [width, collaps, percentag, width, child, elem...  \n",
       "2      [calcul, someon, age, base, datetim, type, bir...  \n",
       "3      [calcul, relat, time, c#, given, specif, datet...  \n",
       "4      [determin, user, timezon, standard, way, web, ...  \n",
       "...                                                  ...  \n",
       "48986  [npm, instal, fail, node, gyp, rebuild, gyp, x...  \n",
       "48987  [cast, free, return, valu, void, read, book, p...  \n",
       "48988  [need, switch, modul, migrat, java, 9+, java, ...  \n",
       "48989  [fix, unexpect, element, found, error, sudden,...  \n",
       "48990  [make, class, immun, auto, valu, copi, proxi, ...  \n",
       "\n",
       "[48991 rows x 3 columns]"
      ]
     },
     "execution_count": 69,
     "metadata": {},
     "output_type": "execute_result"
    }
   ],
   "source": [
    "df"
   ]
  },
  {
   "cell_type": "code",
   "execution_count": 70,
   "metadata": {},
   "outputs": [
    {
     "data": {
      "text/plain": [
       "array([0, 0, 0, 0, 0, 0, 0, 0, 0, 0, 0, 0, 0, 0, 0, 0, 0, 0, 0, 0, 0, 0,\n",
       "       0, 0, 0, 0, 0, 0, 0, 0, 0, 0, 0, 0, 0, 0, 0, 0, 1, 0, 1, 0, 0, 0,\n",
       "       0, 0, 0])"
      ]
     },
     "execution_count": 70,
     "metadata": {},
     "output_type": "execute_result"
    }
   ],
   "source": [
    "y_train[1]"
   ]
  },
  {
   "cell_type": "code",
   "execution_count": 71,
   "metadata": {},
   "outputs": [],
   "source": [
    "classifier=[svc,forest,perceptron,lr,sgd,gbc]"
   ]
  },
  {
   "cell_type": "code",
   "execution_count": 72,
   "metadata": {},
   "outputs": [
    {
     "data": {
      "text/html": [
       "<div>\n",
       "<style scoped>\n",
       "    .dataframe tbody tr th:only-of-type {\n",
       "        vertical-align: middle;\n",
       "    }\n",
       "\n",
       "    .dataframe tbody tr th {\n",
       "        vertical-align: top;\n",
       "    }\n",
       "\n",
       "    .dataframe thead th {\n",
       "        text-align: right;\n",
       "    }\n",
       "</style>\n",
       "<table border=\"1\" class=\"dataframe\">\n",
       "  <thead>\n",
       "    <tr style=\"text-align: right;\">\n",
       "      <th></th>\n",
       "      <th>Id</th>\n",
       "      <th>Tags</th>\n",
       "      <th>Document</th>\n",
       "    </tr>\n",
       "  </thead>\n",
       "  <tbody>\n",
       "    <tr>\n",
       "      <th>0</th>\n",
       "      <td>4</td>\n",
       "      <td>[c#]</td>\n",
       "      <td>[convert, decim, doubl, c#, want, use, track, ...</td>\n",
       "    </tr>\n",
       "    <tr>\n",
       "      <th>1</th>\n",
       "      <td>6</td>\n",
       "      <td>[html, css]</td>\n",
       "      <td>[width, collaps, percentag, width, child, elem...</td>\n",
       "    </tr>\n",
       "    <tr>\n",
       "      <th>2</th>\n",
       "      <td>9</td>\n",
       "      <td>[c#, .net]</td>\n",
       "      <td>[calcul, someon, age, base, datetim, type, bir...</td>\n",
       "    </tr>\n",
       "    <tr>\n",
       "      <th>3</th>\n",
       "      <td>11</td>\n",
       "      <td>[c#]</td>\n",
       "      <td>[calcul, relat, time, c#, given, specif, datet...</td>\n",
       "    </tr>\n",
       "    <tr>\n",
       "      <th>4</th>\n",
       "      <td>13</td>\n",
       "      <td>[html]</td>\n",
       "      <td>[determin, user, timezon, standard, way, web, ...</td>\n",
       "    </tr>\n",
       "    <tr>\n",
       "      <th>...</th>\n",
       "      <td>...</td>\n",
       "      <td>...</td>\n",
       "      <td>...</td>\n",
       "    </tr>\n",
       "    <tr>\n",
       "      <th>48986</th>\n",
       "      <td>60573595</td>\n",
       "      <td>[node.js]</td>\n",
       "      <td>[npm, instal, fail, node, gyp, rebuild, gyp, x...</td>\n",
       "    </tr>\n",
       "    <tr>\n",
       "      <th>48987</th>\n",
       "      <td>60625906</td>\n",
       "      <td>[c]</td>\n",
       "      <td>[cast, free, return, valu, void, read, book, p...</td>\n",
       "    </tr>\n",
       "    <tr>\n",
       "      <th>48988</th>\n",
       "      <td>62950667</td>\n",
       "      <td>[java]</td>\n",
       "      <td>[need, switch, modul, migrat, java, 9+, java, ...</td>\n",
       "    </tr>\n",
       "    <tr>\n",
       "      <th>48989</th>\n",
       "      <td>62969917</td>\n",
       "      <td>[android]</td>\n",
       "      <td>[fix, unexpect, element, found, error, sudden,...</td>\n",
       "    </tr>\n",
       "    <tr>\n",
       "      <th>48990</th>\n",
       "      <td>66930450</td>\n",
       "      <td>[c++]</td>\n",
       "      <td>[make, class, immun, auto, valu, copi, proxi, ...</td>\n",
       "    </tr>\n",
       "  </tbody>\n",
       "</table>\n",
       "<p>48991 rows × 3 columns</p>\n",
       "</div>"
      ],
      "text/plain": [
       "             Id         Tags  \\\n",
       "0             4         [c#]   \n",
       "1             6  [html, css]   \n",
       "2             9   [c#, .net]   \n",
       "3            11         [c#]   \n",
       "4            13       [html]   \n",
       "...         ...          ...   \n",
       "48986  60573595    [node.js]   \n",
       "48987  60625906          [c]   \n",
       "48988  62950667       [java]   \n",
       "48989  62969917    [android]   \n",
       "48990  66930450        [c++]   \n",
       "\n",
       "                                                Document  \n",
       "0      [convert, decim, doubl, c#, want, use, track, ...  \n",
       "1      [width, collaps, percentag, width, child, elem...  \n",
       "2      [calcul, someon, age, base, datetim, type, bir...  \n",
       "3      [calcul, relat, time, c#, given, specif, datet...  \n",
       "4      [determin, user, timezon, standard, way, web, ...  \n",
       "...                                                  ...  \n",
       "48986  [npm, instal, fail, node, gyp, rebuild, gyp, x...  \n",
       "48987  [cast, free, return, valu, void, read, book, p...  \n",
       "48988  [need, switch, modul, migrat, java, 9+, java, ...  \n",
       "48989  [fix, unexpect, element, found, error, sudden,...  \n",
       "48990  [make, class, immun, auto, valu, copi, proxi, ...  \n",
       "\n",
       "[48991 rows x 3 columns]"
      ]
     },
     "execution_count": 72,
     "metadata": {},
     "output_type": "execute_result"
    }
   ],
   "source": [
    "df"
   ]
  },
  {
   "cell_type": "code",
   "execution_count": 73,
   "metadata": {},
   "outputs": [],
   "source": [
    "results = pd.DataFrame({})\n",
    "def errors(name,model,X_train, y_train,X_test,y_test):\n",
    "    global results\n",
    "    clf = MultiOutputClassifier(model)\n",
    "    clf.fit(X_train, y_train)\n",
    "    y_pred = clf.predict(X_test)\n",
    "    results = results.append(pd.DataFrame({\n",
    "        'Modèle': [name],\n",
    "        'Hamming_loss':hamming_loss(y_pred, y_test),\n",
    "        'Jaccard_score':jaccard_score(y_pred, y_test,average='macro')*100,\n",
    "        'Accuracy_score':accuracy_score(y_pred, y_test),\n",
    "        'Macro_f1_score':f1_score(y_test, y_pred,average='macro'),\n",
    "        'Micro_f1_score':f1_score(y_test, y_pred,average='micro')}),ignore_index=True)"
   ]
  },
  {
   "cell_type": "code",
   "execution_count": 74,
   "metadata": {},
   "outputs": [],
   "source": [
    "for i in classifier:\n",
    "    errors(str(i),i,X_train, y_train,X_test,y_test)"
   ]
  },
  {
   "cell_type": "code",
   "execution_count": 75,
   "metadata": {},
   "outputs": [
    {
     "data": {
      "text/html": [
       "<div>\n",
       "<style scoped>\n",
       "    .dataframe tbody tr th:only-of-type {\n",
       "        vertical-align: middle;\n",
       "    }\n",
       "\n",
       "    .dataframe tbody tr th {\n",
       "        vertical-align: top;\n",
       "    }\n",
       "\n",
       "    .dataframe thead th {\n",
       "        text-align: right;\n",
       "    }\n",
       "</style>\n",
       "<table border=\"1\" class=\"dataframe\">\n",
       "  <thead>\n",
       "    <tr style=\"text-align: right;\">\n",
       "      <th></th>\n",
       "      <th>Modèle</th>\n",
       "      <th>Hamming_loss</th>\n",
       "      <th>Jaccard_score</th>\n",
       "      <th>Accuracy_score</th>\n",
       "      <th>Macro_f1_score</th>\n",
       "      <th>Micro_f1_score</th>\n",
       "    </tr>\n",
       "  </thead>\n",
       "  <tbody>\n",
       "    <tr>\n",
       "      <th>0</th>\n",
       "      <td>LinearSVC(random_state=0)</td>\n",
       "      <td>0.014009</td>\n",
       "      <td>53.311945</td>\n",
       "      <td>0.519339</td>\n",
       "      <td>0.671356</td>\n",
       "      <td>0.732881</td>\n",
       "    </tr>\n",
       "    <tr>\n",
       "      <th>1</th>\n",
       "      <td>RandomForestClassifier(random_state=0)</td>\n",
       "      <td>0.016593</td>\n",
       "      <td>34.939997</td>\n",
       "      <td>0.433310</td>\n",
       "      <td>0.462949</td>\n",
       "      <td>0.632065</td>\n",
       "    </tr>\n",
       "    <tr>\n",
       "      <th>2</th>\n",
       "      <td>Perceptron()</td>\n",
       "      <td>0.019487</td>\n",
       "      <td>47.944147</td>\n",
       "      <td>0.423717</td>\n",
       "      <td>0.624699</td>\n",
       "      <td>0.670920</td>\n",
       "    </tr>\n",
       "    <tr>\n",
       "      <th>3</th>\n",
       "      <td>LogisticRegression(random_state=0)</td>\n",
       "      <td>0.016369</td>\n",
       "      <td>42.154444</td>\n",
       "      <td>0.431371</td>\n",
       "      <td>0.567870</td>\n",
       "      <td>0.655360</td>\n",
       "    </tr>\n",
       "    <tr>\n",
       "      <th>4</th>\n",
       "      <td>SGDClassifier(random_state=0)</td>\n",
       "      <td>0.015527</td>\n",
       "      <td>44.310438</td>\n",
       "      <td>0.457496</td>\n",
       "      <td>0.569864</td>\n",
       "      <td>0.674170</td>\n",
       "    </tr>\n",
       "    <tr>\n",
       "      <th>5</th>\n",
       "      <td>GradientBoostingClassifier(random_state=0)</td>\n",
       "      <td>0.016000</td>\n",
       "      <td>50.421081</td>\n",
       "      <td>0.458822</td>\n",
       "      <td>0.640654</td>\n",
       "      <td>0.692894</td>\n",
       "    </tr>\n",
       "  </tbody>\n",
       "</table>\n",
       "</div>"
      ],
      "text/plain": [
       "                                       Modèle  Hamming_loss  Jaccard_score  \\\n",
       "0                   LinearSVC(random_state=0)      0.014009      53.311945   \n",
       "1      RandomForestClassifier(random_state=0)      0.016593      34.939997   \n",
       "2                                Perceptron()      0.019487      47.944147   \n",
       "3          LogisticRegression(random_state=0)      0.016369      42.154444   \n",
       "4               SGDClassifier(random_state=0)      0.015527      44.310438   \n",
       "5  GradientBoostingClassifier(random_state=0)      0.016000      50.421081   \n",
       "\n",
       "   Accuracy_score  Macro_f1_score  Micro_f1_score  \n",
       "0        0.519339        0.671356        0.732881  \n",
       "1        0.433310        0.462949        0.632065  \n",
       "2        0.423717        0.624699        0.670920  \n",
       "3        0.431371        0.567870        0.655360  \n",
       "4        0.457496        0.569864        0.674170  \n",
       "5        0.458822        0.640654        0.692894  "
      ]
     },
     "execution_count": 75,
     "metadata": {},
     "output_type": "execute_result"
    }
   ],
   "source": [
    "results"
   ]
  },
  {
   "cell_type": "code",
   "execution_count": 76,
   "metadata": {},
   "outputs": [
    {
     "name": "stderr",
     "output_type": "stream",
     "text": [
      "C:\\Users\\thiba\\anaconda3\\lib\\site-packages\\sklearn\\svm\\_base.py:976: ConvergenceWarning: Liblinear failed to converge, increase the number of iterations.\n",
      "  warnings.warn(\"Liblinear failed to converge, increase \"\n",
      "C:\\Users\\thiba\\anaconda3\\lib\\site-packages\\sklearn\\svm\\_base.py:976: ConvergenceWarning: Liblinear failed to converge, increase the number of iterations.\n",
      "  warnings.warn(\"Liblinear failed to converge, increase \"\n",
      "C:\\Users\\thiba\\anaconda3\\lib\\site-packages\\sklearn\\svm\\_base.py:976: ConvergenceWarning: Liblinear failed to converge, increase the number of iterations.\n",
      "  warnings.warn(\"Liblinear failed to converge, increase \"\n"
     ]
    },
    {
     "name": "stdout",
     "output_type": "stream",
     "text": [
      "Accuracy Score:  0.5193387080314318\n",
      "done in 511.238s.\n"
     ]
    },
    {
     "data": {
      "text/plain": [
       "Pipeline(steps=[('clf', MultiOutputClassifier(estimator=LinearSVC(C=1)))])"
      ]
     },
     "execution_count": 76,
     "metadata": {},
     "output_type": "execute_result"
    }
   ],
   "source": [
    "t0 = time()\n",
    "pipeline = Pipeline([('clf', MultiOutputClassifier(LinearSVC()))])\n",
    "parameters = {\n",
    "     \"clf__estimator__C\": np.arange(1,20,2),     \n",
    "     \"clf__estimator__max_iter\":[1000, 10000, 20000]\n",
    "}\n",
    "\n",
    "model_tunning = GridSearchCV(pipeline, parameters, cv=3, scoring='accuracy')\n",
    "model_tunning.fit(X_train, y_train)\n",
    "\n",
    "print (\"Accuracy Score: \", accuracy_score(y_test, model_tunning.best_estimator_.predict(X_test)))\n",
    "print(\"done in %0.3fs.\" % (time() - t0))\n",
    "model_tunning.best_estimator_"
   ]
  },
  {
   "cell_type": "code",
   "execution_count": 77,
   "metadata": {},
   "outputs": [
    {
     "data": {
      "text/plain": [
       "{'clf__estimator__C': 1, 'clf__estimator__max_iter': 1000}"
      ]
     },
     "execution_count": 77,
     "metadata": {},
     "output_type": "execute_result"
    }
   ],
   "source": [
    "model_tunning.best_params_"
   ]
  },
  {
   "cell_type": "raw",
   "metadata": {},
   "source": [
    "parameters = {'estimator__C': np.arange(1,20,1), \n",
    "              'estimator__max_iter': [10, 100, 200,1000, 2000, 3000, 4000, 5000],\n",
    "              'estimator__penalty': ['l1','l2'],\n",
    "              'estimator__loss': ['hinge','squared_hinge'],\n",
    "              'estimator__tol': [.000001,.00001,.0001]}\n",
    "grid_cv = GridSearchCV(OneVsRestClassifier(LinearSVC()), parameters,scoring='accuracy')\n",
    "grid_cv.fit(X_train, y_train)"
   ]
  },
  {
   "cell_type": "code",
   "execution_count": 78,
   "metadata": {},
   "outputs": [
    {
     "data": {
      "text/plain": [
       "53.31194545693687"
      ]
     },
     "execution_count": 78,
     "metadata": {},
     "output_type": "execute_result"
    }
   ],
   "source": [
    "jaccard_score( model_tunning.best_estimator_.predict(X_test),y_test,average='macro')*100"
   ]
  },
  {
   "cell_type": "code",
   "execution_count": 97,
   "metadata": {},
   "outputs": [],
   "source": [
    "def errors_grid(name,X_train, y_train,X_test,y_test):\n",
    "    global results\n",
    "    model=LinearSVC(C=1, max_iter=1000)\n",
    "    clf = MultiOutputClassifier(model)\n",
    "    clf.fit(X_train, y_train)\n",
    "    y_pred = clf.predict(X_test)\n",
    "    results = results.append(pd.DataFrame({\n",
    "        'Modèle': [name],\n",
    "        'Hamming_loss':hamming_loss(y_pred, y_test),\n",
    "        'Jaccard_score':jaccard_score(y_pred, y_test,average='macro')*100,\n",
    "        'Accuracy_score':accuracy_score(y_pred, y_test),\n",
    "        'Macro_f1_score':f1_score(y_test, y_pred,average='macro'),\n",
    "        'Micro_f1_score':f1_score(y_test, y_pred,average='micro')}),ignore_index=True)"
   ]
  },
  {
   "cell_type": "code",
   "execution_count": 98,
   "metadata": {},
   "outputs": [],
   "source": [
    "errors_grid('LinearSVC(C=1, max_iter=1000)',X_train, y_train,X_test,y_test)"
   ]
  },
  {
   "cell_type": "code",
   "execution_count": 99,
   "metadata": {},
   "outputs": [
    {
     "data": {
      "text/html": [
       "<div>\n",
       "<style scoped>\n",
       "    .dataframe tbody tr th:only-of-type {\n",
       "        vertical-align: middle;\n",
       "    }\n",
       "\n",
       "    .dataframe tbody tr th {\n",
       "        vertical-align: top;\n",
       "    }\n",
       "\n",
       "    .dataframe thead th {\n",
       "        text-align: right;\n",
       "    }\n",
       "</style>\n",
       "<table border=\"1\" class=\"dataframe\">\n",
       "  <thead>\n",
       "    <tr style=\"text-align: right;\">\n",
       "      <th></th>\n",
       "      <th>Modèle</th>\n",
       "      <th>Hamming_loss</th>\n",
       "      <th>Jaccard_score</th>\n",
       "      <th>Accuracy_score</th>\n",
       "      <th>Macro_f1_score</th>\n",
       "      <th>Micro_f1_score</th>\n",
       "    </tr>\n",
       "  </thead>\n",
       "  <tbody>\n",
       "    <tr>\n",
       "      <th>0</th>\n",
       "      <td>LinearSVC(random_state=0)</td>\n",
       "      <td>0.014009</td>\n",
       "      <td>53.311945</td>\n",
       "      <td>0.519339</td>\n",
       "      <td>0.671356</td>\n",
       "      <td>0.732881</td>\n",
       "    </tr>\n",
       "    <tr>\n",
       "      <th>1</th>\n",
       "      <td>RandomForestClassifier(random_state=0)</td>\n",
       "      <td>0.016593</td>\n",
       "      <td>34.939997</td>\n",
       "      <td>0.433310</td>\n",
       "      <td>0.462949</td>\n",
       "      <td>0.632065</td>\n",
       "    </tr>\n",
       "    <tr>\n",
       "      <th>2</th>\n",
       "      <td>Perceptron()</td>\n",
       "      <td>0.019487</td>\n",
       "      <td>47.944147</td>\n",
       "      <td>0.423717</td>\n",
       "      <td>0.624699</td>\n",
       "      <td>0.670920</td>\n",
       "    </tr>\n",
       "    <tr>\n",
       "      <th>3</th>\n",
       "      <td>LogisticRegression(random_state=0)</td>\n",
       "      <td>0.016369</td>\n",
       "      <td>42.154444</td>\n",
       "      <td>0.431371</td>\n",
       "      <td>0.567870</td>\n",
       "      <td>0.655360</td>\n",
       "    </tr>\n",
       "    <tr>\n",
       "      <th>4</th>\n",
       "      <td>SGDClassifier(random_state=0)</td>\n",
       "      <td>0.015527</td>\n",
       "      <td>44.310438</td>\n",
       "      <td>0.457496</td>\n",
       "      <td>0.569864</td>\n",
       "      <td>0.674170</td>\n",
       "    </tr>\n",
       "    <tr>\n",
       "      <th>5</th>\n",
       "      <td>GradientBoostingClassifier(random_state=0)</td>\n",
       "      <td>0.016000</td>\n",
       "      <td>50.421081</td>\n",
       "      <td>0.458822</td>\n",
       "      <td>0.640654</td>\n",
       "      <td>0.692894</td>\n",
       "    </tr>\n",
       "    <tr>\n",
       "      <th>6</th>\n",
       "      <td>LinearSVC(C=1, max_iter=20000)</td>\n",
       "      <td>0.014009</td>\n",
       "      <td>53.311945</td>\n",
       "      <td>0.519339</td>\n",
       "      <td>0.671356</td>\n",
       "      <td>0.732881</td>\n",
       "    </tr>\n",
       "    <tr>\n",
       "      <th>7</th>\n",
       "      <td>LinearSVC(C=1, max_iter=1000)</td>\n",
       "      <td>0.014009</td>\n",
       "      <td>53.311945</td>\n",
       "      <td>0.519339</td>\n",
       "      <td>0.671356</td>\n",
       "      <td>0.732881</td>\n",
       "    </tr>\n",
       "  </tbody>\n",
       "</table>\n",
       "</div>"
      ],
      "text/plain": [
       "                                       Modèle  Hamming_loss  Jaccard_score  \\\n",
       "0                   LinearSVC(random_state=0)      0.014009      53.311945   \n",
       "1      RandomForestClassifier(random_state=0)      0.016593      34.939997   \n",
       "2                                Perceptron()      0.019487      47.944147   \n",
       "3          LogisticRegression(random_state=0)      0.016369      42.154444   \n",
       "4               SGDClassifier(random_state=0)      0.015527      44.310438   \n",
       "5  GradientBoostingClassifier(random_state=0)      0.016000      50.421081   \n",
       "6              LinearSVC(C=1, max_iter=20000)      0.014009      53.311945   \n",
       "7               LinearSVC(C=1, max_iter=1000)      0.014009      53.311945   \n",
       "\n",
       "   Accuracy_score  Macro_f1_score  Micro_f1_score  \n",
       "0        0.519339        0.671356        0.732881  \n",
       "1        0.433310        0.462949        0.632065  \n",
       "2        0.423717        0.624699        0.670920  \n",
       "3        0.431371        0.567870        0.655360  \n",
       "4        0.457496        0.569864        0.674170  \n",
       "5        0.458822        0.640654        0.692894  \n",
       "6        0.519339        0.671356        0.732881  \n",
       "7        0.519339        0.671356        0.732881  "
      ]
     },
     "execution_count": 99,
     "metadata": {},
     "output_type": "execute_result"
    }
   ],
   "source": [
    "results"
   ]
  },
  {
   "cell_type": "code",
   "execution_count": 100,
   "metadata": {},
   "outputs": [],
   "source": [
    "clf=OneVsRestClassifier(LinearSVC(C=1,max_iter=1000)).fit(X_train, y_train)"
   ]
  },
  {
   "cell_type": "code",
   "execution_count": 101,
   "metadata": {},
   "outputs": [],
   "source": [
    "import pickle\n",
    "pickle.dump(clf, open('Documents/P5/Api/model.pkl', 'wb'))\n",
    "pickle.dump(tfidf_vectorizer, open('Documents/P5/Api/tfidf_vectorizer.pkl', 'wb'))\n",
    "pickle.dump(multilabel_binarizer, open('Documents/P5/Api/multilabel_binarizer.pkl', 'wb'))"
   ]
  }
 ],
 "metadata": {
  "kernelspec": {
   "display_name": "Python 3",
   "language": "python",
   "name": "python3"
  },
  "language_info": {
   "codemirror_mode": {
    "name": "ipython",
    "version": 3
   },
   "file_extension": ".py",
   "mimetype": "text/x-python",
   "name": "python",
   "nbconvert_exporter": "python",
   "pygments_lexer": "ipython3",
   "version": "3.8.5"
  }
 },
 "nbformat": 4,
 "nbformat_minor": 4
}
