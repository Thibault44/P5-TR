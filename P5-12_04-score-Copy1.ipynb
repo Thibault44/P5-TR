{
 "cells": [
  {
   "cell_type": "code",
   "execution_count": 1,
   "metadata": {},
   "outputs": [
    {
     "name": "stderr",
     "output_type": "stream",
     "text": [
      "C:\\Users\\thiba\\anaconda3\\lib\\site-packages\\sklearn\\decomposition\\_lda.py:28: DeprecationWarning: `np.float` is a deprecated alias for the builtin `float`. To silence this warning, use `float` by itself. Doing this will not modify any behavior and is safe. If you specifically wanted the numpy scalar type, use `np.float64` here.\n",
      "Deprecated in NumPy 1.20; for more details and guidance: https://numpy.org/devdocs/release/1.20.0-notes.html#deprecations\n",
      "  EPS = np.finfo(np.float).eps\n"
     ]
    }
   ],
   "source": [
    "# tables\n",
    "import pandas as pd\n",
    "import numpy as np\n",
    "# graphics\n",
    "import seaborn as sns\n",
    "import matplotlib.pyplot as plt\n",
    "#nltk\n",
    "import nltk\n",
    "\n",
    "import re\n",
    "from bs4 import BeautifulSoup\n",
    "\n",
    "import pyLDAvis\n",
    "import pyLDAvis.gensim_models\n",
    "import pyLDAvis.sklearn\n",
    "pyLDAvis.enable_notebook()\n",
    "\n",
    "import warnings\n",
    "warnings.filterwarnings(\"ignore\", category=DeprecationWarning)"
   ]
  },
  {
   "cell_type": "markdown",
   "metadata": {},
   "source": [
    "# Score > 80"
   ]
  },
  {
   "cell_type": "code",
   "execution_count": 2,
   "metadata": {},
   "outputs": [],
   "source": [
    "df=pd.read_csv(\"QueryResults_1.csv\", sep=',',encoding = 'UTF-8')\n",
    "df=df.append(pd.read_csv(\"QueryResults_2.csv\", sep=',',encoding = 'UTF-8'),ignore_index = True)"
   ]
  },
  {
   "cell_type": "code",
   "execution_count": 3,
   "metadata": {},
   "outputs": [
    {
     "data": {
      "text/html": [
       "<div>\n",
       "<style scoped>\n",
       "    .dataframe tbody tr th:only-of-type {\n",
       "        vertical-align: middle;\n",
       "    }\n",
       "\n",
       "    .dataframe tbody tr th {\n",
       "        vertical-align: top;\n",
       "    }\n",
       "\n",
       "    .dataframe thead th {\n",
       "        text-align: right;\n",
       "    }\n",
       "</style>\n",
       "<table border=\"1\" class=\"dataframe\">\n",
       "  <thead>\n",
       "    <tr style=\"text-align: right;\">\n",
       "      <th></th>\n",
       "      <th>Id</th>\n",
       "      <th>Body</th>\n",
       "      <th>Title</th>\n",
       "      <th>Tags</th>\n",
       "    </tr>\n",
       "  </thead>\n",
       "  <tbody>\n",
       "    <tr>\n",
       "      <th>0</th>\n",
       "      <td>4</td>\n",
       "      <td>&lt;p&gt;I want to use a &lt;code&gt;Track-Bar&lt;/code&gt; to c...</td>\n",
       "      <td>How to convert a Decimal to a Double in C#?</td>\n",
       "      <td>&lt;c#&gt;&lt;floating-point&gt;&lt;type-conversion&gt;&lt;double&gt;&lt;...</td>\n",
       "    </tr>\n",
       "    <tr>\n",
       "      <th>1</th>\n",
       "      <td>6</td>\n",
       "      <td>&lt;p&gt;I have an absolutely positioned &lt;code&gt;div&lt;/...</td>\n",
       "      <td>Why did the width collapse in the percentage w...</td>\n",
       "      <td>&lt;html&gt;&lt;css&gt;&lt;internet-explorer-7&gt;</td>\n",
       "    </tr>\n",
       "    <tr>\n",
       "      <th>2</th>\n",
       "      <td>9</td>\n",
       "      <td>&lt;p&gt;Given a &lt;code&gt;DateTime&lt;/code&gt; representing ...</td>\n",
       "      <td>How do I calculate someone's age based on a Da...</td>\n",
       "      <td>&lt;c#&gt;&lt;.net&gt;&lt;datetime&gt;</td>\n",
       "    </tr>\n",
       "    <tr>\n",
       "      <th>3</th>\n",
       "      <td>11</td>\n",
       "      <td>&lt;p&gt;Given a specific &lt;code&gt;DateTime&lt;/code&gt; valu...</td>\n",
       "      <td>Calculate relative time in C#</td>\n",
       "      <td>&lt;c#&gt;&lt;datetime&gt;&lt;time&gt;&lt;datediff&gt;&lt;relative-time-s...</td>\n",
       "    </tr>\n",
       "    <tr>\n",
       "      <th>4</th>\n",
       "      <td>13</td>\n",
       "      <td>&lt;p&gt;Is there a standard way for a web server to...</td>\n",
       "      <td>Determine a user's timezone</td>\n",
       "      <td>&lt;html&gt;&lt;browser&gt;&lt;timezone&gt;&lt;user-agent&gt;&lt;timezone...</td>\n",
       "    </tr>\n",
       "    <tr>\n",
       "      <th>...</th>\n",
       "      <td>...</td>\n",
       "      <td>...</td>\n",
       "      <td>...</td>\n",
       "      <td>...</td>\n",
       "    </tr>\n",
       "    <tr>\n",
       "      <th>58898</th>\n",
       "      <td>60573595</td>\n",
       "      <td>&lt;p&gt;Every time I try &lt;code&gt;npm install&lt;/code&gt;. ...</td>\n",
       "      <td>`npm install` fails on node-gyp rebuild with `...</td>\n",
       "      <td>&lt;node.js&gt;&lt;npm&gt;&lt;terminal&gt;&lt;macos-catalina&gt;&lt;node-...</td>\n",
       "    </tr>\n",
       "    <tr>\n",
       "      <th>58899</th>\n",
       "      <td>60625906</td>\n",
       "      <td>&lt;p&gt;I am reading a book (&lt;a href=\"https://smile...</td>\n",
       "      <td>Why cast free's return value to void?</td>\n",
       "      <td>&lt;c&gt;&lt;casting&gt;&lt;free&gt;&lt;void&gt;&lt;legacy-code&gt;</td>\n",
       "    </tr>\n",
       "    <tr>\n",
       "      <th>58900</th>\n",
       "      <td>62950667</td>\n",
       "      <td>&lt;p&gt;We're currently migrating from Java 8 to Ja...</td>\n",
       "      <td>Is there any need to switch to modules when mi...</td>\n",
       "      <td>&lt;java&gt;&lt;java-11&gt;&lt;java-platform-module-system&gt;</td>\n",
       "    </tr>\n",
       "    <tr>\n",
       "      <th>58901</th>\n",
       "      <td>62969917</td>\n",
       "      <td>&lt;p&gt;All of a sudden, I am getting this build er...</td>\n",
       "      <td>How to fix \"unexpected element &lt;queries&gt; found...</td>\n",
       "      <td>&lt;android&gt;&lt;android-gradle-plugin&gt;&lt;android-manif...</td>\n",
       "    </tr>\n",
       "    <tr>\n",
       "      <th>58902</th>\n",
       "      <td>66930450</td>\n",
       "      <td>&lt;p&gt;I have a fairly complex maths library I'm w...</td>\n",
       "      <td>How can I make my class immune to the \"auto va...</td>\n",
       "      <td>&lt;c++&gt;&lt;copy-assignment&gt;</td>\n",
       "    </tr>\n",
       "  </tbody>\n",
       "</table>\n",
       "<p>58903 rows × 4 columns</p>\n",
       "</div>"
      ],
      "text/plain": [
       "             Id                                               Body  \\\n",
       "0             4  <p>I want to use a <code>Track-Bar</code> to c...   \n",
       "1             6  <p>I have an absolutely positioned <code>div</...   \n",
       "2             9  <p>Given a <code>DateTime</code> representing ...   \n",
       "3            11  <p>Given a specific <code>DateTime</code> valu...   \n",
       "4            13  <p>Is there a standard way for a web server to...   \n",
       "...         ...                                                ...   \n",
       "58898  60573595  <p>Every time I try <code>npm install</code>. ...   \n",
       "58899  60625906  <p>I am reading a book (<a href=\"https://smile...   \n",
       "58900  62950667  <p>We're currently migrating from Java 8 to Ja...   \n",
       "58901  62969917  <p>All of a sudden, I am getting this build er...   \n",
       "58902  66930450  <p>I have a fairly complex maths library I'm w...   \n",
       "\n",
       "                                                   Title  \\\n",
       "0            How to convert a Decimal to a Double in C#?   \n",
       "1      Why did the width collapse in the percentage w...   \n",
       "2      How do I calculate someone's age based on a Da...   \n",
       "3                          Calculate relative time in C#   \n",
       "4                            Determine a user's timezone   \n",
       "...                                                  ...   \n",
       "58898  `npm install` fails on node-gyp rebuild with `...   \n",
       "58899              Why cast free's return value to void?   \n",
       "58900  Is there any need to switch to modules when mi...   \n",
       "58901  How to fix \"unexpected element <queries> found...   \n",
       "58902  How can I make my class immune to the \"auto va...   \n",
       "\n",
       "                                                    Tags  \n",
       "0      <c#><floating-point><type-conversion><double><...  \n",
       "1                       <html><css><internet-explorer-7>  \n",
       "2                                   <c#><.net><datetime>  \n",
       "3      <c#><datetime><time><datediff><relative-time-s...  \n",
       "4      <html><browser><timezone><user-agent><timezone...  \n",
       "...                                                  ...  \n",
       "58898  <node.js><npm><terminal><macos-catalina><node-...  \n",
       "58899              <c><casting><free><void><legacy-code>  \n",
       "58900       <java><java-11><java-platform-module-system>  \n",
       "58901  <android><android-gradle-plugin><android-manif...  \n",
       "58902                             <c++><copy-assignment>  \n",
       "\n",
       "[58903 rows x 4 columns]"
      ]
     },
     "execution_count": 3,
     "metadata": {},
     "output_type": "execute_result"
    }
   ],
   "source": [
    "df"
   ]
  },
  {
   "cell_type": "raw",
   "metadata": {},
   "source": [
    "Pour récuperer les données en SQL, j'ai fait le choix de conserver uniquement les questions n'ayant pas de valeurs manquantes dans Titre, Body et Tags et celles dont le nombre de vues est supérieur à 50000."
   ]
  },
  {
   "cell_type": "code",
   "execution_count": 4,
   "metadata": {},
   "outputs": [
    {
     "name": "stdout",
     "output_type": "stream",
     "text": [
      "Body\n",
      "(58903,)\n",
      "(58903,)\n",
      "Title\n",
      "(58903,)\n",
      "(58898,)\n",
      "Tags\n",
      "(58903,)\n",
      "(41457,)\n"
     ]
    }
   ],
   "source": [
    "print(\"Body\")\n",
    "print(df.Body.shape)\n",
    "print(df.Body.drop_duplicates().shape)\n",
    "print(\"Title\")\n",
    "print(df.Title.shape)\n",
    "print(df.Title.drop_duplicates().shape)\n",
    "print(\"Tags\")\n",
    "print(df.Tags.shape)\n",
    "print(df.Tags.drop_duplicates().shape)"
   ]
  },
  {
   "cell_type": "code",
   "execution_count": 5,
   "metadata": {},
   "outputs": [
    {
     "data": {
      "text/plain": [
       "(58903, 4)"
      ]
     },
     "execution_count": 5,
     "metadata": {},
     "output_type": "execute_result"
    }
   ],
   "source": [
    "df.shape"
   ]
  },
  {
   "cell_type": "code",
   "execution_count": 6,
   "metadata": {},
   "outputs": [],
   "source": [
    "df=df.drop(['Id'],axis=1).drop_duplicates()"
   ]
  },
  {
   "cell_type": "code",
   "execution_count": 7,
   "metadata": {},
   "outputs": [
    {
     "data": {
      "text/plain": [
       "(58903, 3)"
      ]
     },
     "execution_count": 7,
     "metadata": {},
     "output_type": "execute_result"
    }
   ],
   "source": [
    "df.shape"
   ]
  },
  {
   "cell_type": "markdown",
   "metadata": {},
   "source": [
    "# Prétraitement"
   ]
  },
  {
   "cell_type": "markdown",
   "metadata": {},
   "source": [
    "### Fonctions"
   ]
  },
  {
   "cell_type": "code",
   "execution_count": 8,
   "metadata": {},
   "outputs": [],
   "source": [
    "#fontion de 'tokenization' pour df.Title et df.Body\n",
    "def token(text):\n",
    "    text=re.sub('[^a-zA-Z0-9#+]', ' ',BeautifulSoup(text, \"lxml\").get_text() ).lower().split()\n",
    "    return text"
   ]
  },
  {
   "cell_type": "code",
   "execution_count": 9,
   "metadata": {},
   "outputs": [],
   "source": [
    "from nltk.corpus import stopwords\n",
    "stop = stopwords.words('english')"
   ]
  },
  {
   "cell_type": "code",
   "execution_count": 10,
   "metadata": {},
   "outputs": [],
   "source": [
    "#fontion pour le 'stemming' et le suppression des stopwords pour df.Title et df.Body\n",
    "import nltk\n",
    "sno = nltk.stem.SnowballStemmer('english')\n",
    "def stemmer(s):\n",
    "    s = [sno.stem(word) for word in s if word not in (stop)]\n",
    "    return s"
   ]
  },
  {
   "cell_type": "markdown",
   "metadata": {},
   "source": [
    "## Body"
   ]
  },
  {
   "cell_type": "code",
   "execution_count": 11,
   "metadata": {},
   "outputs": [
    {
     "data": {
      "text/plain": [
       "'<p>I want to use a <code>Track-Bar</code> to change a <code>Form</code>\\'s opacity.</p>\\n<p>This is my code:</p>\\n<pre class=\"lang-cs prettyprint-override\"><code>decimal trans = trackBar1.Value / 5000;\\nthis.Opacity = trans;\\n</code></pre>\\n<p>When I build the application, it gives the following error:</p>\\n<blockquote>\\n<pre class=\"lang-none prettyprint-override\"><code>Cannot implicitly convert type decimal to double\\n</code></pre>\\n</blockquote>\\n<p>I have tried using <code>trans</code> and <code>double</code>, but then the <code>Control</code> doesn\\'t work. This code worked fine in a past VB.NET project.</p>\\n'"
      ]
     },
     "execution_count": 11,
     "metadata": {},
     "output_type": "execute_result"
    }
   ],
   "source": [
    "df.Body.iloc[0]"
   ]
  },
  {
   "cell_type": "code",
   "execution_count": 12,
   "metadata": {},
   "outputs": [],
   "source": [
    "df.Body=df.Body.map(token)"
   ]
  },
  {
   "cell_type": "code",
   "execution_count": 13,
   "metadata": {},
   "outputs": [
    {
     "data": {
      "text/plain": [
       "0        [i, want, to, use, a, track, bar, to, change, ...\n",
       "1        [i, have, an, absolutely, positioned, div, con...\n",
       "2        [given, a, datetime, representing, a, person, ...\n",
       "3        [given, a, specific, datetime, value, how, do,...\n",
       "4        [is, there, a, standard, way, for, a, web, ser...\n",
       "                               ...                        \n",
       "58898    [every, time, i, try, npm, install, i, get, th...\n",
       "58899    [i, am, reading, a, book, programming, with, p...\n",
       "58900    [we, re, currently, migrating, from, java, 8, ...\n",
       "58901    [all, of, a, sudden, i, am, getting, this, bui...\n",
       "58902    [i, have, a, fairly, complex, maths, library, ...\n",
       "Name: Body, Length: 58903, dtype: object"
      ]
     },
     "execution_count": 13,
     "metadata": {},
     "output_type": "execute_result"
    }
   ],
   "source": [
    "df.Body"
   ]
  },
  {
   "cell_type": "code",
   "execution_count": 14,
   "metadata": {},
   "outputs": [],
   "source": [
    "df.Body=df.Body.apply(stemmer)"
   ]
  },
  {
   "cell_type": "code",
   "execution_count": 15,
   "metadata": {},
   "outputs": [
    {
     "data": {
      "text/plain": [
       "0        [want, use, track, bar, chang, form, opac, cod...\n",
       "1        [absolut, posit, div, contain, sever, children...\n",
       "2        [given, datetim, repres, person, birthday, cal...\n",
       "3        [given, specif, datetim, valu, display, relat,...\n",
       "4        [standard, way, web, server, abl, determin, us...\n",
       "                               ...                        \n",
       "58898    [everi, time, tri, npm, instal, get, follow, e...\n",
       "58899    [read, book, program, posix, thread, butenhof,...\n",
       "58900    [current, migrat, java, 8, java, 11, howev, up...\n",
       "58901    [sudden, get, build, error, android, project, ...\n",
       "58902    [fair, complex, math, librari, work, discov, n...\n",
       "Name: Body, Length: 58903, dtype: object"
      ]
     },
     "execution_count": 15,
     "metadata": {},
     "output_type": "execute_result"
    }
   ],
   "source": [
    "df.Body"
   ]
  },
  {
   "cell_type": "markdown",
   "metadata": {},
   "source": [
    "## Title"
   ]
  },
  {
   "cell_type": "code",
   "execution_count": 16,
   "metadata": {},
   "outputs": [],
   "source": [
    "df=df.drop_duplicates(subset=['Title'])"
   ]
  },
  {
   "cell_type": "code",
   "execution_count": 17,
   "metadata": {},
   "outputs": [
    {
     "data": {
      "text/html": [
       "<div>\n",
       "<style scoped>\n",
       "    .dataframe tbody tr th:only-of-type {\n",
       "        vertical-align: middle;\n",
       "    }\n",
       "\n",
       "    .dataframe tbody tr th {\n",
       "        vertical-align: top;\n",
       "    }\n",
       "\n",
       "    .dataframe thead th {\n",
       "        text-align: right;\n",
       "    }\n",
       "</style>\n",
       "<table border=\"1\" class=\"dataframe\">\n",
       "  <thead>\n",
       "    <tr style=\"text-align: right;\">\n",
       "      <th></th>\n",
       "      <th>Body</th>\n",
       "      <th>Title</th>\n",
       "      <th>Tags</th>\n",
       "    </tr>\n",
       "  </thead>\n",
       "  <tbody>\n",
       "    <tr>\n",
       "      <th>0</th>\n",
       "      <td>[want, use, track, bar, chang, form, opac, cod...</td>\n",
       "      <td>How to convert a Decimal to a Double in C#?</td>\n",
       "      <td>&lt;c#&gt;&lt;floating-point&gt;&lt;type-conversion&gt;&lt;double&gt;&lt;...</td>\n",
       "    </tr>\n",
       "    <tr>\n",
       "      <th>1</th>\n",
       "      <td>[absolut, posit, div, contain, sever, children...</td>\n",
       "      <td>Why did the width collapse in the percentage w...</td>\n",
       "      <td>&lt;html&gt;&lt;css&gt;&lt;internet-explorer-7&gt;</td>\n",
       "    </tr>\n",
       "    <tr>\n",
       "      <th>2</th>\n",
       "      <td>[given, datetim, repres, person, birthday, cal...</td>\n",
       "      <td>How do I calculate someone's age based on a Da...</td>\n",
       "      <td>&lt;c#&gt;&lt;.net&gt;&lt;datetime&gt;</td>\n",
       "    </tr>\n",
       "    <tr>\n",
       "      <th>3</th>\n",
       "      <td>[given, specif, datetim, valu, display, relat,...</td>\n",
       "      <td>Calculate relative time in C#</td>\n",
       "      <td>&lt;c#&gt;&lt;datetime&gt;&lt;time&gt;&lt;datediff&gt;&lt;relative-time-s...</td>\n",
       "    </tr>\n",
       "    <tr>\n",
       "      <th>4</th>\n",
       "      <td>[standard, way, web, server, abl, determin, us...</td>\n",
       "      <td>Determine a user's timezone</td>\n",
       "      <td>&lt;html&gt;&lt;browser&gt;&lt;timezone&gt;&lt;user-agent&gt;&lt;timezone...</td>\n",
       "    </tr>\n",
       "    <tr>\n",
       "      <th>...</th>\n",
       "      <td>...</td>\n",
       "      <td>...</td>\n",
       "      <td>...</td>\n",
       "    </tr>\n",
       "    <tr>\n",
       "      <th>58898</th>\n",
       "      <td>[everi, time, tri, npm, instal, get, follow, e...</td>\n",
       "      <td>`npm install` fails on node-gyp rebuild with `...</td>\n",
       "      <td>&lt;node.js&gt;&lt;npm&gt;&lt;terminal&gt;&lt;macos-catalina&gt;&lt;node-...</td>\n",
       "    </tr>\n",
       "    <tr>\n",
       "      <th>58899</th>\n",
       "      <td>[read, book, program, posix, thread, butenhof,...</td>\n",
       "      <td>Why cast free's return value to void?</td>\n",
       "      <td>&lt;c&gt;&lt;casting&gt;&lt;free&gt;&lt;void&gt;&lt;legacy-code&gt;</td>\n",
       "    </tr>\n",
       "    <tr>\n",
       "      <th>58900</th>\n",
       "      <td>[current, migrat, java, 8, java, 11, howev, up...</td>\n",
       "      <td>Is there any need to switch to modules when mi...</td>\n",
       "      <td>&lt;java&gt;&lt;java-11&gt;&lt;java-platform-module-system&gt;</td>\n",
       "    </tr>\n",
       "    <tr>\n",
       "      <th>58901</th>\n",
       "      <td>[sudden, get, build, error, android, project, ...</td>\n",
       "      <td>How to fix \"unexpected element &lt;queries&gt; found...</td>\n",
       "      <td>&lt;android&gt;&lt;android-gradle-plugin&gt;&lt;android-manif...</td>\n",
       "    </tr>\n",
       "    <tr>\n",
       "      <th>58902</th>\n",
       "      <td>[fair, complex, math, librari, work, discov, n...</td>\n",
       "      <td>How can I make my class immune to the \"auto va...</td>\n",
       "      <td>&lt;c++&gt;&lt;copy-assignment&gt;</td>\n",
       "    </tr>\n",
       "  </tbody>\n",
       "</table>\n",
       "<p>58898 rows × 3 columns</p>\n",
       "</div>"
      ],
      "text/plain": [
       "                                                    Body  \\\n",
       "0      [want, use, track, bar, chang, form, opac, cod...   \n",
       "1      [absolut, posit, div, contain, sever, children...   \n",
       "2      [given, datetim, repres, person, birthday, cal...   \n",
       "3      [given, specif, datetim, valu, display, relat,...   \n",
       "4      [standard, way, web, server, abl, determin, us...   \n",
       "...                                                  ...   \n",
       "58898  [everi, time, tri, npm, instal, get, follow, e...   \n",
       "58899  [read, book, program, posix, thread, butenhof,...   \n",
       "58900  [current, migrat, java, 8, java, 11, howev, up...   \n",
       "58901  [sudden, get, build, error, android, project, ...   \n",
       "58902  [fair, complex, math, librari, work, discov, n...   \n",
       "\n",
       "                                                   Title  \\\n",
       "0            How to convert a Decimal to a Double in C#?   \n",
       "1      Why did the width collapse in the percentage w...   \n",
       "2      How do I calculate someone's age based on a Da...   \n",
       "3                          Calculate relative time in C#   \n",
       "4                            Determine a user's timezone   \n",
       "...                                                  ...   \n",
       "58898  `npm install` fails on node-gyp rebuild with `...   \n",
       "58899              Why cast free's return value to void?   \n",
       "58900  Is there any need to switch to modules when mi...   \n",
       "58901  How to fix \"unexpected element <queries> found...   \n",
       "58902  How can I make my class immune to the \"auto va...   \n",
       "\n",
       "                                                    Tags  \n",
       "0      <c#><floating-point><type-conversion><double><...  \n",
       "1                       <html><css><internet-explorer-7>  \n",
       "2                                   <c#><.net><datetime>  \n",
       "3      <c#><datetime><time><datediff><relative-time-s...  \n",
       "4      <html><browser><timezone><user-agent><timezone...  \n",
       "...                                                  ...  \n",
       "58898  <node.js><npm><terminal><macos-catalina><node-...  \n",
       "58899              <c><casting><free><void><legacy-code>  \n",
       "58900       <java><java-11><java-platform-module-system>  \n",
       "58901  <android><android-gradle-plugin><android-manif...  \n",
       "58902                             <c++><copy-assignment>  \n",
       "\n",
       "[58898 rows x 3 columns]"
      ]
     },
     "execution_count": 17,
     "metadata": {},
     "output_type": "execute_result"
    }
   ],
   "source": [
    "df"
   ]
  },
  {
   "cell_type": "code",
   "execution_count": 18,
   "metadata": {},
   "outputs": [
    {
     "data": {
      "text/plain": [
       "'How to convert a Decimal to a Double in C#?'"
      ]
     },
     "execution_count": 18,
     "metadata": {},
     "output_type": "execute_result"
    }
   ],
   "source": [
    "df.Title.iloc[0]"
   ]
  },
  {
   "cell_type": "code",
   "execution_count": 19,
   "metadata": {},
   "outputs": [
    {
     "data": {
      "text/plain": [
       "0              How to convert a Decimal to a Double in C#?\n",
       "1        Why did the width collapse in the percentage w...\n",
       "2        How do I calculate someone's age based on a Da...\n",
       "3                            Calculate relative time in C#\n",
       "4                              Determine a user's timezone\n",
       "                               ...                        \n",
       "58898    `npm install` fails on node-gyp rebuild with `...\n",
       "58899                Why cast free's return value to void?\n",
       "58900    Is there any need to switch to modules when mi...\n",
       "58901    How to fix \"unexpected element <queries> found...\n",
       "58902    How can I make my class immune to the \"auto va...\n",
       "Name: Title, Length: 58898, dtype: object"
      ]
     },
     "execution_count": 19,
     "metadata": {},
     "output_type": "execute_result"
    }
   ],
   "source": [
    "df.Title"
   ]
  },
  {
   "cell_type": "code",
   "execution_count": 20,
   "metadata": {},
   "outputs": [],
   "source": [
    "df.Title=df.Title.map(token)"
   ]
  },
  {
   "cell_type": "code",
   "execution_count": 21,
   "metadata": {},
   "outputs": [
    {
     "data": {
      "text/plain": [
       "0        [how, to, convert, a, decimal, to, a, double, ...\n",
       "1        [why, did, the, width, collapse, in, the, perc...\n",
       "2        [how, do, i, calculate, someone, s, age, based...\n",
       "3                      [calculate, relative, time, in, c#]\n",
       "4                        [determine, a, user, s, timezone]\n",
       "                               ...                        \n",
       "58898    [npm, install, fails, on, node, gyp, rebuild, ...\n",
       "58899        [why, cast, free, s, return, value, to, void]\n",
       "58900    [is, there, any, need, to, switch, to, modules...\n",
       "58901    [how, to, fix, unexpected, element, found, in,...\n",
       "58902    [how, can, i, make, my, class, immune, to, the...\n",
       "Name: Title, Length: 58898, dtype: object"
      ]
     },
     "execution_count": 21,
     "metadata": {},
     "output_type": "execute_result"
    }
   ],
   "source": [
    "df.Title"
   ]
  },
  {
   "cell_type": "code",
   "execution_count": 22,
   "metadata": {},
   "outputs": [],
   "source": [
    "df.Title=df.Title.apply(stemmer)"
   ]
  },
  {
   "cell_type": "code",
   "execution_count": 23,
   "metadata": {},
   "outputs": [
    {
     "data": {
      "text/plain": [
       "0                              [convert, decim, doubl, c#]\n",
       "1        [width, collaps, percentag, width, child, elem...\n",
       "2        [calcul, someon, age, base, datetim, type, bir...\n",
       "3                                [calcul, relat, time, c#]\n",
       "4                                [determin, user, timezon]\n",
       "                               ...                        \n",
       "58898    [npm, instal, fail, node, gyp, rebuild, gyp, x...\n",
       "58899                     [cast, free, return, valu, void]\n",
       "58900    [need, switch, modul, migrat, java, 9+, java, 11]\n",
       "58901               [fix, unexpect, element, found, error]\n",
       "58902    [make, class, immun, auto, valu, copi, proxi, ...\n",
       "Name: Title, Length: 58898, dtype: object"
      ]
     },
     "execution_count": 23,
     "metadata": {},
     "output_type": "execute_result"
    }
   ],
   "source": [
    "df.Title"
   ]
  },
  {
   "cell_type": "markdown",
   "metadata": {},
   "source": [
    "## Tags"
   ]
  },
  {
   "cell_type": "code",
   "execution_count": 24,
   "metadata": {},
   "outputs": [
    {
     "data": {
      "text/plain": [
       "'<c#><floating-point><type-conversion><double><decimal>'"
      ]
     },
     "execution_count": 24,
     "metadata": {},
     "output_type": "execute_result"
    }
   ],
   "source": [
    "df.Tags.iloc[0]"
   ]
  },
  {
   "cell_type": "code",
   "execution_count": 25,
   "metadata": {},
   "outputs": [],
   "source": [
    "df.Tags=df[\"Tags\"].map(lambda field:field[1:-1].split('><'))"
   ]
  },
  {
   "cell_type": "code",
   "execution_count": 26,
   "metadata": {},
   "outputs": [
    {
     "data": {
      "text/plain": [
       "0        [c#, floating-point, type-conversion, double, ...\n",
       "1                         [html, css, internet-explorer-7]\n",
       "2                                     [c#, .net, datetime]\n",
       "3        [c#, datetime, time, datediff, relative-time-s...\n",
       "4        [html, browser, timezone, user-agent, timezone...\n",
       "                               ...                        \n",
       "58898    [node.js, npm, terminal, macos-catalina, node-...\n",
       "58899                [c, casting, free, void, legacy-code]\n",
       "58900         [java, java-11, java-platform-module-system]\n",
       "58901    [android, android-gradle-plugin, android-manif...\n",
       "58902                               [c++, copy-assignment]\n",
       "Name: Tags, Length: 58898, dtype: object"
      ]
     },
     "execution_count": 26,
     "metadata": {},
     "output_type": "execute_result"
    }
   ],
   "source": [
    "df.Tags"
   ]
  },
  {
   "cell_type": "code",
   "execution_count": 27,
   "metadata": {},
   "outputs": [
    {
     "data": {
      "text/html": [
       "<div>\n",
       "<style scoped>\n",
       "    .dataframe tbody tr th:only-of-type {\n",
       "        vertical-align: middle;\n",
       "    }\n",
       "\n",
       "    .dataframe tbody tr th {\n",
       "        vertical-align: top;\n",
       "    }\n",
       "\n",
       "    .dataframe thead th {\n",
       "        text-align: right;\n",
       "    }\n",
       "</style>\n",
       "<table border=\"1\" class=\"dataframe\">\n",
       "  <thead>\n",
       "    <tr style=\"text-align: right;\">\n",
       "      <th></th>\n",
       "      <th>Body</th>\n",
       "      <th>Title</th>\n",
       "      <th>Tags</th>\n",
       "    </tr>\n",
       "  </thead>\n",
       "  <tbody>\n",
       "    <tr>\n",
       "      <th>0</th>\n",
       "      <td>[want, use, track, bar, chang, form, opac, cod...</td>\n",
       "      <td>[convert, decim, doubl, c#]</td>\n",
       "      <td>[c#, floating-point, type-conversion, double, ...</td>\n",
       "    </tr>\n",
       "    <tr>\n",
       "      <th>1</th>\n",
       "      <td>[absolut, posit, div, contain, sever, children...</td>\n",
       "      <td>[width, collaps, percentag, width, child, elem...</td>\n",
       "      <td>[html, css, internet-explorer-7]</td>\n",
       "    </tr>\n",
       "    <tr>\n",
       "      <th>2</th>\n",
       "      <td>[given, datetim, repres, person, birthday, cal...</td>\n",
       "      <td>[calcul, someon, age, base, datetim, type, bir...</td>\n",
       "      <td>[c#, .net, datetime]</td>\n",
       "    </tr>\n",
       "    <tr>\n",
       "      <th>3</th>\n",
       "      <td>[given, specif, datetim, valu, display, relat,...</td>\n",
       "      <td>[calcul, relat, time, c#]</td>\n",
       "      <td>[c#, datetime, time, datediff, relative-time-s...</td>\n",
       "    </tr>\n",
       "    <tr>\n",
       "      <th>4</th>\n",
       "      <td>[standard, way, web, server, abl, determin, us...</td>\n",
       "      <td>[determin, user, timezon]</td>\n",
       "      <td>[html, browser, timezone, user-agent, timezone...</td>\n",
       "    </tr>\n",
       "    <tr>\n",
       "      <th>...</th>\n",
       "      <td>...</td>\n",
       "      <td>...</td>\n",
       "      <td>...</td>\n",
       "    </tr>\n",
       "    <tr>\n",
       "      <th>58898</th>\n",
       "      <td>[everi, time, tri, npm, instal, get, follow, e...</td>\n",
       "      <td>[npm, instal, fail, node, gyp, rebuild, gyp, x...</td>\n",
       "      <td>[node.js, npm, terminal, macos-catalina, node-...</td>\n",
       "    </tr>\n",
       "    <tr>\n",
       "      <th>58899</th>\n",
       "      <td>[read, book, program, posix, thread, butenhof,...</td>\n",
       "      <td>[cast, free, return, valu, void]</td>\n",
       "      <td>[c, casting, free, void, legacy-code]</td>\n",
       "    </tr>\n",
       "    <tr>\n",
       "      <th>58900</th>\n",
       "      <td>[current, migrat, java, 8, java, 11, howev, up...</td>\n",
       "      <td>[need, switch, modul, migrat, java, 9+, java, 11]</td>\n",
       "      <td>[java, java-11, java-platform-module-system]</td>\n",
       "    </tr>\n",
       "    <tr>\n",
       "      <th>58901</th>\n",
       "      <td>[sudden, get, build, error, android, project, ...</td>\n",
       "      <td>[fix, unexpect, element, found, error]</td>\n",
       "      <td>[android, android-gradle-plugin, android-manif...</td>\n",
       "    </tr>\n",
       "    <tr>\n",
       "      <th>58902</th>\n",
       "      <td>[fair, complex, math, librari, work, discov, n...</td>\n",
       "      <td>[make, class, immun, auto, valu, copi, proxi, ...</td>\n",
       "      <td>[c++, copy-assignment]</td>\n",
       "    </tr>\n",
       "  </tbody>\n",
       "</table>\n",
       "<p>58898 rows × 3 columns</p>\n",
       "</div>"
      ],
      "text/plain": [
       "                                                    Body  \\\n",
       "0      [want, use, track, bar, chang, form, opac, cod...   \n",
       "1      [absolut, posit, div, contain, sever, children...   \n",
       "2      [given, datetim, repres, person, birthday, cal...   \n",
       "3      [given, specif, datetim, valu, display, relat,...   \n",
       "4      [standard, way, web, server, abl, determin, us...   \n",
       "...                                                  ...   \n",
       "58898  [everi, time, tri, npm, instal, get, follow, e...   \n",
       "58899  [read, book, program, posix, thread, butenhof,...   \n",
       "58900  [current, migrat, java, 8, java, 11, howev, up...   \n",
       "58901  [sudden, get, build, error, android, project, ...   \n",
       "58902  [fair, complex, math, librari, work, discov, n...   \n",
       "\n",
       "                                                   Title  \\\n",
       "0                            [convert, decim, doubl, c#]   \n",
       "1      [width, collaps, percentag, width, child, elem...   \n",
       "2      [calcul, someon, age, base, datetim, type, bir...   \n",
       "3                              [calcul, relat, time, c#]   \n",
       "4                              [determin, user, timezon]   \n",
       "...                                                  ...   \n",
       "58898  [npm, instal, fail, node, gyp, rebuild, gyp, x...   \n",
       "58899                   [cast, free, return, valu, void]   \n",
       "58900  [need, switch, modul, migrat, java, 9+, java, 11]   \n",
       "58901             [fix, unexpect, element, found, error]   \n",
       "58902  [make, class, immun, auto, valu, copi, proxi, ...   \n",
       "\n",
       "                                                    Tags  \n",
       "0      [c#, floating-point, type-conversion, double, ...  \n",
       "1                       [html, css, internet-explorer-7]  \n",
       "2                                   [c#, .net, datetime]  \n",
       "3      [c#, datetime, time, datediff, relative-time-s...  \n",
       "4      [html, browser, timezone, user-agent, timezone...  \n",
       "...                                                  ...  \n",
       "58898  [node.js, npm, terminal, macos-catalina, node-...  \n",
       "58899              [c, casting, free, void, legacy-code]  \n",
       "58900       [java, java-11, java-platform-module-system]  \n",
       "58901  [android, android-gradle-plugin, android-manif...  \n",
       "58902                             [c++, copy-assignment]  \n",
       "\n",
       "[58898 rows x 3 columns]"
      ]
     },
     "execution_count": 27,
     "metadata": {},
     "output_type": "execute_result"
    }
   ],
   "source": [
    "df"
   ]
  },
  {
   "cell_type": "markdown",
   "metadata": {},
   "source": [
    "# Analyse et gestion des tags"
   ]
  },
  {
   "cell_type": "code",
   "execution_count": 28,
   "metadata": {},
   "outputs": [
    {
     "name": "stderr",
     "output_type": "stream",
     "text": [
      "C:\\Users\\thiba\\anaconda3\\lib\\site-packages\\seaborn\\_decorators.py:36: FutureWarning: Pass the following variable as a keyword arg: x. From version 0.12, the only valid positional argument will be `data`, and passing other arguments without an explicit keyword will result in an error or misinterpretation.\n",
      "  warnings.warn(\n"
     ]
    },
    {
     "data": {
      "image/png": "[encoded data removed]",
      "text/plain": [
       "<Figure size 432x288 with 1 Axes>"
      ]
     },
     "metadata": {
      "needs_background": "light"
     },
     "output_type": "display_data"
    }
   ],
   "source": [
    "sns.countplot(df.Tags.map(lambda field:len(field)))\n",
    "plt.title(\"nbr de tags par post\")\n",
    "plt.show()"
   ]
  },
  {
   "cell_type": "code",
   "execution_count": 29,
   "metadata": {},
   "outputs": [],
   "source": [
    "all_tags=[]\n",
    "for i in df.Tags:\n",
    "    for j in i:\n",
    "        all_tags.append(j)"
   ]
  },
  {
   "cell_type": "code",
   "execution_count": 30,
   "metadata": {},
   "outputs": [
    {
     "name": "stderr",
     "output_type": "stream",
     "text": [
      "C:\\Users\\thiba\\anaconda3\\lib\\site-packages\\seaborn\\_decorators.py:36: FutureWarning: Pass the following variables as keyword args: x, y. From version 0.12, the only valid positional argument will be `data`, and passing other arguments without an explicit keyword will result in an error or misinterpretation.\n",
      "  warnings.warn(\n"
     ]
    },
    {
     "data": {
      "image/png": "[encoded data removed]",
      "text/plain": [
       "<Figure size 720x720 with 1 Axes>"
      ]
     },
     "metadata": {
      "needs_background": "light"
     },
     "output_type": "display_data"
    }
   ],
   "source": [
    "#Affichage des 20 Tags les plus présent\n",
    "import collections\n",
    "counter=collections.Counter(all_tags)\n",
    "common = counter.most_common(70)\n",
    "labels = [item[0] for item in common]\n",
    "number = [item[1] for item in common]\n",
    "\n",
    "plt.figure(figsize=(10,10))\n",
    "sns.barplot(number, labels)\n",
    "plt.title(\"Les 50 Tags les plus présent\")\n",
    "plt.show()"
   ]
  },
  {
   "cell_type": "code",
   "execution_count": 31,
   "metadata": {},
   "outputs": [],
   "source": [
    "liste=[]\n",
    "for i in range(0,len(labels)):\n",
    "    if number[i]>500:\n",
    "        liste.append(labels[i])    "
   ]
  },
  {
   "cell_type": "code",
   "execution_count": 32,
   "metadata": {},
   "outputs": [
    {
     "data": {
      "text/plain": [
       "47"
      ]
     },
     "execution_count": 32,
     "metadata": {},
     "output_type": "execute_result"
    }
   ],
   "source": [
    "len(liste)"
   ]
  },
  {
   "cell_type": "code",
   "execution_count": 33,
   "metadata": {},
   "outputs": [],
   "source": [
    "def tags_to_keep(list):\n",
    "    list = [x for x in list if x in labels[:50]]\n",
    "    return list"
   ]
  },
  {
   "cell_type": "code",
   "execution_count": 34,
   "metadata": {},
   "outputs": [],
   "source": [
    "df.Tags=df.Tags.apply(tags_to_keep)"
   ]
  },
  {
   "cell_type": "code",
   "execution_count": 35,
   "metadata": {},
   "outputs": [],
   "source": [
    "df=df.reset_index()\n",
    "df=df.drop(['index'],axis=1)"
   ]
  },
  {
   "cell_type": "code",
   "execution_count": 36,
   "metadata": {},
   "outputs": [],
   "source": [
    "index_to_drop=[]\n",
    "for i in range(0,len(df)-1):\n",
    "    if len(df.Tags[i])==0:\n",
    "        index_to_drop.append(i)"
   ]
  },
  {
   "cell_type": "code",
   "execution_count": 37,
   "metadata": {},
   "outputs": [],
   "source": [
    "df.Tags=df.Tags.drop(index=index_to_drop,axis=0)"
   ]
  },
  {
   "cell_type": "code",
   "execution_count": 38,
   "metadata": {},
   "outputs": [],
   "source": [
    "df=df.dropna()"
   ]
  },
  {
   "cell_type": "code",
   "execution_count": 39,
   "metadata": {},
   "outputs": [
    {
     "name": "stderr",
     "output_type": "stream",
     "text": [
      "C:\\Users\\thiba\\anaconda3\\lib\\site-packages\\seaborn\\_decorators.py:36: FutureWarning: Pass the following variable as a keyword arg: x. From version 0.12, the only valid positional argument will be `data`, and passing other arguments without an explicit keyword will result in an error or misinterpretation.\n",
      "  warnings.warn(\n"
     ]
    },
    {
     "data": {
      "image/png": "[encoded data removed]",
      "text/plain": [
       "<Figure size 432x288 with 1 Axes>"
      ]
     },
     "metadata": {
      "needs_background": "light"
     },
     "output_type": "display_data"
    }
   ],
   "source": [
    "sns.countplot(df.Tags.map(lambda field:len(field)))\n",
    "plt.title(\"nbr de tags par post\")\n",
    "plt.show()"
   ]
  },
  {
   "cell_type": "code",
   "execution_count": 40,
   "metadata": {},
   "outputs": [
    {
     "data": {
      "text/html": [
       "<div>\n",
       "<style scoped>\n",
       "    .dataframe tbody tr th:only-of-type {\n",
       "        vertical-align: middle;\n",
       "    }\n",
       "\n",
       "    .dataframe tbody tr th {\n",
       "        vertical-align: top;\n",
       "    }\n",
       "\n",
       "    .dataframe thead th {\n",
       "        text-align: right;\n",
       "    }\n",
       "</style>\n",
       "<table border=\"1\" class=\"dataframe\">\n",
       "  <thead>\n",
       "    <tr style=\"text-align: right;\">\n",
       "      <th></th>\n",
       "      <th>Body</th>\n",
       "      <th>Title</th>\n",
       "      <th>Tags</th>\n",
       "    </tr>\n",
       "  </thead>\n",
       "  <tbody>\n",
       "    <tr>\n",
       "      <th>0</th>\n",
       "      <td>[want, use, track, bar, chang, form, opac, cod...</td>\n",
       "      <td>[convert, decim, doubl, c#]</td>\n",
       "      <td>[c#]</td>\n",
       "    </tr>\n",
       "    <tr>\n",
       "      <th>1</th>\n",
       "      <td>[absolut, posit, div, contain, sever, children...</td>\n",
       "      <td>[width, collaps, percentag, width, child, elem...</td>\n",
       "      <td>[html, css]</td>\n",
       "    </tr>\n",
       "    <tr>\n",
       "      <th>2</th>\n",
       "      <td>[given, datetim, repres, person, birthday, cal...</td>\n",
       "      <td>[calcul, someon, age, base, datetim, type, bir...</td>\n",
       "      <td>[c#, .net]</td>\n",
       "    </tr>\n",
       "    <tr>\n",
       "      <th>3</th>\n",
       "      <td>[given, specif, datetim, valu, display, relat,...</td>\n",
       "      <td>[calcul, relat, time, c#]</td>\n",
       "      <td>[c#]</td>\n",
       "    </tr>\n",
       "    <tr>\n",
       "      <th>4</th>\n",
       "      <td>[standard, way, web, server, abl, determin, us...</td>\n",
       "      <td>[determin, user, timezon]</td>\n",
       "      <td>[html]</td>\n",
       "    </tr>\n",
       "    <tr>\n",
       "      <th>...</th>\n",
       "      <td>...</td>\n",
       "      <td>...</td>\n",
       "      <td>...</td>\n",
       "    </tr>\n",
       "    <tr>\n",
       "      <th>58893</th>\n",
       "      <td>[everi, time, tri, npm, instal, get, follow, e...</td>\n",
       "      <td>[npm, instal, fail, node, gyp, rebuild, gyp, x...</td>\n",
       "      <td>[node.js]</td>\n",
       "    </tr>\n",
       "    <tr>\n",
       "      <th>58894</th>\n",
       "      <td>[read, book, program, posix, thread, butenhof,...</td>\n",
       "      <td>[cast, free, return, valu, void]</td>\n",
       "      <td>[c]</td>\n",
       "    </tr>\n",
       "    <tr>\n",
       "      <th>58895</th>\n",
       "      <td>[current, migrat, java, 8, java, 11, howev, up...</td>\n",
       "      <td>[need, switch, modul, migrat, java, 9+, java, 11]</td>\n",
       "      <td>[java]</td>\n",
       "    </tr>\n",
       "    <tr>\n",
       "      <th>58896</th>\n",
       "      <td>[sudden, get, build, error, android, project, ...</td>\n",
       "      <td>[fix, unexpect, element, found, error]</td>\n",
       "      <td>[android]</td>\n",
       "    </tr>\n",
       "    <tr>\n",
       "      <th>58897</th>\n",
       "      <td>[fair, complex, math, librari, work, discov, n...</td>\n",
       "      <td>[make, class, immun, auto, valu, copi, proxi, ...</td>\n",
       "      <td>[c++]</td>\n",
       "    </tr>\n",
       "  </tbody>\n",
       "</table>\n",
       "<p>49766 rows × 3 columns</p>\n",
       "</div>"
      ],
      "text/plain": [
       "                                                    Body  \\\n",
       "0      [want, use, track, bar, chang, form, opac, cod...   \n",
       "1      [absolut, posit, div, contain, sever, children...   \n",
       "2      [given, datetim, repres, person, birthday, cal...   \n",
       "3      [given, specif, datetim, valu, display, relat,...   \n",
       "4      [standard, way, web, server, abl, determin, us...   \n",
       "...                                                  ...   \n",
       "58893  [everi, time, tri, npm, instal, get, follow, e...   \n",
       "58894  [read, book, program, posix, thread, butenhof,...   \n",
       "58895  [current, migrat, java, 8, java, 11, howev, up...   \n",
       "58896  [sudden, get, build, error, android, project, ...   \n",
       "58897  [fair, complex, math, librari, work, discov, n...   \n",
       "\n",
       "                                                   Title         Tags  \n",
       "0                            [convert, decim, doubl, c#]         [c#]  \n",
       "1      [width, collaps, percentag, width, child, elem...  [html, css]  \n",
       "2      [calcul, someon, age, base, datetim, type, bir...   [c#, .net]  \n",
       "3                              [calcul, relat, time, c#]         [c#]  \n",
       "4                              [determin, user, timezon]       [html]  \n",
       "...                                                  ...          ...  \n",
       "58893  [npm, instal, fail, node, gyp, rebuild, gyp, x...    [node.js]  \n",
       "58894                   [cast, free, return, valu, void]          [c]  \n",
       "58895  [need, switch, modul, migrat, java, 9+, java, 11]       [java]  \n",
       "58896             [fix, unexpect, element, found, error]    [android]  \n",
       "58897  [make, class, immun, auto, valu, copi, proxi, ...        [c++]  \n",
       "\n",
       "[49766 rows x 3 columns]"
      ]
     },
     "execution_count": 40,
     "metadata": {},
     "output_type": "execute_result"
    }
   ],
   "source": [
    "df"
   ]
  },
  {
   "cell_type": "markdown",
   "metadata": {},
   "source": [
    "# Mettre en œuvre une approche non supervisée."
   ]
  },
  {
   "cell_type": "code",
   "execution_count": 41,
   "metadata": {},
   "outputs": [],
   "source": [
    "df[\"Document\"] = (df.Title + df.Body)"
   ]
  },
  {
   "cell_type": "code",
   "execution_count": 42,
   "metadata": {},
   "outputs": [],
   "source": [
    "df=df.drop([\"Title\", \"Body\"], axis=1)"
   ]
  },
  {
   "cell_type": "code",
   "execution_count": 43,
   "metadata": {},
   "outputs": [
    {
     "data": {
      "text/html": [
       "<div>\n",
       "<style scoped>\n",
       "    .dataframe tbody tr th:only-of-type {\n",
       "        vertical-align: middle;\n",
       "    }\n",
       "\n",
       "    .dataframe tbody tr th {\n",
       "        vertical-align: top;\n",
       "    }\n",
       "\n",
       "    .dataframe thead th {\n",
       "        text-align: right;\n",
       "    }\n",
       "</style>\n",
       "<table border=\"1\" class=\"dataframe\">\n",
       "  <thead>\n",
       "    <tr style=\"text-align: right;\">\n",
       "      <th></th>\n",
       "      <th>Tags</th>\n",
       "      <th>Document</th>\n",
       "    </tr>\n",
       "  </thead>\n",
       "  <tbody>\n",
       "    <tr>\n",
       "      <th>0</th>\n",
       "      <td>[c#]</td>\n",
       "      <td>[convert, decim, doubl, c#, want, use, track, ...</td>\n",
       "    </tr>\n",
       "    <tr>\n",
       "      <th>1</th>\n",
       "      <td>[html, css]</td>\n",
       "      <td>[width, collaps, percentag, width, child, elem...</td>\n",
       "    </tr>\n",
       "    <tr>\n",
       "      <th>2</th>\n",
       "      <td>[c#, .net]</td>\n",
       "      <td>[calcul, someon, age, base, datetim, type, bir...</td>\n",
       "    </tr>\n",
       "    <tr>\n",
       "      <th>3</th>\n",
       "      <td>[c#]</td>\n",
       "      <td>[calcul, relat, time, c#, given, specif, datet...</td>\n",
       "    </tr>\n",
       "    <tr>\n",
       "      <th>4</th>\n",
       "      <td>[html]</td>\n",
       "      <td>[determin, user, timezon, standard, way, web, ...</td>\n",
       "    </tr>\n",
       "    <tr>\n",
       "      <th>...</th>\n",
       "      <td>...</td>\n",
       "      <td>...</td>\n",
       "    </tr>\n",
       "    <tr>\n",
       "      <th>58893</th>\n",
       "      <td>[node.js]</td>\n",
       "      <td>[npm, instal, fail, node, gyp, rebuild, gyp, x...</td>\n",
       "    </tr>\n",
       "    <tr>\n",
       "      <th>58894</th>\n",
       "      <td>[c]</td>\n",
       "      <td>[cast, free, return, valu, void, read, book, p...</td>\n",
       "    </tr>\n",
       "    <tr>\n",
       "      <th>58895</th>\n",
       "      <td>[java]</td>\n",
       "      <td>[need, switch, modul, migrat, java, 9+, java, ...</td>\n",
       "    </tr>\n",
       "    <tr>\n",
       "      <th>58896</th>\n",
       "      <td>[android]</td>\n",
       "      <td>[fix, unexpect, element, found, error, sudden,...</td>\n",
       "    </tr>\n",
       "    <tr>\n",
       "      <th>58897</th>\n",
       "      <td>[c++]</td>\n",
       "      <td>[make, class, immun, auto, valu, copi, proxi, ...</td>\n",
       "    </tr>\n",
       "  </tbody>\n",
       "</table>\n",
       "<p>49766 rows × 2 columns</p>\n",
       "</div>"
      ],
      "text/plain": [
       "              Tags                                           Document\n",
       "0             [c#]  [convert, decim, doubl, c#, want, use, track, ...\n",
       "1      [html, css]  [width, collaps, percentag, width, child, elem...\n",
       "2       [c#, .net]  [calcul, someon, age, base, datetim, type, bir...\n",
       "3             [c#]  [calcul, relat, time, c#, given, specif, datet...\n",
       "4           [html]  [determin, user, timezon, standard, way, web, ...\n",
       "...            ...                                                ...\n",
       "58893    [node.js]  [npm, instal, fail, node, gyp, rebuild, gyp, x...\n",
       "58894          [c]  [cast, free, return, valu, void, read, book, p...\n",
       "58895       [java]  [need, switch, modul, migrat, java, 9+, java, ...\n",
       "58896    [android]  [fix, unexpect, element, found, error, sudden,...\n",
       "58897        [c++]  [make, class, immun, auto, valu, copi, proxi, ...\n",
       "\n",
       "[49766 rows x 2 columns]"
      ]
     },
     "execution_count": 43,
     "metadata": {},
     "output_type": "execute_result"
    }
   ],
   "source": [
    "df"
   ]
  },
  {
   "cell_type": "markdown",
   "metadata": {},
   "source": [
    "# LDA"
   ]
  },
  {
   "cell_type": "code",
   "execution_count": 44,
   "metadata": {},
   "outputs": [],
   "source": [
    "from sklearn.feature_extraction.text import TfidfVectorizer"
   ]
  },
  {
   "cell_type": "code",
   "execution_count": 45,
   "metadata": {},
   "outputs": [],
   "source": [
    "tfidf_vectorizer = TfidfVectorizer(\n",
    "    min_df=3,\n",
    "    max_df=0.85,\n",
    "    max_features=5000,\n",
    "    ngram_range=(1, 2),\n",
    "    preprocessor=' '.join\n",
    ")\n",
    "tfidf = tfidf_vectorizer.fit_transform(df.Document)"
   ]
  },
  {
   "cell_type": "raw",
   "metadata": {},
   "source": [
    "#######################################\n",
    "tfidf_vectorizer = TfidfVectorizer(\n",
    "    max_df=.8,\n",
    "    min_df=5,\n",
    "\n",
    "    ngram_range=(1, 1),\n",
    "    preprocessor=' '.join\n",
    ")\n",
    "tfidf = tfidf_vectorizer.fit_transform(df.Document)"
   ]
  },
  {
   "cell_type": "code",
   "execution_count": 46,
   "metadata": {},
   "outputs": [],
   "source": [
    "from sklearn.decomposition import LatentDirichletAllocation"
   ]
  },
  {
   "cell_type": "code",
   "execution_count": 47,
   "metadata": {},
   "outputs": [],
   "source": [
    "lda =  LatentDirichletAllocation(n_components = 4)"
   ]
  },
  {
   "cell_type": "code",
   "execution_count": 48,
   "metadata": {},
   "outputs": [
    {
     "data": {
      "text/plain": [
       "LatentDirichletAllocation(n_components=4)"
      ]
     },
     "execution_count": 48,
     "metadata": {},
     "output_type": "execute_result"
    }
   ],
   "source": [
    "lda.fit(tfidf)"
   ]
  },
  {
   "cell_type": "code",
   "execution_count": null,
   "metadata": {},
   "outputs": [],
   "source": []
  },
  {
   "cell_type": "code",
   "execution_count": 49,
   "metadata": {},
   "outputs": [
    {
     "data": {
      "text/plain": [
       "3167.7348939862677"
      ]
     },
     "execution_count": 49,
     "metadata": {},
     "output_type": "execute_result"
    }
   ],
   "source": [
    "lda.perplexity(tfidf)"
   ]
  },
  {
   "cell_type": "code",
   "execution_count": 50,
   "metadata": {},
   "outputs": [
    {
     "data": {
      "text/plain": [
       "-1853591.0870562263"
      ]
     },
     "execution_count": 50,
     "metadata": {},
     "output_type": "execute_result"
    }
   ],
   "source": [
    "lda.score(tfidf)"
   ]
  },
  {
   "cell_type": "code",
   "execution_count": 51,
   "metadata": {},
   "outputs": [
    {
     "data": {
      "text/html": [
       "\n",
       "<link rel=\"stylesheet\" type=\"text/css\" href=\"https://cdn.jsdelivr.net/gh/bmabey/pyLDAvis@3.3.1/pyLDAvis/js/ldavis.v1.0.0.css\">\n",
       "\n",
       "\n",
       "<div id=\"ldavis_el1139219713752907368055328100\"></div>\n",
       "<script type=\"text/javascript\">\n",
       "\n",
       "var ldavis_el1139219713752907368055328100_data = {\"mdsDat\": {\"x\": [0.11411874642188324, 0.08336264619731466, -0.027942983524014663, -0.16953840909518314], \"y\": [-0.12831838133221715, 0.09824761038826808, 0.08158104441224166, -0.051510273468292594], \"topics\": [1, 2, 3, 4], \"cluster\": [1, 1, 1, 1], \"Freq\": [31.715601735401243, 29.20830494185208, 22.8551846245858, 16.220908698160883]}, \"tinfo\": {\"Term\": [\"git\", \"tabl\", \"string\", \"column\", \"sql\", \"array\", \"file\", \"commit\", \"branch\", \"android\", \"jqueri\", \"date\", \"div\", \"instal\", \"id\", \"databas\", \"row\", \"html\", \"button\", \"mysql\", \"int\", \"queri\", \"select\", \"imag\", \"command\", \"click\", \"repositori\", \"datetim\", \"text\", \"css\", \"std\", \"enum\", \"dictionari\", \"struct\", \"decim\", \"arraylist\", \"public static\", \"lambda\", \"regular express\", \"myclass\", \"system println\", \"regex\", \"charact string\", \"arr\", \"tupl\", \"string string\", \"println\", \"hashmap\", \"ienumer\", \"static void\", \"list string\", \"ptr\", \"int int\", \"substr\", \"vector\", \"std string\", \"array\", \"java util\", \"numpi array\", \"string contain\", \"char\", \"cast\", \"iter\", \"int\", \"dict\", \"string\", \"convert string\", \"integ\", \"str\", \"foreach\", \"static\", \"object\", \"public\", \"loop\", \"charact\", \"doubl\", \"java\", \"list\", \"convert\", \"void\", \"method\", \"return\", \"class\", \"oper\", \"foo\", \"valu\", \"number\", \"function\", \"variabl\", \"differ\", \"type\", \"use\", \"python\", \"way\", \"like\", \"var\", \"exampl\", \"code\", \"new\", \"would\", \"one\", \"name\", \"get\", \"instal\", \"docker\", \"visual studio\", \"py\", \"shell\", \"npm\", \"asp net\", \"node js\", \"bin\", \"usr\", \"pip\", \"linux\", \"port\", \"exe\", \"gem\", \"curl\", \"file directori\", \"shell script\", \"dll\", \"matplotlib\", \"certif\", \"err\", \"env\", \"net mvc\", \"sh\", \"socket\", \"cooki\", \"authent\", \"bash script\", \"environ variabl\", \"mock\", \"visual\", \"mac\", \"directori\", \"asp\", \"command line\", \"folder\", \"packag\", \"node\", \"studio\", \"xcode\", \"command\", \"bash\", \"file\", \"path\", \"environ\", \"modul\", \"project\", \"run\", \"connect\", \"request\", \"build\", \"eclips\", \"error\", \"version\", \"script\", \"applic\", \"window\", \"debug\", \"server\", \"app\", \"line\", \"net\", \"use\", \"python\", \"get\", \"test\", \"tri\", \"user\", \"code\", \"work\", \"react\", \"ng\", \"use jqueri\", \"input type\", \"href\", \"html5\", \"dom\", \"jqueri\", \"li\", \"canva\", \"ifram\", \"prop\", \"modal\", \"mm\", \"textarea\", \"textbox\", \"svg\", \"getelementbyid\", \"option valu\", \"bitmap\", \"document getelementbyid\", \"ul\", \"mous\", \"click function\", \"csv file\", \"yyyi\", \"safari\", \"text javascript\", \"webview\", \"csv\", \"type text\", \"onclick\", \"angular\", \"button\", \"icon\", \"fragment\", \"click\", \"img\", \"chrome\", \"compon\", \"html\", \"color\", \"event\", \"ajax\", \"css\", \"render\", \"imag\", \"form\", \"label\", \"page\", \"browser\", \"div\", \"text\", \"input\", \"android\", \"view\", \"activ\", \"element\", \"javascript\", \"style\", \"tag\", \"url\", \"use\", \"function\", \"display\", \"app\", \"chang\", \"data\", \"want\", \"like\", \"get\", \"id\", \"work\", \"valu\", \"class\", \"branch\", \"commit\", \"git\", \"tabl\", \"sql server\", \"td\", \"android layout\", \"sql\", \"use git\", \"git repositori\", \"varchar\", \"primari key\", \"checkout\", \"creat tabl\", \"rebas\", \"git commit\", \"git push\", \"stash\", \"column name\", \"git pull\", \"foreign\", \"foreign key\", \"store procedur\", \"layout width\", \"git branch\", \"layout height\", \"uitableview\", \"sql queri\", \"submodul\", \"wrap content\", \"column\", \"master\", \"datetim\", \"00 00\", \"merg\", \"row\", \"align\", \"timestamp\", \"repositori\", \"primari\", \"cell\", \"00\", \"diff\", \"queri\", \"databas\", \"repo\", \"date\", \"mysql\", \"pull\", \"github\", \"layout\", \"push\", \"id\", \"remot\", \"select\", \"insert\", \"width\", \"android\", \"chang\", \"name\", \"div\", \"server\", \"want\", \"use\", \"creat\", \"like\"], \"Freq\": [646.0, 484.0, 994.0, 371.0, 325.0, 566.0, 1087.0, 297.0, 280.0, 674.0, 344.0, 384.0, 481.0, 374.0, 545.0, 317.0, 262.0, 375.0, 307.0, 288.0, 436.0, 285.0, 403.0, 395.0, 388.0, 243.0, 192.0, 173.0, 491.0, 265.0, 162.7266605501946, 126.08332506332495, 138.19673556154115, 74.57313941321891, 75.48537722740366, 70.3943668102651, 64.98024967840132, 66.64215010258796, 62.29411594238875, 63.045539833215486, 57.967087125105635, 104.37340356941812, 53.074193022664055, 53.539282880821965, 56.44500202779869, 57.242334600217504, 69.78778681056197, 46.081062371772944, 41.14731562305272, 40.852742389757495, 39.80218248991514, 38.86606950762221, 38.22740386899813, 51.380805393709835, 97.55820078499312, 35.43744894340531, 553.9260228957392, 35.931919550125464, 33.079774291156134, 33.792215251850415, 124.171120028861, 70.04063662005991, 145.82829261225294, 413.8854909928099, 67.82386778099684, 910.8781870216699, 56.50321328462987, 168.6184500560071, 112.15706138514426, 76.59804948768053, 201.1550999022328, 497.8566602714722, 320.6654254376101, 171.20535008525434, 202.76412981542583, 123.57577546818204, 459.59696015688434, 459.7660924305681, 259.7368504223804, 178.09512314857906, 390.01262814951406, 396.63613969081257, 487.40242255937284, 170.65571731887002, 224.1992850188711, 455.7108033168737, 268.96453966825914, 438.6045857199234, 255.02370272617569, 332.6461112873574, 299.57268031731815, 520.5731553375057, 305.2599600887535, 319.19827234549274, 327.7728291519354, 233.21934860319155, 249.7584841781676, 292.8229073003901, 262.28524714178, 265.5735364107239, 241.3829614844354, 243.25206531351742, 250.96257977200906, 372.4773408508818, 158.57156225495643, 157.73720597381535, 135.95670124095, 124.47284307933046, 110.41898061982674, 112.91028229764895, 105.68234006199052, 106.31037312651777, 85.2821259851013, 71.54147283815286, 140.2014102602114, 81.74173542336094, 64.5869869345141, 64.95651481336924, 58.28065792022521, 58.100969247406056, 53.71741181606241, 52.49773982272886, 55.95156637972263, 50.584344677426174, 59.310372664508265, 49.79046259786668, 50.59963775814529, 49.33440387920493, 54.619179901541074, 53.0925812178217, 53.18263979133205, 42.50645645158654, 41.91529604690321, 57.172586018780954, 170.6549799823624, 94.39543481276054, 262.32035307260213, 117.20592422169447, 108.5218296124627, 188.62970403549383, 203.4788658544303, 210.3187189252441, 196.22867251241405, 153.5563975762715, 334.92294416023043, 168.96534733993448, 855.4520252252432, 242.8599950762114, 104.5285843282913, 213.72075686385355, 328.0723748787094, 394.2650311895422, 182.44367121571392, 225.17790142991905, 207.3212413016808, 152.47836895959156, 405.47542563116565, 249.77128923782212, 257.622994497777, 256.4798114362148, 235.61932279271983, 137.0163289331675, 238.316679647402, 252.35585989835556, 258.7625740047565, 196.02436454382186, 410.35199605424515, 272.5722420737049, 310.74242507364977, 228.17184304059512, 244.65030488426444, 229.7902243693173, 212.81950378907462, 194.60925570353137, 152.9329290009128, 95.70162444235612, 91.98840575279122, 87.28425341860932, 99.11143215864944, 59.04086758713182, 59.54970147977945, 340.0996349338127, 113.11291863178744, 55.161746908671276, 53.702336696971386, 66.6020099439896, 49.39540138011121, 48.00989703540042, 44.12813270888476, 41.64602325686711, 40.48079597400824, 36.20200998778926, 34.73927255184476, 34.34576796537739, 33.16376086170983, 47.93426385675743, 40.470261705298505, 32.41495806270639, 33.64250516182177, 32.38023918699626, 38.68239548853811, 30.698062071443424, 30.058227710768218, 88.24280003347307, 75.61479583523497, 56.62561015082088, 149.1743684193244, 292.4832769597263, 90.8655546664568, 78.55972796272471, 225.54501658033521, 67.85086087007747, 101.30076093089637, 161.30115323151074, 333.19811548193053, 202.56817595578195, 205.07163348919667, 89.1086600280565, 225.06418961637723, 105.88125906880856, 314.52140287339523, 215.67944808076697, 109.97083561640207, 255.6859393027593, 153.08160157323508, 332.5299154424309, 337.3039195857473, 230.24919340408752, 388.1662782952618, 230.10517236412147, 149.0539878722128, 240.09658081342013, 260.3877908662511, 149.5158661624503, 135.02996236539983, 156.30065474138834, 299.20356831941433, 234.74950956730402, 137.24771784621956, 174.3952014911587, 177.52360643074323, 187.44408806358643, 189.64159347203736, 186.86664294395365, 185.96905731772415, 171.33719064560066, 173.20618669175317, 163.952867402253, 161.4327789381654, 279.5257567958018, 296.74547643176754, 644.6969220035013, 482.71993785511995, 148.0897672672621, 104.3872075543639, 93.24407735695823, 322.72298373186567, 64.4122446621658, 58.858539100936085, 56.43834155652945, 50.654511189342756, 50.126376062271504, 43.18033902795866, 42.892072823914525, 42.631516878713185, 39.53098199371076, 39.37598370455174, 41.900615928739334, 38.145222998389514, 38.25662997327489, 36.693256659551075, 36.076658055986414, 35.81937062677003, 35.204448861226915, 35.00388852433546, 39.29747806780498, 34.66463266624446, 36.71851502038541, 34.18927312684748, 351.9764238147598, 128.93380843679375, 165.19221486176167, 45.67664610294916, 123.66231766492342, 237.97786524800952, 66.5293959090127, 72.62934290902615, 168.13726770048567, 61.88901697456719, 86.51063173057231, 103.47211095832536, 68.49800538640406, 229.01882242973005, 244.2951312789077, 89.9620894116583, 284.76705348257224, 221.8936594513327, 98.47980096090977, 138.9774377780782, 138.84117262121867, 124.99320462440402, 290.44513757400085, 113.33876504160258, 221.33120888045556, 117.44021440296346, 134.49581892414113, 229.08742720953612, 157.3330610336194, 169.44355737529395, 148.65473974752564, 127.34394170973853, 140.22214542044435, 146.18610510273194, 127.54120633600449, 128.73565924765262], \"Total\": [646.0, 484.0, 994.0, 371.0, 325.0, 566.0, 1087.0, 297.0, 280.0, 674.0, 344.0, 384.0, 481.0, 374.0, 545.0, 317.0, 262.0, 375.0, 307.0, 288.0, 436.0, 285.0, 403.0, 395.0, 388.0, 243.0, 192.0, 173.0, 491.0, 265.0, 163.67904667855507, 126.85465232352493, 139.0621339814229, 75.34320995265178, 76.2920183038264, 71.16722835069379, 65.76713580708221, 67.4654667314961, 63.06495393882395, 63.86676318393215, 58.73718269461682, 105.76595032785039, 53.83863547138889, 54.31473341855834, 57.26516341222377, 58.09337458119326, 70.86322211705372, 46.84061537067845, 41.91430012166745, 41.63250620188679, 40.566324125855864, 39.63662578232675, 38.99613629684416, 52.41675874209485, 99.54481080227555, 36.194665252320846, 566.1462126342003, 36.73023588899795, 33.843432174735796, 34.583033554439154, 127.79171097439512, 71.70284107568814, 150.86627226415237, 436.6564580216119, 69.84999645084358, 994.1038940763533, 58.13043093492808, 180.71466145674012, 118.75300734711415, 79.90423636350333, 229.7909946786297, 624.9201114018812, 390.60488116463864, 195.7703286695257, 243.05654163673023, 138.6235061374902, 622.5588556215391, 623.5474636520191, 327.62001007548315, 213.86438322741304, 551.49283983207, 573.8996344811819, 739.3167619383208, 210.5527938508979, 297.90604289769675, 734.9666584380377, 399.0896945678794, 776.0115873949838, 385.81733591191454, 622.5847592445703, 550.6082144789043, 1376.314824813897, 582.5995121162086, 747.3366685569279, 816.2672797029452, 414.95134674374185, 483.93049817988486, 689.213077385484, 585.0580716469295, 611.0069746954978, 577.3029216043558, 687.6952160136193, 863.2848587950618, 374.0446242899526, 159.32320140852528, 158.49946315620736, 136.71897521070545, 125.27624099108466, 111.17263255697856, 113.70891021047346, 106.44735008003285, 107.0945695023299, 86.03845614472425, 72.29268844378305, 141.7102315158148, 82.67256623445914, 65.34394083479052, 65.72623845635661, 59.03856935027955, 58.87880586034349, 54.47367776075281, 53.260718002268, 56.787804748042106, 51.34664600652391, 60.215497173351196, 50.552322506472514, 51.37643230201405, 50.09597938986939, 55.49098050502481, 54.00427723551113, 54.12823449573016, 43.26639892131909, 42.66790822646606, 58.234677299958825, 177.5345720687968, 97.0955007254755, 281.87620415301063, 122.33800147059657, 113.65521315117122, 203.18364778589884, 220.24736360821123, 230.81867027481525, 214.56275793681726, 167.76001098384805, 388.9806585477111, 186.5151409498881, 1087.9668744704381, 279.2140649949815, 111.58541835370008, 246.85446252214052, 399.9089107407116, 500.46343518144124, 208.75473179035802, 271.92520362967105, 249.2950865231043, 175.78612921749573, 638.1900208268326, 347.775720633878, 380.7150017107191, 378.41665239514543, 347.9507269225378, 155.01190509287417, 381.7411816992511, 445.41638926711767, 480.56269724076185, 290.2263493782237, 1376.314824813897, 582.5995121162086, 863.2848587950618, 463.60028790103127, 617.2418389121837, 508.9985260234017, 689.213077385484, 622.7160374606815, 153.86659031303645, 96.45256313185182, 92.78057443514827, 88.0785784300543, 100.20869812548206, 59.78997810301871, 60.31932912969701, 344.71320849432647, 114.65041546484619, 55.91228977167581, 54.44917757935233, 67.56100184055488, 50.15448450797435, 48.80913917546138, 44.93316907942861, 42.4111146572408, 41.227044621729355, 36.94704244883496, 35.4970892177099, 35.11051022212905, 33.90875298024201, 49.0191741902307, 41.397322360302844, 33.15932094077664, 34.4276421768343, 33.15927124952586, 39.61468059116356, 31.44424889298181, 30.814550895321144, 90.53809939049682, 77.60052777626088, 58.102289361867356, 154.9364556919078, 307.8557276448331, 94.01600199223883, 81.34967068197525, 243.55154999340527, 70.92296498875318, 107.75223823513454, 175.0190054714413, 375.4582267536325, 229.18571159422393, 232.59620204711166, 95.98595097200611, 265.5091361917399, 116.25819267396776, 395.5544966579806, 264.2141960175396, 123.1985390182378, 340.77114166496244, 186.11127279941832, 481.6640835917404, 491.1408427645998, 318.53591588705615, 674.8630837124696, 360.19936065815665, 200.7641197151295, 406.2221119672288, 483.45970835334236, 208.19663040694223, 209.64483597147978, 293.62372375194036, 1376.314824813897, 776.0115873949838, 227.64970873796307, 445.41638926711767, 482.58603411460996, 569.59259857035, 722.286447009513, 816.2672797029452, 863.2848587950618, 545.0241247389973, 622.7160374606815, 734.9666584380377, 739.3167619383208, 280.26110554572966, 297.5448636452997, 646.5848390044554, 484.33980134331523, 148.87910011647895, 105.13255609650827, 93.97700607265996, 325.76301711377215, 65.14577517142162, 59.590082541856056, 57.16987457004733, 51.383220784318645, 50.87652457150365, 43.90981090981332, 43.61932457250826, 43.36337188151914, 40.25862247591684, 40.103090476345976, 42.67459256098482, 38.87361461246428, 39.00355768723423, 37.422386902733756, 36.807191134521666, 36.54873349660887, 35.932084571327835, 35.73216378681825, 40.11770636698525, 35.39915261136458, 37.49883342651237, 34.92003599001638, 371.9938273364577, 134.11818064721095, 173.5339063417169, 46.85731051745975, 129.88553934126236, 262.8247853535131, 70.42313724231303, 77.92677816689584, 192.31033019235136, 65.85934975952703, 95.34581584524325, 116.30682557396771, 73.82944572428792, 285.48409570927873, 317.6354651654294, 102.02091712043598, 384.74543529310347, 288.530805726628, 113.97602104870515, 179.67804085524443, 191.9136485222255, 168.50702059351116, 545.0241247389973, 150.368019224443, 403.1960110995749, 166.37000933625592, 217.66457125398068, 674.8630837124696, 482.58603411460996, 687.6952160136193, 481.6640835917404, 381.7411816992511, 722.286447009513, 1376.314824813897, 520.4328444139195, 816.2672797029452], \"Category\": [\"Default\", \"Default\", \"Default\", \"Default\", \"Default\", \"Default\", \"Default\", \"Default\", \"Default\", \"Default\", \"Default\", \"Default\", \"Default\", \"Default\", \"Default\", \"Default\", \"Default\", \"Default\", \"Default\", \"Default\", \"Default\", \"Default\", \"Default\", \"Default\", \"Default\", \"Default\", \"Default\", \"Default\", \"Default\", \"Default\", \"Topic1\", \"Topic1\", \"Topic1\", \"Topic1\", \"Topic1\", \"Topic1\", \"Topic1\", \"Topic1\", \"Topic1\", \"Topic1\", \"Topic1\", \"Topic1\", \"Topic1\", \"Topic1\", \"Topic1\", \"Topic1\", \"Topic1\", \"Topic1\", \"Topic1\", \"Topic1\", \"Topic1\", \"Topic1\", \"Topic1\", \"Topic1\", \"Topic1\", \"Topic1\", \"Topic1\", \"Topic1\", \"Topic1\", \"Topic1\", \"Topic1\", \"Topic1\", \"Topic1\", \"Topic1\", \"Topic1\", \"Topic1\", \"Topic1\", \"Topic1\", \"Topic1\", \"Topic1\", \"Topic1\", \"Topic1\", \"Topic1\", \"Topic1\", \"Topic1\", \"Topic1\", \"Topic1\", \"Topic1\", \"Topic1\", \"Topic1\", \"Topic1\", \"Topic1\", \"Topic1\", \"Topic1\", \"Topic1\", \"Topic1\", \"Topic1\", \"Topic1\", \"Topic1\", \"Topic1\", \"Topic1\", \"Topic1\", \"Topic1\", \"Topic1\", \"Topic1\", \"Topic1\", \"Topic1\", \"Topic1\", \"Topic1\", \"Topic1\", \"Topic1\", \"Topic1\", \"Topic1\", \"Topic2\", \"Topic2\", \"Topic2\", \"Topic2\", \"Topic2\", \"Topic2\", \"Topic2\", \"Topic2\", \"Topic2\", \"Topic2\", \"Topic2\", \"Topic2\", \"Topic2\", \"Topic2\", \"Topic2\", \"Topic2\", \"Topic2\", \"Topic2\", \"Topic2\", \"Topic2\", \"Topic2\", \"Topic2\", \"Topic2\", \"Topic2\", \"Topic2\", \"Topic2\", \"Topic2\", \"Topic2\", \"Topic2\", \"Topic2\", \"Topic2\", \"Topic2\", \"Topic2\", \"Topic2\", \"Topic2\", \"Topic2\", \"Topic2\", \"Topic2\", \"Topic2\", \"Topic2\", \"Topic2\", \"Topic2\", \"Topic2\", \"Topic2\", \"Topic2\", \"Topic2\", \"Topic2\", \"Topic2\", \"Topic2\", \"Topic2\", \"Topic2\", \"Topic2\", \"Topic2\", \"Topic2\", \"Topic2\", \"Topic2\", \"Topic2\", \"Topic2\", \"Topic2\", \"Topic2\", \"Topic2\", \"Topic2\", \"Topic2\", \"Topic2\", \"Topic2\", \"Topic2\", \"Topic2\", \"Topic2\", \"Topic2\", \"Topic2\", \"Topic2\", \"Topic3\", \"Topic3\", \"Topic3\", \"Topic3\", \"Topic3\", \"Topic3\", \"Topic3\", \"Topic3\", \"Topic3\", \"Topic3\", \"Topic3\", \"Topic3\", \"Topic3\", \"Topic3\", \"Topic3\", \"Topic3\", \"Topic3\", \"Topic3\", \"Topic3\", \"Topic3\", \"Topic3\", \"Topic3\", \"Topic3\", \"Topic3\", \"Topic3\", \"Topic3\", \"Topic3\", \"Topic3\", \"Topic3\", \"Topic3\", \"Topic3\", \"Topic3\", \"Topic3\", \"Topic3\", \"Topic3\", \"Topic3\", \"Topic3\", \"Topic3\", \"Topic3\", \"Topic3\", \"Topic3\", \"Topic3\", \"Topic3\", \"Topic3\", \"Topic3\", \"Topic3\", \"Topic3\", \"Topic3\", \"Topic3\", \"Topic3\", \"Topic3\", \"Topic3\", \"Topic3\", \"Topic3\", \"Topic3\", \"Topic3\", \"Topic3\", \"Topic3\", \"Topic3\", \"Topic3\", \"Topic3\", \"Topic3\", \"Topic3\", \"Topic3\", \"Topic3\", \"Topic3\", \"Topic3\", \"Topic3\", \"Topic3\", \"Topic3\", \"Topic3\", \"Topic3\", \"Topic3\", \"Topic3\", \"Topic3\", \"Topic4\", \"Topic4\", \"Topic4\", \"Topic4\", \"Topic4\", \"Topic4\", \"Topic4\", \"Topic4\", \"Topic4\", \"Topic4\", \"Topic4\", \"Topic4\", \"Topic4\", \"Topic4\", \"Topic4\", \"Topic4\", \"Topic4\", \"Topic4\", \"Topic4\", \"Topic4\", \"Topic4\", \"Topic4\", \"Topic4\", \"Topic4\", \"Topic4\", \"Topic4\", \"Topic4\", \"Topic4\", \"Topic4\", \"Topic4\", \"Topic4\", \"Topic4\", \"Topic4\", \"Topic4\", \"Topic4\", \"Topic4\", \"Topic4\", \"Topic4\", \"Topic4\", \"Topic4\", \"Topic4\", \"Topic4\", \"Topic4\", \"Topic4\", \"Topic4\", \"Topic4\", \"Topic4\", \"Topic4\", \"Topic4\", \"Topic4\", \"Topic4\", \"Topic4\", \"Topic4\", \"Topic4\", \"Topic4\", \"Topic4\", \"Topic4\", \"Topic4\", \"Topic4\", \"Topic4\", \"Topic4\", \"Topic4\", \"Topic4\", \"Topic4\", \"Topic4\", \"Topic4\"], \"logprob\": [30.0, 29.0, 28.0, 27.0, 26.0, 25.0, 24.0, 23.0, 22.0, 21.0, 20.0, 19.0, 18.0, 17.0, 16.0, 15.0, 14.0, 13.0, 12.0, 11.0, 10.0, 9.0, 8.0, 7.0, 6.0, 5.0, 4.0, 3.0, 2.0, 1.0, -6.1052, -6.3603, -6.2686, -6.8855, -6.8733, -6.9432, -7.0232, -6.9979, -7.0654, -7.0534, -7.1374, -6.5493, -7.2256, -7.2168, -7.164, -7.15, -6.9518, -7.3669, -7.4801, -7.4873, -7.5133, -7.5371, -7.5537, -7.258, -6.6168, -7.6295, -4.8802, -7.6156, -7.6983, -7.677, -6.3756, -6.9482, -6.2148, -5.1717, -6.9804, -4.3829, -7.163, -6.0696, -6.4774, -6.8587, -5.8932, -4.987, -5.4269, -6.0544, -5.8852, -6.3804, -5.0669, -5.0665, -5.6376, -6.0149, -5.2311, -5.2142, -5.0082, -6.0576, -5.7847, -5.0754, -5.6027, -5.1137, -5.6559, -5.3902, -5.4949, -4.9423, -5.4761, -5.4315, -5.4049, -5.7453, -5.6768, -5.5177, -5.6278, -5.6154, -5.7109, -5.7032, -5.672, -5.1947, -6.0487, -6.054, -6.2026, -6.2908, -6.4106, -6.3883, -6.4545, -6.4485, -6.6689, -6.8446, -6.1718, -6.7113, -6.9469, -6.9412, -7.0496, -7.0527, -7.1312, -7.1541, -7.0904, -7.1913, -7.0321, -7.2071, -7.191, -7.2163, -7.1145, -7.1429, -7.1412, -7.3653, -7.3793, -7.0688, -5.9753, -6.5674, -5.5453, -6.351, -6.428, -5.8751, -5.7993, -5.7663, -5.8356, -6.0808, -5.301, -5.9852, -4.3633, -5.6224, -6.4654, -5.7502, -5.3217, -5.1379, -5.9085, -5.698, -5.7806, -6.0879, -5.1098, -5.5944, -5.5634, -5.5679, -5.6527, -6.1948, -5.6413, -5.5841, -5.559, -5.8367, -5.0979, -5.507, -5.3759, -5.6848, -5.6151, -5.6777, -5.7545, -5.8439, -5.8396, -6.3084, -6.348, -6.4005, -6.2734, -6.7914, -6.7828, -5.0404, -6.1412, -6.8594, -6.8862, -6.6709, -6.9698, -6.9982, -7.0825, -7.1404, -7.1688, -7.2805, -7.3218, -7.3332, -7.3682, -6.9998, -7.1691, -7.391, -7.3538, -7.3921, -7.2142, -7.4454, -7.4665, -6.3895, -6.544, -6.8332, -5.8645, -5.1912, -6.3603, -6.5058, -5.4511, -6.6523, -6.2515, -5.7864, -5.0609, -5.5586, -5.5463, -6.3798, -5.4532, -6.2073, -5.1186, -5.4958, -6.1694, -5.3257, -5.8387, -5.0629, -5.0486, -5.4305, -4.9082, -5.4311, -5.8653, -5.3886, -5.3075, -5.8622, -5.9641, -5.8179, -5.1685, -5.4111, -5.9478, -5.7083, -5.6905, -5.6362, -5.6245, -5.6392, -5.6441, -5.726, -5.7152, -5.7701, -5.7855, -4.8937, -4.8339, -4.058, -4.3473, -5.5289, -5.8786, -5.9915, -4.75, -6.3615, -6.4516, -6.4936, -6.6017, -6.6122, -6.7614, -6.7681, -6.7742, -6.8497, -6.8536, -6.7915, -6.8854, -6.8824, -6.9242, -6.9411, -6.9483, -6.9656, -6.9713, -6.8556, -6.981, -6.9235, -6.9948, -4.6632, -5.6675, -5.4196, -6.7052, -5.7092, -5.0546, -6.3291, -6.2414, -5.402, -6.4014, -6.0665, -5.8875, -6.3, -5.093, -5.0284, -6.0274, -4.8751, -5.1246, -5.9369, -5.5924, -5.5934, -5.6985, -4.8553, -5.7964, -5.1271, -5.7608, -5.6252, -5.0927, -5.4684, -5.3942, -5.5251, -5.6799, -5.5835, -5.5419, -5.6783, -5.669], \"loglift\": [30.0, 29.0, 28.0, 27.0, 26.0, 25.0, 24.0, 23.0, 22.0, 21.0, 20.0, 19.0, 18.0, 17.0, 16.0, 15.0, 14.0, 13.0, 12.0, 11.0, 10.0, 9.0, 8.0, 7.0, 6.0, 5.0, 4.0, 3.0, 2.0, 1.0, 1.1425, 1.1423, 1.1421, 1.1381, 1.1377, 1.1374, 1.1363, 1.1361, 1.1361, 1.1354, 1.1352, 1.1351, 1.1341, 1.134, 1.1339, 1.1336, 1.1331, 1.132, 1.1299, 1.1295, 1.1293, 1.1287, 1.1285, 1.1284, 1.1282, 1.1272, 1.1265, 1.1264, 1.1255, 1.1252, 1.1196, 1.1249, 1.1144, 1.0948, 1.1189, 1.0609, 1.12, 1.0791, 1.0912, 1.1061, 1.0153, 0.921, 0.9511, 1.0143, 0.9671, 1.0335, 0.8449, 0.8437, 0.9162, 0.9653, 0.8019, 0.7789, 0.7317, 0.9383, 0.8641, 0.6704, 0.7538, 0.5778, 0.7344, 0.5216, 0.5397, 0.1761, 0.502, 0.2977, 0.2359, 0.5722, 0.4869, 0.2924, 0.3461, 0.3151, 0.2764, 0.1091, -0.0871, 1.2265, 1.226, 1.2259, 1.2251, 1.2243, 1.2239, 1.2237, 1.2235, 1.2234, 1.2219, 1.2203, 1.22, 1.2194, 1.2191, 1.2189, 1.2178, 1.2174, 1.2167, 1.2163, 1.2159, 1.2158, 1.2156, 1.2155, 1.2155, 1.2154, 1.2149, 1.2137, 1.2131, 1.213, 1.2129, 1.2123, 1.1912, 1.2025, 1.1588, 1.1879, 1.1845, 1.1564, 1.1515, 1.1377, 1.1414, 1.1423, 1.0811, 1.1319, 0.9903, 1.0912, 1.1654, 1.0866, 1.0327, 0.9922, 1.096, 1.0421, 1.0463, 1.0885, 0.7771, 0.8997, 0.8402, 0.8418, 0.8409, 1.1073, 0.7596, 0.6625, 0.6117, 0.8383, 0.0206, 0.4711, 0.2089, 0.5218, 0.3053, 0.4354, 0.0556, 0.0676, 1.4699, 1.4682, 1.4674, 1.4669, 1.465, 1.4634, 1.4632, 1.4625, 1.4625, 1.4625, 1.4622, 1.4617, 1.4607, 1.4595, 1.4579, 1.4578, 1.4577, 1.4556, 1.4544, 1.454, 1.4538, 1.4536, 1.4533, 1.4533, 1.4529, 1.4522, 1.4522, 1.452, 1.4511, 1.4503, 1.4501, 1.4502, 1.4381, 1.4248, 1.4419, 1.4411, 1.3992, 1.4317, 1.4143, 1.3944, 1.3566, 1.3525, 1.35, 1.4016, 1.3107, 1.3825, 1.2468, 1.273, 1.3624, 1.1887, 1.2806, 1.1055, 1.1002, 1.1514, 0.9229, 1.0279, 1.1782, 0.9501, 0.8572, 1.1449, 1.0361, 0.8455, -0.05, 0.2803, 0.97, 0.5383, 0.4759, 0.3646, 0.1387, 0.0016, -0.0592, 0.3188, 0.1964, -0.0243, -0.0456, 1.8162, 1.8162, 1.8159, 1.8155, 1.8136, 1.8118, 1.811, 1.8095, 1.8075, 1.8065, 1.806, 1.8046, 1.804, 1.8021, 1.8021, 1.8018, 1.8006, 1.8006, 1.8006, 1.8, 1.7995, 1.7992, 1.7988, 1.7987, 1.7984, 1.7983, 1.7982, 1.7979, 1.7978, 1.7977, 1.7636, 1.7794, 1.7696, 1.7933, 1.7698, 1.7196, 1.762, 1.7485, 1.6845, 1.7567, 1.7216, 1.7019, 1.7439, 1.5985, 1.5563, 1.6931, 1.518, 1.5563, 1.6727, 1.562, 1.4952, 1.5202, 1.1895, 1.5362, 1.2191, 1.4706, 1.3374, 0.7385, 0.6981, 0.418, 0.6432, 0.721, 0.1797, -0.4234, 0.4126, -0.0281]}, \"token.table\": {\"Topic\": [1, 2, 3, 4, 3, 4, 1, 2, 3, 4, 2, 3, 1, 3, 4, 1, 2, 3, 4, 4, 2, 3, 1, 2, 3, 4, 1, 2, 3, 4, 1, 1, 2, 3, 4, 1, 2, 3, 2, 2, 1, 2, 2, 2, 3, 4, 1, 2, 3, 4, 1, 2, 3, 4, 3, 4, 3, 1, 4, 3, 4, 2, 1, 2, 3, 4, 1, 2, 4, 1, 2, 3, 4, 1, 4, 2, 3, 1, 2, 3, 4, 2, 3, 4, 3, 1, 2, 3, 4, 3, 4, 1, 3, 4, 4, 1, 2, 3, 4, 2, 4, 4, 1, 2, 3, 1, 2, 3, 4, 1, 2, 3, 4, 1, 3, 2, 1, 2, 3, 4, 4, 3, 4, 2, 3, 3, 2, 1, 2, 3, 4, 1, 2, 3, 4, 1, 2, 3, 4, 1, 3, 4, 1, 2, 3, 1, 1, 2, 1, 2, 3, 4, 1, 2, 3, 4, 2, 3, 4, 1, 2, 3, 4, 3, 4, 2, 2, 3, 3, 1, 2, 3, 1, 2, 3, 1, 3, 4, 1, 2, 1, 2, 3, 2, 2, 1, 2, 3, 4, 1, 2, 3, 4, 1, 2, 3, 4, 2, 1, 2, 3, 4, 2, 2, 3, 4, 1, 2, 3, 4, 1, 2, 3, 4, 4, 4, 1, 2, 3, 4, 3, 4, 1, 2, 3, 4, 2, 1, 2, 3, 4, 3, 2, 4, 4, 4, 4, 4, 4, 2, 3, 4, 1, 3, 4, 1, 2, 3, 4, 3, 2, 3, 4, 1, 2, 3, 4, 1, 3, 2, 3, 4, 3, 4, 1, 2, 3, 4, 3, 1, 2, 3, 4, 2, 3, 1, 2, 3, 4, 1, 1, 4, 1, 2, 3, 4, 1, 2, 3, 4, 1, 1, 2, 3, 4, 1, 3, 4, 1, 2, 3, 4, 1, 3, 4, 4, 4, 3, 4, 1, 2, 3, 4, 1, 2, 3, 4, 1, 2, 1, 2, 3, 4, 1, 1, 2, 3, 4, 2, 3, 4, 2, 3, 4, 2, 1, 3, 4, 1, 2, 3, 4, 3, 1, 2, 3, 1, 2, 3, 3, 1, 2, 4, 1, 2, 3, 4, 1, 2, 3, 4, 2, 1, 2, 3, 4, 3, 1, 2, 3, 2, 2, 1, 2, 3, 4, 1, 1, 2, 3, 4, 3, 4, 1, 2, 3, 4, 1, 2, 3, 4, 3, 1, 2, 3, 4, 1, 2, 3, 4, 1, 2, 3, 4, 2, 2, 1, 2, 4, 4, 1, 1, 2, 3, 4, 3, 1, 1, 2, 3, 4, 1, 1, 2, 3, 4, 1, 2, 3, 4, 2, 1, 2, 3, 4, 1, 2, 3, 4, 3, 4, 1, 3, 1, 2, 4, 1, 2, 3, 4, 2, 4, 2, 3, 4, 1, 2, 3, 4, 1, 2, 3, 4, 1, 3, 4, 1, 2, 3, 4, 3, 1, 2, 3, 4, 1, 2, 3, 4, 1, 2, 3, 4, 2, 2, 2, 2, 1, 2, 4, 4, 4, 4, 1, 2, 3, 4, 1, 1, 1, 4, 1, 2, 3, 1, 2, 3, 4, 1, 1, 1, 2, 3, 4, 1, 2, 3, 4, 4, 1, 3, 1, 1, 4, 1, 2, 3, 4, 4, 1, 2, 3, 4, 1, 2, 3, 4, 3, 3, 3, 2, 3, 4, 1, 2, 3, 4, 1, 1, 2, 3, 4, 2, 3, 4, 4, 3, 4, 1, 2, 3, 4, 1, 2, 3, 4, 4, 3, 1, 2, 3, 4, 2, 1, 2, 3, 4, 1, 2, 3, 4, 4, 1, 2, 3, 4, 1, 4, 1, 2, 3, 4, 1, 2, 3, 4, 1, 2, 3, 4, 2, 1, 2, 3, 4, 1, 2, 3, 4, 1, 2, 3, 4, 3, 3, 4, 1, 2, 3, 4, 1, 2, 3, 4, 1, 2, 3, 4, 4, 1, 2, 3, 4, 3], \"Freq\": [0.051587686022641695, 0.017195895340880566, 0.04298973835220141, 0.8855886100553492, 0.02134138705266459, 0.9817038044225713, 0.024904848571022833, 0.13946715199772786, 0.7421644874164804, 0.09463842456988676, 0.06250914784133227, 0.9272190263130953, 0.02839975721499553, 0.02839975721499553, 0.9513918667023503, 0.001481782044587369, 0.08297979449689268, 0.5749314332998993, 0.33932808821050753, 0.9896037752904729, 0.032271294561833364, 0.9616845779426342, 0.004490180532626503, 0.5657627471109393, 0.3906457063385057, 0.03816653452732527, 0.07399251545294629, 0.6765029984269374, 0.22197754635883885, 0.026425898376052245, 0.994205376722869, 0.9785458025450958, 0.001766328163438801, 0.019429609797826812, 0.001766328163438801, 0.9835987943082174, 0.9563667756017779, 0.0326963000205736, 0.9937655702691963, 0.9791562664801277, 0.09114541539856794, 0.9060926589622342, 0.9938428219597489, 0.9897794117160525, 0.9683710030101149, 0.9990683489768541, 0.010746259320656534, 0.14507450082886322, 0.8220888380302249, 0.021492518641313067, 0.06418096811754509, 0.8303412750207395, 0.09226014166897106, 0.012033931522039704, 0.9484962395660687, 0.048724121895517225, 0.9836835555223861, 0.9762514141679455, 0.013946448773827794, 0.08390509776522213, 0.9124679381967906, 0.9932489065307232, 0.1077528074251118, 0.19685609048818503, 0.36884614849365194, 0.3253305916488952, 0.9703289756003436, 0.00782523367419632, 0.01565046734839264, 0.8351966115909016, 0.04525695924876807, 0.07405684240707502, 0.04525695924876807, 0.9844231662997002, 0.9827715320791665, 0.055683298075970666, 0.9373355176121728, 0.6587162973597359, 0.07033521039570075, 0.21776863218668885, 0.05275140779677556, 0.05748269719646244, 0.9279349690286081, 0.012317720827813381, 0.9650378563889407, 0.4251225196008898, 0.30904811151873557, 0.20458114424479681, 0.06093906424313096, 0.8857445718929196, 0.11344511758234438, 0.005376433298155396, 0.045699683034320863, 0.9462522604753496, 0.9841921733635586, 0.002570821911129402, 0.8612253402283497, 0.005141643822258804, 0.1311119174675995, 0.9590409183872685, 0.043992702678315065, 0.9981688017106919, 0.022854660779412894, 0.057136651948532236, 0.919900096371369, 0.009580621156930232, 0.871836525280651, 0.02395155289232558, 0.09580621156930232, 0.7936023197731311, 0.02441853291609634, 0.10683108150792149, 0.07936023197731311, 0.9805535428389737, 0.01720269373401708, 0.9814037463897256, 0.26516389478724656, 0.31127935475024593, 0.17869740735662268, 0.24594911980266346, 0.9792800084773313, 0.8474284660303144, 0.15065394951650035, 0.02209014783239338, 0.9719665046253088, 0.987578522669727, 0.9824086294483585, 0.2528122738277026, 0.22121073959923976, 0.3283048278179193, 0.19838740932312773, 0.022037841386365005, 0.20463709858767504, 0.0031482630551950006, 0.7681761854675802, 0.005198242309168339, 0.012995605772920847, 0.2391191462217436, 0.7407495290564884, 0.028812813042738607, 0.017287687825643164, 0.950822830410374, 0.058060056707307225, 0.8838030854334544, 0.0516089392953842, 0.9830648299448437, 0.9735147237674451, 0.014316392996580074, 0.9923621625023762, 0.05417892496359493, 0.013544731240898732, 0.9210417243811139, 0.5348669318600963, 0.19435104731252748, 0.13492138821696123, 0.13492138821696123, 0.9294860514645598, 0.003547656684979236, 0.06385782032962624, 0.07028341959539625, 0.12299598429194342, 0.6018017802855803, 0.20645754506147646, 0.6913531885475845, 0.3093442195002705, 0.976329308924932, 0.9979714102800599, 0.9732000471745004, 0.994706023188514, 0.8945091886293349, 0.05049648645488181, 0.057710270234150644, 0.05119857886434559, 0.8646871097089478, 0.07964223378898204, 0.3667944102757762, 0.5908097883636663, 0.041849026675759696, 0.9932627435583107, 0.9890742407255019, 0.05377046650469492, 0.9409831638321612, 0.008961744417449154, 0.9843463564484801, 0.9798142134432276, 0.17863018267240022, 0.634607227915106, 0.08931509133620011, 0.0971497484709545, 0.025795778035897242, 0.08598592678632413, 0.8813557495598224, 0.008598592678632415, 0.51660310920737, 0.1715122322568468, 0.2149068934302659, 0.09918779696781503, 0.9947364540553177, 0.013787184474068815, 0.7858695150219225, 0.1112166214241551, 0.08915712626564501, 0.9850743260244109, 0.9301929661148489, 0.034451591337587, 0.034451591337587, 0.7519149253273903, 0.1242002332013993, 0.07384878730894012, 0.05035144589245918, 0.9636535370879302, 0.01251498100114195, 0.0250299620022839, 0.01251498100114195, 0.9742700987617166, 0.9887129887296713, 0.0832657757667932, 0.0870505837561929, 0.8175185257103332, 0.011354423968199074, 0.9711164081885353, 0.024585225523760385, 0.5657132021361846, 0.11855493074380179, 0.30283052961731977, 0.014175046067193692, 0.9889505550079692, 0.29074991579295817, 0.3602518876956573, 0.21545611289836739, 0.13437047901188504, 0.9743675708239316, 0.0015465874540759367, 0.9975489078789791, 0.9740598247374828, 0.9916203038243434, 0.9775267975161701, 0.9935759730459842, 0.9900976384544932, 0.1947928630199021, 0.03339306223198322, 0.7736059417076111, 0.9820537077912802, 0.9879381915133902, 0.009979173651650406, 0.002663412142134731, 0.07457553997977247, 0.8869162433308655, 0.0346243578477515, 0.986787449534476, 0.010636487181007246, 0.9679203334716594, 0.02127297436201449, 0.10825208889286154, 0.044034748024214865, 0.3137475796725309, 0.5320865386259297, 0.9781864394964618, 0.9917505167328245, 0.14157341269822765, 0.7963504464275305, 0.06320241638313734, 0.9587867626626059, 0.042299415999820844, 0.18522244135546628, 0.07848408532011283, 0.7220535849450381, 0.015696817064022567, 0.9877543615112858, 0.18032096120981764, 0.030053493534969604, 0.08414978189791489, 0.7032517487182888, 0.9945337423473632, 0.002673477802009041, 0.9481137686036684, 0.0022901298758542716, 0.006870389627562814, 0.04351246764123116, 0.9744555129959176, 0.9351759211880858, 0.060869438657212685, 0.967744465405548, 0.006628386749353069, 0.019885160248059208, 0.006628386749353069, 0.7388859637066016, 0.19275286009737433, 0.027306655180461364, 0.04176311968776444, 0.980118943662524, 0.4260954872571147, 0.03309479512676619, 0.5377904208099507, 0.004136849390845774, 0.008702886707195545, 0.9863271601488284, 0.005801924471463696, 0.016233958746084874, 0.008116979373042437, 0.892867731034668, 0.08116979373042436, 0.9931006668441413, 0.2761658715162308, 0.7242840781274732, 0.9795096711414845, 0.9849862513933682, 0.9856048017082656, 0.008722166386798812, 0.4018291657107281, 0.21194038313401206, 0.229091628011909, 0.1580364706606217, 0.23097922630559278, 0.5389515280463831, 0.126934529771542, 0.10404469653405081, 0.007056653491448149, 0.9879314888027408, 0.7377144913810612, 0.09301617500022075, 0.06414908620704879, 0.10584599224163051, 0.9860395503398617, 0.873472508127931, 0.06640434272317604, 0.0459722372698911, 0.0153240790899637, 0.9681190096106759, 0.020598276800227144, 0.010299138400113572, 0.02982444274666786, 0.007456110686666965, 0.9618382785800385, 0.986127219540578, 0.038495432404241386, 0.007699086480848277, 0.9546867236251863, 0.7071714659409818, 0.1251149516664814, 0.14687407369543468, 0.019945861859873844, 0.9834223838172468, 0.017171899053361923, 0.9787982460416296, 0.976981430089451, 0.05671357874984469, 0.866907560890483, 0.07696842830336065, 0.9662460690539063, 0.9864285719093682, 0.22874507224206936, 0.7694152429960515, 0.3533542103267846, 0.21230335270662778, 0.18758309930928072, 0.24574840142068557, 0.2308542974941446, 0.675334959833617, 0.0723573171250304, 0.024119105708343466, 0.9926730548395962, 0.4478187938890818, 0.2222001649067963, 0.1999801484161167, 0.1299016348685886, 0.9953079201095656, 0.030326836176925043, 0.9098050853077513, 0.056321267185717935, 0.995797452170519, 0.9894521472595555, 0.674033941896856, 0.07767677397324362, 0.1002280954493466, 0.14783644078778624, 0.9750784089987947, 0.7969018613960723, 0.07680981796588648, 0.08321063612971037, 0.043205522605811154, 0.981028469377477, 0.017211025778552227, 0.4174584797358172, 0.22864945778061355, 0.1610939361636141, 0.1922734076791523, 0.8121478555211809, 0.1377326772521301, 0.009498805327733109, 0.042744623974798994, 0.9859963386107192, 0.04540349467151207, 0.921690941831695, 0.02724209680290724, 0.004540349467151207, 0.026410687114017922, 0.1702022058458933, 0.7512373223542876, 0.052821374228035844, 0.0035814814702044956, 0.8702999972596924, 0.10744444410613486, 0.01790740735102248, 0.9959513409988805, 0.9918646987133344, 0.045551618881053836, 0.015183872960351279, 0.9414001235417793, 0.9925419080690325, 0.9878184749258532, 0.03750854156316995, 0.8201867755146495, 0.04250968043825927, 0.10002277750178652, 0.9916963658727433, 0.9839384465816308, 0.8218023262865974, 0.07424382387012875, 0.07936408758531004, 0.025601318575906463, 0.9883355752433481, 0.008773775315183814, 0.07896397783665432, 0.052642651891102885, 0.8598299808880138, 0.1008860042752108, 0.03560682503830969, 0.12462388763408393, 0.7418088549647852, 0.9947412185499679, 0.5235157147525433, 0.46858947582768634, 0.005149334899205344, 0.003432889932803563, 0.08056490832828016, 0.05604515361967315, 0.05954797572090272, 0.8021462611815721, 0.9943679111152499, 0.9858016010431624, 0.9833032245030054, 0.009454838697144283, 0.9831133795823113, 0.23941261037871034, 0.7514895825776186, 0.008601544347110064, 0.06881235477688051, 0.9117637007936668, 0.017203088694220128, 0.11762293791021272, 0.8821720343265954, 0.11959835946927601, 0.005199928672577217, 0.8735880169929725, 0.011032445540008252, 0.8274334155006189, 0.11032445540008251, 0.051484745853371844, 0.6917585866018139, 0.11500268694135948, 0.1376547313389, 0.05575887851702278, 0.015219264783645844, 0.07990114011414068, 0.9055462546269277, 0.09790925081716555, 0.7872703024890454, 0.05794629129995511, 0.0559481433240946, 0.9844835151516866, 0.005253273422410792, 0.6776722714909922, 0.2836767648101828, 0.034146277245670154, 0.03720274900312826, 0.039682932270003475, 0.3745076732981578, 0.548120501979423, 0.002619575901003614, 0.6234590644388601, 0.039293638515054206, 0.33268613942745895, 0.9781224081609426, 0.9898125855230963, 0.9913044651981606, 0.9911520665060091, 0.0030697161662483984, 0.006139432332496797, 0.9915183216982326, 0.9887242325897815, 0.9940952080191836, 0.9724936292130251, 0.8747079069878485, 0.08703561263560682, 0.03481424505424272, 0.00435178063178034, 0.9848073954803584, 0.9958513524343245, 0.9669933332994635, 0.978069743720145, 0.9431340098413242, 0.025262518120749755, 0.025262518120749755, 0.9164032103972722, 0.031183863361487856, 0.04325503627561219, 0.010059310761770277, 0.9831410522873487, 0.9811790141461808, 0.9954447128962589, 0.913485648137113, 0.05592769274308855, 0.027963846371544275, 0.10566933747678185, 0.009606303406980168, 0.7204727555235126, 0.16811030962215293, 0.986697361466192, 0.9729712638458685, 0.9702369007289302, 0.9874494713433986, 0.002064666164594573, 0.9972337574991786, 0.028619832070732446, 0.028619832070732446, 0.6439462215914801, 0.30050823674269067, 0.989227351273866, 0.3386538017714004, 0.4918029732731165, 0.12295074331827913, 0.04745467285968668, 0.10383986742565396, 0.08347910910689828, 0.6861575553420663, 0.1262367015762852, 0.9858718554704938, 0.9792320662319847, 0.9903064406450206, 0.012832559275815295, 0.05133023710326118, 0.9367768271345165, 0.24625679987585122, 0.3969270787472602, 0.22195514199336588, 0.1360892841419178, 0.9779069274086152, 0.5448520238368039, 0.11805127183130751, 0.27969070556955933, 0.05811754920925908, 0.012886510293888934, 0.9793747823355591, 0.012886510293888934, 0.9721393252953996, 0.9792086625883262, 0.02040018047059013, 0.023840035507191343, 0.42230920041310377, 0.5312922198745499, 0.02043431614902115, 0.3785471104479665, 0.2978969583179775, 0.21724680618798847, 0.10608038027908467, 0.9824121338888565, 0.9915868764566244, 0.0746564047972369, 0.4518677132464339, 0.277014554642379, 0.19646422315062342, 0.9879303256792814, 0.6204363079123862, 0.02721211876808712, 0.22313937389831437, 0.1292575641484138, 0.5615116129358942, 0.14700518621926845, 0.2843706880962898, 0.004819842171123556, 0.9795368700938124, 0.6609345310969094, 0.22808721073148244, 0.08553270402430592, 0.023327101097537977, 0.9844812523141564, 0.010045727064430167, 0.10639040566880707, 0.7188540923568045, 0.08051165834396211, 0.0948887401910982, 0.019433682467424686, 0.1304832965669943, 0.6385352810725254, 0.2109942667891823, 0.011265411444622606, 0.9631926785152327, 0.02253082288924521, 0.005632705722311303, 0.9968488022213986, 0.832303150780948, 0.014027581192937325, 0.14495167232701903, 0.004675860397645775, 0.3087417754040495, 0.2353636852855983, 0.26305353061331577, 0.19382891729402213, 0.4268491209135691, 0.23282679322558314, 0.20606509285482646, 0.1338085018537834, 0.9735660306039111, 0.3813206693300212, 0.6156261408460583, 0.011495880567280712, 0.678256953469562, 0.29601892460747836, 0.01436985070910089, 0.25854481065965096, 0.3131443358921238, 0.27781523132993546, 0.15095162858389558, 0.435346912582404, 0.23076659651924422, 0.18985053330661228, 0.14402454250846447, 0.9736530629498945, 0.005960896128555214, 0.9179780037975029, 0.06556985741410735, 0.005960896128555214, 0.9650393025587848], \"Term\": [\"00\", \"00\", \"00\", \"00\", \"00 00\", \"00 00\", \"activ\", \"activ\", \"activ\", \"activ\", \"ajax\", \"ajax\", \"align\", \"align\", \"align\", \"android\", \"android\", \"android\", \"android\", \"android layout\", \"angular\", \"angular\", \"app\", \"app\", \"app\", \"app\", \"applic\", \"applic\", \"applic\", \"applic\", \"arr\", \"array\", \"array\", \"array\", \"array\", \"arraylist\", \"asp\", \"asp\", \"asp net\", \"authent\", \"bash\", \"bash\", \"bash script\", \"bin\", \"bitmap\", \"branch\", \"browser\", \"browser\", \"browser\", \"browser\", \"build\", \"build\", \"build\", \"build\", \"button\", \"button\", \"canva\", \"cast\", \"cast\", \"cell\", \"cell\", \"certif\", \"chang\", \"chang\", \"chang\", \"chang\", \"char\", \"char\", \"char\", \"charact\", \"charact\", \"charact\", \"charact\", \"charact string\", \"checkout\", \"chrome\", \"chrome\", \"class\", \"class\", \"class\", \"class\", \"click\", \"click\", \"click\", \"click function\", \"code\", \"code\", \"code\", \"code\", \"color\", \"color\", \"column\", \"column\", \"column\", \"column name\", \"command\", \"command\", \"command\", \"command\", \"command line\", \"command line\", \"commit\", \"compon\", \"compon\", \"compon\", \"connect\", \"connect\", \"connect\", \"connect\", \"convert\", \"convert\", \"convert\", \"convert\", \"convert string\", \"convert string\", \"cooki\", \"creat\", \"creat\", \"creat\", \"creat\", \"creat tabl\", \"css\", \"css\", \"csv\", \"csv\", \"csv file\", \"curl\", \"data\", \"data\", \"data\", \"data\", \"databas\", \"databas\", \"databas\", \"databas\", \"date\", \"date\", \"date\", \"date\", \"datetim\", \"datetim\", \"datetim\", \"debug\", \"debug\", \"debug\", \"decim\", \"dict\", \"dict\", \"dictionari\", \"diff\", \"diff\", \"diff\", \"differ\", \"differ\", \"differ\", \"differ\", \"directori\", \"directori\", \"directori\", \"display\", \"display\", \"display\", \"display\", \"div\", \"div\", \"dll\", \"docker\", \"document getelementbyid\", \"dom\", \"doubl\", \"doubl\", \"doubl\", \"eclips\", \"eclips\", \"eclips\", \"element\", \"element\", \"element\", \"enum\", \"env\", \"environ\", \"environ\", \"environ\", \"environ variabl\", \"err\", \"error\", \"error\", \"error\", \"error\", \"event\", \"event\", \"event\", \"event\", \"exampl\", \"exampl\", \"exampl\", \"exampl\", \"exe\", \"file\", \"file\", \"file\", \"file\", \"file directori\", \"folder\", \"folder\", \"folder\", \"foo\", \"foo\", \"foo\", \"foo\", \"foreach\", \"foreach\", \"foreach\", \"foreach\", \"foreign\", \"foreign key\", \"form\", \"form\", \"form\", \"form\", \"fragment\", \"fragment\", \"function\", \"function\", \"function\", \"function\", \"gem\", \"get\", \"get\", \"get\", \"get\", \"getelementbyid\", \"git\", \"git\", \"git branch\", \"git commit\", \"git pull\", \"git push\", \"git repositori\", \"github\", \"github\", \"github\", \"hashmap\", \"href\", \"href\", \"html\", \"html\", \"html\", \"html\", \"html5\", \"icon\", \"icon\", \"icon\", \"id\", \"id\", \"id\", \"id\", \"ienumer\", \"ifram\", \"imag\", \"imag\", \"imag\", \"img\", \"img\", \"input\", \"input\", \"input\", \"input\", \"input type\", \"insert\", \"insert\", \"insert\", \"insert\", \"instal\", \"instal\", \"int\", \"int\", \"int\", \"int\", \"int int\", \"integ\", \"integ\", \"iter\", \"iter\", \"iter\", \"iter\", \"java\", \"java\", \"java\", \"java\", \"java util\", \"javascript\", \"javascript\", \"javascript\", \"javascript\", \"jqueri\", \"jqueri\", \"jqueri\", \"label\", \"label\", \"label\", \"label\", \"lambda\", \"layout\", \"layout\", \"layout height\", \"layout width\", \"li\", \"li\", \"like\", \"like\", \"like\", \"like\", \"line\", \"line\", \"line\", \"line\", \"linux\", \"linux\", \"list\", \"list\", \"list\", \"list\", \"list string\", \"loop\", \"loop\", \"loop\", \"loop\", \"mac\", \"mac\", \"mac\", \"master\", \"master\", \"master\", \"matplotlib\", \"merg\", \"merg\", \"merg\", \"method\", \"method\", \"method\", \"method\", \"mm\", \"mock\", \"mock\", \"modal\", \"modul\", \"modul\", \"modul\", \"mous\", \"myclass\", \"mysql\", \"mysql\", \"name\", \"name\", \"name\", \"name\", \"net\", \"net\", \"net\", \"net\", \"net mvc\", \"new\", \"new\", \"new\", \"new\", \"ng\", \"node\", \"node\", \"node\", \"node js\", \"npm\", \"number\", \"number\", \"number\", \"number\", \"numpi array\", \"object\", \"object\", \"object\", \"object\", \"onclick\", \"onclick\", \"one\", \"one\", \"one\", \"one\", \"oper\", \"oper\", \"oper\", \"oper\", \"option valu\", \"packag\", \"packag\", \"packag\", \"packag\", \"page\", \"page\", \"page\", \"page\", \"path\", \"path\", \"path\", \"path\", \"pip\", \"port\", \"primari\", \"primari\", \"primari\", \"primari key\", \"println\", \"project\", \"project\", \"project\", \"project\", \"prop\", \"ptr\", \"public\", \"public\", \"public\", \"public\", \"public static\", \"pull\", \"pull\", \"pull\", \"pull\", \"push\", \"push\", \"push\", \"push\", \"py\", \"python\", \"python\", \"python\", \"python\", \"queri\", \"queri\", \"queri\", \"queri\", \"react\", \"rebas\", \"regex\", \"regex\", \"regular express\", \"remot\", \"remot\", \"render\", \"render\", \"render\", \"render\", \"repo\", \"repo\", \"repositori\", \"repositori\", \"repositori\", \"request\", \"request\", \"request\", \"request\", \"return\", \"return\", \"return\", \"return\", \"row\", \"row\", \"row\", \"run\", \"run\", \"run\", \"run\", \"safari\", \"script\", \"script\", \"script\", \"script\", \"select\", \"select\", \"select\", \"select\", \"server\", \"server\", \"server\", \"server\", \"sh\", \"shell\", \"shell script\", \"socket\", \"sql\", \"sql\", \"sql\", \"sql queri\", \"sql server\", \"stash\", \"static\", \"static\", \"static\", \"static\", \"static void\", \"std\", \"std string\", \"store procedur\", \"str\", \"str\", \"str\", \"string\", \"string\", \"string\", \"string\", \"string contain\", \"string string\", \"struct\", \"studio\", \"studio\", \"studio\", \"style\", \"style\", \"style\", \"style\", \"submodul\", \"substr\", \"svg\", \"system println\", \"tabl\", \"tabl\", \"tag\", \"tag\", \"tag\", \"tag\", \"td\", \"test\", \"test\", \"test\", \"test\", \"text\", \"text\", \"text\", \"text\", \"text javascript\", \"textarea\", \"textbox\", \"timestamp\", \"timestamp\", \"timestamp\", \"tri\", \"tri\", \"tri\", \"tri\", \"tupl\", \"type\", \"type\", \"type\", \"type\", \"type text\", \"type text\", \"type text\", \"uitableview\", \"ul\", \"ul\", \"url\", \"url\", \"url\", \"url\", \"use\", \"use\", \"use\", \"use\", \"use git\", \"use jqueri\", \"user\", \"user\", \"user\", \"user\", \"usr\", \"valu\", \"valu\", \"valu\", \"valu\", \"var\", \"var\", \"var\", \"var\", \"varchar\", \"variabl\", \"variabl\", \"variabl\", \"variabl\", \"vector\", \"vector\", \"version\", \"version\", \"version\", \"version\", \"view\", \"view\", \"view\", \"view\", \"visual\", \"visual\", \"visual\", \"visual\", \"visual studio\", \"void\", \"void\", \"void\", \"void\", \"want\", \"want\", \"want\", \"want\", \"way\", \"way\", \"way\", \"way\", \"webview\", \"width\", \"width\", \"window\", \"window\", \"window\", \"window\", \"work\", \"work\", \"work\", \"work\", \"would\", \"would\", \"would\", \"would\", \"wrap content\", \"xcode\", \"xcode\", \"xcode\", \"xcode\", \"yyyi\"]}, \"R\": 30, \"lambda.step\": 0.01, \"plot.opts\": {\"xlab\": \"PC1\", \"ylab\": \"PC2\"}, \"topic.order\": [2, 1, 4, 3]};\n",
       "\n",
       "function LDAvis_load_lib(url, callback){\n",
       "  var s = document.createElement('script');\n",
       "  s.src = url;\n",
       "  s.async = true;\n",
       "  s.onreadystatechange = s.onload = callback;\n",
       "  s.onerror = function(){console.warn(\"failed to load library \" + url);};\n",
       "  document.getElementsByTagName(\"head\")[0].appendChild(s);\n",
       "}\n",
       "\n",
       "if(typeof(LDAvis) !== \"undefined\"){\n",
       "   // already loaded: just create the visualization\n",
       "   !function(LDAvis){\n",
       "       new LDAvis(\"#\" + \"ldavis_el1139219713752907368055328100\", ldavis_el1139219713752907368055328100_data);\n",
       "   }(LDAvis);\n",
       "}else if(typeof define === \"function\" && define.amd){\n",
       "   // require.js is available: use it to load d3/LDAvis\n",
       "   require.config({paths: {d3: \"https://d3js.org/d3.v5\"}});\n",
       "   require([\"d3\"], function(d3){\n",
       "      window.d3 = d3;\n",
       "      LDAvis_load_lib(\"https://cdn.jsdelivr.net/gh/bmabey/pyLDAvis@3.3.1/pyLDAvis/js/ldavis.v3.0.0.js\", function(){\n",
       "        new LDAvis(\"#\" + \"ldavis_el1139219713752907368055328100\", ldavis_el1139219713752907368055328100_data);\n",
       "      });\n",
       "    });\n",
       "}else{\n",
       "    // require.js not available: dynamically load d3 & LDAvis\n",
       "    LDAvis_load_lib(\"https://d3js.org/d3.v5.js\", function(){\n",
       "         LDAvis_load_lib(\"https://cdn.jsdelivr.net/gh/bmabey/pyLDAvis@3.3.1/pyLDAvis/js/ldavis.v3.0.0.js\", function(){\n",
       "                 new LDAvis(\"#\" + \"ldavis_el1139219713752907368055328100\", ldavis_el1139219713752907368055328100_data);\n",
       "            })\n",
       "         });\n",
       "}\n",
       "</script>"
      ],
      "text/plain": [
       "PreparedData(topic_coordinates=              x         y  topics  cluster       Freq\n",
       "topic                                                \n",
       "1      0.114119 -0.128318       1        1  31.715602\n",
       "0      0.083363  0.098248       2        1  29.208305\n",
       "3     -0.027943  0.081581       3        1  22.855185\n",
       "2     -0.169538 -0.051510       4        1  16.220909, topic_info=        Term        Freq        Total Category  logprob  loglift\n",
       "1818     git  646.000000   646.000000  Default  30.0000  30.0000\n",
       "4183    tabl  484.000000   484.000000  Default  29.0000  29.0000\n",
       "4049  string  994.000000   994.000000  Default  28.0000  28.0000\n",
       "875   column  371.000000   371.000000  Default  27.0000  27.0000\n",
       "3959     sql  325.000000   325.000000  Default  26.0000  26.0000\n",
       "...      ...         ...          ...      ...      ...      ...\n",
       "3787  server  127.343942   381.741182   Topic4  -5.6799   0.7210\n",
       "4756    want  140.222145   722.286447   Topic4  -5.5835   0.1797\n",
       "4541     use  146.186105  1376.314825   Topic4  -5.5419  -0.4234\n",
       "1027   creat  127.541206   520.432844   Topic4  -5.6783   0.4126\n",
       "2431    like  128.735659   816.267280   Topic4  -5.6690  -0.0281\n",
       "\n",
       "[315 rows x 6 columns], token_table=      Topic      Freq   Term\n",
       "term                        \n",
       "0         1  0.051588     00\n",
       "0         2  0.017196     00\n",
       "0         3  0.042990     00\n",
       "0         4  0.885589     00\n",
       "1         3  0.021341  00 00\n",
       "...     ...       ...    ...\n",
       "4955      1  0.005961  xcode\n",
       "4955      2  0.917978  xcode\n",
       "4955      3  0.065570  xcode\n",
       "4955      4  0.005961  xcode\n",
       "4986      3  0.965039   yyyi\n",
       "\n",
       "[634 rows x 3 columns], R=30, lambda_step=0.01, plot_opts={'xlab': 'PC1', 'ylab': 'PC2'}, topic_order=[2, 1, 4, 3])"
      ]
     },
     "execution_count": 51,
     "metadata": {},
     "output_type": "execute_result"
    }
   ],
   "source": [
    "pyLDAvis.sklearn.prepare(lda,tfidf,tfidf_vectorizer)"
   ]
  },
  {
   "cell_type": "code",
   "execution_count": 52,
   "metadata": {},
   "outputs": [],
   "source": [
    "from sklearn.decomposition import PCA\n",
    "from sklearn.manifold import TSNE\n",
    "import matplotlib.cm as cm\n",
    "from sklearn.cluster import MiniBatchKMeans\n",
    "def plot_tsne_pca(data, labels):\n",
    "    max_label = max(labels)\n",
    "    max_items = np.random.choice(range(data.shape[0]), size=3000, replace=False)\n",
    "    \n",
    "    pca = PCA(n_components=2).fit_transform(data[max_items,:].todense())\n",
    "    tsne = TSNE().fit_transform(PCA(n_components=50).fit_transform(data[max_items,:].todense()))\n",
    "    \n",
    "    \n",
    "    idx = np.random.choice(range(pca.shape[0]), size=300, replace=False)\n",
    "    label_subset = labels[max_items]\n",
    "    label_subset = [cm.hsv(i/max_label) for i in label_subset[idx]]\n",
    "    \n",
    "    fig, ax = plt.subplots(1, 2, figsize=(15, 5))\n",
    "    \n",
    "    ax[0].scatter(pca[idx, 0], pca[idx, 1], c=label_subset)\n",
    "    ax[0].set_title('PCA Cluster Plot')\n",
    "    \n",
    "    ax[1].scatter(tsne[idx, 0], tsne[idx, 1], c=label_subset)\n",
    "    ax[1].set_title('TSNE Cluster Plot')"
   ]
  },
  {
   "cell_type": "code",
   "execution_count": 53,
   "metadata": {},
   "outputs": [
    {
     "data": {
      "image/png": "[encoded data removed]",
      "text/plain": [
       "<Figure size 1080x360 with 2 Axes>"
      ]
     },
     "metadata": {
      "needs_background": "light"
     },
     "output_type": "display_data"
    }
   ],
   "source": [
    "clusters = MiniBatchKMeans(n_clusters=4, random_state=20).fit_predict(tfidf)\n",
    "plot_tsne_pca(tfidf, clusters)"
   ]
  },
  {
   "cell_type": "code",
   "execution_count": 54,
   "metadata": {},
   "outputs": [
    {
     "name": "stdout",
     "output_type": "stream",
     "text": [
      "Topics found via LDA:\n",
      "\n",
      "Topic #0:\n",
      "class object use method public android java string function return\n",
      "\n",
      "Topic #1:\n",
      "div html jqueri text imag button use page css element\n",
      "\n",
      "Topic #2:\n",
      "file git run use instal project error command app version\n",
      "\n",
      "Topic #3:\n",
      "string tabl list column valu array python sql use number\n"
     ]
    }
   ],
   "source": [
    "from sklearn.decomposition import LatentDirichletAllocation as LDA\n",
    "\n",
    "def print_topics(model, count_vectorizer, n_top_words):\n",
    "    words = count_vectorizer.get_feature_names()\n",
    "    for topic_idx, topic in enumerate(model.components_):\n",
    "        print(\"\\nTopic #%d:\" % topic_idx)\n",
    "        print(\" \".join([words[i]\n",
    "                        for i in topic.argsort()[:-n_top_words - 1:-1]]))\n",
    "\n",
    "number_topics = 4\n",
    "number_words = 10\n",
    "\n",
    "lda = LDA(n_components=number_topics, n_jobs=-1)\n",
    "lda.fit(tfidf)\n",
    "\n",
    "print(\"Topics found via LDA:\")\n",
    "print_topics(lda, tfidf_vectorizer, number_words)"
   ]
  },
  {
   "cell_type": "code",
   "execution_count": null,
   "metadata": {},
   "outputs": [],
   "source": []
  },
  {
   "cell_type": "code",
   "execution_count": null,
   "metadata": {},
   "outputs": [],
   "source": []
  },
  {
   "cell_type": "code",
   "execution_count": 55,
   "metadata": {},
   "outputs": [],
   "source": [
    "# utiliser scipy pour transformer la matrice\n",
    "# savoir quelle ligne se retrouve dans quel topic "
   ]
  },
  {
   "cell_type": "markdown",
   "metadata": {},
   "source": [
    "### SKLearn"
   ]
  },
  {
   "cell_type": "code",
   "execution_count": 56,
   "metadata": {},
   "outputs": [],
   "source": [
    "dict={}\n",
    "for i in [2,4,6,10,12]:\n",
    "    #,4,6,10,12\n",
    "    lda =  LatentDirichletAllocation(n_components = i).fit(tfidf)\n",
    "    perp=lda.perplexity(tfidf)\n",
    "    dict[i]=perp"
   ]
  },
  {
   "cell_type": "code",
   "execution_count": 57,
   "metadata": {},
   "outputs": [
    {
     "data": {
      "text/plain": [
       "{2: 2763.073702335943,\n",
       " 4: 3141.1228540748198,\n",
       " 6: 3487.081868750519,\n",
       " 10: 4061.79119649677,\n",
       " 12: 4515.842917905724}"
      ]
     },
     "execution_count": 57,
     "metadata": {},
     "output_type": "execute_result"
    }
   ],
   "source": [
    "dict"
   ]
  },
  {
   "cell_type": "raw",
   "metadata": {},
   "source": [
    "Extraires tags des mots clés et comparer avec df.Tags. Voir les lignes associées aux topics (dans lda transform sur X)."
   ]
  },
  {
   "cell_type": "markdown",
   "metadata": {},
   "source": [
    "### Ou avec Gensim"
   ]
  },
  {
   "cell_type": "code",
   "execution_count": 58,
   "metadata": {},
   "outputs": [],
   "source": [
    "import gensim.corpora as corpora\n",
    "from gensim.models import CoherenceModel\n",
    "import gensim"
   ]
  },
  {
   "cell_type": "code",
   "execution_count": 59,
   "metadata": {},
   "outputs": [],
   "source": [
    "id2word = corpora.Dictionary(df.Document)\n",
    "\n",
    "texts = df.Document\n",
    "\n",
    "corpus = [id2word.doc2bow(text) for text in texts]"
   ]
  },
  {
   "cell_type": "code",
   "execution_count": 60,
   "metadata": {},
   "outputs": [
    {
     "name": "stdout",
     "output_type": "stream",
     "text": [
      "Coherence Score:  0.46529843677214844\n"
     ]
    },
    {
     "ename": "KeyboardInterrupt",
     "evalue": "",
     "output_type": "error",
     "traceback": [
      "\u001b[1;31m---------------------------------------------------------------------------\u001b[0m",
      "\u001b[1;31mKeyboardInterrupt\u001b[0m                         Traceback (most recent call last)",
      "\u001b[1;32m<ipython-input-60-3af83a61f7de>\u001b[0m in \u001b[0;36m<module>\u001b[1;34m\u001b[0m\n\u001b[0;32m      1\u001b[0m \u001b[0mdict\u001b[0m\u001b[1;33m=\u001b[0m\u001b[1;33m{\u001b[0m\u001b[1;33m}\u001b[0m\u001b[1;33m\u001b[0m\u001b[1;33m\u001b[0m\u001b[0m\n\u001b[0;32m      2\u001b[0m \u001b[1;32mfor\u001b[0m \u001b[0mi\u001b[0m \u001b[1;32min\u001b[0m  \u001b[0mnp\u001b[0m\u001b[1;33m.\u001b[0m\u001b[0marange\u001b[0m\u001b[1;33m(\u001b[0m\u001b[1;36m2\u001b[0m\u001b[1;33m,\u001b[0m\u001b[1;36m20\u001b[0m\u001b[1;33m,\u001b[0m\u001b[1;36m1\u001b[0m\u001b[1;33m)\u001b[0m \u001b[1;33m:\u001b[0m\u001b[1;33m\u001b[0m\u001b[1;33m\u001b[0m\u001b[0m\n\u001b[1;32m----> 3\u001b[1;33m     lda_model = gensim.models.LdaMulticore(corpus=corpus,\n\u001b[0m\u001b[0;32m      4\u001b[0m                                        \u001b[0mid2word\u001b[0m\u001b[1;33m=\u001b[0m\u001b[0mid2word\u001b[0m\u001b[1;33m,\u001b[0m\u001b[1;33m\u001b[0m\u001b[1;33m\u001b[0m\u001b[0m\n\u001b[0;32m      5\u001b[0m                                        \u001b[0mnum_topics\u001b[0m\u001b[1;33m=\u001b[0m\u001b[0mi\u001b[0m\u001b[1;33m,\u001b[0m\u001b[1;33m\u001b[0m\u001b[1;33m\u001b[0m\u001b[0m\n",
      "\u001b[1;32m~\\anaconda3\\lib\\site-packages\\gensim\\models\\ldamulticore.py\u001b[0m in \u001b[0;36m__init__\u001b[1;34m(self, corpus, num_topics, id2word, workers, chunksize, passes, batch, alpha, eta, decay, offset, eval_every, iterations, gamma_threshold, random_state, minimum_probability, minimum_phi_value, per_word_topics, dtype)\u001b[0m\n\u001b[0;32m    177\u001b[0m             \u001b[1;32mraise\u001b[0m \u001b[0mNotImplementedError\u001b[0m\u001b[1;33m(\u001b[0m\u001b[1;34m\"auto-tuning alpha not implemented in multicore LDA; use plain LdaModel.\"\u001b[0m\u001b[1;33m)\u001b[0m\u001b[1;33m\u001b[0m\u001b[1;33m\u001b[0m\u001b[0m\n\u001b[0;32m    178\u001b[0m \u001b[1;33m\u001b[0m\u001b[0m\n\u001b[1;32m--> 179\u001b[1;33m         super(LdaMulticore, self).__init__(\n\u001b[0m\u001b[0;32m    180\u001b[0m             \u001b[0mcorpus\u001b[0m\u001b[1;33m=\u001b[0m\u001b[0mcorpus\u001b[0m\u001b[1;33m,\u001b[0m \u001b[0mnum_topics\u001b[0m\u001b[1;33m=\u001b[0m\u001b[0mnum_topics\u001b[0m\u001b[1;33m,\u001b[0m\u001b[1;33m\u001b[0m\u001b[1;33m\u001b[0m\u001b[0m\n\u001b[0;32m    181\u001b[0m             \u001b[0mid2word\u001b[0m\u001b[1;33m=\u001b[0m\u001b[0mid2word\u001b[0m\u001b[1;33m,\u001b[0m \u001b[0mchunksize\u001b[0m\u001b[1;33m=\u001b[0m\u001b[0mchunksize\u001b[0m\u001b[1;33m,\u001b[0m \u001b[0mpasses\u001b[0m\u001b[1;33m=\u001b[0m\u001b[0mpasses\u001b[0m\u001b[1;33m,\u001b[0m \u001b[0malpha\u001b[0m\u001b[1;33m=\u001b[0m\u001b[0malpha\u001b[0m\u001b[1;33m,\u001b[0m \u001b[0meta\u001b[0m\u001b[1;33m=\u001b[0m\u001b[0meta\u001b[0m\u001b[1;33m,\u001b[0m\u001b[1;33m\u001b[0m\u001b[1;33m\u001b[0m\u001b[0m\n",
      "\u001b[1;32m~\\anaconda3\\lib\\site-packages\\gensim\\models\\ldamodel.py\u001b[0m in \u001b[0;36m__init__\u001b[1;34m(self, corpus, num_topics, id2word, distributed, chunksize, passes, update_every, alpha, eta, decay, offset, eval_every, iterations, gamma_threshold, minimum_probability, random_state, ns_conf, minimum_phi_value, per_word_topics, callbacks, dtype)\u001b[0m\n\u001b[0;32m    517\u001b[0m         \u001b[1;32mif\u001b[0m \u001b[0mcorpus\u001b[0m \u001b[1;32mis\u001b[0m \u001b[1;32mnot\u001b[0m \u001b[1;32mNone\u001b[0m\u001b[1;33m:\u001b[0m\u001b[1;33m\u001b[0m\u001b[1;33m\u001b[0m\u001b[0m\n\u001b[0;32m    518\u001b[0m             \u001b[0muse_numpy\u001b[0m \u001b[1;33m=\u001b[0m \u001b[0mself\u001b[0m\u001b[1;33m.\u001b[0m\u001b[0mdispatcher\u001b[0m \u001b[1;32mis\u001b[0m \u001b[1;32mnot\u001b[0m \u001b[1;32mNone\u001b[0m\u001b[1;33m\u001b[0m\u001b[1;33m\u001b[0m\u001b[0m\n\u001b[1;32m--> 519\u001b[1;33m             \u001b[0mself\u001b[0m\u001b[1;33m.\u001b[0m\u001b[0mupdate\u001b[0m\u001b[1;33m(\u001b[0m\u001b[0mcorpus\u001b[0m\u001b[1;33m,\u001b[0m \u001b[0mchunks_as_numpy\u001b[0m\u001b[1;33m=\u001b[0m\u001b[0muse_numpy\u001b[0m\u001b[1;33m)\u001b[0m\u001b[1;33m\u001b[0m\u001b[1;33m\u001b[0m\u001b[0m\n\u001b[0m\u001b[0;32m    520\u001b[0m \u001b[1;33m\u001b[0m\u001b[0m\n\u001b[0;32m    521\u001b[0m     \u001b[1;32mdef\u001b[0m \u001b[0minit_dir_prior\u001b[0m\u001b[1;33m(\u001b[0m\u001b[0mself\u001b[0m\u001b[1;33m,\u001b[0m \u001b[0mprior\u001b[0m\u001b[1;33m,\u001b[0m \u001b[0mname\u001b[0m\u001b[1;33m)\u001b[0m\u001b[1;33m:\u001b[0m\u001b[1;33m\u001b[0m\u001b[1;33m\u001b[0m\u001b[0m\n",
      "\u001b[1;32m~\\anaconda3\\lib\\site-packages\\gensim\\models\\ldamulticore.py\u001b[0m in \u001b[0;36mupdate\u001b[1;34m(self, corpus, chunks_as_numpy)\u001b[0m\n\u001b[0;32m    303\u001b[0m                         \u001b[0mprocess_result_queue\u001b[0m\u001b[1;33m(\u001b[0m\u001b[1;33m)\u001b[0m\u001b[1;33m\u001b[0m\u001b[1;33m\u001b[0m\u001b[0m\n\u001b[0;32m    304\u001b[0m \u001b[1;33m\u001b[0m\u001b[0m\n\u001b[1;32m--> 305\u001b[1;33m                 \u001b[0mprocess_result_queue\u001b[0m\u001b[1;33m(\u001b[0m\u001b[1;33m)\u001b[0m\u001b[1;33m\u001b[0m\u001b[1;33m\u001b[0m\u001b[0m\n\u001b[0m\u001b[0;32m    306\u001b[0m             \u001b[1;31m# endfor single corpus pass\u001b[0m\u001b[1;33m\u001b[0m\u001b[1;33m\u001b[0m\u001b[1;33m\u001b[0m\u001b[0m\n\u001b[0;32m    307\u001b[0m \u001b[1;33m\u001b[0m\u001b[0m\n",
      "\u001b[1;32m~\\anaconda3\\lib\\site-packages\\gensim\\models\\ldamulticore.py\u001b[0m in \u001b[0;36mprocess_result_queue\u001b[1;34m(force)\u001b[0m\n\u001b[0;32m    272\u001b[0m \u001b[1;33m\u001b[0m\u001b[0m\n\u001b[0;32m    273\u001b[0m             \u001b[1;32mif\u001b[0m \u001b[1;33m(\u001b[0m\u001b[0mforce\u001b[0m \u001b[1;32mand\u001b[0m \u001b[0mmerged_new\u001b[0m \u001b[1;32mand\u001b[0m \u001b[0mqueue_size\u001b[0m\u001b[1;33m[\u001b[0m\u001b[1;36m0\u001b[0m\u001b[1;33m]\u001b[0m \u001b[1;33m==\u001b[0m \u001b[1;36m0\u001b[0m\u001b[1;33m)\u001b[0m \u001b[1;32mor\u001b[0m \u001b[1;33m(\u001b[0m\u001b[0mother\u001b[0m\u001b[1;33m.\u001b[0m\u001b[0mnumdocs\u001b[0m \u001b[1;33m>=\u001b[0m \u001b[0mupdateafter\u001b[0m\u001b[1;33m)\u001b[0m\u001b[1;33m:\u001b[0m\u001b[1;33m\u001b[0m\u001b[1;33m\u001b[0m\u001b[0m\n\u001b[1;32m--> 274\u001b[1;33m                 \u001b[0mself\u001b[0m\u001b[1;33m.\u001b[0m\u001b[0mdo_mstep\u001b[0m\u001b[1;33m(\u001b[0m\u001b[0mrho\u001b[0m\u001b[1;33m(\u001b[0m\u001b[1;33m)\u001b[0m\u001b[1;33m,\u001b[0m \u001b[0mother\u001b[0m\u001b[1;33m,\u001b[0m \u001b[0mpass_\u001b[0m \u001b[1;33m>\u001b[0m \u001b[1;36m0\u001b[0m\u001b[1;33m)\u001b[0m\u001b[1;33m\u001b[0m\u001b[1;33m\u001b[0m\u001b[0m\n\u001b[0m\u001b[0;32m    275\u001b[0m                 \u001b[0mother\u001b[0m\u001b[1;33m.\u001b[0m\u001b[0mreset\u001b[0m\u001b[1;33m(\u001b[0m\u001b[1;33m)\u001b[0m\u001b[1;33m\u001b[0m\u001b[1;33m\u001b[0m\u001b[0m\n\u001b[0;32m    276\u001b[0m                 \u001b[1;32mif\u001b[0m \u001b[0meval_every\u001b[0m \u001b[1;33m>\u001b[0m \u001b[1;36m0\u001b[0m \u001b[1;32mand\u001b[0m \u001b[1;33m(\u001b[0m\u001b[0mforce\u001b[0m \u001b[1;32mor\u001b[0m \u001b[1;33m(\u001b[0m\u001b[0mself\u001b[0m\u001b[1;33m.\u001b[0m\u001b[0mnum_updates\u001b[0m \u001b[1;33m/\u001b[0m \u001b[0mupdateafter\u001b[0m\u001b[1;33m)\u001b[0m \u001b[1;33m%\u001b[0m \u001b[0meval_every\u001b[0m \u001b[1;33m==\u001b[0m \u001b[1;36m0\u001b[0m\u001b[1;33m)\u001b[0m\u001b[1;33m:\u001b[0m\u001b[1;33m\u001b[0m\u001b[1;33m\u001b[0m\u001b[0m\n",
      "\u001b[1;32m~\\anaconda3\\lib\\site-packages\\gensim\\models\\ldamodel.py\u001b[0m in \u001b[0;36mdo_mstep\u001b[1;34m(self, rho, other, extra_pass)\u001b[0m\n\u001b[0;32m   1038\u001b[0m         \u001b[1;31m# update self with the new blend; also keep track of how much did\u001b[0m\u001b[1;33m\u001b[0m\u001b[1;33m\u001b[0m\u001b[1;33m\u001b[0m\u001b[0m\n\u001b[0;32m   1039\u001b[0m         \u001b[1;31m# the topics change through this update, to assess convergence\u001b[0m\u001b[1;33m\u001b[0m\u001b[1;33m\u001b[0m\u001b[1;33m\u001b[0m\u001b[0m\n\u001b[1;32m-> 1040\u001b[1;33m         \u001b[0mprevious_Elogbeta\u001b[0m \u001b[1;33m=\u001b[0m \u001b[0mself\u001b[0m\u001b[1;33m.\u001b[0m\u001b[0mstate\u001b[0m\u001b[1;33m.\u001b[0m\u001b[0mget_Elogbeta\u001b[0m\u001b[1;33m(\u001b[0m\u001b[1;33m)\u001b[0m\u001b[1;33m\u001b[0m\u001b[1;33m\u001b[0m\u001b[0m\n\u001b[0m\u001b[0;32m   1041\u001b[0m         \u001b[0mself\u001b[0m\u001b[1;33m.\u001b[0m\u001b[0mstate\u001b[0m\u001b[1;33m.\u001b[0m\u001b[0mblend\u001b[0m\u001b[1;33m(\u001b[0m\u001b[0mrho\u001b[0m\u001b[1;33m,\u001b[0m \u001b[0mother\u001b[0m\u001b[1;33m)\u001b[0m\u001b[1;33m\u001b[0m\u001b[1;33m\u001b[0m\u001b[0m\n\u001b[0;32m   1042\u001b[0m \u001b[1;33m\u001b[0m\u001b[0m\n",
      "\u001b[1;32m~\\anaconda3\\lib\\site-packages\\gensim\\models\\ldamodel.py\u001b[0m in \u001b[0;36mget_Elogbeta\u001b[1;34m(self)\u001b[0m\n\u001b[0;32m    277\u001b[0m             \u001b[0mPosterior\u001b[0m \u001b[0mprobabilities\u001b[0m \u001b[1;32mfor\u001b[0m \u001b[0meach\u001b[0m \u001b[0mtopic\u001b[0m\u001b[1;33m.\u001b[0m\u001b[1;33m\u001b[0m\u001b[1;33m\u001b[0m\u001b[0m\n\u001b[0;32m    278\u001b[0m         \"\"\"\n\u001b[1;32m--> 279\u001b[1;33m         \u001b[1;32mreturn\u001b[0m \u001b[0mdirichlet_expectation\u001b[0m\u001b[1;33m(\u001b[0m\u001b[0mself\u001b[0m\u001b[1;33m.\u001b[0m\u001b[0mget_lambda\u001b[0m\u001b[1;33m(\u001b[0m\u001b[1;33m)\u001b[0m\u001b[1;33m)\u001b[0m\u001b[1;33m\u001b[0m\u001b[1;33m\u001b[0m\u001b[0m\n\u001b[0m\u001b[0;32m    280\u001b[0m \u001b[1;33m\u001b[0m\u001b[0m\n\u001b[0;32m    281\u001b[0m     \u001b[1;33m@\u001b[0m\u001b[0mclassmethod\u001b[0m\u001b[1;33m\u001b[0m\u001b[1;33m\u001b[0m\u001b[0m\n",
      "\u001b[1;32m~\\anaconda3\\lib\\site-packages\\gensim\\models\\ldamodel.py\u001b[0m in \u001b[0;36mget_lambda\u001b[1;34m(self)\u001b[0m\n\u001b[0;32m    267\u001b[0m \u001b[1;33m\u001b[0m\u001b[0m\n\u001b[0;32m    268\u001b[0m         \"\"\"\n\u001b[1;32m--> 269\u001b[1;33m         \u001b[1;32mreturn\u001b[0m \u001b[0mself\u001b[0m\u001b[1;33m.\u001b[0m\u001b[0meta\u001b[0m \u001b[1;33m+\u001b[0m \u001b[0mself\u001b[0m\u001b[1;33m.\u001b[0m\u001b[0msstats\u001b[0m\u001b[1;33m\u001b[0m\u001b[1;33m\u001b[0m\u001b[0m\n\u001b[0m\u001b[0;32m    270\u001b[0m \u001b[1;33m\u001b[0m\u001b[0m\n\u001b[0;32m    271\u001b[0m     \u001b[1;32mdef\u001b[0m \u001b[0mget_Elogbeta\u001b[0m\u001b[1;33m(\u001b[0m\u001b[0mself\u001b[0m\u001b[1;33m)\u001b[0m\u001b[1;33m:\u001b[0m\u001b[1;33m\u001b[0m\u001b[1;33m\u001b[0m\u001b[0m\n",
      "\u001b[1;31mKeyboardInterrupt\u001b[0m: "
     ]
    }
   ],
   "source": [
    "dict={}\n",
    "for i in  np.arange(2,20,1) :\n",
    "    lda_model = gensim.models.LdaMulticore(corpus=corpus,\n",
    "                                       id2word=id2word,\n",
    "                                       num_topics=i, \n",
    "                                       random_state=100,\n",
    "                                       chunksize=100,\n",
    "                                       passes=10,\n",
    "                                       per_word_topics=True)\n",
    "    # Compute Coherence Score\n",
    "    coherence_model_lda = CoherenceModel(model=lda_model, texts=df.Document, dictionary=id2word, coherence='c_v')\n",
    "    coherence_lda = coherence_model_lda.get_coherence()\n",
    "    dict[i]=coherence_lda\n",
    "    print('Coherence Score: ', coherence_lda)"
   ]
  },
  {
   "cell_type": "code",
   "execution_count": null,
   "metadata": {},
   "outputs": [],
   "source": [
    "plt.plot(*zip(*sorted(dict.items())))\n",
    "plt.show()"
   ]
  },
  {
   "cell_type": "code",
   "execution_count": null,
   "metadata": {},
   "outputs": [],
   "source": [
    "keys = dict.keys()\n",
    "values = dict.values()\n",
    "\n",
    "plt.figure(figsize=(10,10))\n",
    "plt.bar(keys, values)\n",
    "plt.show()"
   ]
  },
  {
   "cell_type": "code",
   "execution_count": null,
   "metadata": {},
   "outputs": [],
   "source": [
    "lda_model = gensim.models.LdaMulticore(corpus=corpus,\n",
    "                                       id2word=id2word,\n",
    "                                       num_topics=8, \n",
    "                                       random_state=100,\n",
    "                                       chunksize=100,\n",
    "                                       passes=10,\n",
    "                                       per_word_topics=True)"
   ]
  },
  {
   "cell_type": "code",
   "execution_count": null,
   "metadata": {},
   "outputs": [],
   "source": [
    "import pyLDAvis\n",
    "import pyLDAvis.gensim_models\n",
    "import pyLDAvis.sklearn\n",
    "pyLDAvis.enable_notebook()"
   ]
  },
  {
   "cell_type": "code",
   "execution_count": null,
   "metadata": {},
   "outputs": [],
   "source": [
    "vis = pyLDAvis.gensim_models.prepare(lda_model, corpus, id2word)"
   ]
  },
  {
   "cell_type": "code",
   "execution_count": null,
   "metadata": {},
   "outputs": [],
   "source": [
    "vis"
   ]
  },
  {
   "cell_type": "markdown",
   "metadata": {},
   "source": [
    "# Utiliser une approche supervisée"
   ]
  },
  {
   "cell_type": "code",
   "execution_count": 61,
   "metadata": {},
   "outputs": [],
   "source": [
    "from sklearn.datasets import make_multilabel_classification\n",
    "from sklearn.multioutput import MultiOutputClassifier\n",
    "from sklearn.neighbors import KNeighborsClassifier"
   ]
  },
  {
   "cell_type": "code",
   "execution_count": 62,
   "metadata": {},
   "outputs": [],
   "source": [
    "from sklearn.model_selection import train_test_split"
   ]
  },
  {
   "cell_type": "code",
   "execution_count": 82,
   "metadata": {},
   "outputs": [],
   "source": [
    "df=df.reset_index()\n",
    "df=df.drop(['index'],axis=1)"
   ]
  },
  {
   "cell_type": "code",
   "execution_count": 83,
   "metadata": {},
   "outputs": [],
   "source": [
    "X = df[\"Document\"].apply(lambda x: ' '.join(x))\n",
    "y = df[\"Tags\"]"
   ]
  },
  {
   "cell_type": "code",
   "execution_count": 84,
   "metadata": {},
   "outputs": [],
   "source": [
    "all_tags=[]\n",
    "for i in df.Tags:\n",
    "    for j in i:\n",
    "        all_tags.append(j)"
   ]
  },
  {
   "cell_type": "raw",
   "metadata": {},
   "source": [
    "# from collections import Counter\n",
    "Counter(all_tags)"
   ]
  },
  {
   "cell_type": "code",
   "execution_count": 85,
   "metadata": {},
   "outputs": [],
   "source": [
    "from sklearn.multiclass import OneVsRestClassifier\n",
    "from sklearn.preprocessing import MultiLabelBinarizer"
   ]
  },
  {
   "cell_type": "code",
   "execution_count": 86,
   "metadata": {},
   "outputs": [],
   "source": [
    "multilabel_binarizer = MultiLabelBinarizer()\n",
    "y = multilabel_binarizer.fit_transform(y)"
   ]
  },
  {
   "cell_type": "code",
   "execution_count": 87,
   "metadata": {},
   "outputs": [],
   "source": [
    "tfidf_vectorizer = TfidfVectorizer(\n",
    "    max_df=.8,\n",
    "    min_df=5,\n",
    "    max_features=20000,\n",
    "    ngram_range=(1, 1)\n",
    ")\n",
    "X= tfidf_vectorizer.fit_transform(X)"
   ]
  },
  {
   "cell_type": "code",
   "execution_count": 88,
   "metadata": {},
   "outputs": [
    {
     "data": {
      "text/html": [
       "<div>\n",
       "<style scoped>\n",
       "    .dataframe tbody tr th:only-of-type {\n",
       "        vertical-align: middle;\n",
       "    }\n",
       "\n",
       "    .dataframe tbody tr th {\n",
       "        vertical-align: top;\n",
       "    }\n",
       "\n",
       "    .dataframe thead th {\n",
       "        text-align: right;\n",
       "    }\n",
       "</style>\n",
       "<table border=\"1\" class=\"dataframe\">\n",
       "  <thead>\n",
       "    <tr style=\"text-align: right;\">\n",
       "      <th></th>\n",
       "      <th>Tags</th>\n",
       "      <th>Document</th>\n",
       "    </tr>\n",
       "  </thead>\n",
       "  <tbody>\n",
       "    <tr>\n",
       "      <th>0</th>\n",
       "      <td>[c#]</td>\n",
       "      <td>[convert, decim, doubl, c#, want, use, track, ...</td>\n",
       "    </tr>\n",
       "    <tr>\n",
       "      <th>1</th>\n",
       "      <td>[html, css]</td>\n",
       "      <td>[width, collaps, percentag, width, child, elem...</td>\n",
       "    </tr>\n",
       "    <tr>\n",
       "      <th>2</th>\n",
       "      <td>[c#, .net]</td>\n",
       "      <td>[calcul, someon, age, base, datetim, type, bir...</td>\n",
       "    </tr>\n",
       "    <tr>\n",
       "      <th>3</th>\n",
       "      <td>[c#]</td>\n",
       "      <td>[calcul, relat, time, c#, given, specif, datet...</td>\n",
       "    </tr>\n",
       "    <tr>\n",
       "      <th>4</th>\n",
       "      <td>[html]</td>\n",
       "      <td>[determin, user, timezon, standard, way, web, ...</td>\n",
       "    </tr>\n",
       "    <tr>\n",
       "      <th>...</th>\n",
       "      <td>...</td>\n",
       "      <td>...</td>\n",
       "    </tr>\n",
       "    <tr>\n",
       "      <th>49761</th>\n",
       "      <td>[node.js]</td>\n",
       "      <td>[npm, instal, fail, node, gyp, rebuild, gyp, x...</td>\n",
       "    </tr>\n",
       "    <tr>\n",
       "      <th>49762</th>\n",
       "      <td>[c]</td>\n",
       "      <td>[cast, free, return, valu, void, read, book, p...</td>\n",
       "    </tr>\n",
       "    <tr>\n",
       "      <th>49763</th>\n",
       "      <td>[java]</td>\n",
       "      <td>[need, switch, modul, migrat, java, 9+, java, ...</td>\n",
       "    </tr>\n",
       "    <tr>\n",
       "      <th>49764</th>\n",
       "      <td>[android]</td>\n",
       "      <td>[fix, unexpect, element, found, error, sudden,...</td>\n",
       "    </tr>\n",
       "    <tr>\n",
       "      <th>49765</th>\n",
       "      <td>[c++]</td>\n",
       "      <td>[make, class, immun, auto, valu, copi, proxi, ...</td>\n",
       "    </tr>\n",
       "  </tbody>\n",
       "</table>\n",
       "<p>49766 rows × 2 columns</p>\n",
       "</div>"
      ],
      "text/plain": [
       "              Tags                                           Document\n",
       "0             [c#]  [convert, decim, doubl, c#, want, use, track, ...\n",
       "1      [html, css]  [width, collaps, percentag, width, child, elem...\n",
       "2       [c#, .net]  [calcul, someon, age, base, datetim, type, bir...\n",
       "3             [c#]  [calcul, relat, time, c#, given, specif, datet...\n",
       "4           [html]  [determin, user, timezon, standard, way, web, ...\n",
       "...            ...                                                ...\n",
       "49761    [node.js]  [npm, instal, fail, node, gyp, rebuild, gyp, x...\n",
       "49762          [c]  [cast, free, return, valu, void, read, book, p...\n",
       "49763       [java]  [need, switch, modul, migrat, java, 9+, java, ...\n",
       "49764    [android]  [fix, unexpect, element, found, error, sudden,...\n",
       "49765        [c++]  [make, class, immun, auto, valu, copi, proxi, ...\n",
       "\n",
       "[49766 rows x 2 columns]"
      ]
     },
     "execution_count": 88,
     "metadata": {},
     "output_type": "execute_result"
    }
   ],
   "source": [
    "df"
   ]
  },
  {
   "cell_type": "code",
   "execution_count": 89,
   "metadata": {},
   "outputs": [
    {
     "data": {
      "text/plain": [
       "array(['.net', 'android', 'angular', 'angularjs', 'arrays', 'asp.net',\n",
       "       'asp.net-mvc', 'bash', 'c', 'c#', 'c++', 'css', 'database',\n",
       "       'django', 'docker', 'eclipse', 'git', 'github', 'html', 'ios',\n",
       "       'iphone', 'java', 'javascript', 'jquery', 'json', 'linux', 'list',\n",
       "       'macos', 'mysql', 'node.js', 'objective-c', 'pandas',\n",
       "       'performance', 'php', 'postgresql', 'python', 'r', 'reactjs',\n",
       "       'regex', 'ruby', 'ruby-on-rails', 'shell', 'sql', 'sql-server',\n",
       "       'string', 'swift', 'typescript', 'visual-studio', 'windows',\n",
       "       'xcode'], dtype=object)"
      ]
     },
     "execution_count": 89,
     "metadata": {},
     "output_type": "execute_result"
    }
   ],
   "source": [
    "multilabel_binarizer.classes_"
   ]
  },
  {
   "cell_type": "code",
   "execution_count": 90,
   "metadata": {},
   "outputs": [],
   "source": [
    "X_train, X_test, y_train, y_test = train_test_split(X, y, test_size=0.2)"
   ]
  },
  {
   "cell_type": "code",
   "execution_count": 91,
   "metadata": {},
   "outputs": [],
   "source": [
    "from sklearn.metrics import hamming_loss,accuracy_score, classification_report,jaccard_score,f1_score\n",
    "#Sklearn.metrics.jaccard_score"
   ]
  },
  {
   "cell_type": "code",
   "execution_count": 92,
   "metadata": {},
   "outputs": [],
   "source": [
    "from sklearn.svm import LinearSVC\n",
    "from sklearn.ensemble import RandomForestClassifier\n",
    "from sklearn.linear_model import Perceptron\n",
    "from sklearn.linear_model import LogisticRegression\n",
    "from sklearn.linear_model import SGDClassifier\n",
    "from sklearn.ensemble import GradientBoostingClassifier"
   ]
  },
  {
   "cell_type": "code",
   "execution_count": 93,
   "metadata": {},
   "outputs": [],
   "source": [
    "svc = LinearSVC(random_state=0)\n",
    "forest = RandomForestClassifier(random_state=0)\n",
    "perceptron = Perceptron(random_state=0)\n",
    "lr = LogisticRegression(random_state=0)\n",
    "sgd = SGDClassifier(random_state=0)\n",
    "gbc=GradientBoostingClassifier(random_state=0)\n",
    "#Ajouter Gradient boosting"
   ]
  },
  {
   "cell_type": "code",
   "execution_count": 94,
   "metadata": {},
   "outputs": [
    {
     "data": {
      "text/html": [
       "<div>\n",
       "<style scoped>\n",
       "    .dataframe tbody tr th:only-of-type {\n",
       "        vertical-align: middle;\n",
       "    }\n",
       "\n",
       "    .dataframe tbody tr th {\n",
       "        vertical-align: top;\n",
       "    }\n",
       "\n",
       "    .dataframe thead th {\n",
       "        text-align: right;\n",
       "    }\n",
       "</style>\n",
       "<table border=\"1\" class=\"dataframe\">\n",
       "  <thead>\n",
       "    <tr style=\"text-align: right;\">\n",
       "      <th></th>\n",
       "      <th>Tags</th>\n",
       "      <th>Document</th>\n",
       "    </tr>\n",
       "  </thead>\n",
       "  <tbody>\n",
       "    <tr>\n",
       "      <th>0</th>\n",
       "      <td>[c#]</td>\n",
       "      <td>[convert, decim, doubl, c#, want, use, track, ...</td>\n",
       "    </tr>\n",
       "    <tr>\n",
       "      <th>1</th>\n",
       "      <td>[html, css]</td>\n",
       "      <td>[width, collaps, percentag, width, child, elem...</td>\n",
       "    </tr>\n",
       "    <tr>\n",
       "      <th>2</th>\n",
       "      <td>[c#, .net]</td>\n",
       "      <td>[calcul, someon, age, base, datetim, type, bir...</td>\n",
       "    </tr>\n",
       "    <tr>\n",
       "      <th>3</th>\n",
       "      <td>[c#]</td>\n",
       "      <td>[calcul, relat, time, c#, given, specif, datet...</td>\n",
       "    </tr>\n",
       "    <tr>\n",
       "      <th>4</th>\n",
       "      <td>[html]</td>\n",
       "      <td>[determin, user, timezon, standard, way, web, ...</td>\n",
       "    </tr>\n",
       "    <tr>\n",
       "      <th>...</th>\n",
       "      <td>...</td>\n",
       "      <td>...</td>\n",
       "    </tr>\n",
       "    <tr>\n",
       "      <th>49761</th>\n",
       "      <td>[node.js]</td>\n",
       "      <td>[npm, instal, fail, node, gyp, rebuild, gyp, x...</td>\n",
       "    </tr>\n",
       "    <tr>\n",
       "      <th>49762</th>\n",
       "      <td>[c]</td>\n",
       "      <td>[cast, free, return, valu, void, read, book, p...</td>\n",
       "    </tr>\n",
       "    <tr>\n",
       "      <th>49763</th>\n",
       "      <td>[java]</td>\n",
       "      <td>[need, switch, modul, migrat, java, 9+, java, ...</td>\n",
       "    </tr>\n",
       "    <tr>\n",
       "      <th>49764</th>\n",
       "      <td>[android]</td>\n",
       "      <td>[fix, unexpect, element, found, error, sudden,...</td>\n",
       "    </tr>\n",
       "    <tr>\n",
       "      <th>49765</th>\n",
       "      <td>[c++]</td>\n",
       "      <td>[make, class, immun, auto, valu, copi, proxi, ...</td>\n",
       "    </tr>\n",
       "  </tbody>\n",
       "</table>\n",
       "<p>49766 rows × 2 columns</p>\n",
       "</div>"
      ],
      "text/plain": [
       "              Tags                                           Document\n",
       "0             [c#]  [convert, decim, doubl, c#, want, use, track, ...\n",
       "1      [html, css]  [width, collaps, percentag, width, child, elem...\n",
       "2       [c#, .net]  [calcul, someon, age, base, datetim, type, bir...\n",
       "3             [c#]  [calcul, relat, time, c#, given, specif, datet...\n",
       "4           [html]  [determin, user, timezon, standard, way, web, ...\n",
       "...            ...                                                ...\n",
       "49761    [node.js]  [npm, instal, fail, node, gyp, rebuild, gyp, x...\n",
       "49762          [c]  [cast, free, return, valu, void, read, book, p...\n",
       "49763       [java]  [need, switch, modul, migrat, java, 9+, java, ...\n",
       "49764    [android]  [fix, unexpect, element, found, error, sudden,...\n",
       "49765        [c++]  [make, class, immun, auto, valu, copi, proxi, ...\n",
       "\n",
       "[49766 rows x 2 columns]"
      ]
     },
     "execution_count": 94,
     "metadata": {},
     "output_type": "execute_result"
    }
   ],
   "source": [
    "df"
   ]
  },
  {
   "cell_type": "code",
   "execution_count": 95,
   "metadata": {},
   "outputs": [
    {
     "data": {
      "text/plain": [
       "array([1, 0, 0, 0, 0, 0, 0, 0, 0, 1, 0, 0, 0, 0, 0, 0, 0, 0, 0, 0, 0, 0,\n",
       "       0, 0, 0, 0, 0, 0, 0, 0, 0, 0, 0, 0, 0, 0, 0, 0, 0, 0, 0, 0, 0, 0,\n",
       "       0, 0, 0, 0, 0, 0])"
      ]
     },
     "execution_count": 95,
     "metadata": {},
     "output_type": "execute_result"
    }
   ],
   "source": [
    "y_train[1]"
   ]
  },
  {
   "cell_type": "code",
   "execution_count": 96,
   "metadata": {},
   "outputs": [],
   "source": [
    "classifier=[svc,forest,perceptron,lr,sgd,gbc]"
   ]
  },
  {
   "cell_type": "code",
   "execution_count": 97,
   "metadata": {},
   "outputs": [
    {
     "data": {
      "text/html": [
       "<div>\n",
       "<style scoped>\n",
       "    .dataframe tbody tr th:only-of-type {\n",
       "        vertical-align: middle;\n",
       "    }\n",
       "\n",
       "    .dataframe tbody tr th {\n",
       "        vertical-align: top;\n",
       "    }\n",
       "\n",
       "    .dataframe thead th {\n",
       "        text-align: right;\n",
       "    }\n",
       "</style>\n",
       "<table border=\"1\" class=\"dataframe\">\n",
       "  <thead>\n",
       "    <tr style=\"text-align: right;\">\n",
       "      <th></th>\n",
       "      <th>Tags</th>\n",
       "      <th>Document</th>\n",
       "    </tr>\n",
       "  </thead>\n",
       "  <tbody>\n",
       "    <tr>\n",
       "      <th>0</th>\n",
       "      <td>[c#]</td>\n",
       "      <td>[convert, decim, doubl, c#, want, use, track, ...</td>\n",
       "    </tr>\n",
       "    <tr>\n",
       "      <th>1</th>\n",
       "      <td>[html, css]</td>\n",
       "      <td>[width, collaps, percentag, width, child, elem...</td>\n",
       "    </tr>\n",
       "    <tr>\n",
       "      <th>2</th>\n",
       "      <td>[c#, .net]</td>\n",
       "      <td>[calcul, someon, age, base, datetim, type, bir...</td>\n",
       "    </tr>\n",
       "    <tr>\n",
       "      <th>3</th>\n",
       "      <td>[c#]</td>\n",
       "      <td>[calcul, relat, time, c#, given, specif, datet...</td>\n",
       "    </tr>\n",
       "    <tr>\n",
       "      <th>4</th>\n",
       "      <td>[html]</td>\n",
       "      <td>[determin, user, timezon, standard, way, web, ...</td>\n",
       "    </tr>\n",
       "    <tr>\n",
       "      <th>...</th>\n",
       "      <td>...</td>\n",
       "      <td>...</td>\n",
       "    </tr>\n",
       "    <tr>\n",
       "      <th>49761</th>\n",
       "      <td>[node.js]</td>\n",
       "      <td>[npm, instal, fail, node, gyp, rebuild, gyp, x...</td>\n",
       "    </tr>\n",
       "    <tr>\n",
       "      <th>49762</th>\n",
       "      <td>[c]</td>\n",
       "      <td>[cast, free, return, valu, void, read, book, p...</td>\n",
       "    </tr>\n",
       "    <tr>\n",
       "      <th>49763</th>\n",
       "      <td>[java]</td>\n",
       "      <td>[need, switch, modul, migrat, java, 9+, java, ...</td>\n",
       "    </tr>\n",
       "    <tr>\n",
       "      <th>49764</th>\n",
       "      <td>[android]</td>\n",
       "      <td>[fix, unexpect, element, found, error, sudden,...</td>\n",
       "    </tr>\n",
       "    <tr>\n",
       "      <th>49765</th>\n",
       "      <td>[c++]</td>\n",
       "      <td>[make, class, immun, auto, valu, copi, proxi, ...</td>\n",
       "    </tr>\n",
       "  </tbody>\n",
       "</table>\n",
       "<p>49766 rows × 2 columns</p>\n",
       "</div>"
      ],
      "text/plain": [
       "              Tags                                           Document\n",
       "0             [c#]  [convert, decim, doubl, c#, want, use, track, ...\n",
       "1      [html, css]  [width, collaps, percentag, width, child, elem...\n",
       "2       [c#, .net]  [calcul, someon, age, base, datetim, type, bir...\n",
       "3             [c#]  [calcul, relat, time, c#, given, specif, datet...\n",
       "4           [html]  [determin, user, timezon, standard, way, web, ...\n",
       "...            ...                                                ...\n",
       "49761    [node.js]  [npm, instal, fail, node, gyp, rebuild, gyp, x...\n",
       "49762          [c]  [cast, free, return, valu, void, read, book, p...\n",
       "49763       [java]  [need, switch, modul, migrat, java, 9+, java, ...\n",
       "49764    [android]  [fix, unexpect, element, found, error, sudden,...\n",
       "49765        [c++]  [make, class, immun, auto, valu, copi, proxi, ...\n",
       "\n",
       "[49766 rows x 2 columns]"
      ]
     },
     "execution_count": 97,
     "metadata": {},
     "output_type": "execute_result"
    }
   ],
   "source": [
    "df"
   ]
  },
  {
   "cell_type": "code",
   "execution_count": 98,
   "metadata": {},
   "outputs": [],
   "source": [
    "results = pd.DataFrame({})\n",
    "def errors(name,model,X_train, y_train,X_test,y_test):\n",
    "    global results\n",
    "    clf = MultiOutputClassifier(model)\n",
    "    clf.fit(X_train, y_train)\n",
    "    y_pred = clf.predict(X_test)\n",
    "    results = results.append(pd.DataFrame({\n",
    "        'Modèle': [name],\n",
    "        'Hamming_loss':hamming_loss(y_pred, y_test),\n",
    "        'Jaccard_score':jaccard_score(y_pred, y_test,average='macro')*100,\n",
    "        'Accuracy_score':accuracy_score(y_pred, y_test),\n",
    "        'Macro_f1_score':f1_score(y_test, y_pred,average='macro'),\n",
    "        'Micro_f1_score':f1_score(y_test, y_pred,average='micro')}),ignore_index=True)"
   ]
  },
  {
   "cell_type": "code",
   "execution_count": 99,
   "metadata": {},
   "outputs": [],
   "source": [
    "for i in classifier:\n",
    "    errors(str(i),i,X_train, y_train,X_test,y_test)"
   ]
  },
  {
   "cell_type": "code",
   "execution_count": 100,
   "metadata": {},
   "outputs": [
    {
     "data": {
      "text/html": [
       "<div>\n",
       "<style scoped>\n",
       "    .dataframe tbody tr th:only-of-type {\n",
       "        vertical-align: middle;\n",
       "    }\n",
       "\n",
       "    .dataframe tbody tr th {\n",
       "        vertical-align: top;\n",
       "    }\n",
       "\n",
       "    .dataframe thead th {\n",
       "        text-align: right;\n",
       "    }\n",
       "</style>\n",
       "<table border=\"1\" class=\"dataframe\">\n",
       "  <thead>\n",
       "    <tr style=\"text-align: right;\">\n",
       "      <th></th>\n",
       "      <th>Modèle</th>\n",
       "      <th>Hamming_loss</th>\n",
       "      <th>Jaccard_score</th>\n",
       "      <th>Accuracy_score</th>\n",
       "      <th>Macro_f1_score</th>\n",
       "      <th>Micro_f1_score</th>\n",
       "    </tr>\n",
       "  </thead>\n",
       "  <tbody>\n",
       "    <tr>\n",
       "      <th>0</th>\n",
       "      <td>LinearSVC(random_state=0)</td>\n",
       "      <td>0.013044</td>\n",
       "      <td>54.489512</td>\n",
       "      <td>0.520896</td>\n",
       "      <td>0.680502</td>\n",
       "      <td>0.736974</td>\n",
       "    </tr>\n",
       "    <tr>\n",
       "      <th>1</th>\n",
       "      <td>RandomForestClassifier(random_state=0)</td>\n",
       "      <td>0.016042</td>\n",
       "      <td>34.162042</td>\n",
       "      <td>0.422745</td>\n",
       "      <td>0.452731</td>\n",
       "      <td>0.621324</td>\n",
       "    </tr>\n",
       "    <tr>\n",
       "      <th>2</th>\n",
       "      <td>Perceptron()</td>\n",
       "      <td>0.017880</td>\n",
       "      <td>50.188791</td>\n",
       "      <td>0.431384</td>\n",
       "      <td>0.643205</td>\n",
       "      <td>0.680088</td>\n",
       "    </tr>\n",
       "    <tr>\n",
       "      <th>3</th>\n",
       "      <td>LogisticRegression(random_state=0)</td>\n",
       "      <td>0.015527</td>\n",
       "      <td>42.206302</td>\n",
       "      <td>0.429275</td>\n",
       "      <td>0.567194</td>\n",
       "      <td>0.653048</td>\n",
       "    </tr>\n",
       "    <tr>\n",
       "      <th>4</th>\n",
       "      <td>SGDClassifier(random_state=0)</td>\n",
       "      <td>0.014688</td>\n",
       "      <td>45.168445</td>\n",
       "      <td>0.455998</td>\n",
       "      <td>0.578660</td>\n",
       "      <td>0.672667</td>\n",
       "    </tr>\n",
       "    <tr>\n",
       "      <th>5</th>\n",
       "      <td>GradientBoostingClassifier(random_state=0)</td>\n",
       "      <td>0.015095</td>\n",
       "      <td>50.956384</td>\n",
       "      <td>0.454792</td>\n",
       "      <td>0.645370</td>\n",
       "      <td>0.695102</td>\n",
       "    </tr>\n",
       "  </tbody>\n",
       "</table>\n",
       "</div>"
      ],
      "text/plain": [
       "                                       Modèle  Hamming_loss  Jaccard_score  \\\n",
       "0                   LinearSVC(random_state=0)      0.013044      54.489512   \n",
       "1      RandomForestClassifier(random_state=0)      0.016042      34.162042   \n",
       "2                                Perceptron()      0.017880      50.188791   \n",
       "3          LogisticRegression(random_state=0)      0.015527      42.206302   \n",
       "4               SGDClassifier(random_state=0)      0.014688      45.168445   \n",
       "5  GradientBoostingClassifier(random_state=0)      0.015095      50.956384   \n",
       "\n",
       "   Accuracy_score  Macro_f1_score  Micro_f1_score  \n",
       "0        0.520896        0.680502        0.736974  \n",
       "1        0.422745        0.452731        0.621324  \n",
       "2        0.431384        0.643205        0.680088  \n",
       "3        0.429275        0.567194        0.653048  \n",
       "4        0.455998        0.578660        0.672667  \n",
       "5        0.454792        0.645370        0.695102  "
      ]
     },
     "execution_count": 100,
     "metadata": {},
     "output_type": "execute_result"
    }
   ],
   "source": [
    "results"
   ]
  },
  {
   "cell_type": "code",
   "execution_count": 101,
   "metadata": {},
   "outputs": [],
   "source": [
    "from time import time\n",
    "from sklearn.pipeline import Pipeline\n",
    "from sklearn.model_selection import GridSearchCV"
   ]
  },
  {
   "cell_type": "code",
   "execution_count": 102,
   "metadata": {},
   "outputs": [
    {
     "name": "stderr",
     "output_type": "stream",
     "text": [
      "C:\\Users\\thiba\\anaconda3\\lib\\site-packages\\sklearn\\svm\\_base.py:976: ConvergenceWarning: Liblinear failed to converge, increase the number of iterations.\n",
      "  warnings.warn(\"Liblinear failed to converge, increase \"\n",
      "C:\\Users\\thiba\\anaconda3\\lib\\site-packages\\sklearn\\svm\\_base.py:976: ConvergenceWarning: Liblinear failed to converge, increase the number of iterations.\n",
      "  warnings.warn(\"Liblinear failed to converge, increase \"\n"
     ]
    },
    {
     "name": "stdout",
     "output_type": "stream",
     "text": [
      "Accuracy Score:  0.5208961221619449\n",
      "done in 608.652s.\n"
     ]
    },
    {
     "data": {
      "text/plain": [
       "Pipeline(steps=[('clf',\n",
       "                 MultiOutputClassifier(estimator=LinearSVC(C=1,\n",
       "                                                           max_iter=20000)))])"
      ]
     },
     "execution_count": 102,
     "metadata": {},
     "output_type": "execute_result"
    }
   ],
   "source": [
    "t0 = time()\n",
    "pipeline = Pipeline([('clf', MultiOutputClassifier(LinearSVC()))])\n",
    "parameters = {\n",
    "     \"clf__estimator__C\": np.arange(1,20,2),     \n",
    "     \"clf__estimator__max_iter\":[1000, 10000, 20000]\n",
    "}\n",
    "\n",
    "model_tunning = GridSearchCV(pipeline, parameters, cv=3, scoring='accuracy')\n",
    "model_tunning.fit(X_train, y_train)\n",
    "\n",
    "print (\"Accuracy Score: \", accuracy_score(y_test, model_tunning.best_estimator_.predict(X_test)))\n",
    "print(\"done in %0.3fs.\" % (time() - t0))\n",
    "model_tunning.best_estimator_"
   ]
  },
  {
   "cell_type": "code",
   "execution_count": 103,
   "metadata": {},
   "outputs": [
    {
     "data": {
      "text/plain": [
       "{'clf__estimator__C': 1, 'clf__estimator__max_iter': 20000}"
      ]
     },
     "execution_count": 103,
     "metadata": {},
     "output_type": "execute_result"
    }
   ],
   "source": [
    "model_tunning.best_params_"
   ]
  },
  {
   "cell_type": "raw",
   "metadata": {},
   "source": [
    "parameters = {'estimator__C': np.arange(1,20,1), \n",
    "              'estimator__max_iter': [10, 100, 200,1000, 2000, 3000, 4000, 5000],\n",
    "              'estimator__penalty': ['l1','l2'],\n",
    "              'estimator__loss': ['hinge','squared_hinge'],\n",
    "              'estimator__tol': [.000001,.00001,.0001]}\n",
    "grid_cv = GridSearchCV(OneVsRestClassifier(LinearSVC()), parameters,scoring='accuracy')\n",
    "grid_cv.fit(X_train, y_train)"
   ]
  },
  {
   "cell_type": "code",
   "execution_count": 104,
   "metadata": {},
   "outputs": [
    {
     "data": {
      "text/plain": [
       "54.48951211762784"
      ]
     },
     "execution_count": 104,
     "metadata": {},
     "output_type": "execute_result"
    }
   ],
   "source": [
    "jaccard_score( model_tunning.best_estimator_.predict(X_test),y_test,average='macro')*100"
   ]
  },
  {
   "cell_type": "code",
   "execution_count": 105,
   "metadata": {},
   "outputs": [],
   "source": [
    "def errors_grid(name,X_train, y_train,X_test,y_test):\n",
    "    global results\n",
    "    model=LinearSVC(C=1, max_iter=20000)\n",
    "    clf = MultiOutputClassifier(model)\n",
    "    clf.fit(X_train, y_train)\n",
    "    y_pred = clf.predict(X_test)\n",
    "    results = results.append(pd.DataFrame({\n",
    "        'Modèle': [name],\n",
    "        'Hamming_loss':hamming_loss(y_pred, y_test),\n",
    "        'Jaccard_score':jaccard_score(y_pred, y_test,average='macro')*100,\n",
    "        'Accuracy_score':accuracy_score(y_pred, y_test),\n",
    "        'Macro_f1_score':f1_score(y_test, y_pred,average='macro'),\n",
    "        'Micro_f1_score':f1_score(y_test, y_pred,average='micro')}),ignore_index=True)"
   ]
  },
  {
   "cell_type": "code",
   "execution_count": 106,
   "metadata": {},
   "outputs": [],
   "source": [
    "errors_grid('LinearSVC(C=1, max_iter=20000)',X_train, y_train,X_test,y_test)"
   ]
  },
  {
   "cell_type": "code",
   "execution_count": 107,
   "metadata": {},
   "outputs": [
    {
     "data": {
      "text/html": [
       "<div>\n",
       "<style scoped>\n",
       "    .dataframe tbody tr th:only-of-type {\n",
       "        vertical-align: middle;\n",
       "    }\n",
       "\n",
       "    .dataframe tbody tr th {\n",
       "        vertical-align: top;\n",
       "    }\n",
       "\n",
       "    .dataframe thead th {\n",
       "        text-align: right;\n",
       "    }\n",
       "</style>\n",
       "<table border=\"1\" class=\"dataframe\">\n",
       "  <thead>\n",
       "    <tr style=\"text-align: right;\">\n",
       "      <th></th>\n",
       "      <th>Modèle</th>\n",
       "      <th>Hamming_loss</th>\n",
       "      <th>Jaccard_score</th>\n",
       "      <th>Accuracy_score</th>\n",
       "      <th>Macro_f1_score</th>\n",
       "      <th>Micro_f1_score</th>\n",
       "    </tr>\n",
       "  </thead>\n",
       "  <tbody>\n",
       "    <tr>\n",
       "      <th>0</th>\n",
       "      <td>LinearSVC(random_state=0)</td>\n",
       "      <td>0.013044</td>\n",
       "      <td>54.489512</td>\n",
       "      <td>0.520896</td>\n",
       "      <td>0.680502</td>\n",
       "      <td>0.736974</td>\n",
       "    </tr>\n",
       "    <tr>\n",
       "      <th>1</th>\n",
       "      <td>RandomForestClassifier(random_state=0)</td>\n",
       "      <td>0.016042</td>\n",
       "      <td>34.162042</td>\n",
       "      <td>0.422745</td>\n",
       "      <td>0.452731</td>\n",
       "      <td>0.621324</td>\n",
       "    </tr>\n",
       "    <tr>\n",
       "      <th>2</th>\n",
       "      <td>Perceptron()</td>\n",
       "      <td>0.017880</td>\n",
       "      <td>50.188791</td>\n",
       "      <td>0.431384</td>\n",
       "      <td>0.643205</td>\n",
       "      <td>0.680088</td>\n",
       "    </tr>\n",
       "    <tr>\n",
       "      <th>3</th>\n",
       "      <td>LogisticRegression(random_state=0)</td>\n",
       "      <td>0.015527</td>\n",
       "      <td>42.206302</td>\n",
       "      <td>0.429275</td>\n",
       "      <td>0.567194</td>\n",
       "      <td>0.653048</td>\n",
       "    </tr>\n",
       "    <tr>\n",
       "      <th>4</th>\n",
       "      <td>SGDClassifier(random_state=0)</td>\n",
       "      <td>0.014688</td>\n",
       "      <td>45.168445</td>\n",
       "      <td>0.455998</td>\n",
       "      <td>0.578660</td>\n",
       "      <td>0.672667</td>\n",
       "    </tr>\n",
       "    <tr>\n",
       "      <th>5</th>\n",
       "      <td>GradientBoostingClassifier(random_state=0)</td>\n",
       "      <td>0.015095</td>\n",
       "      <td>50.956384</td>\n",
       "      <td>0.454792</td>\n",
       "      <td>0.645370</td>\n",
       "      <td>0.695102</td>\n",
       "    </tr>\n",
       "    <tr>\n",
       "      <th>6</th>\n",
       "      <td>LinearSVC(C=1, max_iter=20000)</td>\n",
       "      <td>0.013044</td>\n",
       "      <td>54.489512</td>\n",
       "      <td>0.520896</td>\n",
       "      <td>0.680502</td>\n",
       "      <td>0.736974</td>\n",
       "    </tr>\n",
       "  </tbody>\n",
       "</table>\n",
       "</div>"
      ],
      "text/plain": [
       "                                       Modèle  Hamming_loss  Jaccard_score  \\\n",
       "0                   LinearSVC(random_state=0)      0.013044      54.489512   \n",
       "1      RandomForestClassifier(random_state=0)      0.016042      34.162042   \n",
       "2                                Perceptron()      0.017880      50.188791   \n",
       "3          LogisticRegression(random_state=0)      0.015527      42.206302   \n",
       "4               SGDClassifier(random_state=0)      0.014688      45.168445   \n",
       "5  GradientBoostingClassifier(random_state=0)      0.015095      50.956384   \n",
       "6              LinearSVC(C=1, max_iter=20000)      0.013044      54.489512   \n",
       "\n",
       "   Accuracy_score  Macro_f1_score  Micro_f1_score  \n",
       "0        0.520896        0.680502        0.736974  \n",
       "1        0.422745        0.452731        0.621324  \n",
       "2        0.431384        0.643205        0.680088  \n",
       "3        0.429275        0.567194        0.653048  \n",
       "4        0.455998        0.578660        0.672667  \n",
       "5        0.454792        0.645370        0.695102  \n",
       "6        0.520896        0.680502        0.736974  "
      ]
     },
     "execution_count": 107,
     "metadata": {},
     "output_type": "execute_result"
    }
   ],
   "source": [
    "results"
   ]
  },
  {
   "cell_type": "raw",
   "metadata": {},
   "source": [
    "Essai modification pour github"
   ]
  },
  {
   "cell_type": "code",
   "execution_count": null,
   "metadata": {},
   "outputs": [],
   "source": []
  }
 ],
 "metadata": {
  "kernelspec": {
   "display_name": "Python 3",
   "language": "python",
   "name": "python3"
  },
  "language_info": {
   "codemirror_mode": {
    "name": "ipython",
    "version": 3
   },
   "file_extension": ".py",
   "mimetype": "text/x-python",
   "name": "python",
   "nbconvert_exporter": "python",
   "pygments_lexer": "ipython3",
   "version": "3.8.5"
  }
 },
 "nbformat": 4,
 "nbformat_minor": 4
}
