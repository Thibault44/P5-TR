{
 "cells": [
  {
   "cell_type": "code",
   "execution_count": 1,
   "metadata": {},
   "outputs": [],
   "source": [
    "# tables\n",
    "import pandas as pd\n",
    "import numpy as np\n",
    "# graphics\n",
    "import seaborn as sns\n",
    "import matplotlib.pyplot as plt\n",
    "\n",
    "#Preprocecing\n",
    "from nltk.corpus import stopwords\n",
    "import nltk\n",
    "import collections\n",
    "import re\n",
    "from bs4 import BeautifulSoup\n",
    "\n",
    "#LDA\n",
    "from sklearn.feature_extraction.text import TfidfVectorizer\n",
    "from sklearn.decomposition import LatentDirichletAllocation as LDA\n",
    "\n",
    "#gensim\n",
    "import gensim.corpora as corpora\n",
    "from gensim.models import CoherenceModel\n",
    "import gensim\n",
    "\n",
    "#essai\n",
    "from sklearn.decomposition import PCA\n",
    "from sklearn.manifold import TSNE\n",
    "import matplotlib.cm as cm\n",
    "from sklearn.cluster import MiniBatchKMeans\n",
    "\n",
    "#Supervisée\n",
    "from sklearn.datasets import make_multilabel_classification\n",
    "from sklearn.multioutput import MultiOutputClassifier\n",
    "from sklearn.neighbors import KNeighborsClassifier\n",
    "\n",
    "from sklearn.model_selection import train_test_split\n",
    "\n",
    "from sklearn.multiclass import OneVsRestClassifier\n",
    "from sklearn.preprocessing import MultiLabelBinarizer\n",
    "\n",
    "#models\n",
    "from sklearn.svm import LinearSVC\n",
    "from sklearn.ensemble import RandomForestClassifier, GradientBoostingClassifier\n",
    "from sklearn.linear_model import Perceptron, LogisticRegression, SGDClassifier\n",
    "\n",
    "#metrics\n",
    "from sklearn.metrics import hamming_loss,accuracy_score, classification_report,jaccard_score,f1_score\n",
    "\n",
    "#GridSearchCV\n",
    "from time import time\n",
    "from sklearn.pipeline import Pipeline\n",
    "from sklearn.model_selection import GridSearchCV\n",
    "\n",
    "import pyLDAvis\n",
    "import pyLDAvis.gensim_models\n",
    "import pyLDAvis.sklearn\n",
    "pyLDAvis.enable_notebook()\n",
    "\n",
    "#On ignore les DeprecationWarning car un souci lié à pyLDAvis en affiche beaucoup \n",
    "#mais mon mentor et moi meme n'avons pas réussi à résoudre le problème.\n",
    "import warnings\n",
    "warnings.filterwarnings(\"ignore\", category=DeprecationWarning)"
   ]
  },
  {
   "cell_type": "markdown",
   "metadata": {},
   "source": [
    "# P5-IML-Catégorisez automatiquement des questions"
   ]
  },
  {
   "cell_type": "code",
   "execution_count": 2,
   "metadata": {},
   "outputs": [],
   "source": [
    "#Import des datasets \n",
    "df=pd.read_csv(\"QueryResults_1.csv\", sep=',',encoding = 'UTF-8')\n",
    "df=df.append(pd.read_csv(\"QueryResults_2.csv\", sep=',',encoding = 'UTF-8'),ignore_index = True)"
   ]
  },
  {
   "cell_type": "raw",
   "metadata": {},
   "source": [
    "Pour récuperer les données en SQL, j'ai fait le choix de conserver uniquement les questions n'ayant pas de valeurs manquantes dans Titre, Body et Tags et celles dont le score est sepérieur à 80."
   ]
  },
  {
   "cell_type": "code",
   "execution_count": 3,
   "metadata": {},
   "outputs": [
    {
     "name": "stdout",
     "output_type": "stream",
     "text": [
      "Body\n",
      "(58903,)\n",
      "(58903,)\n",
      "Title\n",
      "(58903,)\n",
      "(58898,)\n",
      "Tags\n",
      "(58903,)\n",
      "(41457,)\n"
     ]
    }
   ],
   "source": [
    "print(\"Body\")\n",
    "print(df.Body.shape)\n",
    "print(df.Body.drop_duplicates().shape)\n",
    "print(\"Title\")\n",
    "print(df.Title.shape)\n",
    "print(df.Title.drop_duplicates().shape)\n",
    "print(\"Tags\")\n",
    "print(df.Tags.shape)\n",
    "print(df.Tags.drop_duplicates().shape)"
   ]
  },
  {
   "cell_type": "code",
   "execution_count": 4,
   "metadata": {},
   "outputs": [
    {
     "data": {
      "text/plain": [
       "(58903, 4)"
      ]
     },
     "execution_count": 4,
     "metadata": {},
     "output_type": "execute_result"
    }
   ],
   "source": [
    "df.shape"
   ]
  },
  {
   "cell_type": "markdown",
   "metadata": {},
   "source": [
    "# Les prétraitements"
   ]
  },
  {
   "cell_type": "markdown",
   "metadata": {},
   "source": [
    "### Fonctions"
   ]
  },
  {
   "cell_type": "code",
   "execution_count": 5,
   "metadata": {},
   "outputs": [],
   "source": [
    "#fontion de 'tokenisation' pour df.Title et df.Body\n",
    "def token(text):\n",
    "    text=re.sub('[^a-zA-Z0-9#+]', ' ',BeautifulSoup(text, \"lxml\").get_text() ).lower().split()\n",
    "    return text"
   ]
  },
  {
   "cell_type": "code",
   "execution_count": 6,
   "metadata": {},
   "outputs": [],
   "source": [
    "stop = stopwords.words('english')"
   ]
  },
  {
   "cell_type": "code",
   "execution_count": 7,
   "metadata": {},
   "outputs": [],
   "source": [
    "sno = nltk.stem.SnowballStemmer('english')\n",
    "def stemmer(s):\n",
    "    s = [sno.stem(word) for word in s if word not in (stop)]\n",
    "    return s"
   ]
  },
  {
   "cell_type": "markdown",
   "metadata": {},
   "source": [
    "### Body"
   ]
  },
  {
   "cell_type": "code",
   "execution_count": 8,
   "metadata": {},
   "outputs": [
    {
     "data": {
      "text/plain": [
       "'<p>I want to use a <code>Track-Bar</code> to change a <code>Form</code>\\'s opacity.</p>\\n<p>This is my code:</p>\\n<pre class=\"lang-cs prettyprint-override\"><code>decimal trans = trackBar1.Value / 5000;\\nthis.Opacity = trans;\\n</code></pre>\\n<p>When I build the application, it gives the following error:</p>\\n<blockquote>\\n<pre class=\"lang-none prettyprint-override\"><code>Cannot implicitly convert type decimal to double\\n</code></pre>\\n</blockquote>\\n<p>I have tried using <code>trans</code> and <code>double</code>, but then the <code>Control</code> doesn\\'t work. This code worked fine in a past VB.NET project.</p>\\n'"
      ]
     },
     "execution_count": 8,
     "metadata": {},
     "output_type": "execute_result"
    }
   ],
   "source": [
    "df.Body.iloc[0]"
   ]
  },
  {
   "cell_type": "code",
   "execution_count": 9,
   "metadata": {},
   "outputs": [],
   "source": [
    "df.Body=df.Body.map(token)"
   ]
  },
  {
   "cell_type": "code",
   "execution_count": 10,
   "metadata": {},
   "outputs": [
    {
     "data": {
      "text/plain": [
       "0        [i, want, to, use, a, track, bar, to, change, ...\n",
       "1        [i, have, an, absolutely, positioned, div, con...\n",
       "2        [given, a, datetime, representing, a, person, ...\n",
       "3        [given, a, specific, datetime, value, how, do,...\n",
       "4        [is, there, a, standard, way, for, a, web, ser...\n",
       "                               ...                        \n",
       "58898    [every, time, i, try, npm, install, i, get, th...\n",
       "58899    [i, am, reading, a, book, programming, with, p...\n",
       "58900    [we, re, currently, migrating, from, java, 8, ...\n",
       "58901    [all, of, a, sudden, i, am, getting, this, bui...\n",
       "58902    [i, have, a, fairly, complex, maths, library, ...\n",
       "Name: Body, Length: 58903, dtype: object"
      ]
     },
     "execution_count": 10,
     "metadata": {},
     "output_type": "execute_result"
    }
   ],
   "source": [
    "df.Body"
   ]
  },
  {
   "cell_type": "code",
   "execution_count": 11,
   "metadata": {},
   "outputs": [],
   "source": [
    "df.Body=df.Body.apply(stemmer)"
   ]
  },
  {
   "cell_type": "code",
   "execution_count": 12,
   "metadata": {},
   "outputs": [
    {
     "data": {
      "text/plain": [
       "0        [want, use, track, bar, chang, form, opac, cod...\n",
       "1        [absolut, posit, div, contain, sever, children...\n",
       "2        [given, datetim, repres, person, birthday, cal...\n",
       "3        [given, specif, datetim, valu, display, relat,...\n",
       "4        [standard, way, web, server, abl, determin, us...\n",
       "                               ...                        \n",
       "58898    [everi, time, tri, npm, instal, get, follow, e...\n",
       "58899    [read, book, program, posix, thread, butenhof,...\n",
       "58900    [current, migrat, java, 8, java, 11, howev, up...\n",
       "58901    [sudden, get, build, error, android, project, ...\n",
       "58902    [fair, complex, math, librari, work, discov, n...\n",
       "Name: Body, Length: 58903, dtype: object"
      ]
     },
     "execution_count": 12,
     "metadata": {},
     "output_type": "execute_result"
    }
   ],
   "source": [
    "df.Body"
   ]
  },
  {
   "cell_type": "markdown",
   "metadata": {},
   "source": [
    "### Title"
   ]
  },
  {
   "cell_type": "code",
   "execution_count": 13,
   "metadata": {},
   "outputs": [],
   "source": [
    "df=df.drop_duplicates(subset=['Title'])"
   ]
  },
  {
   "cell_type": "code",
   "execution_count": 14,
   "metadata": {},
   "outputs": [
    {
     "data": {
      "text/plain": [
       "'How to convert a Decimal to a Double in C#?'"
      ]
     },
     "execution_count": 14,
     "metadata": {},
     "output_type": "execute_result"
    }
   ],
   "source": [
    "df.Title.iloc[0]"
   ]
  },
  {
   "cell_type": "code",
   "execution_count": 15,
   "metadata": {},
   "outputs": [
    {
     "data": {
      "text/plain": [
       "0              How to convert a Decimal to a Double in C#?\n",
       "1        Why did the width collapse in the percentage w...\n",
       "2        How do I calculate someone's age based on a Da...\n",
       "3                            Calculate relative time in C#\n",
       "4                              Determine a user's timezone\n",
       "                               ...                        \n",
       "58898    `npm install` fails on node-gyp rebuild with `...\n",
       "58899                Why cast free's return value to void?\n",
       "58900    Is there any need to switch to modules when mi...\n",
       "58901    How to fix \"unexpected element <queries> found...\n",
       "58902    How can I make my class immune to the \"auto va...\n",
       "Name: Title, Length: 58898, dtype: object"
      ]
     },
     "execution_count": 15,
     "metadata": {},
     "output_type": "execute_result"
    }
   ],
   "source": [
    "df.Title"
   ]
  },
  {
   "cell_type": "code",
   "execution_count": 16,
   "metadata": {},
   "outputs": [],
   "source": [
    "df.Title=df.Title.map(token)"
   ]
  },
  {
   "cell_type": "code",
   "execution_count": 17,
   "metadata": {},
   "outputs": [],
   "source": [
    "df.Title=df.Title.apply(stemmer)"
   ]
  },
  {
   "cell_type": "code",
   "execution_count": 18,
   "metadata": {},
   "outputs": [
    {
     "data": {
      "text/plain": [
       "0                              [convert, decim, doubl, c#]\n",
       "1        [width, collaps, percentag, width, child, elem...\n",
       "2        [calcul, someon, age, base, datetim, type, bir...\n",
       "3                                [calcul, relat, time, c#]\n",
       "4                                [determin, user, timezon]\n",
       "                               ...                        \n",
       "58898    [npm, instal, fail, node, gyp, rebuild, gyp, x...\n",
       "58899                     [cast, free, return, valu, void]\n",
       "58900    [need, switch, modul, migrat, java, 9+, java, 11]\n",
       "58901               [fix, unexpect, element, found, error]\n",
       "58902    [make, class, immun, auto, valu, copi, proxi, ...\n",
       "Name: Title, Length: 58898, dtype: object"
      ]
     },
     "execution_count": 18,
     "metadata": {},
     "output_type": "execute_result"
    }
   ],
   "source": [
    "df.Title"
   ]
  },
  {
   "cell_type": "markdown",
   "metadata": {},
   "source": [
    "### Tags"
   ]
  },
  {
   "cell_type": "code",
   "execution_count": 19,
   "metadata": {},
   "outputs": [
    {
     "data": {
      "text/plain": [
       "'<c#><floating-point><type-conversion><double><decimal>'"
      ]
     },
     "execution_count": 19,
     "metadata": {},
     "output_type": "execute_result"
    }
   ],
   "source": [
    "df.Tags.iloc[0]"
   ]
  },
  {
   "cell_type": "code",
   "execution_count": 20,
   "metadata": {},
   "outputs": [],
   "source": [
    "df.Tags=df[\"Tags\"].map(lambda field:field[1:-1].split('><'))"
   ]
  },
  {
   "cell_type": "code",
   "execution_count": 21,
   "metadata": {},
   "outputs": [
    {
     "data": {
      "text/plain": [
       "0        [c#, floating-point, type-conversion, double, ...\n",
       "1                         [html, css, internet-explorer-7]\n",
       "2                                     [c#, .net, datetime]\n",
       "3        [c#, datetime, time, datediff, relative-time-s...\n",
       "4        [html, browser, timezone, user-agent, timezone...\n",
       "                               ...                        \n",
       "58898    [node.js, npm, terminal, macos-catalina, node-...\n",
       "58899                [c, casting, free, void, legacy-code]\n",
       "58900         [java, java-11, java-platform-module-system]\n",
       "58901    [android, android-gradle-plugin, android-manif...\n",
       "58902                               [c++, copy-assignment]\n",
       "Name: Tags, Length: 58898, dtype: object"
      ]
     },
     "execution_count": 21,
     "metadata": {},
     "output_type": "execute_result"
    }
   ],
   "source": [
    "df.Tags"
   ]
  },
  {
   "cell_type": "code",
   "execution_count": 22,
   "metadata": {},
   "outputs": [
    {
     "data": {
      "text/html": [
       "<div>\n",
       "<style scoped>\n",
       "    .dataframe tbody tr th:only-of-type {\n",
       "        vertical-align: middle;\n",
       "    }\n",
       "\n",
       "    .dataframe tbody tr th {\n",
       "        vertical-align: top;\n",
       "    }\n",
       "\n",
       "    .dataframe thead th {\n",
       "        text-align: right;\n",
       "    }\n",
       "</style>\n",
       "<table border=\"1\" class=\"dataframe\">\n",
       "  <thead>\n",
       "    <tr style=\"text-align: right;\">\n",
       "      <th></th>\n",
       "      <th>Id</th>\n",
       "      <th>Body</th>\n",
       "      <th>Title</th>\n",
       "      <th>Tags</th>\n",
       "    </tr>\n",
       "  </thead>\n",
       "  <tbody>\n",
       "    <tr>\n",
       "      <th>0</th>\n",
       "      <td>4</td>\n",
       "      <td>[want, use, track, bar, chang, form, opac, cod...</td>\n",
       "      <td>[convert, decim, doubl, c#]</td>\n",
       "      <td>[c#, floating-point, type-conversion, double, ...</td>\n",
       "    </tr>\n",
       "    <tr>\n",
       "      <th>1</th>\n",
       "      <td>6</td>\n",
       "      <td>[absolut, posit, div, contain, sever, children...</td>\n",
       "      <td>[width, collaps, percentag, width, child, elem...</td>\n",
       "      <td>[html, css, internet-explorer-7]</td>\n",
       "    </tr>\n",
       "    <tr>\n",
       "      <th>2</th>\n",
       "      <td>9</td>\n",
       "      <td>[given, datetim, repres, person, birthday, cal...</td>\n",
       "      <td>[calcul, someon, age, base, datetim, type, bir...</td>\n",
       "      <td>[c#, .net, datetime]</td>\n",
       "    </tr>\n",
       "    <tr>\n",
       "      <th>3</th>\n",
       "      <td>11</td>\n",
       "      <td>[given, specif, datetim, valu, display, relat,...</td>\n",
       "      <td>[calcul, relat, time, c#]</td>\n",
       "      <td>[c#, datetime, time, datediff, relative-time-s...</td>\n",
       "    </tr>\n",
       "    <tr>\n",
       "      <th>4</th>\n",
       "      <td>13</td>\n",
       "      <td>[standard, way, web, server, abl, determin, us...</td>\n",
       "      <td>[determin, user, timezon]</td>\n",
       "      <td>[html, browser, timezone, user-agent, timezone...</td>\n",
       "    </tr>\n",
       "    <tr>\n",
       "      <th>...</th>\n",
       "      <td>...</td>\n",
       "      <td>...</td>\n",
       "      <td>...</td>\n",
       "      <td>...</td>\n",
       "    </tr>\n",
       "    <tr>\n",
       "      <th>58898</th>\n",
       "      <td>60573595</td>\n",
       "      <td>[everi, time, tri, npm, instal, get, follow, e...</td>\n",
       "      <td>[npm, instal, fail, node, gyp, rebuild, gyp, x...</td>\n",
       "      <td>[node.js, npm, terminal, macos-catalina, node-...</td>\n",
       "    </tr>\n",
       "    <tr>\n",
       "      <th>58899</th>\n",
       "      <td>60625906</td>\n",
       "      <td>[read, book, program, posix, thread, butenhof,...</td>\n",
       "      <td>[cast, free, return, valu, void]</td>\n",
       "      <td>[c, casting, free, void, legacy-code]</td>\n",
       "    </tr>\n",
       "    <tr>\n",
       "      <th>58900</th>\n",
       "      <td>62950667</td>\n",
       "      <td>[current, migrat, java, 8, java, 11, howev, up...</td>\n",
       "      <td>[need, switch, modul, migrat, java, 9+, java, 11]</td>\n",
       "      <td>[java, java-11, java-platform-module-system]</td>\n",
       "    </tr>\n",
       "    <tr>\n",
       "      <th>58901</th>\n",
       "      <td>62969917</td>\n",
       "      <td>[sudden, get, build, error, android, project, ...</td>\n",
       "      <td>[fix, unexpect, element, found, error]</td>\n",
       "      <td>[android, android-gradle-plugin, android-manif...</td>\n",
       "    </tr>\n",
       "    <tr>\n",
       "      <th>58902</th>\n",
       "      <td>66930450</td>\n",
       "      <td>[fair, complex, math, librari, work, discov, n...</td>\n",
       "      <td>[make, class, immun, auto, valu, copi, proxi, ...</td>\n",
       "      <td>[c++, copy-assignment]</td>\n",
       "    </tr>\n",
       "  </tbody>\n",
       "</table>\n",
       "<p>58898 rows × 4 columns</p>\n",
       "</div>"
      ],
      "text/plain": [
       "             Id                                               Body  \\\n",
       "0             4  [want, use, track, bar, chang, form, opac, cod...   \n",
       "1             6  [absolut, posit, div, contain, sever, children...   \n",
       "2             9  [given, datetim, repres, person, birthday, cal...   \n",
       "3            11  [given, specif, datetim, valu, display, relat,...   \n",
       "4            13  [standard, way, web, server, abl, determin, us...   \n",
       "...         ...                                                ...   \n",
       "58898  60573595  [everi, time, tri, npm, instal, get, follow, e...   \n",
       "58899  60625906  [read, book, program, posix, thread, butenhof,...   \n",
       "58900  62950667  [current, migrat, java, 8, java, 11, howev, up...   \n",
       "58901  62969917  [sudden, get, build, error, android, project, ...   \n",
       "58902  66930450  [fair, complex, math, librari, work, discov, n...   \n",
       "\n",
       "                                                   Title  \\\n",
       "0                            [convert, decim, doubl, c#]   \n",
       "1      [width, collaps, percentag, width, child, elem...   \n",
       "2      [calcul, someon, age, base, datetim, type, bir...   \n",
       "3                              [calcul, relat, time, c#]   \n",
       "4                              [determin, user, timezon]   \n",
       "...                                                  ...   \n",
       "58898  [npm, instal, fail, node, gyp, rebuild, gyp, x...   \n",
       "58899                   [cast, free, return, valu, void]   \n",
       "58900  [need, switch, modul, migrat, java, 9+, java, 11]   \n",
       "58901             [fix, unexpect, element, found, error]   \n",
       "58902  [make, class, immun, auto, valu, copi, proxi, ...   \n",
       "\n",
       "                                                    Tags  \n",
       "0      [c#, floating-point, type-conversion, double, ...  \n",
       "1                       [html, css, internet-explorer-7]  \n",
       "2                                   [c#, .net, datetime]  \n",
       "3      [c#, datetime, time, datediff, relative-time-s...  \n",
       "4      [html, browser, timezone, user-agent, timezone...  \n",
       "...                                                  ...  \n",
       "58898  [node.js, npm, terminal, macos-catalina, node-...  \n",
       "58899              [c, casting, free, void, legacy-code]  \n",
       "58900       [java, java-11, java-platform-module-system]  \n",
       "58901  [android, android-gradle-plugin, android-manif...  \n",
       "58902                             [c++, copy-assignment]  \n",
       "\n",
       "[58898 rows x 4 columns]"
      ]
     },
     "execution_count": 22,
     "metadata": {},
     "output_type": "execute_result"
    }
   ],
   "source": [
    "df"
   ]
  },
  {
   "cell_type": "markdown",
   "metadata": {},
   "source": [
    "# Analyse univariée"
   ]
  },
  {
   "cell_type": "markdown",
   "metadata": {},
   "source": [
    "## Analyse et gestion des tags"
   ]
  },
  {
   "cell_type": "code",
   "execution_count": 23,
   "metadata": {},
   "outputs": [
    {
     "name": "stderr",
     "output_type": "stream",
     "text": [
      "C:\\Users\\thiba\\anaconda3\\lib\\site-packages\\seaborn\\_decorators.py:36: FutureWarning: Pass the following variable as a keyword arg: x. From version 0.12, the only valid positional argument will be `data`, and passing other arguments without an explicit keyword will result in an error or misinterpretation.\n",
      "  warnings.warn(\n"
     ]
    },
    {
     "data": {
      "image/png": "[encoded data removed]",
      "text/plain": [
       "<Figure size 432x288 with 1 Axes>"
      ]
     },
     "metadata": {
      "needs_background": "light"
     },
     "output_type": "display_data"
    }
   ],
   "source": [
    "sns.countplot(df.Tags.map(lambda field:len(field)))\n",
    "plt.title(\"nbr de tags par post\")\n",
    "plt.show()"
   ]
  },
  {
   "cell_type": "code",
   "execution_count": 24,
   "metadata": {},
   "outputs": [],
   "source": [
    "all_tags=[]\n",
    "for i in df.Tags:\n",
    "    for j in i:\n",
    "        all_tags.append(j)"
   ]
  },
  {
   "cell_type": "code",
   "execution_count": 25,
   "metadata": {},
   "outputs": [
    {
     "name": "stderr",
     "output_type": "stream",
     "text": [
      "C:\\Users\\thiba\\anaconda3\\lib\\site-packages\\seaborn\\_decorators.py:36: FutureWarning: Pass the following variables as keyword args: x, y. From version 0.12, the only valid positional argument will be `data`, and passing other arguments without an explicit keyword will result in an error or misinterpretation.\n",
      "  warnings.warn(\n"
     ]
    },
    {
     "data": {
      "image/png": "[encoded data removed]",
      "text/plain": [
       "<Figure size 720x720 with 1 Axes>"
      ]
     },
     "metadata": {
      "needs_background": "light"
     },
     "output_type": "display_data"
    }
   ],
   "source": [
    "#Affichage des 70 Tags les plus présent\n",
    "counter=collections.Counter(all_tags)\n",
    "common = counter.most_common(70)\n",
    "labels = [item[0] for item in common]\n",
    "number = [item[1] for item in common]\n",
    "\n",
    "plt.figure(figsize=(10,10))\n",
    "sns.barplot(number, labels)\n",
    "plt.title(\"Les 50 Tags les plus présent\")\n",
    "plt.show()"
   ]
  },
  {
   "cell_type": "code",
   "execution_count": 26,
   "metadata": {},
   "outputs": [],
   "source": [
    "liste=[]\n",
    "for i in range(0,len(labels)):\n",
    "    if number[i]>500:\n",
    "        liste.append(labels[i])    "
   ]
  },
  {
   "cell_type": "code",
   "execution_count": 27,
   "metadata": {},
   "outputs": [],
   "source": [
    "def tags_to_keep(list):\n",
    "    list = [x for x in list if x in liste]\n",
    "    return list"
   ]
  },
  {
   "cell_type": "code",
   "execution_count": 28,
   "metadata": {},
   "outputs": [],
   "source": [
    "df.Tags=df.Tags.apply(tags_to_keep)"
   ]
  },
  {
   "cell_type": "code",
   "execution_count": 29,
   "metadata": {},
   "outputs": [],
   "source": [
    "df=df.reset_index()\n",
    "df=df.drop(['index'],axis=1)"
   ]
  },
  {
   "cell_type": "code",
   "execution_count": 30,
   "metadata": {},
   "outputs": [],
   "source": [
    "index_to_drop=[]\n",
    "for i in range(0,len(df)-1):\n",
    "    if len(df.Tags[i])==0:\n",
    "        index_to_drop.append(i)"
   ]
  },
  {
   "cell_type": "code",
   "execution_count": 31,
   "metadata": {},
   "outputs": [],
   "source": [
    "df.Tags=df.Tags.drop(index=index_to_drop,axis=0)"
   ]
  },
  {
   "cell_type": "code",
   "execution_count": 32,
   "metadata": {},
   "outputs": [],
   "source": [
    "df=df.dropna()"
   ]
  },
  {
   "cell_type": "code",
   "execution_count": 33,
   "metadata": {},
   "outputs": [
    {
     "name": "stderr",
     "output_type": "stream",
     "text": [
      "C:\\Users\\thiba\\anaconda3\\lib\\site-packages\\seaborn\\_decorators.py:36: FutureWarning: Pass the following variable as a keyword arg: x. From version 0.12, the only valid positional argument will be `data`, and passing other arguments without an explicit keyword will result in an error or misinterpretation.\n",
      "  warnings.warn(\n"
     ]
    },
    {
     "data": {
      "image/png": "[encoded data removed]",
      "text/plain": [
       "<Figure size 432x288 with 1 Axes>"
      ]
     },
     "metadata": {
      "needs_background": "light"
     },
     "output_type": "display_data"
    }
   ],
   "source": [
    "sns.countplot(df.Tags.map(lambda field:len(field)))\n",
    "plt.title(\"nbr de tags par post\")\n",
    "plt.show()"
   ]
  },
  {
   "cell_type": "markdown",
   "metadata": {},
   "source": [
    "## Analyse du texte"
   ]
  },
  {
   "cell_type": "code",
   "execution_count": 34,
   "metadata": {},
   "outputs": [],
   "source": [
    "df[\"Document\"] = (df.Title + df.Body)\n",
    "df=df.drop([\"Title\", \"Body\"], axis=1)"
   ]
  },
  {
   "cell_type": "code",
   "execution_count": 35,
   "metadata": {},
   "outputs": [],
   "source": [
    "all_words=[]\n",
    "for i in df.Document:\n",
    "    for j in i:\n",
    "        all_words.append(j)"
   ]
  },
  {
   "cell_type": "code",
   "execution_count": 36,
   "metadata": {},
   "outputs": [
    {
     "name": "stderr",
     "output_type": "stream",
     "text": [
      "C:\\Users\\thiba\\anaconda3\\lib\\site-packages\\seaborn\\_decorators.py:36: FutureWarning: Pass the following variables as keyword args: x, y. From version 0.12, the only valid positional argument will be `data`, and passing other arguments without an explicit keyword will result in an error or misinterpretation.\n",
      "  warnings.warn(\n"
     ]
    },
    {
     "data": {
      "image/png": "[encoded data removed]",
      "text/plain": [
       "<Figure size 720x720 with 1 Axes>"
      ]
     },
     "metadata": {
      "needs_background": "light"
     },
     "output_type": "display_data"
    }
   ],
   "source": [
    "#Affichage des 50 mots les plus présent dans df.Document\n",
    "counter=collections.Counter(all_words)\n",
    "common = counter.most_common(50)\n",
    "labels = [item[0] for item in common]\n",
    "number = [item[1] for item in common]\n",
    "\n",
    "plt.figure(figsize=(10,10))\n",
    "sns.barplot(number, labels)\n",
    "plt.title(\"Les 50 mots les plus présent dans df.Document\")\n",
    "plt.show()"
   ]
  },
  {
   "cell_type": "markdown",
   "metadata": {},
   "source": [
    "# Mettre en œuvre une approche non supervisée."
   ]
  },
  {
   "cell_type": "markdown",
   "metadata": {},
   "source": [
    "# LDA"
   ]
  },
  {
   "cell_type": "code",
   "execution_count": 37,
   "metadata": {},
   "outputs": [],
   "source": [
    "tfidf_vectorizer = TfidfVectorizer(\n",
    "    min_df=3,\n",
    "    max_df=0.85,\n",
    "    max_features=5000,\n",
    "    ngram_range=(1, 2),\n",
    "    preprocessor=' '.join\n",
    ")\n",
    "tfidf = tfidf_vectorizer.fit_transform(df.Document)"
   ]
  },
  {
   "cell_type": "code",
   "execution_count": 38,
   "metadata": {},
   "outputs": [],
   "source": [
    "from sklearn.decomposition import LatentDirichletAllocation"
   ]
  },
  {
   "cell_type": "code",
   "execution_count": 39,
   "metadata": {},
   "outputs": [],
   "source": [
    "lda =  LatentDirichletAllocation(n_components = 4)"
   ]
  },
  {
   "cell_type": "code",
   "execution_count": 40,
   "metadata": {},
   "outputs": [
    {
     "data": {
      "text/plain": [
       "LatentDirichletAllocation(n_components=4)"
      ]
     },
     "execution_count": 40,
     "metadata": {},
     "output_type": "execute_result"
    }
   ],
   "source": [
    "lda.fit(tfidf)"
   ]
  },
  {
   "cell_type": "code",
   "execution_count": 41,
   "metadata": {},
   "outputs": [
    {
     "data": {
      "text/plain": [
       "3333.0139101335976"
      ]
     },
     "execution_count": 41,
     "metadata": {},
     "output_type": "execute_result"
    }
   ],
   "source": [
    "lda.perplexity(tfidf)"
   ]
  },
  {
   "cell_type": "code",
   "execution_count": 42,
   "metadata": {},
   "outputs": [
    {
     "data": {
      "text/plain": [
       "-1836747.4820928741"
      ]
     },
     "execution_count": 42,
     "metadata": {},
     "output_type": "execute_result"
    }
   ],
   "source": [
    "lda.score(tfidf)"
   ]
  },
  {
   "cell_type": "code",
   "execution_count": 43,
   "metadata": {},
   "outputs": [
    {
     "data": {
      "text/html": [
       "\n",
       "<link rel=\"stylesheet\" type=\"text/css\" href=\"https://cdn.jsdelivr.net/gh/bmabey/pyLDAvis@3.3.1/pyLDAvis/js/ldavis.v1.0.0.css\">\n",
       "\n",
       "\n",
       "<div id=\"ldavis_el1175216372343010721767123083\"></div>\n",
       "<script type=\"text/javascript\">\n",
       "\n",
       "var ldavis_el1175216372343010721767123083_data = {\"mdsDat\": {\"x\": [0.1118148555665907, 0.10601307554853609, -0.0685002757073786, -0.14932765540774803], \"y\": [-0.037463371907113074, 0.07643671949068274, -0.12043108230586229, 0.08145773472229259], \"topics\": [1, 2, 3, 4], \"cluster\": [1, 1, 1, 1], \"Freq\": [33.46085178840344, 26.65802061612658, 22.52895303347905, 17.352174561990932]}, \"tinfo\": {\"Term\": [\"android\", \"git\", \"file\", \"string\", \"instal\", \"array\", \"json\", \"branch\", \"commit\", \"command\", \"sql\", \"databas\", \"directori\", \"packag\", \"project\", \"mysql\", \"version\", \"window\", \"tabl\", \"layout\", \"valu\", \"column\", \"class\", \"error\", \"int\", \"function\", \"div\", \"bash\", \"run\", \"date\", \"std\", \"enum\", \"myclass\", \"li\", \"decim\", \"uiview\", \"mm\", \"span\", \"ptr\", \"int int\", \"prop\", \"ul\", \"int main\", \"uitableview\", \"option valu\", \"uilabel\", \"printf\", \"millisecond\", \"li li\", \"tableview\", \"textarea\", \"uibutton\", \"yyyi\", \"immut\", \"cout\", \"sizeof\", \"nslog\", \"singleton\", \"random number\", \"uitextfield\", \"calendar\", \"pointer\", \"round\", \"subclass\", \"const\", \"struct\", \"checkbox\", \"int\", \"abstract\", \"anim\", \"func\", \"deleg\", \"static\", \"thread\", \"class\", \"float\", \"event\", \"div\", \"self\", \"constructor\", \"interfac\", \"element\", \"void\", \"method\", \"function\", \"button\", \"jqueri\", \"swift\", \"declar\", \"type\", \"foo\", \"implement\", \"differ\", \"object\", \"return\", \"use\", \"call\", \"list\", \"valu\", \"public\", \"code\", \"text\", \"java\", \"click\", \"like\", \"javascript\", \"way\", \"would\", \"exampl\", \"string\", \"one\", \"want\", \"python\", \"new\", \"get\", \"json\", \"datafram\", \"panda\", \"ng\", \"regular express\", \"charact string\", \"df\", \"net mvc\", \"cooki\", \"data frame\", \"nan\", \"csv\", \"firstnam\", \"panda datafram\", \"angularj\", \"numpi array\", \"json object\", \"lastnam\", \"flask\", \"csv file\", \"pd\", \"node modul\", \"string array\", \"split string\", \"content type\", \"regex\", \"delimit\", \"mongoos\", \"rout\", \"json file\", \"string contain\", \"angular\", \"substr\", \"entiti\", \"mvc\", \"00 00\", \"asp\", \"model\", \"join\", \"asp net\", \"datetim\", \"request\", \"array\", \"charact\", \"ajax\", \"date\", \"queri\", \"string\", \"column\", \"row\", \"respons\", \"url\", \"data\", \"00\", \"node\", \"convert\", \"js\", \"id\", \"name\", \"valu\", \"var\", \"php\", \"get\", \"http\", \"object\", \"key\", \"form\", \"user\", \"like\", \"return\", \"use\", \"function\", \"way\", \"list\", \"want\", \"git\", \"branch\", \"td\", \"use git\", \"ssh\", \"git repositori\", \"shell script\", \"checkout\", \"master\", \"gitignor\", \"rebas\", \"git commit\", \"commit\", \"git push\", \"stash\", \"fork\", \"git pull\", \"ctrl\", \"svn\", \"vim\", \"submodul\", \"git branch\", \"git diff\", \"batch\", \"git checkout\", \"git add\", \"bash script\", \"batch file\", \"td td\", \"tooltip\", \"shell\", \"repo\", \"remot\", \"github\", \"bash\", \"diff\", \"repositori\", \"directori\", \"visual studio\", \"histori\", \"command\", \"visual\", \"linux\", \"file\", \"command line\", \"window\", \"pull\", \"folder\", \"merg\", \"script\", \"imag\", \"push\", \"open\", \"run\", \"line\", \"studio\", \"project\", \"chang\", \"path\", \"use\", \"process\", \"work\", \"want\", \"way\", \"like\", \"get\", \"would\", \"tri\", \"code\", \"android layout\", \"pip\", \"gradl\", \"gem\", \"matplotlib\", \"drawabl\", \"varchar\", \"sqlite\", \"plt\", \"maven\", \"junit\", \"usr local\", \"py line\", \"com android\", \"android support\", \"layout width\", \"virtualenv\", \"layout height\", \"store procedur\", \"linearlayout\", \"wrap content\", \"oncreat\", \"android id\", \"parent android\", \"creat tabl\", \"xmlns\", \"python2\", \"primari key\", \"foreign key\", \"pip instal\", \"android\", \"fragment\", \"sql server\", \"intent\", \"usr\", \"layout\", \"packag\", \"apk\", \"py\", \"android studio\", \"sdk\", \"instal\", \"lib\", \"jar\", \"assembl\", \"textview\", \"databas\", \"sql\", \"xml\", \"mysql\", \"version\", \"activ\", \"build\", \"error\", \"tabl\", \"app\", \"java\", \"project\", \"server\", \"import\", \"org\", \"applic\", \"file\", \"run\", \"librari\", \"modul\", \"test\", \"use\", \"tri\", \"set\", \"get\"], \"Freq\": [705.0, 604.0, 1102.0, 996.0, 394.0, 570.0, 305.0, 262.0, 277.0, 386.0, 311.0, 302.0, 286.0, 237.0, 414.0, 280.0, 358.0, 350.0, 443.0, 193.0, 715.0, 339.0, 723.0, 644.0, 432.0, 755.0, 447.0, 187.0, 489.0, 353.0, 161.25255855635064, 118.11487994576437, 61.052064431197664, 105.91452085646573, 74.41510753925468, 40.93829916218561, 44.78747504992569, 89.62169438723507, 38.56564222063211, 37.928661887141196, 61.68064844796884, 44.96453304124463, 37.00331547888261, 34.65599466761596, 32.46231714592155, 31.651455816068903, 56.016923965260595, 32.42386732462945, 27.452673766010683, 27.074541424268222, 40.99040574731651, 26.039139907783632, 30.21764791794772, 25.992854020247325, 39.85501168766194, 25.07463111645482, 25.488578296922974, 28.372207902604732, 24.64342455333879, 23.7416717257382, 31.56172593786021, 93.6201951655032, 64.22162109275718, 32.96853886038088, 114.26469477757556, 71.0353260661602, 61.27648111857868, 372.44800005414953, 44.513210828454035, 88.92498723521952, 63.75620321690756, 45.99135789326594, 195.68707746661576, 164.562008367817, 563.591133476747, 98.9391332012995, 184.32283045247755, 353.25153422820574, 179.56643663116074, 100.99082326357683, 120.44299758017489, 294.971461300939, 172.10920075289806, 369.7567737461721, 483.4311635545083, 212.6171875749227, 227.04580023059268, 125.76630483070451, 115.593950238405, 313.7334773057794, 196.54767082548597, 167.3222081374594, 336.6206123287772, 330.8750974287999, 306.8693879134865, 549.0846706788728, 243.979238693416, 315.8766481562123, 345.2245313838745, 228.51662181850293, 325.7595898680157, 255.4857056884151, 287.01389662862334, 160.05755837877342, 299.1197892682336, 229.24529359383652, 268.9280212353683, 246.455215823568, 221.1045179679487, 262.5374255976894, 222.87455190240445, 227.22213704055167, 212.80814083978944, 210.10454482775393, 215.81556545005412, 304.28639665547934, 102.37066702680994, 98.58041401716058, 92.55159743947831, 63.89449865339256, 54.469421829239764, 89.54174567243653, 50.549631121979324, 53.1881293288128, 58.683955528972355, 47.73614547046923, 84.90487720328393, 36.773001545890814, 34.36989328886542, 70.75772173705319, 33.9783550844657, 33.151960386298505, 32.08165592843509, 33.80790771408247, 31.6828143252262, 30.75097280003755, 40.1361739500357, 28.874660829869452, 27.765524432237953, 29.492101546678114, 104.93874495735197, 29.672044097904237, 26.6042283767383, 82.62642799452296, 27.93624518907528, 34.410662140966984, 141.96950323667056, 51.45227831704475, 85.7838388862009, 88.82092251717694, 40.67569679139891, 113.78854159122434, 201.3995606236903, 101.86994190926612, 105.50409121572235, 141.64460295576205, 224.5082425463148, 442.6239069608572, 202.16644158154463, 83.24826352862159, 277.9635902383728, 213.1812604702411, 703.6654101387286, 264.12144066806235, 188.88519253427185, 127.21741046518997, 216.5259686171703, 357.17464697924083, 92.16340147757728, 164.36909215073044, 212.68106424116863, 191.79482395011615, 278.6856156961595, 332.3654545326596, 341.7253641531694, 225.48172008322356, 199.65495382812878, 338.51898106298313, 181.77469220035178, 260.9545346799638, 195.19965321441705, 160.16057068237325, 221.5693293663067, 266.5833983260002, 227.54919039619324, 333.0972366941064, 238.6093629909863, 235.24948499880475, 215.30831184377055, 220.71602904110165, 603.2648504419999, 261.61740151641436, 97.48466271988272, 60.285137077883405, 61.56497259390812, 54.97539686123965, 54.88301878355178, 46.94499100274911, 123.41353303007752, 43.991329624481665, 40.18345517843173, 39.41832209018721, 272.53296352922587, 36.955082904752324, 36.91039133263709, 38.86874427550823, 35.65785543673584, 49.493532646934334, 42.10601454858168, 34.30676240411489, 34.44050317099553, 32.98239470030421, 30.17097098068739, 50.22266080783086, 28.912913903570697, 28.39328113603015, 43.05287183927632, 26.707928746589015, 25.73389045966455, 26.129041549658112, 122.25982177374911, 92.0026756410021, 137.24847048569768, 162.19629794261994, 175.83855549925724, 65.82019008482396, 161.97667407465931, 244.32132715988536, 143.51476302089566, 57.071804082816556, 312.1671873365522, 156.02250457324791, 124.76150617090889, 752.5609071659164, 100.42663976693669, 267.17333409478573, 90.94324322789947, 160.8143786179816, 101.22820503920403, 251.82908181126083, 238.75495223469258, 121.98567670372384, 170.49399980574577, 245.74856894594606, 236.81812910594763, 140.15541081781868, 203.927056461571, 208.13269419794054, 154.76843551298094, 297.4745748634714, 124.7474660141539, 191.81934573365677, 196.0696090853915, 186.51420515055509, 180.7047580697272, 166.11603339055364, 148.87603194268908, 145.09510125768463, 142.6271477660551, 94.1100660069512, 78.97441607253418, 82.96691289554553, 71.56133131948296, 62.055154605449154, 53.0154624845285, 55.71955830098875, 48.636294111638215, 46.32349740374561, 81.39724061107546, 45.71510431738266, 42.84549855457058, 40.804332112701246, 37.03698945504713, 36.405493297530136, 36.147494328390586, 36.08710900341755, 35.32828146863053, 35.647531251171976, 34.77199028046724, 34.4986646703759, 34.643934513579666, 31.799237321644778, 31.061011374583217, 39.677806121327244, 30.711278858087038, 29.130027910806593, 48.57792782867154, 35.65081104470686, 27.45933889737782, 646.6161686465833, 80.65605399836514, 132.55815730482055, 83.7435987636888, 84.09848100998056, 164.81885617680538, 196.7715605247465, 55.92558973115503, 127.85159257951383, 71.80104727748893, 73.19295994729067, 296.74991191693664, 101.14398261086563, 77.97908415124381, 71.56955334460484, 67.06929564823798, 212.99858453080125, 198.2147368175836, 125.80854321408223, 179.63654804612966, 208.8065675728406, 137.35826184407574, 148.91741313806926, 278.3946652576096, 204.00769631557094, 192.55248351922953, 229.991786450711, 173.59097178357038, 164.47368820038022, 138.04051869598726, 88.93457537191959, 139.13294234974327, 205.49730458723252, 150.11785764926793, 117.49477963592685, 115.44022756332403, 133.69778479202637, 176.56902338857938, 137.77867235291362, 130.97596487529444, 132.07810836380642], \"Total\": [705.0, 604.0, 1102.0, 996.0, 394.0, 570.0, 305.0, 262.0, 277.0, 386.0, 311.0, 302.0, 286.0, 237.0, 414.0, 280.0, 358.0, 350.0, 443.0, 193.0, 715.0, 339.0, 723.0, 644.0, 432.0, 755.0, 447.0, 187.0, 489.0, 353.0, 162.2932239440894, 119.10597487632165, 61.83249071644165, 107.4005727074308, 75.48249428020804, 41.70247683711782, 45.624607385020546, 91.39041688937705, 39.333167551890355, 38.695757020067134, 62.9611721965708, 45.91602319312167, 37.787907469690765, 35.4182966299897, 33.23253042486229, 32.413898961401934, 57.522149994451375, 33.29936846959467, 28.214534175211046, 27.839809913595868, 42.14959088591128, 26.80122760588154, 31.108739892394052, 26.763479597440355, 41.05308366154535, 25.840134954098154, 26.278099377899593, 29.25577399300188, 25.431057820743, 24.504437233365778, 32.619379311677754, 98.57502774574971, 67.24108375899792, 34.15356287526621, 122.09056537526916, 74.82337303199448, 64.31326221912785, 432.9036454134938, 46.80487324132431, 96.97929903994252, 68.49304943664735, 48.592450351492246, 227.4384161823968, 190.57970236732766, 723.4382967950894, 111.28923907315698, 219.28023540049955, 447.45935813196036, 214.6553501586805, 114.76605980409478, 141.7223967356492, 390.0088063310554, 212.84035108810795, 546.2918033086081, 755.4141457151712, 294.49107120207196, 325.1860478012463, 160.4333453072697, 144.65414906272827, 523.2878641051543, 291.9330929207139, 235.90665736048766, 612.4479549629881, 618.5572711758931, 564.709349794781, 1356.22550562503, 419.9703342709601, 616.077552799967, 715.821663140016, 391.0756671324813, 680.6142599858587, 470.60909646805374, 642.3981746274342, 232.765365952482, 797.4672778422148, 472.5522543623354, 732.9786089444431, 598.55174715258, 474.6404081689848, 996.1614915600505, 565.5359509511253, 703.7751238104032, 595.855273846552, 578.9706668244658, 852.5286882673973, 305.9828631646659, 103.1242129058032, 99.3523624626024, 93.32269449721751, 64.65920270238881, 55.22409749678648, 90.84781475313778, 51.337783891773384, 54.01883446099431, 59.61706362456831, 48.50598111895006, 86.35076813056409, 37.5346253564243, 35.12242250277269, 72.32288022180947, 34.73296755361619, 33.907607291807956, 32.84003259979206, 34.61560460162865, 32.45322242858771, 31.51779537612407, 41.21795382844116, 29.657991965163276, 28.519641639336268, 30.295958733643456, 107.80266745270248, 30.485606533543713, 27.357266528157005, 84.9801195456024, 28.734016725567255, 35.430427027201254, 149.55651953812608, 53.48478512846347, 90.81428383400886, 94.32850518776155, 42.17529032680542, 122.85414798640377, 222.8069734854468, 110.15411577976465, 114.35294709063673, 158.2987764843378, 270.6965222103699, 570.9446686285238, 244.62928673089297, 92.60292530565019, 353.06563058197196, 263.43114296348386, 996.1614915600505, 339.2122112215865, 238.23108015060157, 153.36061895485994, 290.74192969854914, 553.2251636680371, 105.40963917388495, 227.21470943623612, 326.6487915484256, 298.61645275564763, 513.5496192929572, 669.2536051092796, 715.821663140016, 403.67077323906835, 337.89701183356686, 852.5286882673973, 295.2561184340289, 618.5572711758931, 358.83272785978875, 254.57941710935202, 495.88159243488434, 797.4672778422148, 564.709349794781, 1356.22550562503, 755.4141457151712, 732.9786089444431, 616.077552799967, 703.7751238104032, 604.0133448579045, 262.3714411005027, 98.33910893769178, 61.02908592888134, 62.37509483658123, 55.721130694218786, 55.63326254243659, 47.709180077016235, 125.45664667064871, 44.73765860730579, 40.92837532983836, 40.16319241819184, 277.76622608885936, 37.69873568416022, 37.65421662754655, 39.652544838796736, 36.40196156293823, 50.54600145297495, 43.029170522661, 35.05912536379713, 35.204417528139615, 33.72675731925745, 30.91478394701252, 51.47141535437266, 29.656748060987383, 29.13678266546073, 44.2033944077234, 27.45843257476215, 26.485174846815607, 26.900497844030575, 126.96642905688626, 95.3398315250058, 143.12991475305498, 170.5413233159619, 187.85254877359785, 69.29682443245567, 178.95985133703968, 286.92074150246367, 162.06520200922003, 60.68147462734558, 386.18336463741696, 181.40748578994047, 145.14969484218844, 1102.809482676985, 114.81107181204445, 350.31546704700895, 103.96793037539787, 208.49382734478672, 121.46795665624978, 379.40840209407577, 368.4739636824038, 157.79106536112658, 242.89481150683972, 489.06081608702965, 481.8339463808744, 223.48173632156255, 414.4278047490358, 465.5508926339908, 285.38179061659235, 1356.22550562503, 194.40186214383763, 611.0944543751974, 703.7751238104032, 732.9786089444431, 797.4672778422148, 852.5286882673973, 598.55174715258, 610.8304048344478, 680.6142599858587, 94.83483743410918, 79.70404608364043, 83.82137351185689, 72.34956154933418, 62.7936310375601, 53.74732677808079, 56.52504731041521, 49.40071167551662, 47.05443335052021, 82.68603053944746, 46.47372658264678, 43.58038853361245, 41.535541877162586, 37.76207874935136, 37.13298130757701, 36.874484926677844, 36.823456003030614, 36.05320478216802, 36.38083024636236, 35.501702233568146, 35.2295921758925, 35.38733592682877, 32.52418504565031, 31.785622473119798, 40.64505159237127, 31.488460627200887, 29.869910453448234, 49.81922395438819, 36.577508034017335, 28.186956964494183, 705.1415280611201, 86.39828118898284, 147.6437976342028, 90.59894308476467, 91.58715999631255, 193.30047644778858, 237.0066746152355, 59.82468230571399, 148.6529435042883, 79.46924255648966, 81.44091277845969, 394.4865467230073, 119.2534930271882, 89.0894165662673, 81.03307453631992, 75.33392478920977, 302.7348866410754, 311.2638894952641, 174.93195900683207, 280.17395510410404, 358.7604974074644, 206.24508590866398, 253.01306313194246, 644.975856732862, 443.75903408892384, 454.36754519504393, 642.3981746274342, 414.4278047490358, 381.34584332952545, 313.59863024209903, 123.3537731413108, 387.74752271679637, 1102.809482676985, 489.06081608702965, 262.6923730327363, 251.15174065902437, 468.1459006358301, 1356.22550562503, 610.8304048344478, 562.0260642383539, 852.5286882673973], \"Category\": [\"Default\", \"Default\", \"Default\", \"Default\", \"Default\", \"Default\", \"Default\", \"Default\", \"Default\", \"Default\", \"Default\", \"Default\", \"Default\", \"Default\", \"Default\", \"Default\", \"Default\", \"Default\", \"Default\", \"Default\", \"Default\", \"Default\", \"Default\", \"Default\", \"Default\", \"Default\", \"Default\", \"Default\", \"Default\", \"Default\", \"Topic1\", \"Topic1\", \"Topic1\", \"Topic1\", \"Topic1\", \"Topic1\", \"Topic1\", \"Topic1\", \"Topic1\", \"Topic1\", \"Topic1\", \"Topic1\", \"Topic1\", \"Topic1\", \"Topic1\", \"Topic1\", \"Topic1\", \"Topic1\", \"Topic1\", \"Topic1\", \"Topic1\", \"Topic1\", \"Topic1\", \"Topic1\", \"Topic1\", \"Topic1\", \"Topic1\", \"Topic1\", \"Topic1\", \"Topic1\", \"Topic1\", \"Topic1\", \"Topic1\", \"Topic1\", \"Topic1\", \"Topic1\", \"Topic1\", \"Topic1\", \"Topic1\", \"Topic1\", \"Topic1\", \"Topic1\", \"Topic1\", \"Topic1\", \"Topic1\", \"Topic1\", \"Topic1\", \"Topic1\", \"Topic1\", \"Topic1\", \"Topic1\", \"Topic1\", \"Topic1\", \"Topic1\", \"Topic1\", \"Topic1\", \"Topic1\", \"Topic1\", \"Topic1\", \"Topic1\", \"Topic1\", \"Topic1\", \"Topic1\", \"Topic1\", \"Topic1\", \"Topic1\", \"Topic1\", \"Topic1\", \"Topic1\", \"Topic1\", \"Topic1\", \"Topic1\", \"Topic1\", \"Topic1\", \"Topic1\", \"Topic1\", \"Topic1\", \"Topic1\", \"Topic1\", \"Topic1\", \"Topic1\", \"Topic1\", \"Topic1\", \"Topic1\", \"Topic1\", \"Topic2\", \"Topic2\", \"Topic2\", \"Topic2\", \"Topic2\", \"Topic2\", \"Topic2\", \"Topic2\", \"Topic2\", \"Topic2\", \"Topic2\", \"Topic2\", \"Topic2\", \"Topic2\", \"Topic2\", \"Topic2\", \"Topic2\", \"Topic2\", \"Topic2\", \"Topic2\", \"Topic2\", \"Topic2\", \"Topic2\", \"Topic2\", \"Topic2\", \"Topic2\", \"Topic2\", \"Topic2\", \"Topic2\", \"Topic2\", \"Topic2\", \"Topic2\", \"Topic2\", \"Topic2\", \"Topic2\", \"Topic2\", \"Topic2\", \"Topic2\", \"Topic2\", \"Topic2\", \"Topic2\", \"Topic2\", \"Topic2\", \"Topic2\", \"Topic2\", \"Topic2\", \"Topic2\", \"Topic2\", \"Topic2\", \"Topic2\", \"Topic2\", \"Topic2\", \"Topic2\", \"Topic2\", \"Topic2\", \"Topic2\", \"Topic2\", \"Topic2\", \"Topic2\", \"Topic2\", \"Topic2\", \"Topic2\", \"Topic2\", \"Topic2\", \"Topic2\", \"Topic2\", \"Topic2\", \"Topic2\", \"Topic2\", \"Topic2\", \"Topic2\", \"Topic2\", \"Topic2\", \"Topic2\", \"Topic2\", \"Topic3\", \"Topic3\", \"Topic3\", \"Topic3\", \"Topic3\", \"Topic3\", \"Topic3\", \"Topic3\", \"Topic3\", \"Topic3\", \"Topic3\", \"Topic3\", \"Topic3\", \"Topic3\", \"Topic3\", \"Topic3\", \"Topic3\", \"Topic3\", \"Topic3\", \"Topic3\", \"Topic3\", \"Topic3\", \"Topic3\", \"Topic3\", \"Topic3\", \"Topic3\", \"Topic3\", \"Topic3\", \"Topic3\", \"Topic3\", \"Topic3\", \"Topic3\", \"Topic3\", \"Topic3\", \"Topic3\", \"Topic3\", \"Topic3\", \"Topic3\", \"Topic3\", \"Topic3\", \"Topic3\", \"Topic3\", \"Topic3\", \"Topic3\", \"Topic3\", \"Topic3\", \"Topic3\", \"Topic3\", \"Topic3\", \"Topic3\", \"Topic3\", \"Topic3\", \"Topic3\", \"Topic3\", \"Topic3\", \"Topic3\", \"Topic3\", \"Topic3\", \"Topic3\", \"Topic3\", \"Topic3\", \"Topic3\", \"Topic3\", \"Topic3\", \"Topic3\", \"Topic3\", \"Topic3\", \"Topic3\", \"Topic3\", \"Topic4\", \"Topic4\", \"Topic4\", \"Topic4\", \"Topic4\", \"Topic4\", \"Topic4\", \"Topic4\", \"Topic4\", \"Topic4\", \"Topic4\", \"Topic4\", \"Topic4\", \"Topic4\", \"Topic4\", \"Topic4\", \"Topic4\", \"Topic4\", \"Topic4\", \"Topic4\", \"Topic4\", \"Topic4\", \"Topic4\", \"Topic4\", \"Topic4\", \"Topic4\", \"Topic4\", \"Topic4\", \"Topic4\", \"Topic4\", \"Topic4\", \"Topic4\", \"Topic4\", \"Topic4\", \"Topic4\", \"Topic4\", \"Topic4\", \"Topic4\", \"Topic4\", \"Topic4\", \"Topic4\", \"Topic4\", \"Topic4\", \"Topic4\", \"Topic4\", \"Topic4\", \"Topic4\", \"Topic4\", \"Topic4\", \"Topic4\", \"Topic4\", \"Topic4\", \"Topic4\", \"Topic4\", \"Topic4\", \"Topic4\", \"Topic4\", \"Topic4\", \"Topic4\", \"Topic4\", \"Topic4\", \"Topic4\", \"Topic4\", \"Topic4\", \"Topic4\", \"Topic4\", \"Topic4\", \"Topic4\", \"Topic4\", \"Topic4\", \"Topic4\"], \"logprob\": [30.0, 29.0, 28.0, 27.0, 26.0, 25.0, 24.0, 23.0, 22.0, 21.0, 20.0, 19.0, 18.0, 17.0, 16.0, 15.0, 14.0, 13.0, 12.0, 11.0, 10.0, 9.0, 8.0, 7.0, 6.0, 5.0, 4.0, 3.0, 2.0, 1.0, -6.1524, -6.4638, -7.1237, -6.5728, -6.9258, -7.5233, -7.4335, -6.7398, -7.5831, -7.5997, -7.1134, -7.4295, -7.6244, -7.6899, -7.7553, -7.7806, -7.2098, -7.7565, -7.923, -7.9368, -7.5221, -7.9758, -7.827, -7.9776, -7.5502, -8.0136, -7.9972, -7.89, -8.0309, -8.0682, -7.7835, -6.6962, -7.0731, -7.7399, -6.4969, -6.9722, -7.12, -5.3153, -7.4396, -6.7476, -7.0803, -7.407, -5.9589, -6.1321, -4.9011, -6.6409, -6.0187, -5.3682, -6.0449, -6.6204, -6.4442, -5.5485, -6.0873, -5.3226, -5.0545, -5.8759, -5.8103, -6.401, -6.4853, -5.4869, -5.9545, -6.1155, -5.4165, -5.4337, -5.509, -4.9272, -5.7383, -5.4801, -5.3912, -5.8038, -5.4493, -5.6922, -5.5759, -6.1599, -5.5346, -5.8006, -5.641, -5.7282, -5.8368, -5.665, -5.8288, -5.8095, -5.875, -5.8878, -5.861, -5.2902, -6.3795, -6.4173, -6.4804, -6.8509, -7.0105, -6.5134, -7.0852, -7.0343, -6.936, -7.1424, -6.5666, -7.4034, -7.4709, -6.7489, -7.4824, -7.507, -7.5398, -7.4874, -7.5524, -7.5822, -7.3158, -7.6452, -7.6843, -7.624, -6.3548, -7.6179, -7.7271, -6.5938, -7.6782, -7.4698, -6.0525, -7.0675, -6.5563, -6.5215, -7.3025, -6.2738, -5.7028, -6.3844, -6.3494, -6.0548, -5.5942, -4.9154, -5.699, -6.5863, -5.3806, -5.646, -4.4518, -5.4317, -5.767, -6.1622, -5.6304, -5.1299, -6.4846, -5.906, -5.6483, -5.7517, -5.378, -5.2019, -5.1741, -5.5899, -5.7115, -5.1835, -5.8054, -5.4438, -5.7341, -5.932, -5.6074, -5.4224, -5.5808, -5.1997, -5.5333, -5.5475, -5.6361, -5.6113, -4.4375, -5.273, -6.2601, -6.7408, -6.7197, -6.833, -6.8346, -6.9909, -6.0243, -7.0558, -7.1464, -7.1656, -5.2321, -7.2301, -7.2313, -7.1796, -7.2659, -6.938, -7.0996, -7.3045, -7.3006, -7.3439, -7.433, -6.9234, -7.4756, -7.4937, -7.0774, -7.5549, -7.592, -7.5768, -6.0337, -6.318, -5.918, -5.751, -5.6703, -6.6529, -5.7524, -5.3414, -5.8734, -6.7955, -5.0963, -5.7898, -6.0134, -4.2164, -6.2304, -5.2519, -6.3296, -5.7596, -6.2225, -5.3111, -5.3644, -6.0359, -5.7011, -5.3355, -5.3725, -5.8971, -5.5221, -5.5017, -5.7979, -5.1445, -6.0135, -5.5833, -5.5614, -5.6113, -5.643, -5.7272, -5.8367, -5.8624, -5.8796, -6.0343, -6.2096, -6.1603, -6.3082, -6.4507, -6.6082, -6.5584, -6.6944, -6.7431, -6.1794, -6.7563, -6.8212, -6.87, -6.9668, -6.984, -6.9911, -6.9928, -7.0141, -7.0051, -7.0299, -7.0378, -7.0336, -7.1193, -7.1428, -6.898, -7.1541, -7.207, -6.6956, -7.005, -7.266, -4.107, -6.1886, -5.6917, -6.151, -6.1468, -5.4739, -5.2967, -6.5547, -5.7279, -6.3049, -6.2857, -4.8859, -5.9622, -6.2223, -6.3081, -6.373, -5.2175, -5.2894, -5.744, -5.3878, -5.2373, -5.6562, -5.5754, -4.9497, -5.2606, -5.3184, -5.1407, -5.4221, -5.476, -5.6512, -6.0909, -5.6433, -5.2533, -5.5673, -5.8124, -5.83, -5.6832, -5.405, -5.6531, -5.7037, -5.6954], \"loglift\": [30.0, 29.0, 28.0, 27.0, 26.0, 25.0, 24.0, 23.0, 22.0, 21.0, 20.0, 19.0, 18.0, 17.0, 16.0, 15.0, 14.0, 13.0, 12.0, 11.0, 10.0, 9.0, 8.0, 7.0, 6.0, 5.0, 4.0, 3.0, 2.0, 1.0, 1.0884, 1.0864, 1.0821, 1.0809, 1.0806, 1.0763, 1.0763, 1.0753, 1.0751, 1.0748, 1.0742, 1.0739, 1.0738, 1.073, 1.0713, 1.071, 1.0683, 1.0682, 1.0674, 1.0669, 1.0669, 1.0659, 1.0657, 1.0656, 1.0652, 1.0647, 1.0643, 1.0641, 1.0633, 1.0632, 1.0618, 1.0432, 1.0488, 1.0595, 1.0285, 1.0428, 1.0464, 0.9444, 1.0446, 1.0081, 1.0231, 1.0398, 0.9444, 0.948, 0.8451, 0.9772, 0.9211, 0.8584, 0.9163, 0.9669, 0.9321, 0.8155, 0.8824, 0.7045, 0.6484, 0.769, 0.7355, 0.8513, 0.8705, 0.5832, 0.6992, 0.7513, 0.4963, 0.4691, 0.4849, 0.1906, 0.5517, 0.4268, 0.3656, 0.5575, 0.358, 0.4839, 0.2891, 0.7203, 0.1142, 0.3714, 0.0921, 0.2075, 0.3309, -0.2387, 0.1636, -0.0357, 0.0652, 0.0811, -0.279, 1.3165, 1.3147, 1.3143, 1.3138, 1.3102, 1.3083, 1.3076, 1.3066, 1.3066, 1.3063, 1.3061, 1.3052, 1.3016, 1.3004, 1.3002, 1.3001, 1.2995, 1.2987, 1.2985, 1.2981, 1.2974, 1.2955, 1.2953, 1.2953, 1.2952, 1.2952, 1.295, 1.2942, 1.294, 1.2939, 1.2929, 1.27, 1.2833, 1.2651, 1.2619, 1.2859, 1.2454, 1.2211, 1.2439, 1.2415, 1.2109, 1.135, 1.0675, 1.1314, 1.2156, 1.0829, 1.1104, 0.9745, 1.0719, 1.09, 1.1352, 1.0274, 0.8845, 1.1878, 0.9983, 0.893, 0.8793, 0.7108, 0.6222, 0.5827, 0.7397, 0.7959, 0.3985, 0.837, 0.459, 0.7132, 0.8586, 0.5165, 0.2263, 0.4131, -0.0819, 0.1696, 0.1856, 0.2708, 0.1625, 1.4891, 1.4875, 1.4816, 1.4781, 1.4773, 1.4769, 1.4768, 1.4742, 1.4739, 1.4735, 1.472, 1.4716, 1.4713, 1.4704, 1.4704, 1.4704, 1.4697, 1.4693, 1.4687, 1.4687, 1.4684, 1.4681, 1.466, 1.4658, 1.465, 1.4645, 1.464, 1.4627, 1.4616, 1.4613, 1.4526, 1.4547, 1.4484, 1.4402, 1.4243, 1.4389, 1.3907, 1.3296, 1.3688, 1.429, 1.2776, 1.3396, 1.339, 1.1082, 1.3565, 1.2194, 1.3565, 1.2307, 1.3081, 1.0805, 1.0564, 1.233, 1.1364, 0.8022, 0.7801, 1.0238, 0.7812, 0.6853, 0.8785, -0.0268, 1.0467, 0.3317, 0.2124, 0.1218, 0.0058, -0.1452, 0.099, 0.0529, -0.0724, 1.7438, 1.7423, 1.7412, 1.7405, 1.7396, 1.7377, 1.7371, 1.7359, 1.7358, 1.7357, 1.735, 1.7344, 1.7337, 1.7321, 1.7317, 1.7315, 1.7313, 1.7311, 1.7311, 1.7307, 1.7305, 1.7302, 1.7289, 1.7284, 1.7274, 1.7265, 1.7264, 1.7262, 1.7258, 1.7253, 1.6648, 1.6827, 1.6437, 1.6728, 1.6661, 1.5921, 1.5654, 1.6841, 1.6007, 1.65, 1.6447, 1.4668, 1.5867, 1.6183, 1.6273, 1.6352, 1.3999, 1.3002, 1.4218, 1.307, 1.2102, 1.345, 1.2214, 0.9113, 0.9743, 0.8929, 0.7243, 0.8813, 0.9105, 0.9309, 1.4243, 0.7265, 0.0713, 0.5704, 0.9469, 0.9741, 0.4983, -0.2873, 0.2623, 0.2949, -0.1134]}, \"token.table\": {\"Topic\": [1, 2, 4, 2, 4, 1, 2, 4, 1, 2, 3, 4, 1, 2, 1, 3, 4, 4, 4, 3, 4, 4, 1, 2, 3, 1, 2, 1, 3, 4, 3, 4, 1, 2, 3, 4, 1, 2, 3, 4, 1, 2, 2, 4, 2, 4, 1, 3, 4, 2, 3, 4, 2, 3, 3, 4, 3, 3, 1, 2, 3, 4, 1, 2, 3, 4, 1, 1, 2, 3, 4, 1, 2, 3, 4, 1, 2, 3, 4, 2, 1, 2, 3, 3, 1, 2, 3, 4, 1, 2, 3, 4, 1, 2, 3, 4, 2, 3, 4, 4, 2, 3, 4, 3, 4, 3, 4, 1, 2, 1, 2, 4, 2, 1, 2, 3, 4, 2, 1, 3, 4, 2, 3, 2, 1, 3, 1, 2, 3, 4, 2, 1, 2, 3, 4, 2, 1, 2, 3, 4, 1, 2, 4, 1, 1, 2, 4, 1, 4, 2, 2, 3, 1, 3, 1, 2, 3, 4, 2, 3, 4, 1, 2, 3, 4, 1, 2, 3, 4, 1, 2, 4, 1, 1, 2, 3, 4, 1, 2, 3, 4, 1, 2, 3, 4, 1, 2, 3, 4, 2, 2, 1, 2, 3, 4, 2, 3, 4, 1, 2, 3, 4, 4, 3, 1, 2, 3, 4, 1, 4, 1, 2, 4, 1, 2, 3, 4, 4, 1, 2, 3, 4, 3, 3, 3, 3, 3, 3, 3, 3, 3, 2, 3, 4, 3, 4, 1, 2, 3, 1, 2, 3, 4, 1, 2, 3, 4, 1, 2, 3, 4, 1, 1, 2, 3, 4, 1, 2, 3, 4, 2, 3, 4, 1, 2, 4, 1, 1, 1, 3, 4, 1, 2, 3, 4, 3, 4, 1, 2, 3, 4, 1, 2, 3, 1, 2, 4, 1, 2, 3, 1, 2, 3, 2, 4, 2, 2, 4, 1, 2, 3, 4, 2, 1, 3, 4, 4, 4, 1, 2, 1, 1, 2, 3, 4, 1, 2, 3, 4, 1, 2, 3, 4, 1, 2, 3, 4, 4, 3, 4, 1, 2, 3, 4, 2, 3, 4, 4, 3, 4, 2, 3, 4, 1, 2, 3, 4, 1, 1, 1, 2, 3, 4, 1, 2, 3, 4, 2, 2, 4, 1, 2, 3, 4, 1, 2, 3, 4, 2, 2, 1, 2, 3, 4, 2, 1, 2, 3, 4, 2, 3, 1, 2, 1, 2, 3, 4, 4, 1, 2, 3, 4, 1, 2, 3, 4, 1, 1, 2, 3, 4, 1, 2, 3, 4, 2, 2, 4, 1, 2, 3, 4, 2, 1, 2, 3, 4, 4, 4, 4, 1, 3, 4, 2, 4, 1, 3, 1, 2, 3, 4, 1, 2, 3, 4, 1, 2, 1, 1, 2, 3, 4, 1, 2, 3, 1, 2, 3, 4, 2, 3, 4, 4, 1, 2, 3, 4, 4, 1, 2, 3, 4, 1, 3, 1, 2, 2, 2, 3, 4, 3, 4, 2, 3, 4, 1, 2, 3, 4, 1, 2, 3, 4, 1, 2, 3, 4, 1, 3, 4, 1, 2, 1, 2, 3, 4, 1, 2, 3, 4, 1, 2, 3, 4, 1, 3, 4, 1, 2, 4, 2, 3, 4, 1, 2, 3, 4, 2, 3, 4, 3, 1, 1, 1, 2, 3, 2, 2, 4, 2, 4, 4, 3, 3, 1, 2, 3, 4, 1, 4, 1, 2, 3, 4, 2, 2, 1, 2, 3, 4, 1, 2, 3, 1, 2, 3, 1, 2, 4, 1, 2, 3, 4, 1, 3, 3, 1, 2, 3, 4, 1, 2, 3, 4, 1, 2, 1, 4, 1, 2, 3, 4, 3, 1, 2, 3, 4, 1, 2, 3, 4, 1, 1, 1, 1, 1, 1, 1, 2, 3, 4, 1, 2, 3, 4, 3, 1, 2, 3, 4, 3, 4, 4, 1, 2, 3, 4, 1, 2, 3, 4, 4, 1, 2, 3, 4, 3, 4, 1, 3, 4, 3, 4, 1, 2, 4, 1, 2, 3, 4, 1, 2, 3, 4, 1, 2, 3, 4, 1, 2, 3, 4, 1, 2, 3, 4, 4, 1, 2, 3, 4, 4, 1], \"Freq\": [0.05692079061291853, 0.8727854560647508, 0.06640758904840495, 0.9721332012726316, 0.02371056588469833, 0.9614383478400114, 0.02136529661866692, 0.02136529661866692, 0.21333841631254905, 0.03394020259517826, 0.08727480667331552, 0.6642582507913459, 0.0971891543414435, 0.8962999789266456, 0.012763395207692122, 0.07090775115384512, 0.9175462999307559, 0.9838832227490227, 0.9911969329341739, 0.08808439309112759, 0.9060109003658837, 0.9694885444776871, 0.04680504749387075, 0.9494738205899494, 0.00668643535626725, 0.013826882957828373, 0.9817086900058144, 0.9177216259662166, 0.010311478943440637, 0.07218035260408445, 0.05014652622256321, 0.9360684894878466, 0.0704275653893007, 0.19807752765740824, 0.3081205985781906, 0.4247662537542199, 0.11605490006667862, 0.17021385343112863, 0.3559016935378144, 0.35848069131707394, 0.2241898506688416, 0.775907061299194, 0.9279295967492798, 0.0732575997433642, 0.9269546845695534, 0.06995884411845686, 0.0987251199066168, 0.0123406399883271, 0.8885260791595512, 0.058556565092216725, 0.9369050414754676, 0.00532332409929243, 0.02262269704394638, 0.9727759728896942, 0.9714129610728169, 0.01942825922145634, 0.9833044885750868, 0.998584292943833, 0.0434760160753584, 0.07509493685743723, 0.2885226521364694, 0.5889023995662184, 0.72328169112416, 0.023769820835066287, 0.11545341548460769, 0.13582754762895022, 0.981011922214718, 0.5809934180793207, 0.20715748923320043, 0.10238818433365078, 0.10715042546544849, 0.3093109738986381, 0.1073996437148049, 0.44678251785358836, 0.13532355108065416, 0.11445890381392354, 0.8257392346575912, 0.049053815920252944, 0.008175635986708825, 0.977833997253505, 0.9484824419598105, 0.015548892491144434, 0.031097784982288868, 0.9851353539115236, 0.779610372437541, 0.10367159207946025, 0.022116606310284854, 0.09537786471310343, 0.6873874871601958, 0.025777030768507344, 0.21910476153231243, 0.06873874871601958, 0.47897909163227553, 0.2115735864878763, 0.2101043254705994, 0.09990974917483048, 0.7782738688836441, 0.029480070791047128, 0.19162046014180634, 0.9798189407312634, 0.02330499142149739, 0.8079063692785762, 0.1683138269330367, 0.8709961367115234, 0.12193945913961328, 0.9828408724992556, 0.018000748580572445, 0.9337330828930046, 0.057334487546061685, 0.8800511246304579, 0.09584715218747561, 0.026140132414766076, 0.9572233793610135, 0.29389363280643893, 0.6520764977892863, 0.030613920084004053, 0.024491136067203243, 0.9811392735300501, 0.9743482445745779, 0.02435870611436445, 0.9841296402120366, 0.9843571961221966, 0.011580672895555253, 0.9860345939579649, 0.01978395859720658, 0.9694139712631225, 0.17895064523746967, 0.6453068722199664, 0.06326537962940847, 0.11207010105780929, 0.9896495468402436, 0.006606440447582819, 0.27086405835089555, 0.019819321342748455, 0.7035859076675702, 0.9890984583142458, 0.15577840275571808, 0.7873890175652659, 0.04248501893337766, 0.014161672977792552, 0.0947575232932019, 0.8970378871756447, 0.012634336439093587, 0.9803597603080697, 0.8019127052463418, 0.13134777068690082, 0.06913040562468464, 0.9466491125115152, 0.04115865706571805, 0.9840709571249832, 0.9906677474252786, 0.011007419415836429, 0.04329202708161802, 0.9524245957955965, 0.5502508372656185, 0.1747087228113388, 0.1583808047915875, 0.11592821794023417, 0.010455849180824177, 0.850409066707033, 0.1359260393507143, 0.788898463256403, 0.01787871871402613, 0.1921962261757809, 0.9860955544604766, 0.7563931767981463, 0.2025595287018765, 0.03846067000668541, 0.005128089334224721, 0.02202296726422043, 0.9469875923614786, 0.03303445089633065, 0.9907143627557721, 0.17209946518350733, 0.2418695186362806, 0.155044563228385, 0.4310238857749103, 0.8391089131400158, 0.0866471160307625, 0.05928486886315329, 0.013681123583804605, 0.4656156454368252, 0.35816588110525016, 0.12219777120061476, 0.05477831122786179, 0.011788074190696567, 0.11969429178245745, 0.682801528122655, 0.1858888622379074, 0.9857564754850339, 0.9822159800843207, 0.889573878161944, 0.08087035256017673, 0.01797118945781705, 0.008985594728908525, 0.01918522025779301, 0.7722051153761685, 0.20624111777127482, 0.6748121565426748, 0.2021011027209026, 0.11303959982694553, 0.013701769675993397, 0.984211389319353, 0.9835434310345127, 0.3024596445160585, 0.6284875730203814, 0.06284875730203814, 0.0039280473313773835, 0.05787152164593733, 0.9375186506641847, 0.9344013812554338, 0.058400086328464614, 0.014600021582116153, 0.6393843731146055, 0.3163827436322789, 0.03574198359025745, 0.009266440190066746, 0.9951684358294857, 0.25336390783397444, 0.39764057757276544, 0.19471485509462852, 0.15483349923187328, 0.9983223137923503, 0.960984619389419, 0.9784516100264853, 0.9778550210684995, 0.971038347597464, 0.9704094989445682, 0.9889576949790673, 0.9814652753871053, 0.9870582185746348, 0.017591044455787998, 0.9499164006125519, 0.02931840742631333, 0.9835114614785556, 0.9902009060762921, 0.016479494048903, 0.032958988097806, 0.9393311607874711, 0.060964020307074054, 0.6164139831048598, 0.1422493807165061, 0.18289206092122215, 0.22198439199887338, 0.5432775909446111, 0.0331029356489548, 0.2025120769112529, 0.14655038163440998, 0.04342233529908444, 0.6486211335300738, 0.16283375737156666, 0.9714730816424418, 0.7079071098227135, 0.13564687134327447, 0.06782343567163723, 0.08477929458954654, 0.17538341910977048, 0.2806134705756328, 0.10204126202750283, 0.44005294249360594, 0.00760482207801748, 0.24081936580388688, 0.7528773857237305, 0.859313623115091, 0.09239931431345065, 0.046199657156725325, 0.9820198111202134, 0.9791492167084739, 0.05518828178074863, 0.022075312712299452, 0.927163133916577, 0.8467257311759455, 0.07056047759799546, 0.056448382078396364, 0.021168143279398637, 0.1234714562511236, 0.8755248715988765, 0.44676341144096304, 0.1151933534725828, 0.07939001387975302, 0.3580333959282979, 0.4846024918641301, 0.3787940875269838, 0.1354347575515473, 0.054469140417740085, 0.9259753871015814, 0.018156380139246697, 0.6980619295780562, 0.23986268945853914, 0.061503253707317726, 0.16074131065804845, 0.6429652426321938, 0.19422908371180853, 0.9935196921024991, 0.0032681568819161156, 0.9744547818504562, 0.9732329301800298, 0.9898065720681054, 0.1644220145467161, 0.543428692145926, 0.08081760037041977, 0.2090110354407408, 0.9744204699785414, 0.10863915281487785, 0.04138634392947727, 0.8535933435454688, 0.9707874850923396, 0.9762848232750453, 0.9869593553169769, 0.009310937314311103, 0.9569535981820986, 0.025156495829569036, 0.09224048470841979, 0.033541994439425384, 0.8469353595954908, 0.24743771297806122, 0.1294289575577551, 0.17510976610755102, 0.4453878833605102, 0.37493701410424457, 0.3348099758054625, 0.22696856037748583, 0.06395246728868385, 0.21791739828351744, 0.14942907310869769, 0.4918706989827965, 0.1432028617291686, 0.9858682203386359, 0.8611799021410561, 0.13778878434256897, 0.5129224373844399, 0.3489820380938436, 0.09414399167182758, 0.04382565129550594, 0.007970880989870708, 0.980418361754097, 0.007970880989870708, 0.987361281320308, 0.012093941303941598, 0.9796092456192694, 0.1564198536225431, 0.8314950113619396, 0.00823262387487069, 0.6772937059628216, 0.22881544120365596, 0.03111890000369721, 0.06406832353702367, 0.960979185813055, 0.9863098573156025, 0.0448818986388376, 0.9021261626406357, 0.00897637972776752, 0.0448818986388376, 0.06768816316140931, 0.39816566565534894, 0.0756514764745163, 0.4578905155036513, 0.9869407081372953, 0.943511188085138, 0.05300624652163696, 0.9865363548064177, 0.3426442688590713, 0.014276844535794638, 0.6424580041107587, 0.22114187935653137, 0.4960750266646514, 0.11057093967826569, 0.17183321706757504, 0.9895686860201991, 0.9934203647651508, 0.36271267619101766, 0.30571496993242914, 0.1796291348755516, 0.15199388335623595, 0.9965421648082918, 0.06601685268184404, 0.7217842559881615, 0.20685280506977802, 0.004401123512122937, 0.9704508905631131, 0.024261272264077826, 0.9513625639541305, 0.9788970650870896, 0.5351161734317027, 0.42194961107454504, 0.019399982118369886, 0.022633312471431535, 0.9890543914458644, 0.3943162227351875, 0.26700336158301935, 0.2369433804776463, 0.10078934841213313, 0.057638118793681074, 0.07822316121999574, 0.6998914424946987, 0.1605633309252544, 0.9629119296934369, 0.04053382294412781, 0.1459217625988601, 0.08917441047708118, 0.7215020484054749, 0.008438580910207978, 0.05063148546124786, 0.11392084228780769, 0.8312002196554857, 0.9964534063018881, 0.9680425658940784, 0.9752837159698798, 0.0035040778104286625, 0.21024466862571975, 0.5431320606164427, 0.24178136891957772, 0.9835713326409778, 0.15093356322760365, 0.5918963263827594, 0.23083956728927615, 0.023675853055310375, 0.9911667460030622, 0.9578898507565277, 0.9775912007554001, 0.953588369687809, 0.040578228497353576, 0.010144557124338394, 0.02007257280674517, 0.9835560675305133, 0.9735380197958838, 0.017384607496355068, 0.13888755849479847, 0.12345560755093199, 0.6429979559944374, 0.09259170566319899, 0.03860744818917034, 0.05067227574828607, 0.49224496441192184, 0.4198559990572274, 0.9847338897444614, 0.015882804673297765, 0.9915296028103807, 0.5855644297153973, 0.2710472906106206, 0.012785249557104746, 0.13296659539388936, 0.019236701094064133, 0.09618350547032067, 0.8752698997799181, 0.10773740554380033, 0.10139991110004737, 0.7731743221378612, 0.01901248333125888, 0.026908313456198797, 0.11436033218884488, 0.8610660305983615, 0.987106418913556, 0.3574693543030601, 0.23327812323063546, 0.21649552443706457, 0.1929998861260653, 0.9708766969755743, 0.011388175165059555, 0.8085604367192284, 0.01518423355341274, 0.16702656908754013, 0.9830499453156288, 0.9773170734885843, 0.018552416626216445, 0.9740018728763634, 0.9898049670450938, 0.02095997894762924, 0.9571723719417353, 0.02095997894762924, 0.9649691899850921, 0.031466386629948655, 0.01676353650043005, 0.9052309710232227, 0.07822983700200689, 0.007388347599256241, 0.831189104916327, 0.10713104018921549, 0.055412606994421805, 0.07824694554429304, 0.8281135070104346, 0.07824694554429304, 0.013041157590715505, 0.5436424952262005, 0.4037475208846049, 0.019479047060222167, 0.03364562674038374, 0.9517990553124568, 0.014871860239257137, 0.029743720478514275, 0.023534916292118783, 0.9766990261229296, 0.09654491758783187, 0.7933473662652272, 0.046173656237658726, 0.06296407668771645, 0.12677359943914815, 0.06338679971957407, 0.5030049268069426, 0.30671032122374553, 0.12914843142522253, 0.15550525416506386, 0.6641919330440016, 0.052713645479682665, 0.012278840767910573, 0.08595188537537402, 0.8963553760574718, 0.8385535225045073, 0.09783124429219253, 0.06522082952812835, 0.3120526998826383, 0.2569845763739374, 0.4300558216869973, 0.32382839797055074, 0.23664382928617173, 0.20639612178342795, 0.2330852754623195, 0.00787609770100692, 0.9608839195228442, 0.03150439080402768, 0.9886171956578397, 0.9570760290497777, 0.9674872071840742, 0.9847859662237883, 0.010942066291375426, 0.010942066291375426, 0.9817795172215789, 0.36303600839544, 0.6361161917017444, 0.1015958695208009, 0.9008167097511013, 0.9918885444778883, 0.9939864646688882, 0.9826256741969251, 0.8617717415109662, 0.07474550819227768, 0.008793589199091493, 0.057158329794094694, 0.9920315592194107, 0.9895321177723689, 0.26401341773222503, 0.706712722750899, 0.0010038532993620725, 0.0291117456815001, 0.9778140082465406, 0.9596271581456508, 0.948901354255179, 0.040094423419232916, 0.6264494016574014, 0.3713950024111737, 0.9662242302661309, 0.029279522129276696, 0.9657878865009796, 0.037393812000857084, 0.9535422060218557, 0.976082027374453, 0.7853728896488366, 0.11219612709269093, 0.09972989074905861, 0.036055603989785585, 0.41689292113189585, 0.08788553472510237, 0.4597089508697662, 0.9698342080566528, 0.9863827428155746, 0.9816812669872201, 0.30759641343525795, 0.24137774109850105, 0.16661472394409807, 0.2862355513911428, 0.541850979748986, 0.2188652977025316, 0.17211737003791322, 0.0658720798910532, 0.9727259301514232, 0.02372502268662008, 0.10619385651795823, 0.8893735483379003, 0.8657795030132602, 0.005247148503110669, 0.06821293054043868, 0.06296578203732801, 0.9665248632478227, 0.27667254063065794, 0.2603013843803232, 0.23738176562985444, 0.2259219562546201, 0.600052134854979, 0.26945016246672626, 0.06879578616171735, 0.06115180992152652, 0.9701048169261579, 0.9872308184246887, 0.9881898151579793, 0.9794144534493155, 0.9831550332163347, 0.9800500320058447, 0.01375790552173652, 0.7463663745542062, 0.16853434264127234, 0.07566848036955086, 0.404799937564209, 0.2455343883586186, 0.21899013015768684, 0.1305092694879144, 0.9831377790897843, 0.1552790044532881, 0.4476875193328566, 0.2440098641408813, 0.1552790044532881, 0.07642992751693393, 0.9171591302032073, 0.9866823460473554, 0.48196361994218856, 0.4777726319426913, 0.005587983999329723, 0.03492489999581077, 0.4186580035109753, 0.5573849159169789, 0.009909065171857403, 0.012386331464821754, 0.990711245095792, 0.07804649676410397, 0.061322247457510255, 0.27873748844322843, 0.5825613508463474, 0.9697903084344823, 0.9776377316957202, 0.027562258405310326, 0.8599424622456822, 0.1102490336212413, 0.8885312714558411, 0.11106640893198014, 0.8081174416443169, 0.042285214969760766, 0.14564907378473155, 0.3225462115952165, 0.31402076106847066, 0.27849805054036314, 0.0852545052674581, 0.3669957031725453, 0.3206096291656065, 0.2551234070381635, 0.05730044436151265, 0.0999099477252123, 0.022836559480048528, 0.7621701726466196, 0.11418279740024265, 0.3436457302082879, 0.22418792875493068, 0.3141903819047204, 0.11945780145335723, 0.4109920339724459, 0.2773360879651464, 0.24893419943859527, 0.06181587502837601, 0.9650977459587539, 0.0228660333006605, 0.24009334965693527, 0.017149524975495375, 0.7202800489708058, 0.9844876307869133, 0.9643592155699905], \"Term\": [\"00\", \"00\", \"00\", \"00 00\", \"00 00\", \"abstract\", \"abstract\", \"abstract\", \"activ\", \"activ\", \"activ\", \"activ\", \"ajax\", \"ajax\", \"android\", \"android\", \"android\", \"android id\", \"android layout\", \"android studio\", \"android studio\", \"android support\", \"angular\", \"angular\", \"angular\", \"angularj\", \"angularj\", \"anim\", \"anim\", \"anim\", \"apk\", \"apk\", \"app\", \"app\", \"app\", \"app\", \"applic\", \"applic\", \"applic\", \"applic\", \"array\", \"array\", \"asp\", \"asp\", \"asp net\", \"asp net\", \"assembl\", \"assembl\", \"assembl\", \"bash\", \"bash\", \"bash\", \"bash script\", \"bash script\", \"batch\", \"batch\", \"batch file\", \"branch\", \"build\", \"build\", \"build\", \"build\", \"button\", \"button\", \"button\", \"button\", \"calendar\", \"call\", \"call\", \"call\", \"call\", \"chang\", \"chang\", \"chang\", \"chang\", \"charact\", \"charact\", \"charact\", \"charact\", \"charact string\", \"checkbox\", \"checkbox\", \"checkbox\", \"checkout\", \"class\", \"class\", \"class\", \"class\", \"click\", \"click\", \"click\", \"click\", \"code\", \"code\", \"code\", \"code\", \"column\", \"column\", \"column\", \"com android\", \"command\", \"command\", \"command\", \"command line\", \"command line\", \"commit\", \"commit\", \"const\", \"const\", \"constructor\", \"constructor\", \"constructor\", \"content type\", \"convert\", \"convert\", \"convert\", \"convert\", \"cooki\", \"cout\", \"cout\", \"creat tabl\", \"csv\", \"csv\", \"csv file\", \"ctrl\", \"ctrl\", \"data\", \"data\", \"data\", \"data\", \"data frame\", \"databas\", \"databas\", \"databas\", \"databas\", \"datafram\", \"date\", \"date\", \"date\", \"date\", \"datetim\", \"datetim\", \"datetim\", \"decim\", \"declar\", \"declar\", \"declar\", \"deleg\", \"deleg\", \"delimit\", \"df\", \"df\", \"diff\", \"diff\", \"differ\", \"differ\", \"differ\", \"differ\", \"directori\", \"directori\", \"directori\", \"div\", \"div\", \"div\", \"drawabl\", \"element\", \"element\", \"element\", \"element\", \"entiti\", \"entiti\", \"entiti\", \"enum\", \"error\", \"error\", \"error\", \"error\", \"event\", \"event\", \"event\", \"event\", \"exampl\", \"exampl\", \"exampl\", \"exampl\", \"file\", \"file\", \"file\", \"file\", \"firstnam\", \"flask\", \"float\", \"float\", \"float\", \"float\", \"folder\", \"folder\", \"folder\", \"foo\", \"foo\", \"foo\", \"foo\", \"foreign key\", \"fork\", \"form\", \"form\", \"form\", \"form\", \"fragment\", \"fragment\", \"func\", \"func\", \"func\", \"function\", \"function\", \"function\", \"function\", \"gem\", \"get\", \"get\", \"get\", \"get\", \"git\", \"git add\", \"git branch\", \"git checkout\", \"git commit\", \"git diff\", \"git pull\", \"git push\", \"git repositori\", \"github\", \"github\", \"github\", \"gitignor\", \"gradl\", \"histori\", \"histori\", \"histori\", \"http\", \"http\", \"http\", \"http\", \"id\", \"id\", \"id\", \"id\", \"imag\", \"imag\", \"imag\", \"imag\", \"immut\", \"implement\", \"implement\", \"implement\", \"implement\", \"import\", \"import\", \"import\", \"import\", \"instal\", \"instal\", \"instal\", \"int\", \"int\", \"int\", \"int int\", \"int main\", \"intent\", \"intent\", \"intent\", \"interfac\", \"interfac\", \"interfac\", \"interfac\", \"jar\", \"jar\", \"java\", \"java\", \"java\", \"java\", \"javascript\", \"javascript\", \"javascript\", \"join\", \"join\", \"join\", \"jqueri\", \"jqueri\", \"jqueri\", \"js\", \"js\", \"js\", \"json\", \"json\", \"json file\", \"json object\", \"junit\", \"key\", \"key\", \"key\", \"key\", \"lastnam\", \"layout\", \"layout\", \"layout\", \"layout height\", \"layout width\", \"li\", \"li\", \"li li\", \"lib\", \"lib\", \"lib\", \"lib\", \"librari\", \"librari\", \"librari\", \"librari\", \"like\", \"like\", \"like\", \"like\", \"line\", \"line\", \"line\", \"line\", \"linearlayout\", \"linux\", \"linux\", \"list\", \"list\", \"list\", \"list\", \"master\", \"master\", \"master\", \"matplotlib\", \"maven\", \"maven\", \"merg\", \"merg\", \"merg\", \"method\", \"method\", \"method\", \"method\", \"millisecond\", \"mm\", \"model\", \"model\", \"model\", \"model\", \"modul\", \"modul\", \"modul\", \"modul\", \"mongoos\", \"mvc\", \"mvc\", \"myclass\", \"mysql\", \"mysql\", \"mysql\", \"name\", \"name\", \"name\", \"name\", \"nan\", \"net mvc\", \"new\", \"new\", \"new\", \"new\", \"ng\", \"node\", \"node\", \"node\", \"node\", \"node modul\", \"node modul\", \"nslog\", \"numpi array\", \"object\", \"object\", \"object\", \"object\", \"oncreat\", \"one\", \"one\", \"one\", \"one\", \"open\", \"open\", \"open\", \"open\", \"option valu\", \"org\", \"org\", \"org\", \"org\", \"packag\", \"packag\", \"packag\", \"packag\", \"panda\", \"panda datafram\", \"parent android\", \"path\", \"path\", \"path\", \"path\", \"pd\", \"php\", \"php\", \"php\", \"php\", \"pip\", \"pip instal\", \"plt\", \"pointer\", \"pointer\", \"pointer\", \"primari key\", \"primari key\", \"printf\", \"printf\", \"process\", \"process\", \"process\", \"process\", \"project\", \"project\", \"project\", \"project\", \"prop\", \"prop\", \"ptr\", \"public\", \"public\", \"public\", \"public\", \"pull\", \"pull\", \"pull\", \"push\", \"push\", \"push\", \"push\", \"py\", \"py\", \"py\", \"py line\", \"python\", \"python\", \"python\", \"python\", \"python2\", \"queri\", \"queri\", \"queri\", \"queri\", \"random number\", \"rebas\", \"regex\", \"regex\", \"regular express\", \"remot\", \"remot\", \"remot\", \"repo\", \"repo\", \"repositori\", \"repositori\", \"repositori\", \"request\", \"request\", \"request\", \"request\", \"respons\", \"respons\", \"respons\", \"respons\", \"return\", \"return\", \"return\", \"return\", \"round\", \"round\", \"round\", \"rout\", \"rout\", \"row\", \"row\", \"row\", \"row\", \"run\", \"run\", \"run\", \"run\", \"script\", \"script\", \"script\", \"script\", \"sdk\", \"sdk\", \"sdk\", \"self\", \"self\", \"self\", \"server\", \"server\", \"server\", \"set\", \"set\", \"set\", \"set\", \"shell\", \"shell\", \"shell\", \"shell script\", \"singleton\", \"sizeof\", \"span\", \"span\", \"span\", \"split string\", \"sql\", \"sql\", \"sql server\", \"sql server\", \"sqlite\", \"ssh\", \"stash\", \"static\", \"static\", \"static\", \"static\", \"std\", \"store procedur\", \"string\", \"string\", \"string\", \"string\", \"string array\", \"string contain\", \"struct\", \"struct\", \"studio\", \"studio\", \"subclass\", \"subclass\", \"submodul\", \"substr\", \"substr\", \"svn\", \"swift\", \"swift\", \"swift\", \"tabl\", \"tabl\", \"tabl\", \"tabl\", \"tableview\", \"td\", \"td td\", \"test\", \"test\", \"test\", \"test\", \"text\", \"text\", \"text\", \"text\", \"textarea\", \"textarea\", \"textview\", \"textview\", \"thread\", \"thread\", \"thread\", \"thread\", \"tooltip\", \"tri\", \"tri\", \"tri\", \"tri\", \"type\", \"type\", \"type\", \"type\", \"uibutton\", \"uilabel\", \"uitableview\", \"uitextfield\", \"uiview\", \"ul\", \"url\", \"url\", \"url\", \"url\", \"use\", \"use\", \"use\", \"use\", \"use git\", \"user\", \"user\", \"user\", \"user\", \"usr\", \"usr\", \"usr local\", \"valu\", \"valu\", \"valu\", \"valu\", \"var\", \"var\", \"var\", \"var\", \"varchar\", \"version\", \"version\", \"version\", \"version\", \"vim\", \"virtualenv\", \"visual\", \"visual\", \"visual\", \"visual studio\", \"visual studio\", \"void\", \"void\", \"void\", \"want\", \"want\", \"want\", \"want\", \"way\", \"way\", \"way\", \"way\", \"window\", \"window\", \"window\", \"window\", \"work\", \"work\", \"work\", \"work\", \"would\", \"would\", \"would\", \"would\", \"wrap content\", \"xml\", \"xml\", \"xml\", \"xml\", \"xmlns\", \"yyyi\"]}, \"R\": 30, \"lambda.step\": 0.01, \"plot.opts\": {\"xlab\": \"PC1\", \"ylab\": \"PC2\"}, \"topic.order\": [2, 1, 4, 3]};\n",
       "\n",
       "function LDAvis_load_lib(url, callback){\n",
       "  var s = document.createElement('script');\n",
       "  s.src = url;\n",
       "  s.async = true;\n",
       "  s.onreadystatechange = s.onload = callback;\n",
       "  s.onerror = function(){console.warn(\"failed to load library \" + url);};\n",
       "  document.getElementsByTagName(\"head\")[0].appendChild(s);\n",
       "}\n",
       "\n",
       "if(typeof(LDAvis) !== \"undefined\"){\n",
       "   // already loaded: just create the visualization\n",
       "   !function(LDAvis){\n",
       "       new LDAvis(\"#\" + \"ldavis_el1175216372343010721767123083\", ldavis_el1175216372343010721767123083_data);\n",
       "   }(LDAvis);\n",
       "}else if(typeof define === \"function\" && define.amd){\n",
       "   // require.js is available: use it to load d3/LDAvis\n",
       "   require.config({paths: {d3: \"https://d3js.org/d3.v5\"}});\n",
       "   require([\"d3\"], function(d3){\n",
       "      window.d3 = d3;\n",
       "      LDAvis_load_lib(\"https://cdn.jsdelivr.net/gh/bmabey/pyLDAvis@3.3.1/pyLDAvis/js/ldavis.v3.0.0.js\", function(){\n",
       "        new LDAvis(\"#\" + \"ldavis_el1175216372343010721767123083\", ldavis_el1175216372343010721767123083_data);\n",
       "      });\n",
       "    });\n",
       "}else{\n",
       "    // require.js not available: dynamically load d3 & LDAvis\n",
       "    LDAvis_load_lib(\"https://d3js.org/d3.v5.js\", function(){\n",
       "         LDAvis_load_lib(\"https://cdn.jsdelivr.net/gh/bmabey/pyLDAvis@3.3.1/pyLDAvis/js/ldavis.v3.0.0.js\", function(){\n",
       "                 new LDAvis(\"#\" + \"ldavis_el1175216372343010721767123083\", ldavis_el1175216372343010721767123083_data);\n",
       "            })\n",
       "         });\n",
       "}\n",
       "</script>"
      ],
      "text/plain": [
       "PreparedData(topic_coordinates=              x         y  topics  cluster       Freq\n",
       "topic                                                \n",
       "1      0.111815 -0.037463       1        1  33.460852\n",
       "0      0.106013  0.076437       2        1  26.658021\n",
       "3     -0.068500 -0.120431       3        1  22.528953\n",
       "2     -0.149328  0.081458       4        1  17.352175, topic_info=         Term         Freq        Total Category  logprob  loglift\n",
       "300   android   705.000000   705.000000  Default  30.0000  30.0000\n",
       "1816      git   604.000000   604.000000  Default  29.0000  29.0000\n",
       "1547     file  1102.000000  1102.000000  Default  28.0000  28.0000\n",
       "4049   string   996.000000   996.000000  Default  27.0000  27.0000\n",
       "2156   instal   394.000000   394.000000  Default  26.0000  26.0000\n",
       "...       ...          ...          ...      ...      ...      ...\n",
       "4237     test   133.697785   468.145901   Topic4  -5.6832   0.4983\n",
       "4542      use   176.569023  1356.225506   Topic4  -5.4050  -0.2873\n",
       "4371      tri   137.778672   610.830405   Topic4  -5.6531   0.2623\n",
       "3799      set   130.975965   562.026064   Topic4  -5.7037   0.2949\n",
       "1762      get   132.078108   852.528688   Topic4  -5.6954  -0.1134\n",
       "\n",
       "[330 rows x 6 columns], token_table=      Topic      Freq   Term\n",
       "term                        \n",
       "0         1  0.056921     00\n",
       "0         2  0.872785     00\n",
       "0         4  0.066408     00\n",
       "1         2  0.972133  00 00\n",
       "1         4  0.023711  00 00\n",
       "...     ...       ...    ...\n",
       "4960      2  0.240093    xml\n",
       "4960      3  0.017150    xml\n",
       "4960      4  0.720280    xml\n",
       "4965      4  0.984488  xmlns\n",
       "4986      1  0.964359   yyyi\n",
       "\n",
       "[663 rows x 3 columns], R=30, lambda_step=0.01, plot_opts={'xlab': 'PC1', 'ylab': 'PC2'}, topic_order=[2, 1, 4, 3])"
      ]
     },
     "execution_count": 43,
     "metadata": {},
     "output_type": "execute_result"
    }
   ],
   "source": [
    "pyLDAvis.sklearn.prepare(lda,tfidf,tfidf_vectorizer)"
   ]
  },
  {
   "cell_type": "code",
   "execution_count": 44,
   "metadata": {},
   "outputs": [],
   "source": [
    "def plot_tsne_pca(data, labels):\n",
    "    max_items = np.random.choice(range(data.shape[0]), size=3000, replace=False)\n",
    "    pca = PCA(n_components=2).fit_transform(data[max_items,:].todense())\n",
    "    tsne = TSNE().fit_transform(PCA(n_components=50).fit_transform(data[max_items,:].todense()))\n",
    "    \n",
    "    idx = np.random.choice(range(pca.shape[0]), size=300, replace=False)\n",
    "    label_subset = labels[max_items]\n",
    "    label_subset = [cm.hsv(i/max(labels)) for i in label_subset[idx]]\n",
    "    \n",
    "    fig, ax = plt.subplots(1, 2, figsize=(15, 5))\n",
    "    \n",
    "    ax[0].scatter(pca[idx, 0], pca[idx, 1], c=label_subset)\n",
    "    ax[0].set_title('PCA Cluster Plot')\n",
    "    \n",
    "    ax[1].scatter(tsne[idx, 0], tsne[idx, 1], c=label_subset)\n",
    "    ax[1].set_title('TSNE Cluster Plot')"
   ]
  },
  {
   "cell_type": "code",
   "execution_count": 45,
   "metadata": {},
   "outputs": [
    {
     "data": {
      "image/png": "[encoded data removed]",
      "text/plain": [
       "<Figure size 1080x360 with 2 Axes>"
      ]
     },
     "metadata": {
      "needs_background": "light"
     },
     "output_type": "display_data"
    }
   ],
   "source": [
    "clusters = MiniBatchKMeans(n_clusters=4, random_state=20).fit_predict(tfidf)\n",
    "plot_tsne_pca(tfidf, clusters)"
   ]
  },
  {
   "cell_type": "code",
   "execution_count": 46,
   "metadata": {},
   "outputs": [
    {
     "name": "stdout",
     "output_type": "stream",
     "text": [
      "Topics found via LDA:\n",
      "\n",
      "Topic #0:\n",
      "file use python list array string object function class code\n",
      "\n",
      "Topic #1:\n",
      "string tabl data date valu column use get id sql\n",
      "\n",
      "Topic #2:\n",
      "git class commit button branch chang div view use text\n",
      "\n",
      "Topic #3:\n",
      "android imag instal app project div use studio file error\n"
     ]
    }
   ],
   "source": [
    "def print_topics(model, count_vectorizer, n_top_words):\n",
    "    words = count_vectorizer.get_feature_names()\n",
    "    for topic_idx, topic in enumerate(model.components_):\n",
    "        print(\"\\nTopic #%d:\" % topic_idx)\n",
    "        print(\" \".join([words[i] for i in topic.argsort()[:-n_top_words - 1:-1]]))\n",
    "\n",
    "number_topics = 4\n",
    "number_words = 10\n",
    "\n",
    "lda = LDA(n_components=number_topics, n_jobs=-1)\n",
    "lda.fit(tfidf)\n",
    "\n",
    "print(\"Topics found via LDA:\")\n",
    "print_topics(lda, tfidf_vectorizer, number_words)"
   ]
  },
  {
   "cell_type": "markdown",
   "metadata": {},
   "source": [
    "### SKLearn"
   ]
  },
  {
   "cell_type": "code",
   "execution_count": 47,
   "metadata": {},
   "outputs": [],
   "source": [
    "#Boucle sur LDA\n",
    "dict={}\n",
    "for i in [2,4,6,10]:\n",
    "    #,4,6,10,12\n",
    "    lda =  LatentDirichletAllocation(n_components = i).fit(tfidf)\n",
    "    perp=lda.perplexity(tfidf)\n",
    "    dict[i]=perp"
   ]
  },
  {
   "cell_type": "code",
   "execution_count": 48,
   "metadata": {},
   "outputs": [
    {
     "data": {
      "text/plain": [
       "{2: 2752.123649218644,\n",
       " 4: 3154.971236661678,\n",
       " 6: 3612.255314467841,\n",
       " 10: 4216.546659102981}"
      ]
     },
     "execution_count": 48,
     "metadata": {},
     "output_type": "execute_result"
    }
   ],
   "source": [
    "dict"
   ]
  },
  {
   "cell_type": "raw",
   "metadata": {},
   "source": [
    "Extraires tags des mots clés et comparer avec df.Tags. Voir les lignes associées aux topics (dans lda transform sur X)."
   ]
  },
  {
   "cell_type": "markdown",
   "metadata": {},
   "source": [
    "### Ou avec Gensim"
   ]
  },
  {
   "cell_type": "code",
   "execution_count": 49,
   "metadata": {},
   "outputs": [],
   "source": [
    "id2word = corpora.Dictionary(df.Document)\n",
    "\n",
    "texts = df.Document\n",
    "\n",
    "corpus = [id2word.doc2bow(text) for text in texts]"
   ]
  },
  {
   "cell_type": "code",
   "execution_count": 50,
   "metadata": {},
   "outputs": [
    {
     "name": "stdout",
     "output_type": "stream",
     "text": [
      "Coherence Score:  0.38280329930799095\n",
      "Coherence Score:  0.46999458436329916\n",
      "Coherence Score:  0.5398770976198571\n",
      "Coherence Score:  0.584074521760256\n",
      "Coherence Score:  0.5608615498506905\n"
     ]
    }
   ],
   "source": [
    "#Boucle sur LdaMulticore\n",
    "dict={}\n",
    "for i in  np.arange(2,12,2) :\n",
    "    lda_model = gensim.models.LdaMulticore(corpus=corpus,\n",
    "                                       id2word=id2word,\n",
    "                                       num_topics=i, \n",
    "                                       random_state=100,\n",
    "                                       chunksize=100,\n",
    "                                       passes=10,\n",
    "                                       per_word_topics=True)\n",
    "    # Compute Coherence Score\n",
    "    coherence_model_lda = CoherenceModel(model=lda_model, texts=df.Document, dictionary=id2word, coherence='c_v')\n",
    "    coherence_lda = coherence_model_lda.get_coherence()\n",
    "    dict[i]=coherence_lda\n",
    "    print('Coherence Score: ', coherence_lda)"
   ]
  },
  {
   "cell_type": "code",
   "execution_count": 51,
   "metadata": {},
   "outputs": [
    {
     "data": {
      "image/png": "[encoded data removed]",
      "text/plain": [
       "<Figure size 432x288 with 1 Axes>"
      ]
     },
     "metadata": {
      "needs_background": "light"
     },
     "output_type": "display_data"
    }
   ],
   "source": [
    "plt.plot(*zip(*sorted(dict.items())))\n",
    "plt.show()"
   ]
  },
  {
   "cell_type": "code",
   "execution_count": 52,
   "metadata": {},
   "outputs": [
    {
     "data": {
      "image/png": "[encoded data removed]",
      "text/plain": [
       "<Figure size 720x720 with 1 Axes>"
      ]
     },
     "metadata": {
      "needs_background": "light"
     },
     "output_type": "display_data"
    }
   ],
   "source": [
    "keys = dict.keys()\n",
    "values = dict.values()\n",
    "\n",
    "plt.figure(figsize=(10,10))\n",
    "plt.bar(keys, values)\n",
    "plt.show()"
   ]
  },
  {
   "cell_type": "code",
   "execution_count": 53,
   "metadata": {},
   "outputs": [],
   "source": [
    "lda_model = gensim.models.LdaMulticore(corpus=corpus,\n",
    "                                       id2word=id2word,\n",
    "                                       num_topics=8, \n",
    "                                       random_state=100,\n",
    "                                       chunksize=100,\n",
    "                                       passes=10,\n",
    "                                       per_word_topics=True)"
   ]
  },
  {
   "cell_type": "code",
   "execution_count": 54,
   "metadata": {},
   "outputs": [],
   "source": [
    "vis = pyLDAvis.gensim_models.prepare(lda_model, corpus, id2word)"
   ]
  },
  {
   "cell_type": "code",
   "execution_count": 55,
   "metadata": {},
   "outputs": [
    {
     "data": {
      "text/html": [
       "\n",
       "<link rel=\"stylesheet\" type=\"text/css\" href=\"https://cdn.jsdelivr.net/gh/bmabey/pyLDAvis@3.3.1/pyLDAvis/js/ldavis.v1.0.0.css\">\n",
       "\n",
       "\n",
       "<div id=\"ldavis_el1175216373085196964153932853\"></div>\n",
       "<script type=\"text/javascript\">\n",
       "\n",
       "var ldavis_el1175216373085196964153932853_data = {\"mdsDat\": {\"x\": [-0.14464435702658177, -0.01539278729240172, -0.037702420602584705, -0.13265704619390567, -0.08042533901269737, -0.1139006789912712, 0.12225849625024404, 0.40246413286919813], \"y\": [0.01370310652901355, -0.13702684436897872, -0.2159196691829714, -0.061813246482180256, 0.09459568293183314, 0.11639849976356045, 0.2572945186371908, -0.06723204782746736], \"topics\": [1, 2, 3, 4, 5, 6, 7, 8], \"cluster\": [1, 1, 1, 1, 1, 1, 1, 1], \"Freq\": [22.023250051137662, 14.94195628540495, 13.561169619052297, 12.403446569242714, 11.629493028313528, 10.660229091959225, 9.261057384572604, 5.5193979703170175]}, \"tinfo\": {\"Term\": [\"0\", \"android\", \"1\", \"java\", \"file\", \"2\", \"string\", \"class\", \"3\", \"public\", \"app\", \"div\", \"4\", \"object\", \"org\", \"git\", \"instal\", \"com\", \"return\", \"valu\", \"tabl\", \"5\", \"modul\", \"x\", \"int\", \"id\", \"column\", \"angular\", \"c\", \"date\", \"python2\", \"await\", \"rxjs\", \"prototyp\", \"es6\", \"html5\", \"compos\", \"python3\", \"setstat\", \"pkg\", \"redux\", \"ipython\", \"notebook\", \"2016\", \"aria\", \"sed\", \"underscor\", \"syntaxerror\", \"wheel\", \"kwarg\", \"lodash\", \"pycharm\", \"fn\", \"valueerror\", \"closur\", \"scanner\", \"pickl\", \"heard\", \"metadata\", \"2d\", \"advantag\", \"difficult\", \"practic\", \"good\", \"vs\", \"benefit\", \"explan\", \"understand\", \"feel\", \"realli\", \"answer\", \"much\", \"often\", \"question\", \"differ\", \"across\", \"interest\", \"thing\", \"lot\", \"explain\", \"async\", \"would\", \"think\", \"better\", \"ask\", \"function\", \"self\", \"peopl\", \"seem\", \"wonder\", \"best\", \"way\", \"standard\", \"one\", \"use\", \"know\", \"case\", \"mean\", \"someth\", \"like\", \"call\", \"perform\", \"code\", \"variabl\", \"exampl\", \"look\", \"time\", \"need\", \"make\", \"also\", \"work\", \"python\", \"could\", \"want\", \"find\", \"test\", \"method\", \"git\", \"instal\", \"npm\", \"directori\", \"branch\", \"usr\", \"gradl\", \"pip\", \"master\", \"maven\", \"bash\", \"bin\", \"repo\", \"donhuvi\", \"cli\", \"virtualenv\", \"rb\", \"egg\", \"shell\", \"dir\", \"webpack\", \"exe\", \"docker\", \"gyp\", \"devkit\", \"appdata\", \"cmd\", \"launcher\", \"artifactid\", \"curl\", \"py\", \"txt\", \"lib\", \"command\", \"repositori\", \"file\", \"folder\", \"commit\", \"packag\", \"studio\", \"modul\", \"node\", \"github\", \"local\", \"build\", \"linux\", \"project\", \"path\", \"remot\", \"run\", \"version\", \"error\", \"js\", \"line\", \"script\", \"window\", \"tri\", \"get\", \"use\", \"user\", \"python\", \"test\", \"android\", \"bootstrap\", \"fragment\", \"icon\", \"router\", \"request\", \"mvc\", \"apk\", \"drawabl\", \"layoutinflat\", \"notif\", \"firebas\", \"socket\", \"inflat\", \"oncreat\", \"req\", \"certif\", \"ssl\", \"v7\", \"appcompat\", \"savedinstancest\", \"uri\", \"viewgroup\", \"auth\", \"train\", \"mongodb\", \"flask\", \"adb\", \"toggl\", \"mongoos\", \"password\", \"login\", \"localhost\", \"asp\", \"servic\", \"authent\", \"devic\", \"connect\", \"xcode\", \"app\", \"rout\", \"promis\", \"intent\", \"activ\", \"respons\", \"web\", \"url\", \"client\", \"send\", \"http\", \"applic\", \"api\", \"io\", \"layout\", \"com\", \"view\", \"server\", \"post\", \"user\", \"error\", \"googl\", \"net\", \"get\", \"messag\", \"use\", \"data\", \"new\", \"tri\", \"set\", \"name\", \"div\", \"width\", \"height\", \"css\", \"jqueri\", \"color\", \"li\", \"td\", \"ng\", \"chrome\", \"href\", \"font\", \"span\", \"scroll\", \"center\", \"border\", \"margin\", \"img\", \"angularj\", \"ul\", \"pod\", \"modal\", \"vertic\", \"nav\", \"flex\", \"th\", \"navbar\", \"btn\", \"canva\", \"toolbar\", \"angular\", \"ts\", \"button\", \"react\", \"angular2\", \"style\", \"imag\", \"click\", \"anim\", \"res\", \"html\", \"render\", \"text\", \"background\", \"parent\", \"compon\", \"form\", \"event\", \"input\", \"element\", \"page\", \"class\", \"item\", \"content\", \"id\", \"type\", \"function\", \"use\", \"work\", \"view\", \"want\", \"prop\", \"enum\", \"arraylist\", \"bean\", \"mock\", \"cout\", \"myclass\", \"cp\", \"firstnam\", \"pil\", \"endl\", \"hashmap\", \"lastnam\", \"writelin\", \"oid\", \"apt\", \"pom\", \"jackson\", \"ienumer\", \"base64\", \"toast\", \"jpa\", \"nullabl\", \"typeof\", \"typenam\", \"employe\", \"iostream\", \"boolvalu\", \"javac\", \"baz\", \"println\", \"public\", \"static\", \"privat\", \"void\", \"constructor\", \"entiti\", \"cooki\", \"string\", \"foo\", \"obj\", \"member\", \"tostr\", \"object\", \"boolean\", \"properti\", \"assert\", \"class\", \"return\", \"map\", \"catch\", \"json\", \"int\", \"const\", \"type\", \"new\", \"null\", \"method\", \"throw\", \"valu\", \"var\", \"final\", \"name\", \"except\", \"fals\", \"array\", \"list\", \"system\", \"get\", \"use\", \"error\", \"code\", \"java\", \"set\", \"column\", \"sql\", \"df\", \"gem\", \"matplotlib\", \"env\", \"csv\", \"regex\", \"plt\", \"timestamp\", \"rebas\", \"varchar\", \"ext\", \"decim\", \"listview\", \"datetim\", \"price\", \"collaps\", \"foreign\", \"timezon\", \"er101\", \"postgr\", \"green\", \"dbo\", \"utc\", \"gitignor\", \"rep\", \"yyyi\", \"hole\", \"dd\", \"mysql\", \"date\", \"mm\", \"pd\", \"tabl\", \"panda\", \"queri\", \"charact\", \"row\", \"26\", \"databas\", \"join\", \"insert\", \"record\", \"select\", \"group\", \"format\", \"db\", \"u\", \"id\", \"number\", \"key\", \"index\", \"list\", \"data\", \"valu\", \"name\", \"string\", \"order\", \"get\", \"want\", \"+\", \"like\", \"user\", \"time\", \"use\", \"creat\", \"1\", \"tri\", \"numpi\", \"#includ\", \"plot\", \"np\", \"ptr\", \"j\", \"pg\", \"printf\", \"longword\", \"tensorflow\", \"vector\", \"decod\", \"clang\", \"axi\", \"sizeof\", \"3000\", \"48\", \"svg\", \"stylesheet\", \"nan\", \"cc\", \"++i\", \"clock\", \"na\", \"g++\", \"dt\", \"rdx\", \"unsort\", \"arrays\", \"multipli\", \"cpp\", \"gcc\", \"39\", \"0\", \"3\", \"4\", \"1\", \"2\", \"5\", \"6\", \"n\", \"x\", \"std\", \"byte\", \"9\", \"b\", \"char\", \"h\", \"c\", \"8\", \"array\", \"bit\", \"7\", \"10\", \"+\", \"int\", \"size\", \"compil\", \"r\", \"#\", \"version\", \"return\", \"number\", \"data\", \"valu\", \"err\", \"datafram\", \"03\", \"activitythread\", \"19\", \"springframework\", \"02\", \"androidruntim\", \"09\", \"min\", \"28\", \"05\", \"06\", \"sun\", \"07\", \"junit\", \"31\", \"mib\", \"08\", \"zygoteinit\", \"intellij\", \"uiview\", \"snmp\", \"53\", \"weight\", \"55\", \"arr\", \"threadpoolexecutor\", \"tableview\", \"54\", \"org\", \"lang\", \"18\", \"apach\", \"java\", \"23\", \"intern\", \"04\", \"01\", \"22\", \"12\", \"11\", \"17\", \"2013\", \"com\", \"15\", \"jar\", \"14\", \"00\", \"util\", \"0\", \"1\", \"e\", \"main\", \"10\", \"self\", \"core\", \"run\", \"method\"], \"Freq\": [34152.0, 25176.0, 31878.0, 16779.0, 21691.0, 20807.0, 19881.0, 19517.0, 13191.0, 10742.0, 13096.0, 9762.0, 9795.0, 11860.0, 5962.0, 7936.0, 7932.0, 9916.0, 16220.0, 15844.0, 6473.0, 8064.0, 8290.0, 7412.0, 8226.0, 12869.0, 5481.0, 5807.0, 9573.0, 5556.0, 1166.1017467003549, 886.9187443654332, 799.252205486101, 619.9128746652736, 558.768169072107, 496.5246604971047, 466.83963609552666, 424.63813395481355, 402.4152144716886, 366.60082143304095, 418.72442475787574, 332.784044868628, 325.94687804318283, 294.10153937068594, 319.3853768043744, 279.92623228124893, 256.62029601290857, 254.40657836402693, 255.5273518256949, 250.2260261618608, 250.45517012929704, 241.37906028923686, 238.1432387198601, 236.00398821055825, 216.01922126975805, 212.82431826599492, 205.68621398980963, 207.0441756369265, 209.25338294391665, 194.2867433443713, 427.1248202848711, 227.2700133770719, 1178.2110382132644, 2007.7192680847334, 2144.2795870092555, 327.71488556628117, 528.8642768428662, 3321.9432464106976, 663.3123143126953, 2546.343366800367, 3304.7686084617826, 1520.7680639933744, 501.0320264929246, 5961.7966952469815, 7511.192689698002, 794.1092067721696, 833.0848844930592, 3158.5226790630372, 1557.7837424213717, 1434.14708746221, 1260.0909479409108, 9314.566873030097, 2327.2266798612136, 1979.4497470631663, 1463.8183483462635, 12218.285180173625, 3754.8531149026735, 994.4903054809889, 4876.750535170639, 1483.1460468203752, 2084.217642460269, 9098.400786658645, 1426.2057238440075, 7730.481978586653, 24634.805187292895, 5567.833861479966, 3717.087510763067, 2696.4639123757615, 4907.422347980685, 10814.225607003847, 5480.092553221649, 1811.5870974311879, 9128.642582542789, 3590.2154062214886, 5473.586873276044, 3954.331494256013, 4845.142431181961, 5083.319357970897, 4321.3096499617295, 3667.8502007602024, 6019.88208708335, 4221.220606549064, 3371.6094573785845, 5000.29410039303, 3507.214327796029, 3525.6924080532176, 3550.7810685787663, 7935.883011166816, 7931.847465821999, 3238.1909889939407, 2990.284334196223, 2845.12685337426, 2420.7517820376347, 2368.9877737572588, 2281.863908311102, 1656.2238997555469, 1437.15435856909, 1348.3805633110671, 2054.026709508703, 1079.3212404717553, 989.2648535037665, 966.205964449702, 955.1338943473818, 943.5670345859926, 888.8453930413326, 844.828041833281, 828.6951984888973, 787.6025450437227, 760.4941035925194, 742.4161097253818, 737.2562145049459, 705.8014225749588, 697.2398957695466, 654.5773167573033, 634.9785481958862, 627.5805531556986, 626.1939811654283, 3682.6554542922536, 1557.317074754286, 4689.720621315088, 5752.1456971857115, 2037.403745522691, 20207.190495547315, 2111.329939129168, 2665.8363312665133, 5072.573489601981, 2431.967014309864, 7505.75343892918, 6319.712466812044, 2171.8714478190104, 3989.5552706447006, 5693.558866337996, 1567.152170708934, 6056.80337564927, 3925.181381963549, 1585.211677790799, 6218.313522204317, 5093.896513685336, 8065.295050902325, 4621.080007830968, 4635.009327322594, 3133.167624955513, 2926.7485972405334, 4303.163329352697, 3972.8116693431903, 4755.941421868245, 3248.402256326728, 2887.857700992868, 2855.6851422735967, 25176.183336171125, 1499.352785363424, 1502.6721640072924, 1349.8702264158524, 1338.3231224924912, 4763.133698034986, 1094.0566873055932, 1051.7723180949902, 916.3809985017186, 874.8012657023361, 819.351104438671, 727.1237327050352, 727.1342120600334, 694.1122755904703, 655.1334843431099, 633.6945564722297, 613.0737627262669, 596.9513036935922, 687.3316747927294, 553.3667500281528, 544.4393703258817, 481.84916066161253, 463.40795822681366, 431.1341789870429, 429.3315867667582, 412.503890048396, 405.4249712186149, 403.1967339398498, 381.3544940621249, 359.020755255712, 1867.3645981506859, 1002.9813574509443, 1166.1089528339835, 1237.3382167774848, 3280.3549001969204, 746.8235457600872, 1895.7239088168517, 3212.042103740088, 2534.826785960168, 11938.733568159652, 1475.9077768133177, 1048.3114967907627, 1284.694937392646, 3209.3591598035987, 2468.163199470271, 3181.357177963602, 3794.922153297382, 2094.961872653717, 1515.9573519902524, 5055.762184746056, 4457.9606789559675, 2825.99503467968, 2486.713604801145, 3887.996004952242, 5582.527636121409, 4707.83248104646, 3511.438764909912, 2296.3446111468884, 4981.313181927522, 5978.61564519718, 2330.7056717510627, 2443.5986751266373, 4814.262871921043, 2355.832988995913, 5027.29453014734, 3161.7418869193557, 3010.841236457159, 2749.3729686727675, 2447.633284065195, 2363.866473990411, 9761.625657776087, 4417.591208396387, 3971.433545968718, 3453.206691374959, 3299.6888914193937, 3342.685037686702, 2203.411815440325, 2018.3331303961697, 2007.8739401888458, 1663.4263716680678, 1514.8910589151637, 1413.2138568611404, 1318.4406966244246, 1250.9547851282655, 1225.8195434746738, 1001.7980568979308, 993.2269009456425, 951.6968514067781, 933.975056285443, 836.2800729530929, 808.9918290768605, 778.1062221077277, 765.0518228087197, 749.1133108186389, 655.6106769622676, 644.3843418999305, 640.2617566723902, 592.5793070049118, 572.6443301403234, 565.939105955953, 5768.360301593347, 1248.0859661012646, 4844.161248685926, 4026.267407232314, 859.4322187068173, 3619.0608216760115, 4769.189193377606, 3028.6210563743343, 1337.9283861904667, 1614.003220201152, 4856.840743712921, 2132.849572940954, 6379.7310174445265, 2250.689140136579, 2865.241357119246, 3749.3955219207755, 3065.347009874337, 2594.316402607025, 3502.017363021125, 3588.6620455546527, 3170.1976472233173, 6250.871632027099, 3203.298792835988, 2920.5621016061777, 3887.607925678395, 3204.0058629215127, 3419.6905218098664, 3997.2727151741205, 2971.758375345341, 2621.8206956760564, 2654.004011942155, 1521.0339063973, 990.5604550852408, 785.5836381449074, 777.0077642511171, 755.1260882034394, 753.4748021751369, 656.5899920337503, 572.3087970802517, 449.72774489741835, 443.86279689152457, 424.0124491778957, 395.91816916056496, 394.29926947424985, 546.0657930498941, 378.3860598690228, 351.9643539455767, 352.4864149033737, 340.22387528527014, 333.6707359274276, 326.7907621509397, 319.5502908209585, 376.42927659507507, 322.27484401727264, 301.97850273589734, 300.5206999334175, 291.3264654356785, 288.279129182681, 254.3713657332286, 242.14789106592244, 229.9788274174517, 1208.5564341822217, 10259.087993657782, 3865.7433873622094, 3566.758963884791, 4851.068402429328, 1539.1342130655885, 1217.0019278819614, 550.6841983643459, 15083.053422957613, 3587.968261169026, 1003.6745909877615, 950.7547679988947, 875.069433658199, 8590.486297007441, 1163.1769569696523, 3165.449414101129, 654.4372210556761, 12049.591586903867, 9366.348139666028, 2712.8457914996875, 1251.2393248728692, 3825.245874975003, 4796.928849399095, 1953.7910607711124, 6575.203909913849, 7501.631059603195, 3509.935002972231, 5353.41646417493, 1494.8536616467904, 6297.579641707906, 4212.377720403132, 1673.7546362066903, 5466.172988153569, 2284.5737158012134, 2304.5455061588673, 2775.436534690116, 3426.8028233785794, 2599.446746067581, 4547.913777039002, 4265.5410179690625, 3247.2543184086044, 3174.202713095147, 2851.0843509636725, 2345.05323288896, 5480.451922607531, 2729.832283203868, 1951.5063333904682, 1883.5241089714568, 1424.9252999981038, 1051.3170106644038, 1126.6509203439614, 777.9847395715714, 746.2975167271081, 673.9446051800844, 644.4513461847606, 604.6128447386433, 576.5025225572316, 553.412312326901, 506.84224597530715, 1641.6317958341215, 470.8047275911625, 431.847340824933, 391.043952632959, 430.52697422687066, 380.5766757539863, 379.85275186096715, 374.5560255383776, 363.00659902700966, 357.8639574877682, 355.5532484193435, 339.50407808295495, 392.19065312113025, 329.77895598723103, 515.9962235395905, 2996.6777784802825, 5431.9395687210545, 705.906056625236, 713.8894309786026, 6189.120926915246, 2335.206343264411, 3596.564456238708, 2290.5728025860967, 3476.823969210559, 1110.6508608748334, 3234.7753655772303, 1332.885142686647, 1563.46133969301, 1175.1406769294622, 3897.873086230672, 1668.4284135699497, 2408.255944905469, 1422.7801769289622, 1259.6949156108303, 5893.418228147075, 3047.1972408446813, 3228.6778755353944, 2562.484774793682, 4534.038785400604, 5359.761088531166, 5702.955931565656, 5051.03802300463, 4606.987194347252, 1719.3015101902593, 4357.159357316585, 3504.568053063802, 2765.484882224177, 3514.5083446787794, 2818.7446499555344, 2447.898993202507, 3606.7327015033707, 2306.3406770384236, 2533.3677473552452, 2327.980068522827, 1335.4934719971282, 949.5266604719031, 897.0632712094186, 748.620706425365, 728.3075569840667, 585.6443580161352, 838.7523147180709, 474.0666121342367, 452.6808155885413, 449.28349361007366, 1172.3952683114649, 409.2027278167743, 399.21704769112364, 397.30400588500606, 390.4840210361809, 353.6570961529168, 353.7921693637005, 343.5570691632442, 322.30464470364547, 838.0046019820591, 305.75944733786247, 274.8415843632408, 259.9297795475492, 250.03644898393264, 247.9391968826799, 240.52117871714643, 230.3218803477476, 205.0676089447419, 200.61183545409332, 197.13436508376083, 572.4462505676585, 920.8359998820995, 269.5265082677409, 28527.036640823928, 10835.949328244289, 8135.690838462493, 23549.3896940887, 15822.932985813639, 6525.030632649008, 4031.381127203685, 2913.9194376255696, 5624.792006903047, 2325.8161527571874, 1449.0245782955435, 3087.3862895762018, 4298.168785618951, 1189.5469850642341, 1306.044696391617, 5172.624461694221, 3402.238737195314, 3739.48565053376, 1800.9898570642893, 3079.379819141048, 2774.302698781111, 3840.463473405879, 3336.836398031505, 1732.3013360682335, 2197.2962217563872, 1578.812492442392, 1712.5679768478615, 1803.6841257180695, 1895.015672169342, 1497.6686102319118, 1592.8247542554627, 1592.344685136881, 2174.9331069508557, 1394.0214516062058, 1045.0187968088478, 994.4251206087253, 980.8823359398314, 960.5908129048423, 979.9281657090432, 930.449008816109, 897.2527412743672, 849.2951293092975, 788.7926259973032, 736.8823160727625, 721.204464806359, 657.1376905272317, 595.5406183163919, 586.3187751254461, 606.3235809601626, 558.2158748014858, 527.8037613249488, 515.5567277100582, 483.476238029302, 463.2353368248277, 458.20023598655206, 430.16716209179157, 388.5883202895065, 379.78410720030695, 373.1250990586509, 367.3765846697054, 363.47140876935936, 361.20477668692564, 5717.185908465211, 1557.6084606351562, 1099.0823524413038, 1399.4584040106577, 13924.555682941926, 972.656707999125, 2257.7578797694814, 870.8567661913072, 1122.0919787736898, 912.553678985023, 1986.4410895707454, 1714.31248555963, 875.361456523665, 708.539358265238, 3058.9213437848493, 1129.0181266121044, 895.7281198816648, 907.4200846588307, 1093.7101922508625, 971.0972200049264, 2296.5677633783366, 1850.5415182733268, 1268.1649531590406, 1187.2067554611615, 1150.4579168412913, 1070.3753929077302, 1006.5924458164518, 1055.7221908847653, 955.4354968723702], \"Total\": [34152.0, 25176.0, 31878.0, 16779.0, 21691.0, 20807.0, 19881.0, 19517.0, 13191.0, 10742.0, 13096.0, 9762.0, 9795.0, 11860.0, 5962.0, 7936.0, 7932.0, 9916.0, 16220.0, 15844.0, 6473.0, 8064.0, 8290.0, 7412.0, 8226.0, 12869.0, 5481.0, 5807.0, 9573.0, 5556.0, 1166.8488086570937, 887.6617112642521, 800.0176973663948, 620.6829414669132, 559.5126114221487, 497.26768071209426, 467.5838996008721, 425.3881471564299, 403.16050538450423, 367.36720685557196, 419.6157522306699, 333.52685274773427, 326.69378065409484, 294.86993574656304, 320.2214150339328, 280.6692064724342, 257.3629427225847, 255.16078340061495, 256.28631493176687, 250.97034929564944, 251.20130804697314, 242.1282411115999, 238.88752772040064, 236.749656273193, 216.76246238262434, 213.57181518945754, 206.42861494898546, 207.79441280999367, 210.01867671826338, 195.03134849884415, 430.28637413221776, 228.1833153144468, 1209.4600660813676, 2091.2457033262513, 2261.3790675989903, 332.19159666516754, 544.4283584112154, 3674.019903086318, 688.8769953701026, 2835.4199222048314, 3737.6560402259274, 1660.111439132576, 518.5166149709497, 7069.142701707216, 9233.166864113515, 848.0496519943201, 895.0945080013219, 3710.0382157083095, 1771.3096111797342, 1621.1604974664908, 1412.8389166430545, 12640.014727948266, 2790.114029175273, 2338.081374017757, 1689.3395701449417, 17948.751910593168, 4834.484636131151, 1103.6949140030563, 6612.791665463315, 1735.6746825934645, 2557.290127420618, 14365.720182903906, 1673.3362853067665, 11965.108157205917, 46803.05089034364, 8154.1526057347255, 5151.926689565059, 3527.498443958315, 7430.092920537313, 19754.880643883807, 8973.6638149933, 2225.8597608095706, 18515.785944963452, 5486.082310559017, 9889.126351286965, 6373.292479694208, 8668.61651526979, 9662.286222444458, 7688.92132695314, 6107.026395109897, 15460.116216275968, 8461.611011678078, 5987.551251265164, 14469.503215059565, 7777.51624078172, 10214.7939456171, 10972.533279626969, 7936.655676144301, 7932.951130321894, 3238.963887703394, 2991.057205230467, 2845.8996800328464, 2421.525321465848, 2369.762041438383, 2282.636669687977, 1657.0094373786148, 1437.9278068780827, 1349.1535617640272, 2055.328401761783, 1080.0946830599187, 990.0380839043715, 966.9800801798938, 955.9066451160212, 944.3407233706399, 889.61830477158, 845.6059653867063, 829.4687207402623, 788.3767066473814, 761.2669918884578, 743.1892727326731, 738.034234111386, 706.5776582507723, 698.0129414878496, 655.3508185864707, 635.7575091975073, 628.3546140943973, 626.9675495631096, 3696.797157995273, 1564.4286305258343, 4810.737767540948, 5964.676588068663, 2068.9387258961683, 21691.184538529043, 2169.781834201755, 2760.7979006492405, 5382.306236681988, 2538.635957240508, 8290.77677906469, 6922.514626796853, 2271.8406564607717, 4536.179527008173, 6749.041058849476, 1650.4420547950594, 7452.297024329771, 4638.143155982632, 1692.8807492504445, 11625.253058622777, 8840.494078895259, 19589.879294964605, 8464.983901126168, 9067.809965928187, 5669.895166658131, 4832.666408273519, 16991.508957525133, 22998.699023783414, 46803.05089034364, 12527.654628535929, 8461.611011678078, 10214.7939456171, 25176.95115209709, 1500.121692636643, 1503.45261208659, 1350.6373598094767, 1339.0912210009872, 4766.164607927527, 1094.8242131496934, 1052.5402550934818, 917.1469207106276, 875.5678138510359, 820.1175728494809, 727.8911200762009, 727.9115087652125, 694.8784778620981, 655.899645813933, 634.462664322726, 613.8397537263394, 597.7176507258753, 688.2186032314456, 554.1332522807867, 545.2052486573965, 482.6152233258316, 464.174258323821, 431.90037879619103, 430.1020457885056, 413.2710891224157, 406.1911779648872, 403.9626264328676, 382.1239450458726, 359.7871272570556, 1880.3823782466322, 1005.4624608764512, 1170.9884955222074, 1243.5922352057923, 3333.188821085287, 751.1095178477703, 1937.1649701351027, 3355.796089911295, 2639.6170633939983, 13096.042199262753, 1526.255546631639, 1072.363017912739, 1330.0019223079032, 3510.7260292721962, 2709.944967242148, 3734.4158224759003, 4555.425782541031, 2386.0884303178614, 1695.4654938872623, 6996.180021550019, 6456.273160503819, 3778.032817332255, 3335.1681877605038, 5980.660133619212, 9916.940354087088, 7942.220629363029, 6111.341935438663, 3429.5198149199227, 12527.654628535929, 19589.879294964605, 3765.456915847703, 4282.051083977081, 22998.699023783414, 4676.449865145585, 46803.05089034364, 14173.372391893576, 15733.852030444581, 16991.508957525133, 12022.348971314646, 17356.38892267948, 9762.385315813699, 4418.35120853188, 3972.195087262938, 3453.9665417969486, 3300.4493008903796, 3343.512857276726, 2204.1717840832034, 2019.0927971015917, 2008.6408613788242, 1664.1942215534355, 1515.6508579261356, 1413.9738458560587, 1319.2004760160803, 1251.7146402686446, 1226.579544388403, 1002.5577325949815, 993.9868322968462, 952.4566793534298, 934.7356360780008, 837.0398267129306, 809.7549742770387, 778.8658931656787, 765.81175181509, 749.8731482788465, 656.3703680521912, 645.1443356269524, 641.0214570401636, 593.3393034469192, 573.4048620065739, 566.7005891647835, 5807.3119254850635, 1249.8012297789633, 4973.286008524644, 4142.5427247285525, 866.1668150334696, 3828.5520538909627, 5147.443837749553, 3229.4529391687856, 1385.8214905670166, 1696.9082910997527, 5562.791314568635, 2325.640327776496, 7800.4475315297595, 2528.3290534238904, 3379.2964034774045, 4681.293790452975, 3803.443964620281, 3154.86186059883, 4982.239930708141, 5182.995930443644, 4725.115322089224, 19517.639048407727, 5975.1048083803125, 5740.052635616685, 12869.689023609148, 12728.827146365522, 17948.751910593168, 46803.05089034364, 15460.116216275968, 7942.220629363029, 14469.503215059565, 1521.7834089058467, 991.3140305359025, 786.3316794101713, 777.7574129401665, 755.8746743647933, 754.2245108868331, 657.364041762846, 573.0636207787808, 450.4761065633923, 444.6166114760582, 424.76173169914466, 396.6662328270008, 395.0474823948333, 547.1310846095115, 379.1425815141179, 352.7216912231874, 353.2462134491798, 340.97240988173024, 334.4185719555423, 327.53977590793374, 320.29890223241534, 377.3187620099842, 323.04710838437575, 302.7278062463273, 301.2686356469317, 292.0747750546024, 289.02853314702344, 255.12102063448324, 242.89990502340797, 230.72696738015551, 1217.4096831407628, 10742.93493101502, 3999.997240006867, 3788.3984036081542, 5312.018380821853, 1659.100502948029, 1304.216853761123, 568.6880506330298, 19881.65099620339, 4276.027715968877, 1090.0954359735263, 1030.8044217765146, 948.7883844380519, 11860.696295396681, 1321.557920415946, 4172.94739649893, 701.8406534832051, 19517.639048407727, 16220.42286168979, 3772.550736596553, 1525.1102433152325, 5899.342756254844, 8226.79211240052, 2733.0438736801543, 12728.827146365522, 15733.852030444581, 5998.599592362655, 10972.533279626969, 1995.4470871402305, 15844.544810934398, 9082.470403878418, 2378.692415997886, 17356.38892267948, 4400.408422119034, 4568.979738022867, 6727.678806657831, 10191.43494859237, 6183.942782594298, 22998.699023783414, 46803.05089034364, 19589.879294964605, 18515.785944963452, 16779.432605775753, 12022.348971314646, 5481.192349420225, 2730.614620018067, 1952.2458106840324, 1884.264783342624, 1425.666367298369, 1052.0604550969106, 1127.4894726360415, 778.7250694486075, 747.0368142844652, 674.6855475117794, 645.1915485322418, 605.351817299579, 577.2500280179439, 554.1517438107724, 507.58501170479707, 1644.1675922409918, 471.5445239594819, 432.58992976114064, 391.7846716473516, 431.34567923710233, 381.3156618998433, 380.5923139549681, 375.29913018041134, 363.74556898738075, 358.6034967087024, 356.29397284114657, 340.24617741861834, 393.052889388358, 330.5280529409247, 517.2794379027458, 3008.6436712516297, 5556.88535104613, 709.6050643596761, 719.4290148231997, 6473.202033496393, 2395.105796398593, 3735.4083656077037, 2462.2149382889866, 3818.352206406476, 1164.3553775435767, 3601.888181435152, 1424.5817683987982, 1736.5330848441183, 1354.532381479901, 5565.230234956115, 2098.2702560767657, 3298.07861259929, 1789.6145476407446, 1580.9484856502697, 12869.689023609148, 5409.320364349939, 6033.78916929418, 4447.326245302477, 10191.43494859237, 14173.372391893576, 15844.544810934398, 17356.38892267948, 19881.65099620339, 2850.725479048324, 22998.699023783414, 14469.503215059565, 9363.06719680911, 19754.880643883807, 12527.654628535929, 8668.61651526979, 46803.05089034364, 10299.684063923705, 31878.120746422785, 16991.508957525133, 1336.2687937812093, 950.3103702448329, 897.8385049220782, 749.3958657861791, 729.082788034866, 586.420173973492, 839.8743149041904, 474.84180096391185, 453.4559879015395, 450.05917674901076, 1174.455678055745, 409.9790817973794, 399.99251705955436, 398.07943762199744, 391.25898724927794, 354.43736217348345, 354.5769372815957, 344.3335358918873, 323.084316141377, 840.1300598094319, 306.5358377142108, 275.61672946516177, 260.7048991506796, 250.8115200085755, 248.71424745184308, 241.29752268450775, 231.09671427000302, 205.84475602748603, 201.38662115932382, 197.9113344245564, 578.6100434785568, 941.1164782696775, 271.4065698154643, 34152.551504836774, 13191.134337543193, 9795.700687393057, 31878.120746422785, 20807.71512323899, 8064.110430357635, 5038.503205588181, 3567.3387051913046, 7412.70265330902, 2950.9065120333735, 1743.917113454131, 4140.507107104837, 6270.891173626805, 1467.2677612238958, 1655.2493125174851, 9573.829509299761, 5737.657574368087, 6727.678806657831, 2847.378577829055, 6102.605037742907, 5649.378314913968, 9363.06719680911, 8226.79211240052, 3657.1751120874646, 6240.867884948511, 4044.545869709457, 5726.082274999541, 8840.494078895259, 16220.42286168979, 5409.320364349939, 14173.372391893576, 15844.544810934398, 2175.709715508377, 1394.7993191607331, 1045.7944189928799, 995.2003601262691, 981.659091926377, 961.3660060876205, 980.7246821530124, 931.2241207098514, 898.0304952077893, 850.074260634157, 789.5707677421293, 737.6582969218251, 721.979958720937, 657.9130897695577, 596.3160849313981, 587.0946093856573, 607.1421363432411, 558.9974337959934, 528.5797547461311, 516.3320767433313, 484.25228808310663, 464.010881164787, 458.9755768258175, 430.94287654705994, 389.36923493235224, 380.56022964559287, 373.9014074839812, 368.15184179494, 364.24683347893387, 361.9803517489151, 5962.914187893012, 1641.1378558213278, 1144.3985296819633, 1474.2757727674616, 16779.432605775753, 1024.2665093036715, 2645.368304709521, 935.0296701096565, 1257.523392036536, 995.1759855948031, 2951.38854705694, 2648.6646860060123, 1068.2775537680786, 800.9932673775251, 9916.940354087088, 1786.1939429832023, 1288.0143519830356, 1382.758940679842, 2164.827144451019, 1755.5382888866325, 34152.551504836774, 31878.120746422785, 6638.4683615272625, 5488.516481847084, 5649.378314913968, 4834.484636131151, 3259.1442153416388, 11625.253058622777, 10972.533279626969], \"Category\": [\"Default\", \"Default\", \"Default\", \"Default\", \"Default\", \"Default\", \"Default\", \"Default\", \"Default\", \"Default\", \"Default\", \"Default\", \"Default\", \"Default\", \"Default\", \"Default\", \"Default\", \"Default\", \"Default\", \"Default\", \"Default\", \"Default\", \"Default\", \"Default\", \"Default\", \"Default\", \"Default\", \"Default\", \"Default\", \"Default\", \"Topic1\", \"Topic1\", \"Topic1\", \"Topic1\", \"Topic1\", \"Topic1\", \"Topic1\", \"Topic1\", \"Topic1\", \"Topic1\", \"Topic1\", \"Topic1\", \"Topic1\", \"Topic1\", \"Topic1\", \"Topic1\", \"Topic1\", \"Topic1\", \"Topic1\", \"Topic1\", \"Topic1\", \"Topic1\", \"Topic1\", \"Topic1\", \"Topic1\", \"Topic1\", \"Topic1\", \"Topic1\", \"Topic1\", \"Topic1\", \"Topic1\", \"Topic1\", \"Topic1\", \"Topic1\", \"Topic1\", \"Topic1\", \"Topic1\", \"Topic1\", \"Topic1\", \"Topic1\", \"Topic1\", \"Topic1\", \"Topic1\", \"Topic1\", \"Topic1\", \"Topic1\", \"Topic1\", \"Topic1\", \"Topic1\", \"Topic1\", \"Topic1\", \"Topic1\", \"Topic1\", \"Topic1\", \"Topic1\", \"Topic1\", \"Topic1\", \"Topic1\", \"Topic1\", \"Topic1\", \"Topic1\", \"Topic1\", \"Topic1\", \"Topic1\", \"Topic1\", \"Topic1\", \"Topic1\", \"Topic1\", \"Topic1\", \"Topic1\", \"Topic1\", \"Topic1\", \"Topic1\", \"Topic1\", \"Topic1\", \"Topic1\", \"Topic1\", \"Topic1\", \"Topic1\", \"Topic1\", \"Topic1\", \"Topic1\", \"Topic1\", \"Topic1\", \"Topic1\", \"Topic1\", \"Topic1\", \"Topic2\", \"Topic2\", \"Topic2\", \"Topic2\", \"Topic2\", \"Topic2\", \"Topic2\", \"Topic2\", \"Topic2\", \"Topic2\", \"Topic2\", \"Topic2\", \"Topic2\", \"Topic2\", \"Topic2\", \"Topic2\", \"Topic2\", \"Topic2\", \"Topic2\", \"Topic2\", \"Topic2\", \"Topic2\", \"Topic2\", \"Topic2\", \"Topic2\", \"Topic2\", \"Topic2\", \"Topic2\", \"Topic2\", \"Topic2\", \"Topic2\", \"Topic2\", \"Topic2\", \"Topic2\", \"Topic2\", \"Topic2\", \"Topic2\", \"Topic2\", \"Topic2\", \"Topic2\", \"Topic2\", \"Topic2\", \"Topic2\", \"Topic2\", \"Topic2\", \"Topic2\", \"Topic2\", \"Topic2\", \"Topic2\", \"Topic2\", \"Topic2\", \"Topic2\", \"Topic2\", \"Topic2\", \"Topic2\", \"Topic2\", \"Topic2\", \"Topic2\", \"Topic2\", \"Topic2\", \"Topic2\", \"Topic2\", \"Topic3\", \"Topic3\", \"Topic3\", \"Topic3\", \"Topic3\", \"Topic3\", \"Topic3\", \"Topic3\", \"Topic3\", \"Topic3\", \"Topic3\", \"Topic3\", \"Topic3\", \"Topic3\", \"Topic3\", \"Topic3\", \"Topic3\", \"Topic3\", \"Topic3\", \"Topic3\", \"Topic3\", \"Topic3\", \"Topic3\", \"Topic3\", \"Topic3\", \"Topic3\", \"Topic3\", \"Topic3\", \"Topic3\", \"Topic3\", \"Topic3\", \"Topic3\", \"Topic3\", \"Topic3\", \"Topic3\", \"Topic3\", \"Topic3\", \"Topic3\", \"Topic3\", \"Topic3\", \"Topic3\", \"Topic3\", \"Topic3\", \"Topic3\", \"Topic3\", \"Topic3\", \"Topic3\", \"Topic3\", \"Topic3\", \"Topic3\", \"Topic3\", \"Topic3\", \"Topic3\", \"Topic3\", \"Topic3\", \"Topic3\", \"Topic3\", \"Topic3\", \"Topic3\", \"Topic3\", \"Topic3\", \"Topic3\", \"Topic3\", \"Topic3\", \"Topic3\", \"Topic3\", \"Topic3\", \"Topic3\", \"Topic3\", \"Topic3\", \"Topic4\", \"Topic4\", \"Topic4\", \"Topic4\", \"Topic4\", \"Topic4\", \"Topic4\", \"Topic4\", \"Topic4\", \"Topic4\", \"Topic4\", \"Topic4\", \"Topic4\", \"Topic4\", \"Topic4\", \"Topic4\", \"Topic4\", \"Topic4\", \"Topic4\", \"Topic4\", \"Topic4\", \"Topic4\", \"Topic4\", \"Topic4\", \"Topic4\", \"Topic4\", \"Topic4\", \"Topic4\", \"Topic4\", \"Topic4\", \"Topic4\", \"Topic4\", \"Topic4\", \"Topic4\", \"Topic4\", \"Topic4\", \"Topic4\", \"Topic4\", \"Topic4\", \"Topic4\", \"Topic4\", \"Topic4\", \"Topic4\", \"Topic4\", \"Topic4\", \"Topic4\", \"Topic4\", \"Topic4\", \"Topic4\", \"Topic4\", \"Topic4\", \"Topic4\", \"Topic4\", \"Topic4\", \"Topic4\", \"Topic4\", \"Topic4\", \"Topic4\", \"Topic4\", \"Topic4\", \"Topic4\", \"Topic5\", \"Topic5\", \"Topic5\", \"Topic5\", \"Topic5\", \"Topic5\", \"Topic5\", \"Topic5\", \"Topic5\", \"Topic5\", \"Topic5\", \"Topic5\", \"Topic5\", \"Topic5\", \"Topic5\", \"Topic5\", \"Topic5\", \"Topic5\", \"Topic5\", \"Topic5\", \"Topic5\", \"Topic5\", \"Topic5\", \"Topic5\", \"Topic5\", \"Topic5\", \"Topic5\", \"Topic5\", \"Topic5\", \"Topic5\", \"Topic5\", \"Topic5\", \"Topic5\", \"Topic5\", \"Topic5\", \"Topic5\", \"Topic5\", \"Topic5\", \"Topic5\", \"Topic5\", \"Topic5\", \"Topic5\", \"Topic5\", \"Topic5\", \"Topic5\", \"Topic5\", \"Topic5\", \"Topic5\", \"Topic5\", \"Topic5\", \"Topic5\", \"Topic5\", \"Topic5\", \"Topic5\", \"Topic5\", \"Topic5\", \"Topic5\", \"Topic5\", \"Topic5\", \"Topic5\", \"Topic5\", \"Topic5\", \"Topic5\", \"Topic5\", \"Topic5\", \"Topic5\", \"Topic5\", \"Topic5\", \"Topic5\", \"Topic5\", \"Topic5\", \"Topic5\", \"Topic5\", \"Topic5\", \"Topic6\", \"Topic6\", \"Topic6\", \"Topic6\", \"Topic6\", \"Topic6\", \"Topic6\", \"Topic6\", \"Topic6\", \"Topic6\", \"Topic6\", \"Topic6\", \"Topic6\", \"Topic6\", \"Topic6\", \"Topic6\", \"Topic6\", \"Topic6\", \"Topic6\", \"Topic6\", \"Topic6\", \"Topic6\", \"Topic6\", \"Topic6\", \"Topic6\", \"Topic6\", \"Topic6\", \"Topic6\", \"Topic6\", \"Topic6\", \"Topic6\", \"Topic6\", \"Topic6\", \"Topic6\", \"Topic6\", \"Topic6\", \"Topic6\", \"Topic6\", \"Topic6\", \"Topic6\", \"Topic6\", \"Topic6\", \"Topic6\", \"Topic6\", \"Topic6\", \"Topic6\", \"Topic6\", \"Topic6\", \"Topic6\", \"Topic6\", \"Topic6\", \"Topic6\", \"Topic6\", \"Topic6\", \"Topic6\", \"Topic6\", \"Topic6\", \"Topic6\", \"Topic6\", \"Topic6\", \"Topic6\", \"Topic6\", \"Topic6\", \"Topic6\", \"Topic6\", \"Topic6\", \"Topic6\", \"Topic6\", \"Topic6\", \"Topic7\", \"Topic7\", \"Topic7\", \"Topic7\", \"Topic7\", \"Topic7\", \"Topic7\", \"Topic7\", \"Topic7\", \"Topic7\", \"Topic7\", \"Topic7\", \"Topic7\", \"Topic7\", \"Topic7\", \"Topic7\", \"Topic7\", \"Topic7\", \"Topic7\", \"Topic7\", \"Topic7\", \"Topic7\", \"Topic7\", \"Topic7\", \"Topic7\", \"Topic7\", \"Topic7\", \"Topic7\", \"Topic7\", \"Topic7\", \"Topic7\", \"Topic7\", \"Topic7\", \"Topic7\", \"Topic7\", \"Topic7\", \"Topic7\", \"Topic7\", \"Topic7\", \"Topic7\", \"Topic7\", \"Topic7\", \"Topic7\", \"Topic7\", \"Topic7\", \"Topic7\", \"Topic7\", \"Topic7\", \"Topic7\", \"Topic7\", \"Topic7\", \"Topic7\", \"Topic7\", \"Topic7\", \"Topic7\", \"Topic7\", \"Topic7\", \"Topic7\", \"Topic7\", \"Topic7\", \"Topic7\", \"Topic7\", \"Topic7\", \"Topic7\", \"Topic7\", \"Topic8\", \"Topic8\", \"Topic8\", \"Topic8\", \"Topic8\", \"Topic8\", \"Topic8\", \"Topic8\", \"Topic8\", \"Topic8\", \"Topic8\", \"Topic8\", \"Topic8\", \"Topic8\", \"Topic8\", \"Topic8\", \"Topic8\", \"Topic8\", \"Topic8\", \"Topic8\", \"Topic8\", \"Topic8\", \"Topic8\", \"Topic8\", \"Topic8\", \"Topic8\", \"Topic8\", \"Topic8\", \"Topic8\", \"Topic8\", \"Topic8\", \"Topic8\", \"Topic8\", \"Topic8\", \"Topic8\", \"Topic8\", \"Topic8\", \"Topic8\", \"Topic8\", \"Topic8\", \"Topic8\", \"Topic8\", \"Topic8\", \"Topic8\", \"Topic8\", \"Topic8\", \"Topic8\", \"Topic8\", \"Topic8\", \"Topic8\", \"Topic8\", \"Topic8\", \"Topic8\", \"Topic8\", \"Topic8\", \"Topic8\", \"Topic8\", \"Topic8\", \"Topic8\"], \"logprob\": [30.0, 29.0, 28.0, 27.0, 26.0, 25.0, 24.0, 23.0, 22.0, 21.0, 20.0, 19.0, 18.0, 17.0, 16.0, 15.0, 14.0, 13.0, 12.0, 11.0, 10.0, 9.0, 8.0, 7.0, 6.0, 5.0, 4.0, 3.0, 2.0, 1.0, -6.5295, -6.8032, -6.9072, -7.1613, -7.2652, -7.3833, -7.4449, -7.5397, -7.5934, -7.6866, -7.5537, -7.7834, -7.8042, -7.907, -7.8245, -7.9564, -8.0433, -8.052, -8.0476, -8.0685, -8.0676, -8.1045, -8.118, -8.1271, -8.2155, -8.2304, -8.2646, -8.258, -8.2474, -8.3216, -7.5338, -8.1648, -6.5192, -5.9862, -5.9204, -7.7988, -7.3202, -5.4826, -7.0937, -5.7485, -5.4878, -6.2639, -7.3742, -4.8978, -4.6668, -6.9137, -6.8658, -5.5331, -6.2399, -6.3226, -6.452, -4.4516, -5.8385, -6.0003, -6.3021, -4.1802, -5.3601, -6.6887, -5.0987, -6.289, -5.9488, -4.4751, -6.3281, -4.638, -3.479, -4.9661, -5.3702, -5.6912, -5.0924, -4.3023, -4.982, -6.089, -4.4717, -5.4049, -4.9832, -5.3083, -5.1052, -5.0572, -5.2196, -5.3835, -4.8881, -5.243, -5.4678, -5.0737, -5.4283, -5.4231, -5.416, -4.2238, -4.2243, -5.1202, -5.1999, -5.2496, -5.4112, -5.4328, -5.4702, -5.7907, -5.9326, -5.9963, -5.5754, -6.2189, -6.306, -6.3296, -6.3411, -6.3533, -6.4131, -6.4639, -6.4831, -6.534, -6.569, -6.5931, -6.6, -6.6437, -6.6559, -6.719, -6.7494, -6.7611, -6.7633, -4.9916, -5.8523, -4.7499, -4.5457, -5.5836, -3.2892, -5.5479, -5.3147, -4.6714, -5.4065, -4.2796, -4.4516, -5.5196, -4.9116, -4.5559, -5.846, -4.494, -4.9278, -5.8345, -4.4677, -4.6672, -4.2077, -4.7646, -4.7616, -5.1532, -5.2213, -4.8359, -4.9158, -4.7358, -5.1171, -5.2347, -5.2459, -2.9724, -5.7932, -5.791, -5.8983, -5.9068, -4.6374, -6.1084, -6.1478, -6.2856, -6.332, -6.3975, -6.5169, -6.5169, -6.5634, -6.6212, -6.6545, -6.6875, -6.7142, -6.5732, -6.79, -6.8063, -6.9284, -6.9674, -7.0396, -7.0438, -7.0838, -7.1011, -7.1066, -7.1623, -7.2226, -5.5737, -6.1953, -6.0446, -5.9853, -5.0103, -6.4902, -5.5587, -5.0314, -5.2681, -3.7185, -5.809, -6.1511, -5.9477, -5.0322, -5.2948, -5.041, -4.8646, -5.4587, -5.7822, -4.5777, -4.7036, -5.1594, -5.2873, -4.8404, -4.4786, -4.649, -4.9422, -5.3669, -4.5926, -4.4101, -5.3521, -5.3048, -4.6267, -5.3414, -4.5834, -5.0471, -5.096, -5.1869, -5.3031, -5.338, -3.8306, -4.6234, -4.7299, -4.8697, -4.9152, -4.9023, -5.319, -5.4068, -5.412, -5.6002, -5.6937, -5.7632, -5.8326, -5.8851, -5.9054, -6.1072, -6.1158, -6.1585, -6.1773, -6.2878, -6.321, -6.3599, -6.3768, -6.3979, -6.5312, -6.5485, -6.5549, -6.6323, -6.6665, -6.6783, -4.3566, -5.8874, -4.5313, -4.7162, -6.2605, -4.8228, -4.5469, -5.0009, -5.8179, -5.6303, -4.5286, -5.3516, -4.2559, -5.2978, -5.0564, -4.7874, -4.9889, -5.1557, -4.8557, -4.8313, -4.9552, -4.2763, -4.9449, -5.0373, -4.7512, -4.9446, -4.8795, -4.7234, -5.0199, -5.1452, -5.133, -5.6252, -6.0541, -6.2859, -6.2969, -6.3255, -6.3277, -6.4653, -6.6027, -6.8437, -6.8568, -6.9026, -6.9711, -6.9752, -6.6496, -7.0164, -7.0888, -7.0873, -7.1228, -7.1422, -7.163, -7.1854, -7.0216, -7.177, -7.242, -7.2468, -7.2779, -7.2884, -7.4136, -7.4628, -7.5144, -5.8552, -3.7164, -4.6924, -4.7729, -4.4654, -5.6134, -5.8482, -6.6412, -3.331, -4.767, -6.0409, -6.0951, -6.1781, -3.8939, -5.8934, -4.8923, -6.4686, -3.5556, -3.8075, -5.0466, -5.8205, -4.703, -4.4766, -5.3748, -4.1613, -4.0295, -4.789, -4.3669, -5.6426, -4.2044, -4.6066, -5.5295, -4.346, -5.2184, -5.2097, -5.0238, -4.813, -5.0893, -4.5299, -4.594, -4.8668, -4.8895, -4.9969, -5.1923, -4.2564, -4.9533, -5.289, -5.3244, -5.6035, -5.9075, -5.8383, -6.2086, -6.2502, -6.3522, -6.3969, -6.4607, -6.5084, -6.5492, -6.6371, -5.4619, -6.7109, -6.7973, -6.8965, -6.8003, -6.9236, -6.9255, -6.9396, -6.9709, -6.9852, -6.9917, -7.0378, -6.8936, -7.0669, -6.6192, -4.8601, -4.2653, -6.3058, -6.2946, -4.1348, -5.1095, -4.6776, -5.1288, -4.7115, -5.8526, -4.7836, -5.6702, -5.5107, -5.7962, -4.5971, -5.4457, -5.0787, -5.605, -5.7267, -4.1837, -4.8434, -4.7855, -5.0166, -4.446, -4.2787, -4.2166, -4.338, -4.43, -5.4157, -4.4858, -4.7035, -4.9404, -4.7007, -4.9213, -5.0623, -4.6748, -5.1219, -5.028, -5.1126, -5.5276, -5.8687, -5.9255, -6.1064, -6.1339, -6.3519, -5.9927, -6.5633, -6.6094, -6.617, -5.6578, -6.7104, -6.7351, -6.7399, -6.7572, -6.8563, -6.8559, -6.8853, -6.9491, -5.9936, -7.0018, -7.1084, -7.1642, -7.203, -7.2114, -7.2418, -7.2852, -7.4013, -7.4233, -7.4407, -6.3747, -5.8993, -7.128, -2.466, -3.434, -3.7206, -2.6578, -3.0554, -3.9412, -4.4228, -4.7474, -4.0897, -4.9728, -5.446, -4.6896, -4.3587, -5.6433, -5.5499, -4.1735, -4.5924, -4.4979, -5.2285, -4.6921, -4.7965, -4.4713, -4.6119, -5.2674, -5.0296, -5.3602, -5.2789, -5.227, -5.1776, -5.413, -5.3514, -5.3517, -4.5223, -4.9671, -5.2553, -5.3049, -5.3186, -5.3395, -5.3196, -5.3714, -5.4077, -5.4627, -5.5366, -5.6047, -5.6262, -5.7192, -5.8176, -5.8332, -5.7997, -5.8823, -5.9384, -5.9618, -6.0261, -6.0688, -6.0798, -6.1429, -6.2446, -6.2675, -6.2852, -6.3007, -6.3114, -6.3176, -3.5558, -4.8562, -5.2049, -4.9632, -2.6657, -5.327, -4.485, -5.4376, -5.1841, -5.3908, -4.613, -4.7603, -5.4324, -5.6439, -4.1813, -5.178, -5.4094, -5.3965, -5.2097, -5.3287, -4.4679, -4.6838, -5.0618, -5.1277, -5.1592, -5.2313, -5.2928, -5.2451, -5.3449], \"loglift\": [30.0, 29.0, 28.0, 27.0, 26.0, 25.0, 24.0, 23.0, 22.0, 21.0, 20.0, 19.0, 18.0, 17.0, 16.0, 15.0, 14.0, 13.0, 12.0, 11.0, 10.0, 9.0, 8.0, 7.0, 6.0, 5.0, 4.0, 3.0, 2.0, 1.0, 1.5124, 1.5122, 1.5121, 1.5118, 1.5117, 1.5116, 1.5115, 1.5113, 1.5112, 1.511, 1.5109, 1.5108, 1.5108, 1.5105, 1.5105, 1.5104, 1.5102, 1.5101, 1.5101, 1.5101, 1.5101, 1.51, 1.51, 1.5099, 1.5096, 1.5096, 1.5095, 1.5095, 1.5094, 1.5092, 1.5057, 1.5091, 1.4869, 1.4723, 1.4599, 1.4995, 1.4841, 1.4123, 1.4753, 1.4055, 1.39, 1.4254, 1.4788, 1.3427, 1.3067, 1.4474, 1.4413, 1.3521, 1.3846, 1.3905, 1.3987, 1.2078, 1.3317, 1.3466, 1.3698, 1.1285, 1.2603, 1.4089, 1.2085, 1.3558, 1.3085, 1.0563, 1.3533, 1.0762, 0.8713, 1.1316, 1.1866, 1.2444, 1.0983, 0.9105, 1.0199, 1.3071, 0.8059, 1.0891, 0.9216, 1.0358, 0.9313, 0.8708, 0.9368, 1.0032, 0.5699, 0.8177, 0.9388, 0.4505, 0.7167, 0.4493, 0.3848, 1.9009, 1.9009, 1.9008, 1.9007, 1.9007, 1.9007, 1.9007, 1.9007, 1.9005, 1.9005, 1.9004, 1.9004, 1.9003, 1.9002, 1.9002, 1.9002, 1.9002, 1.9001, 1.9001, 1.9001, 1.9, 1.9, 1.9, 1.8999, 1.8999, 1.8999, 1.8998, 1.8998, 1.8998, 1.8998, 1.8972, 1.8964, 1.8755, 1.8647, 1.8856, 1.8301, 1.8737, 1.866, 1.8417, 1.8581, 1.8015, 1.8099, 1.856, 1.7726, 1.7309, 1.8492, 1.6937, 1.7341, 1.8353, 1.2753, 1.3497, 1.0136, 1.2957, 1.2299, 1.3079, 1.3995, 0.5276, 0.145, -0.3856, 0.5512, 0.826, 0.6265, 1.9979, 1.9974, 1.9974, 1.9974, 1.9974, 1.9973, 1.9973, 1.9972, 1.9971, 1.9971, 1.997, 1.9969, 1.9969, 1.9969, 1.9968, 1.9967, 1.9967, 1.9967, 1.9967, 1.9966, 1.9966, 1.9964, 1.9963, 1.9962, 1.9962, 1.9961, 1.9961, 1.9961, 1.9959, 1.9958, 1.991, 1.9955, 1.9938, 1.9929, 1.982, 1.9922, 1.9763, 1.9542, 1.9575, 1.9054, 1.9644, 1.9753, 1.9633, 1.9082, 1.9045, 1.8377, 1.8153, 1.8678, 1.886, 1.6731, 1.6276, 1.7076, 1.7044, 1.5673, 1.4234, 1.475, 1.4438, 1.5969, 1.0757, 0.8111, 1.5183, 1.437, 0.4341, 1.3123, -0.2331, 0.4977, 0.3444, 0.1766, 0.4063, 0.0043, 2.0871, 2.087, 2.087, 2.087, 2.087, 2.0869, 2.0869, 2.0868, 2.0868, 2.0867, 2.0867, 2.0867, 2.0866, 2.0866, 2.0866, 2.0864, 2.0864, 2.0864, 2.0864, 2.0863, 2.0863, 2.0862, 2.0862, 2.0862, 2.086, 2.086, 2.086, 2.0859, 2.0859, 2.0859, 2.0805, 2.0858, 2.0609, 2.0587, 2.0794, 2.0309, 2.0109, 2.023, 2.052, 2.0371, 1.9515, 2.0007, 1.8861, 1.9709, 1.9222, 1.8652, 1.8714, 1.8916, 1.7347, 1.7196, 1.6881, 0.9486, 1.4638, 1.4115, 0.8901, 0.7077, 0.4292, -0.3731, 0.4381, 0.9789, 0.3912, 2.1511, 2.1509, 2.1507, 2.1507, 2.1506, 2.1506, 2.1504, 2.1503, 2.15, 2.1499, 2.1499, 2.1497, 2.1497, 2.1497, 2.1496, 2.1495, 2.1495, 2.1494, 2.1494, 2.1493, 2.1493, 2.1493, 2.1492, 2.1491, 2.1491, 2.1491, 2.149, 2.1487, 2.1485, 2.1484, 2.1443, 2.1055, 2.1175, 2.0913, 2.0609, 2.0766, 2.0824, 2.1195, 1.8754, 1.9762, 2.069, 2.0708, 2.0707, 1.8291, 2.024, 1.8753, 2.0817, 1.6693, 1.6025, 1.8219, 1.9537, 1.7184, 1.6122, 1.816, 1.4911, 1.4109, 1.6157, 1.434, 1.8628, 1.229, 1.3833, 1.8001, 0.9962, 1.4961, 1.4672, 1.2662, 1.0617, 1.285, 0.5309, -0.2438, 0.3544, 0.3881, 0.3792, 0.5172, 2.2385, 2.2384, 2.2383, 2.2383, 2.2381, 2.2379, 2.2379, 2.2377, 2.2377, 2.2376, 2.2375, 2.2374, 2.2374, 2.2373, 2.2372, 2.2371, 2.2371, 2.2369, 2.2368, 2.2368, 2.2367, 2.2367, 2.2367, 2.2366, 2.2366, 2.2366, 2.2365, 2.2365, 2.2364, 2.2362, 2.2347, 2.2159, 2.2334, 2.2309, 2.1938, 2.2133, 2.2008, 2.1664, 2.145, 2.1914, 2.1312, 2.1721, 2.1337, 2.0966, 1.8825, 2.0094, 1.9242, 2.0093, 2.0115, 1.4576, 1.6647, 1.6133, 1.6873, 1.4287, 1.2662, 1.2168, 1.0043, 0.7764, 1.733, 0.575, 0.8207, 1.0191, 0.5121, 0.747, 0.9742, -0.3245, 0.7422, -0.2937, 0.2509, 2.3788, 2.3785, 2.3785, 2.3783, 2.3783, 2.378, 2.378, 2.3777, 2.3776, 2.3776, 2.3776, 2.3775, 2.3774, 2.3774, 2.3774, 2.3771, 2.3771, 2.3771, 2.3769, 2.3768, 2.3768, 2.3765, 2.3764, 2.3763, 2.3762, 2.3761, 2.376, 2.3756, 2.3755, 2.3754, 2.3686, 2.3576, 2.3724, 2.1994, 2.1827, 2.1937, 2.0765, 2.1055, 2.1676, 2.1564, 2.177, 2.1033, 2.1413, 2.1941, 2.0859, 2.0016, 2.1695, 2.1424, 1.7637, 1.8567, 1.7921, 1.9213, 1.6954, 1.6682, 1.4882, 1.477, 1.6321, 1.3355, 1.4387, 1.1723, 0.7898, 0.2323, 1.0951, 0.1935, 0.0817, 2.8965, 2.8963, 2.8962, 2.8961, 2.8961, 2.8961, 2.8961, 2.8961, 2.896, 2.896, 2.8959, 2.8958, 2.8958, 2.8957, 2.8956, 2.8956, 2.8956, 2.8955, 2.8954, 2.8954, 2.8953, 2.8952, 2.8952, 2.8951, 2.8949, 2.8949, 2.8948, 2.8948, 2.8948, 2.8948, 2.8548, 2.8447, 2.8565, 2.8448, 2.7104, 2.8452, 2.7385, 2.8258, 2.783, 2.8102, 2.501, 2.4619, 2.6977, 2.7743, 1.7207, 2.4382, 2.5337, 2.4757, 2.2141, 2.3048, 0.1975, 0.0505, 1.2416, 1.3658, 1.3055, 1.3891, 1.722, 0.4979, 0.4559]}, \"token.table\": {\"Topic\": [1, 2, 4, 6, 7, 7, 1, 2, 3, 4, 5, 6, 7, 8, 7, 2, 3, 4, 5, 6, 7, 8, 6, 8, 6, 8, 8, 8, 2, 8, 8, 8, 8, 8, 8, 1, 2, 3, 4, 5, 6, 7, 8, 1, 2, 3, 4, 6, 7, 8, 2, 3, 6, 7, 8, 2, 6, 7, 8, 2, 6, 7, 8, 2, 6, 7, 8, 2, 3, 7, 8, 7, 8, 8, 1, 2, 3, 4, 5, 6, 7, 8, 2, 3, 6, 8, 1, 2, 3, 6, 7, 8, 6, 8, 1, 6, 8, 1, 1, 2, 3, 4, 5, 6, 7, 8, 7, 8, 1, 7, 1, 2, 3, 4, 6, 7, 8, 7, 1, 2, 3, 4, 5, 6, 7, 8, 8, 8, 8, 1, 2, 3, 4, 6, 7, 8, 1, 2, 3, 4, 6, 7, 8, 2, 3, 4, 5, 6, 7, 8, 2, 6, 7, 8, 1, 3, 4, 5, 6, 7, 2, 3, 4, 8, 8, 3, 1, 5, 1, 2, 3, 4, 5, 6, 7, 3, 8, 1, 4, 1, 4, 4, 4, 8, 1, 2, 3, 4, 5, 6, 7, 2, 3, 8, 1, 2, 3, 5, 8, 3, 2, 3, 4, 8, 3, 2, 1, 2, 3, 4, 5, 6, 8, 5, 1, 8, 1, 5, 6, 7, 5, 7, 2, 1, 2, 3, 4, 5, 6, 3, 4, 5, 7, 1, 3, 3, 2, 3, 1, 7, 1, 2, 5, 6, 7, 1, 2, 3, 4, 5, 2, 5, 5, 1, 5, 1, 2, 3, 4, 5, 6, 7, 1, 2, 3, 4, 5, 6, 7, 2, 7, 1, 2, 3, 4, 5, 6, 7, 3, 5, 7, 5, 3, 4, 2, 4, 1, 2, 3, 4, 5, 6, 7, 8, 3, 4, 3, 5, 7, 1, 2, 5, 6, 7, 1, 2, 3, 4, 5, 6, 7, 8, 4, 1, 2, 3, 4, 5, 6, 7, 1, 3, 5, 7, 4, 3, 5, 6, 7, 1, 2, 5, 6, 7, 4, 7, 1, 3, 4, 5, 8, 2, 2, 3, 4, 1, 2, 3, 4, 5, 6, 7, 1, 2, 1, 2, 3, 4, 5, 6, 7, 8, 6, 4, 6, 2, 3, 4, 8, 2, 6, 2, 3, 8, 1, 2, 5, 7, 8, 1, 2, 3, 4, 5, 8, 1, 2, 3, 6, 8, 1, 5, 7, 1, 5, 8, 1, 2, 3, 4, 5, 6, 7, 8, 2, 5, 1, 2, 3, 7, 8, 1, 2, 3, 4, 5, 6, 7, 8, 5, 5, 2, 7, 1, 2, 3, 4, 5, 6, 7, 8, 4, 6, 2, 1, 3, 4, 5, 6, 7, 8, 3, 6, 8, 1, 2, 6, 8, 5, 6, 3, 6, 6, 1, 6, 6, 7, 3, 4, 2, 6, 1, 2, 3, 4, 5, 6, 7, 1, 2, 2, 4, 2, 2, 3, 7, 1, 2, 3, 4, 5, 6, 7, 8, 2, 1, 4, 5, 6, 7, 5, 5, 3, 5, 6, 5, 6, 6, 8, 1, 2, 3, 4, 5, 6, 7, 8, 1, 1, 2, 3, 4, 5, 8, 1, 2, 3, 4, 5, 6, 7, 8, 1, 2, 3, 4, 5, 6, 7, 8, 2, 1, 2, 3, 4, 5, 6, 7, 1, 3, 5, 7, 6, 1, 2, 3, 4, 5, 6, 7, 8, 1, 2, 3, 4, 5, 6, 1, 2, 3, 4, 5, 6, 7, 8, 1, 2, 3, 4, 5, 6, 7, 8, 1, 2, 3, 4, 5, 6, 7, 8, 3, 5, 3, 4, 1, 2, 3, 4, 1, 2, 5, 6, 1, 3, 4, 5, 6, 7, 1, 2, 3, 4, 5, 6, 7, 8, 3, 1, 3, 4, 5, 6, 7, 7, 2, 7, 6, 1, 2, 3, 4, 5, 6, 7, 8, 2, 2, 3, 4, 6, 1, 2, 3, 4, 5, 6, 7, 1, 2, 3, 4, 5, 7, 8, 2, 6, 2, 3, 4, 6, 8, 2, 2, 3, 5, 6, 7, 8, 5, 1, 4, 6, 4, 1, 2, 3, 4, 1, 1, 2, 3, 4, 7, 8, 3, 3, 4, 5, 6, 8, 5, 2, 3, 4, 4, 1, 2, 3, 4, 5, 6, 7, 3, 1, 2, 4, 5, 6, 7, 3, 4, 5, 6, 7, 2, 5, 6, 7, 8, 1, 3, 5, 1, 3, 5, 6, 7, 1, 2, 3, 5, 7, 8, 1, 2, 3, 4, 5, 7, 8, 5, 1, 1, 3, 4, 5, 6, 7, 5, 2, 8, 1, 3, 5, 8, 5, 1, 2, 6, 5, 4, 1, 2, 3, 4, 2, 3, 5, 7, 8, 1, 2, 3, 4, 5, 6, 1, 2, 3, 4, 5, 6, 7, 1, 5, 8, 5, 2, 3, 4, 3, 4, 2, 4, 8, 1, 2, 3, 4, 5, 6, 7, 1, 2, 3, 4, 5, 6, 7, 8, 2, 7, 1, 2, 3, 4, 5, 6, 7, 6, 1, 2, 3, 5, 6, 2, 3, 1, 3, 4, 7, 1, 2, 3, 4, 5, 6, 7, 1, 2, 3, 4, 5, 6, 7, 1, 2, 3, 4, 5, 7, 8, 1, 2, 3, 4, 5, 6, 7, 1, 3, 4, 5, 7, 8, 4, 2, 6, 2, 1, 2, 3, 4, 5, 6, 7, 1, 3, 5, 6, 1, 2, 3, 4, 5, 6, 7, 8, 1, 1, 3, 4, 5, 6, 7, 8, 8, 8, 1, 6, 5, 4, 1, 2, 8, 3, 3, 1, 2, 3, 4, 6, 7, 7, 3, 5, 3, 6, 1, 2, 5, 6, 7, 7, 1, 2, 3, 4, 5, 6, 7, 8, 7, 8, 4, 4, 1, 2, 3, 4, 5, 6, 7, 1, 2, 3, 4, 5, 6, 7, 8, 1, 2, 3, 4, 5, 6, 7, 8, 4, 1, 2, 3, 4, 8, 1, 3, 7, 2, 3, 5, 6, 8, 5, 1, 2, 3, 4, 5, 6, 7, 7, 1, 2, 5, 1, 2, 3, 5, 6, 7, 8, 1, 2, 6, 5, 3, 1, 2, 3, 4, 5, 6, 7, 1, 2, 3, 4, 5, 6, 7, 2, 8, 1, 2, 3, 5, 7, 8, 1, 2, 3, 4, 6, 7, 6, 8, 1, 2, 3, 4, 5, 8, 2, 3, 4, 1, 2, 3, 4, 5, 8, 6, 8, 1, 2, 3, 5, 6, 1, 2, 3, 5, 6, 7, 7, 1, 5, 2, 1, 7, 6, 4, 5, 1, 2, 3, 4, 5, 6, 7, 6, 1, 3, 5, 6, 6, 7, 5, 7, 8, 2, 3, 5, 1, 2, 3, 5, 8, 2, 3, 7, 5, 1, 2, 3, 4, 5, 8, 1, 7, 3, 5, 8, 1, 2, 1, 1, 2, 6, 7, 1, 1, 3, 6, 1, 2, 3, 4, 5, 6, 7, 1, 2, 3, 4, 5, 6, 7, 8, 2, 7, 2, 3, 4, 1, 2, 3, 4, 5, 6, 7, 6, 2, 3, 6, 1, 6, 2, 3, 1, 3, 4, 8, 6, 2, 2, 8, 3, 2, 3, 4, 6, 1, 3, 4, 5, 1, 2, 3, 4, 5, 6, 7, 8, 1, 3, 4, 3, 4, 6, 1, 2, 3, 4, 5, 6, 7, 8, 1, 3, 1, 1, 2, 4, 6, 4, 1, 1, 2, 3, 4, 5, 6, 7, 2, 3, 4, 6, 1, 2, 3, 4, 5, 8, 1, 2, 3, 4, 5, 2, 3, 6, 8, 3, 8, 1, 2, 3, 4, 5, 6, 7, 8, 1, 2, 1, 3, 4, 5, 6, 7, 8, 7, 8, 3, 1, 2, 3, 4, 5, 6, 7, 4, 8, 6, 3, 1, 2, 3, 4, 5, 6, 7, 1, 2, 3, 4, 5, 7, 5, 7, 1, 3, 5, 6, 8, 2, 3, 7, 1, 4, 7, 8, 7, 1, 1, 2, 3, 5, 6, 7, 8, 4, 6, 8, 4, 7, 1, 2, 3, 4, 5, 6, 7, 8, 1, 2, 3, 4, 5, 6, 4, 1, 2, 3, 4, 5, 6, 7, 1, 2, 3, 4, 5, 6, 7, 8, 1, 2, 3, 5, 6, 8, 1, 2, 3, 4, 5, 6, 7, 8, 6, 6, 5, 3, 4, 3, 5, 6, 7, 8, 3, 1, 2, 3, 4, 5, 6, 7, 8, 3, 4, 2, 5, 1, 2, 3, 4, 5, 6, 7, 8, 5, 5, 2, 5, 6, 7, 8, 4, 1, 1, 2, 3, 4, 5, 6, 7, 7, 3, 2, 3, 4, 1, 2, 3, 4, 5, 6, 7, 1, 2, 3, 4, 5, 6, 2, 6, 1, 2, 3, 5, 8, 3, 1, 4, 5, 6, 7, 1, 1, 2, 3, 4, 5, 6, 7, 6, 1, 2, 4, 5, 6, 7, 5, 7, 1, 2, 3, 4, 5, 6, 7, 8, 4, 3, 4, 8, 3, 2, 3, 5, 7, 8, 1, 2, 3, 5, 6, 7, 1, 2, 3, 4, 5, 6, 7, 1, 2, 3, 4, 5, 6, 7, 1, 2, 3, 4, 5, 8, 2, 8, 1, 4, 1, 2, 3, 4, 8, 1, 2, 3, 4, 5, 6, 7, 1, 2, 3, 4, 5, 6, 7, 1, 2, 3, 4, 5, 6, 7, 5, 1, 2, 4, 5, 6, 7, 3, 7, 6, 8], \"Freq\": [0.08103271621259357, 0.41861082060686805, 0.08277911095855464, 0.11858020325075654, 0.299157419983131, 0.9996734011807605, 0.004592512164673367, 0.0023496573865770714, 0.06931489290402361, 0.07454822071958163, 0.13681414146387402, 0.29530921244934555, 0.41012201656617975, 0.0068353669427696625, 0.9977623656359375, 0.02286798395983365, 0.026352350273815987, 0.04301289172470632, 0.0022545899678709236, 0.0029573193085060162, 0.8352816625123874, 0.06725705397661702, 0.49426579057024084, 0.5053521260596668, 0.1073538678126456, 0.8922299235984323, 0.9992610748294604, 0.9992403679170091, 0.06737754107055406, 0.9315212424198823, 0.9991075855520474, 0.9986426787764675, 0.999469937270878, 0.9989031839737986, 0.9988524941933616, 0.00018821686660037173, 0.07563181089558271, 0.02622488341298513, 0.01910401195993773, 0.0026036666546384755, 0.0794588871831236, 0.7387198319286924, 0.05806490334621468, 0.00584135070453368, 0.13116487491089263, 0.0023011381563314494, 0.016284977721730258, 0.14975099078895435, 0.4910274804356493, 0.20356222152162823, 0.04870378673508965, 0.0007550974687610798, 0.09627492726703767, 0.20689670644053584, 0.6471185307282453, 0.011520001334254704, 0.10198589416501959, 0.21345884825236658, 0.6729036073479365, 0.06942641784894264, 0.02024937187260827, 0.2545635321127897, 0.6559350103019893, 0.029112180233436733, 0.10301233005677612, 0.23513684034698898, 0.6320702208375014, 0.06084561055385743, 0.012169122110771485, 0.1067138400483038, 0.8190755266865423, 0.03932196593480929, 0.9603297902745647, 0.9993285938756157, 0.003892786859117249, 0.09808861703034945, 0.012255069741665413, 0.034842845343950685, 0.002739368530489916, 0.047338210570746796, 0.7604390922445955, 0.040417700598982795, 0.09113684593005893, 0.006242249721236913, 0.017478299219463356, 0.8851510104713943, 0.9970497645195313, 0.0030145421949736265, 0.016077558373192673, 0.020096947966490843, 0.04421328552627986, 0.917425674670307, 0.049791728555755865, 0.9499480761715776, 0.04551874884780738, 0.9541760371681886, 0.9992771164214178, 0.9947118834649792, 0.002425871739394316, 0.0861942552403543, 0.0079598916448876, 0.01652625122462378, 0.00015161698371214476, 0.038965564814021206, 0.8214608177524004, 0.026229738182201045, 0.9987660381772354, 0.9981188320248697, 0.003684509187378638, 0.9948174805922323, 0.00010208560182805375, 0.07932051262039776, 0.03562787503799076, 0.0062272217115112785, 0.01663995309797276, 0.8305684564730453, 0.03154445096486861, 0.9983728854842652, 0.0031001559584162685, 0.0410460648894314, 0.05332268248475982, 0.004588230818456077, 0.00012400623833665073, 0.05443873862978967, 0.809140705146646, 0.034225721780915604, 0.9978120614160866, 0.9972916989991901, 0.9985278817859801, 0.0015877731289576707, 0.1619528591536824, 0.003770961181274468, 0.0005954149233591265, 0.00337401789903505, 0.8000391853535463, 0.02877838796235778, 0.0003277288940756544, 0.4247366467220481, 0.017205766938971852, 0.002785695599643062, 0.0039327467289078525, 0.50453863242947, 0.04653750295874292, 0.10962661885051139, 0.12322101673658435, 0.013420110733687405, 0.032591697496097985, 0.01010865483836194, 0.5929248924156435, 0.11799240216501783, 0.20456431497161395, 0.03598593026064992, 0.7455608504337335, 0.01376642969702715, 0.9362659345862426, 0.008254233680231359, 0.033016934720925435, 0.004716704960132205, 0.011791762400330513, 0.004716704960132205, 0.03902326722669421, 0.9140559454778229, 0.04614430139214936, 0.0005696827332364119, 0.9987938507918981, 0.9976170408600223, 0.9923623560266216, 0.006972100862013735, 0.6006196408348737, 0.12166313880597361, 0.07172066594484043, 0.09055143440067753, 0.04257391129145779, 0.06320588368654888, 0.00966100294690773, 0.9999622213153871, 0.9986854714320348, 0.006543474930843498, 0.9932306158185605, 0.006927072124978783, 0.9917258258927957, 0.999213000928169, 0.9654923156463319, 0.033914901969639456, 0.8842440193614566, 0.01284227320101359, 0.03451360922772402, 0.015250199426203637, 0.009899252259114642, 0.022206430743419332, 0.021136241310001535, 0.02713196590412208, 0.023062171018503767, 0.9489405074966698, 0.10719864532197966, 0.0015881280788441433, 0.7480083251355915, 0.03176256157688286, 0.11116896551909003, 0.9994867131296239, 0.0610871580762802, 0.9116494753408867, 0.018707942160860812, 0.008475843183083878, 0.997954910166242, 0.9985488213360479, 0.211112505018861, 0.09091932534561364, 0.6904912306486297, 0.0017037692994919082, 0.0049564197803400965, 0.00015488811813562801, 0.00046466435440688404, 0.9979539358050686, 0.9961857172050678, 0.9975891840310341, 0.02185003241452701, 0.4124751017028058, 0.00966157895880446, 0.5557637496456904, 0.999578194012964, 0.9980802043497321, 0.9994356465498253, 0.8666108495134534, 0.05801083555486231, 0.046763836824837986, 0.013614787936345237, 0.007103367618962732, 0.008287262222123188, 0.9946990379811261, 0.0048247326013635865, 0.9318354483374909, 0.0669667676939787, 0.8918214137205365, 0.10758480546469963, 0.997915309084237, 0.005325455083383316, 0.9945287368218342, 0.9992545456722363, 0.9972883863872858, 0.08643109647309208, 0.009727485027414422, 0.14846374689381683, 0.07016546577151386, 0.6853890270135605, 0.07870810950438277, 0.0007910362764259575, 0.03045489664239936, 0.8903113291174152, 0.9983520294399741, 0.9991449737103915, 0.9968492309832264, 0.9990261578641813, 0.9873819906727127, 0.012041243788691619, 0.8149251340918456, 0.001564155727623504, 0.002737272523341132, 0.008602856501929273, 0.04770674969251688, 0.12278622461844507, 0.001564155727623504, 0.8464204975891357, 0.00042770111045433844, 0.00042770111045433844, 0.010264826650904122, 0.04833022548134024, 0.07313688988769187, 0.020529653301808243, 0.9993536790711186, 0.0004865402527123265, 0.32345540813269863, 0.026340016948916828, 0.004916803163797808, 0.00456560293781225, 0.0017560011299277887, 0.006672804293725597, 0.6325116069999894, 0.07339822076770597, 0.8800219665241448, 0.046157643987938805, 0.9956059260358269, 0.9992522655714208, 0.9994436902964801, 0.9996838679735767, 0.99942814601199, 0.0020743687700111, 0.843675412603086, 0.13009255571926756, 0.00044450759357380715, 0.014372412192219765, 0.0001481691978579357, 0.008001136684328529, 0.0011853535828634857, 0.025737510326290684, 0.9740039064105631, 0.0017202652447500665, 0.16686572874075645, 0.8308881132142821, 0.08220326038138963, 0.2722003768156307, 0.09828877766059421, 0.006998244530563031, 0.5403271486060083, 0.6106758747574155, 0.03287397500975138, 0.1268155374952443, 0.012146655173094578, 0.2074960727734138, 0.0049032369506069855, 0.003120241695840809, 0.002005869661611949, 0.9992939334257523, 0.72147765757781, 0.005240757803228645, 0.01222843487420017, 0.018245601240870095, 0.1550876105473958, 0.0722059964000391, 0.015528171268825613, 0.09835354569118566, 0.08064990746677224, 0.8202685710644884, 0.9982519573626155, 0.9995275117777281, 0.9986319658815813, 0.10632006244714007, 0.08314774114455825, 0.8110312455903633, 0.0369585930882365, 0.0028429686990951155, 0.027617410219781122, 0.9304630413752728, 0.0020306919279250825, 0.9992824025357324, 0.997518660931833, 0.03945149298489653, 0.001178421219029377, 0.3202743930501145, 0.6173902473610431, 0.021723938994280684, 0.998986452565071, 0.02384304755337871, 0.0380869460917608, 0.9379297537556378, 0.010477398776318462, 0.09010562947633877, 0.8780060174554871, 0.002933671657369169, 0.0012572878531582155, 0.01718293399316228, 0.9972961798839378, 0.9964824980568894, 0.9994646858193793, 0.49303875229143124, 0.055952256257412944, 0.09494601013564861, 0.09132747618849932, 0.17142129475002768, 0.02819216000614822, 0.06356737993723459, 0.001566231111452679, 0.998636284109835, 0.9998466112443354, 0.9997824653206431, 0.09952666495500558, 0.5629760592135726, 0.029041215306019864, 0.3084620750733152, 0.9643439866473085, 0.035542580870867424, 0.9656628612232183, 0.03223705725763932, 0.0021732847589419767, 0.17978268738968134, 0.2405114204740746, 0.1603943583574608, 0.35203437094040096, 0.06713809805372235, 0.14205474592434258, 0.001281696955708354, 0.03887814098982007, 0.8008469811584366, 0.011962504919944638, 0.004913171663548691, 0.9987512410042978, 0.04052689625834654, 0.9571499322191844, 0.0020859431897678363, 0.0002979918842525481, 0.008415525349408155, 0.7149537622931972, 0.27624876690448513, 0.015068406016138203, 0.9276110743534678, 0.05665720662067964, 0.0012195010123366146, 0.09024307491290948, 0.37943902926702094, 0.5088803510050359, 0.016376156451377397, 0.001916358733671823, 0.0001742144303338021, 0.001916358733671823, 0.02989336593423514, 0.9688967429272684, 0.04571752280817102, 0.34610312568870405, 0.2795212300553275, 0.019943885788799437, 0.30897681522032355, 0.5631684571029767, 0.1690173424045707, 0.09235829085941463, 0.03156549181271133, 0.05528136396829338, 0.05060499481085467, 0.037744979627898204, 0.0003340263683884797, 0.9983764636800344, 0.998143974350814, 0.00864139856601936, 0.9885759959526147, 0.22379327226877105, 0.1826269610141251, 0.14660643866630987, 0.05495314191068304, 0.1672866846503655, 0.2238903626255037, 0.0006796324971285888, 9.709035673265555e-05, 0.9997201646902909, 0.9995658738747271, 0.9984567788814847, 0.09207406423233411, 0.22309439931236816, 0.09172129003987306, 0.1025867351676734, 0.37817393431824586, 0.1123938577180906, 7.055483849221005e-05, 0.10161337097759914, 0.8981400412910743, 0.9994269289138927, 0.00035991384987337974, 0.003059267723923728, 0.9775260162560994, 0.019075434043289125, 0.0012164210080761965, 0.9986816476305573, 0.2045133129267971, 0.7951432904230389, 0.9979503008395227, 0.0019331910892387161, 0.9975266020471775, 0.9979216093360059, 0.9976118737739325, 0.9787498892609896, 0.021164950136972876, 0.9991824561051048, 0.9998740882512401, 0.8134803703367424, 0.0246935859987721, 0.008447805736422035, 0.02198595595504709, 0.054802432084994225, 0.042347333883859174, 0.03422444375268414, 0.9948141900172844, 0.9994349145078745, 0.9996465446302337, 0.999960530566943, 0.9983997713956497, 0.9989514707350674, 0.9987494689403319, 0.9987669882342856, 0.24312837119987105, 0.03901502363120607, 0.050312810396999336, 0.0861644537337833, 0.24207391110173035, 0.09339503726389098, 0.054831925103316644, 0.19100791492034477, 0.9993049774625099, 0.018715044600024832, 0.6924566502009187, 0.09434697741662003, 0.030098422243338904, 0.16438369071362016, 0.9963202058294781, 0.9982066847309959, 0.06440646718968503, 0.9331270305934127, 0.002300230971060179, 0.9996832179044891, 0.998992020761, 0.9991721769353229, 0.9996738004599979, 0.01618182507543484, 0.411692174237798, 0.30520861869408483, 0.0007146547351927058, 0.16574885179790827, 0.03675367209562487, 0.0262380381349322, 0.037417280064018094, 0.9990838250797498, 0.08558219406435463, 0.0019018265347634363, 0.07163546614275611, 0.822223005196059, 0.0006339421782544787, 0.018067352080252647, 0.5535372696787939, 0.011831176571505096, 0.04206640558757367, 0.08069469148770142, 0.1322664867993903, 0.14015393784706034, 0.03812268006373864, 0.0014156963418894986, 0.20270845667785853, 0.021816156772504952, 0.13203319880026435, 0.0022725163304692657, 0.5192699815122273, 0.011589833285393257, 0.0002272516330469266, 0.10998979039471247, 0.9983356799888107, 0.8845515309810592, 0.0006168420718138489, 0.008635789005393883, 0.015421051795346221, 0.048113681601480204, 0.016654735938973916, 0.02714105115980935, 0.9716613615494987, 0.005510366889694699, 0.018367889632315663, 0.0036735779264631327, 0.9995668635672441, 0.012037698382046257, 0.007441486272537686, 0.13810523052856705, 0.13591655809546774, 0.5044889958293931, 0.004158477622888707, 0.18756922751661168, 0.010505627678876733, 0.9624359710891491, 0.001451637965443664, 0.020322931516211295, 0.008709827792661983, 0.001451637965443664, 0.004354913896330991, 0.02097626338440875, 0.9315766026565881, 0.0428284586464082, 0.0012447452997341457, 0.0026738973105400166, 0.00013830503330379397, 0.0003688134221434506, 0.0002305083888396566, 0.04876628824300379, 0.08323900924236854, 0.08492060538867902, 0.010509975914440473, 0.703747987230934, 0.0029427932560433323, 0.024803543158079516, 0.04119910558460665, 0.450915162556769, 0.2665375340690568, 0.037158392352126104, 0.04641584650213676, 0.03870130137712788, 0.14156190304391295, 0.01260042370418117, 0.006043060347923622, 0.9987757508621515, 0.9989431036264621, 0.9970674450123332, 0.9994357331314478, 0.9962847465128467, 0.9729088734751159, 0.02673079803958158, 0.9993112702480935, 0.03086977184620306, 0.1297933588988083, 0.8390965256377013, 0.9979971864543544, 0.041015459002713174, 0.07677252582559133, 0.8058486015597173, 0.02997283542505963, 0.033390790341952394, 0.012620141231604055, 0.1403847677345384, 0.05882212730129687, 0.008792998411018604, 0.014250721562685325, 0.033049545751759585, 0.7301220749563034, 0.012431480512129752, 0.0021224478923148357, 0.9996989515446304, 0.6807158548327287, 0.0008914268847048338, 0.19054249660565822, 0.07220557766109154, 0.01242426220557362, 0.04317848972789039, 0.9971282407053043, 0.021251354600412158, 0.9786248793489799, 0.999859476574118, 0.13248575481808933, 0.17274890183533603, 0.2093161876252977, 0.07691739424785035, 0.1977503160199115, 0.18944549843860034, 0.020566380711833362, 0.0007826529657780138, 0.9999173863436873, 0.9560529669293311, 0.036534252419491015, 0.007042747454359713, 0.9991749149198277, 0.9601932459711243, 0.0009563677748716377, 0.00860730997384474, 0.010041861636152196, 0.002869103324614913, 0.01625825217281784, 0.0014345516623074565, 0.1766053934122072, 0.03877351494463497, 0.6190483790133158, 0.053645548074084, 0.0010622880806749307, 0.0010622880806749307, 0.10994681634985531, 0.999678431241172, 0.9992029553058981, 0.005718996380588725, 0.10294193485059705, 0.07530011901108488, 0.7949404969018328, 0.02096965339549199, 0.998598663769803, 0.12022358112164924, 0.0006041385986012525, 0.001208277197202505, 0.006041385986012524, 0.7890050097732357, 0.08216284940977032, 0.9983204196075561, 0.9961769289209904, 0.9996991368156186, 0.9984023959956614, 0.9995705752926329, 0.0021571903962265635, 0.05590718443553844, 0.0686705609465456, 0.8731228128727015, 0.9994616969441671, 0.0001429351441672091, 0.0408794512318218, 0.7226800889094092, 0.1259258620113112, 0.0002858702883344182, 0.11020299615291822, 0.9995281044131886, 0.17413008161183516, 0.3021052018325815, 0.061617650476655635, 0.4578976220163073, 0.0041959055810080765, 0.998748359120444, 0.04351674482726015, 0.029723490886476803, 0.9264792682196593, 0.999520524803564, 0.0035976672538696984, 0.08432032626257106, 0.07824926277166594, 0.12659291649554003, 0.029455900641058155, 0.5760764690258855, 0.10163409992181897, 0.9987357820250804, 0.11360352128195332, 0.00040142587025425203, 0.7028966988151953, 0.04435755866309485, 0.08269372927237592, 0.05599890890046816, 0.0005758600332626349, 0.05297912306016241, 0.02015510116419222, 0.9000692319894984, 0.02591370149681857, 0.9998801038470716, 0.5830948362933981, 0.011304527783048994, 0.4056259055057472, 0.9974139759089962, 0.03233078033856048, 0.9661640170941911, 0.0015037572250493245, 0.9306279868256881, 0.0011172004643765765, 0.0011172004643765765, 0.0033516013931297294, 0.06256322600508828, 0.0782499735978087, 0.013230671864363792, 0.012096614275989752, 0.04271616916208881, 0.00037801919612467976, 0.8535673448495269, 0.002098844677665373, 0.053370621803490906, 0.7456895304791117, 0.026685310901745453, 0.017090592375275177, 0.002398679631617569, 0.15261599156166783, 0.9964414131164682, 0.9984203588304994, 0.0031798605395761048, 0.03732152106976165, 0.5360575425401192, 0.17924371778347412, 0.24384509506117816, 0.9992834933173514, 0.9971481273746825, 0.3043444348244056, 0.6956444224557843, 0.00011919354170006723, 5.9596770850033615e-05, 0.16991039369344582, 0.8298850340867181, 0.9962951610733597, 0.01614508939409743, 0.047733307773853276, 0.935713224449212, 0.9965049127083977, 0.9998638667498215, 0.14294179577104965, 0.5458958993867938, 0.02291794080957325, 0.28812813213685134, 0.08424667298285901, 0.2644362371292959, 0.6483773121920235, 0.0028816769430756606, 0.9981355485672015, 0.0018230666818752563, 0.013755866781422389, 0.07938626732893161, 0.00016573333471593237, 0.3699168030859611, 0.5351529377977456, 0.682842260774478, 0.05837516453459976, 0.042432367497839324, 0.07505378297305684, 0.044394557902363685, 0.09148712761094836, 0.005396023612441995, 0.9961336098133794, 0.050574666659225664, 0.9493413331936577, 0.997348464573212, 0.9988084935112077, 0.6500954598881657, 0.34979416205916736, 0.9993514907217312, 0.9994683789658931, 0.9749024425410192, 0.0070675230376108, 0.017876675918662613, 0.5474090274166278, 0.04267299890070438, 0.016704732665756165, 0.11678126745424082, 0.08580158141956575, 0.17793071309131187, 0.012705720906378174, 0.200599704541096, 0.5111487798504563, 0.00022056042280494336, 0.07388774163965603, 0.03242238215232667, 0.1452390384170552, 0.023820525662933884, 0.012571944099881771, 0.9494426026332559, 0.05028955712735178, 0.1046957573081868, 0.022567970178896873, 0.0016680673610488994, 0.02246984856942341, 0.3362627556655634, 0.4448833773526888, 0.06740954570827022, 0.9988474606394854, 0.0650326994872195, 0.87959481679324, 0.04144456780880429, 0.011683840924822487, 0.002204498287702356, 0.003415917419595299, 0.9957399278120297, 0.9952177476450541, 0.9975509171428392, 0.0019891344309927003, 0.9989944164070923, 0.6204014663688734, 0.06354643244294227, 0.04157976443797457, 0.10481238733798873, 0.03593119266526859, 0.10732286368141361, 0.026360001605961237, 0.8795751968862943, 0.03669601270706619, 0.022582161665886887, 0.027098593999064263, 0.006774648499766066, 0.024840377832475575, 0.0022582161665886885, 0.12717462037484814, 0.08253596422608339, 0.11533171160068606, 0.053930784571568836, 0.20114725056422972, 0.20351583231906215, 0.21626973407585207, 0.5619773979027389, 0.10378568931413693, 0.046950668975442894, 0.1667334006274731, 0.06281765405855656, 0.04552003917286707, 0.0122253819492843, 0.1052338398391317, 0.09993238695051046, 0.00238565379987956, 0.7191420843414718, 0.040291041953521456, 0.032869007909451714, 0.9990071978171322, 0.9993908077070389, 0.9995325923977347, 0.999354761154458, 0.7642809891574991, 0.04961022741192966, 0.00765414937212629, 0.016158759785599944, 0.07880938983152254, 0.03004962346094025, 0.05301207157731912, 0.0717885938755157, 0.0009701161334529149, 0.9225804429137221, 0.0048505806672645745, 0.049824120159309426, 0.27991319007955384, 0.5038009746580816, 0.016679319194961954, 0.12466721911106178, 0.017962343748420567, 0.0012830245534586119, 0.005773610490563753, 0.9951495898641913, 0.3236262683835508, 0.08484822750354429, 0.016131188257924103, 0.48785452398117357, 0.00018227331364885992, 0.00018227331364885992, 0.08703550726733061, 0.9982156737478738, 0.9987362743657765, 0.004227703761820105, 0.9949196186149979, 0.9988428314977897, 0.9988882641116056, 0.09034135400814604, 0.90534339544078, 0.0042215585985114976, 0.9993440404384654, 0.9978122417467893, 0.9162035536570587, 0.0012047384006009976, 0.013854491606911472, 0.02168529121081796, 0.02469713721232045, 0.02168529121081796, 0.9953952388466978, 0.9992471730714447, 0.9994462098019999, 0.0036561325307838386, 0.9961299267962876, 0.008129309380631078, 0.0016819260787512577, 0.004485136210003354, 0.1687532499013762, 0.8168554322468609, 0.996764422907896, 0.024947585694752535, 0.1066466076697158, 0.13620344707250576, 0.12554454787266922, 0.3149272596016567, 0.2910167559912126, 5.761567135046775e-05, 0.0005761567135046775, 0.9974646070753437, 0.0011902918938846584, 0.9988356053542514, 0.9984065166166511, 0.5260659726879892, 0.09293866682546022, 0.0752409919622601, 0.08031225551955136, 0.05091962592218978, 0.16849014431163611, 0.006002720129038633, 0.1321796468327769, 0.03152694756612169, 0.5707545174192697, 0.04950898432605777, 0.11396407712790656, 0.00023353294493423475, 0.004437125953750461, 0.09785030392744436, 0.08834454508091136, 0.11147937559130829, 0.19137080952419, 0.042074884060117494, 0.47680631453021366, 0.08364131030681968, 0.006165050987660721, 0.00012711445335382928, 0.9996809477537043, 0.07569503688321744, 0.9129630402708668, 0.006933896508386331, 0.004189229140483408, 0.00014445617725804854, 0.9978763579376817, 0.9986373016668842, 0.9994717534426697, 0.9997024086291751, 0.08068549876478219, 0.5851365716206313, 0.3284099846417788, 0.005667989582649989, 0.9967586511155833, 0.15103560983084469, 0.00018486610750409384, 0.0007394644300163754, 0.002588125505057314, 0.005176251010114628, 0.563287029564974, 0.2769294290411326, 0.999050495089675, 0.0009173508731434463, 0.07797482421719293, 0.92102027663602, 0.22587206798640996, 0.0005901845748058491, 0.0021078020528780324, 0.724240785368892, 0.042324665221790896, 0.001096057067496577, 0.0037940436951804583, 0.9662178328230985, 0.023142942103547268, 0.009642892543144694, 0.996986406777221, 0.9986283788691231, 0.6460451421280845, 0.0480563980237579, 0.01980759362022717, 0.05624687977389403, 0.040116645306789205, 0.15954724143887625, 0.030087483980091905, 0.23888655887951113, 0.017890182823575723, 0.013329940143056421, 0.02701066818461433, 0.0599847306437539, 0.6030043975240523, 0.03963903253066778, 0.041087292602238576, 0.9587593951306038, 0.0027869094288560958, 0.9425327688391315, 0.042361023318612655, 0.0003715879238474794, 0.004830643010017233, 0.007245964515025849, 0.08550055870834708, 0.018835519121393293, 0.21904227292856243, 0.6708830967956937, 0.003386160740924637, 0.0025396205556934776, 0.9749047426259954, 0.02463356737256262, 0.0017755175289820115, 0.01864293405431112, 0.1216229507352678, 0.8478096200889105, 0.003846954646127692, 0.00621431135143704, 0.005849874008209426, 0.9928831612115453, 0.0010636134560380775, 0.0006468105660193714, 0.8462438238753442, 0.14402315270031335, 0.0028028457860839427, 0.005821295094174343, 0.00021560352200645713, 0.9924537171682826, 0.006949956002579009, 0.9006111991535801, 0.0018120949681158553, 0.030805614457969543, 0.025369329553621974, 0.040772136782606744, 0.814067459192018, 0.002246323011015502, 0.027854405336592225, 0.009883821248468209, 0.10243232930230689, 0.04402793101590384, 0.9989589931628161, 0.9979236650447353, 0.9986131614066079, 0.9997210814596859, 0.9990004364877447, 0.9990660849167402, 0.9986120974701116, 0.9990676509548919, 0.9964721109477397, 0.21752316366698662, 0.013996128493318173, 0.6694814795970526, 0.05948354609660224, 0.0043737901541619295, 0.03178287512024335, 0.003499032123329543, 0.9984437048956323, 0.9739883382976854, 0.0008268152277569486, 0.02397764160495151, 0.0008268152277569486, 0.9988452332031986, 0.9982271970112929, 0.9930921502783953, 0.00082141617061902, 0.0057499131943331405, 0.028508089301573565, 0.02982790825072049, 0.9415588383214158, 0.09580938570604199, 0.8127695367247847, 0.09057609993218255, 0.0005367472588573781, 0.00040256044414303354, 0.013987800539034059, 0.9772809976605129, 0.0074601602874848315, 0.9994852034124817, 0.012461216272131202, 0.02420351622087022, 0.01078374485088277, 0.17972908084804617, 0.7584567211787548, 0.014138687693379632, 0.9988996935129244, 0.998514862711566, 0.044680527535751205, 0.9549531916443158, 0.000279253297098445, 0.0035165575616947662, 0.9962678076709096, 0.9953403159151523, 0.49884117742761913, 0.3413061645133769, 0.08745379561630849, 0.07232665259078486, 0.9992725632911511, 0.9990875459059578, 0.036943751925647667, 0.962946925192425, 0.8433837385345414, 0.013580147416859438, 0.02687737509586764, 0.020794600732066015, 0.033101609328594885, 0.03607226657603289, 0.026311535620165163, 0.009148122234711589, 0.07293773133080861, 0.4485052360477519, 0.0007417396406522909, 0.0081591360471752, 0.06947627967443125, 0.3904022975299891, 0.000988986187536388, 0.9996391944536461, 0.9952543060879625, 0.014242460228063449, 0.013759664966095196, 0.9718668623420923, 0.8979269631498612, 0.026098427051488505, 0.020455523905220718, 0.0222189311384294, 0.011638487739177306, 0.009875080505968623, 0.011638487739177306, 0.998153186390999, 0.07604100234759013, 0.05536966190358505, 0.867458036489499, 0.9985325807541863, 0.9990689018794259, 0.9362738637684841, 0.06320586966765161, 0.02407938980553395, 0.046868812300057155, 0.9171667581286415, 0.011609705799096726, 0.9992764726396457, 0.9989864934277637, 0.9845627492509069, 0.014983527357279388, 0.9992707777009702, 0.00041962461738594055, 0.9993360263046175, 0.9511415604870311, 0.048323177174681875, 0.04391233085486002, 0.9107196012587776, 0.0313659506106143, 0.013653413795208577, 0.18211609063391962, 6.16506738774271e-05, 0.04235401295379241, 0.01633742857751818, 0.5774202115359821, 0.06467155689742102, 0.11682802699772434, 0.0002466026955097084, 0.000655198274107468, 0.9670726525826228, 0.03210471543126593, 0.9991851033119525, 0.08930553850633952, 0.9106022210749047, 0.20928576674684735, 0.534870077119563, 0.12558866397468027, 0.0001720392657187401, 0.007397688425905825, 0.012214787866030547, 0.01961247629193637, 0.09083673229949478, 0.9987279064328889, 0.9977893671046555, 0.9973226093108293, 0.039506903287601154, 0.5525675357145287, 0.3890724493412864, 0.018695231020025547, 0.999429070935456, 0.9976156754748942, 0.7375100028436024, 0.06714259611698985, 0.05126427946770171, 0.071830480080113, 0.02132231092904407, 0.03901529233825086, 0.012097765066124295, 0.008265605924273632, 0.00017968708531029633, 0.2910930782026801, 0.7004202585395352, 0.7767115385860404, 0.00041369456116433574, 0.0006205418417465036, 0.0006205418417465036, 0.00020684728058216787, 0.22132659022291964, 0.07018721432493674, 0.0011796170474779285, 0.8941497219882697, 0.01828406423590789, 0.015924830140952032, 0.22220978867590147, 0.5745055729315832, 0.20306505725095267, 0.00016363018311922053, 0.9840426618651719, 0.015600676346642969, 0.06521188179370153, 0.1550445761013516, 0.20362077376400683, 0.16386148869080616, 0.19505339643651798, 0.19072811856244595, 0.026450737768363635, 8.317842065523155e-05, 0.9971214804798465, 0.9992833950900178, 0.007929617563061453, 0.008203052651442883, 0.45827720812727574, 0.011210838623638607, 0.037460607108255835, 0.4735895730766358, 0.0035546561489585827, 0.9967822151303688, 0.9978744471926712, 0.998747775307525, 0.6604224270784956, 0.026379212493862877, 0.013324194065777678, 0.07375412472773907, 0.11211165309891723, 0.11036201145391612, 0.0036338711088484575, 0.9990899972840325, 0.999619285386312, 0.9997749151368482, 0.9987993482792356, 0.8521897316883777, 0.025099557314804954, 0.0029880425374767803, 0.0077689105974396286, 0.014940212687383901, 0.040039770002188856, 0.05677280821205882, 0.001500001034998139, 0.005500003794993177, 0.0025000017249968984, 0.0147500101774817, 0.966500666883801, 0.009250006382488525, 0.21146044358078356, 0.7882323586040105, 0.00045267870368102955, 0.009103871707362928, 0.7586392097356632, 0.2317211986509448, 5.029763374233662e-05, 0.9579947818290492, 0.02954342460410308, 0.01221128216969594, 0.05458982849340993, 0.9452659775964141, 0.9966438601714653, 0.9986121422665758, 0.9990313580957968, 0.995450776623489, 0.001617091288125532, 0.1972851371513149, 0.30433658042522516, 0.4202820257838258, 0.00016170912881255321, 0.05077666644714171, 0.025550042352383406, 0.04371870343851175, 0.9560956027595379, 0.9965769545145381, 0.9994587682630732, 0.9976465833745205, 0.34518562183164875, 0.2795944798500252, 0.02848809300992904, 0.03230608485662056, 0.2098916543411954, 0.017719398057722185, 0.06333950576434395, 0.02349533444117859, 0.014870941639069142, 0.00551250422827563, 0.0033331420915154973, 0.8179017901488028, 0.026024147868370998, 0.1324282992513657, 0.9982262331640247, 0.8514737089835861, 0.042317623396778414, 0.03504007032854264, 0.037196382348760645, 0.02318035421734359, 0.007277553068235778, 0.0032344680303270125, 0.8340160924131963, 0.03369037932395378, 0.02795584667306803, 0.026880621801026953, 0.02795584667306803, 0.04265058659096277, 0.006809757522926828, 0.9968712860722788, 0.0907064893709608, 0.07817796873961262, 0.06013689903047125, 0.749205533754621, 0.0010022816505078542, 0.021047914660664937, 0.5589127159409486, 0.03818371702300392, 0.0342615225251727, 0.006690802378653255, 0.0012689452787101, 0.2823980038438477, 0.07221452222477479, 0.005998650408447746, 0.9989839007011374, 0.9991986027593607, 0.9990668021952868, 0.9970586898297157, 0.9987637401863018, 0.013701685447698262, 0.9222288282104599, 0.042159032146763885, 0.002107951607338194, 0.020025540269712844, 0.9974377108890863, 0.15972683808038335, 0.2532441356889792, 0.16178669045061672, 0.12918217007606536, 0.13494975671271886, 0.13700960908295226, 0.023482317020660632, 0.000588529248638111, 0.0008001272331735963, 0.9985587870006483, 0.9952515376023658, 0.003835266040856901, 0.04218770463493412, 0.04148064813267266, 0.01885484006030575, 0.2517121148050818, 0.516544055818793, 0.07109845939406961, 0.057900071351855584, 0.00023568550075382192, 0.9991083185730407, 0.9975958394593752, 0.037319369059474666, 0.10436772703073423, 0.796989915507425, 0.061355572860492244, 0.9978214278892568, 0.9987577332884936, 0.9985897630842062, 0.9041867185339394, 0.0038105400540262347, 0.017147430243118055, 0.005715810081039351, 0.053347560756367284, 0.004627084351317571, 0.01115943872964826, 0.9958961498763018, 0.9987252301707519, 0.033805841067637434, 0.8330725120239225, 0.13302817978563822, 0.5263545758527179, 0.10161730719527202, 0.10740752802157959, 0.0854004156559088, 0.09114790422519564, 0.07706762553686843, 0.011003556182835385, 0.017082207831028748, 0.259266406706455, 0.39760036077735605, 0.08956185601128157, 0.011414746354379024, 0.22502216764331795, 0.9997830617498851, 0.9983170919574368, 0.07006398024961732, 0.12360881068428421, 0.007405136123943294, 0.2455087438015046, 0.5531067058729953, 0.9982293369785068, 0.018113489748341642, 0.12395433402697906, 0.3974869631883473, 0.35993460639300484, 0.10047622187930277, 0.9968335486310993, 0.15612492383068843, 0.00451419032232597, 0.07222704515721552, 0.20710224381207681, 0.46375047896675575, 0.03237004767716671, 0.06385927773046494, 0.999418821766905, 0.6543831821645032, 0.06325096496130435, 0.00018227943792883098, 0.2105327508077998, 0.0488508893649267, 0.02278492974110387, 0.000851458270145581, 0.9979090926106209, 0.008709920431237052, 0.5762121386587213, 0.15067031187542537, 0.0009049267980506028, 0.0011311584975632536, 0.00033934754926897605, 0.20406099296041094, 0.05791531507523858, 0.9989400112845408, 0.5927813164235384, 0.3301343695120046, 0.07705653476023906, 0.9974702209293954, 0.9990515338284827, 0.06362929789932431, 0.913212201507758, 0.00037650472129777693, 0.022778535638515507, 0.9480940328488947, 0.01238182505586243, 0.0013266241131281175, 0.020341569734631137, 0.004864288414803098, 0.012824033093571803, 0.34555436532168576, 0.10636163364601488, 0.031652779863466415, 0.1834202571127508, 0.08680325656880747, 0.24223361009050173, 0.004008430637731555, 0.6333131847317465, 0.03856402553763327, 0.00988464192480853, 0.09070203118327827, 0.08109582987606997, 0.1392899189545202, 0.007100235748806126, 0.05248478190895542, 0.03213353994425842, 0.8518065880223836, 0.03829246843357462, 0.0002677794995354868, 0.025171272956335762, 0.9995221743054999, 0.9990517100499314, 0.9988828317585233, 0.9999205114045254, 0.03600496812734937, 0.6056697799353541, 0.08939164500583292, 0.26879571033003924, 0.00020692510418016878, 0.8544227872149894, 0.005185303496247407, 0.00403301383041465, 0.04148242796997926, 0.02074121398498963, 0.05242917979539045, 0.021893503650822387, 0.38938905217687275, 0.17037388096908354, 0.08635122668706398, 0.19223658854977838, 0.0683694731147765, 0.07140955375469561, 0.02192739014750164, 0.7369453438534098, 0.024604401711047823, 0.004984171407704221, 0.053560064174853296, 0.04161387556273683, 0.12761061080360173, 0.010680367302223331, 0.9979326990526982, 0.15689284386455707, 0.011601706425066128, 0.007149888843354707, 0.050184125466565116, 0.015379006191366729, 0.7588325423371741, 0.9603665755746091, 0.03939965438254807, 0.9973212526436419, 0.9993568543224628], \"Term\": [\"#\", \"#\", \"#\", \"#\", \"#\", \"#includ\", \"+\", \"+\", \"+\", \"+\", \"+\", \"+\", \"+\", \"+\", \"++i\", \"0\", \"0\", \"0\", \"0\", \"0\", \"0\", \"0\", \"00\", \"00\", \"01\", \"01\", \"02\", \"03\", \"04\", \"04\", \"05\", \"06\", \"07\", \"08\", \"09\", \"1\", \"1\", \"1\", \"1\", \"1\", \"1\", \"1\", \"1\", \"10\", \"10\", \"10\", \"10\", \"10\", \"10\", \"10\", \"11\", \"11\", \"11\", \"11\", \"11\", \"12\", \"12\", \"12\", \"12\", \"14\", \"14\", \"14\", \"14\", \"15\", \"15\", \"15\", \"15\", \"17\", \"17\", \"17\", \"17\", \"18\", \"18\", \"19\", \"2\", \"2\", \"2\", \"2\", \"2\", \"2\", \"2\", \"2\", \"2013\", \"2013\", \"2013\", \"2013\", \"2016\", \"22\", \"22\", \"22\", \"22\", \"22\", \"23\", \"23\", \"26\", \"26\", \"28\", \"2d\", \"3\", \"3\", \"3\", \"3\", \"3\", \"3\", \"3\", \"3\", \"3000\", \"31\", \"39\", \"39\", \"4\", \"4\", \"4\", \"4\", \"4\", \"4\", \"4\", \"48\", \"5\", \"5\", \"5\", \"5\", \"5\", \"5\", \"5\", \"5\", \"53\", \"54\", \"55\", \"6\", \"6\", \"6\", \"6\", \"6\", \"6\", \"6\", \"7\", \"7\", \"7\", \"7\", \"7\", \"7\", \"7\", \"8\", \"8\", \"8\", \"8\", \"8\", \"8\", \"8\", \"9\", \"9\", \"9\", \"9\", \"across\", \"across\", \"across\", \"across\", \"across\", \"across\", \"activ\", \"activ\", \"activ\", \"activ\", \"activitythread\", \"adb\", \"advantag\", \"advantag\", \"also\", \"also\", \"also\", \"also\", \"also\", \"also\", \"also\", \"android\", \"androidruntim\", \"angular\", \"angular\", \"angular2\", \"angular2\", \"angularj\", \"anim\", \"anim\", \"answer\", \"answer\", \"answer\", \"answer\", \"answer\", \"answer\", \"answer\", \"apach\", \"apach\", \"apach\", \"api\", \"api\", \"api\", \"api\", \"api\", \"apk\", \"app\", \"app\", \"app\", \"app\", \"appcompat\", \"appdata\", \"applic\", \"applic\", \"applic\", \"applic\", \"applic\", \"applic\", \"applic\", \"apt\", \"aria\", \"arr\", \"array\", \"array\", \"array\", \"array\", \"arraylist\", \"arrays\", \"artifactid\", \"ask\", \"ask\", \"ask\", \"ask\", \"ask\", \"ask\", \"asp\", \"asp\", \"assert\", \"assert\", \"async\", \"async\", \"auth\", \"authent\", \"authent\", \"await\", \"axi\", \"b\", \"b\", \"b\", \"b\", \"b\", \"background\", \"background\", \"background\", \"background\", \"base64\", \"bash\", \"baz\", \"bean\", \"benefit\", \"benefit\", \"best\", \"best\", \"best\", \"best\", \"best\", \"best\", \"best\", \"better\", \"better\", \"better\", \"better\", \"better\", \"better\", \"better\", \"bin\", \"bin\", \"bit\", \"bit\", \"bit\", \"bit\", \"bit\", \"bit\", \"bit\", \"boolean\", \"boolean\", \"boolean\", \"boolvalu\", \"bootstrap\", \"border\", \"branch\", \"btn\", \"build\", \"build\", \"build\", \"build\", \"build\", \"build\", \"build\", \"build\", \"button\", \"button\", \"byte\", \"byte\", \"byte\", \"c\", \"c\", \"c\", \"c\", \"c\", \"call\", \"call\", \"call\", \"call\", \"call\", \"call\", \"call\", \"call\", \"canva\", \"case\", \"case\", \"case\", \"case\", \"case\", \"case\", \"case\", \"catch\", \"catch\", \"catch\", \"cc\", \"center\", \"certif\", \"char\", \"char\", \"char\", \"charact\", \"charact\", \"charact\", \"charact\", \"charact\", \"chrome\", \"clang\", \"class\", \"class\", \"class\", \"class\", \"class\", \"cli\", \"click\", \"click\", \"click\", \"client\", \"client\", \"client\", \"client\", \"client\", \"client\", \"clock\", \"closur\", \"cmd\", \"code\", \"code\", \"code\", \"code\", \"code\", \"code\", \"code\", \"code\", \"collaps\", \"color\", \"column\", \"com\", \"com\", \"com\", \"com\", \"command\", \"command\", \"commit\", \"commit\", \"commit\", \"compil\", \"compil\", \"compil\", \"compil\", \"compil\", \"compon\", \"compon\", \"compon\", \"compon\", \"compon\", \"compon\", \"compos\", \"connect\", \"connect\", \"connect\", \"connect\", \"const\", \"const\", \"const\", \"constructor\", \"constructor\", \"constructor\", \"content\", \"content\", \"content\", \"content\", \"content\", \"content\", \"content\", \"content\", \"cooki\", \"cooki\", \"core\", \"core\", \"core\", \"core\", \"core\", \"could\", \"could\", \"could\", \"could\", \"could\", \"could\", \"could\", \"could\", \"cout\", \"cp\", \"cpp\", \"cpp\", \"creat\", \"creat\", \"creat\", \"creat\", \"creat\", \"creat\", \"creat\", \"creat\", \"css\", \"csv\", \"curl\", \"data\", \"data\", \"data\", \"data\", \"data\", \"data\", \"data\", \"databas\", \"databas\", \"datafram\", \"date\", \"date\", \"date\", \"date\", \"datetim\", \"datetim\", \"db\", \"db\", \"dbo\", \"dd\", \"dd\", \"decim\", \"decod\", \"devic\", \"devic\", \"devkit\", \"df\", \"differ\", \"differ\", \"differ\", \"differ\", \"differ\", \"differ\", \"differ\", \"difficult\", \"dir\", \"directori\", \"div\", \"docker\", \"donhuvi\", \"drawabl\", \"dt\", \"e\", \"e\", \"e\", \"e\", \"e\", \"e\", \"e\", \"e\", \"egg\", \"element\", \"element\", \"element\", \"element\", \"element\", \"employe\", \"endl\", \"entiti\", \"entiti\", \"entiti\", \"enum\", \"env\", \"er101\", \"err\", \"error\", \"error\", \"error\", \"error\", \"error\", \"error\", \"error\", \"error\", \"es6\", \"event\", \"event\", \"event\", \"event\", \"event\", \"event\", \"exampl\", \"exampl\", \"exampl\", \"exampl\", \"exampl\", \"exampl\", \"exampl\", \"exampl\", \"except\", \"except\", \"except\", \"except\", \"except\", \"except\", \"except\", \"except\", \"exe\", \"explain\", \"explain\", \"explain\", \"explain\", \"explain\", \"explain\", \"explain\", \"explan\", \"explan\", \"explan\", \"explan\", \"ext\", \"fals\", \"fals\", \"fals\", \"fals\", \"fals\", \"fals\", \"fals\", \"fals\", \"feel\", \"feel\", \"feel\", \"feel\", \"feel\", \"feel\", \"file\", \"file\", \"file\", \"file\", \"file\", \"file\", \"file\", \"file\", \"final\", \"final\", \"final\", \"final\", \"final\", \"final\", \"final\", \"final\", \"find\", \"find\", \"find\", \"find\", \"find\", \"find\", \"find\", \"find\", \"firebas\", \"firstnam\", \"flask\", \"flex\", \"fn\", \"folder\", \"folder\", \"font\", \"foo\", \"foo\", \"foo\", \"foreign\", \"form\", \"form\", \"form\", \"form\", \"form\", \"form\", \"format\", \"format\", \"format\", \"format\", \"format\", \"format\", \"format\", \"format\", \"fragment\", \"function\", \"function\", \"function\", \"function\", \"function\", \"function\", \"g++\", \"gcc\", \"gcc\", \"gem\", \"get\", \"get\", \"get\", \"get\", \"get\", \"get\", \"get\", \"get\", \"git\", \"github\", \"github\", \"github\", \"gitignor\", \"good\", \"good\", \"good\", \"good\", \"good\", \"good\", \"good\", \"googl\", \"googl\", \"googl\", \"googl\", \"googl\", \"googl\", \"googl\", \"gradl\", \"green\", \"group\", \"group\", \"group\", \"group\", \"group\", \"gyp\", \"h\", \"h\", \"h\", \"h\", \"h\", \"h\", \"hashmap\", \"heard\", \"height\", \"hole\", \"href\", \"html\", \"html\", \"html\", \"html\", \"html5\", \"http\", \"http\", \"http\", \"http\", \"http\", \"http\", \"icon\", \"id\", \"id\", \"id\", \"id\", \"id\", \"ienumer\", \"imag\", \"imag\", \"imag\", \"img\", \"index\", \"index\", \"index\", \"index\", \"index\", \"index\", \"index\", \"inflat\", \"input\", \"input\", \"input\", \"input\", \"input\", \"input\", \"insert\", \"insert\", \"insert\", \"insert\", \"insert\", \"instal\", \"int\", \"int\", \"int\", \"intellij\", \"intent\", \"intent\", \"intent\", \"interest\", \"interest\", \"interest\", \"interest\", \"interest\", \"intern\", \"intern\", \"intern\", \"intern\", \"intern\", \"intern\", \"io\", \"io\", \"io\", \"io\", \"io\", \"io\", \"io\", \"iostream\", \"ipython\", \"item\", \"item\", \"item\", \"item\", \"item\", \"j\", \"jackson\", \"jar\", \"jar\", \"java\", \"java\", \"java\", \"java\", \"javac\", \"join\", \"join\", \"join\", \"jpa\", \"jqueri\", \"js\", \"js\", \"js\", \"js\", \"json\", \"json\", \"json\", \"json\", \"junit\", \"key\", \"key\", \"key\", \"key\", \"key\", \"key\", \"know\", \"know\", \"know\", \"know\", \"know\", \"know\", \"know\", \"kwarg\", \"lang\", \"lang\", \"lastnam\", \"launcher\", \"layout\", \"layout\", \"layoutinflat\", \"li\", \"lib\", \"lib\", \"lib\", \"like\", \"like\", \"like\", \"like\", \"like\", \"like\", \"like\", \"line\", \"line\", \"line\", \"line\", \"line\", \"line\", \"line\", \"line\", \"linux\", \"linux\", \"list\", \"list\", \"list\", \"list\", \"list\", \"list\", \"list\", \"listview\", \"local\", \"local\", \"local\", \"local\", \"local\", \"localhost\", \"localhost\", \"lodash\", \"login\", \"login\", \"longword\", \"look\", \"look\", \"look\", \"look\", \"look\", \"look\", \"look\", \"lot\", \"lot\", \"lot\", \"lot\", \"lot\", \"lot\", \"lot\", \"main\", \"main\", \"main\", \"main\", \"main\", \"main\", \"main\", \"make\", \"make\", \"make\", \"make\", \"make\", \"make\", \"make\", \"map\", \"map\", \"map\", \"map\", \"map\", \"map\", \"margin\", \"master\", \"matplotlib\", \"maven\", \"mean\", \"mean\", \"mean\", \"mean\", \"mean\", \"mean\", \"mean\", \"member\", \"member\", \"member\", \"member\", \"messag\", \"messag\", \"messag\", \"messag\", \"messag\", \"messag\", \"messag\", \"messag\", \"metadata\", \"method\", \"method\", \"method\", \"method\", \"method\", \"method\", \"method\", \"mib\", \"min\", \"mm\", \"mm\", \"mock\", \"modal\", \"modul\", \"modul\", \"modul\", \"mongodb\", \"mongoos\", \"much\", \"much\", \"much\", \"much\", \"much\", \"much\", \"multipli\", \"mvc\", \"myclass\", \"mysql\", \"mysql\", \"n\", \"n\", \"n\", \"n\", \"n\", \"na\", \"name\", \"name\", \"name\", \"name\", \"name\", \"name\", \"name\", \"name\", \"nan\", \"nan\", \"nav\", \"navbar\", \"need\", \"need\", \"need\", \"need\", \"need\", \"need\", \"need\", \"net\", \"net\", \"net\", \"net\", \"net\", \"net\", \"net\", \"net\", \"new\", \"new\", \"new\", \"new\", \"new\", \"new\", \"new\", \"new\", \"ng\", \"node\", \"node\", \"node\", \"node\", \"node\", \"notebook\", \"notif\", \"np\", \"npm\", \"null\", \"null\", \"null\", \"null\", \"nullabl\", \"number\", \"number\", \"number\", \"number\", \"number\", \"number\", \"number\", \"numpi\", \"obj\", \"obj\", \"obj\", \"object\", \"object\", \"object\", \"object\", \"object\", \"object\", \"object\", \"often\", \"often\", \"often\", \"oid\", \"oncreat\", \"one\", \"one\", \"one\", \"one\", \"one\", \"one\", \"one\", \"order\", \"order\", \"order\", \"order\", \"order\", \"order\", \"order\", \"org\", \"org\", \"packag\", \"packag\", \"packag\", \"packag\", \"packag\", \"packag\", \"page\", \"page\", \"page\", \"page\", \"page\", \"page\", \"panda\", \"panda\", \"parent\", \"parent\", \"parent\", \"parent\", \"parent\", \"parent\", \"password\", \"password\", \"password\", \"path\", \"path\", \"path\", \"path\", \"path\", \"path\", \"pd\", \"pd\", \"peopl\", \"peopl\", \"peopl\", \"peopl\", \"peopl\", \"perform\", \"perform\", \"perform\", \"perform\", \"perform\", \"perform\", \"pg\", \"pickl\", \"pil\", \"pip\", \"pkg\", \"plot\", \"plt\", \"pod\", \"pom\", \"post\", \"post\", \"post\", \"post\", \"post\", \"post\", \"post\", \"postgr\", \"practic\", \"practic\", \"practic\", \"practic\", \"price\", \"printf\", \"println\", \"println\", \"println\", \"privat\", \"privat\", \"privat\", \"project\", \"project\", \"project\", \"project\", \"project\", \"promis\", \"promis\", \"promis\", \"prop\", \"properti\", \"properti\", \"properti\", \"properti\", \"properti\", \"properti\", \"prototyp\", \"ptr\", \"public\", \"public\", \"public\", \"py\", \"py\", \"pycharm\", \"python\", \"python\", \"python\", \"python\", \"python2\", \"python3\", \"queri\", \"queri\", \"question\", \"question\", \"question\", \"question\", \"question\", \"question\", \"question\", \"r\", \"r\", \"r\", \"r\", \"r\", \"r\", \"r\", \"r\", \"rb\", \"rdx\", \"react\", \"react\", \"react\", \"realli\", \"realli\", \"realli\", \"realli\", \"realli\", \"realli\", \"realli\", \"rebas\", \"record\", \"record\", \"record\", \"redux\", \"regex\", \"remot\", \"remot\", \"render\", \"render\", \"render\", \"render\", \"rep\", \"repo\", \"repositori\", \"repositori\", \"req\", \"request\", \"request\", \"res\", \"res\", \"respons\", \"respons\", \"respons\", \"respons\", \"return\", \"return\", \"return\", \"return\", \"return\", \"return\", \"return\", \"return\", \"rout\", \"rout\", \"rout\", \"router\", \"row\", \"row\", \"run\", \"run\", \"run\", \"run\", \"run\", \"run\", \"run\", \"run\", \"rxjs\", \"savedinstancest\", \"scanner\", \"script\", \"script\", \"script\", \"script\", \"scroll\", \"sed\", \"seem\", \"seem\", \"seem\", \"seem\", \"seem\", \"seem\", \"seem\", \"select\", \"select\", \"select\", \"select\", \"self\", \"self\", \"self\", \"self\", \"self\", \"self\", \"send\", \"send\", \"send\", \"send\", \"send\", \"server\", \"server\", \"server\", \"server\", \"servic\", \"servic\", \"set\", \"set\", \"set\", \"set\", \"set\", \"set\", \"set\", \"set\", \"setstat\", \"shell\", \"size\", \"size\", \"size\", \"size\", \"size\", \"size\", \"size\", \"sizeof\", \"snmp\", \"socket\", \"someth\", \"someth\", \"someth\", \"someth\", \"someth\", \"someth\", \"someth\", \"span\", \"springframework\", \"sql\", \"ssl\", \"standard\", \"standard\", \"standard\", \"standard\", \"standard\", \"standard\", \"standard\", \"static\", \"static\", \"static\", \"static\", \"static\", \"static\", \"std\", \"std\", \"string\", \"string\", \"string\", \"string\", \"string\", \"studio\", \"studio\", \"studio\", \"style\", \"style\", \"stylesheet\", \"sun\", \"svg\", \"syntaxerror\", \"system\", \"system\", \"system\", \"system\", \"system\", \"system\", \"system\", \"tabl\", \"tabl\", \"tableview\", \"td\", \"tensorflow\", \"test\", \"test\", \"test\", \"test\", \"test\", \"test\", \"test\", \"test\", \"text\", \"text\", \"text\", \"text\", \"text\", \"text\", \"th\", \"thing\", \"thing\", \"thing\", \"thing\", \"thing\", \"thing\", \"thing\", \"think\", \"think\", \"think\", \"think\", \"think\", \"think\", \"think\", \"threadpoolexecutor\", \"throw\", \"throw\", \"throw\", \"throw\", \"throw\", \"throw\", \"time\", \"time\", \"time\", \"time\", \"time\", \"time\", \"time\", \"time\", \"timestamp\", \"timezon\", \"toast\", \"toggl\", \"toolbar\", \"tostr\", \"tostr\", \"tostr\", \"tostr\", \"tostr\", \"train\", \"tri\", \"tri\", \"tri\", \"tri\", \"tri\", \"tri\", \"tri\", \"tri\", \"ts\", \"ts\", \"txt\", \"txt\", \"type\", \"type\", \"type\", \"type\", \"type\", \"type\", \"type\", \"type\", \"typenam\", \"typeof\", \"u\", \"u\", \"u\", \"u\", \"uiview\", \"ul\", \"underscor\", \"understand\", \"understand\", \"understand\", \"understand\", \"understand\", \"understand\", \"understand\", \"unsort\", \"uri\", \"url\", \"url\", \"url\", \"use\", \"use\", \"use\", \"use\", \"use\", \"use\", \"use\", \"user\", \"user\", \"user\", \"user\", \"user\", \"user\", \"usr\", \"utc\", \"util\", \"util\", \"util\", \"util\", \"util\", \"v7\", \"valu\", \"valu\", \"valu\", \"valu\", \"valu\", \"valueerror\", \"var\", \"var\", \"var\", \"var\", \"var\", \"var\", \"var\", \"varchar\", \"variabl\", \"variabl\", \"variabl\", \"variabl\", \"variabl\", \"variabl\", \"vector\", \"vector\", \"version\", \"version\", \"version\", \"version\", \"version\", \"version\", \"version\", \"version\", \"vertic\", \"view\", \"view\", \"view\", \"viewgroup\", \"virtualenv\", \"void\", \"void\", \"void\", \"void\", \"vs\", \"vs\", \"vs\", \"vs\", \"vs\", \"vs\", \"want\", \"want\", \"want\", \"want\", \"want\", \"want\", \"want\", \"way\", \"way\", \"way\", \"way\", \"way\", \"way\", \"way\", \"web\", \"web\", \"web\", \"web\", \"web\", \"web\", \"webpack\", \"weight\", \"wheel\", \"width\", \"window\", \"window\", \"window\", \"window\", \"window\", \"wonder\", \"wonder\", \"wonder\", \"wonder\", \"wonder\", \"wonder\", \"wonder\", \"work\", \"work\", \"work\", \"work\", \"work\", \"work\", \"work\", \"would\", \"would\", \"would\", \"would\", \"would\", \"would\", \"would\", \"writelin\", \"x\", \"x\", \"x\", \"x\", \"x\", \"x\", \"xcode\", \"xcode\", \"yyyi\", \"zygoteinit\"]}, \"R\": 30, \"lambda.step\": 0.01, \"plot.opts\": {\"xlab\": \"PC1\", \"ylab\": \"PC2\"}, \"topic.order\": [2, 6, 3, 4, 1, 8, 7, 5]};\n",
       "\n",
       "function LDAvis_load_lib(url, callback){\n",
       "  var s = document.createElement('script');\n",
       "  s.src = url;\n",
       "  s.async = true;\n",
       "  s.onreadystatechange = s.onload = callback;\n",
       "  s.onerror = function(){console.warn(\"failed to load library \" + url);};\n",
       "  document.getElementsByTagName(\"head\")[0].appendChild(s);\n",
       "}\n",
       "\n",
       "if(typeof(LDAvis) !== \"undefined\"){\n",
       "   // already loaded: just create the visualization\n",
       "   !function(LDAvis){\n",
       "       new LDAvis(\"#\" + \"ldavis_el1175216373085196964153932853\", ldavis_el1175216373085196964153932853_data);\n",
       "   }(LDAvis);\n",
       "}else if(typeof define === \"function\" && define.amd){\n",
       "   // require.js is available: use it to load d3/LDAvis\n",
       "   require.config({paths: {d3: \"https://d3js.org/d3.v5\"}});\n",
       "   require([\"d3\"], function(d3){\n",
       "      window.d3 = d3;\n",
       "      LDAvis_load_lib(\"https://cdn.jsdelivr.net/gh/bmabey/pyLDAvis@3.3.1/pyLDAvis/js/ldavis.v3.0.0.js\", function(){\n",
       "        new LDAvis(\"#\" + \"ldavis_el1175216373085196964153932853\", ldavis_el1175216373085196964153932853_data);\n",
       "      });\n",
       "    });\n",
       "}else{\n",
       "    // require.js not available: dynamically load d3 & LDAvis\n",
       "    LDAvis_load_lib(\"https://d3js.org/d3.v5.js\", function(){\n",
       "         LDAvis_load_lib(\"https://cdn.jsdelivr.net/gh/bmabey/pyLDAvis@3.3.1/pyLDAvis/js/ldavis.v3.0.0.js\", function(){\n",
       "                 new LDAvis(\"#\" + \"ldavis_el1175216373085196964153932853\", ldavis_el1175216373085196964153932853_data);\n",
       "            })\n",
       "         });\n",
       "}\n",
       "</script>"
      ],
      "text/plain": [
       "PreparedData(topic_coordinates=              x         y  topics  cluster       Freq\n",
       "topic                                                \n",
       "1     -0.144644  0.013703       1        1  22.023250\n",
       "5     -0.015393 -0.137027       2        1  14.941956\n",
       "2     -0.037702 -0.215920       3        1  13.561170\n",
       "3     -0.132657 -0.061813       4        1  12.403447\n",
       "0     -0.080425  0.094596       5        1  11.629493\n",
       "7     -0.113901  0.116398       6        1  10.660229\n",
       "6      0.122258  0.257295       7        1   9.261057\n",
       "4      0.402464 -0.067232       8        1   5.519398, topic_info=         Term          Freq         Total Category  logprob  loglift\n",
       "32          0  34152.000000  34152.000000  Default  30.0000  30.0000\n",
       "4126  android  25176.000000  25176.000000  Default  29.0000  29.0000\n",
       "155         1  31878.000000  31878.000000  Default  28.0000  28.0000\n",
       "550      java  16779.000000  16779.000000  Default  27.0000  27.0000\n",
       "293      file  21691.000000  21691.000000  Default  26.0000  26.0000\n",
       "...       ...           ...           ...      ...      ...      ...\n",
       "788        10   1150.457917   5649.378315   Topic8  -5.1592   1.3055\n",
       "2597     self   1070.375393   4834.484636   Topic8  -5.2313   1.3891\n",
       "1017     core   1006.592446   3259.144215   Topic8  -5.2928   1.7220\n",
       "375       run   1055.722191  11625.253059   Topic8  -5.2451   0.4979\n",
       "567    method    955.435497  10972.533280   Topic8  -5.3449   0.4559\n",
       "\n",
       "[577 rows x 6 columns], token_table=       Topic      Freq        Term\n",
       "term                              \n",
       "147        1  0.081033           #\n",
       "147        2  0.418611           #\n",
       "147        4  0.082779           #\n",
       "147        6  0.118580           #\n",
       "147        7  0.299157           #\n",
       "...      ...       ...         ...\n",
       "260        7  0.758833           x\n",
       "2586       3  0.960367       xcode\n",
       "2586       7  0.039400       xcode\n",
       "3157       6  0.997321        yyyi\n",
       "11286      8  0.999357  zygoteinit\n",
       "\n",
       "[1513 rows x 3 columns], R=30, lambda_step=0.01, plot_opts={'xlab': 'PC1', 'ylab': 'PC2'}, topic_order=[2, 6, 3, 4, 1, 8, 7, 5])"
      ]
     },
     "execution_count": 55,
     "metadata": {},
     "output_type": "execute_result"
    }
   ],
   "source": [
    "vis"
   ]
  },
  {
   "cell_type": "markdown",
   "metadata": {},
   "source": [
    "# Utiliser une approche supervisée"
   ]
  },
  {
   "cell_type": "code",
   "execution_count": 56,
   "metadata": {},
   "outputs": [],
   "source": [
    "df=df.reset_index()\n",
    "df=df.drop(['index'],axis=1)"
   ]
  },
  {
   "cell_type": "code",
   "execution_count": 57,
   "metadata": {},
   "outputs": [],
   "source": [
    "X = df[\"Document\"].apply(lambda x: ' '.join(x))\n",
    "y = df[\"Tags\"]"
   ]
  },
  {
   "cell_type": "raw",
   "metadata": {},
   "source": [
    "# from collections import Counter\n",
    "Counter(all_tags)"
   ]
  },
  {
   "cell_type": "code",
   "execution_count": 58,
   "metadata": {},
   "outputs": [],
   "source": [
    "multilabel_binarizer = MultiLabelBinarizer()\n",
    "y = multilabel_binarizer.fit_transform(y)"
   ]
  },
  {
   "cell_type": "code",
   "execution_count": 59,
   "metadata": {},
   "outputs": [],
   "source": [
    "tfidf_vectorizer = TfidfVectorizer(\n",
    "    max_df=.8,\n",
    "    min_df=5,\n",
    "    max_features=20000,\n",
    "    ngram_range=(1, 1)\n",
    ")\n",
    "X= tfidf_vectorizer.fit_transform(X)"
   ]
  },
  {
   "cell_type": "code",
   "execution_count": 60,
   "metadata": {},
   "outputs": [
    {
     "data": {
      "text/plain": [
       "array(['.net', 'android', 'angular', 'angularjs', 'arrays', 'asp.net',\n",
       "       'asp.net-mvc', 'bash', 'c', 'c#', 'c++', 'css', 'database',\n",
       "       'django', 'eclipse', 'git', 'github', 'html', 'ios', 'iphone',\n",
       "       'java', 'javascript', 'jquery', 'json', 'linux', 'list', 'macos',\n",
       "       'mysql', 'node.js', 'objective-c', 'pandas', 'performance', 'php',\n",
       "       'python', 'r', 'reactjs', 'regex', 'ruby', 'ruby-on-rails',\n",
       "       'shell', 'sql', 'sql-server', 'string', 'swift', 'visual-studio',\n",
       "       'windows', 'xcode'], dtype=object)"
      ]
     },
     "execution_count": 60,
     "metadata": {},
     "output_type": "execute_result"
    }
   ],
   "source": [
    "multilabel_binarizer.classes_"
   ]
  },
  {
   "cell_type": "code",
   "execution_count": 61,
   "metadata": {},
   "outputs": [],
   "source": [
    "X_train, X_test, y_train, y_test = train_test_split(X, y, test_size=0.2)"
   ]
  },
  {
   "cell_type": "code",
   "execution_count": 62,
   "metadata": {},
   "outputs": [],
   "source": [
    "svc = LinearSVC(random_state=0)\n",
    "forest = RandomForestClassifier(random_state=0)\n",
    "perceptron = Perceptron(random_state=0)\n",
    "lr = LogisticRegression(random_state=0)\n",
    "sgd = SGDClassifier(random_state=0)\n",
    "gbc=GradientBoostingClassifier(random_state=0)"
   ]
  },
  {
   "cell_type": "code",
   "execution_count": 63,
   "metadata": {},
   "outputs": [
    {
     "data": {
      "text/plain": [
       "array([0, 0, 0, 0, 0, 0, 0, 0, 0, 0, 0, 0, 0, 0, 0, 0, 0, 0, 0, 0, 0, 0,\n",
       "       0, 0, 0, 0, 0, 0, 1, 0, 0, 0, 0, 0, 0, 0, 0, 0, 0, 0, 0, 0, 0, 0,\n",
       "       0, 0, 0])"
      ]
     },
     "execution_count": 63,
     "metadata": {},
     "output_type": "execute_result"
    }
   ],
   "source": [
    "y_train[1]"
   ]
  },
  {
   "cell_type": "code",
   "execution_count": 64,
   "metadata": {},
   "outputs": [],
   "source": [
    "classifier=[svc,forest,perceptron,lr,sgd,gbc]"
   ]
  },
  {
   "cell_type": "code",
   "execution_count": 65,
   "metadata": {},
   "outputs": [],
   "source": [
    "results = pd.DataFrame({})\n",
    "def errors(name,model,X_train, y_train,X_test,y_test):\n",
    "    global results\n",
    "    clf = MultiOutputClassifier(model)\n",
    "    clf.fit(X_train, y_train)\n",
    "    y_pred = clf.predict(X_test)\n",
    "    results = results.append(pd.DataFrame({\n",
    "        'Modèle': [name],\n",
    "        'Hamming_loss':hamming_loss(y_pred, y_test),\n",
    "        'Jaccard_score':jaccard_score(y_pred, y_test,average='macro')*100,\n",
    "        'Accuracy_score':accuracy_score(y_pred, y_test),\n",
    "        'Macro_f1_score':f1_score(y_test, y_pred,average='macro'),\n",
    "        'Micro_f1_score':f1_score(y_test, y_pred,average='micro')}),ignore_index=True)"
   ]
  },
  {
   "cell_type": "code",
   "execution_count": 66,
   "metadata": {},
   "outputs": [],
   "source": [
    "for i in classifier:\n",
    "    errors(str(i),i,X_train, y_train,X_test,y_test)"
   ]
  },
  {
   "cell_type": "code",
   "execution_count": 67,
   "metadata": {},
   "outputs": [
    {
     "data": {
      "text/html": [
       "<div>\n",
       "<style scoped>\n",
       "    .dataframe tbody tr th:only-of-type {\n",
       "        vertical-align: middle;\n",
       "    }\n",
       "\n",
       "    .dataframe tbody tr th {\n",
       "        vertical-align: top;\n",
       "    }\n",
       "\n",
       "    .dataframe thead th {\n",
       "        text-align: right;\n",
       "    }\n",
       "</style>\n",
       "<table border=\"1\" class=\"dataframe\">\n",
       "  <thead>\n",
       "    <tr style=\"text-align: right;\">\n",
       "      <th></th>\n",
       "      <th>Modèle</th>\n",
       "      <th>Hamming_loss</th>\n",
       "      <th>Jaccard_score</th>\n",
       "      <th>Accuracy_score</th>\n",
       "      <th>Macro_f1_score</th>\n",
       "      <th>Micro_f1_score</th>\n",
       "    </tr>\n",
       "  </thead>\n",
       "  <tbody>\n",
       "    <tr>\n",
       "      <th>0</th>\n",
       "      <td>LinearSVC(random_state=0)</td>\n",
       "      <td>0.013872</td>\n",
       "      <td>54.184744</td>\n",
       "      <td>0.517808</td>\n",
       "      <td>0.678776</td>\n",
       "      <td>0.735347</td>\n",
       "    </tr>\n",
       "    <tr>\n",
       "      <th>1</th>\n",
       "      <td>RandomForestClassifier(random_state=0)</td>\n",
       "      <td>0.016878</td>\n",
       "      <td>34.853603</td>\n",
       "      <td>0.423717</td>\n",
       "      <td>0.460438</td>\n",
       "      <td>0.627284</td>\n",
       "    </tr>\n",
       "    <tr>\n",
       "      <th>2</th>\n",
       "      <td>Perceptron()</td>\n",
       "      <td>0.019312</td>\n",
       "      <td>48.549593</td>\n",
       "      <td>0.431166</td>\n",
       "      <td>0.630956</td>\n",
       "      <td>0.673111</td>\n",
       "    </tr>\n",
       "    <tr>\n",
       "      <th>3</th>\n",
       "      <td>LogisticRegression(random_state=0)</td>\n",
       "      <td>0.016417</td>\n",
       "      <td>42.432124</td>\n",
       "      <td>0.430248</td>\n",
       "      <td>0.568753</td>\n",
       "      <td>0.655300</td>\n",
       "    </tr>\n",
       "    <tr>\n",
       "      <th>4</th>\n",
       "      <td>SGDClassifier(random_state=0)</td>\n",
       "      <td>0.015694</td>\n",
       "      <td>44.519150</td>\n",
       "      <td>0.451475</td>\n",
       "      <td>0.572157</td>\n",
       "      <td>0.671036</td>\n",
       "    </tr>\n",
       "    <tr>\n",
       "      <th>5</th>\n",
       "      <td>GradientBoostingClassifier(random_state=0)</td>\n",
       "      <td>0.016113</td>\n",
       "      <td>50.667718</td>\n",
       "      <td>0.452903</td>\n",
       "      <td>0.643468</td>\n",
       "      <td>0.691550</td>\n",
       "    </tr>\n",
       "  </tbody>\n",
       "</table>\n",
       "</div>"
      ],
      "text/plain": [
       "                                       Modèle  Hamming_loss  Jaccard_score  \\\n",
       "0                   LinearSVC(random_state=0)      0.013872      54.184744   \n",
       "1      RandomForestClassifier(random_state=0)      0.016878      34.853603   \n",
       "2                                Perceptron()      0.019312      48.549593   \n",
       "3          LogisticRegression(random_state=0)      0.016417      42.432124   \n",
       "4               SGDClassifier(random_state=0)      0.015694      44.519150   \n",
       "5  GradientBoostingClassifier(random_state=0)      0.016113      50.667718   \n",
       "\n",
       "   Accuracy_score  Macro_f1_score  Micro_f1_score  \n",
       "0        0.517808        0.678776        0.735347  \n",
       "1        0.423717        0.460438        0.627284  \n",
       "2        0.431166        0.630956        0.673111  \n",
       "3        0.430248        0.568753        0.655300  \n",
       "4        0.451475        0.572157        0.671036  \n",
       "5        0.452903        0.643468        0.691550  "
      ]
     },
     "execution_count": 67,
     "metadata": {},
     "output_type": "execute_result"
    }
   ],
   "source": [
    "results"
   ]
  },
  {
   "cell_type": "code",
   "execution_count": 68,
   "metadata": {},
   "outputs": [
    {
     "name": "stderr",
     "output_type": "stream",
     "text": [
      "C:\\Users\\thiba\\anaconda3\\lib\\site-packages\\sklearn\\svm\\_base.py:976: ConvergenceWarning: Liblinear failed to converge, increase the number of iterations.\n",
      "  warnings.warn(\"Liblinear failed to converge, increase \"\n",
      "C:\\Users\\thiba\\anaconda3\\lib\\site-packages\\sklearn\\svm\\_base.py:976: ConvergenceWarning: Liblinear failed to converge, increase the number of iterations.\n",
      "  warnings.warn(\"Liblinear failed to converge, increase \"\n",
      "C:\\Users\\thiba\\anaconda3\\lib\\site-packages\\sklearn\\svm\\_base.py:976: ConvergenceWarning: Liblinear failed to converge, increase the number of iterations.\n",
      "  warnings.warn(\"Liblinear failed to converge, increase \"\n"
     ]
    },
    {
     "name": "stdout",
     "output_type": "stream",
     "text": [
      "Accuracy Score:  0.5178079395856721\n",
      "done in 519.909s.\n"
     ]
    },
    {
     "data": {
      "text/plain": [
       "Pipeline(steps=[('clf', MultiOutputClassifier(estimator=LinearSVC(C=1)))])"
      ]
     },
     "execution_count": 68,
     "metadata": {},
     "output_type": "execute_result"
    }
   ],
   "source": [
    "t0 = time()\n",
    "pipeline = Pipeline([('clf', MultiOutputClassifier(LinearSVC()))])\n",
    "parameters = {\n",
    "     \"clf__estimator__C\": np.arange(1,20,2),     \n",
    "     \"clf__estimator__max_iter\":[1000, 10000, 20000]\n",
    "}\n",
    "\n",
    "model_tunning = GridSearchCV(pipeline, parameters, cv=3, scoring='accuracy')\n",
    "model_tunning.fit(X_train, y_train)\n",
    "\n",
    "print (\"Accuracy Score: \", accuracy_score(y_test, model_tunning.best_estimator_.predict(X_test)))\n",
    "print(\"done in %0.3fs.\" % (time() - t0))\n",
    "model_tunning.best_estimator_"
   ]
  },
  {
   "cell_type": "code",
   "execution_count": 69,
   "metadata": {},
   "outputs": [
    {
     "data": {
      "text/plain": [
       "{'clf__estimator__C': 1, 'clf__estimator__max_iter': 1000}"
      ]
     },
     "execution_count": 69,
     "metadata": {},
     "output_type": "execute_result"
    }
   ],
   "source": [
    "model_tunning.best_params_"
   ]
  },
  {
   "cell_type": "code",
   "execution_count": 70,
   "metadata": {},
   "outputs": [
    {
     "data": {
      "text/plain": [
       "54.18474414746859"
      ]
     },
     "execution_count": 70,
     "metadata": {},
     "output_type": "execute_result"
    }
   ],
   "source": [
    "jaccard_score( model_tunning.best_estimator_.predict(X_test),y_test,average='macro')*100"
   ]
  },
  {
   "cell_type": "code",
   "execution_count": 71,
   "metadata": {},
   "outputs": [],
   "source": [
    "def errors_grid(name,X_train, y_train,X_test,y_test):\n",
    "    global results\n",
    "    model=LinearSVC(C=1, max_iter=1000)\n",
    "    clf = MultiOutputClassifier(model)\n",
    "    clf.fit(X_train, y_train)\n",
    "    y_pred = clf.predict(X_test)\n",
    "    results = results.append(pd.DataFrame({\n",
    "        'Modèle': [name],\n",
    "        'Hamming_loss':hamming_loss(y_pred, y_test),\n",
    "        'Jaccard_score':jaccard_score(y_pred, y_test,average='macro')*100,\n",
    "        'Accuracy_score':accuracy_score(y_pred, y_test),\n",
    "        'Macro_f1_score':f1_score(y_test, y_pred,average='macro'),\n",
    "        'Micro_f1_score':f1_score(y_test, y_pred,average='micro')}),ignore_index=True)"
   ]
  },
  {
   "cell_type": "code",
   "execution_count": 72,
   "metadata": {},
   "outputs": [],
   "source": [
    "errors_grid('LinearSVC(C=1, max_iter=1000)',X_train, y_train,X_test,y_test)"
   ]
  },
  {
   "cell_type": "code",
   "execution_count": 73,
   "metadata": {},
   "outputs": [
    {
     "data": {
      "text/html": [
       "<div>\n",
       "<style scoped>\n",
       "    .dataframe tbody tr th:only-of-type {\n",
       "        vertical-align: middle;\n",
       "    }\n",
       "\n",
       "    .dataframe tbody tr th {\n",
       "        vertical-align: top;\n",
       "    }\n",
       "\n",
       "    .dataframe thead th {\n",
       "        text-align: right;\n",
       "    }\n",
       "</style>\n",
       "<table border=\"1\" class=\"dataframe\">\n",
       "  <thead>\n",
       "    <tr style=\"text-align: right;\">\n",
       "      <th></th>\n",
       "      <th>Modèle</th>\n",
       "      <th>Hamming_loss</th>\n",
       "      <th>Jaccard_score</th>\n",
       "      <th>Accuracy_score</th>\n",
       "      <th>Macro_f1_score</th>\n",
       "      <th>Micro_f1_score</th>\n",
       "    </tr>\n",
       "  </thead>\n",
       "  <tbody>\n",
       "    <tr>\n",
       "      <th>0</th>\n",
       "      <td>LinearSVC(random_state=0)</td>\n",
       "      <td>0.013872</td>\n",
       "      <td>54.184744</td>\n",
       "      <td>0.517808</td>\n",
       "      <td>0.678776</td>\n",
       "      <td>0.735347</td>\n",
       "    </tr>\n",
       "    <tr>\n",
       "      <th>1</th>\n",
       "      <td>RandomForestClassifier(random_state=0)</td>\n",
       "      <td>0.016878</td>\n",
       "      <td>34.853603</td>\n",
       "      <td>0.423717</td>\n",
       "      <td>0.460438</td>\n",
       "      <td>0.627284</td>\n",
       "    </tr>\n",
       "    <tr>\n",
       "      <th>2</th>\n",
       "      <td>Perceptron()</td>\n",
       "      <td>0.019312</td>\n",
       "      <td>48.549593</td>\n",
       "      <td>0.431166</td>\n",
       "      <td>0.630956</td>\n",
       "      <td>0.673111</td>\n",
       "    </tr>\n",
       "    <tr>\n",
       "      <th>3</th>\n",
       "      <td>LogisticRegression(random_state=0)</td>\n",
       "      <td>0.016417</td>\n",
       "      <td>42.432124</td>\n",
       "      <td>0.430248</td>\n",
       "      <td>0.568753</td>\n",
       "      <td>0.655300</td>\n",
       "    </tr>\n",
       "    <tr>\n",
       "      <th>4</th>\n",
       "      <td>SGDClassifier(random_state=0)</td>\n",
       "      <td>0.015694</td>\n",
       "      <td>44.519150</td>\n",
       "      <td>0.451475</td>\n",
       "      <td>0.572157</td>\n",
       "      <td>0.671036</td>\n",
       "    </tr>\n",
       "    <tr>\n",
       "      <th>5</th>\n",
       "      <td>GradientBoostingClassifier(random_state=0)</td>\n",
       "      <td>0.016113</td>\n",
       "      <td>50.667718</td>\n",
       "      <td>0.452903</td>\n",
       "      <td>0.643468</td>\n",
       "      <td>0.691550</td>\n",
       "    </tr>\n",
       "    <tr>\n",
       "      <th>6</th>\n",
       "      <td>LinearSVC(C=1, max_iter=1000)</td>\n",
       "      <td>0.013872</td>\n",
       "      <td>54.184744</td>\n",
       "      <td>0.517808</td>\n",
       "      <td>0.678776</td>\n",
       "      <td>0.735347</td>\n",
       "    </tr>\n",
       "  </tbody>\n",
       "</table>\n",
       "</div>"
      ],
      "text/plain": [
       "                                       Modèle  Hamming_loss  Jaccard_score  \\\n",
       "0                   LinearSVC(random_state=0)      0.013872      54.184744   \n",
       "1      RandomForestClassifier(random_state=0)      0.016878      34.853603   \n",
       "2                                Perceptron()      0.019312      48.549593   \n",
       "3          LogisticRegression(random_state=0)      0.016417      42.432124   \n",
       "4               SGDClassifier(random_state=0)      0.015694      44.519150   \n",
       "5  GradientBoostingClassifier(random_state=0)      0.016113      50.667718   \n",
       "6               LinearSVC(C=1, max_iter=1000)      0.013872      54.184744   \n",
       "\n",
       "   Accuracy_score  Macro_f1_score  Micro_f1_score  \n",
       "0        0.517808        0.678776        0.735347  \n",
       "1        0.423717        0.460438        0.627284  \n",
       "2        0.431166        0.630956        0.673111  \n",
       "3        0.430248        0.568753        0.655300  \n",
       "4        0.451475        0.572157        0.671036  \n",
       "5        0.452903        0.643468        0.691550  \n",
       "6        0.517808        0.678776        0.735347  "
      ]
     },
     "execution_count": 73,
     "metadata": {},
     "output_type": "execute_result"
    }
   ],
   "source": [
    "results"
   ]
  },
  {
   "cell_type": "code",
   "execution_count": 74,
   "metadata": {},
   "outputs": [],
   "source": [
    "clf=OneVsRestClassifier(LinearSVC(C=1,max_iter=1000)).fit(X_train, y_train)"
   ]
  },
  {
   "cell_type": "code",
   "execution_count": 90,
   "metadata": {},
   "outputs": [],
   "source": [
    "import pickle\n",
    "pickle.dump(clf, open('API/model.pkl', 'wb'))\n",
    "pickle.dump(tfidf_vectorizer, open('API/tfidf_vectorizer.pkl', 'wb'))\n",
    "pickle.dump(multilabel_binarizer, open('API/multilabel_binarizer.pkl', 'wb'))"
   ]
  },
  {
   "cell_type": "code",
   "execution_count": null,
   "metadata": {},
   "outputs": [],
   "source": []
  }
 ],
 "metadata": {
  "kernelspec": {
   "display_name": "Python 3",
   "language": "python",
   "name": "python3"
  },
  "language_info": {
   "codemirror_mode": {
    "name": "ipython",
    "version": 3
   },
   "file_extension": ".py",
   "mimetype": "text/x-python",
   "name": "python",
   "nbconvert_exporter": "python",
   "pygments_lexer": "ipython3",
   "version": "3.8.5"
  }
 },
 "nbformat": 4,
 "nbformat_minor": 4
}
