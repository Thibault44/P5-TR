{
 "cells": [
  {
   "cell_type": "code",
   "execution_count": 1,
   "metadata": {},
   "outputs": [
    {
     "name": "stdout",
     "output_type": "stream",
     "text": [
      " * Serving Flask app \"__main__\" (lazy loading)\n",
      " * Environment: production\n",
      "   WARNING: This is a development server. Do not use it in a production deployment.\n",
      "   Use a production WSGI server instead.\n",
      " * Debug mode: off\n"
     ]
    },
    {
     "name": "stderr",
     "output_type": "stream",
     "text": [
      " * Running on http://127.0.0.1:5000/ (Press CTRL+C to quit)\n",
      "127.0.0.1 - - [22/Apr/2021 15:38:24] \"\u001b[37mGET / HTTP/1.1\u001b[0m\" 200 -\n",
      "127.0.0.1 - - [22/Apr/2021 15:38:29] \"\u001b[37mPOST / HTTP/1.1\u001b[0m\" 200 -\n",
      "127.0.0.1 - - [22/Apr/2021 16:08:00] \"\u001b[37mGET / HTTP/1.1\u001b[0m\" 200 -\n"
     ]
    }
   ],
   "source": [
    "from flask import Flask\n",
    "from flask import request\n",
    "from flask import render_template\n",
    "import numpy as np\n",
    "#Preprocecing\n",
    "from nltk.corpus import stopwords\n",
    "import nltk\n",
    "import collections\n",
    "import re\n",
    "from bs4 import BeautifulSoup\n",
    "\n",
    "import pickle\n",
    "\n",
    "app = Flask(__name__)\n",
    "\n",
    "#fontion de 'tokenization' pour df.Title et df.Body\n",
    "def token(text):\n",
    "    text=re.sub('[^a-zA-Z0-9#+]', ' ',BeautifulSoup(text, \"lxml\").get_text() ).lower().split()\n",
    "    return text\n",
    "\n",
    "stop = stopwords.words('english')\n",
    "#fontion pour le 'stemming' et le suppression des stopwords pour df.Title et df.Body\n",
    "sno = nltk.stem.SnowballStemmer('english')\n",
    "\n",
    "def stemmer(s):\n",
    "    s = [sno.stem(word) for word in s if word not in (stop)]\n",
    "    return s\n",
    "\n",
    "@app.route('/')\n",
    "def home():\n",
    "    return render_template(\"home.html\",)\n",
    "\n",
    "@app.route('/', methods=['POST'])\n",
    "def text_box():\n",
    "    text = request.form['text']\n",
    "    processed_text = ', '.join(stemmer(token(text)))\n",
    "    text=tfidf_vectorizer.transform([text])\n",
    "    topic_probabitity_scores = clf.decision_function(text)\n",
    "    text=multilabel_binarizer.classes_[np.argsort(topic_probabitity_scores)[:, :-(3+1): -1]]\n",
    "    return render_template(\"seconde_page.html\" , message = text[0])\n",
    "\n",
    "if __name__ == '__main__':\n",
    "    clf = pickle.load(open('model.pkl', 'rb'))\n",
    "    tfidf_vectorizer = pickle.load(open('tfidf_vectorizer.pkl', 'rb'))\n",
    "    multilabel_binarizer = pickle.load(open('multilabel_binarizer.pkl', 'rb'))\n",
    "    app.run()"
   ]
  },
  {
   "cell_type": "code",
   "execution_count": null,
   "metadata": {},
   "outputs": [],
   "source": []
  }
 ],
 "metadata": {
  "kernelspec": {
   "display_name": "Python 3",
   "language": "python",
   "name": "python3"
  },
  "language_info": {
   "codemirror_mode": {
    "name": "ipython",
    "version": 3
   },
   "file_extension": ".py",
   "mimetype": "text/x-python",
   "name": "python",
   "nbconvert_exporter": "python",
   "pygments_lexer": "ipython3",
   "version": "3.8.5"
  }
 },
 "nbformat": 4,
 "nbformat_minor": 4
}
